{
 "cells": [
  {
   "cell_type": "code",
   "execution_count": 1,
   "metadata": {},
   "outputs": [],
   "source": [
    "%matplotlib inline"
   ]
  },
  {
   "cell_type": "code",
   "execution_count": 2,
   "metadata": {
    "autoscroll": false,
    "ein.hycell": false,
    "ein.tags": "worksheet-0",
    "scrolled": true,
    "slideshow": {
     "slide_type": "-"
    }
   },
   "outputs": [
    {
     "name": "stderr",
     "output_type": "stream",
     "text": [
      "100%|██████████| 224/224 [00:00<00:00, 45730.06it/s]\n",
      "100%|██████████| 1/1 [00:00<00:00, 2150.93it/s]\n",
      "100%|██████████| 1/1 [00:00<00:00, 3153.61it/s]\n"
     ]
    }
   ],
   "source": [
    "from neural_semigroups.training_helpers import load_database_as_cubes\n",
    "\n",
    "train, _, _, train_labels, _, _ = load_database_as_cubes(\n",
    "    \"databases/semigroup.3.npz\", 224, 1\n",
    ")"
   ]
  },
  {
   "cell_type": "code",
   "execution_count": 3,
   "metadata": {
    "autoscroll": false,
    "ein.hycell": false,
    "ein.tags": "worksheet-0",
    "scrolled": true,
    "slideshow": {
     "slide_type": "-"
    }
   },
   "outputs": [],
   "source": [
    "from neural_semigroups.cayley_database import CayleyDatabase\n",
    "\n",
    "cayley_database = CayleyDatabase()\n",
    "cayley_database.load_database(\"databases/semigroup.3.npz\")\n",
    "cayley_database.load_model(\"semigroups.3.model\")"
   ]
  },
  {
   "cell_type": "code",
   "execution_count": 34,
   "metadata": {
    "autoscroll": false,
    "ein.hycell": false,
    "ein.tags": "worksheet-0",
    "scrolled": true,
    "slideshow": {
     "slide_type": "-"
    }
   },
   "outputs": [
    {
     "data": {
      "text/plain": [
       "(224, 2)"
      ]
     },
     "execution_count": 34,
     "metadata": {},
     "output_type": "execute_result"
    }
   ],
   "source": [
    "import torch\n",
    "\n",
    "embeddings = cayley_database.model.hidden_layers(\n",
    "    torch.from_numpy(train).view(-1, 27)\n",
    ").detach().numpy()\n",
    "embeddings.shape"
   ]
  },
  {
   "cell_type": "code",
   "execution_count": 35,
   "metadata": {
    "autoscroll": false,
    "ein.hycell": false,
    "ein.tags": "worksheet-0",
    "slideshow": {
     "slide_type": "-"
    }
   },
   "outputs": [],
   "source": [
    "from sklearn.manifold import TSNE\n",
    "\n",
    "tsne_embeddings = embeddings # TSNE().fit_transform(embeddings)"
   ]
  },
  {
   "cell_type": "code",
   "execution_count": 36,
   "metadata": {},
   "outputs": [
    {
     "data": {
      "image/png": "[encoded data removed]",
      "text/plain": [
       "<Figure size 720x720 with 1 Axes>"
      ]
     },
     "metadata": {
      "needs_background": "light"
     },
     "output_type": "display_data"
    }
   ],
   "source": [
    "import numpy as np\n",
    "from matplotlib import pyplot as plt\n",
    "import seaborn as sns\n",
    "\n",
    "plt.figure(figsize=(10, 10))\n",
    "plt.style.use([\"seaborn-notebook\"]) \n",
    "sns.scatterplot(\n",
    "    x=tsne_embeddings[:, 0],\n",
    "    y=tsne_embeddings[:, 1],\n",
    "    hue=np.where(train_labels, \"associative\", \"non associative\"),\n",
    "    palette=sns.color_palette(\"muted\", n_colors=2)\n",
    ")\n",
    "plt.show()"
   ]
  },
  {
   "cell_type": "code",
   "execution_count": 37,
   "metadata": {},
   "outputs": [],
   "source": [
    "cayley_database.load_smallsemi_database(\"smallsemi/data3.gl\")"
   ]
  },
  {
   "cell_type": "code",
   "execution_count": 38,
   "metadata": {},
   "outputs": [
    {
     "name": "stdout",
     "output_type": "stream",
     "text": [
      "18\n"
     ]
    }
   ],
   "source": [
    "total_labels = len(cayley_database.database)\n",
    "print(total_labels)"
   ]
  },
  {
   "cell_type": "code",
   "execution_count": 39,
   "metadata": {},
   "outputs": [],
   "source": [
    "from neural_semigroups.magma import Magma\n",
    "from neural_semigroups.utils import get_equivalent_magmas\n",
    "\n",
    "labels = list()\n",
    "augmented_tables = list()\n",
    "for label, cayley_table in enumerate(cayley_database.database):\n",
    "    for table in get_equivalent_magmas(cayley_table):\n",
    "        augmented_tables.append(Magma(table).probabilistic_cube)\n",
    "        labels.append(label)"
   ]
  },
  {
   "cell_type": "code",
   "execution_count": 40,
   "metadata": {},
   "outputs": [
    {
     "data": {
      "text/plain": [
       "(113, 2)"
      ]
     },
     "execution_count": 40,
     "metadata": {},
     "output_type": "execute_result"
    }
   ],
   "source": [
    "embeddings = cayley_database.model.hidden_layers(\n",
    "    torch.from_numpy(np.stack(augmented_tables)).view(-1, 27)\n",
    ").detach().numpy()\n",
    "embeddings.shape"
   ]
  },
  {
   "cell_type": "code",
   "execution_count": 41,
   "metadata": {},
   "outputs": [],
   "source": [
    "from sklearn.cluster import KMeans\n",
    "\n",
    "kmeans = KMeans(n_clusters=18).fit(embeddings)"
   ]
  },
  {
   "cell_type": "code",
   "execution_count": 42,
   "metadata": {},
   "outputs": [
    {
     "data": {
      "text/plain": [
       "array([ 1,  6, 10,  1,  4, 15, 15, 10, 17,  7, 11,  7,  7,  6,  6,  1, 10,\n",
       "        9,  1,  6,  1, 10, 14, 10, 12,  1, 10,  1, 10, 14, 10, 11, 17, 14,\n",
       "       16,  6, 10, 10,  1,  0, 10,  1,  1, 11, 13, 15,  1,  3, 14,  1,  5,\n",
       "       10,  8, 17, 16, 15, 15, 14,  8, 15, 10,  1, 17, 14, 15,  8,  6, 10,\n",
       "       14,  1, 14, 10, 17,  1, 15, 10, 12, 12, 11, 10, 14, 10, 15, 15, 15,\n",
       "       15, 14, 14,  1,  6, 12, 12, 10,  8,  1,  8, 12,  8, 10, 14, 10,  8,\n",
       "       10, 12,  8, 14,  6, 12, 10, 15,  2,  7,  7], dtype=int32)"
      ]
     },
     "execution_count": 42,
     "metadata": {},
     "output_type": "execute_result"
    }
   ],
   "source": [
    "kmeans.predict(embeddings)"
   ]
  },
  {
   "cell_type": "code",
   "execution_count": 43,
   "metadata": {},
   "outputs": [
    {
     "data": {
      "text/plain": [
       "array([ 0, -1,  1,  2, -1, -1,  3,  1,  4,  5, -1,  5,  5, -1, -1, -1,  6,\n",
       "       -1, -1, -1, -1,  1, -1,  7, -1,  2,  1, -1, -1, -1,  1, -1,  4, -1,\n",
       "       -1, -1,  8,  1,  0, -1,  1, -1,  0, -1, -1, -1, -1, -1, -1,  2, -1,\n",
       "        1, -1,  4, -1,  3, -1, -1, -1,  3,  6,  0,  4, -1,  3,  9, -1,  6,\n",
       "       10, -1, -1,  7,  4,  2, -1,  7, -1, -1, -1,  6, -1, -1,  3, -1,  3,\n",
       "        3, 10, 10, -1, -1, -1, -1, -1,  9, -1, -1, -1, -1, -1, -1,  8,  9,\n",
       "        1, -1, -1, 10, -1, -1,  8,  3, -1,  5,  5])"
      ]
     },
     "execution_count": 43,
     "metadata": {},
     "output_type": "execute_result"
    }
   ],
   "source": [
    "from sklearn.cluster import DBSCAN\n",
    "\n",
    "clustering = DBSCAN(eps=0.001, min_samples=3).fit(embeddings)\n",
    "clustering.labels_"
   ]
  },
  {
   "cell_type": "code",
   "execution_count": 17,
   "metadata": {},
   "outputs": [
    {
     "data": {
      "text/plain": [
       "array([ 0,  0,  0,  1,  1,  1,  1,  1,  1,  2,  2,  2,  2,  2,  2,  3,  3,\n",
       "        3,  3,  3,  3,  4,  4,  4,  4,  4,  4,  5,  5,  5,  5,  5,  5,  5,\n",
       "        5,  5,  5,  5,  5,  6,  6,  6,  6,  6,  6,  6,  6,  6,  6,  6,  6,\n",
       "        7,  7,  7,  7,  7,  7,  8,  8,  8,  8,  8,  8,  9,  9,  9,  9,  9,\n",
       "        9, 10, 10, 10, 10, 10, 10, 11, 11, 11, 12, 12, 12, 12, 12, 12, 12,\n",
       "       12, 12, 12, 12, 12, 13, 13, 13, 13, 13, 13, 14, 14, 14, 14, 14, 14,\n",
       "       15, 15, 15, 15, 15, 15, 16, 16, 17, 17, 17])"
      ]
     },
     "execution_count": 17,
     "metadata": {},
     "output_type": "execute_result"
    }
   ],
   "source": [
    "np.array(labels)"
   ]
  },
  {
   "cell_type": "code",
   "execution_count": 18,
   "metadata": {},
   "outputs": [],
   "source": [
    "tsne_embeddings = TSNE().fit_transform(embeddings)"
   ]
  },
  {
   "cell_type": "code",
   "execution_count": 23,
   "metadata": {},
   "outputs": [
    {
     "data": {
      "image/png": "[encoded data removed]",
      "text/plain": [
       "<Figure size 576x396 with 1 Axes>"
      ]
     },
     "metadata": {
      "needs_background": "light"
     },
     "output_type": "display_data"
    }
   ],
   "source": [
    "n = 15\n",
    "palette = sns.color_palette(\n",
    "    \"muted\",\n",
    "    n_colors=np.unique(labels[:n]).shape[0]\n",
    ")\n",
    "sns.set_palette(palette)\n",
    "sns.scatterplot(\n",
    "    x=tsne_embeddings[:, 0][:n],\n",
    "    y=tsne_embeddings[:, 1][:n],\n",
    "    hue=labels[:n],\n",
    "    palette=palette\n",
    ")\n",
    "plt.show()"
   ]
  },
  {
   "cell_type": "code",
   "execution_count": null,
   "metadata": {},
   "outputs": [],
   "source": []
  }
 ],
 "metadata": {
  "kernelspec": {
   "display_name": "Python 3",
   "language": "python",
   "name": "python3"
  },
  "language_info": {
   "codemirror_mode": {
    "name": "ipython",
    "version": 3
   },
   "file_extension": ".py",
   "mimetype": "text/x-python",
   "name": "python",
   "nbconvert_exporter": "python",
   "pygments_lexer": "ipython3",
   "version": "3.7.5"
  },
  "name": "Untitled.ipynb"
 },
 "nbformat": 4,
 "nbformat_minor": 4
}

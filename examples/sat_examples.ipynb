{
 "cells": [
  {
   "cell_type": "code",
   "execution_count": 1,
   "metadata": {},
   "outputs": [],
   "source": [
    "from torch.nn import Linear, Sequential, Sigmoid, Module, ReLU, Dropout\n",
    "from torch import Tensor\n",
    "from neural_semigroups.constants import CURRENT_DEVICE\n",
    "\n",
    "class SATClassifier(Module):\n",
    "    def __init__(self, cardinality: int):\n",
    "        super().__init__()\n",
    "        self.cardinality = cardinality\n",
    "        self.layers = Sequential(\n",
    "            Linear(cardinality ** 3, cardinality ** 3),\n",
    "            ReLU(),\n",
    "            Linear(cardinality ** 3, cardinality ** 3),\n",
    "            ReLU(),\n",
    "            Linear(cardinality ** 3, cardinality ** 2),\n",
    "            ReLU(),\n",
    "            Linear(cardinality ** 2, cardinality),\n",
    "            ReLU(),\n",
    "            Linear(cardinality, 2),\n",
    "            Sigmoid()\n",
    "        ).to(CURRENT_DEVICE)\n",
    "\n",
    "    def forward(self, x: Tensor):\n",
    "        return self.layers(x.view(-1, self.cardinality ** 3))\n",
    "\n",
    "model = SATClassifier(13)"
   ]
  },
  {
   "cell_type": "code",
   "execution_count": 2,
   "metadata": {},
   "outputs": [
    {
     "data": {
      "text/plain": [
       "SATClassifier(\n",
       "  (layers): Sequential(\n",
       "    (0): Linear(in_features=2197, out_features=2197, bias=True)\n",
       "    (1): ReLU()\n",
       "    (2): Linear(in_features=2197, out_features=2197, bias=True)\n",
       "    (3): ReLU()\n",
       "    (4): Linear(in_features=2197, out_features=169, bias=True)\n",
       "    (5): ReLU()\n",
       "    (6): Linear(in_features=169, out_features=13, bias=True)\n",
       "    (7): ReLU()\n",
       "    (8): Linear(in_features=13, out_features=2, bias=True)\n",
       "    (9): Sigmoid()\n",
       "  )\n",
       ")"
      ]
     },
     "execution_count": 2,
     "metadata": {},
     "output_type": "execute_result"
    }
   ],
   "source": [
    "import torch\n",
    "\n",
    "model.load_state_dict(torch.load(\"sat_classifier.pt\"))\n",
    "model.to(CURRENT_DEVICE)\n",
    "model.eval()"
   ]
  },
  {
   "cell_type": "code",
   "execution_count": 28,
   "metadata": {},
   "outputs": [
    {
     "data": {
      "text/plain": [
       "tensor([[6.2399e-05, 9.9999e-01]], device='cuda:0', grad_fn=<SigmoidBackward>)"
      ]
     },
     "execution_count": 28,
     "metadata": {},
     "output_type": "execute_result"
    }
   ],
   "source": [
    "from scripts.parse_mace4_output import get_cube_from_output\n",
    "\n",
    "cube = get_cube_from_output(\"\"\"\n",
    "INPUT\n",
    "0 * 1 = 1.\n",
    "1 * 2 = 2.\n",
    "0 * 2 = 1.\n",
    "end of input\n",
    "\"\"\", 13).view(1, 13, 13, 13).to(CURRENT_DEVICE)\n",
    "model(cube)"
   ]
  },
  {
   "cell_type": "code",
   "execution_count": 4,
   "metadata": {},
   "outputs": [],
   "source": [
    "data = torch.load(\"../scripts/some.pt\")"
   ]
  },
  {
   "cell_type": "code",
   "execution_count": 5,
   "metadata": {},
   "outputs": [],
   "source": [
    "from torch.utils.data import TensorDataset, DataLoader"
   ]
  },
  {
   "cell_type": "code",
   "execution_count": 6,
   "metadata": {},
   "outputs": [],
   "source": [
    "loader = DataLoader(TensorDataset(data[\"features\"], data[\"labels\"]), batch_size = 1024)"
   ]
  },
  {
   "cell_type": "code",
   "execution_count": 9,
   "metadata": {
    "scrolled": true
   },
   "outputs": [
    {
     "data": {
      "application/vnd.jupyter.widget-view+json": {
       "model_id": "148eb0e50a814f028fce808dd10c77bd",
       "version_major": 2,
       "version_minor": 0
      },
      "text/plain": [
       "HBox(children=(HTML(value=''), FloatProgress(value=0.0, max=977.0), HTML(value='')))"
      ]
     },
     "metadata": {},
     "output_type": "display_data"
    },
    {
     "name": "stdout",
     "output_type": "stream",
     "text": [
      "\n"
     ]
    }
   ],
   "source": [
    "from tqdm.notebook import tqdm\n",
    "\n",
    "result = list()\n",
    "for batch in tqdm(loader):\n",
    "    x, y = batch\n",
    "    result.append(model(x.to(CURRENT_DEVICE)).detach().cpu())"
   ]
  },
  {
   "cell_type": "code",
   "execution_count": 72,
   "metadata": {},
   "outputs": [
    {
     "name": "stdout",
     "output_type": "stream",
     "text": [
      "0.9945757831981856 0.8298340082773351\n"
     ]
    }
   ],
   "source": [
    "from sklearn.metrics import roc_auc_score, f1_score, classification_report\n",
    "\n",
    "y_true = data[\"labels\"]\n",
    "y_score = torch.cat(result)[:, 1]\n",
    "y_pred = y_score > 0.99998\n",
    "print(\n",
    "    roc_auc_score(y_true, y_score),\n",
    "    f1_score(y_true, y_pred)\n",
    ")"
   ]
  },
  {
   "cell_type": "code",
   "execution_count": 73,
   "metadata": {},
   "outputs": [],
   "source": [
    "# for i in range(10):\n",
    "#     cutoff = 0.9999 + i / 100000\n",
    "#     y_pred = y_score > cutoff\n",
    "#     print(cutoff, f1_score(y_true, y_pred))"
   ]
  },
  {
   "cell_type": "code",
   "execution_count": 74,
   "metadata": {},
   "outputs": [
    {
     "name": "stdout",
     "output_type": "stream",
     "text": [
      "              precision    recall  f1-score   support\n",
      "\n",
      "           0       0.99      0.99      0.99    945746\n",
      "           1       0.80      0.86      0.83     54241\n",
      "\n",
      "    accuracy                           0.98    999987\n",
      "   macro avg       0.90      0.92      0.91    999987\n",
      "weighted avg       0.98      0.98      0.98    999987\n",
      "\n"
     ]
    }
   ],
   "source": [
    "print(classification_report(y_true, y_pred))"
   ]
  },
  {
   "cell_type": "code",
   "execution_count": null,
   "metadata": {},
   "outputs": [],
   "source": []
  }
 ],
 "metadata": {
  "kernelspec": {
   "display_name": "Python 3",
   "language": "python",
   "name": "python3"
  },
  "language_info": {
   "codemirror_mode": {
    "name": "ipython",
    "version": 3
   },
   "file_extension": ".py",
   "mimetype": "text/x-python",
   "name": "python",
   "nbconvert_exporter": "python",
   "pygments_lexer": "ipython3",
   "version": "3.6.9"
  }
 },
 "nbformat": 4,
 "nbformat_minor": 4
}

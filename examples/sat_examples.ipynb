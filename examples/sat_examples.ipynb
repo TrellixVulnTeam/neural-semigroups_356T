{
 "cells": [
  {
   "cell_type": "code",
   "execution_count": 1,
   "metadata": {},
   "outputs": [],
   "source": [
    "from torch.nn import Linear, Sequential, Sigmoid, Module, ReLU, Dropout\n",
    "from torch import Tensor\n",
    "from neural_semigroups.constants import CURRENT_DEVICE\n",
    "\n",
    "class SATClassifier(Module):\n",
    "    def __init__(self, cardinality: int):\n",
    "        super().__init__()\n",
    "        self.cardinality = cardinality\n",
    "        self.layers = Sequential(\n",
    "            Linear(cardinality ** 3, cardinality ** 3),\n",
    "            ReLU(),\n",
    "            Linear(cardinality ** 3, cardinality ** 3),\n",
    "            ReLU(),\n",
    "            Linear(cardinality ** 3, cardinality ** 2),\n",
    "            ReLU(),\n",
    "            Linear(cardinality ** 2, cardinality),\n",
    "            ReLU(),\n",
    "            Linear(cardinality, 2),\n",
    "            Sigmoid()\n",
    "        ).to(CURRENT_DEVICE)\n",
    "\n",
    "    def forward(self, x: Tensor):\n",
    "        return self.layers(x.view(-1, self.cardinality ** 3))\n",
    "\n",
    "model = SATClassifier(13)"
   ]
  },
  {
   "cell_type": "code",
   "execution_count": 2,
   "metadata": {},
   "outputs": [
    {
     "data": {
      "text/plain": [
       "SATClassifier(\n",
       "  (layers): Sequential(\n",
       "    (0): Linear(in_features=2197, out_features=2197, bias=True)\n",
       "    (1): ReLU()\n",
       "    (2): Linear(in_features=2197, out_features=2197, bias=True)\n",
       "    (3): ReLU()\n",
       "    (4): Linear(in_features=2197, out_features=169, bias=True)\n",
       "    (5): ReLU()\n",
       "    (6): Linear(in_features=169, out_features=13, bias=True)\n",
       "    (7): ReLU()\n",
       "    (8): Linear(in_features=13, out_features=2, bias=True)\n",
       "    (9): Sigmoid()\n",
       "  )\n",
       ")"
      ]
     },
     "execution_count": 2,
     "metadata": {},
     "output_type": "execute_result"
    }
   ],
   "source": [
    "import torch\n",
    "\n",
    "model.load_state_dict(torch.load(\"sat_classifier.pt\"))\n",
    "model.to(CURRENT_DEVICE)\n",
    "model.eval()"
   ]
  },
  {
   "cell_type": "code",
   "execution_count": 3,
   "metadata": {},
   "outputs": [
    {
     "data": {
      "text/plain": [
       "tensor([[3.2252e-10, 9.9964e-01]], device='cuda:0', grad_fn=<SigmoidBackward>)"
      ]
     },
     "execution_count": 3,
     "metadata": {},
     "output_type": "execute_result"
    }
   ],
   "source": [
    "from scripts.parse_mace4_output import get_cube_from_output\n",
    "\n",
    "cube = get_cube_from_output(\"\"\"\n",
    "INPUT\n",
    "0 * 1 = 1.\n",
    "1 * 2 = 2.\n",
    "0 * 2 = 1.\n",
    "end of input\n",
    "\"\"\", 13).view(1, 13, 13, 13).to(CURRENT_DEVICE)\n",
    "model(cube)"
   ]
  },
  {
   "cell_type": "code",
   "execution_count": 63,
   "metadata": {},
   "outputs": [],
   "source": [
    "features_and_labels = torch.load(\"../scripts/test_output.pt\")"
   ]
  },
  {
   "cell_type": "code",
   "execution_count": 64,
   "metadata": {},
   "outputs": [],
   "source": [
    "non_trivial_indices = torch.einsum(\"ijkl -> i\", features_and_labels[\"features\"] == 1) == 13\n",
    "features_and_labels = {\n",
    "    \"features\": features_and_labels[\"features\"][non_trivial_indices],\n",
    "    \"labels\": features_and_labels[\"labels\"][non_trivial_indices]\n",
    "}"
   ]
  },
  {
   "cell_type": "code",
   "execution_count": 65,
   "metadata": {},
   "outputs": [],
   "source": [
    "from torch.utils.data import TensorDataset, DataLoader"
   ]
  },
  {
   "cell_type": "code",
   "execution_count": 66,
   "metadata": {},
   "outputs": [],
   "source": [
    "loader = DataLoader(TensorDataset(features_and_labels[\"features\"], features_and_labels[\"labels\"]), batch_size = 1024)"
   ]
  },
  {
   "cell_type": "code",
   "execution_count": 67,
   "metadata": {
    "scrolled": true
   },
   "outputs": [
    {
     "data": {
      "application/vnd.jupyter.widget-view+json": {
       "model_id": "99ae3f58884046599fdcd67a92e9706b",
       "version_major": 2,
       "version_minor": 0
      },
      "text/plain": [
       "HBox(children=(HTML(value=''), FloatProgress(value=0.0, max=5.0), HTML(value='')))"
      ]
     },
     "metadata": {},
     "output_type": "display_data"
    },
    {
     "name": "stdout",
     "output_type": "stream",
     "text": [
      "\n"
     ]
    }
   ],
   "source": [
    "from tqdm.notebook import tqdm\n",
    "\n",
    "result = list()\n",
    "for batch in tqdm(loader):\n",
    "    x, y = batch\n",
    "    result.append(model(x.to(CURRENT_DEVICE)).detach().cpu())"
   ]
  },
  {
   "cell_type": "code",
   "execution_count": 68,
   "metadata": {
    "scrolled": true
   },
   "outputs": [
    {
     "name": "stdout",
     "output_type": "stream",
     "text": [
      "0.4760547320410491 0.05189189189189188\n"
     ]
    }
   ],
   "source": [
    "from sklearn.metrics import roc_auc_score, f1_score, classification_report\n",
    "\n",
    "y_true = features_and_labels[\"labels\"]\n",
    "y_score = torch.cat(result)[:, 1]\n",
    "y_pred = y_score > 0.5\n",
    "print(\n",
    "    roc_auc_score(y_true, y_score),\n",
    "    f1_score(y_true, y_pred)\n",
    ")"
   ]
  },
  {
   "cell_type": "code",
   "execution_count": 69,
   "metadata": {
    "scrolled": true
   },
   "outputs": [
    {
     "name": "stdout",
     "output_type": "stream",
     "text": [
      "              precision    recall  f1-score   support\n",
      "\n",
      "           0       0.00      0.00      0.00      4385\n",
      "           1       0.03      1.00      0.05       120\n",
      "\n",
      "    accuracy                           0.03      4505\n",
      "   macro avg       0.01      0.50      0.03      4505\n",
      "weighted avg       0.00      0.03      0.00      4505\n",
      "\n"
     ]
    },
    {
     "name": "stderr",
     "output_type": "stream",
     "text": [
      "/home/boris/projects/neural-semigroups/venv/lib/python3.6/site-packages/sklearn/metrics/_classification.py:1221: UndefinedMetricWarning: Precision and F-score are ill-defined and being set to 0.0 in labels with no predicted samples. Use `zero_division` parameter to control this behavior.\n",
      "  _warn_prf(average, modifier, msg_start, len(result))\n"
     ]
    }
   ],
   "source": [
    "print(classification_report(y_true, y_pred))"
   ]
  },
  {
   "cell_type": "code",
   "execution_count": 11,
   "metadata": {},
   "outputs": [
    {
     "name": "stdout",
     "output_type": "stream",
     "text": [
      "0.0 0.9865002836074873\n",
      "0.1 0.9865002836074873\n",
      "0.2 0.9865002836074873\n",
      "0.3 0.9865002836074873\n",
      "0.4 0.9865002836074873\n",
      "0.5 0.9865002836074873\n",
      "0.6 0.9865002836074873\n",
      "0.7 0.9865002836074873\n",
      "0.8 0.9865002836074873\n",
      "0.9 0.9865002836074873\n"
     ]
    }
   ],
   "source": [
    "for i in range(10):\n",
    "    cutoff = 0.0 + i / 10\n",
    "    y_pred = y_score > cutoff\n",
    "    print(cutoff, f1_score(y_true, y_pred))"
   ]
  },
  {
   "cell_type": "code",
   "execution_count": null,
   "metadata": {},
   "outputs": [],
   "source": []
  }
 ],
 "metadata": {
  "kernelspec": {
   "display_name": "Python 3",
   "language": "python",
   "name": "python3"
  },
  "language_info": {
   "codemirror_mode": {
    "name": "ipython",
    "version": 3
   },
   "file_extension": ".py",
   "mimetype": "text/x-python",
   "name": "python",
   "nbconvert_exporter": "python",
   "pygments_lexer": "ipython3",
   "version": "3.6.9"
  }
 },
 "nbformat": 4,
 "nbformat_minor": 4
}

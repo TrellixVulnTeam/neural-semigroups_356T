{
 "cells": [
  {
   "cell_type": "code",
   "execution_count": 1,
   "metadata": {
    "collapsed": false,
    "execution": {
     "iopub.execute_input": "2021-02-07T12:44:46.382361Z",
     "iopub.status.busy": "2021-02-07T12:44:46.381477Z",
     "iopub.status.idle": "2021-02-07T12:44:55.220993Z",
     "shell.execute_reply": "2021-02-07T12:44:55.219888Z"
    },
    "papermill": {
     "duration": 8.855765,
     "end_time": "2021-02-07T12:44:55.221139",
     "exception": false,
     "start_time": "2021-02-07T12:44:46.365374",
     "status": "completed"
    },
    "tags": []
   },
   "outputs": [
    {
     "name": "stdout",
     "output_type": "stream",
     "text": [
      "Collecting neural-semigroups\r\n",
      "  Downloading neural_semigroups-0.5.5-py3-none-any.whl (31 kB)\r\n",
      "Requirement already satisfied: torch in /opt/conda/lib/python3.7/site-packages (from neural-semigroups) (1.7.0)\r\n",
      "Requirement already satisfied: tqdm in /opt/conda/lib/python3.7/site-packages (from neural-semigroups) (4.45.0)\r\n",
      "Requirement already satisfied: pytorch-ignite in /opt/conda/lib/python3.7/site-packages (from neural-semigroups) (0.4.2)\r\n",
      "Requirement already satisfied: tensorboard in /opt/conda/lib/python3.7/site-packages (from neural-semigroups) (2.4.0)\r\n",
      "Requirement already satisfied: torch in /opt/conda/lib/python3.7/site-packages (from neural-semigroups) (1.7.0)\r\n",
      "Requirement already satisfied: six>=1.10.0 in /opt/conda/lib/python3.7/site-packages (from tensorboard->neural-semigroups) (1.14.0)\r\n",
      "Requirement already satisfied: werkzeug>=0.11.15 in /opt/conda/lib/python3.7/site-packages (from tensorboard->neural-semigroups) (1.0.1)\r\n",
      "Requirement already satisfied: absl-py>=0.4 in /opt/conda/lib/python3.7/site-packages (from tensorboard->neural-semigroups) (0.10.0)\r\n",
      "Requirement already satisfied: markdown>=2.6.8 in /opt/conda/lib/python3.7/site-packages (from tensorboard->neural-semigroups) (3.2.1)\r\n",
      "Requirement already satisfied: protobuf>=3.6.0 in /opt/conda/lib/python3.7/site-packages (from tensorboard->neural-semigroups) (3.14.0)\r\n",
      "Requirement already satisfied: grpcio>=1.24.3 in /opt/conda/lib/python3.7/site-packages (from tensorboard->neural-semigroups) (1.34.0)\r\n",
      "Requirement already satisfied: google-auth<2,>=1.6.3 in /opt/conda/lib/python3.7/site-packages (from tensorboard->neural-semigroups) (1.23.0)\r\n",
      "Requirement already satisfied: google-auth-oauthlib<0.5,>=0.4.1 in /opt/conda/lib/python3.7/site-packages (from tensorboard->neural-semigroups) (0.4.1)\r\n",
      "Requirement already satisfied: requests<3,>=2.21.0 in /opt/conda/lib/python3.7/site-packages (from tensorboard->neural-semigroups) (2.23.0)\r\n",
      "Requirement already satisfied: tensorboard-plugin-wit>=1.6.0 in /opt/conda/lib/python3.7/site-packages (from tensorboard->neural-semigroups) (1.7.0)\r\n",
      "Requirement already satisfied: setuptools>=41.0.0 in /opt/conda/lib/python3.7/site-packages (from tensorboard->neural-semigroups) (46.1.3.post20200325)\r\n",
      "Requirement already satisfied: numpy>=1.12.0 in /opt/conda/lib/python3.7/site-packages (from tensorboard->neural-semigroups) (1.18.5)\r\n",
      "Requirement already satisfied: wheel>=0.26 in /opt/conda/lib/python3.7/site-packages (from tensorboard->neural-semigroups) (0.34.2)\r\n",
      "Requirement already satisfied: six>=1.10.0 in /opt/conda/lib/python3.7/site-packages (from tensorboard->neural-semigroups) (1.14.0)\r\n",
      "Requirement already satisfied: pyasn1-modules>=0.2.1 in /opt/conda/lib/python3.7/site-packages (from google-auth<2,>=1.6.3->tensorboard->neural-semigroups) (0.2.7)\r\n",
      "Requirement already satisfied: rsa<5,>=3.1.4 in /opt/conda/lib/python3.7/site-packages (from google-auth<2,>=1.6.3->tensorboard->neural-semigroups) (4.0)\r\n",
      "Requirement already satisfied: cachetools<5.0,>=2.0.0 in /opt/conda/lib/python3.7/site-packages (from google-auth<2,>=1.6.3->tensorboard->neural-semigroups) (3.1.1)\r\n",
      "Requirement already satisfied: six>=1.10.0 in /opt/conda/lib/python3.7/site-packages (from tensorboard->neural-semigroups) (1.14.0)\r\n",
      "Requirement already satisfied: setuptools>=41.0.0 in /opt/conda/lib/python3.7/site-packages (from tensorboard->neural-semigroups) (46.1.3.post20200325)\r\n",
      "Requirement already satisfied: requests-oauthlib>=0.7.0 in /opt/conda/lib/python3.7/site-packages (from google-auth-oauthlib<0.5,>=0.4.1->tensorboard->neural-semigroups) (1.2.0)\r\n",
      "Requirement already satisfied: google-auth<2,>=1.6.3 in /opt/conda/lib/python3.7/site-packages (from tensorboard->neural-semigroups) (1.23.0)\r\n",
      "Requirement already satisfied: six>=1.10.0 in /opt/conda/lib/python3.7/site-packages (from tensorboard->neural-semigroups) (1.14.0)\r\n",
      "Requirement already satisfied: setuptools>=41.0.0 in /opt/conda/lib/python3.7/site-packages (from tensorboard->neural-semigroups) (46.1.3.post20200325)\r\n",
      "Requirement already satisfied: six>=1.10.0 in /opt/conda/lib/python3.7/site-packages (from tensorboard->neural-semigroups) (1.14.0)\r\n",
      "Requirement already satisfied: pyasn1<0.5.0,>=0.4.6 in /opt/conda/lib/python3.7/site-packages (from pyasn1-modules>=0.2.1->google-auth<2,>=1.6.3->tensorboard->neural-semigroups) (0.4.8)\r\n",
      "Requirement already satisfied: urllib3!=1.25.0,!=1.25.1,<1.26,>=1.21.1 in /opt/conda/lib/python3.7/site-packages (from requests<3,>=2.21.0->tensorboard->neural-semigroups) (1.25.9)\r\n",
      "Requirement already satisfied: chardet<4,>=3.0.2 in /opt/conda/lib/python3.7/site-packages (from requests<3,>=2.21.0->tensorboard->neural-semigroups) (3.0.4)\r\n",
      "Requirement already satisfied: idna<3,>=2.5 in /opt/conda/lib/python3.7/site-packages (from requests<3,>=2.21.0->tensorboard->neural-semigroups) (2.9)\r\n",
      "Requirement already satisfied: certifi>=2017.4.17 in /opt/conda/lib/python3.7/site-packages (from requests<3,>=2.21.0->tensorboard->neural-semigroups) (2020.12.5)\r\n",
      "Requirement already satisfied: requests<3,>=2.21.0 in /opt/conda/lib/python3.7/site-packages (from tensorboard->neural-semigroups) (2.23.0)\r\n",
      "Requirement already satisfied: oauthlib>=3.0.0 in /opt/conda/lib/python3.7/site-packages (from requests-oauthlib>=0.7.0->google-auth-oauthlib<0.5,>=0.4.1->tensorboard->neural-semigroups) (3.0.1)\r\n",
      "Requirement already satisfied: pyasn1<0.5.0,>=0.4.6 in /opt/conda/lib/python3.7/site-packages (from pyasn1-modules>=0.2.1->google-auth<2,>=1.6.3->tensorboard->neural-semigroups) (0.4.8)\r\n",
      "Requirement already satisfied: future in /opt/conda/lib/python3.7/site-packages (from torch->neural-semigroups) (0.18.2)\r\n",
      "Requirement already satisfied: typing_extensions in /opt/conda/lib/python3.7/site-packages (from torch->neural-semigroups) (3.7.4.1)\r\n",
      "Requirement already satisfied: dataclasses in /opt/conda/lib/python3.7/site-packages (from torch->neural-semigroups) (0.6)\r\n",
      "Requirement already satisfied: numpy>=1.12.0 in /opt/conda/lib/python3.7/site-packages (from tensorboard->neural-semigroups) (1.18.5)\r\n",
      "Installing collected packages: neural-semigroups\r\n",
      "Successfully installed neural-semigroups-0.5.5\r\n",
      "\u001b[33mWARNING: You are using pip version 20.3.1; however, version 21.0.1 is available.\r\n",
      "You should consider upgrading via the '/opt/conda/bin/python3.7 -m pip install --upgrade pip' command.\u001b[0m\r\n"
     ]
    }
   ],
   "source": [
    "\"\"\"\n",
    "   Copyright 2019-2021 Boris Shminke\n",
    "\n",
    "   Licensed under the Apache License, Version 2.0 (the \"License\");\n",
    "   you may not use this file except in compliance with the License.\n",
    "   You may obtain a copy of the License at\n",
    "\n",
    "       http://www.apache.org/licenses/LICENSE-2.0\n",
    "\n",
    "   Unless required by applicable law or agreed to in writing, software\n",
    "   distributed under the License is distributed on an \"AS IS\" BASIS,\n",
    "   WITHOUT WARRANTIES OR CONDITIONS OF ANY KIND, either express or implied.\n",
    "   See the License for the specific language governing permissions and\n",
    "   limitations under the License.\n",
    "\"\"\"\n",
    "!pip install neural-semigroups"
   ]
  },
  {
   "cell_type": "code",
   "execution_count": 2,
   "metadata": {
    "collapsed": false,
    "execution": {
     "iopub.execute_input": "2021-02-07T12:44:55.254575Z",
     "iopub.status.busy": "2021-02-07T12:44:55.253787Z",
     "iopub.status.idle": "2021-02-07T12:44:57.064202Z",
     "shell.execute_reply": "2021-02-07T12:44:57.062850Z"
    },
    "papermill": {
     "duration": 1.830422,
     "end_time": "2021-02-07T12:44:57.064316",
     "exception": false,
     "start_time": "2021-02-07T12:44:55.233894",
     "status": "completed"
    },
    "tags": []
   },
   "outputs": [],
   "source": [
    "from neural_semigroups import Magma\n",
    "from neural_semigroups.utils import hide_cells, partial_table_to_cube\n",
    "import torch\n",
    "from typing import Tuple\n",
    "\n",
    "# examples for other cardinalities are located in recspective directories\n",
    "cardinality = 4\n",
    "\n",
    "\n",
    "def transform(\n",
    "        cayley_table: Tuple[torch.Tensor, ...]\n",
    ") -> Tuple[torch.Tensor, torch.Tensor]:\n",
    "    \"\"\"\n",
    "    this is a data augmentation function similar to those which are used for\n",
    "    pictures, but insted of rotations and translations we use other\n",
    "    transformations\n",
    "\n",
    "    :param cayley_table: a tuple from a single tensor --- a Cayley table of\n",
    "        some magma\n",
    "    :returns: a tuple of a probabilistic representations of a partial Cayley\n",
    "        table and the respecting full one\n",
    "    \"\"\"\n",
    "    # in the ``smallsemi`` package they store only table up to isomorphism _or_\n",
    "    # anti-isomorphism, that's why here we apply isomorphisms or\n",
    "    # anti-isomorphisms with equal probabilies\n",
    "    if torch.randn((1, )).cpu().item() > 0.5:\n",
    "        full_table = Magma(cayley_table[0]).random_isomorphism()\n",
    "    else:\n",
    "        full_table = Magma(cayley_table[0]).random_isomorphism().T\n",
    "    # we want to reconstruct an math:``n\\times n`` table given math:``n`` cells\n",
    "    partial_cube = partial_table_to_cube(\n",
    "        hide_cells(\n",
    "            full_table,\n",
    "            cardinality * cardinality - cardinality\n",
    "        )\n",
    "    )\n",
    "    return partial_cube,  partial_table_to_cube(full_table)"
   ]
  },
  {
   "cell_type": "code",
   "execution_count": 3,
   "metadata": {
    "collapsed": false,
    "execution": {
     "iopub.execute_input": "2021-02-07T12:44:57.091766Z",
     "iopub.status.busy": "2021-02-07T12:44:57.091239Z",
     "iopub.status.idle": "2021-02-07T12:44:57.142730Z",
     "shell.execute_reply": "2021-02-07T12:44:57.142235Z"
    },
    "papermill": {
     "duration": 0.066619,
     "end_time": "2021-02-07T12:44:57.142821",
     "exception": false,
     "start_time": "2021-02-07T12:44:57.076202",
     "status": "completed"
    },
    "tags": []
   },
   "outputs": [],
   "source": [
    "from neural_semigroups.smallsemi_dataset import Smallsemi\n",
    "\n",
    "# when running not on Kaggle, one can set ``download`` parameter to ``True`` to\n",
    "# download original ``smallsemi`` databases\n",
    "data = Smallsemi(\n",
    "    root=\"/kaggle/input/smallsemi\",\n",
    "    cardinality=cardinality,\n",
    "    transform=transform\n",
    ")"
   ]
  },
  {
   "cell_type": "code",
   "execution_count": 4,
   "metadata": {
    "collapsed": false,
    "execution": {
     "iopub.execute_input": "2021-02-07T12:44:57.174834Z",
     "iopub.status.busy": "2021-02-07T12:44:57.174000Z",
     "iopub.status.idle": "2021-02-07T12:44:57.178647Z",
     "shell.execute_reply": "2021-02-07T12:44:57.178187Z"
    },
    "papermill": {
     "duration": 0.024016,
     "end_time": "2021-02-07T12:44:57.178735",
     "exception": false,
     "start_time": "2021-02-07T12:44:57.154719",
     "status": "completed"
    },
    "tags": []
   },
   "outputs": [
    {
     "name": "stdout",
     "output_type": "stream",
     "text": [
      "126\n"
     ]
    }
   ],
   "source": [
    "from torch.utils.data.dataset import random_split\n",
    "from torch.utils.data import DataLoader\n",
    "\n",
    "data_size = len(data)\n",
    "print(data_size)\n",
    "# depending on the size of available data we leave either 1024 equivalence\n",
    "# classes or one third of them (whichever is smaller) for each training and\n",
    "# validation sets\n",
    "test_size = min(len(data) // 3, 1024)\n",
    "data_loaders = tuple(\n",
    "    DataLoader(data_split, batch_size=32)\n",
    "    for data_split\n",
    "    in random_split(data, [data_size - 2 * test_size, test_size, test_size])\n",
    ")"
   ]
  },
  {
   "cell_type": "markdown",
   "metadata": {
    "collapsed": false,
    "papermill": {
     "duration": 0.011309,
     "end_time": "2021-02-07T12:44:57.201475",
     "exception": false,
     "start_time": "2021-02-07T12:44:57.190166",
     "status": "completed"
    },
    "tags": []
   },
   "source": [
    "Since we try to reconstruct an associative Cayley table from only a handfull of cells, it's hardly probable that we end up with an original table. Most of the time the network returns other solutions for the same task (since the solution is none unique). That's why we used a special loss function described [here](https://neural-semigroups.readthedocs.io/en/latest/package-documentation.html#associator-loss)."
   ]
  },
  {
   "cell_type": "code",
   "execution_count": 5,
   "metadata": {
    "collapsed": false,
    "execution": {
     "iopub.execute_input": "2021-02-07T12:44:57.230106Z",
     "iopub.status.busy": "2021-02-07T12:44:57.229448Z",
     "iopub.status.idle": "2021-02-07T12:44:57.232474Z",
     "shell.execute_reply": "2021-02-07T12:44:57.232034Z"
    },
    "papermill": {
     "duration": 0.01933,
     "end_time": "2021-02-07T12:44:57.232560",
     "exception": false,
     "start_time": "2021-02-07T12:44:57.213230",
     "status": "completed"
    },
    "tags": []
   },
   "outputs": [],
   "source": [
    "from neural_semigroups.associator_loss import AssociatorLoss\n",
    "from torch import Tensor\n",
    "\n",
    "def loss(prediction: Tensor, target: Tensor) -> Tensor:\n",
    "    return AssociatorLoss()(prediction)"
   ]
  },
  {
   "cell_type": "code",
   "execution_count": 6,
   "metadata": {
    "collapsed": false,
    "execution": {
     "iopub.execute_input": "2021-02-07T12:44:57.261350Z",
     "iopub.status.busy": "2021-02-07T12:44:57.260703Z",
     "iopub.status.idle": "2021-02-07T12:45:01.501066Z",
     "shell.execute_reply": "2021-02-07T12:45:01.500590Z"
    },
    "papermill": {
     "duration": 4.256299,
     "end_time": "2021-02-07T12:45:01.501219",
     "exception": false,
     "start_time": "2021-02-07T12:44:57.244920",
     "status": "completed"
    },
    "tags": []
   },
   "outputs": [],
   "source": [
    "from neural_semigroups import MagmaDAE\n",
    "\n",
    "# here we use a typical hourglass shape of an autoencoder\n",
    "dae = MagmaDAE(\n",
    "    cardinality=cardinality,\n",
    "    hidden_dims=[cardinality ** 3, cardinality ** 2, cardinality]\n",
    ")"
   ]
  },
  {
   "cell_type": "markdown",
   "metadata": {
    "collapsed": false,
    "papermill": {
     "duration": 0.011741,
     "end_time": "2021-02-07T12:45:01.525191",
     "exception": false,
     "start_time": "2021-02-07T12:45:01.513450",
     "status": "completed"
    },
    "tags": []
   },
   "source": [
    "Since we want to upload training logs to tensorboard.dev, we first remove all the previous experiments from the same folder"
   ]
  },
  {
   "cell_type": "code",
   "execution_count": 7,
   "metadata": {
    "collapsed": false,
    "execution": {
     "iopub.execute_input": "2021-02-07T12:45:01.553468Z",
     "iopub.status.busy": "2021-02-07T12:45:01.552851Z",
     "iopub.status.idle": "2021-02-07T12:45:02.227253Z",
     "shell.execute_reply": "2021-02-07T12:45:02.226265Z"
    },
    "papermill": {
     "duration": 0.690342,
     "end_time": "2021-02-07T12:45:02.227373",
     "exception": false,
     "start_time": "2021-02-07T12:45:01.537031",
     "status": "completed"
    },
    "tags": []
   },
   "outputs": [],
   "source": [
    "!rm -rf runs"
   ]
  },
  {
   "cell_type": "code",
   "execution_count": 8,
   "metadata": {
    "collapsed": false,
    "execution": {
     "iopub.execute_input": "2021-02-07T12:45:02.258516Z",
     "iopub.status.busy": "2021-02-07T12:45:02.257916Z",
     "iopub.status.idle": "2021-02-07T12:46:02.648955Z",
     "shell.execute_reply": "2021-02-07T12:46:02.647967Z"
    },
    "papermill": {
     "duration": 60.409627,
     "end_time": "2021-02-07T12:46:02.649071",
     "exception": false,
     "start_time": "2021-02-07T12:45:02.239444",
     "status": "completed"
    },
    "tags": []
   },
   "outputs": [
    {
     "data": {
      "application/vnd.jupyter.widget-view+json": {
       "model_id": "e00b2f6a0e2448aaa0409d7ca2e67b62",
       "version_major": 2,
       "version_minor": 0
      },
      "text/plain": [
       "HBox(children=(FloatProgress(value=0.0, max=1000.0), HTML(value='')))"
      ]
     },
     "metadata": {},
     "output_type": "display_data"
    }
   ],
   "source": [
    "from neural_semigroups.training_helpers import learning_pipeline\n",
    "from ignite.metrics.loss import Loss\n",
    "from neural_semigroups.training_helpers import associative_ratio, guessed_ratio\n",
    "\n",
    "params = {\"learning_rate\": 0.001, \"epochs\": 1000}\n",
    "metrics = {\n",
    "    \"loss\": Loss(loss),\n",
    "    \"associative_ratio\": Loss(associative_ratio),\n",
    "    \"guessed_ratio\": Loss(guessed_ratio)\n",
    "}\n",
    "learning_pipeline(params, dae, loss, metrics, data_loaders)\n",
    "torch.onnx.export(\n",
    "    dae,\n",
    "    next(iter(data_loaders[0]))[0],\n",
    "    f\"dae-{cardinality}.onnx\"\n",
    ")"
   ]
  },
  {
   "cell_type": "markdown",
   "metadata": {
    "collapsed": false,
    "papermill": {
     "duration": 0.012,
     "end_time": "2021-02-07T12:46:02.673711",
     "exception": false,
     "start_time": "2021-02-07T12:46:02.661711",
     "status": "completed"
    },
    "tags": []
   },
   "source": [
    "The experimental results can be found [here](https://tensorboard.dev/experiment/k8LaiW1oTZef8d9oo8J96w)."
   ]
  }
 ],
 "metadata": {
  "kernelspec": {
   "argv": [
    "python",
    "-m",
    "ipykernel_launcher",
    "-f",
    "{connection_file}"
   ],
   "display_name": "Python 3",
   "env": null,
   "interrupt_mode": "signal",
   "language": "python",
   "metadata": null,
   "name": "python3"
  },
  "language_info": {
   "codemirror_mode": {
    "name": "ipython",
    "version": 3
   },
   "file_extension": ".py",
   "mimetype": "text/x-python",
   "name": "python",
   "nbconvert_exporter": "python",
   "pygments_lexer": "ipython3",
   "version": "3.7.6"
  },
  "name": "dae-4.ipynb",
  "papermill": {
   "duration": 80.809888,
   "end_time": "2021-02-07T12:46:03.092579",
   "environment_variables": null,
   "exception": null,
   "input_path": "__notebook__.ipynb",
   "output_path": "__notebook__.ipynb",
   "parameters": null,
   "start_time": "2021-02-07T12:44:42.282691",
   "version": "2.1.0"
  },
  "widgets": {
   "application/vnd.jupyter.widget-state+json": {
    "state": {
     "0b724903529d47e6aef934b41c464b9f": {
      "model_module": "@jupyter-widgets/base",
      "model_module_version": "1.2.0",
      "model_name": "LayoutModel",
      "state": {
       "_model_module": "@jupyter-widgets/base",
       "_model_module_version": "1.2.0",
       "_model_name": "LayoutModel",
       "_view_count": null,
       "_view_module": "@jupyter-widgets/base",
       "_view_module_version": "1.2.0",
       "_view_name": "LayoutView",
       "align_content": null,
       "align_items": null,
       "align_self": null,
       "border": null,
       "bottom": null,
       "display": null,
       "flex": null,
       "flex_flow": null,
       "grid_area": null,
       "grid_auto_columns": null,
       "grid_auto_flow": null,
       "grid_auto_rows": null,
       "grid_column": null,
       "grid_gap": null,
       "grid_row": null,
       "grid_template_areas": null,
       "grid_template_columns": null,
       "grid_template_rows": null,
       "height": null,
       "justify_content": null,
       "justify_items": null,
       "left": null,
       "margin": null,
       "max_height": null,
       "max_width": null,
       "min_height": null,
       "min_width": null,
       "object_fit": null,
       "object_position": null,
       "order": null,
       "overflow": null,
       "overflow_x": null,
       "overflow_y": null,
       "padding": null,
       "right": null,
       "top": null,
       "visibility": null,
       "width": null
      }
     },
     "1baebbd8bd36454d9d461a123fcebafb": {
      "model_module": "@jupyter-widgets/controls",
      "model_module_version": "1.5.0",
      "model_name": "FloatProgressModel",
      "state": {
       "_dom_classes": [],
       "_model_module": "@jupyter-widgets/controls",
       "_model_module_version": "1.5.0",
       "_model_name": "FloatProgressModel",
       "_view_count": null,
       "_view_module": "@jupyter-widgets/controls",
       "_view_module_version": "1.5.0",
       "_view_name": "ProgressView",
       "bar_style": "",
       "description": "Epoch: [1000/1000] 100%",
       "description_tooltip": null,
       "layout": "IPY_MODEL_586dbe96c4ac47f3a470e2a857e7deb3",
       "max": 1000.0,
       "min": 0.0,
       "orientation": "horizontal",
       "style": "IPY_MODEL_ad15dde231c04054b3d8001155c77d76",
       "value": 1000.0
      }
     },
     "3054b48e6ec842099f0ee949dcf903e0": {
      "model_module": "@jupyter-widgets/base",
      "model_module_version": "1.2.0",
      "model_name": "LayoutModel",
      "state": {
       "_model_module": "@jupyter-widgets/base",
       "_model_module_version": "1.2.0",
       "_model_name": "LayoutModel",
       "_view_count": null,
       "_view_module": "@jupyter-widgets/base",
       "_view_module_version": "1.2.0",
       "_view_name": "LayoutView",
       "align_content": null,
       "align_items": null,
       "align_self": null,
       "border": null,
       "bottom": null,
       "display": null,
       "flex": null,
       "flex_flow": null,
       "grid_area": null,
       "grid_auto_columns": null,
       "grid_auto_flow": null,
       "grid_auto_rows": null,
       "grid_column": null,
       "grid_gap": null,
       "grid_row": null,
       "grid_template_areas": null,
       "grid_template_columns": null,
       "grid_template_rows": null,
       "height": null,
       "justify_content": null,
       "justify_items": null,
       "left": null,
       "margin": null,
       "max_height": null,
       "max_width": null,
       "min_height": null,
       "min_width": null,
       "object_fit": null,
       "object_position": null,
       "order": null,
       "overflow": null,
       "overflow_x": null,
       "overflow_y": null,
       "padding": null,
       "right": null,
       "top": null,
       "visibility": null,
       "width": null
      }
     },
     "586dbe96c4ac47f3a470e2a857e7deb3": {
      "model_module": "@jupyter-widgets/base",
      "model_module_version": "1.2.0",
      "model_name": "LayoutModel",
      "state": {
       "_model_module": "@jupyter-widgets/base",
       "_model_module_version": "1.2.0",
       "_model_name": "LayoutModel",
       "_view_count": null,
       "_view_module": "@jupyter-widgets/base",
       "_view_module_version": "1.2.0",
       "_view_name": "LayoutView",
       "align_content": null,
       "align_items": null,
       "align_self": null,
       "border": null,
       "bottom": null,
       "display": null,
       "flex": null,
       "flex_flow": null,
       "grid_area": null,
       "grid_auto_columns": null,
       "grid_auto_flow": null,
       "grid_auto_rows": null,
       "grid_column": null,
       "grid_gap": null,
       "grid_row": null,
       "grid_template_areas": null,
       "grid_template_columns": null,
       "grid_template_rows": null,
       "height": null,
       "justify_content": null,
       "justify_items": null,
       "left": null,
       "margin": null,
       "max_height": null,
       "max_width": null,
       "min_height": null,
       "min_width": null,
       "object_fit": null,
       "object_position": null,
       "order": null,
       "overflow": null,
       "overflow_x": null,
       "overflow_y": null,
       "padding": null,
       "right": null,
       "top": null,
       "visibility": null,
       "width": null
      }
     },
     "60b797bbb3c3478a99ef64c2dcc182ff": {
      "model_module": "@jupyter-widgets/controls",
      "model_module_version": "1.5.0",
      "model_name": "HTMLModel",
      "state": {
       "_dom_classes": [],
       "_model_module": "@jupyter-widgets/controls",
       "_model_module_version": "1.5.0",
       "_model_name": "HTMLModel",
       "_view_count": null,
       "_view_module": "@jupyter-widgets/controls",
       "_view_module_version": "1.5.0",
       "_view_name": "HTMLView",
       "description": "",
       "description_tooltip": null,
       "layout": "IPY_MODEL_3054b48e6ec842099f0ee949dcf903e0",
       "placeholder": "​",
       "style": "IPY_MODEL_9f8e4ea4b118470c8e53f541ef058d62",
       "value": ", output=12.2 [00:59&lt;00:00]"
      }
     },
     "9f8e4ea4b118470c8e53f541ef058d62": {
      "model_module": "@jupyter-widgets/controls",
      "model_module_version": "1.5.0",
      "model_name": "DescriptionStyleModel",
      "state": {
       "_model_module": "@jupyter-widgets/controls",
       "_model_module_version": "1.5.0",
       "_model_name": "DescriptionStyleModel",
       "_view_count": null,
       "_view_module": "@jupyter-widgets/base",
       "_view_module_version": "1.2.0",
       "_view_name": "StyleView",
       "description_width": ""
      }
     },
     "ad15dde231c04054b3d8001155c77d76": {
      "model_module": "@jupyter-widgets/controls",
      "model_module_version": "1.5.0",
      "model_name": "ProgressStyleModel",
      "state": {
       "_model_module": "@jupyter-widgets/controls",
       "_model_module_version": "1.5.0",
       "_model_name": "ProgressStyleModel",
       "_view_count": null,
       "_view_module": "@jupyter-widgets/base",
       "_view_module_version": "1.2.0",
       "_view_name": "StyleView",
       "bar_color": null,
       "description_width": "initial"
      }
     },
     "e00b2f6a0e2448aaa0409d7ca2e67b62": {
      "model_module": "@jupyter-widgets/controls",
      "model_module_version": "1.5.0",
      "model_name": "HBoxModel",
      "state": {
       "_dom_classes": [],
       "_model_module": "@jupyter-widgets/controls",
       "_model_module_version": "1.5.0",
       "_model_name": "HBoxModel",
       "_view_count": null,
       "_view_module": "@jupyter-widgets/controls",
       "_view_module_version": "1.5.0",
       "_view_name": "HBoxView",
       "box_style": "",
       "children": [
        "IPY_MODEL_1baebbd8bd36454d9d461a123fcebafb",
        "IPY_MODEL_60b797bbb3c3478a99ef64c2dcc182ff"
       ],
       "layout": "IPY_MODEL_0b724903529d47e6aef934b41c464b9f"
      }
     }
    },
    "version_major": 2,
    "version_minor": 0
   }
  }
 },
 "nbformat": 4,
 "nbformat_minor": 4
}

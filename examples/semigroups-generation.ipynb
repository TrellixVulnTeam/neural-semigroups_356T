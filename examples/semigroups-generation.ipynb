{
 "cells": [
  {
   "cell_type": "code",
   "execution_count": 1,
   "metadata": {
    "colab": {
     "base_uri": "https://localhost:8080/"
    },
    "id": "76nRNjFMWsWG",
    "outputId": "979f5139-85f5-4b93-a2f0-49c111d5ee33",
    "scrolled": true,
    "tags": []
   },
   "outputs": [
    {
     "data": {
      "text/plain": [
       "'\\n   Copyright 2021 Žarko Bulić, Boris Shminke\\n\\n   Licensed under the Apache License, Version 2.0 (the \"License\");\\n   you may not use this file except in compliance with the License.\\n   You may obtain a copy of the License at\\n\\n       http://www.apache.org/licenses/LICENSE-2.0\\n\\n   Unless required by applicable law or agreed to in writing, software\\n   distributed under the License is distributed on an \"AS IS\" BASIS,\\n   WITHOUT WARRANTIES OR CONDITIONS OF ANY KIND, either express or implied.\\n   See the License for the specific language governing permissions and\\n   limitations under the License.\\n'"
      ]
     },
     "execution_count": 1,
     "metadata": {},
     "output_type": "execute_result"
    }
   ],
   "source": [
    "\"\"\"\n",
    "   Copyright 2021 Žarko Bulić, Boris Shminke\n",
    "\n",
    "   Licensed under the Apache License, Version 2.0 (the \"License\");\n",
    "   you may not use this file except in compliance with the License.\n",
    "   You may obtain a copy of the License at\n",
    "\n",
    "       http://www.apache.org/licenses/LICENSE-2.0\n",
    "\n",
    "   Unless required by applicable law or agreed to in writing, software\n",
    "   distributed under the License is distributed on an \"AS IS\" BASIS,\n",
    "   WITHOUT WARRANTIES OR CONDITIONS OF ANY KIND, either express or implied.\n",
    "   See the License for the specific language governing permissions and\n",
    "   limitations under the License.\n",
    "\"\"\"\n",
    "# uncomment this if you've just uploaded this notebook to Google Colaboratory\n",
    "# better use a GPU runtime (TPU ones are not supported by the package yet)\n",
    "\n",
    "# !pip install neural-semigroups"
   ]
  },
  {
   "cell_type": "code",
   "execution_count": 2,
   "metadata": {
    "id": "5YqvU_dMWsWM",
    "jupyter": {
     "outputs_hidden": false
    }
   },
   "outputs": [],
   "source": [
    "# this is a simple example for semigroups from n=4 elements\n",
    "from neural_semigroups.datasets import RandomDataset\n",
    "\n",
    "CARDINALITY = 4\n",
    "BATCH_SIZE = 32\n",
    "data = RandomDataset(2000, tuple(2 * [3 * [CARDINALITY]]))"
   ]
  },
  {
   "cell_type": "code",
   "execution_count": 3,
   "metadata": {
    "id": "uXcDvVJMWsWM",
    "jupyter": {
     "outputs_hidden": false
    }
   },
   "outputs": [],
   "source": [
    "from torch.utils.data.dataset import random_split\n",
    "from torch.utils.data import DataLoader\n",
    "\n",
    "# for this case we split all available data into three subsets:\n",
    "# for training, validating after each epoch and for testing the final model\n",
    "test_size = len(data) // 3\n",
    "data_loaders = tuple(\n",
    "    DataLoader(data_split, batch_size=BATCH_SIZE)\n",
    "    for data_split\n",
    "    in random_split(data, [len(data) - 2 * test_size, test_size, test_size])\n",
    ")"
   ]
  },
  {
   "cell_type": "code",
   "execution_count": 4,
   "metadata": {
    "id": "aw1YgENfWsWN",
    "jupyter": {
     "outputs_hidden": false
    }
   },
   "outputs": [],
   "source": [
    "from neural_semigroups.associator_loss import AssociatorLoss\n",
    "from torch import Tensor\n",
    "import torch\n",
    "from neural_semigroups.constants import CURRENT_DEVICE\n",
    "\n",
    "discrete = torch.stack(\n",
    "    BATCH_SIZE * [torch.tensor(\n",
    "        [0.0] * (CARDINALITY ** 3 - CARDINALITY) + [1.0] * CARDINALITY\n",
    "    )]\n",
    ").to(CURRENT_DEVICE)\n",
    "ALPHA = 0.5\n",
    "\n",
    "def loss(prediction: Tensor, target: Tensor) -> Tensor:\n",
    "    sorted_tensor = torch.sort(\n",
    "        prediction.view(prediction.size()[0], -1),\n",
    "        dim=1\n",
    "    )[0]\n",
    "    return (\n",
    "        ALPHA * AssociatorLoss()(prediction) +\n",
    "        (1 - ALPHA) * torch.nn.CrossEntropyLoss(reduction=\"sum\")(\n",
    "            sorted_tensor, discrete[:sorted_tensor.shape[0]]\n",
    "        )\n",
    "    )"
   ]
  },
  {
   "cell_type": "code",
   "execution_count": 5,
   "metadata": {
    "id": "pTlgICFFWsWN",
    "jupyter": {
     "outputs_hidden": false
    }
   },
   "outputs": [],
   "source": [
    "from neural_semigroups import MagmaDAE\n",
    "\n",
    "dae = MagmaDAE(\n",
    "    cardinality=CARDINALITY,\n",
    "    hidden_dims=2 * [CARDINALITY ** 3],\n",
    "    do_reparametrization = True\n",
    ")"
   ]
  },
  {
   "cell_type": "code",
   "execution_count": 6,
   "metadata": {},
   "outputs": [],
   "source": [
    "%load_ext tensorboard"
   ]
  },
  {
   "cell_type": "code",
   "execution_count": 7,
   "metadata": {},
   "outputs": [
    {
     "data": {
      "text/html": [
       "\n",
       "      <iframe id=\"tensorboard-frame-bd1dc25f598f600c\" width=\"100%\" height=\"800\" frameborder=\"0\">\n",
       "      </iframe>\n",
       "      <script>\n",
       "        (function() {\n",
       "          const frame = document.getElementById(\"tensorboard-frame-bd1dc25f598f600c\");\n",
       "          const url = new URL(\"/\", window.location);\n",
       "          const port = 6006;\n",
       "          if (port) {\n",
       "            url.port = port;\n",
       "          }\n",
       "          frame.src = url;\n",
       "        })();\n",
       "      </script>\n",
       "    "
      ],
      "text/plain": [
       "<IPython.core.display.HTML object>"
      ]
     },
     "metadata": {},
     "output_type": "display_data"
    }
   ],
   "source": [
    "%tensorboard --logdir runs"
   ]
  },
  {
   "cell_type": "code",
   "execution_count": 8,
   "metadata": {},
   "outputs": [],
   "source": [
    "!rm -rf runs"
   ]
  },
  {
   "cell_type": "code",
   "execution_count": 9,
   "metadata": {
    "colab": {
     "base_uri": "https://localhost:8080/",
     "height": 17,
     "referenced_widgets": [
      "7845426aa99b402882d1f2f62dc347e2",
      "aebe7be20d2d487cb1f860c7d8326e7f",
      "a1d3bdd4d6cd4c08b43f39bd45c8d494",
      "ee7e74e1526b45c18f46234df9464cde",
      "b5d35246a34f41cba96048e61470ac0b",
      "2cdfbaa6783740c6a784f8b8ed5d4e6f",
      "80f664a0b8df471fa0f58ebf820186b1",
      "712742627de245b6a4bef57a646580be"
     ]
    },
    "id": "p4xXEfI7WsWP",
    "jupyter": {
     "outputs_hidden": false
    },
    "outputId": "b007841c-8a8c-467e-92c6-8366fb0420a0"
   },
   "outputs": [
    {
     "data": {
      "application/vnd.jupyter.widget-view+json": {
       "model_id": "",
       "version_major": 2,
       "version_minor": 0
      },
      "text/plain": [
       "[1/20]   5%|5          [00:00<?]"
      ]
     },
     "metadata": {},
     "output_type": "display_data"
    }
   ],
   "source": [
    "from neural_semigroups.training_helpers import learning_pipeline\n",
    "from ignite.metrics.loss import Loss\n",
    "from neural_semigroups.training_helpers import associative_ratio\n",
    "\n",
    "params = {\"learning_rate\": 0.001, \"epochs\": 20}\n",
    "metrics = {\n",
    "    \"loss\": Loss(loss),\n",
    "    \"associative_ratio\": Loss(associative_ratio),\n",
    "}\n",
    "learning_pipeline(params, dae, loss, metrics, data_loaders)"
   ]
  },
  {
   "cell_type": "code",
   "execution_count": 10,
   "metadata": {},
   "outputs": [
    {
     "data": {
      "application/vnd.jupyter.widget-view+json": {
       "model_id": "f8a168f85a6b4e1f9fbd3ab7cc80d2a8",
       "version_major": 2,
       "version_minor": 0
      },
      "text/plain": [
       "  0%|          | 0/489 [00:00<?, ?it/s]"
      ]
     },
     "metadata": {},
     "output_type": "display_data"
    },
    {
     "name": "stdout",
     "output_type": "stream",
     "text": [
      "345\n"
     ]
    }
   ],
   "source": [
    "from neural_semigroups.utils import make_discrete\n",
    "from torch.functional import einsum\n",
    "from tqdm.notebook import tqdm\n",
    "from collections import Counter\n",
    "\n",
    "data_loader = DataLoader(\n",
    "    RandomDataset(2000000, tuple(2 * [3 * [CARDINALITY]])),\n",
    "    2 ** 12\n",
    ")\n",
    "counter = Counter()\n",
    "for batch in tqdm(data_loader):\n",
    "    cubes = make_discrete(dae(batch[0]).detach())\n",
    "    one = einsum(\"biml,bjkm->bijkl\", cubes, cubes)\n",
    "    two = einsum(\"bmkl,bijm->bijkl\", cubes, cubes)\n",
    "    is_associative = (\n",
    "        (one == two).reshape(one.shape[0], -1).min(axis=1)[0]\n",
    "    )\n",
    "    associatives = cubes[is_associative].argmax(axis=3).long()\n",
    "    counter.update([\n",
    "        \"\".join(map(str, associatives[i].view(-1).tolist()))\n",
    "        for i in range(associatives.shape[0])\n",
    "    ])\n",
    "print(len(counter.keys()))"
   ]
  },
  {
   "cell_type": "code",
   "execution_count": 11,
   "metadata": {},
   "outputs": [
    {
     "data": {
      "text/plain": [
       "\"Counter({'3313333333333333': 265, '0000012002000300': 152, '0000010002000200': 126, '0000012002000000': 123, '0000010000200000': 114, '0000012000000300': 107, '3313333313333333': 101, '0000012002200000': 100, '0000010000000000': 85, '0000012000000000': 60, '0323313323333333': 48, '0333333323333333': 47, '0333313323333333': 46, '0323313333333333': 45, '0323333323333333': 43, '0000012002200300': 42, '0000010000300000': 42, '0100111101230133': 39, '1001011001231031': 38, '0000012002200330': 37, '0123111121113113': 33, '0000010000000300': 33, '0000012302300300': 33, '0000010000200300': 33, '0333333333333333': 32, '0000010002000000': 31, '0323333333333333': 29, '0333323333333333': 24, '0000000000000000': 24, '0000010002000300': 22, '0000012002100000': 21, '0000000000000200': 19, '0100011101230133': 18, '0323133323333333': 16, '2022012322222022': 16, '0323312322323323': 16, '0323313332333333': 16, '0333312323333333': 15, '0000012302000300': 15, '0333313333333333': 15, '0121111111111111': 15, '1000011101230132': 14, '3323012322323323': 12, '1100111101230132': 11, '0100111101230132': 11, '0000010000230000': 10, '0111111111311111': 10, '3012012312302301': 10, '3110111111210113': 9, '3333333333333333': 8, '0121111121111111': 8, '3333323333333333': 8, '3023012322323323': 7, '0222212322222222': 7, '3110111111110113': 7, '0100010001230100': 7, '0000000000200000': 7, '0111111111111111': 7, '3100111101330133': 7, '0122111121112111': 6, '0111111121111113': 6, '3100111101230133': 6, '0323332322323323': 6, '0101011001230132': 6, '3333333313333333': 6, '1000011101230133': 6, '0333133323333333': 6, '2101111101211111': 6, '0333233323333333': 6, '0000000000230000': 5, '3313333313033333': 5, '1101111101211111': 5, '2000012202220222': 5, '0121111121211111': 5, '0222212222222222': 5, '0323133333333333': 5, '0123111131113111': 5, '2000012302220323': 5, '0100011001230100': 5, '0000012002100330': 5, '0100101101230132': 5, '1101111111211111': 5, '0000011001200000': 5, '0123111121333133': 5, '0123111121112111': 5, '0123133123313113': 4, '0110111111110113': 4, '3111111111211111': 4, '2121111121211111': 4, '0333312333333333': 4, '3111111111311111': 4, '2000012202220223': 4, '0000000000300000': 4, '1100111101230133': 4, '1101111101231130': 4, '3323332322323323': 4, '0101111101211111': 4, '0000012302200300': 4, '0023012322323323': 4, '0101011101230133': 4, '3110111121120113': 4, '0100010001230132': 4, '0100011001230133': 4, '0100010001230133': 4, '0000012302000200': 4, '0222222222222222': 3, '3022012322222322': 3, '0000010000200030': 3, '3323312322323323': 3, '0333133333333333': 3, '2022012322222323': 3, '2020012322222323': 3, '2111111111111111': 3, '0222222222223222': 3, '0100010101020103': 3, '0121111101211111': 3, '0000010000230300': 3, '0222212322223222': 3, '0222232222222222': 3, '3111111111111111': 3, '0100011001200100': 3, '0111111111111113': 3, '0100111101230100': 3, '0100101101230133': 3, '2222222222222022': 3, '1000011101210131': 3, '0022012322002301': 3, '1110111101211113': 3, '0111111121111111': 3, '2002012302202301': 3, '0101011101230111': 3, '0222212322222123': 3, '0222212322222321': 3, '0000012001200000': 3, '0333313332333333': 3, '0122012222222223': 2, '0000012300000300': 2, '0121111121111113': 2, '0222212222222322': 2, '1100111101220122': 2, '0123112122123121': 2, '0113133123313113': 2, '0000000001230132': 2, '0000001101230132': 2, '0123012322323323': 2, '0122111111111111': 2, '2120121121222123': 2, '1101111101230133': 2, '1022012222222222': 2, '0222222222222223': 2, '3333223333333333': 2, '0100111101220133': 2, '0000001001230033': 2, '0000011001230033': 2, '3222222222222222': 2, '1001011001201031': 2, '0222212222222223': 2, '0111111111211111': 2, '0100111101300100': 2, '0101111121211111': 2, '0123112322333333': 2, '0000013302000300': 2, '1000011101210111': 2, '0113111121111111': 2, '0123111121211111': 2, '2000012302220322': 2, '0000001001230133': 2, '0123131121333133': 2, '0000000000010000': 2, '3333313333333333': 2, '2222012222222222': 2, '3222212222222222': 2, '0000012202000200': 2, '3033312332333333': 2, '0000000000100000': 2, '2000012302220222': 2, '2121111121211113': 2, '3333233333333333': 2, '3313333333133333': 2, '0100011101230132': 2, '0000000001230000': 2, '2222012222222223': 2, '0110111121120113': 2, '2000012202220322': 2, '2111111111111113': 2, '0101111101231111': 2, '2000012302220123': 2, '0100010001300100': 2, '2100111101220122': 2, '0123111121233133': 2, '0123123323333333': 2, '0121111111111113': 2, '0000111101230133': 2, '0222212322222322': 1, '0033012322333333': 1, '1101111101231133': 1, '2222212322222123': 1, '0101111101211113': 1, '1001011001231032': 1, '1000011101220122': 1, '3131111111311111': 1, '0000000000200001': 1, '0000000000000001': 1, '2222212322222322': 1, '2333313333333333': 1, '0323312323233323': 1, '0123111121123113': 1, '3333303333333333': 1, '0022012322002300': 1, '1100111101220133': 1, '0000010100200101': 1, '0220212222220223': 1, '1000011101230131': 1, '0000000000230033': 1, '0123131131333133': 1, '3333333333033333': 1, '0000012302000302': 1, '1101111111231111': 1, '0220222222223223': 1, '0123111111111111': 1, '0123113323333333': 1, '1100111101220123': 1, '3333330333333333': 1, '0123113321333133': 1, '1131111111111111': 1, '3120112122220123': 1, '3300331001230033': 1, '0333133313333333': 1, '0100111101233133': 1, '2022012322222320': 1, '0133111121333133': 1, '0223233323333333': 1, '2100111101220123': 1, '0223122222223223': 1, '3103111131233133': 1, '3000012302230333': 1, '0022012222222222': 1, '0022012222222223': 1, '0111111111231133': 1, '0100111121223133': 1, '3032012332322323': 1, '1100111101231133': 1, '2002012302202002': 1, '0121111121011111': 1, '2033012332333333': 1, '2222222222222223': 1, '2222202022222022': 1, '0133111131233133': 1, '0100010101000103': 1, '0222222122222223': 1, '0023002333333333': 1, '1111111101211113': 1, '0022012302220323': 1, '0111111131113111': 1, '1000011101110112': 1, '0000012302020123': 1, '0000010000330033': 1, '2222212222222322': 1, '0003012302233330': 1, '0100010101200103': 1, '1122112222112210': 1, '0000011001200330': 1, '0122012222222222': 1, '0123111121213131': 1, '0123112222223223': 1, '0000010000020023': 1, '0023112322333333': 1, '0101111101231131': 1, '0000030000200000': 1, '0323132322323323': 1, '0003010302030303': 1, '0022012322222222': 1, '0020012302200320': 1, '0000010100200303': 1, '2022212322222323': 1, '0023012322223320': 1, '0003012302133333': 1, '2000012102220323': 1, '0123112322323323': 1, '0023012332333333': 1, '3210203113020123': 1, '0000010100000103': 1, '2000032202220222': 1, '0000012222222222': 1, '1100111111231132': 1, '0101111101211131': 1, '0000012302320323': 1, '3120121121220123': 1, '0100111101230130': 1, '0222212222223222': 1, '0223133323333333': 1, '1111111111211110': 1, '1111111111231111': 1, '1112111111112111': 1, '0101111101011111': 1, '0000012302200000': 1, '1123112322233323': 1, '0100111101000100': 1, '0100111101200100': 1, '0000012302000000': 1, '0103111121233133': 1, '0123113322333333': 1, '2222222122220123': 1, '1101111101231101': 1, '2222222222220123': 1, '0003012302133330': 1, '0000111101231133': 1, '0033012332003300': 1, '0023012322333333': 1, '0000011001100000': 1, '0003012302033330': 1, '0000010000230030': 1, '0101111101231133': 1, '0121111121211113': 1, '3000012302130333': 1, '0333312332333333': 1, '3120111121220123': 1, '3103131131233133': 1, '3123123123123123': 1, '2022212322222222': 1, '1110111111110123': 1, '1101111111231133': 1, '1101111101211131': 1, '0123111121233131': 1, '0000012001200330': 1, '1111111101211111': 1, '3313333313133333': 1, '0123111121313111': 1, '0000000000230030': 1, '0111111111331133': 1, '1000011101220133': 1, '0000111101230033': 1, '0000011001200030': 1, '0000012302230000': 1, '0123133123013113': 1, '0000000000000011': 1, '1110111111110113': 1, '0000001001200000': 1, '2222212322222323': 1, '0123111121113111': 1, '2222232222222222': 1, '0122111121113111': 1, '0100010001230130': 1, '0000012302230300': 1, '0123112122120123': 1})\""
      ]
     },
     "execution_count": 11,
     "metadata": {},
     "output_type": "execute_result"
    }
   ],
   "source": [
    "str(counter)"
   ]
  },
  {
   "cell_type": "code",
   "execution_count": null,
   "metadata": {},
   "outputs": [],
   "source": []
  }
 ],
 "metadata": {
  "colab": {
   "collapsed_sections": [],
   "name": "Copy of dae-4-colab.ipynb",
   "provenance": []
  },
  "kernelspec": {
   "display_name": "Python 3",
   "language": "python",
   "name": "python3"
  },
  "language_info": {
   "codemirror_mode": {
    "name": "ipython",
    "version": 3
   },
   "file_extension": ".py",
   "mimetype": "text/x-python",
   "name": "python",
   "nbconvert_exporter": "python",
   "pygments_lexer": "ipython3",
   "version": "3.9.9"
  },
  "name": "semigroups-generation.ipynb",
  "papermill": {
   "duration": 69.237522,
   "end_time": "2021-01-18T17:48:35.635999",
   "environment_variables": null,
   "exception": null,
   "input_path": "__notebook__.ipynb",
   "output_path": "__notebook__.ipynb",
   "parameters": null,
   "start_time": "2021-01-18T17:47:26.398477",
   "version": "2.1.0"
  },
  "widgets": {
   "application/vnd.jupyter.widget-state+json": {
    "2cdfbaa6783740c6a784f8b8ed5d4e6f": {
     "model_module": "@jupyter-widgets/controls",
     "model_name": "ProgressStyleModel",
     "state": {
      "_model_module": "@jupyter-widgets/controls",
      "_model_module_version": "1.5.0",
      "_model_name": "ProgressStyleModel",
      "_view_count": null,
      "_view_module": "@jupyter-widgets/base",
      "_view_module_version": "1.2.0",
      "_view_name": "StyleView",
      "bar_color": null,
      "description_width": "initial"
     }
    },
    "712742627de245b6a4bef57a646580be": {
     "model_module": "@jupyter-widgets/controls",
     "model_name": "DescriptionStyleModel",
     "state": {
      "_model_module": "@jupyter-widgets/controls",
      "_model_module_version": "1.5.0",
      "_model_name": "DescriptionStyleModel",
      "_view_count": null,
      "_view_module": "@jupyter-widgets/base",
      "_view_module_version": "1.2.0",
      "_view_name": "StyleView",
      "description_width": ""
     }
    },
    "7845426aa99b402882d1f2f62dc347e2": {
     "model_module": "@jupyter-widgets/controls",
     "model_name": "HBoxModel",
     "state": {
      "_dom_classes": [],
      "_model_module": "@jupyter-widgets/controls",
      "_model_module_version": "1.5.0",
      "_model_name": "HBoxModel",
      "_view_count": null,
      "_view_module": "@jupyter-widgets/controls",
      "_view_module_version": "1.5.0",
      "_view_name": "HBoxView",
      "box_style": "",
      "children": [
       "IPY_MODEL_aebe7be20d2d487cb1f860c7d8326e7f",
       "IPY_MODEL_a1d3bdd4d6cd4c08b43f39bd45c8d494"
      ],
      "layout": "IPY_MODEL_ee7e74e1526b45c18f46234df9464cde"
     }
    },
    "80f664a0b8df471fa0f58ebf820186b1": {
     "model_module": "@jupyter-widgets/base",
     "model_name": "LayoutModel",
     "state": {
      "_model_module": "@jupyter-widgets/base",
      "_model_module_version": "1.2.0",
      "_model_name": "LayoutModel",
      "_view_count": null,
      "_view_module": "@jupyter-widgets/base",
      "_view_module_version": "1.2.0",
      "_view_name": "LayoutView",
      "align_content": null,
      "align_items": null,
      "align_self": null,
      "border": null,
      "bottom": null,
      "display": null,
      "flex": null,
      "flex_flow": null,
      "grid_area": null,
      "grid_auto_columns": null,
      "grid_auto_flow": null,
      "grid_auto_rows": null,
      "grid_column": null,
      "grid_gap": null,
      "grid_row": null,
      "grid_template_areas": null,
      "grid_template_columns": null,
      "grid_template_rows": null,
      "height": null,
      "justify_content": null,
      "justify_items": null,
      "left": null,
      "margin": null,
      "max_height": null,
      "max_width": null,
      "min_height": null,
      "min_width": null,
      "object_fit": null,
      "object_position": null,
      "order": null,
      "overflow": null,
      "overflow_x": null,
      "overflow_y": null,
      "padding": null,
      "right": null,
      "top": null,
      "visibility": null,
      "width": null
     }
    },
    "a1d3bdd4d6cd4c08b43f39bd45c8d494": {
     "model_module": "@jupyter-widgets/controls",
     "model_name": "HTMLModel",
     "state": {
      "_dom_classes": [],
      "_model_module": "@jupyter-widgets/controls",
      "_model_module_version": "1.5.0",
      "_model_name": "HTMLModel",
      "_view_count": null,
      "_view_module": "@jupyter-widgets/controls",
      "_view_module_version": "1.5.0",
      "_view_name": "HTMLView",
      "description": "",
      "description_tooltip": null,
      "layout": "IPY_MODEL_80f664a0b8df471fa0f58ebf820186b1",
      "placeholder": "​",
      "style": "IPY_MODEL_712742627de245b6a4bef57a646580be",
      "value": ", output=24.1 [00:07&lt;00:00]"
     }
    },
    "aebe7be20d2d487cb1f860c7d8326e7f": {
     "model_module": "@jupyter-widgets/controls",
     "model_name": "FloatProgressModel",
     "state": {
      "_dom_classes": [],
      "_model_module": "@jupyter-widgets/controls",
      "_model_module_version": "1.5.0",
      "_model_name": "FloatProgressModel",
      "_view_count": null,
      "_view_module": "@jupyter-widgets/controls",
      "_view_module_version": "1.5.0",
      "_view_name": "ProgressView",
      "bar_style": "",
      "description": "Epoch: [20/20] 100%",
      "description_tooltip": null,
      "layout": "IPY_MODEL_b5d35246a34f41cba96048e61470ac0b",
      "max": 20,
      "min": 0,
      "orientation": "horizontal",
      "style": "IPY_MODEL_2cdfbaa6783740c6a784f8b8ed5d4e6f",
      "value": 20
     }
    },
    "b5d35246a34f41cba96048e61470ac0b": {
     "model_module": "@jupyter-widgets/base",
     "model_name": "LayoutModel",
     "state": {
      "_model_module": "@jupyter-widgets/base",
      "_model_module_version": "1.2.0",
      "_model_name": "LayoutModel",
      "_view_count": null,
      "_view_module": "@jupyter-widgets/base",
      "_view_module_version": "1.2.0",
      "_view_name": "LayoutView",
      "align_content": null,
      "align_items": null,
      "align_self": null,
      "border": null,
      "bottom": null,
      "display": null,
      "flex": null,
      "flex_flow": null,
      "grid_area": null,
      "grid_auto_columns": null,
      "grid_auto_flow": null,
      "grid_auto_rows": null,
      "grid_column": null,
      "grid_gap": null,
      "grid_row": null,
      "grid_template_areas": null,
      "grid_template_columns": null,
      "grid_template_rows": null,
      "height": null,
      "justify_content": null,
      "justify_items": null,
      "left": null,
      "margin": null,
      "max_height": null,
      "max_width": null,
      "min_height": null,
      "min_width": null,
      "object_fit": null,
      "object_position": null,
      "order": null,
      "overflow": null,
      "overflow_x": null,
      "overflow_y": null,
      "padding": null,
      "right": null,
      "top": null,
      "visibility": null,
      "width": null
     }
    },
    "ee7e74e1526b45c18f46234df9464cde": {
     "model_module": "@jupyter-widgets/base",
     "model_name": "LayoutModel",
     "state": {
      "_model_module": "@jupyter-widgets/base",
      "_model_module_version": "1.2.0",
      "_model_name": "LayoutModel",
      "_view_count": null,
      "_view_module": "@jupyter-widgets/base",
      "_view_module_version": "1.2.0",
      "_view_name": "LayoutView",
      "align_content": null,
      "align_items": null,
      "align_self": null,
      "border": null,
      "bottom": null,
      "display": null,
      "flex": null,
      "flex_flow": null,
      "grid_area": null,
      "grid_auto_columns": null,
      "grid_auto_flow": null,
      "grid_auto_rows": null,
      "grid_column": null,
      "grid_gap": null,
      "grid_row": null,
      "grid_template_areas": null,
      "grid_template_columns": null,
      "grid_template_rows": null,
      "height": null,
      "justify_content": null,
      "justify_items": null,
      "left": null,
      "margin": null,
      "max_height": null,
      "max_width": null,
      "min_height": null,
      "min_width": null,
      "object_fit": null,
      "object_position": null,
      "order": null,
      "overflow": null,
      "overflow_x": null,
      "overflow_y": null,
      "padding": null,
      "right": null,
      "top": null,
      "visibility": null,
      "width": null
     }
    }
   }
  }
 },
 "nbformat": 4,
 "nbformat_minor": 4
}

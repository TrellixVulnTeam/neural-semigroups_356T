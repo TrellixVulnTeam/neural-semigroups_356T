{
 "cells": [
  {
   "cell_type": "code",
   "execution_count": 4,
   "metadata": {
    "colab": {
     "base_uri": "https://localhost:8080/"
    },
    "id": "76nRNjFMWsWG",
    "outputId": "979f5139-85f5-4b93-a2f0-49c111d5ee33",
    "scrolled": true
   },
   "outputs": [
    {
     "data": {
      "text/plain": [
       "'\\n   Copyright 2021 Žarko Bulić, Boris Shminke\\n\\n   Licensed under the Apache License, Version 2.0 (the \"License\");\\n   you may not use this file except in compliance with the License.\\n   You may obtain a copy of the License at\\n\\n       http://www.apache.org/licenses/LICENSE-2.0\\n\\n   Unless required by applicable law or agreed to in writing, software\\n   distributed under the License is distributed on an \"AS IS\" BASIS,\\n   WITHOUT WARRANTIES OR CONDITIONS OF ANY KIND, either express or implied.\\n   See the License for the specific language governing permissions and\\n   limitations under the License.\\n'"
      ]
     },
     "execution_count": 4,
     "metadata": {},
     "output_type": "execute_result"
    }
   ],
   "source": [
    "\"\"\"\n",
    "   Copyright 2021 Žarko Bulić, Boris Shminke\n",
    "\n",
    "   Licensed under the Apache License, Version 2.0 (the \"License\");\n",
    "   you may not use this file except in compliance with the License.\n",
    "   You may obtain a copy of the License at\n",
    "\n",
    "       http://www.apache.org/licenses/LICENSE-2.0\n",
    "\n",
    "   Unless required by applicable law or agreed to in writing, software\n",
    "   distributed under the License is distributed on an \"AS IS\" BASIS,\n",
    "   WITHOUT WARRANTIES OR CONDITIONS OF ANY KIND, either express or implied.\n",
    "   See the License for the specific language governing permissions and\n",
    "   limitations under the License.\n",
    "\"\"\"\n",
    "# uncomment this if you've just uploaded this notebook to Google Colaboratory\n",
    "# better use a GPU runtime (TPU ones are not supported by the package yet)\n",
    "\n",
    "# !pip install neural-semigroups"
   ]
  },
  {
   "cell_type": "code",
   "execution_count": 5,
   "metadata": {
    "id": "FW7vHFgPWsWK"
   },
   "outputs": [],
   "source": [
    "# this is a simple example for semigroups from n=4 elements\n",
    "\n",
    "cardinality = 4"
   ]
  },
  {
   "cell_type": "code",
   "execution_count": 6,
   "metadata": {
    "id": "5YqvU_dMWsWM"
   },
   "outputs": [],
   "source": [
    "from torch.utils.data import IterableDataset\n",
    "from typing import List\n",
    "from neural_semigroups.constants import CURRENT_DEVICE\n",
    "\n",
    "class RandomDataset(IterableDataset):\n",
    "    def __init__(\n",
    "        self, data_size: int, data_dim: List[int], label_dim: List[int]\n",
    "    ):\n",
    "        self.data_size = data_size\n",
    "        self.data_dim = data_dim\n",
    "        self.label_dim = label_dim\n",
    "\n",
    "    def __len__(self):\n",
    "        return self.data_size\n",
    "\n",
    "    def __getitem__(self, index):\n",
    "        return 2 * [torch.rand(self.data_dim).to(CURRENT_DEVICE)]        \n",
    "\n",
    "    def __iter__(self):\n",
    "        return iter(\n",
    "            2 * [torch.rand(self.data_dim).to(CURRENT_DEVICE)]\n",
    "            for i in range(self.data_size)\n",
    "        )\n",
    "\n",
    "data = RandomDataset(2000, 3 * [cardinality], 3 * [cardinality])"
   ]
  },
  {
   "cell_type": "code",
   "execution_count": 7,
   "metadata": {
    "id": "uXcDvVJMWsWM"
   },
   "outputs": [],
   "source": [
    "from torch.utils.data.dataset import random_split\n",
    "from torch.utils.data import DataLoader\n",
    "\n",
    "# for this case we split all available data into three subsets:\n",
    "# for training, validating after each epoch and for testing the final model\n",
    "test_size = len(data) // 3\n",
    "data_loaders = tuple(\n",
    "    DataLoader(data_split, batch_size=32)\n",
    "    for data_split\n",
    "    in random_split(data, [len(data) - 2 * test_size, test_size, test_size])\n",
    ")"
   ]
  },
  {
   "cell_type": "code",
   "execution_count": 8,
   "metadata": {
    "id": "aw1YgENfWsWN"
   },
   "outputs": [],
   "source": [
    "from neural_semigroups.associator_loss import AssociatorLoss\n",
    "from torch import Tensor\n",
    "import torch\n",
    "\n",
    "def eloss(prediction, target):\n",
    "    \"\"\"\n",
    "    Cross-Entropy loss function\n",
    "    INPUT: Two probability distributions / In this case targer represents a sorted vector\n",
    "    of ones and zeros with the cardinality n^3, and prediction is the networks generated\n",
    "    tensor\n",
    "    OUTPUT: Cross-Entropy loss between the input as defined in the experiment report\n",
    "    \"\"\"\n",
    "    sorted_tensor = torch.sort(\n",
    "        prediction.view(prediction.size()[0], -1),\n",
    "        dim=1\n",
    "    )[0]\n",
    "    return -torch.sum(target * torch.log(sorted_tensor))\n",
    "\n",
    "discrete = (\n",
    "    torch.tensor([0] * (cardinality**3 - cardinality) + [1] * cardinality)\n",
    ").to(CURRENT_DEVICE)\n",
    "\n",
    "def loss(prediction: Tensor, target: Tensor) -> Tensor:\n",
    "    return AssociatorLoss()(prediction) + eloss(prediction, discrete)"
   ]
  },
  {
   "cell_type": "code",
   "execution_count": 9,
   "metadata": {
    "id": "pTlgICFFWsWN"
   },
   "outputs": [],
   "source": [
    "from neural_semigroups import MagmaDAE\n",
    "\n",
    "dae = MagmaDAE(\n",
    "    cardinality=cardinality,\n",
    "    hidden_dims=2 * [cardinality ** 3],\n",
    "    do_reparametrization = True\n",
    ")"
   ]
  },
  {
   "cell_type": "code",
   "execution_count": 10,
   "metadata": {
    "colab": {
     "base_uri": "https://localhost:8080/",
     "height": 17,
     "referenced_widgets": [
      "7845426aa99b402882d1f2f62dc347e2",
      "aebe7be20d2d487cb1f860c7d8326e7f",
      "a1d3bdd4d6cd4c08b43f39bd45c8d494",
      "ee7e74e1526b45c18f46234df9464cde",
      "b5d35246a34f41cba96048e61470ac0b",
      "2cdfbaa6783740c6a784f8b8ed5d4e6f",
      "80f664a0b8df471fa0f58ebf820186b1",
      "712742627de245b6a4bef57a646580be"
     ]
    },
    "id": "p4xXEfI7WsWP",
    "outputId": "b007841c-8a8c-467e-92c6-8366fb0420a0"
   },
   "outputs": [
    {
     "data": {
      "application/vnd.jupyter.widget-view+json": {
       "model_id": "",
       "version_major": 2,
       "version_minor": 0
      },
      "text/plain": [
       "[1/20]   5%|5          [00:00<?]"
      ]
     },
     "metadata": {},
     "output_type": "display_data"
    }
   ],
   "source": [
    "from neural_semigroups.training_helpers import learning_pipeline\n",
    "from ignite.metrics.loss import Loss\n",
    "from neural_semigroups.training_helpers import (\n",
    "    associative_ratio, guessed_ratio)\n",
    "import numpy as np\n",
    "\n",
    "params = {\"learning_rate\": 0.001, \"epochs\": 20 }\n",
    "metrics = {\n",
    "    \"loss\": Loss(loss),\n",
    "    \"associative_ratio\": Loss(associative_ratio),\n",
    "    \"guessed_ratio\": Loss(guessed_ratio)\n",
    "}\n",
    "learning_pipeline(params, dae, loss, metrics, data_loaders)"
   ]
  },
  {
   "cell_type": "code",
   "execution_count": 14,
   "metadata": {
    "colab": {
     "background_save": true
    },
    "id": "eEirqZMHqGAt",
    "outputId": "49191e2c-bb95-40e9-fe6f-91c3832d70ab"
   },
   "outputs": [
    {
     "data": {
      "application/vnd.jupyter.widget-view+json": {
       "model_id": "a7657e831512431ba8fd9586816bd442",
       "version_major": 2,
       "version_minor": 0
      },
      "text/plain": [
       "  0%|          | 0/100000 [00:00<?, ?it/s]"
      ]
     },
     "metadata": {},
     "output_type": "display_data"
    },
    {
     "data": {
      "text/plain": [
       "303"
      ]
     },
     "execution_count": 14,
     "metadata": {},
     "output_type": "execute_result"
    }
   ],
   "source": [
    "from neural_semigroups.magma import Magma\n",
    "from tqdm.notebook import tqdm\n",
    "\n",
    "def count(data):\n",
    "    \"\"\"\n",
    "    INPUT: data is expected to be of the form (x,y) where x and y are 3D tensors\n",
    "    OUTPUT: Number of different semigroups tables generated, The list of the semigroup tables generated\n",
    "    with the number showing how many times has each one appeared, and the number of non associative\n",
    "    tables generated from data by the network.\n",
    "    \"\"\"\n",
    "    collection = dict()\n",
    "    collection_junk = 0\n",
    "    for record in tqdm(data):\n",
    "        cube = dae(\n",
    "            record[0].view(1, cardinality, cardinality, cardinality)\n",
    "        ).detach().cpu()\n",
    "        table = cube.argmax(axis=3).squeeze(0)\n",
    "        if Magma(table).is_associative:\n",
    "            cube = \"\".join(map(str, table.view(-1).tolist()))\n",
    "            collection[cube] = 1 + collection.get(\"cube\", 1)\n",
    "        else:\n",
    "            collection_junk += 1\n",
    "    return collection_junk, collection\n",
    "\n",
    "counts = count(RandomDataset(100000, 3 * [cardinality], 3 * [cardinality]))\n",
    "len(counts[1])"
   ]
  },
  {
   "cell_type": "code",
   "execution_count": 11,
   "metadata": {},
   "outputs": [],
   "source": []
  }
 ],
 "metadata": {
  "colab": {
   "collapsed_sections": [],
   "name": "Copy of dae-4-colab.ipynb",
   "provenance": []
  },
  "kernelspec": {
   "display_name": "Python 3",
   "language": "python",
   "name": "python3"
  },
  "language_info": {
   "codemirror_mode": {
    "name": "ipython",
    "version": 3
   },
   "file_extension": ".py",
   "mimetype": "text/x-python",
   "name": "python",
   "nbconvert_exporter": "python",
   "pygments_lexer": "ipython3",
   "version": "3.9.9"
  },
  "name": "ExperimentNotebook.ipynb",
  "papermill": {
   "duration": 69.237522,
   "end_time": "2021-01-18T17:48:35.635999",
   "environment_variables": null,
   "exception": null,
   "input_path": "__notebook__.ipynb",
   "output_path": "__notebook__.ipynb",
   "parameters": null,
   "start_time": "2021-01-18T17:47:26.398477",
   "version": "2.1.0"
  },
  "widgets": {
   "application/vnd.jupyter.widget-state+json": {
    "2cdfbaa6783740c6a784f8b8ed5d4e6f": {
     "model_module": "@jupyter-widgets/controls",
     "model_name": "ProgressStyleModel",
     "state": {
      "_model_module": "@jupyter-widgets/controls",
      "_model_module_version": "1.5.0",
      "_model_name": "ProgressStyleModel",
      "_view_count": null,
      "_view_module": "@jupyter-widgets/base",
      "_view_module_version": "1.2.0",
      "_view_name": "StyleView",
      "bar_color": null,
      "description_width": "initial"
     }
    },
    "712742627de245b6a4bef57a646580be": {
     "model_module": "@jupyter-widgets/controls",
     "model_name": "DescriptionStyleModel",
     "state": {
      "_model_module": "@jupyter-widgets/controls",
      "_model_module_version": "1.5.0",
      "_model_name": "DescriptionStyleModel",
      "_view_count": null,
      "_view_module": "@jupyter-widgets/base",
      "_view_module_version": "1.2.0",
      "_view_name": "StyleView",
      "description_width": ""
     }
    },
    "7845426aa99b402882d1f2f62dc347e2": {
     "model_module": "@jupyter-widgets/controls",
     "model_name": "HBoxModel",
     "state": {
      "_dom_classes": [],
      "_model_module": "@jupyter-widgets/controls",
      "_model_module_version": "1.5.0",
      "_model_name": "HBoxModel",
      "_view_count": null,
      "_view_module": "@jupyter-widgets/controls",
      "_view_module_version": "1.5.0",
      "_view_name": "HBoxView",
      "box_style": "",
      "children": [
       "IPY_MODEL_aebe7be20d2d487cb1f860c7d8326e7f",
       "IPY_MODEL_a1d3bdd4d6cd4c08b43f39bd45c8d494"
      ],
      "layout": "IPY_MODEL_ee7e74e1526b45c18f46234df9464cde"
     }
    },
    "80f664a0b8df471fa0f58ebf820186b1": {
     "model_module": "@jupyter-widgets/base",
     "model_name": "LayoutModel",
     "state": {
      "_model_module": "@jupyter-widgets/base",
      "_model_module_version": "1.2.0",
      "_model_name": "LayoutModel",
      "_view_count": null,
      "_view_module": "@jupyter-widgets/base",
      "_view_module_version": "1.2.0",
      "_view_name": "LayoutView",
      "align_content": null,
      "align_items": null,
      "align_self": null,
      "border": null,
      "bottom": null,
      "display": null,
      "flex": null,
      "flex_flow": null,
      "grid_area": null,
      "grid_auto_columns": null,
      "grid_auto_flow": null,
      "grid_auto_rows": null,
      "grid_column": null,
      "grid_gap": null,
      "grid_row": null,
      "grid_template_areas": null,
      "grid_template_columns": null,
      "grid_template_rows": null,
      "height": null,
      "justify_content": null,
      "justify_items": null,
      "left": null,
      "margin": null,
      "max_height": null,
      "max_width": null,
      "min_height": null,
      "min_width": null,
      "object_fit": null,
      "object_position": null,
      "order": null,
      "overflow": null,
      "overflow_x": null,
      "overflow_y": null,
      "padding": null,
      "right": null,
      "top": null,
      "visibility": null,
      "width": null
     }
    },
    "a1d3bdd4d6cd4c08b43f39bd45c8d494": {
     "model_module": "@jupyter-widgets/controls",
     "model_name": "HTMLModel",
     "state": {
      "_dom_classes": [],
      "_model_module": "@jupyter-widgets/controls",
      "_model_module_version": "1.5.0",
      "_model_name": "HTMLModel",
      "_view_count": null,
      "_view_module": "@jupyter-widgets/controls",
      "_view_module_version": "1.5.0",
      "_view_name": "HTMLView",
      "description": "",
      "description_tooltip": null,
      "layout": "IPY_MODEL_80f664a0b8df471fa0f58ebf820186b1",
      "placeholder": "​",
      "style": "IPY_MODEL_712742627de245b6a4bef57a646580be",
      "value": ", output=24.1 [00:07&lt;00:00]"
     }
    },
    "aebe7be20d2d487cb1f860c7d8326e7f": {
     "model_module": "@jupyter-widgets/controls",
     "model_name": "FloatProgressModel",
     "state": {
      "_dom_classes": [],
      "_model_module": "@jupyter-widgets/controls",
      "_model_module_version": "1.5.0",
      "_model_name": "FloatProgressModel",
      "_view_count": null,
      "_view_module": "@jupyter-widgets/controls",
      "_view_module_version": "1.5.0",
      "_view_name": "ProgressView",
      "bar_style": "",
      "description": "Epoch: [20/20] 100%",
      "description_tooltip": null,
      "layout": "IPY_MODEL_b5d35246a34f41cba96048e61470ac0b",
      "max": 20,
      "min": 0,
      "orientation": "horizontal",
      "style": "IPY_MODEL_2cdfbaa6783740c6a784f8b8ed5d4e6f",
      "value": 20
     }
    },
    "b5d35246a34f41cba96048e61470ac0b": {
     "model_module": "@jupyter-widgets/base",
     "model_name": "LayoutModel",
     "state": {
      "_model_module": "@jupyter-widgets/base",
      "_model_module_version": "1.2.0",
      "_model_name": "LayoutModel",
      "_view_count": null,
      "_view_module": "@jupyter-widgets/base",
      "_view_module_version": "1.2.0",
      "_view_name": "LayoutView",
      "align_content": null,
      "align_items": null,
      "align_self": null,
      "border": null,
      "bottom": null,
      "display": null,
      "flex": null,
      "flex_flow": null,
      "grid_area": null,
      "grid_auto_columns": null,
      "grid_auto_flow": null,
      "grid_auto_rows": null,
      "grid_column": null,
      "grid_gap": null,
      "grid_row": null,
      "grid_template_areas": null,
      "grid_template_columns": null,
      "grid_template_rows": null,
      "height": null,
      "justify_content": null,
      "justify_items": null,
      "left": null,
      "margin": null,
      "max_height": null,
      "max_width": null,
      "min_height": null,
      "min_width": null,
      "object_fit": null,
      "object_position": null,
      "order": null,
      "overflow": null,
      "overflow_x": null,
      "overflow_y": null,
      "padding": null,
      "right": null,
      "top": null,
      "visibility": null,
      "width": null
     }
    },
    "ee7e74e1526b45c18f46234df9464cde": {
     "model_module": "@jupyter-widgets/base",
     "model_name": "LayoutModel",
     "state": {
      "_model_module": "@jupyter-widgets/base",
      "_model_module_version": "1.2.0",
      "_model_name": "LayoutModel",
      "_view_count": null,
      "_view_module": "@jupyter-widgets/base",
      "_view_module_version": "1.2.0",
      "_view_name": "LayoutView",
      "align_content": null,
      "align_items": null,
      "align_self": null,
      "border": null,
      "bottom": null,
      "display": null,
      "flex": null,
      "flex_flow": null,
      "grid_area": null,
      "grid_auto_columns": null,
      "grid_auto_flow": null,
      "grid_auto_rows": null,
      "grid_column": null,
      "grid_gap": null,
      "grid_row": null,
      "grid_template_areas": null,
      "grid_template_columns": null,
      "grid_template_rows": null,
      "height": null,
      "justify_content": null,
      "justify_items": null,
      "left": null,
      "margin": null,
      "max_height": null,
      "max_width": null,
      "min_height": null,
      "min_width": null,
      "object_fit": null,
      "object_position": null,
      "order": null,
      "overflow": null,
      "overflow_x": null,
      "overflow_y": null,
      "padding": null,
      "right": null,
      "top": null,
      "visibility": null,
      "width": null
     }
    }
   }
  }
 },
 "nbformat": 4,
 "nbformat_minor": 4
}

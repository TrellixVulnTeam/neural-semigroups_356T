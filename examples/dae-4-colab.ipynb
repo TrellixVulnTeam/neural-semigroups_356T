{
 "cells": [
  {
   "cell_type": "code",
   "execution_count": null,
   "metadata": {
    "execution": {
     "iopub.execute_input": "2021-01-18T17:47:30.377515Z",
     "iopub.status.busy": "2021-01-18T17:47:30.376679Z",
     "iopub.status.idle": "2021-01-18T17:47:38.571525Z",
     "shell.execute_reply": "2021-01-18T17:47:38.570586Z"
    },
    "papermill": {
     "duration": 8.206884,
     "end_time": "2021-01-18T17:47:38.571634",
     "exception": false,
     "start_time": "2021-01-18T17:47:30.364750",
     "status": "completed"
    },
    "tags": []
   },
   "outputs": [],
   "source": [
    "# use this if you've just uploaded this notebook to Google Colaboratory\n",
    "# better use a GPU runtime (TPU ones are not supported by the package yet)\n",
    "\n",
    "!pip install neural-semigroups"
   ]
  },
  {
   "cell_type": "code",
   "execution_count": 12,
   "metadata": {},
   "outputs": [],
   "source": [
    "# this is a simple example for semigroups from n=4 elements\n",
    "\n",
    "cardinality = 4"
   ]
  },
  {
   "cell_type": "code",
   "execution_count": 13,
   "metadata": {},
   "outputs": [],
   "source": [
    "# we want to build a neural network for such a task:\n",
    "# given n equations between n or less variables\n",
    "# reconstruct a semigroup of n elements satisfying these equations\n",
    "# (or we can reformulate:\n",
    "# given n cells from a Cayley table\n",
    "# fill in the unknown cells to get an associative Cayley table\n",
    "# )\n",
    "\n",
    "# dropout rate is percentage of Cayley table cells to hide\n",
    "\n",
    "dropout_rate = 1 - 1 / cardinality"
   ]
  },
  {
   "cell_type": "markdown",
   "metadata": {},
   "source": [
    "We model each input Cayley table as a three index tensor $a_{ijk}$ such that\n",
    "\n",
    "$a_{ijk}=P\\left\\{e_ie_j=e_k\\right\\}$\n",
    "\n",
    "where $e_i$ are elements of a semigroup.\n",
    "\n",
    "In our training data all $a_{ijk}$ are either zeros or ones, so probability distributions involved are degenerate.\n",
    "\n",
    "When we need to hide a cell with indices $i,j$ from an original Cayley table we set\n",
    "\n",
    "$a_{ijk}=\\dfrac1n$\n",
    "\n",
    "where $n$ is the semigroup's cardinality. Thus we set a probability distribution of the multiplication result $e_ie_j$ to discrete uniform."
   ]
  },
  {
   "cell_type": "code",
   "execution_count": 14,
   "metadata": {},
   "outputs": [],
   "source": [
    "from neural_semigroups import Magma\n",
    "from neural_semigroups.utils import corrupt_input\n",
    "\n",
    "# this functions helps us to formulate our main task\n",
    "# x is a full associative Cayley table\n",
    "def transform(x):\n",
    "    # we want our network to be independent of isomorphisms\n",
    "    # consider this a case for \"data augmentation\"\n",
    "    # (applying symmetries to input data to enrich them\n",
    "    # and exploit underlying symmetries of the data domain of origin)\n",
    "    new_y = Magma(\n",
    "        Magma(x[0]).random_isomorphism()\n",
    "    ).probabilistic_cube\n",
    "    # new_y is the full table, new_x is a partial table\n",
    "    new_x = corrupt_input(\n",
    "        new_y.view(1, cardinality, cardinality, cardinality),\n",
    "        dropout_rate=dropout_rate\n",
    "    ).view(cardinality, cardinality, cardinality)\n",
    "    return new_x, new_y"
   ]
  },
  {
   "cell_type": "code",
   "execution_count": 15,
   "metadata": {
    "execution": {
     "iopub.execute_input": "2021-01-18T17:47:38.596184Z",
     "iopub.status.busy": "2021-01-18T17:47:38.595407Z",
     "iopub.status.idle": "2021-01-18T17:47:40.392241Z",
     "shell.execute_reply": "2021-01-18T17:47:40.393399Z"
    },
    "papermill": {
     "duration": 1.81292,
     "end_time": "2021-01-18T17:47:40.393581",
     "exception": false,
     "start_time": "2021-01-18T17:47:38.580661",
     "status": "completed"
    },
    "tags": []
   },
   "outputs": [],
   "source": [
    "# we use catalogues of semigroups from smallsemi package\n",
    "# https://www.gap-system.org/Packages/smallsemi.html\n",
    "\n",
    "from neural_semigroups.smallsemi_dataset import Smallsemi\n",
    "\n",
    "data = Smallsemi(\n",
    "    root=\".\",\n",
    "    download=True,\n",
    "    cardinality=cardinality,\n",
    "    transform=transform\n",
    ")"
   ]
  },
  {
   "cell_type": "code",
   "execution_count": 18,
   "metadata": {
    "execution": {
     "iopub.execute_input": "2021-01-18T17:47:40.431239Z",
     "iopub.status.busy": "2021-01-18T17:47:40.430350Z",
     "iopub.status.idle": "2021-01-18T17:47:40.437680Z",
     "shell.execute_reply": "2021-01-18T17:47:40.438404Z"
    },
    "papermill": {
     "duration": 0.030861,
     "end_time": "2021-01-18T17:47:40.438571",
     "exception": false,
     "start_time": "2021-01-18T17:47:40.407710",
     "status": "completed"
    },
    "tags": []
   },
   "outputs": [],
   "source": [
    "from torch.utils.data.dataset import random_split\n",
    "from torch.utils.data import DataLoader\n",
    "\n",
    "# for this case we split all available data into three subsets:\n",
    "# for training, validating after each epoch and for testing the final model\n",
    "data_size = len(data)\n",
    "test_size = len(data) // 3\n",
    "data_loaders = tuple(\n",
    "    DataLoader(data_split, batch_size=32)\n",
    "    for data_split\n",
    "    in random_split(data, [data_size - 2 * test_size, test_size, test_size])\n",
    ")"
   ]
  },
  {
   "cell_type": "markdown",
   "metadata": {},
   "source": [
    "Possible choice of a loss function to minimize is a special [associator loss](https://neural-semigroups.readthedocs.io/en/latest/package-documentation.html#associator-loss). When the network produces an output which differs from the input but is associative, the classical DAE loss punishes it, but this one does not."
   ]
  },
  {
   "cell_type": "code",
   "execution_count": 4,
   "metadata": {
    "execution": {
     "iopub.execute_input": "2021-01-18T17:47:40.475473Z",
     "iopub.status.busy": "2021-01-18T17:47:40.474484Z",
     "iopub.status.idle": "2021-01-18T17:47:40.477116Z",
     "shell.execute_reply": "2021-01-18T17:47:40.476396Z"
    },
    "papermill": {
     "duration": 0.024544,
     "end_time": "2021-01-18T17:47:40.477266",
     "exception": false,
     "start_time": "2021-01-18T17:47:40.452722",
     "status": "completed"
    },
    "tags": []
   },
   "outputs": [],
   "source": [
    "from neural_semigroups.associator_loss import AssociatorLoss\n",
    "from torch import Tensor\n",
    "\n",
    "def loss(prediction: Tensor, target: Tensor) -> Tensor:\n",
    "    return AssociatorLoss()(prediction)"
   ]
  },
  {
   "cell_type": "markdown",
   "metadata": {},
   "source": [
    "We choose a (denoising) autoencoder as an architecture for our neural network. It simply gets an input (disturbed) tensor and applies a linear transformations in the same dimension (not as in a common autoencoder) with a `ReLU` non-linearity and batch normalization four times (two to 'encode' and two to 'decode'). See the package code for the details.\n",
    "\n",
    "One might consider these $n^3\\rightarrow n^3$ transformations as basis changes in a free algebra on the elements of a semigroup."
   ]
  },
  {
   "cell_type": "code",
   "execution_count": 22,
   "metadata": {
    "execution": {
     "iopub.execute_input": "2021-01-18T17:47:40.511902Z",
     "iopub.status.busy": "2021-01-18T17:47:40.510929Z",
     "iopub.status.idle": "2021-01-18T17:47:45.003311Z",
     "shell.execute_reply": "2021-01-18T17:47:45.002216Z"
    },
    "papermill": {
     "duration": 4.511945,
     "end_time": "2021-01-18T17:47:45.003428",
     "exception": false,
     "start_time": "2021-01-18T17:47:40.491483",
     "status": "completed"
    },
    "tags": []
   },
   "outputs": [],
   "source": [
    "from neural_semigroups import MagmaDAE\n",
    "\n",
    "dae = MagmaDAE(\n",
    "    cardinality=cardinality,\n",
    "    hidden_dims=2 * [cardinality ** 3],\n",
    "    dropout_rate=dropout_rate\n",
    ")"
   ]
  },
  {
   "cell_type": "code",
   "execution_count": 23,
   "metadata": {},
   "outputs": [
    {
     "data": {
      "text/plain": [
       "MagmaDAE(\n",
       "  (encoder_layers): Sequential(\n",
       "    (linear00): Linear(in_features=64, out_features=64, bias=True)\n",
       "    (relu00): ReLU()\n",
       "    (bn00): BatchNorm1d(64, eps=1e-05, momentum=0.1, affine=True, track_running_stats=True)\n",
       "    (linear01): Linear(in_features=64, out_features=64, bias=True)\n",
       "    (relu01): ReLU()\n",
       "    (bn01): BatchNorm1d(64, eps=1e-05, momentum=0.1, affine=True, track_running_stats=True)\n",
       "  )\n",
       "  (decoder_layers): Sequential(\n",
       "    (linear10): Linear(in_features=64, out_features=64, bias=True)\n",
       "    (relu10): ReLU()\n",
       "    (bn10): BatchNorm1d(64, eps=1e-05, momentum=0.1, affine=True, track_running_stats=True)\n",
       "    (linear11): Linear(in_features=64, out_features=64, bias=True)\n",
       "    (relu11): ReLU()\n",
       "    (bn11): BatchNorm1d(64, eps=1e-05, momentum=0.1, affine=True, track_running_stats=True)\n",
       "  )\n",
       ")"
      ]
     },
     "execution_count": 23,
     "metadata": {},
     "output_type": "execute_result"
    }
   ],
   "source": [
    "dae"
   ]
  },
  {
   "cell_type": "markdown",
   "metadata": {},
   "source": [
    "This architecture is relatively light having less than 20K weights."
   ]
  },
  {
   "cell_type": "code",
   "execution_count": 28,
   "metadata": {},
   "outputs": [
    {
     "data": {
      "text/plain": [
       "17152"
      ]
     },
     "execution_count": 28,
     "metadata": {},
     "output_type": "execute_result"
    }
   ],
   "source": [
    "sum(p.numel() for p in dae.parameters())"
   ]
  },
  {
   "cell_type": "code",
   "execution_count": 7,
   "metadata": {
    "execution": {
     "iopub.execute_input": "2021-01-18T17:48:28.635830Z",
     "iopub.status.busy": "2021-01-18T17:48:28.635135Z",
     "iopub.status.idle": "2021-01-18T17:48:28.646864Z",
     "shell.execute_reply": "2021-01-18T17:48:28.646343Z"
    },
    "papermill": {
     "duration": 0.025161,
     "end_time": "2021-01-18T17:48:28.646951",
     "exception": false,
     "start_time": "2021-01-18T17:48:28.621790",
     "status": "completed"
    },
    "tags": []
   },
   "outputs": [],
   "source": [
    "%load_ext tensorboard"
   ]
  },
  {
   "cell_type": "code",
   "execution_count": 8,
   "metadata": {
    "execution": {
     "iopub.execute_input": "2021-01-18T17:48:28.671850Z",
     "iopub.status.busy": "2021-01-18T17:48:28.671043Z",
     "iopub.status.idle": "2021-01-18T17:48:35.216508Z",
     "shell.execute_reply": "2021-01-18T17:48:35.215531Z"
    },
    "papermill": {
     "duration": 6.559901,
     "end_time": "2021-01-18T17:48:35.216613",
     "exception": false,
     "start_time": "2021-01-18T17:48:28.656712",
     "status": "completed"
    },
    "tags": []
   },
   "outputs": [
    {
     "data": {
      "text/html": [
       "\n",
       "      <iframe id=\"tensorboard-frame-ee9d252528a7ed6a\" width=\"100%\" height=\"800\" frameborder=\"0\">\n",
       "      </iframe>\n",
       "      <script>\n",
       "        (function() {\n",
       "          const frame = document.getElementById(\"tensorboard-frame-ee9d252528a7ed6a\");\n",
       "          const url = new URL(\"/\", window.location);\n",
       "          const port = 6006;\n",
       "          if (port) {\n",
       "            url.port = port;\n",
       "          }\n",
       "          frame.src = url;\n",
       "        })();\n",
       "      </script>\n",
       "    "
      ],
      "text/plain": [
       "<IPython.core.display.HTML object>"
      ]
     },
     "metadata": {},
     "output_type": "display_data"
    }
   ],
   "source": [
    "%tensorboard --logdir runs"
   ]
  },
  {
   "cell_type": "code",
   "execution_count": 29,
   "metadata": {
    "execution": {
     "iopub.execute_input": "2021-01-18T17:47:45.026232Z",
     "iopub.status.busy": "2021-01-18T17:47:45.025695Z",
     "iopub.status.idle": "2021-01-18T17:47:45.754094Z",
     "shell.execute_reply": "2021-01-18T17:47:45.753507Z"
    },
    "papermill": {
     "duration": 0.741601,
     "end_time": "2021-01-18T17:47:45.754228",
     "exception": false,
     "start_time": "2021-01-18T17:47:45.012627",
     "status": "completed"
    },
    "tags": []
   },
   "outputs": [],
   "source": [
    "!rm -rf runs"
   ]
  },
  {
   "cell_type": "code",
   "execution_count": 30,
   "metadata": {
    "execution": {
     "iopub.execute_input": "2021-01-18T17:47:45.780748Z",
     "iopub.status.busy": "2021-01-18T17:47:45.780188Z",
     "iopub.status.idle": "2021-01-18T17:48:28.611928Z",
     "shell.execute_reply": "2021-01-18T17:48:28.611448Z"
    },
    "papermill": {
     "duration": 42.847562,
     "end_time": "2021-01-18T17:48:28.612029",
     "exception": false,
     "start_time": "2021-01-18T17:47:45.764467",
     "status": "completed"
    },
    "tags": []
   },
   "outputs": [
    {
     "data": {
      "application/vnd.jupyter.widget-view+json": {
       "model_id": "",
       "version_major": 2,
       "version_minor": 0
      },
      "text/plain": [
       "[1/1000]   0%|           [00:00<?]"
      ]
     },
     "metadata": {},
     "output_type": "display_data"
    }
   ],
   "source": [
    "from neural_semigroups.training_helpers import learning_pipeline\n",
    "from ignite.metrics.loss import Loss\n",
    "from neural_semigroups.training_helpers import associative_ratio, guessed_ratio\n",
    "\n",
    "params = {\"learning_rate\": 0.001, \"epochs\": 1000}\n",
    "metrics = {\n",
    "    \"loss\": Loss(loss),\n",
    "    \"associative_ratio\": Loss(associative_ratio),\n",
    "    \"guessed_ratio\": Loss(guessed_ratio)\n",
    "}\n",
    "learning_pipeline(params, dae, loss, metrics, data_loaders)"
   ]
  },
  {
   "cell_type": "markdown",
   "metadata": {},
   "source": [
    "The result is that we managed to get an associative table in about 60% of all the test cases. On the other hand, getting an associative Cayley table from a handful of known cells at random is highly improbable."
   ]
  }
 ],
 "metadata": {
  "kernelspec": {
   "display_name": "Python 3",
   "language": "python",
   "name": "python3"
  },
  "language_info": {
   "codemirror_mode": {
    "name": "ipython",
    "version": 3
   },
   "file_extension": ".py",
   "mimetype": "text/x-python",
   "name": "python",
   "nbconvert_exporter": "python",
   "pygments_lexer": "ipython3",
   "version": "3.6.9"
  },
  "name": "dae-4.ipynb",
  "papermill": {
   "duration": 69.237522,
   "end_time": "2021-01-18T17:48:35.635999",
   "environment_variables": {},
   "exception": null,
   "input_path": "__notebook__.ipynb",
   "output_path": "__notebook__.ipynb",
   "parameters": {},
   "start_time": "2021-01-18T17:47:26.398477",
   "version": "2.1.0"
  },
  "widgets": {
   "application/vnd.jupyter.widget-state+json": {
    "state": {
     "040965f5b3b34f7bb8db425f5a2518c8": {
      "model_module": "@jupyter-widgets/controls",
      "model_module_version": "1.5.0",
      "model_name": "HTMLModel",
      "state": {
       "_dom_classes": [],
       "_model_module": "@jupyter-widgets/controls",
       "_model_module_version": "1.5.0",
       "_model_name": "HTMLModel",
       "_view_count": null,
       "_view_module": "@jupyter-widgets/controls",
       "_view_module_version": "1.5.0",
       "_view_name": "HTMLView",
       "description": "",
       "description_tooltip": null,
       "layout": "IPY_MODEL_056fbf9a3faf4a5f845b9830b3051ead",
       "placeholder": "​",
       "style": "IPY_MODEL_27005bdcf8964924bdf98260f6194922",
       "value": ", output=5.73 [00:41&lt;00:00]"
      }
     },
     "056fbf9a3faf4a5f845b9830b3051ead": {
      "model_module": "@jupyter-widgets/base",
      "model_module_version": "1.2.0",
      "model_name": "LayoutModel",
      "state": {
       "_model_module": "@jupyter-widgets/base",
       "_model_module_version": "1.2.0",
       "_model_name": "LayoutModel",
       "_view_count": null,
       "_view_module": "@jupyter-widgets/base",
       "_view_module_version": "1.2.0",
       "_view_name": "LayoutView",
       "align_content": null,
       "align_items": null,
       "align_self": null,
       "border": null,
       "bottom": null,
       "display": null,
       "flex": null,
       "flex_flow": null,
       "grid_area": null,
       "grid_auto_columns": null,
       "grid_auto_flow": null,
       "grid_auto_rows": null,
       "grid_column": null,
       "grid_gap": null,
       "grid_row": null,
       "grid_template_areas": null,
       "grid_template_columns": null,
       "grid_template_rows": null,
       "height": null,
       "justify_content": null,
       "justify_items": null,
       "left": null,
       "margin": null,
       "max_height": null,
       "max_width": null,
       "min_height": null,
       "min_width": null,
       "object_fit": null,
       "object_position": null,
       "order": null,
       "overflow": null,
       "overflow_x": null,
       "overflow_y": null,
       "padding": null,
       "right": null,
       "top": null,
       "visibility": null,
       "width": null
      }
     },
     "13c32e2dfecf4fdbb258d2cc3c40a33e": {
      "model_module": "@jupyter-widgets/controls",
      "model_module_version": "1.5.0",
      "model_name": "ProgressStyleModel",
      "state": {
       "_model_module": "@jupyter-widgets/controls",
       "_model_module_version": "1.5.0",
       "_model_name": "ProgressStyleModel",
       "_view_count": null,
       "_view_module": "@jupyter-widgets/base",
       "_view_module_version": "1.2.0",
       "_view_name": "StyleView",
       "bar_color": null,
       "description_width": "initial"
      }
     },
     "1c92a222a2364d05b42f989d96edf843": {
      "model_module": "@jupyter-widgets/controls",
      "model_module_version": "1.5.0",
      "model_name": "FloatProgressModel",
      "state": {
       "_dom_classes": [],
       "_model_module": "@jupyter-widgets/controls",
       "_model_module_version": "1.5.0",
       "_model_name": "FloatProgressModel",
       "_view_count": null,
       "_view_module": "@jupyter-widgets/controls",
       "_view_module_version": "1.5.0",
       "_view_name": "ProgressView",
       "bar_style": "",
       "description": "Epoch: [1000/1000] 100%",
       "description_tooltip": null,
       "layout": "IPY_MODEL_716cc4a8ca5f42ebb8e868f6b3c03523",
       "max": 1000,
       "min": 0,
       "orientation": "horizontal",
       "style": "IPY_MODEL_13c32e2dfecf4fdbb258d2cc3c40a33e",
       "value": 1000
      }
     },
     "27005bdcf8964924bdf98260f6194922": {
      "model_module": "@jupyter-widgets/controls",
      "model_module_version": "1.5.0",
      "model_name": "DescriptionStyleModel",
      "state": {
       "_model_module": "@jupyter-widgets/controls",
       "_model_module_version": "1.5.0",
       "_model_name": "DescriptionStyleModel",
       "_view_count": null,
       "_view_module": "@jupyter-widgets/base",
       "_view_module_version": "1.2.0",
       "_view_name": "StyleView",
       "description_width": ""
      }
     },
     "6e797f5aff284a5581d3033043b17242": {
      "model_module": "@jupyter-widgets/controls",
      "model_module_version": "1.5.0",
      "model_name": "HBoxModel",
      "state": {
       "_dom_classes": [],
       "_model_module": "@jupyter-widgets/controls",
       "_model_module_version": "1.5.0",
       "_model_name": "HBoxModel",
       "_view_count": null,
       "_view_module": "@jupyter-widgets/controls",
       "_view_module_version": "1.5.0",
       "_view_name": "HBoxView",
       "box_style": "",
       "children": [
        "IPY_MODEL_1c92a222a2364d05b42f989d96edf843",
        "IPY_MODEL_040965f5b3b34f7bb8db425f5a2518c8"
       ],
       "layout": "IPY_MODEL_7fea7cb9f6614dcbb9c8656111c17887"
      }
     },
     "716cc4a8ca5f42ebb8e868f6b3c03523": {
      "model_module": "@jupyter-widgets/base",
      "model_module_version": "1.2.0",
      "model_name": "LayoutModel",
      "state": {
       "_model_module": "@jupyter-widgets/base",
       "_model_module_version": "1.2.0",
       "_model_name": "LayoutModel",
       "_view_count": null,
       "_view_module": "@jupyter-widgets/base",
       "_view_module_version": "1.2.0",
       "_view_name": "LayoutView",
       "align_content": null,
       "align_items": null,
       "align_self": null,
       "border": null,
       "bottom": null,
       "display": null,
       "flex": null,
       "flex_flow": null,
       "grid_area": null,
       "grid_auto_columns": null,
       "grid_auto_flow": null,
       "grid_auto_rows": null,
       "grid_column": null,
       "grid_gap": null,
       "grid_row": null,
       "grid_template_areas": null,
       "grid_template_columns": null,
       "grid_template_rows": null,
       "height": null,
       "justify_content": null,
       "justify_items": null,
       "left": null,
       "margin": null,
       "max_height": null,
       "max_width": null,
       "min_height": null,
       "min_width": null,
       "object_fit": null,
       "object_position": null,
       "order": null,
       "overflow": null,
       "overflow_x": null,
       "overflow_y": null,
       "padding": null,
       "right": null,
       "top": null,
       "visibility": null,
       "width": null
      }
     },
     "7fea7cb9f6614dcbb9c8656111c17887": {
      "model_module": "@jupyter-widgets/base",
      "model_module_version": "1.2.0",
      "model_name": "LayoutModel",
      "state": {
       "_model_module": "@jupyter-widgets/base",
       "_model_module_version": "1.2.0",
       "_model_name": "LayoutModel",
       "_view_count": null,
       "_view_module": "@jupyter-widgets/base",
       "_view_module_version": "1.2.0",
       "_view_name": "LayoutView",
       "align_content": null,
       "align_items": null,
       "align_self": null,
       "border": null,
       "bottom": null,
       "display": null,
       "flex": null,
       "flex_flow": null,
       "grid_area": null,
       "grid_auto_columns": null,
       "grid_auto_flow": null,
       "grid_auto_rows": null,
       "grid_column": null,
       "grid_gap": null,
       "grid_row": null,
       "grid_template_areas": null,
       "grid_template_columns": null,
       "grid_template_rows": null,
       "height": null,
       "justify_content": null,
       "justify_items": null,
       "left": null,
       "margin": null,
       "max_height": null,
       "max_width": null,
       "min_height": null,
       "min_width": null,
       "object_fit": null,
       "object_position": null,
       "order": null,
       "overflow": null,
       "overflow_x": null,
       "overflow_y": null,
       "padding": null,
       "right": null,
       "top": null,
       "visibility": null,
       "width": null
      }
     }
    },
    "version_major": 2,
    "version_minor": 0
   }
  }
 },
 "nbformat": 4,
 "nbformat_minor": 4
}

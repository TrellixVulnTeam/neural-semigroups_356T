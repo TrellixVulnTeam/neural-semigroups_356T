{
 "cells": [
  {
   "cell_type": "raw",
   "metadata": {
    "collapsed": false
   },
   "source": [
    "\"\"\"\n",
    "   Copyright 2019-2020 Boris Shminke\n",
    "\n",
    "   Licensed under the Apache License, Version 2.0 (the \"License\");\n",
    "   you may not use this file except in compliance with the License.\n",
    "   You may obtain a copy of the License at\n",
    "\n",
    "       http://www.apache.org/licenses/LICENSE-2.0\n",
    "\n",
    "   Unless required by applicable law or agreed to in writing, software\n",
    "   distributed under the License is distributed on an \"AS IS\" BASIS,\n",
    "   WITHOUT WARRANTIES OR CONDITIONS OF ANY KIND, either express or implied.\n",
    "   See the License for the specific language governing permissions and\n",
    "   limitations under the License.\n",
    "\"\"\""
   ]
  },
  {
   "cell_type": "markdown",
   "metadata": {
    "collapsed": false
   },
   "source": [
    "Here is an exmaple of usage for the main class of `neural-semigroups` package, `CayleyDatabase`.\n",
    "First, we need to create a database. By default, is downloads data from `smallsemi` package of [the GAP system](https://www.gap-system.org). It provides easily accessable data files for semigroups of cardinality from 2 to 7. In this example we will use cardinality 5. Downloading data from the internet can take minutes but is done only once. Loading data to memory still can take several seconds on any re-iteration."
   ]
  },
  {
   "cell_type": "code",
   "execution_count": 5,
   "metadata": {
    "autoscroll": false,
    "collapsed": false,
    "ein.hycell": false,
    "ein.tags": "worksheet-0",
    "slideshow": {
     "slide_type": "-"
    }
   },
   "outputs": [
    {
     "name": "stdout",
     "output_type": "stream",
     "text": [
      "CPU times: user 8.33 s, sys: 144 ms, total: 8.47 s\n",
      "Wall time: 8.47 s\n"
     ]
    }
   ],
   "source": [
    "%%time\n",
    "from neural_semigroups.cayley_database import CayleyDatabase\n",
    "\n",
    "cayley_db = CayleyDatabase(cardinality=7)"
   ]
  },
  {
   "cell_type": "code",
   "execution_count": 6,
   "metadata": {
    "collapsed": false
   },
   "outputs": [
    {
     "name": "stdout",
     "output_type": "stream",
     "text": [
      "836021 entires loaded\n"
     ]
    }
   ],
   "source": [
    "total_tables = cayley_db.database.shape[0]\n",
    "print(f\"{total_tables} entires loaded\")"
   ]
  },
  {
   "cell_type": "markdown",
   "metadata": {
    "collapsed": false,
    "ein.tags": "worksheet-0",
    "slideshow": {
     "slide_type": "-"
    }
   },
   "source": [
    "Each entry of the Cayley database of cardinality 3 is a `numpy` array which is denoted by the following Python code:\n",
    "<pre>\n",
    "np.array([\n",
    "    [0, 1, 2],\n",
    "    [1, 2, 0],\n",
    "    [2, 0, 1]\n",
    "])\n",
    "</pre>\n",
    "\n",
    "This code corresponds to a Cayley table\n",
    "\n",
    "|*|0|1|2|\n",
    "|-|-|-|-|\n",
    "|0|0|1|2|\n",
    "|1|1|2|0|\n",
    "|2|2|0|1|\n",
    "\n",
    "i.e. $1 * 1 = 2$, $2 * 1 = 0$, etc.\n",
    "\n",
    "Let's take a look at some etries from our database (of different cardinality)."
   ]
  },
  {
   "cell_type": "code",
   "execution_count": 7,
   "metadata": {
    "autoscroll": false,
    "collapsed": false,
    "ein.hycell": false,
    "ein.tags": "worksheet-0",
    "slideshow": {
     "slide_type": "-"
    }
   },
   "outputs": [
    {
     "name": "stdout",
     "output_type": "stream",
     "text": [
      "[[0 0 0 0 0 0 0]\n",
      " [0 0 0 0 0 0 0]\n",
      " [0 0 0 0 0 0 1]\n",
      " [0 0 0 0 1 1 0]\n",
      " [0 0 0 1 1 0 0]\n",
      " [0 0 0 1 0 1 1]\n",
      " [0 0 1 0 0 1 1]]\n",
      "[[0 0 0 0 0 0 0]\n",
      " [0 0 0 0 0 0 0]\n",
      " [0 0 0 0 0 0 0]\n",
      " [0 0 0 1 0 1 1]\n",
      " [0 0 1 0 1 0 1]\n",
      " [0 0 0 1 0 1 1]\n",
      " [0 0 1 0 1 1 1]]\n"
     ]
    }
   ],
   "source": [
    "import numpy as np\n",
    "\n",
    "print(cayley_db.database[np.random.randint(0, total_tables)])\n",
    "print(cayley_db.database[np.random.randint(0, total_tables)])"
   ]
  }
 ],
 "metadata": {
  "kernelspec": {
   "argv": [
    "python",
    "-m",
    "ipykernel_launcher",
    "-f",
    "{connection_file}"
   ],
   "display_name": "Python 3",
   "env": null,
   "interrupt_mode": "signal",
   "language": "python",
   "metadata": null,
   "name": "python3"
  },
  "language_info": {
   "codemirror_mode": {
    "name": "ipython",
    "version": 3
   },
   "file_extension": ".py",
   "mimetype": "text/x-python",
   "name": "python",
   "nbconvert_exporter": "python",
   "pygments_lexer": "ipython3",
   "version": "3.7.4"
  },
  "name": "cayley_database.ipynb"
 },
 "nbformat": 4,
 "nbformat_minor": 2
}

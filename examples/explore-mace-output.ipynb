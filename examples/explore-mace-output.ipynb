{
 "cells": [
  {
   "cell_type": "code",
   "execution_count": 1,
   "metadata": {},
   "outputs": [],
   "source": [
    "import sqlite3\n",
    "\n",
    "con = sqlite3.connect(\"../scripts/2020-12-03.db\", isolation_level=None)\n",
    "con.execute(\"PRAGMA journal_mode=WAL;\")\n",
    "cursor = con.cursor()"
   ]
  },
  {
   "cell_type": "code",
   "execution_count": 2,
   "metadata": {},
   "outputs": [],
   "source": [
    "cursor.execute(\"SELECT COUNT(*) FROM mace_output;\")\n",
    "row_count = cursor.fetchone()[0]"
   ]
  },
  {
   "cell_type": "code",
   "execution_count": 3,
   "metadata": {},
   "outputs": [
    {
     "data": {
      "application/vnd.jupyter.widget-view+json": {
       "model_id": "6cc74fd8803a4c2a95898f6c9205312b",
       "version_major": 2,
       "version_minor": 0
      },
      "text/plain": [
       "HBox(children=(HTML(value=''), FloatProgress(value=0.0, max=308220.0), HTML(value='')))"
      ]
     },
     "metadata": {},
     "output_type": "display_data"
    },
    {
     "name": "stdout",
     "output_type": "stream",
     "text": [
      "\n"
     ]
    }
   ],
   "source": [
    "import re\n",
    "from tqdm.notebook import tqdm\n",
    "\n",
    "cursor.execute(\"SELECT output FROM mace_output\")\n",
    "err = 0\n",
    "total = 0\n",
    "for row in tqdm(range(row_count)):\n",
    "    total += 1\n",
    "    output = cursor.fetchone()[0]\n",
    "    search_result = re.search(r\".*INPUT(.*)end of input.*\", output, re.DOTALL)\n",
    "    input_lines = search_result.groups()[0]\n",
    "    x = set()\n",
    "    for equation in re.finditer(r\"(\\d+) \\* (\\d+) = (\\d+)\\.\", input_lines):\n",
    "        i, j, k = map(int, equation.groups())\n",
    "        ind = 13 * i + j\n",
    "        if ind in x:\n",
    "            err += 1\n",
    "            break\n",
    "        else:\n",
    "            x.add(ind)"
   ]
  },
  {
   "cell_type": "code",
   "execution_count": 4,
   "metadata": {},
   "outputs": [
    {
     "name": "stdout",
     "output_type": "stream",
     "text": [
      "0 308220\n"
     ]
    }
   ],
   "source": [
    "print(err, total)"
   ]
  },
  {
   "cell_type": "code",
   "execution_count": 5,
   "metadata": {},
   "outputs": [
    {
     "ename": "OperationalError",
     "evalue": "duplicate column name: number_of_cells",
     "output_type": "error",
     "traceback": [
      "\u001b[0;31m---------------------------------------------------------------------------\u001b[0m",
      "\u001b[0;31mOperationalError\u001b[0m                          Traceback (most recent call last)",
      "\u001b[0;32m<ipython-input-5-fe512a225a25>\u001b[0m in \u001b[0;36m<module>\u001b[0;34m\u001b[0m\n\u001b[0;32m----> 1\u001b[0;31m \u001b[0mcursor\u001b[0m\u001b[0;34m.\u001b[0m\u001b[0mexecute\u001b[0m\u001b[0;34m(\u001b[0m\u001b[0;34m\"ALTER TABLE mace_output ADD COLUMN number_of_cells INTEGER\"\u001b[0m\u001b[0;34m)\u001b[0m\u001b[0;34m\u001b[0m\u001b[0;34m\u001b[0m\u001b[0m\n\u001b[0m",
      "\u001b[0;31mOperationalError\u001b[0m: duplicate column name: number_of_cells"
     ]
    }
   ],
   "source": [
    "cursor.execute(\"ALTER TABLE mace_output ADD COLUMN number_of_cells INTEGER\")"
   ]
  },
  {
   "cell_type": "code",
   "execution_count": 6,
   "metadata": {},
   "outputs": [
    {
     "data": {
      "application/vnd.jupyter.widget-view+json": {
       "model_id": "3e3882badb8e42569b1e7035832901e0",
       "version_major": 2,
       "version_minor": 0
      },
      "text/plain": [
       "HBox(children=(HTML(value=''), FloatProgress(value=0.0, max=308220.0), HTML(value='')))"
      ]
     },
     "metadata": {},
     "output_type": "display_data"
    },
    {
     "name": "stdout",
     "output_type": "stream",
     "text": [
      "\n"
     ]
    }
   ],
   "source": [
    "cursor.execute(\"SELECT rowid, output FROM mace_output\")\n",
    "insert_cursor = con.cursor()\n",
    "for row in tqdm(range(row_count)):\n",
    "    data = cursor.fetchone()\n",
    "    output = data[1]\n",
    "    row_id = data[0]\n",
    "    search_result = re.search(r\".*INPUT(.*)end of input.*\", output, re.DOTALL)\n",
    "    input_lines = search_result.groups()[0]\n",
    "    eq_num = 0\n",
    "    for equation in re.finditer(r\"(\\d+) \\* (\\d+) = (\\d+)\\.\", input_lines):\n",
    "        eq_num += 1\n",
    "    insert_cursor.execute(\n",
    "        \"UPDATE mace_output SET number_of_cells = ? WHERE rowid = ?\",\n",
    "        (eq_num, row_id)\n",
    "    )"
   ]
  },
  {
   "cell_type": "code",
   "execution_count": 9,
   "metadata": {},
   "outputs": [
    {
     "data": {
      "text/plain": [
       "[(1, 1.0, 1880, 1880),\n",
       " (2, 1.0, 1820, 1820),\n",
       " (3, 1.0, 1580, 1580),\n",
       " (4, 1.0, 2220, 2220),\n",
       " (5, 1.0, 1720, 1720),\n",
       " (6, 0.967391304347826, 1780, 1840),\n",
       " (7, 0.9295774647887324, 1320, 1420),\n",
       " (8, 0.946236559139785, 1760, 1860),\n",
       " (9, 0.8765432098765432, 1420, 1620),\n",
       " (10, 0.7191011235955056, 1280, 1780),\n",
       " (11, 0.39, 780, 2000),\n",
       " (12, 0.17708333333333334, 340, 1920),\n",
       " (13, 0.02727272727272727, 60, 2200),\n",
       " (14, 0.0, 0, 1780),\n",
       " (15, 0.0, 0, 1720),\n",
       " (16, 0.0, 0, 1940),\n",
       " (17, 0.0, 0, 2000),\n",
       " (18, 0.0, 0, 1800),\n",
       " (19, 0.0, 0, 1520),\n",
       " (20, 0.0, 0, 1920),\n",
       " (21, 0.0, 0, 2160),\n",
       " (22, 0.0, 0, 1700),\n",
       " (23, 0.0, 0, 1680),\n",
       " (24, 0.0, 0, 1660),\n",
       " (25, 0.0, 0, 1960),\n",
       " (26, 0.0, 0, 2020),\n",
       " (27, 0.0, 0, 1820),\n",
       " (28, 0.0, 0, 2080),\n",
       " (29, 0.0, 0, 1880),\n",
       " (30, 0.0, 0, 1660),\n",
       " (31, 0.0, 0, 2280),\n",
       " (32, 0.0, 0, 1740),\n",
       " (33, 0.0, 0, 2260),\n",
       " (34, 0.0, 0, 1700),\n",
       " (35, 0.0, 0, 1620),\n",
       " (36, 0.0, 0, 1900),\n",
       " (37, 0.0, 0, 1700),\n",
       " (38, 0.0, 0, 2300),\n",
       " (39, 0.0, 0, 1840),\n",
       " (40, 0.0, 0, 2000),\n",
       " (41, 0.0, 0, 1960),\n",
       " (42, 0.0, 0, 2080),\n",
       " (43, 0.0, 0, 2020),\n",
       " (44, 0.0, 0, 2080),\n",
       " (45, 0.0, 0, 1740),\n",
       " (46, 0.0, 0, 1860),\n",
       " (47, 0.0, 0, 1880),\n",
       " (48, 0.0, 0, 1620),\n",
       " (49, 0.0, 0, 1540),\n",
       " (50, 0.0, 0, 1860),\n",
       " (51, 0.0, 0, 1940),\n",
       " (52, 0.0, 0, 1840),\n",
       " (53, 0.0, 0, 2360),\n",
       " (54, 0.0, 0, 1840),\n",
       " (55, 0.0, 0, 1820),\n",
       " (56, 0.0, 0, 2000),\n",
       " (57, 0.0, 0, 1580),\n",
       " (58, 0.0, 0, 1780),\n",
       " (59, 0.0, 0, 1760),\n",
       " (60, 0.0, 0, 1820),\n",
       " (61, 0.0, 0, 1820),\n",
       " (62, 0.0, 0, 1920),\n",
       " (63, 0.0, 0, 1880),\n",
       " (64, 0.0, 0, 1640),\n",
       " (65, 0.0, 0, 2080),\n",
       " (66, 0.0, 0, 1700),\n",
       " (67, 0.0, 0, 1980),\n",
       " (68, 0.0, 0, 1960),\n",
       " (69, 0.0, 0, 1860),\n",
       " (70, 0.0, 0, 1820),\n",
       " (71, 0.0, 0, 1620),\n",
       " (72, 0.0, 0, 1840),\n",
       " (73, 0.0, 0, 1400),\n",
       " (74, 0.0, 0, 2100),\n",
       " (75, 0.0, 0, 1680),\n",
       " (76, 0.0, 0, 2000),\n",
       " (77, 0.0, 0, 2020),\n",
       " (78, 0.0, 0, 2040),\n",
       " (79, 0.0, 0, 1520),\n",
       " (80, 0.0, 0, 2000),\n",
       " (81, 0.0, 0, 1800),\n",
       " (82, 0.0, 0, 1980),\n",
       " (83, 0.0, 0, 1980),\n",
       " (84, 0.0, 0, 1720),\n",
       " (85, 0.0, 0, 1740),\n",
       " (86, 0.0, 0, 1860),\n",
       " (87, 0.0, 0, 2020),\n",
       " (88, 0.0, 0, 1960),\n",
       " (89, 0.0, 0, 1720),\n",
       " (90, 0.0, 0, 1920),\n",
       " (91, 0.0, 0, 1700),\n",
       " (92, 0.0, 0, 1900),\n",
       " (93, 0.0, 0, 2280),\n",
       " (94, 0.0, 0, 1700),\n",
       " (95, 0.0, 0, 1700),\n",
       " (96, 0.0, 0, 1580),\n",
       " (97, 0.0, 0, 1780),\n",
       " (98, 0.0, 0, 1980),\n",
       " (99, 0.0, 0, 1740),\n",
       " (100, 0.0, 0, 1720),\n",
       " (101, 0.0, 0, 1700),\n",
       " (102, 0.0, 0, 1700),\n",
       " (103, 0.0, 0, 1700),\n",
       " (104, 0.0, 0, 1900),\n",
       " (105, 0.0, 0, 1720),\n",
       " (106, 0.0, 0, 1640),\n",
       " (107, 0.0, 0, 1840),\n",
       " (108, 0.0, 0, 2140),\n",
       " (109, 0.0, 0, 2040),\n",
       " (110, 0.0, 0, 2140),\n",
       " (111, 0.0, 0, 1900),\n",
       " (112, 0.0, 0, 2020),\n",
       " (113, 0.0, 0, 1640),\n",
       " (114, 0.0, 0, 2020),\n",
       " (115, 0.0, 0, 1740),\n",
       " (116, 0.0, 0, 1700),\n",
       " (117, 0.0, 0, 2040),\n",
       " (118, 0.0, 0, 1660),\n",
       " (119, 0.0, 0, 1500),\n",
       " (120, 0.0, 0, 1900),\n",
       " (121, 0.0, 0, 1700),\n",
       " (122, 0.0, 0, 1900),\n",
       " (123, 0.0, 0, 1860),\n",
       " (124, 0.0, 0, 1620),\n",
       " (125, 0.0, 0, 1460),\n",
       " (126, 0.0, 0, 1600),\n",
       " (127, 0.0, 0, 1920),\n",
       " (128, 0.0, 0, 1820),\n",
       " (129, 0.0, 0, 2080),\n",
       " (130, 0.0, 0, 1800),\n",
       " (131, 0.0, 0, 1760),\n",
       " (132, 0.0, 0, 1720),\n",
       " (133, 0.0, 0, 1760),\n",
       " (134, 0.0, 0, 1800),\n",
       " (135, 0.0, 0, 1660),\n",
       " (136, 0.0, 0, 1620),\n",
       " (137, 0.0, 0, 1540),\n",
       " (138, 0.0, 0, 1900),\n",
       " (139, 0.0, 0, 1840),\n",
       " (140, 0.0, 0, 1880),\n",
       " (141, 0.0, 0, 1840),\n",
       " (142, 0.0, 0, 1820),\n",
       " (143, 0.0, 0, 2340),\n",
       " (144, 0.0, 0, 1640),\n",
       " (145, 0.0, 0, 1720),\n",
       " (146, 0.0, 0, 1400),\n",
       " (147, 0.0, 0, 1460),\n",
       " (148, 0.0, 0, 1900),\n",
       " (149, 0.0, 0, 2160),\n",
       " (150, 0.0, 0, 1500),\n",
       " (151, 0.0, 0, 1840),\n",
       " (152, 0.0, 0, 1760),\n",
       " (153, 0.0, 0, 1960),\n",
       " (154, 0.0, 0, 1520),\n",
       " (155, 0.0, 0, 1460),\n",
       " (156, 0.0, 0, 1600),\n",
       " (157, 0.0, 0, 1760),\n",
       " (158, 0.0, 0, 2320),\n",
       " (159, 0.0, 0, 1860),\n",
       " (160, 0.0, 0, 1720),\n",
       " (161, 0.0, 0, 1980),\n",
       " (162, 0.0, 0, 1940),\n",
       " (163, 0.0, 0, 1880),\n",
       " (164, 0.0, 0, 1960),\n",
       " (165, 0.0, 0, 1880),\n",
       " (166, 0.0, 0, 2080),\n",
       " (167, 0.0, 0, 1840),\n",
       " (168, 0.0, 0, 1660)]"
      ]
     },
     "execution_count": 9,
     "metadata": {},
     "output_type": "execute_result"
    }
   ],
   "source": [
    "cursor.execute(\"\"\"\n",
    "SELECT\n",
    "    number_of_cells,\n",
    "    AVG(model_exists),\n",
    "    SUM(model_exists),\n",
    "    COUNT(*)\n",
    "FROM mace_output\n",
    "GROUP BY number_of_cells\n",
    "ORDER BY number_of_cells\n",
    "\"\"\")\n",
    "cursor.fetchall()"
   ]
  },
  {
   "cell_type": "code",
   "execution_count": null,
   "metadata": {},
   "outputs": [],
   "source": []
  }
 ],
 "metadata": {
  "kernelspec": {
   "display_name": "Python 3",
   "language": "python",
   "name": "python3"
  },
  "language_info": {
   "codemirror_mode": {
    "name": "ipython",
    "version": 3
   },
   "file_extension": ".py",
   "mimetype": "text/x-python",
   "name": "python",
   "nbconvert_exporter": "python",
   "pygments_lexer": "ipython3",
   "version": "3.6.9"
  },
  "name": "sanity_check.ipynb"
 },
 "nbformat": 4,
 "nbformat_minor": 4
}

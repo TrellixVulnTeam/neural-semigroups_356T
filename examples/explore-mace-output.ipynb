{
 "cells": [
  {
   "cell_type": "code",
   "execution_count": 1,
   "metadata": {},
   "outputs": [],
   "source": [
    "import sqlite3\n",
    "\n",
    "con = sqlite3.connect(\"../scripts/test_output.db\", isolation_level=None)\n",
    "con.execute(\"PRAGMA journal_mode=WAL;\")\n",
    "cursor = con.cursor()"
   ]
  },
  {
   "cell_type": "code",
   "execution_count": 2,
   "metadata": {},
   "outputs": [],
   "source": [
    "cursor.execute(\"SELECT COUNT(*) FROM mace_output;\")\n",
    "row_count = cursor.fetchone()[0]"
   ]
  },
  {
   "cell_type": "code",
   "execution_count": 3,
   "metadata": {},
   "outputs": [
    {
     "data": {
      "application/vnd.jupyter.widget-view+json": {
       "model_id": "5b9bd8c442584df58169d554a832433d",
       "version_major": 2,
       "version_minor": 0
      },
      "text/plain": [
       "HBox(children=(HTML(value=''), FloatProgress(value=0.0, max=699382.0), HTML(value='')))"
      ]
     },
     "metadata": {},
     "output_type": "display_data"
    },
    {
     "name": "stdout",
     "output_type": "stream",
     "text": [
      "\n"
     ]
    }
   ],
   "source": [
    "import re\n",
    "from tqdm.notebook import tqdm\n",
    "\n",
    "cursor.execute(\"SELECT output FROM mace_output\")\n",
    "err = 0\n",
    "total = 0\n",
    "for row in tqdm(range(row_count)):\n",
    "    total += 1\n",
    "    output = cursor.fetchone()[0]\n",
    "    search_result = re.search(r\".*INPUT(.*)end of input.*\", output, re.DOTALL)\n",
    "    input_lines = search_result.groups()[0]\n",
    "    x = set()\n",
    "    for equation in re.finditer(r\"(\\d+) \\* (\\d+) = (\\d+)\\.\", input_lines):\n",
    "        i, j, k = map(int, equation.groups())\n",
    "        ind = 13 * i + j\n",
    "        if ind in x:\n",
    "            err += 1\n",
    "            break\n",
    "        else:\n",
    "            x.add(ind)"
   ]
  },
  {
   "cell_type": "code",
   "execution_count": 4,
   "metadata": {},
   "outputs": [
    {
     "name": "stdout",
     "output_type": "stream",
     "text": [
      "0 699382\n"
     ]
    }
   ],
   "source": [
    "print(err, total)"
   ]
  },
  {
   "cell_type": "code",
   "execution_count": 5,
   "metadata": {},
   "outputs": [
    {
     "data": {
      "text/plain": [
       "<sqlite3.Cursor at 0x7ff13c431260>"
      ]
     },
     "execution_count": 5,
     "metadata": {},
     "output_type": "execute_result"
    }
   ],
   "source": [
    "cursor.execute(\"ALTER TABLE mace_output ADD COLUMN number_of_cells INTEGER\")"
   ]
  },
  {
   "cell_type": "code",
   "execution_count": 6,
   "metadata": {},
   "outputs": [
    {
     "data": {
      "application/vnd.jupyter.widget-view+json": {
       "model_id": "da58e2b208894896b6fda27fd1241413",
       "version_major": 2,
       "version_minor": 0
      },
      "text/plain": [
       "HBox(children=(HTML(value=''), FloatProgress(value=0.0, max=699382.0), HTML(value='')))"
      ]
     },
     "metadata": {},
     "output_type": "display_data"
    },
    {
     "name": "stdout",
     "output_type": "stream",
     "text": [
      "\n"
     ]
    }
   ],
   "source": [
    "cursor.execute(\"SELECT rowid, output FROM mace_output\")\n",
    "insert_cursor = con.cursor()\n",
    "for row in tqdm(range(row_count)):\n",
    "    data = cursor.fetchone()\n",
    "    output = data[1]\n",
    "    row_id = data[0]\n",
    "    search_result = re.search(r\".*INPUT(.*)end of input.*\", output, re.DOTALL)\n",
    "    input_lines = search_result.groups()[0]\n",
    "    eq_num = 0\n",
    "    for equation in re.finditer(r\"(\\d+) \\* (\\d+) = (\\d+)\\.\", input_lines):\n",
    "        eq_num += 1\n",
    "    insert_cursor.execute(\n",
    "        \"UPDATE mace_output SET number_of_cells = ? WHERE rowid = ?\",\n",
    "        (eq_num, row_id)\n",
    "    )"
   ]
  },
  {
   "cell_type": "code",
   "execution_count": 7,
   "metadata": {},
   "outputs": [
    {
     "data": {
      "text/plain": [
       "[(1, 1.0, 4633, 4633),\n",
       " (2, 1.0, 3539, 3539),\n",
       " (3, 1.0, 3431, 3431),\n",
       " (4, 1.0, 4100, 4100),\n",
       " (5, 0.9733601970002239, 4348, 4467),\n",
       " (6, 0.9865970013630168, 4343, 4402),\n",
       " (7, 0.9851005711447728, 3967, 4027),\n",
       " (8, 0.9329896907216495, 4163, 4462),\n",
       " (9, 0.8127759023630226, 3130, 3851),\n",
       " (10, 0.7153104130596092, 2892, 4043),\n",
       " (11, 0.4306869600987248, 2094, 4862),\n",
       " (12, 0.11887913954146617, 420, 3533),\n",
       " (13, 0.026637069922308545, 120, 4505),\n",
       " (14, 0.0, 0, 4318),\n",
       " (15, 0.0, 0, 4383),\n",
       " (16, 0.0, 0, 4983),\n",
       " (17, 0.0, 0, 4278),\n",
       " (18, 0.0, 0, 4337),\n",
       " (19, 0.0, 0, 3963),\n",
       " (20, 0.0, 0, 5508),\n",
       " (21, 0.0, 0, 4087),\n",
       " (22, 0.0, 0, 4321),\n",
       " (23, 0.0, 0, 4288),\n",
       " (24, 0.0, 0, 3740),\n",
       " (25, 0.0, 0, 4989),\n",
       " (26, 0.0, 0, 4739),\n",
       " (27, 0.0, 0, 4152),\n",
       " (28, 0.0, 0, 4580),\n",
       " (29, 0.0, 0, 3438),\n",
       " (30, 0.0, 0, 4097),\n",
       " (31, 0.0, 0, 4391),\n",
       " (32, 0.0, 0, 5052),\n",
       " (33, 0.0, 0, 3987),\n",
       " (34, 0.0, 0, 4689),\n",
       " (35, 0.0, 0, 4258),\n",
       " (36, 0.0, 0, 4084),\n",
       " (37, 0.0, 0, 3620),\n",
       " (38, 0.0, 0, 4357),\n",
       " (39, 0.0, 0, 4033),\n",
       " (40, 0.0, 0, 3588),\n",
       " (41, 0.0, 0, 4262),\n",
       " (42, 0.0, 0, 4771),\n",
       " (43, 0.0, 0, 5223),\n",
       " (44, 0.0, 0, 4631),\n",
       " (45, 0.0, 0, 4119),\n",
       " (46, 0.0, 0, 3999),\n",
       " (47, 0.0, 0, 3733),\n",
       " (48, 0.0, 0, 4505),\n",
       " (49, 0.0, 0, 4215),\n",
       " (50, 0.0, 0, 4745),\n",
       " (51, 0.0, 0, 3956),\n",
       " (52, 0.0, 0, 4237),\n",
       " (53, 0.0, 0, 4091),\n",
       " (54, 0.0, 0, 4592),\n",
       " (55, 0.0, 0, 3616),\n",
       " (56, 0.0, 0, 5455),\n",
       " (57, 0.0, 0, 4178),\n",
       " (58, 0.0, 0, 4383),\n",
       " (59, 0.0, 0, 4431),\n",
       " (60, 0.0, 0, 4749),\n",
       " (61, 0.0, 0, 3987),\n",
       " (62, 0.0, 0, 3506),\n",
       " (63, 0.0, 0, 4628),\n",
       " (64, 0.0, 0, 4209),\n",
       " (65, 0.0, 0, 4082),\n",
       " (66, 0.0, 0, 3621),\n",
       " (67, 0.0, 0, 4035),\n",
       " (68, 0.0, 0, 4192),\n",
       " (69, 0.0, 0, 4147),\n",
       " (70, 0.0, 0, 4194),\n",
       " (71, 0.0, 0, 4270),\n",
       " (72, 0.0, 0, 4621),\n",
       " (73, 0.0, 0, 4709),\n",
       " (74, 0.0, 0, 4745),\n",
       " (75, 0.0, 0, 4027),\n",
       " (76, 0.0, 0, 3928),\n",
       " (77, 0.0, 0, 4691),\n",
       " (78, 0.0, 0, 4029),\n",
       " (79, 0.0, 0, 3726),\n",
       " (80, 0.0, 0, 3965),\n",
       " (81, 0.0, 0, 4633),\n",
       " (82, 0.0, 0, 4098),\n",
       " (83, 0.0, 0, 4817),\n",
       " (84, 0.0, 0, 4633),\n",
       " (85, 0.0, 0, 3780),\n",
       " (86, 0.0, 0, 4835),\n",
       " (87, 0.0, 0, 4560),\n",
       " (88, 0.0, 0, 3744),\n",
       " (89, 0.0, 0, 3967),\n",
       " (90, 0.0, 0, 4100),\n",
       " (91, 0.0, 0, 3822),\n",
       " (92, 0.0, 0, 4331),\n",
       " (93, 0.0, 0, 5159),\n",
       " (94, 0.0, 0, 4383),\n",
       " (95, 0.0, 0, 4397),\n",
       " (96, 0.0, 0, 4211),\n",
       " (97, 0.0, 0, 3980),\n",
       " (98, 0.0, 0, 4620),\n",
       " (99, 0.0, 0, 4685),\n",
       " (100, 0.0, 0, 3667),\n",
       " (101, 0.0, 0, 4151),\n",
       " (102, 0.0, 0, 4195),\n",
       " (103, 0.0, 0, 3850),\n",
       " (104, 0.0, 0, 3539),\n",
       " (105, 0.0, 0, 5249),\n",
       " (106, 0.0, 0, 4519),\n",
       " (107, 0.0, 0, 3212),\n",
       " (108, 0.0, 0, 3717),\n",
       " (109, 0.0, 0, 4017),\n",
       " (110, 0.0, 0, 4327),\n",
       " (111, 0.0, 0, 3597),\n",
       " (112, 0.0, 0, 3730),\n",
       " (113, 0.0, 0, 4169),\n",
       " (114, 0.0, 0, 4805),\n",
       " (115, 0.0, 0, 3742),\n",
       " (116, 0.0, 0, 3361),\n",
       " (117, 0.0, 0, 4275),\n",
       " (118, 0.0, 0, 4134),\n",
       " (119, 0.0, 0, 4450),\n",
       " (120, 0.0, 0, 3758),\n",
       " (121, 0.0, 0, 4373),\n",
       " (122, 0.0, 0, 4215),\n",
       " (123, 0.0, 0, 4929),\n",
       " (124, 0.0, 0, 3908),\n",
       " (125, 0.0, 0, 4324),\n",
       " (126, 0.0, 0, 3311),\n",
       " (127, 0.0, 0, 2891),\n",
       " (128, 0.0, 0, 4328),\n",
       " (129, 0.0, 0, 4077),\n",
       " (130, 0.0, 0, 4505),\n",
       " (131, 0.0, 0, 3611),\n",
       " (132, 0.0, 0, 4093),\n",
       " (133, 0.0, 0, 4010),\n",
       " (134, 0.0, 0, 3921),\n",
       " (135, 0.0, 0, 4764),\n",
       " (136, 0.0, 0, 3440),\n",
       " (137, 0.0, 0, 4059),\n",
       " (138, 0.0, 0, 3549),\n",
       " (139, 0.0, 0, 4356),\n",
       " (140, 0.0, 0, 4566),\n",
       " (141, 0.0, 0, 3907),\n",
       " (142, 0.0, 0, 3782),\n",
       " (143, 0.0, 0, 4116),\n",
       " (144, 0.0, 0, 3718),\n",
       " (145, 0.0, 0, 4566),\n",
       " (146, 0.0, 0, 4208),\n",
       " (147, 0.0, 0, 4211),\n",
       " (148, 0.0, 0, 4324),\n",
       " (149, 0.0, 0, 4323),\n",
       " (150, 0.0, 0, 4206),\n",
       " (151, 0.0, 0, 3254),\n",
       " (152, 0.0, 0, 3141),\n",
       " (153, 0.0, 0, 3307),\n",
       " (154, 0.0, 0, 3965),\n",
       " (155, 0.0, 0, 3789),\n",
       " (156, 0.0, 0, 4561),\n",
       " (157, 0.0, 0, 4211),\n",
       " (158, 0.0, 0, 4055),\n",
       " (159, 0.0, 0, 3497),\n",
       " (160, 0.0, 0, 4151),\n",
       " (161, 0.0, 0, 3439),\n",
       " (162, 0.0, 0, 3409),\n",
       " (163, 0.0, 0, 3826),\n",
       " (164, 0.0, 0, 4199),\n",
       " (165, 0.0, 0, 3733),\n",
       " (166, 0.0, 0, 4180),\n",
       " (167, 0.0, 0, 4106),\n",
       " (168, 0.0, 0, 3431)]"
      ]
     },
     "execution_count": 7,
     "metadata": {},
     "output_type": "execute_result"
    }
   ],
   "source": [
    "cursor.execute(\"\"\"\n",
    "SELECT\n",
    "    number_of_cells,\n",
    "    AVG(model_exists),\n",
    "    SUM(model_exists),\n",
    "    COUNT(*)\n",
    "FROM mace_output\n",
    "GROUP BY number_of_cells\n",
    "ORDER BY number_of_cells\n",
    "\"\"\")\n",
    "cursor.fetchall()"
   ]
  },
  {
   "cell_type": "code",
   "execution_count": null,
   "metadata": {},
   "outputs": [],
   "source": []
  }
 ],
 "metadata": {
  "kernelspec": {
   "display_name": "Python 3",
   "language": "python",
   "name": "python3"
  },
  "language_info": {
   "codemirror_mode": {
    "name": "ipython",
    "version": 3
   },
   "file_extension": ".py",
   "mimetype": "text/x-python",
   "name": "python",
   "nbconvert_exporter": "python",
   "pygments_lexer": "ipython3",
   "version": "3.6.9"
  },
  "name": "sanity_check.ipynb"
 },
 "nbformat": 4,
 "nbformat_minor": 4
}

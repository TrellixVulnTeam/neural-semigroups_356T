{
 "cells": [
  {
   "cell_type": "raw",
   "metadata": {
    "collapsed": false
   },
   "source": [
    "\"\"\"\n",
    "   Copyright 2019-2020 Boris Shminke\n",
    "\n",
    "   Licensed under the Apache License, Version 2.0 (the \"License\");\n",
    "   you may not use this file except in compliance with the License.\n",
    "   You may obtain a copy of the License at\n",
    "\n",
    "       http://www.apache.org/licenses/LICENSE-2.0\n",
    "\n",
    "   Unless required by applicable law or agreed to in writing, software\n",
    "   distributed under the License is distributed on an \"AS IS\" BASIS,\n",
    "   WITHOUT WARRANTIES OR CONDITIONS OF ANY KIND, either express or implied.\n",
    "   See the License for the specific language governing permissions and\n",
    "   limitations under the License.\n",
    "\"\"\""
   ]
  },
  {
   "cell_type": "markdown",
   "metadata": {
    "collapsed": false
   },
   "source": [
    "If you have a Cayley database, you can build a machine learning model for such a task:\n",
    "\n",
    "Given a partially filled Cayley table of a semigroup, restore the full one.\n",
    "\n",
    "It should be mentioned that a partially filled table sometimes can be filled in several ways to a full associative table. We will consider all such solutions as equally valid."
   ]
  },
  {
   "cell_type": "markdown",
   "metadata": {
    "collapsed": false
   },
   "source": [
    "In `neural-semigroups` package we use `torch` for building deep learning models.\n",
    "\n",
    "First of all, we need to get some training and validation data.\n",
    "In this example, we take semigroups of 7 items, and hold 100 Cayley tables (each representing a different class of equivalent semigrous) as our training data, and another 100 tables as validation.\n",
    "This is a really small fraction of all tables of 7 elements available (there are 836021 of them up to equivalence).\n",
    "\n",
    "Here we construct `DataLoaders` for `torch` which will feed a training pipeline with 48 tables at a time.\n",
    "This number (batch size) can be changed for fine-tuning the model's quality."
   ]
  },
  {
   "cell_type": "code",
   "execution_count": 1,
   "metadata": {
    "collapsed": false,
    "scrolled": true
   },
   "outputs": [
    {
     "name": "stderr",
     "output_type": "stream",
     "text": [
      "\r",
      "generating train cubes:   0%|          | 0/100 [00:00<?, ?it/s]"
     ]
    },
    {
     "name": "stderr",
     "output_type": "stream",
     "text": [
      "\r",
      "generating train cubes: 100%|██████████| 100/100 [00:00<00:00, 25749.30it/s]"
     ]
    },
    {
     "name": "stderr",
     "output_type": "stream",
     "text": [
      "\n",
      "\r",
      "generating validation cubes:   0%|          | 0/100 [00:00<?, ?it/s]"
     ]
    },
    {
     "name": "stderr",
     "output_type": "stream",
     "text": [
      "\r",
      "generating validation cubes: 100%|██████████| 100/100 [00:00<00:00, 12763.77it/s]"
     ]
    },
    {
     "name": "stderr",
     "output_type": "stream",
     "text": [
      "\n",
      "\r",
      "generating test cubes:   0%|          | 0/835821 [00:00<?, ?it/s]"
     ]
    },
    {
     "name": "stderr",
     "output_type": "stream",
     "text": [
      "\r",
      "generating test cubes:   0%|          | 2740/835821 [00:00<00:30, 27391.73it/s]"
     ]
    },
    {
     "name": "stderr",
     "output_type": "stream",
     "text": [
      "\r",
      "generating test cubes:   1%|          | 5455/835821 [00:00<00:30, 27316.98it/s]"
     ]
    },
    {
     "name": "stderr",
     "output_type": "stream",
     "text": [
      "\r",
      "generating test cubes:   1%|          | 8191/835821 [00:00<00:30, 27328.38it/s]"
     ]
    },
    {
     "name": "stderr",
     "output_type": "stream",
     "text": [
      "\r",
      "generating test cubes:   1%|▏         | 10931/835821 [00:00<00:30, 27348.23it/s]"
     ]
    },
    {
     "name": "stderr",
     "output_type": "stream",
     "text": [
      "\r",
      "generating test cubes:   2%|▏         | 13627/835821 [00:00<00:30, 27228.73it/s]"
     ]
    },
    {
     "name": "stderr",
     "output_type": "stream",
     "text": [
      "\r",
      "generating test cubes:   2%|▏         | 16601/835821 [00:00<00:29, 27935.19it/s]"
     ]
    },
    {
     "name": "stderr",
     "output_type": "stream",
     "text": [
      "\r",
      "generating test cubes:   2%|▏         | 19584/835821 [00:00<00:28, 28474.01it/s]"
     ]
    },
    {
     "name": "stderr",
     "output_type": "stream",
     "text": [
      "\r",
      "generating test cubes:   3%|▎         | 22543/835821 [00:00<00:28, 28799.19it/s]"
     ]
    },
    {
     "name": "stderr",
     "output_type": "stream",
     "text": [
      "\r",
      "generating test cubes:   3%|▎         | 25516/835821 [00:00<00:27, 29070.66it/s]"
     ]
    },
    {
     "name": "stderr",
     "output_type": "stream",
     "text": [
      "\r",
      "generating test cubes:   3%|▎         | 28476/835821 [00:01<00:27, 29227.08it/s]"
     ]
    },
    {
     "name": "stderr",
     "output_type": "stream",
     "text": [
      "\r",
      "generating test cubes:   4%|▍         | 31463/835821 [00:01<00:27, 29415.86it/s]"
     ]
    },
    {
     "name": "stderr",
     "output_type": "stream",
     "text": [
      "\r",
      "generating test cubes:   4%|▍         | 34449/835821 [00:01<00:27, 29546.52it/s]"
     ]
    },
    {
     "name": "stderr",
     "output_type": "stream",
     "text": [
      "\r",
      "generating test cubes:   4%|▍         | 37444/835821 [00:01<00:26, 29664.07it/s]"
     ]
    },
    {
     "name": "stderr",
     "output_type": "stream",
     "text": [
      "\r",
      "generating test cubes:   5%|▍         | 40440/835821 [00:01<00:26, 29750.36it/s]"
     ]
    },
    {
     "name": "stderr",
     "output_type": "stream",
     "text": [
      "\r",
      "generating test cubes:   5%|▌         | 43442/835821 [00:01<00:26, 29829.93it/s]"
     ]
    },
    {
     "name": "stderr",
     "output_type": "stream",
     "text": [
      "\r",
      "generating test cubes:   6%|▌         | 46446/835821 [00:01<00:26, 29890.07it/s]"
     ]
    },
    {
     "name": "stderr",
     "output_type": "stream",
     "text": [
      "\r",
      "generating test cubes:   6%|▌         | 49450/835821 [00:01<00:26, 29932.47it/s]"
     ]
    },
    {
     "name": "stderr",
     "output_type": "stream",
     "text": [
      "\r",
      "generating test cubes:   6%|▋         | 52450/835821 [00:01<00:26, 29950.87it/s]"
     ]
    },
    {
     "name": "stderr",
     "output_type": "stream",
     "text": [
      "\r",
      "generating test cubes:   7%|▋         | 55446/835821 [00:01<00:26, 29951.77it/s]"
     ]
    },
    {
     "name": "stderr",
     "output_type": "stream",
     "text": [
      "\r",
      "generating test cubes:   7%|▋         | 58443/835821 [00:02<00:25, 29954.89it/s]"
     ]
    },
    {
     "name": "stderr",
     "output_type": "stream",
     "text": [
      "\r",
      "generating test cubes:   7%|▋         | 61437/835821 [00:02<00:25, 29934.82it/s]"
     ]
    },
    {
     "name": "stderr",
     "output_type": "stream",
     "text": [
      "\r",
      "generating test cubes:   8%|▊         | 64432/835821 [00:02<00:25, 29936.81it/s]"
     ]
    },
    {
     "name": "stderr",
     "output_type": "stream",
     "text": [
      "\r",
      "generating test cubes:   8%|▊         | 67425/835821 [00:02<00:25, 29854.60it/s]"
     ]
    },
    {
     "name": "stderr",
     "output_type": "stream",
     "text": [
      "\r",
      "generating test cubes:   8%|▊         | 70416/835821 [00:02<00:25, 29871.10it/s]"
     ]
    },
    {
     "name": "stderr",
     "output_type": "stream",
     "text": [
      "\r",
      "generating test cubes:   9%|▉         | 73422/835821 [00:02<00:25, 29926.23it/s]"
     ]
    },
    {
     "name": "stderr",
     "output_type": "stream",
     "text": [
      "\r",
      "generating test cubes:   9%|▉         | 76415/835821 [00:02<00:25, 29923.30it/s]"
     ]
    },
    {
     "name": "stderr",
     "output_type": "stream",
     "text": [
      "\r",
      "generating test cubes:  10%|▉         | 79426/835821 [00:02<00:25, 29976.98it/s]"
     ]
    },
    {
     "name": "stderr",
     "output_type": "stream",
     "text": [
      "\r",
      "generating test cubes:  10%|▉         | 82425/835821 [00:02<00:25, 29979.91it/s]"
     ]
    },
    {
     "name": "stderr",
     "output_type": "stream",
     "text": [
      "\r",
      "generating test cubes:  10%|█         | 85423/835821 [00:02<00:25, 29629.21it/s]"
     ]
    },
    {
     "name": "stderr",
     "output_type": "stream",
     "text": [
      "\r",
      "generating test cubes:  11%|█         | 88387/835821 [00:03<00:25, 29557.02it/s]"
     ]
    },
    {
     "name": "stderr",
     "output_type": "stream",
     "text": [
      "\r",
      "generating test cubes:  11%|█         | 91345/835821 [00:03<00:25, 29561.11it/s]"
     ]
    },
    {
     "name": "stderr",
     "output_type": "stream",
     "text": [
      "\r",
      "generating test cubes:  11%|█▏        | 94303/835821 [00:03<00:25, 29564.82it/s]"
     ]
    },
    {
     "name": "stderr",
     "output_type": "stream",
     "text": [
      "\r",
      "generating test cubes:  12%|█▏        | 97287/835821 [00:03<00:24, 29644.42it/s]"
     ]
    },
    {
     "name": "stderr",
     "output_type": "stream",
     "text": [
      "\r",
      "generating test cubes:  12%|█▏        | 100255/835821 [00:03<00:24, 29654.84it/s]"
     ]
    },
    {
     "name": "stderr",
     "output_type": "stream",
     "text": [
      "\r",
      "generating test cubes:  12%|█▏        | 103227/835821 [00:03<00:24, 29673.44it/s]"
     ]
    },
    {
     "name": "stderr",
     "output_type": "stream",
     "text": [
      "\r",
      "generating test cubes:  13%|█▎        | 106195/835821 [00:03<00:24, 29608.35it/s]"
     ]
    },
    {
     "name": "stderr",
     "output_type": "stream",
     "text": [
      "\r",
      "generating test cubes:  13%|█▎        | 109181/835821 [00:03<00:24, 29682.71it/s]"
     ]
    },
    {
     "name": "stderr",
     "output_type": "stream",
     "text": [
      "\r",
      "generating test cubes:  13%|█▎        | 112150/835821 [00:03<00:24, 29679.30it/s]"
     ]
    },
    {
     "name": "stderr",
     "output_type": "stream",
     "text": [
      "\r",
      "generating test cubes:  14%|█▍        | 115119/835821 [00:03<00:24, 29656.78it/s]"
     ]
    },
    {
     "name": "stderr",
     "output_type": "stream",
     "text": [
      "\r",
      "generating test cubes:  14%|█▍        | 118090/835821 [00:04<00:24, 29670.04it/s]"
     ]
    },
    {
     "name": "stderr",
     "output_type": "stream",
     "text": [
      "\r",
      "generating test cubes:  14%|█▍        | 121063/835821 [00:04<00:24, 29685.25it/s]"
     ]
    },
    {
     "name": "stderr",
     "output_type": "stream",
     "text": [
      "\r",
      "generating test cubes:  15%|█▍        | 124033/835821 [00:04<00:23, 29688.86it/s]"
     ]
    },
    {
     "name": "stderr",
     "output_type": "stream",
     "text": [
      "\r",
      "generating test cubes:  15%|█▌        | 127019/835821 [00:04<00:23, 29737.76it/s]"
     ]
    },
    {
     "name": "stderr",
     "output_type": "stream",
     "text": [
      "\r",
      "generating test cubes:  16%|█▌        | 129997/835821 [00:04<00:23, 29748.90it/s]"
     ]
    },
    {
     "name": "stderr",
     "output_type": "stream",
     "text": [
      "\r",
      "generating test cubes:  16%|█▌        | 133002/835821 [00:04<00:23, 29835.72it/s]"
     ]
    },
    {
     "name": "stderr",
     "output_type": "stream",
     "text": [
      "\r",
      "generating test cubes:  16%|█▋        | 135989/835821 [00:04<00:23, 29843.87it/s]"
     ]
    },
    {
     "name": "stderr",
     "output_type": "stream",
     "text": [
      "\r",
      "generating test cubes:  17%|█▋        | 138974/835821 [00:04<00:23, 29829.42it/s]"
     ]
    },
    {
     "name": "stderr",
     "output_type": "stream",
     "text": [
      "\r",
      "generating test cubes:  17%|█▋        | 141973/835821 [00:04<00:23, 29875.97it/s]"
     ]
    },
    {
     "name": "stderr",
     "output_type": "stream",
     "text": [
      "\r",
      "generating test cubes:  17%|█▋        | 144975/835821 [00:04<00:23, 29916.98it/s]"
     ]
    },
    {
     "name": "stderr",
     "output_type": "stream",
     "text": [
      "\r",
      "generating test cubes:  18%|█▊        | 147973/835821 [00:05<00:22, 29934.24it/s]"
     ]
    },
    {
     "name": "stderr",
     "output_type": "stream",
     "text": [
      "\r",
      "generating test cubes:  18%|█▊        | 150970/835821 [00:05<00:22, 29942.55it/s]"
     ]
    },
    {
     "name": "stderr",
     "output_type": "stream",
     "text": [
      "\r",
      "generating test cubes:  18%|█▊        | 153965/835821 [00:05<00:22, 29814.20it/s]"
     ]
    },
    {
     "name": "stderr",
     "output_type": "stream",
     "text": [
      "\r",
      "generating test cubes:  19%|█▉        | 156947/835821 [00:05<00:22, 29793.81it/s]"
     ]
    },
    {
     "name": "stderr",
     "output_type": "stream",
     "text": [
      "\r",
      "generating test cubes:  19%|█▉        | 159927/835821 [00:05<00:22, 29594.00it/s]"
     ]
    },
    {
     "name": "stderr",
     "output_type": "stream",
     "text": [
      "\r",
      "generating test cubes:  19%|█▉        | 162922/835821 [00:05<00:22, 29698.11it/s]"
     ]
    },
    {
     "name": "stderr",
     "output_type": "stream",
     "text": [
      "\r",
      "generating test cubes:  20%|█▉        | 165929/835821 [00:05<00:22, 29806.37it/s]"
     ]
    },
    {
     "name": "stderr",
     "output_type": "stream",
     "text": [
      "\r",
      "generating test cubes:  20%|██        | 168910/835821 [00:05<00:22, 29804.93it/s]"
     ]
    },
    {
     "name": "stderr",
     "output_type": "stream",
     "text": [
      "\r",
      "generating test cubes:  21%|██        | 171891/835821 [00:05<00:22, 29306.09it/s]"
     ]
    },
    {
     "name": "stderr",
     "output_type": "stream",
     "text": [
      "\r",
      "generating test cubes:  21%|██        | 174835/835821 [00:05<00:22, 29345.49it/s]"
     ]
    },
    {
     "name": "stderr",
     "output_type": "stream",
     "text": [
      "\r",
      "generating test cubes:  21%|██▏       | 177771/835821 [00:06<00:22, 29328.38it/s]"
     ]
    },
    {
     "name": "stderr",
     "output_type": "stream",
     "text": [
      "\r",
      "generating test cubes:  22%|██▏       | 180754/835821 [00:06<00:22, 29475.57it/s]"
     ]
    },
    {
     "name": "stderr",
     "output_type": "stream",
     "text": [
      "\r",
      "generating test cubes:  22%|██▏       | 183740/835821 [00:06<00:22, 29589.57it/s]"
     ]
    },
    {
     "name": "stderr",
     "output_type": "stream",
     "text": [
      "\r",
      "generating test cubes:  22%|██▏       | 186724/835821 [00:06<00:21, 29661.97it/s]"
     ]
    },
    {
     "name": "stderr",
     "output_type": "stream",
     "text": [
      "\r",
      "generating test cubes:  23%|██▎       | 189691/835821 [00:06<00:21, 29640.28it/s]"
     ]
    },
    {
     "name": "stderr",
     "output_type": "stream",
     "text": [
      "\r",
      "generating test cubes:  23%|██▎       | 192677/835821 [00:06<00:21, 29703.27it/s]"
     ]
    },
    {
     "name": "stderr",
     "output_type": "stream",
     "text": [
      "\r",
      "generating test cubes:  23%|██▎       | 195668/835821 [00:06<00:21, 29763.72it/s]"
     ]
    },
    {
     "name": "stderr",
     "output_type": "stream",
     "text": [
      "\r",
      "generating test cubes:  24%|██▍       | 198662/835821 [00:06<00:21, 29814.17it/s]"
     ]
    },
    {
     "name": "stderr",
     "output_type": "stream",
     "text": [
      "\r",
      "generating test cubes:  24%|██▍       | 201644/835821 [00:06<00:21, 29657.02it/s]"
     ]
    },
    {
     "name": "stderr",
     "output_type": "stream",
     "text": [
      "\r",
      "generating test cubes:  24%|██▍       | 204632/835821 [00:06<00:21, 29721.10it/s]"
     ]
    },
    {
     "name": "stderr",
     "output_type": "stream",
     "text": [
      "\r",
      "generating test cubes:  25%|██▍       | 207617/835821 [00:07<00:21, 29758.09it/s]"
     ]
    },
    {
     "name": "stderr",
     "output_type": "stream",
     "text": [
      "\r",
      "generating test cubes:  25%|██▌       | 210594/835821 [00:07<00:21, 29737.13it/s]"
     ]
    },
    {
     "name": "stderr",
     "output_type": "stream",
     "text": [
      "\r",
      "generating test cubes:  26%|██▌       | 213568/835821 [00:07<00:20, 29720.83it/s]"
     ]
    },
    {
     "name": "stderr",
     "output_type": "stream",
     "text": [
      "\r",
      "generating test cubes:  26%|██▌       | 216548/835821 [00:07<00:20, 29744.05it/s]"
     ]
    },
    {
     "name": "stderr",
     "output_type": "stream",
     "text": [
      "\r",
      "generating test cubes:  26%|██▋       | 219537/835821 [00:07<00:20, 29785.66it/s]"
     ]
    },
    {
     "name": "stderr",
     "output_type": "stream",
     "text": [
      "\r",
      "generating test cubes:  27%|██▋       | 222537/835821 [00:07<00:20, 29846.95it/s]"
     ]
    },
    {
     "name": "stderr",
     "output_type": "stream",
     "text": [
      "\r",
      "generating test cubes:  27%|██▋       | 225541/835821 [00:07<00:20, 29903.91it/s]"
     ]
    },
    {
     "name": "stderr",
     "output_type": "stream",
     "text": [
      "\r",
      "generating test cubes:  27%|██▋       | 228551/835821 [00:07<00:20, 29960.71it/s]"
     ]
    },
    {
     "name": "stderr",
     "output_type": "stream",
     "text": [
      "\r",
      "generating test cubes:  28%|██▊       | 231548/835821 [00:07<00:20, 29933.17it/s]"
     ]
    },
    {
     "name": "stderr",
     "output_type": "stream",
     "text": [
      "\r",
      "generating test cubes:  28%|██▊       | 234542/835821 [00:07<00:20, 29762.55it/s]"
     ]
    },
    {
     "name": "stderr",
     "output_type": "stream",
     "text": [
      "\r",
      "generating test cubes:  28%|██▊       | 237530/835821 [00:08<00:20, 29795.61it/s]"
     ]
    },
    {
     "name": "stderr",
     "output_type": "stream",
     "text": [
      "\r",
      "generating test cubes:  29%|██▉       | 240510/835821 [00:08<00:20, 29604.52it/s]"
     ]
    },
    {
     "name": "stderr",
     "output_type": "stream",
     "text": [
      "\r",
      "generating test cubes:  29%|██▉       | 243471/835821 [00:08<00:20, 29445.52it/s]"
     ]
    },
    {
     "name": "stderr",
     "output_type": "stream",
     "text": [
      "\r",
      "generating test cubes:  29%|██▉       | 246417/835821 [00:08<00:20, 29400.38it/s]"
     ]
    },
    {
     "name": "stderr",
     "output_type": "stream",
     "text": [
      "\r",
      "generating test cubes:  30%|██▉       | 249389/835821 [00:08<00:19, 29493.12it/s]"
     ]
    },
    {
     "name": "stderr",
     "output_type": "stream",
     "text": [
      "\r",
      "generating test cubes:  30%|███       | 252339/835821 [00:08<00:19, 29340.74it/s]"
     ]
    },
    {
     "name": "stderr",
     "output_type": "stream",
     "text": [
      "\r",
      "generating test cubes:  31%|███       | 255322/835821 [00:08<00:19, 29483.60it/s]"
     ]
    },
    {
     "name": "stderr",
     "output_type": "stream",
     "text": [
      "\r",
      "generating test cubes:  31%|███       | 258291/835821 [00:08<00:19, 29542.83it/s]"
     ]
    },
    {
     "name": "stderr",
     "output_type": "stream",
     "text": [
      "\r",
      "generating test cubes:  31%|███▏      | 261246/835821 [00:08<00:19, 29084.55it/s]"
     ]
    },
    {
     "name": "stderr",
     "output_type": "stream",
     "text": [
      "\r",
      "generating test cubes:  32%|███▏      | 264190/835821 [00:08<00:19, 29190.19it/s]"
     ]
    },
    {
     "name": "stderr",
     "output_type": "stream",
     "text": [
      "\r",
      "generating test cubes:  32%|███▏      | 267163/835821 [00:09<00:19, 29348.64it/s]"
     ]
    },
    {
     "name": "stderr",
     "output_type": "stream",
     "text": [
      "\r",
      "generating test cubes:  32%|███▏      | 270121/835821 [00:09<00:19, 29416.13it/s]"
     ]
    },
    {
     "name": "stderr",
     "output_type": "stream",
     "text": [
      "\r",
      "generating test cubes:  33%|███▎      | 273088/835821 [00:09<00:19, 29489.93it/s]"
     ]
    },
    {
     "name": "stderr",
     "output_type": "stream",
     "text": [
      "\r",
      "generating test cubes:  33%|███▎      | 276038/835821 [00:09<00:19, 29458.22it/s]"
     ]
    },
    {
     "name": "stderr",
     "output_type": "stream",
     "text": [
      "\r",
      "generating test cubes:  33%|███▎      | 278999/835821 [00:09<00:18, 29502.68it/s]"
     ]
    },
    {
     "name": "stderr",
     "output_type": "stream",
     "text": [
      "\r",
      "generating test cubes:  34%|███▎      | 281959/835821 [00:09<00:18, 29530.21it/s]"
     ]
    },
    {
     "name": "stderr",
     "output_type": "stream",
     "text": [
      "\r",
      "generating test cubes:  34%|███▍      | 284923/835821 [00:09<00:18, 29561.68it/s]"
     ]
    },
    {
     "name": "stderr",
     "output_type": "stream",
     "text": [
      "\r",
      "generating test cubes:  34%|███▍      | 287880/835821 [00:09<00:18, 29539.98it/s]"
     ]
    },
    {
     "name": "stderr",
     "output_type": "stream",
     "text": [
      "\r",
      "generating test cubes:  35%|███▍      | 290848/835821 [00:09<00:18, 29579.83it/s]"
     ]
    },
    {
     "name": "stderr",
     "output_type": "stream",
     "text": [
      "\r",
      "generating test cubes:  35%|███▌      | 293807/835821 [00:09<00:18, 29553.28it/s]"
     ]
    },
    {
     "name": "stderr",
     "output_type": "stream",
     "text": [
      "\r",
      "generating test cubes:  36%|███▌      | 296763/835821 [00:10<00:18, 29512.50it/s]"
     ]
    },
    {
     "name": "stderr",
     "output_type": "stream",
     "text": [
      "\r",
      "generating test cubes:  36%|███▌      | 299715/835821 [00:10<00:18, 29336.46it/s]"
     ]
    },
    {
     "name": "stderr",
     "output_type": "stream",
     "text": [
      "\r",
      "generating test cubes:  36%|███▌      | 302649/835821 [00:10<00:18, 29241.76it/s]"
     ]
    },
    {
     "name": "stderr",
     "output_type": "stream",
     "text": [
      "\r",
      "generating test cubes:  37%|███▋      | 305608/835821 [00:10<00:18, 29343.17it/s]"
     ]
    },
    {
     "name": "stderr",
     "output_type": "stream",
     "text": [
      "\r",
      "generating test cubes:  37%|███▋      | 308547/835821 [00:10<00:17, 29356.77it/s]"
     ]
    },
    {
     "name": "stderr",
     "output_type": "stream",
     "text": [
      "\r",
      "generating test cubes:  37%|███▋      | 311501/835821 [00:10<00:17, 29410.53it/s]"
     ]
    },
    {
     "name": "stderr",
     "output_type": "stream",
     "text": [
      "\r",
      "generating test cubes:  38%|███▊      | 314453/835821 [00:10<00:17, 29442.72it/s]"
     ]
    },
    {
     "name": "stderr",
     "output_type": "stream",
     "text": [
      "\r",
      "generating test cubes:  38%|███▊      | 317413/835821 [00:10<00:17, 29487.37it/s]"
     ]
    },
    {
     "name": "stderr",
     "output_type": "stream",
     "text": [
      "\r",
      "generating test cubes:  38%|███▊      | 320370/835821 [00:10<00:17, 29510.73it/s]"
     ]
    },
    {
     "name": "stderr",
     "output_type": "stream",
     "text": [
      "\r",
      "generating test cubes:  39%|███▊      | 323322/835821 [00:10<00:17, 29513.07it/s]"
     ]
    },
    {
     "name": "stderr",
     "output_type": "stream",
     "text": [
      "\r",
      "generating test cubes:  39%|███▉      | 326275/835821 [00:11<00:17, 29515.67it/s]"
     ]
    },
    {
     "name": "stderr",
     "output_type": "stream",
     "text": [
      "\r",
      "generating test cubes:  39%|███▉      | 329227/835821 [00:11<00:17, 29289.28it/s]"
     ]
    },
    {
     "name": "stderr",
     "output_type": "stream",
     "text": [
      "\r",
      "generating test cubes:  40%|███▉      | 332230/835821 [00:11<00:17, 29506.52it/s]"
     ]
    },
    {
     "name": "stderr",
     "output_type": "stream",
     "text": [
      "\r",
      "generating test cubes:  40%|████      | 335208/835821 [00:11<00:16, 29586.89it/s]"
     ]
    },
    {
     "name": "stderr",
     "output_type": "stream",
     "text": [
      "\r",
      "generating test cubes:  40%|████      | 338168/835821 [00:11<00:16, 29498.44it/s]"
     ]
    },
    {
     "name": "stderr",
     "output_type": "stream",
     "text": [
      "\r",
      "generating test cubes:  41%|████      | 341175/835821 [00:11<00:16, 29667.14it/s]"
     ]
    },
    {
     "name": "stderr",
     "output_type": "stream",
     "text": [
      "\r",
      "generating test cubes:  41%|████      | 344185/835821 [00:11<00:16, 29793.63it/s]"
     ]
    },
    {
     "name": "stderr",
     "output_type": "stream",
     "text": [
      "\r",
      "generating test cubes:  42%|████▏     | 347193/835821 [00:11<00:16, 29878.25it/s]"
     ]
    },
    {
     "name": "stderr",
     "output_type": "stream",
     "text": [
      "\r",
      "generating test cubes:  42%|████▏     | 350202/835821 [00:11<00:16, 29940.92it/s]"
     ]
    },
    {
     "name": "stderr",
     "output_type": "stream",
     "text": [
      "\r",
      "generating test cubes:  42%|████▏     | 353207/835821 [00:11<00:16, 29971.66it/s]"
     ]
    },
    {
     "name": "stderr",
     "output_type": "stream",
     "text": [
      "\r",
      "generating test cubes:  43%|████▎     | 356219/835821 [00:12<00:15, 30015.16it/s]"
     ]
    },
    {
     "name": "stderr",
     "output_type": "stream",
     "text": [
      "\r",
      "generating test cubes:  43%|████▎     | 359223/835821 [00:12<00:15, 30022.19it/s]"
     ]
    },
    {
     "name": "stderr",
     "output_type": "stream",
     "text": [
      "\r",
      "generating test cubes:  43%|████▎     | 362230/835821 [00:12<00:15, 30034.92it/s]"
     ]
    },
    {
     "name": "stderr",
     "output_type": "stream",
     "text": [
      "\r",
      "generating test cubes:  44%|████▎     | 365249/835821 [00:12<00:15, 30078.60it/s]"
     ]
    },
    {
     "name": "stderr",
     "output_type": "stream",
     "text": [
      "\r",
      "generating test cubes:  44%|████▍     | 368271/835821 [00:12<00:15, 30119.71it/s]"
     ]
    },
    {
     "name": "stderr",
     "output_type": "stream",
     "text": [
      "\r",
      "generating test cubes:  44%|████▍     | 371288/835821 [00:12<00:15, 30134.53it/s]"
     ]
    },
    {
     "name": "stderr",
     "output_type": "stream",
     "text": [
      "\r",
      "generating test cubes:  45%|████▍     | 374302/835821 [00:12<00:15, 30093.09it/s]"
     ]
    },
    {
     "name": "stderr",
     "output_type": "stream",
     "text": [
      "\r",
      "generating test cubes:  45%|████▌     | 377312/835821 [00:12<00:15, 30060.03it/s]"
     ]
    },
    {
     "name": "stderr",
     "output_type": "stream",
     "text": [
      "\r",
      "generating test cubes:  46%|████▌     | 380319/835821 [00:12<00:15, 29841.31it/s]"
     ]
    },
    {
     "name": "stderr",
     "output_type": "stream",
     "text": [
      "\r",
      "generating test cubes:  46%|████▌     | 383331/835821 [00:12<00:15, 29922.68it/s]"
     ]
    },
    {
     "name": "stderr",
     "output_type": "stream",
     "text": [
      "\r",
      "generating test cubes:  46%|████▌     | 386333/835821 [00:13<00:15, 29951.63it/s]"
     ]
    },
    {
     "name": "stderr",
     "output_type": "stream",
     "text": [
      "\r",
      "generating test cubes:  47%|████▋     | 389346/835821 [00:13<00:14, 30003.56it/s]"
     ]
    },
    {
     "name": "stderr",
     "output_type": "stream",
     "text": [
      "\r",
      "generating test cubes:  47%|████▋     | 392359/835821 [00:13<00:14, 30039.57it/s]"
     ]
    },
    {
     "name": "stderr",
     "output_type": "stream",
     "text": [
      "\r",
      "generating test cubes:  47%|████▋     | 395374/835821 [00:13<00:14, 30071.68it/s]"
     ]
    },
    {
     "name": "stderr",
     "output_type": "stream",
     "text": [
      "\r",
      "generating test cubes:  48%|████▊     | 398382/835821 [00:13<00:14, 30022.93it/s]"
     ]
    },
    {
     "name": "stderr",
     "output_type": "stream",
     "text": [
      "\r",
      "generating test cubes:  48%|████▊     | 401400/835821 [00:13<00:14, 30067.02it/s]"
     ]
    },
    {
     "name": "stderr",
     "output_type": "stream",
     "text": [
      "\r",
      "generating test cubes:  48%|████▊     | 404419/835821 [00:13<00:14, 30101.97it/s]"
     ]
    },
    {
     "name": "stderr",
     "output_type": "stream",
     "text": [
      "\r",
      "generating test cubes:  49%|████▊     | 407430/835821 [00:13<00:14, 30103.85it/s]"
     ]
    },
    {
     "name": "stderr",
     "output_type": "stream",
     "text": [
      "\r",
      "generating test cubes:  49%|████▉     | 410441/835821 [00:13<00:14, 30101.91it/s]"
     ]
    },
    {
     "name": "stderr",
     "output_type": "stream",
     "text": [
      "\r",
      "generating test cubes:  49%|████▉     | 413452/835821 [00:13<00:14, 30065.69it/s]"
     ]
    },
    {
     "name": "stderr",
     "output_type": "stream",
     "text": [
      "\r",
      "generating test cubes:  50%|████▉     | 416459/835821 [00:14<00:13, 30065.70it/s]"
     ]
    },
    {
     "name": "stderr",
     "output_type": "stream",
     "text": [
      "\r",
      "generating test cubes:  50%|█████     | 419480/835821 [00:14<00:13, 30105.98it/s]"
     ]
    },
    {
     "name": "stderr",
     "output_type": "stream",
     "text": [
      "\r",
      "generating test cubes:  51%|█████     | 422495/835821 [00:14<00:13, 30116.30it/s]"
     ]
    },
    {
     "name": "stderr",
     "output_type": "stream",
     "text": [
      "\r",
      "generating test cubes:  51%|█████     | 425507/835821 [00:14<00:13, 29682.67it/s]"
     ]
    },
    {
     "name": "stderr",
     "output_type": "stream",
     "text": [
      "\r",
      "generating test cubes:  51%|█████▏    | 428482/835821 [00:14<00:13, 29699.88it/s]"
     ]
    },
    {
     "name": "stderr",
     "output_type": "stream",
     "text": [
      "\r",
      "generating test cubes:  52%|█████▏    | 431481/835821 [00:14<00:13, 29783.88it/s]"
     ]
    },
    {
     "name": "stderr",
     "output_type": "stream",
     "text": [
      "\r",
      "generating test cubes:  52%|█████▏    | 434495/835821 [00:14<00:13, 29889.22it/s]"
     ]
    },
    {
     "name": "stderr",
     "output_type": "stream",
     "text": [
      "\r",
      "generating test cubes:  52%|█████▏    | 437506/835821 [00:14<00:13, 29955.08it/s]"
     ]
    },
    {
     "name": "stderr",
     "output_type": "stream",
     "text": [
      "\r",
      "generating test cubes:  53%|█████▎    | 440511/835821 [00:14<00:13, 29982.82it/s]"
     ]
    },
    {
     "name": "stderr",
     "output_type": "stream",
     "text": [
      "\r",
      "generating test cubes:  53%|█████▎    | 443524/835821 [00:14<00:13, 30026.72it/s]"
     ]
    },
    {
     "name": "stderr",
     "output_type": "stream",
     "text": [
      "\r",
      "generating test cubes:  53%|█████▎    | 446536/835821 [00:15<00:12, 30054.03it/s]"
     ]
    },
    {
     "name": "stderr",
     "output_type": "stream",
     "text": [
      "\r",
      "generating test cubes:  54%|█████▍    | 449542/835821 [00:15<00:12, 30040.53it/s]"
     ]
    },
    {
     "name": "stderr",
     "output_type": "stream",
     "text": [
      "\r",
      "generating test cubes:  54%|█████▍    | 452549/835821 [00:15<00:12, 30047.31it/s]"
     ]
    },
    {
     "name": "stderr",
     "output_type": "stream",
     "text": [
      "\r",
      "generating test cubes:  55%|█████▍    | 455562/835821 [00:15<00:12, 30071.76it/s]"
     ]
    },
    {
     "name": "stderr",
     "output_type": "stream",
     "text": [
      "\r",
      "generating test cubes:  55%|█████▍    | 458570/835821 [00:15<00:12, 30061.71it/s]"
     ]
    },
    {
     "name": "stderr",
     "output_type": "stream",
     "text": [
      "\r",
      "generating test cubes:  55%|█████▌    | 461577/835821 [00:15<00:12, 30040.87it/s]"
     ]
    },
    {
     "name": "stderr",
     "output_type": "stream",
     "text": [
      "\r",
      "generating test cubes:  56%|█████▌    | 464582/835821 [00:15<00:12, 30037.82it/s]"
     ]
    },
    {
     "name": "stderr",
     "output_type": "stream",
     "text": [
      "\r",
      "generating test cubes:  56%|█████▌    | 467586/835821 [00:15<00:12, 30003.35it/s]"
     ]
    },
    {
     "name": "stderr",
     "output_type": "stream",
     "text": [
      "\r",
      "generating test cubes:  56%|█████▋    | 470587/835821 [00:15<00:12, 29976.59it/s]"
     ]
    },
    {
     "name": "stderr",
     "output_type": "stream",
     "text": [
      "\r",
      "generating test cubes:  57%|█████▋    | 473585/835821 [00:15<00:12, 29968.06it/s]"
     ]
    },
    {
     "name": "stderr",
     "output_type": "stream",
     "text": [
      "\r",
      "generating test cubes:  57%|█████▋    | 476582/835821 [00:16<00:11, 29948.37it/s]"
     ]
    },
    {
     "name": "stderr",
     "output_type": "stream",
     "text": [
      "\r",
      "generating test cubes:  57%|█████▋    | 479615/835821 [00:16<00:11, 30061.53it/s]"
     ]
    },
    {
     "name": "stderr",
     "output_type": "stream",
     "text": [
      "\r",
      "generating test cubes:  58%|█████▊    | 482622/835821 [00:16<00:11, 30043.11it/s]"
     ]
    },
    {
     "name": "stderr",
     "output_type": "stream",
     "text": [
      "\r",
      "generating test cubes:  58%|█████▊    | 485627/835821 [00:16<00:11, 30023.59it/s]"
     ]
    },
    {
     "name": "stderr",
     "output_type": "stream",
     "text": [
      "\r",
      "generating test cubes:  58%|█████▊    | 488640/835821 [00:16<00:11, 30052.59it/s]"
     ]
    },
    {
     "name": "stderr",
     "output_type": "stream",
     "text": [
      "\r",
      "generating test cubes:  59%|█████▉    | 491646/835821 [00:16<00:11, 30028.28it/s]"
     ]
    },
    {
     "name": "stderr",
     "output_type": "stream",
     "text": [
      "\r",
      "generating test cubes:  59%|█████▉    | 494653/835821 [00:16<00:11, 30040.21it/s]"
     ]
    },
    {
     "name": "stderr",
     "output_type": "stream",
     "text": [
      "\r",
      "generating test cubes:  60%|█████▉    | 497658/835821 [00:16<00:11, 29988.94it/s]"
     ]
    },
    {
     "name": "stderr",
     "output_type": "stream",
     "text": [
      "\r",
      "generating test cubes:  60%|█████▉    | 500662/835821 [00:16<00:11, 30003.41it/s]"
     ]
    },
    {
     "name": "stderr",
     "output_type": "stream",
     "text": [
      "\r",
      "generating test cubes:  60%|██████    | 503663/835821 [00:16<00:11, 29990.96it/s]"
     ]
    },
    {
     "name": "stderr",
     "output_type": "stream",
     "text": [
      "\r",
      "generating test cubes:  61%|██████    | 506675/835821 [00:17<00:10, 30027.55it/s]"
     ]
    },
    {
     "name": "stderr",
     "output_type": "stream",
     "text": [
      "\r",
      "generating test cubes:  61%|██████    | 509683/835821 [00:17<00:10, 30041.15it/s]"
     ]
    },
    {
     "name": "stderr",
     "output_type": "stream",
     "text": [
      "\r",
      "generating test cubes:  61%|██████▏   | 512688/835821 [00:17<00:10, 30024.66it/s]"
     ]
    },
    {
     "name": "stderr",
     "output_type": "stream",
     "text": [
      "\r",
      "generating test cubes:  62%|██████▏   | 515691/835821 [00:17<00:10, 29985.74it/s]"
     ]
    },
    {
     "name": "stderr",
     "output_type": "stream",
     "text": [
      "\r",
      "generating test cubes:  62%|██████▏   | 518690/835821 [00:17<00:10, 29974.92it/s]"
     ]
    },
    {
     "name": "stderr",
     "output_type": "stream",
     "text": [
      "\r",
      "generating test cubes:  62%|██████▏   | 521688/835821 [00:17<00:10, 29971.03it/s]"
     ]
    },
    {
     "name": "stderr",
     "output_type": "stream",
     "text": [
      "\r",
      "generating test cubes:  63%|██████▎   | 524689/835821 [00:17<00:10, 29981.99it/s]"
     ]
    },
    {
     "name": "stderr",
     "output_type": "stream",
     "text": [
      "\r",
      "generating test cubes:  63%|██████▎   | 527688/835821 [00:17<00:10, 29979.98it/s]"
     ]
    },
    {
     "name": "stderr",
     "output_type": "stream",
     "text": [
      "\r",
      "generating test cubes:  63%|██████▎   | 530687/835821 [00:17<00:10, 29982.01it/s]"
     ]
    },
    {
     "name": "stderr",
     "output_type": "stream",
     "text": [
      "\r",
      "generating test cubes:  64%|██████▍   | 533686/835821 [00:17<00:10, 29973.08it/s]"
     ]
    },
    {
     "name": "stderr",
     "output_type": "stream",
     "text": [
      "\r",
      "generating test cubes:  64%|██████▍   | 536684/835821 [00:18<00:10, 29836.70it/s]"
     ]
    },
    {
     "name": "stderr",
     "output_type": "stream",
     "text": [
      "\r",
      "generating test cubes:  65%|██████▍   | 539668/835821 [00:18<00:10, 29470.68it/s]"
     ]
    },
    {
     "name": "stderr",
     "output_type": "stream",
     "text": [
      "\r",
      "generating test cubes:  65%|██████▍   | 542660/835821 [00:18<00:09, 29601.99it/s]"
     ]
    },
    {
     "name": "stderr",
     "output_type": "stream",
     "text": [
      "\r",
      "generating test cubes:  65%|██████▌   | 545656/835821 [00:18<00:09, 29707.34it/s]"
     ]
    },
    {
     "name": "stderr",
     "output_type": "stream",
     "text": [
      "\r",
      "generating test cubes:  66%|██████▌   | 548658/835821 [00:18<00:09, 29797.50it/s]"
     ]
    },
    {
     "name": "stderr",
     "output_type": "stream",
     "text": [
      "\r",
      "generating test cubes:  66%|██████▌   | 551663/835821 [00:18<00:09, 29871.22it/s]"
     ]
    },
    {
     "name": "stderr",
     "output_type": "stream",
     "text": [
      "\r",
      "generating test cubes:  66%|██████▋   | 554666/835821 [00:18<00:09, 29916.91it/s]"
     ]
    },
    {
     "name": "stderr",
     "output_type": "stream",
     "text": [
      "\r",
      "generating test cubes:  67%|██████▋   | 557661/835821 [00:18<00:09, 29925.66it/s]"
     ]
    },
    {
     "name": "stderr",
     "output_type": "stream",
     "text": [
      "\r",
      "generating test cubes:  67%|██████▋   | 560665/835821 [00:18<00:09, 29959.22it/s]"
     ]
    },
    {
     "name": "stderr",
     "output_type": "stream",
     "text": [
      "\r",
      "generating test cubes:  67%|██████▋   | 563670/835821 [00:18<00:09, 29984.67it/s]"
     ]
    },
    {
     "name": "stderr",
     "output_type": "stream",
     "text": [
      "\r",
      "generating test cubes:  68%|██████▊   | 566669/835821 [00:19<00:09, 29598.59it/s]"
     ]
    },
    {
     "name": "stderr",
     "output_type": "stream",
     "text": [
      "\r",
      "generating test cubes:  68%|██████▊   | 569671/835821 [00:19<00:08, 29722.87it/s]"
     ]
    },
    {
     "name": "stderr",
     "output_type": "stream",
     "text": [
      "\r",
      "generating test cubes:  69%|██████▊   | 572671/835821 [00:19<00:08, 29803.74it/s]"
     ]
    },
    {
     "name": "stderr",
     "output_type": "stream",
     "text": [
      "\r",
      "generating test cubes:  69%|██████▉   | 575665/835821 [00:19<00:08, 29842.09it/s]"
     ]
    },
    {
     "name": "stderr",
     "output_type": "stream",
     "text": [
      "\r",
      "generating test cubes:  69%|██████▉   | 578672/835821 [00:19<00:08, 29909.00it/s]"
     ]
    },
    {
     "name": "stderr",
     "output_type": "stream",
     "text": [
      "\r",
      "generating test cubes:  70%|██████▉   | 581677/835821 [00:19<00:08, 29950.17it/s]"
     ]
    },
    {
     "name": "stderr",
     "output_type": "stream",
     "text": [
      "\r",
      "generating test cubes:  70%|██████▉   | 584683/835821 [00:19<00:08, 29982.04it/s]"
     ]
    },
    {
     "name": "stderr",
     "output_type": "stream",
     "text": [
      "\r",
      "generating test cubes:  70%|███████   | 587689/835821 [00:19<00:08, 30002.65it/s]"
     ]
    },
    {
     "name": "stderr",
     "output_type": "stream",
     "text": [
      "\r",
      "generating test cubes:  71%|███████   | 590692/835821 [00:19<00:08, 30008.63it/s]"
     ]
    },
    {
     "name": "stderr",
     "output_type": "stream",
     "text": [
      "\r",
      "generating test cubes:  71%|███████   | 593693/835821 [00:19<00:08, 30005.74it/s]"
     ]
    },
    {
     "name": "stderr",
     "output_type": "stream",
     "text": [
      "\r",
      "generating test cubes:  71%|███████▏  | 596700/835821 [00:20<00:07, 30024.81it/s]"
     ]
    },
    {
     "name": "stderr",
     "output_type": "stream",
     "text": [
      "\r",
      "generating test cubes:  72%|███████▏  | 599713/835821 [00:20<00:07, 30055.74it/s]"
     ]
    },
    {
     "name": "stderr",
     "output_type": "stream",
     "text": [
      "\r",
      "generating test cubes:  72%|███████▏  | 602722/835821 [00:20<00:07, 30064.71it/s]"
     ]
    },
    {
     "name": "stderr",
     "output_type": "stream",
     "text": [
      "\r",
      "generating test cubes:  72%|███████▏  | 605729/835821 [00:20<00:07, 30063.92it/s]"
     ]
    },
    {
     "name": "stderr",
     "output_type": "stream",
     "text": [
      "\r",
      "generating test cubes:  73%|███████▎  | 608736/835821 [00:20<00:07, 29866.24it/s]"
     ]
    },
    {
     "name": "stderr",
     "output_type": "stream",
     "text": [
      "\r",
      "generating test cubes:  73%|███████▎  | 611738/835821 [00:20<00:07, 29912.17it/s]"
     ]
    },
    {
     "name": "stderr",
     "output_type": "stream",
     "text": [
      "\r",
      "generating test cubes:  74%|███████▎  | 614746/835821 [00:20<00:07, 29960.06it/s]"
     ]
    },
    {
     "name": "stderr",
     "output_type": "stream",
     "text": [
      "\r",
      "generating test cubes:  74%|███████▍  | 617765/835821 [00:20<00:07, 30027.53it/s]"
     ]
    },
    {
     "name": "stderr",
     "output_type": "stream",
     "text": [
      "\r",
      "generating test cubes:  74%|███████▍  | 620775/835821 [00:20<00:07, 30049.22it/s]"
     ]
    },
    {
     "name": "stderr",
     "output_type": "stream",
     "text": [
      "\r",
      "generating test cubes:  75%|███████▍  | 623781/835821 [00:20<00:07, 30006.12it/s]"
     ]
    },
    {
     "name": "stderr",
     "output_type": "stream",
     "text": [
      "\r",
      "generating test cubes:  75%|███████▍  | 626788/835821 [00:21<00:06, 30025.11it/s]"
     ]
    },
    {
     "name": "stderr",
     "output_type": "stream",
     "text": [
      "\r",
      "generating test cubes:  75%|███████▌  | 629796/835821 [00:21<00:06, 30041.48it/s]"
     ]
    },
    {
     "name": "stderr",
     "output_type": "stream",
     "text": [
      "\r",
      "generating test cubes:  76%|███████▌  | 632801/835821 [00:21<00:06, 30034.04it/s]"
     ]
    },
    {
     "name": "stderr",
     "output_type": "stream",
     "text": [
      "\r",
      "generating test cubes:  76%|███████▌  | 635805/835821 [00:21<00:06, 30028.62it/s]"
     ]
    },
    {
     "name": "stderr",
     "output_type": "stream",
     "text": [
      "\r",
      "generating test cubes:  76%|███████▋  | 638813/835821 [00:21<00:06, 30043.57it/s]"
     ]
    },
    {
     "name": "stderr",
     "output_type": "stream",
     "text": [
      "\r",
      "generating test cubes:  77%|███████▋  | 641818/835821 [00:21<00:06, 30015.89it/s]"
     ]
    },
    {
     "name": "stderr",
     "output_type": "stream",
     "text": [
      "\r",
      "generating test cubes:  77%|███████▋  | 644826/835821 [00:21<00:06, 30034.01it/s]"
     ]
    },
    {
     "name": "stderr",
     "output_type": "stream",
     "text": [
      "\r",
      "generating test cubes:  78%|███████▊  | 647835/835821 [00:21<00:06, 30049.01it/s]"
     ]
    },
    {
     "name": "stderr",
     "output_type": "stream",
     "text": [
      "\r",
      "generating test cubes:  78%|███████▊  | 650844/835821 [00:21<00:06, 30059.31it/s]"
     ]
    },
    {
     "name": "stderr",
     "output_type": "stream",
     "text": [
      "\r",
      "generating test cubes:  78%|███████▊  | 653863/835821 [00:21<00:06, 30095.72it/s]"
     ]
    },
    {
     "name": "stderr",
     "output_type": "stream",
     "text": [
      "\r",
      "generating test cubes:  79%|███████▊  | 656880/835821 [00:22<00:05, 30117.85it/s]"
     ]
    },
    {
     "name": "stderr",
     "output_type": "stream",
     "text": [
      "\r",
      "generating test cubes:  79%|███████▉  | 659892/835821 [00:22<00:05, 30085.36it/s]"
     ]
    },
    {
     "name": "stderr",
     "output_type": "stream",
     "text": [
      "\r",
      "generating test cubes:  79%|███████▉  | 662901/835821 [00:22<00:05, 30063.13it/s]"
     ]
    },
    {
     "name": "stderr",
     "output_type": "stream",
     "text": [
      "\r",
      "generating test cubes:  80%|███████▉  | 665910/835821 [00:22<00:05, 30071.11it/s]"
     ]
    },
    {
     "name": "stderr",
     "output_type": "stream",
     "text": [
      "\r",
      "generating test cubes:  80%|████████  | 668928/835821 [00:22<00:05, 30103.62it/s]"
     ]
    },
    {
     "name": "stderr",
     "output_type": "stream",
     "text": [
      "\r",
      "generating test cubes:  80%|████████  | 671939/835821 [00:22<00:05, 30080.93it/s]"
     ]
    },
    {
     "name": "stderr",
     "output_type": "stream",
     "text": [
      "\r",
      "generating test cubes:  81%|████████  | 674948/835821 [00:22<00:05, 30079.27it/s]"
     ]
    },
    {
     "name": "stderr",
     "output_type": "stream",
     "text": [
      "\r",
      "generating test cubes:  81%|████████  | 677956/835821 [00:22<00:05, 30066.70it/s]"
     ]
    },
    {
     "name": "stderr",
     "output_type": "stream",
     "text": [
      "\r",
      "generating test cubes:  81%|████████▏ | 680963/835821 [00:22<00:05, 30059.81it/s]"
     ]
    },
    {
     "name": "stderr",
     "output_type": "stream",
     "text": [
      "\r",
      "generating test cubes:  82%|████████▏ | 683969/835821 [00:22<00:05, 29779.06it/s]"
     ]
    },
    {
     "name": "stderr",
     "output_type": "stream",
     "text": [
      "\r",
      "generating test cubes:  82%|████████▏ | 686948/835821 [00:23<00:05, 29740.01it/s]"
     ]
    },
    {
     "name": "stderr",
     "output_type": "stream",
     "text": [
      "\r",
      "generating test cubes:  83%|████████▎ | 689940/835821 [00:23<00:04, 29793.70it/s]"
     ]
    },
    {
     "name": "stderr",
     "output_type": "stream",
     "text": [
      "\r",
      "generating test cubes:  83%|████████▎ | 692939/835821 [00:23<00:04, 29851.88it/s]"
     ]
    },
    {
     "name": "stderr",
     "output_type": "stream",
     "text": [
      "\r",
      "generating test cubes:  83%|████████▎ | 695938/835821 [00:23<00:04, 29892.26it/s]"
     ]
    },
    {
     "name": "stderr",
     "output_type": "stream",
     "text": [
      "\r",
      "generating test cubes:  84%|████████▎ | 698942/835821 [00:23<00:04, 29934.19it/s]"
     ]
    },
    {
     "name": "stderr",
     "output_type": "stream",
     "text": [
      "\r",
      "generating test cubes:  84%|████████▍ | 701943/835821 [00:23<00:04, 29955.32it/s]"
     ]
    },
    {
     "name": "stderr",
     "output_type": "stream",
     "text": [
      "\r",
      "generating test cubes:  84%|████████▍ | 704949/835821 [00:23<00:04, 29984.05it/s]"
     ]
    },
    {
     "name": "stderr",
     "output_type": "stream",
     "text": [
      "\r",
      "generating test cubes:  85%|████████▍ | 707952/835821 [00:23<00:04, 29996.39it/s]"
     ]
    },
    {
     "name": "stderr",
     "output_type": "stream",
     "text": [
      "\r",
      "generating test cubes:  85%|████████▌ | 710952/835821 [00:23<00:04, 29986.16it/s]"
     ]
    },
    {
     "name": "stderr",
     "output_type": "stream",
     "text": [
      "\r",
      "generating test cubes:  85%|████████▌ | 713951/835821 [00:23<00:04, 29971.99it/s]"
     ]
    },
    {
     "name": "stderr",
     "output_type": "stream",
     "text": [
      "\r",
      "generating test cubes:  86%|████████▌ | 716949/835821 [00:24<00:03, 29971.23it/s]"
     ]
    },
    {
     "name": "stderr",
     "output_type": "stream",
     "text": [
      "\r",
      "generating test cubes:  86%|████████▌ | 719950/835821 [00:24<00:03, 29982.11it/s]"
     ]
    },
    {
     "name": "stderr",
     "output_type": "stream",
     "text": [
      "\r",
      "generating test cubes:  86%|████████▋ | 722949/835821 [00:24<00:03, 29971.43it/s]"
     ]
    },
    {
     "name": "stderr",
     "output_type": "stream",
     "text": [
      "\r",
      "generating test cubes:  87%|████████▋ | 725947/835821 [00:24<00:03, 29973.20it/s]"
     ]
    },
    {
     "name": "stderr",
     "output_type": "stream",
     "text": [
      "\r",
      "generating test cubes:  87%|████████▋ | 728948/835821 [00:24<00:03, 29982.27it/s]"
     ]
    },
    {
     "name": "stderr",
     "output_type": "stream",
     "text": [
      "\r",
      "generating test cubes:  88%|████████▊ | 731951/835821 [00:24<00:03, 29995.61it/s]"
     ]
    },
    {
     "name": "stderr",
     "output_type": "stream",
     "text": [
      "\r",
      "generating test cubes:  88%|████████▊ | 734956/835821 [00:24<00:03, 30009.22it/s]"
     ]
    },
    {
     "name": "stderr",
     "output_type": "stream",
     "text": [
      "\r",
      "generating test cubes:  88%|████████▊ | 737957/835821 [00:24<00:03, 29990.80it/s]"
     ]
    },
    {
     "name": "stderr",
     "output_type": "stream",
     "text": [
      "\r",
      "generating test cubes:  89%|████████▊ | 740957/835821 [00:24<00:03, 29986.38it/s]"
     ]
    },
    {
     "name": "stderr",
     "output_type": "stream",
     "text": [
      "\r",
      "generating test cubes:  89%|████████▉ | 743956/835821 [00:24<00:03, 29971.46it/s]"
     ]
    },
    {
     "name": "stderr",
     "output_type": "stream",
     "text": [
      "\r",
      "generating test cubes:  89%|████████▉ | 746959/835821 [00:25<00:02, 29986.01it/s]"
     ]
    },
    {
     "name": "stderr",
     "output_type": "stream",
     "text": [
      "\r",
      "generating test cubes:  90%|████████▉ | 749958/835821 [00:25<00:02, 29984.49it/s]"
     ]
    },
    {
     "name": "stderr",
     "output_type": "stream",
     "text": [
      "\r",
      "generating test cubes:  90%|█████████ | 752962/835821 [00:25<00:02, 29999.80it/s]"
     ]
    },
    {
     "name": "stderr",
     "output_type": "stream",
     "text": [
      "\r",
      "generating test cubes:  90%|█████████ | 755962/835821 [00:25<00:02, 29976.26it/s]"
     ]
    },
    {
     "name": "stderr",
     "output_type": "stream",
     "text": [
      "\r",
      "generating test cubes:  91%|█████████ | 758960/835821 [00:25<00:02, 29940.39it/s]"
     ]
    },
    {
     "name": "stderr",
     "output_type": "stream",
     "text": [
      "\r",
      "generating test cubes:  91%|█████████ | 761961/835821 [00:25<00:02, 29960.39it/s]"
     ]
    },
    {
     "name": "stderr",
     "output_type": "stream",
     "text": [
      "\r",
      "generating test cubes:  92%|█████████▏| 764958/835821 [00:25<00:02, 29866.92it/s]"
     ]
    },
    {
     "name": "stderr",
     "output_type": "stream",
     "text": [
      "\r",
      "generating test cubes:  92%|█████████▏| 767945/835821 [00:25<00:02, 29362.05it/s]"
     ]
    },
    {
     "name": "stderr",
     "output_type": "stream",
     "text": [
      "\r",
      "generating test cubes:  92%|█████████▏| 770947/835821 [00:25<00:02, 29554.83it/s]"
     ]
    },
    {
     "name": "stderr",
     "output_type": "stream",
     "text": [
      "\r",
      "generating test cubes:  93%|█████████▎| 773942/835821 [00:25<00:02, 29670.27it/s]"
     ]
    },
    {
     "name": "stderr",
     "output_type": "stream",
     "text": [
      "\r",
      "generating test cubes:  93%|█████████▎| 776937/835821 [00:26<00:01, 29753.50it/s]"
     ]
    },
    {
     "name": "stderr",
     "output_type": "stream",
     "text": [
      "\r",
      "generating test cubes:  93%|█████████▎| 779943/835821 [00:26<00:01, 29843.93it/s]"
     ]
    },
    {
     "name": "stderr",
     "output_type": "stream",
     "text": [
      "\r",
      "generating test cubes:  94%|█████████▎| 782942/835821 [00:26<00:01, 29886.65it/s]"
     ]
    },
    {
     "name": "stderr",
     "output_type": "stream",
     "text": [
      "\r",
      "generating test cubes:  94%|█████████▍| 785946/835821 [00:26<00:01, 29932.07it/s]"
     ]
    },
    {
     "name": "stderr",
     "output_type": "stream",
     "text": [
      "\r",
      "generating test cubes:  94%|█████████▍| 788947/835821 [00:26<00:01, 29954.05it/s]"
     ]
    },
    {
     "name": "stderr",
     "output_type": "stream",
     "text": [
      "\r",
      "generating test cubes:  95%|█████████▍| 791943/835821 [00:26<00:01, 29881.90it/s]"
     ]
    },
    {
     "name": "stderr",
     "output_type": "stream",
     "text": [
      "\r",
      "generating test cubes:  95%|█████████▌| 794932/835821 [00:26<00:01, 29875.77it/s]"
     ]
    },
    {
     "name": "stderr",
     "output_type": "stream",
     "text": [
      "\r",
      "generating test cubes:  95%|█████████▌| 797927/835821 [00:26<00:01, 29895.47it/s]"
     ]
    },
    {
     "name": "stderr",
     "output_type": "stream",
     "text": [
      "\r",
      "generating test cubes:  96%|█████████▌| 800934/835821 [00:26<00:01, 29946.45it/s]"
     ]
    },
    {
     "name": "stderr",
     "output_type": "stream",
     "text": [
      "\r",
      "generating test cubes:  96%|█████████▌| 803933/835821 [00:26<00:01, 29959.49it/s]"
     ]
    },
    {
     "name": "stderr",
     "output_type": "stream",
     "text": [
      "\r",
      "generating test cubes:  97%|█████████▋| 806941/835821 [00:27<00:00, 29993.30it/s]"
     ]
    },
    {
     "name": "stderr",
     "output_type": "stream",
     "text": [
      "\r",
      "generating test cubes:  97%|█████████▋| 809943/835821 [00:27<00:00, 30001.12it/s]"
     ]
    },
    {
     "name": "stderr",
     "output_type": "stream",
     "text": [
      "\r",
      "generating test cubes:  97%|█████████▋| 812944/835821 [00:27<00:00, 29989.06it/s]"
     ]
    },
    {
     "name": "stderr",
     "output_type": "stream",
     "text": [
      "\r",
      "generating test cubes:  98%|█████████▊| 815943/835821 [00:27<00:00, 29985.68it/s]"
     ]
    },
    {
     "name": "stderr",
     "output_type": "stream",
     "text": [
      "\r",
      "generating test cubes:  98%|█████████▊| 818942/835821 [00:27<00:00, 29973.42it/s]"
     ]
    },
    {
     "name": "stderr",
     "output_type": "stream",
     "text": [
      "\r",
      "generating test cubes:  98%|█████████▊| 821949/835821 [00:27<00:00, 30001.37it/s]"
     ]
    },
    {
     "name": "stderr",
     "output_type": "stream",
     "text": [
      "\r",
      "generating test cubes:  99%|█████████▊| 824955/835821 [00:27<00:00, 30017.55it/s]"
     ]
    },
    {
     "name": "stderr",
     "output_type": "stream",
     "text": [
      "\r",
      "generating test cubes:  99%|█████████▉| 827965/835821 [00:27<00:00, 30042.12it/s]"
     ]
    },
    {
     "name": "stderr",
     "output_type": "stream",
     "text": [
      "\r",
      "generating test cubes:  99%|█████████▉| 830970/835821 [00:27<00:00, 30030.98it/s]"
     ]
    },
    {
     "name": "stderr",
     "output_type": "stream",
     "text": [
      "\r",
      "generating test cubes: 100%|█████████▉| 833974/835821 [00:27<00:00, 30012.98it/s]"
     ]
    },
    {
     "name": "stderr",
     "output_type": "stream",
     "text": [
      "\r",
      "generating test cubes: 100%|██████████| 835821/835821 [00:28<00:00, 29798.53it/s]"
     ]
    },
    {
     "name": "stderr",
     "output_type": "stream",
     "text": [
      "\n"
     ]
    }
   ],
   "source": [
    "from neural_semigroups.training_helpers import get_loaders\n",
    "\n",
    "cardinality = 7\n",
    "data_loaders = get_loaders(\n",
    "    cardinality=cardinality,\n",
    "    batch_size=48,\n",
    "    train_size=100,\n",
    "    validation_size=100\n",
    ")\n"
   ]
  },
  {
   "cell_type": "markdown",
   "metadata": {
    "collapsed": false
   },
   "source": [
    "We model each input Cayley table as a three index tensor $a_{ijk}$ such that\n",
    "\n",
    "$a_{ijk}=P\\left\\{e_ie_j=e_k\\right\\}$\n",
    "\n",
    "where $e_i$ are elements of a semigroup.\n",
    "\n",
    "In our training data all $a_{ijk}$ are either zeros or ones, so probability distributions involved are degenerate.\n",
    "\n",
    "When we need to hide a cell with indices $i,j$ from an original Cayley table we set\n",
    "\n",
    "$a_{ijk}=\\dfrac1n$\n",
    "\n",
    "where $n$ is the semigroup's cardinality. Thus we set a probability distribution of the multiplication result $e_ie_j$ to discrete uniform."
   ]
  },
  {
   "cell_type": "markdown",
   "metadata": {
    "collapsed": false
   },
   "source": [
    "We choose a simple denoising autoencoder as an architecture for our neural network. It simply gets an input tensor of zeros and ones, hide 50% of input cells in a manner described earlier, and applies a linear transformation into a lower dimension ($n^2$ but these also can be tuned) with a simple `RuLU` non-linearity. Then another linear transformation with `ReLU` is applied to return back to the original $n^3$ dimension. We also apply batch norm here. See the package code for the details."
   ]
  },
  {
   "cell_type": "code",
   "execution_count": 2,
   "metadata": {
    "collapsed": false
   },
   "outputs": [],
   "source": [
    "from neural_semigroups import MagmaDAE\n",
    "from neural_semigroups.constants import CURRENT_DEVICE\n",
    "\n",
    "dae = MagmaDAE(\n",
    "    cardinality=cardinality,\n",
    "    hidden_dims=[\n",
    "        cardinality ** 2\n",
    "    ],\n",
    "    corruption_rate=0.5\n",
    ").to(CURRENT_DEVICE)"
   ]
  },
  {
   "cell_type": "code",
   "execution_count": 3,
   "metadata": {
    "collapsed": false
   },
   "outputs": [
    {
     "data": {
      "text/plain": [
       "MagmaDAE(\n",
       "  (decoder_layers): Sequential(\n",
       "    (linear10): Linear(in_features=49, out_features=343, bias=True)\n",
       "    (relu10): ReLU()\n",
       "    (bn10): BatchNorm1d(343, eps=1e-05, momentum=0.1, affine=True, track_running_stats=True)\n",
       "  )\n",
       "  (encoder_layers): Sequential(\n",
       "    (linear00): Linear(in_features=343, out_features=49, bias=True)\n",
       "    (relu00): ReLU()\n",
       "    (bn00): BatchNorm1d(49, eps=1e-05, momentum=0.1, affine=True, track_running_stats=True)\n",
       "  )\n",
       ")"
      ]
     },
     "execution_count": 3,
     "metadata": {},
     "output_type": "execute_result"
    }
   ],
   "source": [
    "dae"
   ]
  },
  {
   "cell_type": "markdown",
   "metadata": {
    "collapsed": false
   },
   "source": [
    "During the training process we try to minimize the Kullback-Leibler distance between two probabilistic cubes (the input and output ones of the DAE)."
   ]
  },
  {
   "cell_type": "code",
   "execution_count": 4,
   "metadata": {
    "collapsed": false
   },
   "outputs": [],
   "source": [
    "import torch\n",
    "from torch import Tensor\n",
    "from torch.nn.functional import kl_div\n",
    "\n",
    "def loss(prediction: Tensor, target: Tensor) -> Tensor:\n",
    "    return kl_div(torch.log(prediction), target, reduction=\"batchmean\")\n"
   ]
  },
  {
   "cell_type": "markdown",
   "metadata": {
    "collapsed": false
   },
   "source": [
    "We use `pytorch-ignite` to write less boilerplate code for a training pipeline."
   ]
  },
  {
   "cell_type": "code",
   "execution_count": 5,
   "metadata": {
    "collapsed": false
   },
   "outputs": [],
   "source": [
    "from ignite.engine import create_supervised_evaluator\n",
    "from ignite.metrics.loss import Loss\n",
    "\n",
    "evaluator = create_supervised_evaluator(\n",
    "    dae,\n",
    "    metrics={\"loss\": Loss(loss)}\n",
    ")"
   ]
  },
  {
   "cell_type": "markdown",
   "metadata": {
    "collapsed": false
   },
   "source": [
    "Now it's time to run a pipeline! Here you can tune the learning schedule for better results.\n",
    "\n",
    "You can construct your own pipeline if you don't want to import one provided by the package.\n",
    "\n",
    "In the next three cells we will run `tensorboard` to show training/validation curves during training process."
   ]
  },
  {
   "cell_type": "code",
   "execution_count": 6,
   "metadata": {
    "collapsed": false
   },
   "outputs": [],
   "source": [
    "%load_ext tensorboard"
   ]
  },
  {
   "cell_type": "code",
   "execution_count": 7,
   "metadata": {
    "collapsed": false
   },
   "outputs": [],
   "source": [
    "!rm -rf runs"
   ]
  },
  {
   "cell_type": "code",
   "execution_count": 8,
   "metadata": {
    "collapsed": false
   },
   "outputs": [
    {
     "data": {
      "text/plain": [
       "Launching TensorBoard..."
      ]
     },
     "metadata": {},
     "output_type": "display_data"
    },
    {
     "data": {
      "text/html": [
       "\n",
       "      <iframe id=\"tensorboard-frame-ded08fab8ccc6aae\" width=\"100%\" height=\"800\" frameborder=\"0\">\n",
       "      </iframe>\n",
       "      <script>\n",
       "        (function() {\n",
       "          const frame = document.getElementById(\"tensorboard-frame-ded08fab8ccc6aae\");\n",
       "          const url = new URL(\"/\", window.location);\n",
       "          url.port = 6007;\n",
       "          frame.src = url;\n",
       "        })();\n",
       "      </script>\n",
       "  "
      ],
      "text/plain": [
       "<IPython.core.display.HTML object>"
      ]
     },
     "metadata": {},
     "output_type": "display_data"
    }
   ],
   "source": [
    "%tensorboard --logdir runs --host 0.0.0.0"
   ]
  },
  {
   "cell_type": "code",
   "execution_count": 16,
   "metadata": {
    "collapsed": false
   },
   "outputs": [
    {
     "name": "stdout",
     "output_type": "stream",
     "text": [
      "CPU times: user 5.33 s, sys: 215 ms, total: 5.55 s\n",
      "Wall time: 3.68 s\n"
     ]
    }
   ],
   "source": [
    "%%time\n",
    "from neural_semigroups.training_helpers import learning_pipeline\n",
    "\n",
    "params = {\n",
    "    \"learning_rate\": 0.005,\n",
    "    \"epochs\": 1000,\n",
    "    \"cardinality\": cardinality\n",
    "}\n",
    "learning_pipeline(params, dae, evaluator, loss, data_loaders)"
   ]
  },
  {
   "cell_type": "markdown",
   "metadata": {
    "collapsed": false
   },
   "source": [
    "And here is the report of results. It seems to be quite impressive. For it we got 1000 of random Cayley tables (for different equivalent classes as always) and constructed 'puzzles' from it.\n",
    "\n",
    "Level of difficulty for a puzzle is a number of hidden cells. A puzzle is considered to be solved if the model returns a full associative table.\n",
    "\n",
    "We see that the model generalizes well (it was trained only on 100 tables)."
   ]
  },
  {
   "cell_type": "code",
   "execution_count": 17,
   "metadata": {
    "collapsed": false
   },
   "outputs": [
    {
     "name": "stderr",
     "output_type": "stream",
     "text": [
      "\r",
      "generating and solving puzzles:   0%|          | 0/1000 [00:00<?, ?it/s]"
     ]
    },
    {
     "name": "stderr",
     "output_type": "stream",
     "text": [
      "\r",
      "generating and solving puzzles:   0%|          | 2/1000 [00:00<01:01, 16.11it/s]"
     ]
    },
    {
     "name": "stderr",
     "output_type": "stream",
     "text": [
      "\r",
      "generating and solving puzzles:   0%|          | 4/1000 [00:00<01:01, 16.29it/s]"
     ]
    },
    {
     "name": "stderr",
     "output_type": "stream",
     "text": [
      "\r",
      "generating and solving puzzles:   1%|          | 6/1000 [00:00<01:01, 16.06it/s]"
     ]
    },
    {
     "name": "stderr",
     "output_type": "stream",
     "text": [
      "\r",
      "generating and solving puzzles:   1%|          | 8/1000 [00:00<01:01, 16.16it/s]"
     ]
    },
    {
     "name": "stderr",
     "output_type": "stream",
     "text": [
      "\r",
      "generating and solving puzzles:   1%|          | 11/1000 [00:00<00:57, 17.27it/s]"
     ]
    },
    {
     "name": "stderr",
     "output_type": "stream",
     "text": [
      "\r",
      "generating and solving puzzles:   1%|▏         | 13/1000 [00:00<00:59, 16.52it/s]"
     ]
    },
    {
     "name": "stderr",
     "output_type": "stream",
     "text": [
      "\r",
      "generating and solving puzzles:   2%|▏         | 15/1000 [00:00<01:01, 16.08it/s]"
     ]
    },
    {
     "name": "stderr",
     "output_type": "stream",
     "text": [
      "\r",
      "generating and solving puzzles:   2%|▏         | 17/1000 [00:01<01:00, 16.17it/s]"
     ]
    },
    {
     "name": "stderr",
     "output_type": "stream",
     "text": [
      "\r",
      "generating and solving puzzles:   2%|▏         | 19/1000 [00:01<01:00, 16.20it/s]"
     ]
    },
    {
     "name": "stderr",
     "output_type": "stream",
     "text": [
      "\r",
      "generating and solving puzzles:   2%|▏         | 22/1000 [00:01<00:54, 17.94it/s]"
     ]
    },
    {
     "name": "stderr",
     "output_type": "stream",
     "text": [
      "\r",
      "generating and solving puzzles:   2%|▏         | 24/1000 [00:01<00:55, 17.62it/s]"
     ]
    },
    {
     "name": "stderr",
     "output_type": "stream",
     "text": [
      "\r",
      "generating and solving puzzles:   3%|▎         | 26/1000 [00:01<00:56, 17.25it/s]"
     ]
    },
    {
     "name": "stderr",
     "output_type": "stream",
     "text": [
      "\r",
      "generating and solving puzzles:   3%|▎         | 28/1000 [00:01<00:57, 16.98it/s]"
     ]
    },
    {
     "name": "stderr",
     "output_type": "stream",
     "text": [
      "\r",
      "generating and solving puzzles:   3%|▎         | 30/1000 [00:01<00:57, 16.76it/s]"
     ]
    },
    {
     "name": "stderr",
     "output_type": "stream",
     "text": [
      "\r",
      "generating and solving puzzles:   3%|▎         | 32/1000 [00:01<00:58, 16.64it/s]"
     ]
    },
    {
     "name": "stderr",
     "output_type": "stream",
     "text": [
      "\r",
      "generating and solving puzzles:   4%|▎         | 35/1000 [00:02<00:53, 18.14it/s]"
     ]
    },
    {
     "name": "stderr",
     "output_type": "stream",
     "text": [
      "\r",
      "generating and solving puzzles:   4%|▎         | 37/1000 [00:02<00:56, 17.09it/s]"
     ]
    },
    {
     "name": "stderr",
     "output_type": "stream",
     "text": [
      "\r",
      "generating and solving puzzles:   4%|▍         | 40/1000 [00:02<00:54, 17.56it/s]"
     ]
    },
    {
     "name": "stderr",
     "output_type": "stream",
     "text": [
      "\r",
      "generating and solving puzzles:   4%|▍         | 42/1000 [00:02<00:57, 16.75it/s]"
     ]
    },
    {
     "name": "stderr",
     "output_type": "stream",
     "text": [
      "\r",
      "generating and solving puzzles:   4%|▍         | 44/1000 [00:02<00:58, 16.25it/s]"
     ]
    },
    {
     "name": "stderr",
     "output_type": "stream",
     "text": [
      "\r",
      "generating and solving puzzles:   5%|▍         | 47/1000 [00:02<00:54, 17.61it/s]"
     ]
    },
    {
     "name": "stderr",
     "output_type": "stream",
     "text": [
      "\r",
      "generating and solving puzzles:   5%|▍         | 49/1000 [00:02<00:53, 17.72it/s]"
     ]
    },
    {
     "name": "stderr",
     "output_type": "stream",
     "text": [
      "\r",
      "generating and solving puzzles:   5%|▌         | 51/1000 [00:02<00:55, 16.98it/s]"
     ]
    },
    {
     "name": "stderr",
     "output_type": "stream",
     "text": [
      "\r",
      "generating and solving puzzles:   5%|▌         | 53/1000 [00:03<00:54, 17.48it/s]"
     ]
    },
    {
     "name": "stderr",
     "output_type": "stream",
     "text": [
      "\r",
      "generating and solving puzzles:   6%|▌         | 55/1000 [00:03<00:55, 17.06it/s]"
     ]
    },
    {
     "name": "stderr",
     "output_type": "stream",
     "text": [
      "\r",
      "generating and solving puzzles:   6%|▌         | 57/1000 [00:03<00:53, 17.59it/s]"
     ]
    },
    {
     "name": "stderr",
     "output_type": "stream",
     "text": [
      "\r",
      "generating and solving puzzles:   6%|▌         | 59/1000 [00:03<00:54, 17.22it/s]"
     ]
    },
    {
     "name": "stderr",
     "output_type": "stream",
     "text": [
      "\r",
      "generating and solving puzzles:   6%|▌         | 62/1000 [00:03<00:50, 18.41it/s]"
     ]
    },
    {
     "name": "stderr",
     "output_type": "stream",
     "text": [
      "\r",
      "generating and solving puzzles:   6%|▋         | 64/1000 [00:03<00:50, 18.47it/s]"
     ]
    },
    {
     "name": "stderr",
     "output_type": "stream",
     "text": [
      "\r",
      "generating and solving puzzles:   7%|▋         | 66/1000 [00:03<00:50, 18.38it/s]"
     ]
    },
    {
     "name": "stderr",
     "output_type": "stream",
     "text": [
      "\r",
      "generating and solving puzzles:   7%|▋         | 69/1000 [00:03<00:49, 18.69it/s]"
     ]
    },
    {
     "name": "stderr",
     "output_type": "stream",
     "text": [
      "\r",
      "generating and solving puzzles:   7%|▋         | 71/1000 [00:04<00:50, 18.23it/s]"
     ]
    },
    {
     "name": "stderr",
     "output_type": "stream",
     "text": [
      "\r",
      "generating and solving puzzles:   7%|▋         | 73/1000 [00:04<00:53, 17.20it/s]"
     ]
    },
    {
     "name": "stderr",
     "output_type": "stream",
     "text": [
      "\r",
      "generating and solving puzzles:   8%|▊         | 75/1000 [00:04<00:54, 16.94it/s]"
     ]
    },
    {
     "name": "stderr",
     "output_type": "stream",
     "text": [
      "\r",
      "generating and solving puzzles:   8%|▊         | 77/1000 [00:04<00:56, 16.41it/s]"
     ]
    },
    {
     "name": "stderr",
     "output_type": "stream",
     "text": [
      "\r",
      "generating and solving puzzles:   8%|▊         | 79/1000 [00:04<00:58, 15.75it/s]"
     ]
    },
    {
     "name": "stderr",
     "output_type": "stream",
     "text": [
      "\r",
      "generating and solving puzzles:   8%|▊         | 81/1000 [00:04<00:58, 15.78it/s]"
     ]
    },
    {
     "name": "stderr",
     "output_type": "stream",
     "text": [
      "\r",
      "generating and solving puzzles:   8%|▊         | 83/1000 [00:04<00:57, 15.91it/s]"
     ]
    },
    {
     "name": "stderr",
     "output_type": "stream",
     "text": [
      "\r",
      "generating and solving puzzles:   9%|▊         | 86/1000 [00:04<00:51, 17.70it/s]"
     ]
    },
    {
     "name": "stderr",
     "output_type": "stream",
     "text": [
      "\r",
      "generating and solving puzzles:   9%|▉         | 88/1000 [00:05<00:53, 16.91it/s]"
     ]
    },
    {
     "name": "stderr",
     "output_type": "stream",
     "text": [
      "\r",
      "generating and solving puzzles:   9%|▉         | 91/1000 [00:05<00:51, 17.49it/s]"
     ]
    },
    {
     "name": "stderr",
     "output_type": "stream",
     "text": [
      "\r",
      "generating and solving puzzles:   9%|▉         | 93/1000 [00:05<00:51, 17.52it/s]"
     ]
    },
    {
     "name": "stderr",
     "output_type": "stream",
     "text": [
      "\r",
      "generating and solving puzzles:  10%|▉         | 95/1000 [00:05<00:52, 17.22it/s]"
     ]
    },
    {
     "name": "stderr",
     "output_type": "stream",
     "text": [
      "\r",
      "generating and solving puzzles:  10%|▉         | 97/1000 [00:05<00:53, 16.95it/s]"
     ]
    },
    {
     "name": "stderr",
     "output_type": "stream",
     "text": [
      "\r",
      "generating and solving puzzles:  10%|█         | 100/1000 [00:05<00:50, 17.91it/s]"
     ]
    },
    {
     "name": "stderr",
     "output_type": "stream",
     "text": [
      "\r",
      "generating and solving puzzles:  10%|█         | 102/1000 [00:05<00:51, 17.43it/s]"
     ]
    },
    {
     "name": "stderr",
     "output_type": "stream",
     "text": [
      "\r",
      "generating and solving puzzles:  10%|█         | 105/1000 [00:05<00:49, 17.92it/s]"
     ]
    },
    {
     "name": "stderr",
     "output_type": "stream",
     "text": [
      "\r",
      "generating and solving puzzles:  11%|█         | 107/1000 [00:06<00:52, 16.89it/s]"
     ]
    },
    {
     "name": "stderr",
     "output_type": "stream",
     "text": [
      "\r",
      "generating and solving puzzles:  11%|█         | 109/1000 [00:06<00:53, 16.57it/s]"
     ]
    },
    {
     "name": "stderr",
     "output_type": "stream",
     "text": [
      "\r",
      "generating and solving puzzles:  11%|█         | 111/1000 [00:06<00:55, 16.13it/s]"
     ]
    },
    {
     "name": "stderr",
     "output_type": "stream",
     "text": [
      "\r",
      "generating and solving puzzles:  11%|█▏        | 113/1000 [00:06<00:54, 16.19it/s]"
     ]
    },
    {
     "name": "stderr",
     "output_type": "stream",
     "text": [
      "\r",
      "generating and solving puzzles:  12%|█▏        | 115/1000 [00:06<00:53, 16.61it/s]"
     ]
    },
    {
     "name": "stderr",
     "output_type": "stream",
     "text": [
      "\r",
      "generating and solving puzzles:  12%|█▏        | 117/1000 [00:06<00:53, 16.55it/s]"
     ]
    },
    {
     "name": "stderr",
     "output_type": "stream",
     "text": [
      "\r",
      "generating and solving puzzles:  12%|█▏        | 119/1000 [00:06<00:51, 17.22it/s]"
     ]
    },
    {
     "name": "stderr",
     "output_type": "stream",
     "text": [
      "\r",
      "generating and solving puzzles:  12%|█▏        | 122/1000 [00:06<00:44, 19.62it/s]"
     ]
    },
    {
     "name": "stderr",
     "output_type": "stream",
     "text": [
      "\r",
      "generating and solving puzzles:  12%|█▎        | 125/1000 [00:07<00:47, 18.39it/s]"
     ]
    },
    {
     "name": "stderr",
     "output_type": "stream",
     "text": [
      "\r",
      "generating and solving puzzles:  13%|█▎        | 127/1000 [00:07<00:49, 17.69it/s]"
     ]
    },
    {
     "name": "stderr",
     "output_type": "stream",
     "text": [
      "\r",
      "generating and solving puzzles:  13%|█▎        | 129/1000 [00:07<00:50, 17.29it/s]"
     ]
    },
    {
     "name": "stderr",
     "output_type": "stream",
     "text": [
      "\r",
      "generating and solving puzzles:  13%|█▎        | 131/1000 [00:07<00:50, 17.31it/s]"
     ]
    },
    {
     "name": "stderr",
     "output_type": "stream",
     "text": [
      "\r",
      "generating and solving puzzles:  13%|█▎        | 133/1000 [00:07<00:51, 16.76it/s]"
     ]
    },
    {
     "name": "stderr",
     "output_type": "stream",
     "text": [
      "\r",
      "generating and solving puzzles:  14%|█▎        | 135/1000 [00:07<00:52, 16.43it/s]"
     ]
    },
    {
     "name": "stderr",
     "output_type": "stream",
     "text": [
      "\r",
      "generating and solving puzzles:  14%|█▎        | 137/1000 [00:07<00:52, 16.38it/s]"
     ]
    },
    {
     "name": "stderr",
     "output_type": "stream",
     "text": [
      "\r",
      "generating and solving puzzles:  14%|█▍        | 139/1000 [00:08<00:52, 16.34it/s]"
     ]
    },
    {
     "name": "stderr",
     "output_type": "stream",
     "text": [
      "\r",
      "generating and solving puzzles:  14%|█▍        | 141/1000 [00:08<00:50, 16.85it/s]"
     ]
    },
    {
     "name": "stderr",
     "output_type": "stream",
     "text": [
      "\r",
      "generating and solving puzzles:  14%|█▍        | 143/1000 [00:08<00:51, 16.73it/s]"
     ]
    },
    {
     "name": "stderr",
     "output_type": "stream",
     "text": [
      "\r",
      "generating and solving puzzles:  14%|█▍        | 145/1000 [00:08<00:51, 16.60it/s]"
     ]
    },
    {
     "name": "stderr",
     "output_type": "stream",
     "text": [
      "\r",
      "generating and solving puzzles:  15%|█▍        | 147/1000 [00:08<00:51, 16.54it/s]"
     ]
    },
    {
     "name": "stderr",
     "output_type": "stream",
     "text": [
      "\r",
      "generating and solving puzzles:  15%|█▍        | 149/1000 [00:08<00:51, 16.58it/s]"
     ]
    },
    {
     "name": "stderr",
     "output_type": "stream",
     "text": [
      "\r",
      "generating and solving puzzles:  15%|█▌        | 151/1000 [00:08<00:51, 16.51it/s]"
     ]
    },
    {
     "name": "stderr",
     "output_type": "stream",
     "text": [
      "\r",
      "generating and solving puzzles:  15%|█▌        | 153/1000 [00:08<00:51, 16.48it/s]"
     ]
    },
    {
     "name": "stderr",
     "output_type": "stream",
     "text": [
      "\r",
      "generating and solving puzzles:  16%|█▌        | 155/1000 [00:08<00:50, 16.72it/s]"
     ]
    },
    {
     "name": "stderr",
     "output_type": "stream",
     "text": [
      "\r",
      "generating and solving puzzles:  16%|█▌        | 157/1000 [00:09<00:50, 16.60it/s]"
     ]
    },
    {
     "name": "stderr",
     "output_type": "stream",
     "text": [
      "\r",
      "generating and solving puzzles:  16%|█▌        | 159/1000 [00:09<00:50, 16.58it/s]"
     ]
    },
    {
     "name": "stderr",
     "output_type": "stream",
     "text": [
      "\r",
      "generating and solving puzzles:  16%|█▌        | 162/1000 [00:09<00:47, 17.64it/s]"
     ]
    },
    {
     "name": "stderr",
     "output_type": "stream",
     "text": [
      "\r",
      "generating and solving puzzles:  16%|█▋        | 164/1000 [00:09<00:48, 17.22it/s]"
     ]
    },
    {
     "name": "stderr",
     "output_type": "stream",
     "text": [
      "\r",
      "generating and solving puzzles:  17%|█▋        | 167/1000 [00:09<00:47, 17.71it/s]"
     ]
    },
    {
     "name": "stderr",
     "output_type": "stream",
     "text": [
      "\r",
      "generating and solving puzzles:  17%|█▋        | 170/1000 [00:09<00:45, 18.16it/s]"
     ]
    },
    {
     "name": "stderr",
     "output_type": "stream",
     "text": [
      "\r",
      "generating and solving puzzles:  17%|█▋        | 172/1000 [00:09<00:47, 17.47it/s]"
     ]
    },
    {
     "name": "stderr",
     "output_type": "stream",
     "text": [
      "\r",
      "generating and solving puzzles:  17%|█▋        | 174/1000 [00:10<00:48, 17.11it/s]"
     ]
    },
    {
     "name": "stderr",
     "output_type": "stream",
     "text": [
      "\r",
      "generating and solving puzzles:  18%|█▊        | 177/1000 [00:10<00:43, 18.79it/s]"
     ]
    },
    {
     "name": "stderr",
     "output_type": "stream",
     "text": [
      "\r",
      "generating and solving puzzles:  18%|█▊        | 180/1000 [00:10<00:43, 18.89it/s]"
     ]
    },
    {
     "name": "stderr",
     "output_type": "stream",
     "text": [
      "\r",
      "generating and solving puzzles:  18%|█▊        | 183/1000 [00:10<00:40, 20.26it/s]"
     ]
    },
    {
     "name": "stderr",
     "output_type": "stream",
     "text": [
      "\r",
      "generating and solving puzzles:  19%|█▊        | 186/1000 [00:10<00:43, 18.55it/s]"
     ]
    },
    {
     "name": "stderr",
     "output_type": "stream",
     "text": [
      "\r",
      "generating and solving puzzles:  19%|█▉        | 188/1000 [00:10<00:45, 17.69it/s]"
     ]
    },
    {
     "name": "stderr",
     "output_type": "stream",
     "text": [
      "\r",
      "generating and solving puzzles:  19%|█▉        | 190/1000 [00:10<00:46, 17.27it/s]"
     ]
    },
    {
     "name": "stderr",
     "output_type": "stream",
     "text": [
      "\r",
      "generating and solving puzzles:  19%|█▉        | 192/1000 [00:11<00:48, 16.61it/s]"
     ]
    },
    {
     "name": "stderr",
     "output_type": "stream",
     "text": [
      "\r",
      "generating and solving puzzles:  19%|█▉        | 194/1000 [00:11<00:48, 16.54it/s]"
     ]
    },
    {
     "name": "stderr",
     "output_type": "stream",
     "text": [
      "\r",
      "generating and solving puzzles:  20%|█▉        | 196/1000 [00:11<00:48, 16.62it/s]"
     ]
    },
    {
     "name": "stderr",
     "output_type": "stream",
     "text": [
      "\r",
      "generating and solving puzzles:  20%|█▉        | 199/1000 [00:11<00:46, 17.20it/s]"
     ]
    },
    {
     "name": "stderr",
     "output_type": "stream",
     "text": [
      "\r",
      "generating and solving puzzles:  20%|██        | 201/1000 [00:11<00:46, 17.23it/s]"
     ]
    },
    {
     "name": "stderr",
     "output_type": "stream",
     "text": [
      "\r",
      "generating and solving puzzles:  20%|██        | 203/1000 [00:11<00:47, 16.68it/s]"
     ]
    },
    {
     "name": "stderr",
     "output_type": "stream",
     "text": [
      "\r",
      "generating and solving puzzles:  20%|██        | 205/1000 [00:11<00:46, 17.27it/s]"
     ]
    },
    {
     "name": "stderr",
     "output_type": "stream",
     "text": [
      "\r",
      "generating and solving puzzles:  21%|██        | 207/1000 [00:11<00:46, 16.97it/s]"
     ]
    },
    {
     "name": "stderr",
     "output_type": "stream",
     "text": [
      "\r",
      "generating and solving puzzles:  21%|██        | 209/1000 [00:11<00:45, 17.31it/s]"
     ]
    },
    {
     "name": "stderr",
     "output_type": "stream",
     "text": [
      "\r",
      "generating and solving puzzles:  21%|██        | 211/1000 [00:12<00:44, 17.55it/s]"
     ]
    },
    {
     "name": "stderr",
     "output_type": "stream",
     "text": [
      "\r",
      "generating and solving puzzles:  21%|██▏       | 214/1000 [00:12<00:41, 18.90it/s]"
     ]
    },
    {
     "name": "stderr",
     "output_type": "stream",
     "text": [
      "\r",
      "generating and solving puzzles:  22%|██▏       | 216/1000 [00:12<00:40, 19.15it/s]"
     ]
    },
    {
     "name": "stderr",
     "output_type": "stream",
     "text": [
      "\r",
      "generating and solving puzzles:  22%|██▏       | 218/1000 [00:12<00:42, 18.42it/s]"
     ]
    },
    {
     "name": "stderr",
     "output_type": "stream",
     "text": [
      "\r",
      "generating and solving puzzles:  22%|██▏       | 220/1000 [00:12<00:41, 18.71it/s]"
     ]
    },
    {
     "name": "stderr",
     "output_type": "stream",
     "text": [
      "\r",
      "generating and solving puzzles:  22%|██▏       | 222/1000 [00:12<00:44, 17.38it/s]"
     ]
    },
    {
     "name": "stderr",
     "output_type": "stream",
     "text": [
      "\r",
      "generating and solving puzzles:  22%|██▎       | 225/1000 [00:12<00:43, 17.92it/s]"
     ]
    },
    {
     "name": "stderr",
     "output_type": "stream",
     "text": [
      "\r",
      "generating and solving puzzles:  23%|██▎       | 227/1000 [00:12<00:44, 17.45it/s]"
     ]
    },
    {
     "name": "stderr",
     "output_type": "stream",
     "text": [
      "\r",
      "generating and solving puzzles:  23%|██▎       | 229/1000 [00:13<00:44, 17.51it/s]"
     ]
    },
    {
     "name": "stderr",
     "output_type": "stream",
     "text": [
      "\r",
      "generating and solving puzzles:  23%|██▎       | 231/1000 [00:13<00:44, 17.15it/s]"
     ]
    },
    {
     "name": "stderr",
     "output_type": "stream",
     "text": [
      "\r",
      "generating and solving puzzles:  23%|██▎       | 233/1000 [00:13<00:45, 16.89it/s]"
     ]
    },
    {
     "name": "stderr",
     "output_type": "stream",
     "text": [
      "\r",
      "generating and solving puzzles:  24%|██▎       | 235/1000 [00:13<00:45, 16.64it/s]"
     ]
    },
    {
     "name": "stderr",
     "output_type": "stream",
     "text": [
      "\r",
      "generating and solving puzzles:  24%|██▍       | 238/1000 [00:13<00:43, 17.42it/s]"
     ]
    },
    {
     "name": "stderr",
     "output_type": "stream",
     "text": [
      "\r",
      "generating and solving puzzles:  24%|██▍       | 240/1000 [00:13<00:44, 17.02it/s]"
     ]
    },
    {
     "name": "stderr",
     "output_type": "stream",
     "text": [
      "\r",
      "generating and solving puzzles:  24%|██▍       | 242/1000 [00:13<00:44, 17.19it/s]"
     ]
    },
    {
     "name": "stderr",
     "output_type": "stream",
     "text": [
      "\r",
      "generating and solving puzzles:  24%|██▍       | 244/1000 [00:13<00:42, 17.87it/s]"
     ]
    },
    {
     "name": "stderr",
     "output_type": "stream",
     "text": [
      "\r",
      "generating and solving puzzles:  25%|██▍       | 246/1000 [00:14<00:43, 17.40it/s]"
     ]
    },
    {
     "name": "stderr",
     "output_type": "stream",
     "text": [
      "\r",
      "generating and solving puzzles:  25%|██▍       | 249/1000 [00:14<00:41, 17.93it/s]"
     ]
    },
    {
     "name": "stderr",
     "output_type": "stream",
     "text": [
      "\r",
      "generating and solving puzzles:  25%|██▌       | 251/1000 [00:14<00:40, 18.38it/s]"
     ]
    },
    {
     "name": "stderr",
     "output_type": "stream",
     "text": [
      "\r",
      "generating and solving puzzles:  25%|██▌       | 253/1000 [00:14<00:42, 17.70it/s]"
     ]
    },
    {
     "name": "stderr",
     "output_type": "stream",
     "text": [
      "\r",
      "generating and solving puzzles:  26%|██▌       | 255/1000 [00:14<00:42, 17.33it/s]"
     ]
    },
    {
     "name": "stderr",
     "output_type": "stream",
     "text": [
      "\r",
      "generating and solving puzzles:  26%|██▌       | 257/1000 [00:14<00:41, 17.87it/s]"
     ]
    },
    {
     "name": "stderr",
     "output_type": "stream",
     "text": [
      "\r",
      "generating and solving puzzles:  26%|██▌       | 259/1000 [00:14<00:42, 17.35it/s]"
     ]
    },
    {
     "name": "stderr",
     "output_type": "stream",
     "text": [
      "\r",
      "generating and solving puzzles:  26%|██▌       | 261/1000 [00:14<00:43, 17.06it/s]"
     ]
    },
    {
     "name": "stderr",
     "output_type": "stream",
     "text": [
      "\r",
      "generating and solving puzzles:  26%|██▋       | 263/1000 [00:15<00:44, 16.62it/s]"
     ]
    },
    {
     "name": "stderr",
     "output_type": "stream",
     "text": [
      "\r",
      "generating and solving puzzles:  27%|██▋       | 266/1000 [00:15<00:40, 18.11it/s]"
     ]
    },
    {
     "name": "stderr",
     "output_type": "stream",
     "text": [
      "\r",
      "generating and solving puzzles:  27%|██▋       | 268/1000 [00:15<00:41, 17.43it/s]"
     ]
    },
    {
     "name": "stderr",
     "output_type": "stream",
     "text": [
      "\r",
      "generating and solving puzzles:  27%|██▋       | 271/1000 [00:15<00:40, 17.90it/s]"
     ]
    },
    {
     "name": "stderr",
     "output_type": "stream",
     "text": [
      "\r",
      "generating and solving puzzles:  27%|██▋       | 273/1000 [00:15<00:42, 17.09it/s]"
     ]
    },
    {
     "name": "stderr",
     "output_type": "stream",
     "text": [
      "\r",
      "generating and solving puzzles:  28%|██▊       | 275/1000 [00:15<00:40, 17.76it/s]"
     ]
    },
    {
     "name": "stderr",
     "output_type": "stream",
     "text": [
      "\r",
      "generating and solving puzzles:  28%|██▊       | 277/1000 [00:15<00:40, 18.04it/s]"
     ]
    },
    {
     "name": "stderr",
     "output_type": "stream",
     "text": [
      "\r",
      "generating and solving puzzles:  28%|██▊       | 279/1000 [00:15<00:39, 18.48it/s]"
     ]
    },
    {
     "name": "stderr",
     "output_type": "stream",
     "text": [
      "\r",
      "generating and solving puzzles:  28%|██▊       | 281/1000 [00:16<00:40, 17.78it/s]"
     ]
    },
    {
     "name": "stderr",
     "output_type": "stream",
     "text": [
      "\r",
      "generating and solving puzzles:  28%|██▊       | 283/1000 [00:16<00:39, 18.27it/s]"
     ]
    },
    {
     "name": "stderr",
     "output_type": "stream",
     "text": [
      "\r",
      "generating and solving puzzles:  29%|██▊       | 286/1000 [00:16<00:38, 18.73it/s]"
     ]
    },
    {
     "name": "stderr",
     "output_type": "stream",
     "text": [
      "\r",
      "generating and solving puzzles:  29%|██▉       | 288/1000 [00:16<00:39, 18.02it/s]"
     ]
    },
    {
     "name": "stderr",
     "output_type": "stream",
     "text": [
      "\r",
      "generating and solving puzzles:  29%|██▉       | 290/1000 [00:16<00:40, 17.49it/s]"
     ]
    },
    {
     "name": "stderr",
     "output_type": "stream",
     "text": [
      "\r",
      "generating and solving puzzles:  29%|██▉       | 292/1000 [00:16<00:41, 17.18it/s]"
     ]
    },
    {
     "name": "stderr",
     "output_type": "stream",
     "text": [
      "\r",
      "generating and solving puzzles:  29%|██▉       | 294/1000 [00:16<00:41, 17.03it/s]"
     ]
    },
    {
     "name": "stderr",
     "output_type": "stream",
     "text": [
      "\r",
      "generating and solving puzzles:  30%|██▉       | 296/1000 [00:16<00:41, 16.88it/s]"
     ]
    },
    {
     "name": "stderr",
     "output_type": "stream",
     "text": [
      "\r",
      "generating and solving puzzles:  30%|██▉       | 298/1000 [00:16<00:41, 16.75it/s]"
     ]
    },
    {
     "name": "stderr",
     "output_type": "stream",
     "text": [
      "\r",
      "generating and solving puzzles:  30%|███       | 300/1000 [00:17<00:42, 16.67it/s]"
     ]
    },
    {
     "name": "stderr",
     "output_type": "stream",
     "text": [
      "\r",
      "generating and solving puzzles:  30%|███       | 302/1000 [00:17<00:41, 16.81it/s]"
     ]
    },
    {
     "name": "stderr",
     "output_type": "stream",
     "text": [
      "\r",
      "generating and solving puzzles:  30%|███       | 305/1000 [00:17<00:39, 17.55it/s]"
     ]
    },
    {
     "name": "stderr",
     "output_type": "stream",
     "text": [
      "\r",
      "generating and solving puzzles:  31%|███       | 307/1000 [00:17<00:40, 17.24it/s]"
     ]
    },
    {
     "name": "stderr",
     "output_type": "stream",
     "text": [
      "\r",
      "generating and solving puzzles:  31%|███       | 309/1000 [00:17<00:40, 16.98it/s]"
     ]
    },
    {
     "name": "stderr",
     "output_type": "stream",
     "text": [
      "\r",
      "generating and solving puzzles:  31%|███       | 311/1000 [00:17<00:41, 16.60it/s]"
     ]
    },
    {
     "name": "stderr",
     "output_type": "stream",
     "text": [
      "\r",
      "generating and solving puzzles:  31%|███▏      | 314/1000 [00:17<00:38, 18.01it/s]"
     ]
    },
    {
     "name": "stderr",
     "output_type": "stream",
     "text": [
      "\r",
      "generating and solving puzzles:  32%|███▏      | 316/1000 [00:18<00:39, 17.44it/s]"
     ]
    },
    {
     "name": "stderr",
     "output_type": "stream",
     "text": [
      "\r",
      "generating and solving puzzles:  32%|███▏      | 318/1000 [00:18<00:40, 17.02it/s]"
     ]
    },
    {
     "name": "stderr",
     "output_type": "stream",
     "text": [
      "\r",
      "generating and solving puzzles:  32%|███▏      | 320/1000 [00:18<00:41, 16.49it/s]"
     ]
    },
    {
     "name": "stderr",
     "output_type": "stream",
     "text": [
      "\r",
      "generating and solving puzzles:  32%|███▏      | 322/1000 [00:18<00:41, 16.35it/s]"
     ]
    },
    {
     "name": "stderr",
     "output_type": "stream",
     "text": [
      "\r",
      "generating and solving puzzles:  32%|███▎      | 325/1000 [00:18<00:37, 17.76it/s]"
     ]
    },
    {
     "name": "stderr",
     "output_type": "stream",
     "text": [
      "\r",
      "generating and solving puzzles:  33%|███▎      | 328/1000 [00:18<00:35, 19.01it/s]"
     ]
    },
    {
     "name": "stderr",
     "output_type": "stream",
     "text": [
      "\r",
      "generating and solving puzzles:  33%|███▎      | 330/1000 [00:18<00:36, 18.18it/s]"
     ]
    },
    {
     "name": "stderr",
     "output_type": "stream",
     "text": [
      "\r",
      "generating and solving puzzles:  33%|███▎      | 333/1000 [00:18<00:35, 19.03it/s]"
     ]
    },
    {
     "name": "stderr",
     "output_type": "stream",
     "text": [
      "\r",
      "generating and solving puzzles:  34%|███▎      | 336/1000 [00:19<00:34, 19.50it/s]"
     ]
    },
    {
     "name": "stderr",
     "output_type": "stream",
     "text": [
      "\r",
      "generating and solving puzzles:  34%|███▍      | 339/1000 [00:19<00:32, 20.61it/s]"
     ]
    },
    {
     "name": "stderr",
     "output_type": "stream",
     "text": [
      "\r",
      "generating and solving puzzles:  34%|███▍      | 342/1000 [00:19<00:32, 20.28it/s]"
     ]
    },
    {
     "name": "stderr",
     "output_type": "stream",
     "text": [
      "\r",
      "generating and solving puzzles:  34%|███▍      | 345/1000 [00:19<00:33, 19.50it/s]"
     ]
    },
    {
     "name": "stderr",
     "output_type": "stream",
     "text": [
      "\r",
      "generating and solving puzzles:  35%|███▍      | 347/1000 [00:19<00:35, 18.29it/s]"
     ]
    },
    {
     "name": "stderr",
     "output_type": "stream",
     "text": [
      "\r",
      "generating and solving puzzles:  35%|███▌      | 350/1000 [00:19<00:33, 19.53it/s]"
     ]
    },
    {
     "name": "stderr",
     "output_type": "stream",
     "text": [
      "\r",
      "generating and solving puzzles:  35%|███▌      | 353/1000 [00:19<00:33, 19.15it/s]"
     ]
    },
    {
     "name": "stderr",
     "output_type": "stream",
     "text": [
      "\r",
      "generating and solving puzzles:  36%|███▌      | 355/1000 [00:20<00:34, 18.60it/s]"
     ]
    },
    {
     "name": "stderr",
     "output_type": "stream",
     "text": [
      "\r",
      "generating and solving puzzles:  36%|███▌      | 357/1000 [00:20<00:34, 18.79it/s]"
     ]
    },
    {
     "name": "stderr",
     "output_type": "stream",
     "text": [
      "\r",
      "generating and solving puzzles:  36%|███▌      | 359/1000 [00:20<00:35, 18.04it/s]"
     ]
    },
    {
     "name": "stderr",
     "output_type": "stream",
     "text": [
      "\r",
      "generating and solving puzzles:  36%|███▌      | 362/1000 [00:20<00:34, 18.71it/s]"
     ]
    },
    {
     "name": "stderr",
     "output_type": "stream",
     "text": [
      "\r",
      "generating and solving puzzles:  36%|███▋      | 365/1000 [00:20<00:33, 18.86it/s]"
     ]
    },
    {
     "name": "stderr",
     "output_type": "stream",
     "text": [
      "\r",
      "generating and solving puzzles:  37%|███▋      | 368/1000 [00:20<00:31, 20.05it/s]"
     ]
    },
    {
     "name": "stderr",
     "output_type": "stream",
     "text": [
      "\r",
      "generating and solving puzzles:  37%|███▋      | 371/1000 [00:20<00:31, 20.17it/s]"
     ]
    },
    {
     "name": "stderr",
     "output_type": "stream",
     "text": [
      "\r",
      "generating and solving puzzles:  37%|███▋      | 374/1000 [00:21<00:33, 18.97it/s]"
     ]
    },
    {
     "name": "stderr",
     "output_type": "stream",
     "text": [
      "\r",
      "generating and solving puzzles:  38%|███▊      | 376/1000 [00:21<00:34, 18.14it/s]"
     ]
    },
    {
     "name": "stderr",
     "output_type": "stream",
     "text": [
      "\r",
      "generating and solving puzzles:  38%|███▊      | 378/1000 [00:21<00:35, 17.66it/s]"
     ]
    },
    {
     "name": "stderr",
     "output_type": "stream",
     "text": [
      "\r",
      "generating and solving puzzles:  38%|███▊      | 380/1000 [00:21<00:35, 17.26it/s]"
     ]
    },
    {
     "name": "stderr",
     "output_type": "stream",
     "text": [
      "\r",
      "generating and solving puzzles:  38%|███▊      | 382/1000 [00:21<00:34, 17.69it/s]"
     ]
    },
    {
     "name": "stderr",
     "output_type": "stream",
     "text": [
      "\r",
      "generating and solving puzzles:  38%|███▊      | 384/1000 [00:21<00:35, 17.30it/s]"
     ]
    },
    {
     "name": "stderr",
     "output_type": "stream",
     "text": [
      "\r",
      "generating and solving puzzles:  39%|███▊      | 386/1000 [00:21<00:36, 17.03it/s]"
     ]
    },
    {
     "name": "stderr",
     "output_type": "stream",
     "text": [
      "\r",
      "generating and solving puzzles:  39%|███▉      | 389/1000 [00:21<00:34, 17.89it/s]"
     ]
    },
    {
     "name": "stderr",
     "output_type": "stream",
     "text": [
      "\r",
      "generating and solving puzzles:  39%|███▉      | 392/1000 [00:22<00:33, 18.18it/s]"
     ]
    },
    {
     "name": "stderr",
     "output_type": "stream",
     "text": [
      "\r",
      "generating and solving puzzles:  39%|███▉      | 394/1000 [00:22<00:34, 17.34it/s]"
     ]
    },
    {
     "name": "stderr",
     "output_type": "stream",
     "text": [
      "\r",
      "generating and solving puzzles:  40%|███▉      | 396/1000 [00:22<00:33, 17.80it/s]"
     ]
    },
    {
     "name": "stderr",
     "output_type": "stream",
     "text": [
      "\r",
      "generating and solving puzzles:  40%|███▉      | 398/1000 [00:22<00:33, 18.16it/s]"
     ]
    },
    {
     "name": "stderr",
     "output_type": "stream",
     "text": [
      "\r",
      "generating and solving puzzles:  40%|████      | 400/1000 [00:22<00:34, 17.37it/s]"
     ]
    },
    {
     "name": "stderr",
     "output_type": "stream",
     "text": [
      "\r",
      "generating and solving puzzles:  40%|████      | 402/1000 [00:22<00:35, 16.68it/s]"
     ]
    },
    {
     "name": "stderr",
     "output_type": "stream",
     "text": [
      "\r",
      "generating and solving puzzles:  40%|████      | 404/1000 [00:22<00:35, 16.62it/s]"
     ]
    },
    {
     "name": "stderr",
     "output_type": "stream",
     "text": [
      "\r",
      "generating and solving puzzles:  41%|████      | 407/1000 [00:22<00:32, 18.14it/s]"
     ]
    },
    {
     "name": "stderr",
     "output_type": "stream",
     "text": [
      "\r",
      "generating and solving puzzles:  41%|████      | 410/1000 [00:23<00:32, 18.12it/s]"
     ]
    },
    {
     "name": "stderr",
     "output_type": "stream",
     "text": [
      "\r",
      "generating and solving puzzles:  41%|████      | 412/1000 [00:23<00:31, 18.38it/s]"
     ]
    },
    {
     "name": "stderr",
     "output_type": "stream",
     "text": [
      "\r",
      "generating and solving puzzles:  41%|████▏     | 414/1000 [00:23<00:33, 17.24it/s]"
     ]
    },
    {
     "name": "stderr",
     "output_type": "stream",
     "text": [
      "\r",
      "generating and solving puzzles:  42%|████▏     | 416/1000 [00:23<00:34, 16.84it/s]"
     ]
    },
    {
     "name": "stderr",
     "output_type": "stream",
     "text": [
      "\r",
      "generating and solving puzzles:  42%|████▏     | 419/1000 [00:23<00:33, 17.48it/s]"
     ]
    },
    {
     "name": "stderr",
     "output_type": "stream",
     "text": [
      "\r",
      "generating and solving puzzles:  42%|████▏     | 421/1000 [00:23<00:32, 17.86it/s]"
     ]
    },
    {
     "name": "stderr",
     "output_type": "stream",
     "text": [
      "\r",
      "generating and solving puzzles:  42%|████▏     | 423/1000 [00:23<00:32, 17.50it/s]"
     ]
    },
    {
     "name": "stderr",
     "output_type": "stream",
     "text": [
      "\r",
      "generating and solving puzzles:  42%|████▎     | 425/1000 [00:23<00:32, 17.78it/s]"
     ]
    },
    {
     "name": "stderr",
     "output_type": "stream",
     "text": [
      "\r",
      "generating and solving puzzles:  43%|████▎     | 427/1000 [00:24<00:33, 17.32it/s]"
     ]
    },
    {
     "name": "stderr",
     "output_type": "stream",
     "text": [
      "\r",
      "generating and solving puzzles:  43%|████▎     | 430/1000 [00:24<00:30, 18.88it/s]"
     ]
    },
    {
     "name": "stderr",
     "output_type": "stream",
     "text": [
      "\r",
      "generating and solving puzzles:  43%|████▎     | 432/1000 [00:24<00:31, 18.28it/s]"
     ]
    },
    {
     "name": "stderr",
     "output_type": "stream",
     "text": [
      "\r",
      "generating and solving puzzles:  43%|████▎     | 434/1000 [00:24<00:32, 17.39it/s]"
     ]
    },
    {
     "name": "stderr",
     "output_type": "stream",
     "text": [
      "\r",
      "generating and solving puzzles:  44%|████▎     | 436/1000 [00:24<00:31, 17.97it/s]"
     ]
    },
    {
     "name": "stderr",
     "output_type": "stream",
     "text": [
      "\r",
      "generating and solving puzzles:  44%|████▍     | 439/1000 [00:24<00:30, 18.44it/s]"
     ]
    },
    {
     "name": "stderr",
     "output_type": "stream",
     "text": [
      "\r",
      "generating and solving puzzles:  44%|████▍     | 442/1000 [00:24<00:30, 18.55it/s]"
     ]
    },
    {
     "name": "stderr",
     "output_type": "stream",
     "text": [
      "\r",
      "generating and solving puzzles:  44%|████▍     | 445/1000 [00:24<00:28, 19.61it/s]"
     ]
    },
    {
     "name": "stderr",
     "output_type": "stream",
     "text": [
      "\r",
      "generating and solving puzzles:  45%|████▍     | 447/1000 [00:25<00:29, 18.59it/s]"
     ]
    },
    {
     "name": "stderr",
     "output_type": "stream",
     "text": [
      "\r",
      "generating and solving puzzles:  45%|████▍     | 449/1000 [00:25<00:29, 18.53it/s]"
     ]
    },
    {
     "name": "stderr",
     "output_type": "stream",
     "text": [
      "\r",
      "generating and solving puzzles:  45%|████▌     | 452/1000 [00:25<00:28, 19.06it/s]"
     ]
    },
    {
     "name": "stderr",
     "output_type": "stream",
     "text": [
      "\r",
      "generating and solving puzzles:  45%|████▌     | 454/1000 [00:25<00:30, 18.20it/s]"
     ]
    },
    {
     "name": "stderr",
     "output_type": "stream",
     "text": [
      "\r",
      "generating and solving puzzles:  46%|████▌     | 456/1000 [00:25<00:30, 17.76it/s]"
     ]
    },
    {
     "name": "stderr",
     "output_type": "stream",
     "text": [
      "\r",
      "generating and solving puzzles:  46%|████▌     | 458/1000 [00:25<00:30, 17.51it/s]"
     ]
    },
    {
     "name": "stderr",
     "output_type": "stream",
     "text": [
      "\r",
      "generating and solving puzzles:  46%|████▌     | 460/1000 [00:25<00:31, 17.15it/s]"
     ]
    },
    {
     "name": "stderr",
     "output_type": "stream",
     "text": [
      "\r",
      "generating and solving puzzles:  46%|████▌     | 462/1000 [00:25<00:31, 17.26it/s]"
     ]
    },
    {
     "name": "stderr",
     "output_type": "stream",
     "text": [
      "\r",
      "generating and solving puzzles:  46%|████▋     | 465/1000 [00:26<00:28, 18.81it/s]"
     ]
    },
    {
     "name": "stderr",
     "output_type": "stream",
     "text": [
      "\r",
      "generating and solving puzzles:  47%|████▋     | 467/1000 [00:26<00:29, 17.87it/s]"
     ]
    },
    {
     "name": "stderr",
     "output_type": "stream",
     "text": [
      "\r",
      "generating and solving puzzles:  47%|████▋     | 469/1000 [00:26<00:30, 17.42it/s]"
     ]
    },
    {
     "name": "stderr",
     "output_type": "stream",
     "text": [
      "\r",
      "generating and solving puzzles:  47%|████▋     | 471/1000 [00:26<00:30, 17.13it/s]"
     ]
    },
    {
     "name": "stderr",
     "output_type": "stream",
     "text": [
      "\r",
      "generating and solving puzzles:  47%|████▋     | 473/1000 [00:26<00:31, 16.98it/s]"
     ]
    },
    {
     "name": "stderr",
     "output_type": "stream",
     "text": [
      "\r",
      "generating and solving puzzles:  48%|████▊     | 476/1000 [00:26<00:29, 17.76it/s]"
     ]
    },
    {
     "name": "stderr",
     "output_type": "stream",
     "text": [
      "\r",
      "generating and solving puzzles:  48%|████▊     | 478/1000 [00:26<00:28, 18.04it/s]"
     ]
    },
    {
     "name": "stderr",
     "output_type": "stream",
     "text": [
      "\r",
      "generating and solving puzzles:  48%|████▊     | 480/1000 [00:26<00:29, 17.57it/s]"
     ]
    },
    {
     "name": "stderr",
     "output_type": "stream",
     "text": [
      "\r",
      "generating and solving puzzles:  48%|████▊     | 482/1000 [00:27<00:29, 17.42it/s]"
     ]
    },
    {
     "name": "stderr",
     "output_type": "stream",
     "text": [
      "\r",
      "generating and solving puzzles:  48%|████▊     | 484/1000 [00:27<00:29, 17.73it/s]"
     ]
    },
    {
     "name": "stderr",
     "output_type": "stream",
     "text": [
      "\r",
      "generating and solving puzzles:  49%|████▊     | 486/1000 [00:27<00:29, 17.52it/s]"
     ]
    },
    {
     "name": "stderr",
     "output_type": "stream",
     "text": [
      "\r",
      "generating and solving puzzles:  49%|████▉     | 488/1000 [00:27<00:28, 18.02it/s]"
     ]
    },
    {
     "name": "stderr",
     "output_type": "stream",
     "text": [
      "\r",
      "generating and solving puzzles:  49%|████▉     | 490/1000 [00:27<00:29, 17.40it/s]"
     ]
    },
    {
     "name": "stderr",
     "output_type": "stream",
     "text": [
      "\r",
      "generating and solving puzzles:  49%|████▉     | 492/1000 [00:27<00:30, 16.86it/s]"
     ]
    },
    {
     "name": "stderr",
     "output_type": "stream",
     "text": [
      "\r",
      "generating and solving puzzles:  50%|████▉     | 495/1000 [00:27<00:28, 17.77it/s]"
     ]
    },
    {
     "name": "stderr",
     "output_type": "stream",
     "text": [
      "\r",
      "generating and solving puzzles:  50%|████▉     | 498/1000 [00:27<00:25, 19.46it/s]"
     ]
    },
    {
     "name": "stderr",
     "output_type": "stream",
     "text": [
      "\r",
      "generating and solving puzzles:  50%|█████     | 501/1000 [00:28<00:25, 19.29it/s]"
     ]
    },
    {
     "name": "stderr",
     "output_type": "stream",
     "text": [
      "\r",
      "generating and solving puzzles:  50%|█████     | 504/1000 [00:28<00:24, 20.52it/s]"
     ]
    },
    {
     "name": "stderr",
     "output_type": "stream",
     "text": [
      "\r",
      "generating and solving puzzles:  51%|█████     | 507/1000 [00:28<00:24, 19.85it/s]"
     ]
    },
    {
     "name": "stderr",
     "output_type": "stream",
     "text": [
      "\r",
      "generating and solving puzzles:  51%|█████     | 510/1000 [00:28<00:26, 18.73it/s]"
     ]
    },
    {
     "name": "stderr",
     "output_type": "stream",
     "text": [
      "\r",
      "generating and solving puzzles:  51%|█████     | 512/1000 [00:28<00:27, 18.03it/s]"
     ]
    },
    {
     "name": "stderr",
     "output_type": "stream",
     "text": [
      "\r",
      "generating and solving puzzles:  51%|█████▏    | 514/1000 [00:28<00:27, 17.50it/s]"
     ]
    },
    {
     "name": "stderr",
     "output_type": "stream",
     "text": [
      "\r",
      "generating and solving puzzles:  52%|█████▏    | 516/1000 [00:28<00:28, 16.87it/s]"
     ]
    },
    {
     "name": "stderr",
     "output_type": "stream",
     "text": [
      "\r",
      "generating and solving puzzles:  52%|█████▏    | 518/1000 [00:29<00:28, 16.62it/s]"
     ]
    },
    {
     "name": "stderr",
     "output_type": "stream",
     "text": [
      "\r",
      "generating and solving puzzles:  52%|█████▏    | 520/1000 [00:29<00:29, 16.37it/s]"
     ]
    },
    {
     "name": "stderr",
     "output_type": "stream",
     "text": [
      "\r",
      "generating and solving puzzles:  52%|█████▏    | 522/1000 [00:29<00:29, 16.39it/s]"
     ]
    },
    {
     "name": "stderr",
     "output_type": "stream",
     "text": [
      "\r",
      "generating and solving puzzles:  52%|█████▏    | 524/1000 [00:29<00:28, 16.45it/s]"
     ]
    },
    {
     "name": "stderr",
     "output_type": "stream",
     "text": [
      "\r",
      "generating and solving puzzles:  53%|█████▎    | 526/1000 [00:29<00:27, 17.36it/s]"
     ]
    },
    {
     "name": "stderr",
     "output_type": "stream",
     "text": [
      "\r",
      "generating and solving puzzles:  53%|█████▎    | 528/1000 [00:29<00:27, 17.02it/s]"
     ]
    },
    {
     "name": "stderr",
     "output_type": "stream",
     "text": [
      "\r",
      "generating and solving puzzles:  53%|█████▎    | 530/1000 [00:29<00:28, 16.77it/s]"
     ]
    },
    {
     "name": "stderr",
     "output_type": "stream",
     "text": [
      "\r",
      "generating and solving puzzles:  53%|█████▎    | 533/1000 [00:29<00:26, 17.41it/s]"
     ]
    },
    {
     "name": "stderr",
     "output_type": "stream",
     "text": [
      "\r",
      "generating and solving puzzles:  54%|█████▎    | 536/1000 [00:30<00:25, 18.06it/s]"
     ]
    },
    {
     "name": "stderr",
     "output_type": "stream",
     "text": [
      "\r",
      "generating and solving puzzles:  54%|█████▍    | 538/1000 [00:30<00:25, 18.15it/s]"
     ]
    },
    {
     "name": "stderr",
     "output_type": "stream",
     "text": [
      "\r",
      "generating and solving puzzles:  54%|█████▍    | 540/1000 [00:30<00:26, 17.49it/s]"
     ]
    },
    {
     "name": "stderr",
     "output_type": "stream",
     "text": [
      "\r",
      "generating and solving puzzles:  54%|█████▍    | 542/1000 [00:30<00:26, 17.12it/s]"
     ]
    },
    {
     "name": "stderr",
     "output_type": "stream",
     "text": [
      "\r",
      "generating and solving puzzles:  55%|█████▍    | 545/1000 [00:30<00:25, 17.63it/s]"
     ]
    },
    {
     "name": "stderr",
     "output_type": "stream",
     "text": [
      "\r",
      "generating and solving puzzles:  55%|█████▍    | 547/1000 [00:30<00:25, 18.10it/s]"
     ]
    },
    {
     "name": "stderr",
     "output_type": "stream",
     "text": [
      "\r",
      "generating and solving puzzles:  55%|█████▌    | 550/1000 [00:30<00:21, 20.51it/s]"
     ]
    },
    {
     "name": "stderr",
     "output_type": "stream",
     "text": [
      "\r",
      "generating and solving puzzles:  55%|█████▌    | 553/1000 [00:30<00:23, 19.09it/s]"
     ]
    },
    {
     "name": "stderr",
     "output_type": "stream",
     "text": [
      "\r",
      "generating and solving puzzles:  56%|█████▌    | 556/1000 [00:31<00:23, 18.65it/s]"
     ]
    },
    {
     "name": "stderr",
     "output_type": "stream",
     "text": [
      "\r",
      "generating and solving puzzles:  56%|█████▌    | 558/1000 [00:31<00:23, 18.76it/s]"
     ]
    },
    {
     "name": "stderr",
     "output_type": "stream",
     "text": [
      "\r",
      "generating and solving puzzles:  56%|█████▌    | 560/1000 [00:31<00:24, 18.05it/s]"
     ]
    },
    {
     "name": "stderr",
     "output_type": "stream",
     "text": [
      "\r",
      "generating and solving puzzles:  56%|█████▌    | 562/1000 [00:31<00:23, 18.33it/s]"
     ]
    },
    {
     "name": "stderr",
     "output_type": "stream",
     "text": [
      "\r",
      "generating and solving puzzles:  56%|█████▋    | 564/1000 [00:31<00:23, 18.74it/s]"
     ]
    },
    {
     "name": "stderr",
     "output_type": "stream",
     "text": [
      "\r",
      "generating and solving puzzles:  57%|█████▋    | 567/1000 [00:31<00:22, 18.90it/s]"
     ]
    },
    {
     "name": "stderr",
     "output_type": "stream",
     "text": [
      "\r",
      "generating and solving puzzles:  57%|█████▋    | 569/1000 [00:31<00:22, 19.12it/s]"
     ]
    },
    {
     "name": "stderr",
     "output_type": "stream",
     "text": [
      "\r",
      "generating and solving puzzles:  57%|█████▋    | 571/1000 [00:31<00:23, 18.23it/s]"
     ]
    },
    {
     "name": "stderr",
     "output_type": "stream",
     "text": [
      "\r",
      "generating and solving puzzles:  57%|█████▋    | 574/1000 [00:32<00:22, 18.61it/s]"
     ]
    },
    {
     "name": "stderr",
     "output_type": "stream",
     "text": [
      "\r",
      "generating and solving puzzles:  58%|█████▊    | 576/1000 [00:32<00:23, 17.88it/s]"
     ]
    },
    {
     "name": "stderr",
     "output_type": "stream",
     "text": [
      "\r",
      "generating and solving puzzles:  58%|█████▊    | 578/1000 [00:32<00:23, 17.82it/s]"
     ]
    },
    {
     "name": "stderr",
     "output_type": "stream",
     "text": [
      "\r",
      "generating and solving puzzles:  58%|█████▊    | 580/1000 [00:32<00:24, 17.30it/s]"
     ]
    },
    {
     "name": "stderr",
     "output_type": "stream",
     "text": [
      "\r",
      "generating and solving puzzles:  58%|█████▊    | 582/1000 [00:32<00:24, 16.88it/s]"
     ]
    },
    {
     "name": "stderr",
     "output_type": "stream",
     "text": [
      "\r",
      "generating and solving puzzles:  58%|█████▊    | 584/1000 [00:32<00:23, 17.57it/s]"
     ]
    },
    {
     "name": "stderr",
     "output_type": "stream",
     "text": [
      "\r",
      "generating and solving puzzles:  59%|█████▊    | 587/1000 [00:32<00:22, 18.15it/s]"
     ]
    },
    {
     "name": "stderr",
     "output_type": "stream",
     "text": [
      "\r",
      "generating and solving puzzles:  59%|█████▉    | 590/1000 [00:32<00:22, 18.57it/s]"
     ]
    },
    {
     "name": "stderr",
     "output_type": "stream",
     "text": [
      "\r",
      "generating and solving puzzles:  59%|█████▉    | 592/1000 [00:33<00:22, 17.83it/s]"
     ]
    },
    {
     "name": "stderr",
     "output_type": "stream",
     "text": [
      "\r",
      "generating and solving puzzles:  59%|█████▉    | 594/1000 [00:33<00:23, 17.42it/s]"
     ]
    },
    {
     "name": "stderr",
     "output_type": "stream",
     "text": [
      "\r",
      "generating and solving puzzles:  60%|█████▉    | 596/1000 [00:33<00:23, 17.08it/s]"
     ]
    },
    {
     "name": "stderr",
     "output_type": "stream",
     "text": [
      "\r",
      "generating and solving puzzles:  60%|█████▉    | 598/1000 [00:33<00:23, 16.91it/s]"
     ]
    },
    {
     "name": "stderr",
     "output_type": "stream",
     "text": [
      "\r",
      "generating and solving puzzles:  60%|██████    | 600/1000 [00:33<00:23, 16.81it/s]"
     ]
    },
    {
     "name": "stderr",
     "output_type": "stream",
     "text": [
      "\r",
      "generating and solving puzzles:  60%|██████    | 602/1000 [00:33<00:23, 16.71it/s]"
     ]
    },
    {
     "name": "stderr",
     "output_type": "stream",
     "text": [
      "\r",
      "generating and solving puzzles:  60%|██████    | 604/1000 [00:33<00:23, 16.60it/s]"
     ]
    },
    {
     "name": "stderr",
     "output_type": "stream",
     "text": [
      "\r",
      "generating and solving puzzles:  61%|██████    | 607/1000 [00:33<00:22, 17.61it/s]"
     ]
    },
    {
     "name": "stderr",
     "output_type": "stream",
     "text": [
      "\r",
      "generating and solving puzzles:  61%|██████    | 609/1000 [00:34<00:21, 18.23it/s]"
     ]
    },
    {
     "name": "stderr",
     "output_type": "stream",
     "text": [
      "\r",
      "generating and solving puzzles:  61%|██████    | 611/1000 [00:34<00:22, 17.51it/s]"
     ]
    },
    {
     "name": "stderr",
     "output_type": "stream",
     "text": [
      "\r",
      "generating and solving puzzles:  61%|██████▏   | 614/1000 [00:34<00:21, 18.05it/s]"
     ]
    },
    {
     "name": "stderr",
     "output_type": "stream",
     "text": [
      "\r",
      "generating and solving puzzles:  62%|██████▏   | 616/1000 [00:34<00:22, 17.20it/s]"
     ]
    },
    {
     "name": "stderr",
     "output_type": "stream",
     "text": [
      "\r",
      "generating and solving puzzles:  62%|██████▏   | 618/1000 [00:34<00:22, 16.94it/s]"
     ]
    },
    {
     "name": "stderr",
     "output_type": "stream",
     "text": [
      "\r",
      "generating and solving puzzles:  62%|██████▏   | 620/1000 [00:34<00:22, 17.05it/s]"
     ]
    },
    {
     "name": "stderr",
     "output_type": "stream",
     "text": [
      "\r",
      "generating and solving puzzles:  62%|██████▏   | 622/1000 [00:34<00:22, 17.06it/s]"
     ]
    },
    {
     "name": "stderr",
     "output_type": "stream",
     "text": [
      "\r",
      "generating and solving puzzles:  62%|██████▏   | 624/1000 [00:34<00:22, 16.64it/s]"
     ]
    },
    {
     "name": "stderr",
     "output_type": "stream",
     "text": [
      "\r",
      "generating and solving puzzles:  63%|██████▎   | 626/1000 [00:35<00:22, 16.54it/s]"
     ]
    },
    {
     "name": "stderr",
     "output_type": "stream",
     "text": [
      "\r",
      "generating and solving puzzles:  63%|██████▎   | 628/1000 [00:35<00:22, 16.21it/s]"
     ]
    },
    {
     "name": "stderr",
     "output_type": "stream",
     "text": [
      "\r",
      "generating and solving puzzles:  63%|██████▎   | 631/1000 [00:35<00:20, 17.59it/s]"
     ]
    },
    {
     "name": "stderr",
     "output_type": "stream",
     "text": [
      "\r",
      "generating and solving puzzles:  63%|██████▎   | 633/1000 [00:35<00:20, 18.08it/s]"
     ]
    },
    {
     "name": "stderr",
     "output_type": "stream",
     "text": [
      "\r",
      "generating and solving puzzles:  64%|██████▎   | 635/1000 [00:35<00:20, 17.56it/s]"
     ]
    },
    {
     "name": "stderr",
     "output_type": "stream",
     "text": [
      "\r",
      "generating and solving puzzles:  64%|██████▎   | 637/1000 [00:35<00:21, 17.15it/s]"
     ]
    },
    {
     "name": "stderr",
     "output_type": "stream",
     "text": [
      "\r",
      "generating and solving puzzles:  64%|██████▍   | 640/1000 [00:35<00:19, 18.31it/s]"
     ]
    },
    {
     "name": "stderr",
     "output_type": "stream",
     "text": [
      "\r",
      "generating and solving puzzles:  64%|██████▍   | 643/1000 [00:35<00:18, 19.42it/s]"
     ]
    },
    {
     "name": "stderr",
     "output_type": "stream",
     "text": [
      "\r",
      "generating and solving puzzles:  64%|██████▍   | 645/1000 [00:36<00:19, 18.39it/s]"
     ]
    },
    {
     "name": "stderr",
     "output_type": "stream",
     "text": [
      "\r",
      "generating and solving puzzles:  65%|██████▍   | 649/1000 [00:36<00:17, 20.06it/s]"
     ]
    },
    {
     "name": "stderr",
     "output_type": "stream",
     "text": [
      "\r",
      "generating and solving puzzles:  65%|██████▌   | 652/1000 [00:36<00:17, 19.54it/s]"
     ]
    },
    {
     "name": "stderr",
     "output_type": "stream",
     "text": [
      "\r",
      "generating and solving puzzles:  66%|██████▌   | 655/1000 [00:36<00:17, 19.34it/s]"
     ]
    },
    {
     "name": "stderr",
     "output_type": "stream",
     "text": [
      "\r",
      "generating and solving puzzles:  66%|██████▌   | 657/1000 [00:36<00:18, 18.27it/s]"
     ]
    },
    {
     "name": "stderr",
     "output_type": "stream",
     "text": [
      "\r",
      "generating and solving puzzles:  66%|██████▌   | 660/1000 [00:36<00:18, 18.83it/s]"
     ]
    },
    {
     "name": "stderr",
     "output_type": "stream",
     "text": [
      "\r",
      "generating and solving puzzles:  66%|██████▌   | 662/1000 [00:36<00:17, 18.93it/s]"
     ]
    },
    {
     "name": "stderr",
     "output_type": "stream",
     "text": [
      "\r",
      "generating and solving puzzles:  66%|██████▋   | 664/1000 [00:37<00:17, 18.74it/s]"
     ]
    },
    {
     "name": "stderr",
     "output_type": "stream",
     "text": [
      "\r",
      "generating and solving puzzles:  67%|██████▋   | 666/1000 [00:37<00:18, 17.85it/s]"
     ]
    },
    {
     "name": "stderr",
     "output_type": "stream",
     "text": [
      "\r",
      "generating and solving puzzles:  67%|██████▋   | 668/1000 [00:37<00:19, 17.29it/s]"
     ]
    },
    {
     "name": "stderr",
     "output_type": "stream",
     "text": [
      "\r",
      "generating and solving puzzles:  67%|██████▋   | 670/1000 [00:37<00:19, 17.04it/s]"
     ]
    },
    {
     "name": "stderr",
     "output_type": "stream",
     "text": [
      "\r",
      "generating and solving puzzles:  67%|██████▋   | 672/1000 [00:37<00:18, 17.39it/s]"
     ]
    },
    {
     "name": "stderr",
     "output_type": "stream",
     "text": [
      "\r",
      "generating and solving puzzles:  67%|██████▋   | 674/1000 [00:37<00:19, 16.83it/s]"
     ]
    },
    {
     "name": "stderr",
     "output_type": "stream",
     "text": [
      "\r",
      "generating and solving puzzles:  68%|██████▊   | 676/1000 [00:37<00:18, 17.19it/s]"
     ]
    },
    {
     "name": "stderr",
     "output_type": "stream",
     "text": [
      "\r",
      "generating and solving puzzles:  68%|██████▊   | 679/1000 [00:37<00:18, 17.65it/s]"
     ]
    },
    {
     "name": "stderr",
     "output_type": "stream",
     "text": [
      "\r",
      "generating and solving puzzles:  68%|██████▊   | 681/1000 [00:38<00:18, 17.08it/s]"
     ]
    },
    {
     "name": "stderr",
     "output_type": "stream",
     "text": [
      "\r",
      "generating and solving puzzles:  68%|██████▊   | 683/1000 [00:38<00:18, 16.71it/s]"
     ]
    },
    {
     "name": "stderr",
     "output_type": "stream",
     "text": [
      "\r",
      "generating and solving puzzles:  68%|██████▊   | 685/1000 [00:38<00:19, 16.56it/s]"
     ]
    },
    {
     "name": "stderr",
     "output_type": "stream",
     "text": [
      "\r",
      "generating and solving puzzles:  69%|██████▊   | 687/1000 [00:38<00:18, 16.62it/s]"
     ]
    },
    {
     "name": "stderr",
     "output_type": "stream",
     "text": [
      "\r",
      "generating and solving puzzles:  69%|██████▉   | 689/1000 [00:38<00:18, 16.51it/s]"
     ]
    },
    {
     "name": "stderr",
     "output_type": "stream",
     "text": [
      "\r",
      "generating and solving puzzles:  69%|██████▉   | 692/1000 [00:38<00:17, 17.86it/s]"
     ]
    },
    {
     "name": "stderr",
     "output_type": "stream",
     "text": [
      "\r",
      "generating and solving puzzles:  69%|██████▉   | 694/1000 [00:38<00:17, 17.04it/s]"
     ]
    },
    {
     "name": "stderr",
     "output_type": "stream",
     "text": [
      "\r",
      "generating and solving puzzles:  70%|██████▉   | 696/1000 [00:38<00:17, 17.76it/s]"
     ]
    },
    {
     "name": "stderr",
     "output_type": "stream",
     "text": [
      "\r",
      "generating and solving puzzles:  70%|██████▉   | 698/1000 [00:39<00:16, 17.90it/s]"
     ]
    },
    {
     "name": "stderr",
     "output_type": "stream",
     "text": [
      "\r",
      "generating and solving puzzles:  70%|███████   | 700/1000 [00:39<00:16, 17.90it/s]"
     ]
    },
    {
     "name": "stderr",
     "output_type": "stream",
     "text": [
      "\r",
      "generating and solving puzzles:  70%|███████   | 702/1000 [00:39<00:17, 17.43it/s]"
     ]
    },
    {
     "name": "stderr",
     "output_type": "stream",
     "text": [
      "\r",
      "generating and solving puzzles:  70%|███████   | 704/1000 [00:39<00:17, 17.12it/s]"
     ]
    },
    {
     "name": "stderr",
     "output_type": "stream",
     "text": [
      "\r",
      "generating and solving puzzles:  71%|███████   | 706/1000 [00:39<00:17, 16.90it/s]"
     ]
    },
    {
     "name": "stderr",
     "output_type": "stream",
     "text": [
      "\r",
      "generating and solving puzzles:  71%|███████   | 709/1000 [00:39<00:15, 18.58it/s]"
     ]
    },
    {
     "name": "stderr",
     "output_type": "stream",
     "text": [
      "\r",
      "generating and solving puzzles:  71%|███████   | 711/1000 [00:39<00:15, 18.08it/s]"
     ]
    },
    {
     "name": "stderr",
     "output_type": "stream",
     "text": [
      "\r",
      "generating and solving puzzles:  71%|███████▏  | 714/1000 [00:39<00:15, 18.61it/s]"
     ]
    },
    {
     "name": "stderr",
     "output_type": "stream",
     "text": [
      "\r",
      "generating and solving puzzles:  72%|███████▏  | 716/1000 [00:40<00:16, 17.52it/s]"
     ]
    },
    {
     "name": "stderr",
     "output_type": "stream",
     "text": [
      "\r",
      "generating and solving puzzles:  72%|███████▏  | 719/1000 [00:40<00:15, 18.04it/s]"
     ]
    },
    {
     "name": "stderr",
     "output_type": "stream",
     "text": [
      "\r",
      "generating and solving puzzles:  72%|███████▏  | 722/1000 [00:40<00:14, 18.63it/s]"
     ]
    },
    {
     "name": "stderr",
     "output_type": "stream",
     "text": [
      "\r",
      "generating and solving puzzles:  72%|███████▏  | 724/1000 [00:40<00:15, 17.62it/s]"
     ]
    },
    {
     "name": "stderr",
     "output_type": "stream",
     "text": [
      "\r",
      "generating and solving puzzles:  73%|███████▎  | 727/1000 [00:40<00:15, 17.95it/s]"
     ]
    },
    {
     "name": "stderr",
     "output_type": "stream",
     "text": [
      "\r",
      "generating and solving puzzles:  73%|███████▎  | 730/1000 [00:40<00:14, 18.87it/s]"
     ]
    },
    {
     "name": "stderr",
     "output_type": "stream",
     "text": [
      "\r",
      "generating and solving puzzles:  73%|███████▎  | 732/1000 [00:40<00:15, 17.82it/s]"
     ]
    },
    {
     "name": "stderr",
     "output_type": "stream",
     "text": [
      "\r",
      "generating and solving puzzles:  73%|███████▎  | 734/1000 [00:40<00:15, 17.35it/s]"
     ]
    },
    {
     "name": "stderr",
     "output_type": "stream",
     "text": [
      "\r",
      "generating and solving puzzles:  74%|███████▎  | 737/1000 [00:41<00:14, 18.76it/s]"
     ]
    },
    {
     "name": "stderr",
     "output_type": "stream",
     "text": [
      "\r",
      "generating and solving puzzles:  74%|███████▍  | 739/1000 [00:41<00:13, 18.76it/s]"
     ]
    },
    {
     "name": "stderr",
     "output_type": "stream",
     "text": [
      "\r",
      "generating and solving puzzles:  74%|███████▍  | 741/1000 [00:41<00:14, 18.05it/s]"
     ]
    },
    {
     "name": "stderr",
     "output_type": "stream",
     "text": [
      "\r",
      "generating and solving puzzles:  74%|███████▍  | 743/1000 [00:41<00:15, 17.13it/s]"
     ]
    },
    {
     "name": "stderr",
     "output_type": "stream",
     "text": [
      "\r",
      "generating and solving puzzles:  75%|███████▍  | 746/1000 [00:41<00:14, 17.73it/s]"
     ]
    },
    {
     "name": "stderr",
     "output_type": "stream",
     "text": [
      "\r",
      "generating and solving puzzles:  75%|███████▍  | 748/1000 [00:41<00:14, 17.31it/s]"
     ]
    },
    {
     "name": "stderr",
     "output_type": "stream",
     "text": [
      "\r",
      "generating and solving puzzles:  75%|███████▌  | 750/1000 [00:41<00:14, 16.80it/s]"
     ]
    },
    {
     "name": "stderr",
     "output_type": "stream",
     "text": [
      "\r",
      "generating and solving puzzles:  75%|███████▌  | 752/1000 [00:42<00:15, 16.50it/s]"
     ]
    },
    {
     "name": "stderr",
     "output_type": "stream",
     "text": [
      "\r",
      "generating and solving puzzles:  76%|███████▌  | 755/1000 [00:42<00:14, 17.34it/s]"
     ]
    },
    {
     "name": "stderr",
     "output_type": "stream",
     "text": [
      "\r",
      "generating and solving puzzles:  76%|███████▌  | 757/1000 [00:42<00:14, 17.01it/s]"
     ]
    },
    {
     "name": "stderr",
     "output_type": "stream",
     "text": [
      "\r",
      "generating and solving puzzles:  76%|███████▌  | 759/1000 [00:42<00:14, 16.46it/s]"
     ]
    },
    {
     "name": "stderr",
     "output_type": "stream",
     "text": [
      "\r",
      "generating and solving puzzles:  76%|███████▌  | 761/1000 [00:42<00:14, 16.30it/s]"
     ]
    },
    {
     "name": "stderr",
     "output_type": "stream",
     "text": [
      "\r",
      "generating and solving puzzles:  76%|███████▋  | 763/1000 [00:42<00:14, 16.59it/s]"
     ]
    },
    {
     "name": "stderr",
     "output_type": "stream",
     "text": [
      "\r",
      "generating and solving puzzles:  76%|███████▋  | 765/1000 [00:42<00:14, 16.56it/s]"
     ]
    },
    {
     "name": "stderr",
     "output_type": "stream",
     "text": [
      "\r",
      "generating and solving puzzles:  77%|███████▋  | 767/1000 [00:42<00:13, 17.19it/s]"
     ]
    },
    {
     "name": "stderr",
     "output_type": "stream",
     "text": [
      "\r",
      "generating and solving puzzles:  77%|███████▋  | 769/1000 [00:43<00:13, 17.09it/s]"
     ]
    },
    {
     "name": "stderr",
     "output_type": "stream",
     "text": [
      "\r",
      "generating and solving puzzles:  77%|███████▋  | 771/1000 [00:43<00:13, 16.79it/s]"
     ]
    },
    {
     "name": "stderr",
     "output_type": "stream",
     "text": [
      "\r",
      "generating and solving puzzles:  77%|███████▋  | 774/1000 [00:43<00:12, 17.72it/s]"
     ]
    },
    {
     "name": "stderr",
     "output_type": "stream",
     "text": [
      "\r",
      "generating and solving puzzles:  78%|███████▊  | 776/1000 [00:43<00:13, 16.98it/s]"
     ]
    },
    {
     "name": "stderr",
     "output_type": "stream",
     "text": [
      "\r",
      "generating and solving puzzles:  78%|███████▊  | 779/1000 [00:43<00:12, 17.69it/s]"
     ]
    },
    {
     "name": "stderr",
     "output_type": "stream",
     "text": [
      "\r",
      "generating and solving puzzles:  78%|███████▊  | 781/1000 [00:43<00:13, 16.82it/s]"
     ]
    },
    {
     "name": "stderr",
     "output_type": "stream",
     "text": [
      "\r",
      "generating and solving puzzles:  78%|███████▊  | 784/1000 [00:43<00:11, 18.34it/s]"
     ]
    },
    {
     "name": "stderr",
     "output_type": "stream",
     "text": [
      "\r",
      "generating and solving puzzles:  79%|███████▊  | 786/1000 [00:43<00:12, 17.72it/s]"
     ]
    },
    {
     "name": "stderr",
     "output_type": "stream",
     "text": [
      "\r",
      "generating and solving puzzles:  79%|███████▉  | 788/1000 [00:44<00:12, 16.86it/s]"
     ]
    },
    {
     "name": "stderr",
     "output_type": "stream",
     "text": [
      "\r",
      "generating and solving puzzles:  79%|███████▉  | 790/1000 [00:44<00:12, 16.66it/s]"
     ]
    },
    {
     "name": "stderr",
     "output_type": "stream",
     "text": [
      "\r",
      "generating and solving puzzles:  79%|███████▉  | 793/1000 [00:44<00:11, 17.26it/s]"
     ]
    },
    {
     "name": "stderr",
     "output_type": "stream",
     "text": [
      "\r",
      "generating and solving puzzles:  80%|███████▉  | 796/1000 [00:44<00:11, 17.79it/s]"
     ]
    },
    {
     "name": "stderr",
     "output_type": "stream",
     "text": [
      "\r",
      "generating and solving puzzles:  80%|███████▉  | 798/1000 [00:44<00:11, 17.32it/s]"
     ]
    },
    {
     "name": "stderr",
     "output_type": "stream",
     "text": [
      "\r",
      "generating and solving puzzles:  80%|████████  | 800/1000 [00:44<00:11, 16.99it/s]"
     ]
    },
    {
     "name": "stderr",
     "output_type": "stream",
     "text": [
      "\r",
      "generating and solving puzzles:  80%|████████  | 803/1000 [00:44<00:10, 19.05it/s]"
     ]
    },
    {
     "name": "stderr",
     "output_type": "stream",
     "text": [
      "\r",
      "generating and solving puzzles:  80%|████████  | 805/1000 [00:44<00:10, 17.82it/s]"
     ]
    },
    {
     "name": "stderr",
     "output_type": "stream",
     "text": [
      "\r",
      "generating and solving puzzles:  81%|████████  | 808/1000 [00:45<00:09, 20.20it/s]"
     ]
    },
    {
     "name": "stderr",
     "output_type": "stream",
     "text": [
      "\r",
      "generating and solving puzzles:  81%|████████  | 811/1000 [00:45<00:09, 19.97it/s]"
     ]
    },
    {
     "name": "stderr",
     "output_type": "stream",
     "text": [
      "\r",
      "generating and solving puzzles:  81%|████████▏ | 814/1000 [00:45<00:08, 20.76it/s]"
     ]
    },
    {
     "name": "stderr",
     "output_type": "stream",
     "text": [
      "\r",
      "generating and solving puzzles:  82%|████████▏ | 817/1000 [00:45<00:09, 19.15it/s]"
     ]
    },
    {
     "name": "stderr",
     "output_type": "stream",
     "text": [
      "\r",
      "generating and solving puzzles:  82%|████████▏ | 820/1000 [00:45<00:09, 19.53it/s]"
     ]
    },
    {
     "name": "stderr",
     "output_type": "stream",
     "text": [
      "\r",
      "generating and solving puzzles:  82%|████████▏ | 823/1000 [00:45<00:09, 18.65it/s]"
     ]
    },
    {
     "name": "stderr",
     "output_type": "stream",
     "text": [
      "\r",
      "generating and solving puzzles:  82%|████████▎ | 825/1000 [00:46<00:09, 17.90it/s]"
     ]
    },
    {
     "name": "stderr",
     "output_type": "stream",
     "text": [
      "\r",
      "generating and solving puzzles:  83%|████████▎ | 827/1000 [00:46<00:09, 17.39it/s]"
     ]
    },
    {
     "name": "stderr",
     "output_type": "stream",
     "text": [
      "\r",
      "generating and solving puzzles:  83%|████████▎ | 830/1000 [00:46<00:09, 18.59it/s]"
     ]
    },
    {
     "name": "stderr",
     "output_type": "stream",
     "text": [
      "\r",
      "generating and solving puzzles:  83%|████████▎ | 833/1000 [00:46<00:08, 19.07it/s]"
     ]
    },
    {
     "name": "stderr",
     "output_type": "stream",
     "text": [
      "\r",
      "generating and solving puzzles:  84%|████████▎ | 836/1000 [00:46<00:08, 19.08it/s]"
     ]
    },
    {
     "name": "stderr",
     "output_type": "stream",
     "text": [
      "\r",
      "generating and solving puzzles:  84%|████████▍ | 838/1000 [00:46<00:08, 18.05it/s]"
     ]
    },
    {
     "name": "stderr",
     "output_type": "stream",
     "text": [
      "\r",
      "generating and solving puzzles:  84%|████████▍ | 840/1000 [00:46<00:09, 17.45it/s]"
     ]
    },
    {
     "name": "stderr",
     "output_type": "stream",
     "text": [
      "\r",
      "generating and solving puzzles:  84%|████████▍ | 843/1000 [00:46<00:08, 18.08it/s]"
     ]
    },
    {
     "name": "stderr",
     "output_type": "stream",
     "text": [
      "\r",
      "generating and solving puzzles:  85%|████████▍ | 846/1000 [00:47<00:08, 18.28it/s]"
     ]
    },
    {
     "name": "stderr",
     "output_type": "stream",
     "text": [
      "\r",
      "generating and solving puzzles:  85%|████████▍ | 848/1000 [00:47<00:08, 16.98it/s]"
     ]
    },
    {
     "name": "stderr",
     "output_type": "stream",
     "text": [
      "\r",
      "generating and solving puzzles:  85%|████████▌ | 850/1000 [00:47<00:09, 16.63it/s]"
     ]
    },
    {
     "name": "stderr",
     "output_type": "stream",
     "text": [
      "\r",
      "generating and solving puzzles:  85%|████████▌ | 852/1000 [00:47<00:08, 16.54it/s]"
     ]
    },
    {
     "name": "stderr",
     "output_type": "stream",
     "text": [
      "\r",
      "generating and solving puzzles:  85%|████████▌ | 854/1000 [00:47<00:09, 16.11it/s]"
     ]
    },
    {
     "name": "stderr",
     "output_type": "stream",
     "text": [
      "\r",
      "generating and solving puzzles:  86%|████████▌ | 857/1000 [00:47<00:08, 17.82it/s]"
     ]
    },
    {
     "name": "stderr",
     "output_type": "stream",
     "text": [
      "\r",
      "generating and solving puzzles:  86%|████████▌ | 859/1000 [00:47<00:08, 17.31it/s]"
     ]
    },
    {
     "name": "stderr",
     "output_type": "stream",
     "text": [
      "\r",
      "generating and solving puzzles:  86%|████████▌ | 861/1000 [00:48<00:07, 18.01it/s]"
     ]
    },
    {
     "name": "stderr",
     "output_type": "stream",
     "text": [
      "\r",
      "generating and solving puzzles:  86%|████████▋ | 863/1000 [00:48<00:07, 17.25it/s]"
     ]
    },
    {
     "name": "stderr",
     "output_type": "stream",
     "text": [
      "\r",
      "generating and solving puzzles:  86%|████████▋ | 865/1000 [00:48<00:07, 17.01it/s]"
     ]
    },
    {
     "name": "stderr",
     "output_type": "stream",
     "text": [
      "\r",
      "generating and solving puzzles:  87%|████████▋ | 867/1000 [00:48<00:07, 16.65it/s]"
     ]
    },
    {
     "name": "stderr",
     "output_type": "stream",
     "text": [
      "\r",
      "generating and solving puzzles:  87%|████████▋ | 869/1000 [00:48<00:07, 17.05it/s]"
     ]
    },
    {
     "name": "stderr",
     "output_type": "stream",
     "text": [
      "\r",
      "generating and solving puzzles:  87%|████████▋ | 871/1000 [00:48<00:07, 16.84it/s]"
     ]
    },
    {
     "name": "stderr",
     "output_type": "stream",
     "text": [
      "\r",
      "generating and solving puzzles:  87%|████████▋ | 873/1000 [00:48<00:07, 16.69it/s]"
     ]
    },
    {
     "name": "stderr",
     "output_type": "stream",
     "text": [
      "\r",
      "generating and solving puzzles:  88%|████████▊ | 875/1000 [00:48<00:07, 16.16it/s]"
     ]
    },
    {
     "name": "stderr",
     "output_type": "stream",
     "text": [
      "\r",
      "generating and solving puzzles:  88%|████████▊ | 877/1000 [00:48<00:07, 16.93it/s]"
     ]
    },
    {
     "name": "stderr",
     "output_type": "stream",
     "text": [
      "\r",
      "generating and solving puzzles:  88%|████████▊ | 879/1000 [00:49<00:07, 16.72it/s]"
     ]
    },
    {
     "name": "stderr",
     "output_type": "stream",
     "text": [
      "\r",
      "generating and solving puzzles:  88%|████████▊ | 881/1000 [00:49<00:07, 16.61it/s]"
     ]
    },
    {
     "name": "stderr",
     "output_type": "stream",
     "text": [
      "\r",
      "generating and solving puzzles:  88%|████████▊ | 884/1000 [00:49<00:06, 17.88it/s]"
     ]
    },
    {
     "name": "stderr",
     "output_type": "stream",
     "text": [
      "\r",
      "generating and solving puzzles:  89%|████████▊ | 887/1000 [00:49<00:06, 18.25it/s]"
     ]
    },
    {
     "name": "stderr",
     "output_type": "stream",
     "text": [
      "\r",
      "generating and solving puzzles:  89%|████████▉ | 889/1000 [00:49<00:05, 18.73it/s]"
     ]
    },
    {
     "name": "stderr",
     "output_type": "stream",
     "text": [
      "\r",
      "generating and solving puzzles:  89%|████████▉ | 891/1000 [00:49<00:05, 18.55it/s]"
     ]
    },
    {
     "name": "stderr",
     "output_type": "stream",
     "text": [
      "\r",
      "generating and solving puzzles:  89%|████████▉ | 893/1000 [00:49<00:05, 17.86it/s]"
     ]
    },
    {
     "name": "stderr",
     "output_type": "stream",
     "text": [
      "\r",
      "generating and solving puzzles:  90%|████████▉ | 896/1000 [00:49<00:05, 18.41it/s]"
     ]
    },
    {
     "name": "stderr",
     "output_type": "stream",
     "text": [
      "\r",
      "generating and solving puzzles:  90%|████████▉ | 898/1000 [00:50<00:05, 17.79it/s]"
     ]
    },
    {
     "name": "stderr",
     "output_type": "stream",
     "text": [
      "\r",
      "generating and solving puzzles:  90%|█████████ | 900/1000 [00:50<00:05, 17.27it/s]"
     ]
    },
    {
     "name": "stderr",
     "output_type": "stream",
     "text": [
      "\r",
      "generating and solving puzzles:  90%|█████████ | 902/1000 [00:50<00:05, 16.94it/s]"
     ]
    },
    {
     "name": "stderr",
     "output_type": "stream",
     "text": [
      "\r",
      "generating and solving puzzles:  90%|█████████ | 904/1000 [00:50<00:05, 16.62it/s]"
     ]
    },
    {
     "name": "stderr",
     "output_type": "stream",
     "text": [
      "\r",
      "generating and solving puzzles:  91%|█████████ | 907/1000 [00:50<00:05, 17.39it/s]"
     ]
    },
    {
     "name": "stderr",
     "output_type": "stream",
     "text": [
      "\r",
      "generating and solving puzzles:  91%|█████████ | 909/1000 [00:50<00:05, 17.10it/s]"
     ]
    },
    {
     "name": "stderr",
     "output_type": "stream",
     "text": [
      "\r",
      "generating and solving puzzles:  91%|█████████ | 911/1000 [00:50<00:05, 16.89it/s]"
     ]
    },
    {
     "name": "stderr",
     "output_type": "stream",
     "text": [
      "\r",
      "generating and solving puzzles:  91%|█████████▏| 913/1000 [00:51<00:05, 16.91it/s]"
     ]
    },
    {
     "name": "stderr",
     "output_type": "stream",
     "text": [
      "\r",
      "generating and solving puzzles:  92%|█████████▏| 915/1000 [00:51<00:04, 17.13it/s]"
     ]
    },
    {
     "name": "stderr",
     "output_type": "stream",
     "text": [
      "\r",
      "generating and solving puzzles:  92%|█████████▏| 917/1000 [00:51<00:04, 16.70it/s]"
     ]
    },
    {
     "name": "stderr",
     "output_type": "stream",
     "text": [
      "\r",
      "generating and solving puzzles:  92%|█████████▏| 920/1000 [00:51<00:04, 17.55it/s]"
     ]
    },
    {
     "name": "stderr",
     "output_type": "stream",
     "text": [
      "\r",
      "generating and solving puzzles:  92%|█████████▏| 922/1000 [00:51<00:04, 17.72it/s]"
     ]
    },
    {
     "name": "stderr",
     "output_type": "stream",
     "text": [
      "\r",
      "generating and solving puzzles:  92%|█████████▏| 924/1000 [00:51<00:04, 17.75it/s]"
     ]
    },
    {
     "name": "stderr",
     "output_type": "stream",
     "text": [
      "\r",
      "generating and solving puzzles:  93%|█████████▎| 926/1000 [00:51<00:04, 17.37it/s]"
     ]
    },
    {
     "name": "stderr",
     "output_type": "stream",
     "text": [
      "\r",
      "generating and solving puzzles:  93%|█████████▎| 928/1000 [00:51<00:04, 17.07it/s]"
     ]
    },
    {
     "name": "stderr",
     "output_type": "stream",
     "text": [
      "\r",
      "generating and solving puzzles:  93%|█████████▎| 931/1000 [00:52<00:03, 17.66it/s]"
     ]
    },
    {
     "name": "stderr",
     "output_type": "stream",
     "text": [
      "\r",
      "generating and solving puzzles:  93%|█████████▎| 933/1000 [00:52<00:03, 18.23it/s]"
     ]
    },
    {
     "name": "stderr",
     "output_type": "stream",
     "text": [
      "\r",
      "generating and solving puzzles:  94%|█████████▎| 935/1000 [00:52<00:03, 17.65it/s]"
     ]
    },
    {
     "name": "stderr",
     "output_type": "stream",
     "text": [
      "\r",
      "generating and solving puzzles:  94%|█████████▎| 937/1000 [00:52<00:03, 18.21it/s]"
     ]
    },
    {
     "name": "stderr",
     "output_type": "stream",
     "text": [
      "\r",
      "generating and solving puzzles:  94%|█████████▍| 940/1000 [00:52<00:03, 19.13it/s]"
     ]
    },
    {
     "name": "stderr",
     "output_type": "stream",
     "text": [
      "\r",
      "generating and solving puzzles:  94%|█████████▍| 942/1000 [00:52<00:03, 18.17it/s]"
     ]
    },
    {
     "name": "stderr",
     "output_type": "stream",
     "text": [
      "\r",
      "generating and solving puzzles:  94%|█████████▍| 944/1000 [00:52<00:03, 18.02it/s]"
     ]
    },
    {
     "name": "stderr",
     "output_type": "stream",
     "text": [
      "\r",
      "generating and solving puzzles:  95%|█████████▍| 946/1000 [00:52<00:03, 17.49it/s]"
     ]
    },
    {
     "name": "stderr",
     "output_type": "stream",
     "text": [
      "\r",
      "generating and solving puzzles:  95%|█████████▍| 948/1000 [00:52<00:03, 17.18it/s]"
     ]
    },
    {
     "name": "stderr",
     "output_type": "stream",
     "text": [
      "\r",
      "generating and solving puzzles:  95%|█████████▌| 951/1000 [00:53<00:02, 18.21it/s]"
     ]
    },
    {
     "name": "stderr",
     "output_type": "stream",
     "text": [
      "\r",
      "generating and solving puzzles:  95%|█████████▌| 953/1000 [00:53<00:02, 18.24it/s]"
     ]
    },
    {
     "name": "stderr",
     "output_type": "stream",
     "text": [
      "\r",
      "generating and solving puzzles:  96%|█████████▌| 956/1000 [00:53<00:02, 19.46it/s]"
     ]
    },
    {
     "name": "stderr",
     "output_type": "stream",
     "text": [
      "\r",
      "generating and solving puzzles:  96%|█████████▌| 958/1000 [00:53<00:02, 18.41it/s]"
     ]
    },
    {
     "name": "stderr",
     "output_type": "stream",
     "text": [
      "\r",
      "generating and solving puzzles:  96%|█████████▌| 960/1000 [00:53<00:02, 17.75it/s]"
     ]
    },
    {
     "name": "stderr",
     "output_type": "stream",
     "text": [
      "\r",
      "generating and solving puzzles:  96%|█████████▌| 962/1000 [00:53<00:02, 17.36it/s]"
     ]
    },
    {
     "name": "stderr",
     "output_type": "stream",
     "text": [
      "\r",
      "generating and solving puzzles:  96%|█████████▋| 964/1000 [00:53<00:02, 17.09it/s]"
     ]
    },
    {
     "name": "stderr",
     "output_type": "stream",
     "text": [
      "\r",
      "generating and solving puzzles:  97%|█████████▋| 967/1000 [00:53<00:01, 17.70it/s]"
     ]
    },
    {
     "name": "stderr",
     "output_type": "stream",
     "text": [
      "\r",
      "generating and solving puzzles:  97%|█████████▋| 969/1000 [00:54<00:01, 17.25it/s]"
     ]
    },
    {
     "name": "stderr",
     "output_type": "stream",
     "text": [
      "\r",
      "generating and solving puzzles:  97%|█████████▋| 971/1000 [00:54<00:01, 17.02it/s]"
     ]
    },
    {
     "name": "stderr",
     "output_type": "stream",
     "text": [
      "\r",
      "generating and solving puzzles:  97%|█████████▋| 974/1000 [00:54<00:01, 17.61it/s]"
     ]
    },
    {
     "name": "stderr",
     "output_type": "stream",
     "text": [
      "\r",
      "generating and solving puzzles:  98%|█████████▊| 976/1000 [00:54<00:01, 17.14it/s]"
     ]
    },
    {
     "name": "stderr",
     "output_type": "stream",
     "text": [
      "\r",
      "generating and solving puzzles:  98%|█████████▊| 979/1000 [00:54<00:01, 18.37it/s]"
     ]
    },
    {
     "name": "stderr",
     "output_type": "stream",
     "text": [
      "\r",
      "generating and solving puzzles:  98%|█████████▊| 982/1000 [00:54<00:00, 18.65it/s]"
     ]
    },
    {
     "name": "stderr",
     "output_type": "stream",
     "text": [
      "\r",
      "generating and solving puzzles:  98%|█████████▊| 985/1000 [00:54<00:00, 18.87it/s]"
     ]
    },
    {
     "name": "stderr",
     "output_type": "stream",
     "text": [
      "\r",
      "generating and solving puzzles:  99%|█████████▊| 987/1000 [00:55<00:00, 18.04it/s]"
     ]
    },
    {
     "name": "stderr",
     "output_type": "stream",
     "text": [
      "\r",
      "generating and solving puzzles:  99%|█████████▉| 989/1000 [00:55<00:00, 18.54it/s]"
     ]
    },
    {
     "name": "stderr",
     "output_type": "stream",
     "text": [
      "\r",
      "generating and solving puzzles:  99%|█████████▉| 991/1000 [00:55<00:00, 17.61it/s]"
     ]
    },
    {
     "name": "stderr",
     "output_type": "stream",
     "text": [
      "\r",
      "generating and solving puzzles:  99%|█████████▉| 993/1000 [00:55<00:00, 17.25it/s]"
     ]
    },
    {
     "name": "stderr",
     "output_type": "stream",
     "text": [
      "\r",
      "generating and solving puzzles: 100%|█████████▉| 995/1000 [00:55<00:00, 16.93it/s]"
     ]
    },
    {
     "name": "stderr",
     "output_type": "stream",
     "text": [
      "\r",
      "generating and solving puzzles: 100%|█████████▉| 997/1000 [00:55<00:00, 16.67it/s]"
     ]
    },
    {
     "name": "stderr",
     "output_type": "stream",
     "text": [
      "\r",
      "generating and solving puzzles: 100%|█████████▉| 999/1000 [00:55<00:00, 17.25it/s]"
     ]
    },
    {
     "name": "stderr",
     "output_type": "stream",
     "text": [
      "\r",
      "generating and solving puzzles: 100%|██████████| 1000/1000 [00:55<00:00, 17.91it/s]"
     ]
    },
    {
     "name": "stderr",
     "output_type": "stream",
     "text": [
      "\n"
     ]
    },
    {
     "data": {
      "text/html": [
       "<div>\n",
       "<style scoped>\n",
       "    .dataframe tbody tr th:only-of-type {\n",
       "        vertical-align: middle;\n",
       "    }\n",
       "\n",
       "    .dataframe tbody tr th {\n",
       "        vertical-align: top;\n",
       "    }\n",
       "\n",
       "    .dataframe thead th {\n",
       "        text-align: right;\n",
       "    }\n",
       "</style>\n",
       "<table border=\"1\" class=\"dataframe\">\n",
       "  <thead>\n",
       "    <tr style=\"text-align: right;\">\n",
       "      <th></th>\n",
       "      <th>puzzles</th>\n",
       "      <th>solved</th>\n",
       "      <th>(%)</th>\n",
       "      <th>hidden cells</th>\n",
       "      <th>guessed</th>\n",
       "      <th>in %</th>\n",
       "    </tr>\n",
       "    <tr>\n",
       "      <th>level</th>\n",
       "      <th></th>\n",
       "      <th></th>\n",
       "      <th></th>\n",
       "      <th></th>\n",
       "      <th></th>\n",
       "      <th></th>\n",
       "    </tr>\n",
       "  </thead>\n",
       "  <tbody>\n",
       "    <tr>\n",
       "      <th>1</th>\n",
       "      <td>1000</td>\n",
       "      <td>899</td>\n",
       "      <td>89</td>\n",
       "      <td>1000</td>\n",
       "      <td>899</td>\n",
       "      <td>89</td>\n",
       "    </tr>\n",
       "    <tr>\n",
       "      <th>2</th>\n",
       "      <td>1000</td>\n",
       "      <td>848</td>\n",
       "      <td>84</td>\n",
       "      <td>2000</td>\n",
       "      <td>1819</td>\n",
       "      <td>90</td>\n",
       "    </tr>\n",
       "    <tr>\n",
       "      <th>3</th>\n",
       "      <td>1000</td>\n",
       "      <td>819</td>\n",
       "      <td>81</td>\n",
       "      <td>3000</td>\n",
       "      <td>2745</td>\n",
       "      <td>91</td>\n",
       "    </tr>\n",
       "    <tr>\n",
       "      <th>4</th>\n",
       "      <td>1000</td>\n",
       "      <td>789</td>\n",
       "      <td>78</td>\n",
       "      <td>4000</td>\n",
       "      <td>3644</td>\n",
       "      <td>91</td>\n",
       "    </tr>\n",
       "    <tr>\n",
       "      <th>5</th>\n",
       "      <td>1000</td>\n",
       "      <td>782</td>\n",
       "      <td>78</td>\n",
       "      <td>5000</td>\n",
       "      <td>4547</td>\n",
       "      <td>90</td>\n",
       "    </tr>\n",
       "    <tr>\n",
       "      <th>6</th>\n",
       "      <td>1000</td>\n",
       "      <td>742</td>\n",
       "      <td>74</td>\n",
       "      <td>6000</td>\n",
       "      <td>5437</td>\n",
       "      <td>90</td>\n",
       "    </tr>\n",
       "    <tr>\n",
       "      <th>7</th>\n",
       "      <td>1000</td>\n",
       "      <td>742</td>\n",
       "      <td>74</td>\n",
       "      <td>7000</td>\n",
       "      <td>6348</td>\n",
       "      <td>90</td>\n",
       "    </tr>\n",
       "    <tr>\n",
       "      <th>8</th>\n",
       "      <td>1000</td>\n",
       "      <td>729</td>\n",
       "      <td>72</td>\n",
       "      <td>8000</td>\n",
       "      <td>7238</td>\n",
       "      <td>90</td>\n",
       "    </tr>\n",
       "    <tr>\n",
       "      <th>9</th>\n",
       "      <td>1000</td>\n",
       "      <td>740</td>\n",
       "      <td>74</td>\n",
       "      <td>9000</td>\n",
       "      <td>8174</td>\n",
       "      <td>90</td>\n",
       "    </tr>\n",
       "    <tr>\n",
       "      <th>10</th>\n",
       "      <td>1000</td>\n",
       "      <td>728</td>\n",
       "      <td>72</td>\n",
       "      <td>10000</td>\n",
       "      <td>9104</td>\n",
       "      <td>91</td>\n",
       "    </tr>\n",
       "    <tr>\n",
       "      <th>11</th>\n",
       "      <td>1000</td>\n",
       "      <td>725</td>\n",
       "      <td>72</td>\n",
       "      <td>11000</td>\n",
       "      <td>9937</td>\n",
       "      <td>90</td>\n",
       "    </tr>\n",
       "    <tr>\n",
       "      <th>12</th>\n",
       "      <td>1000</td>\n",
       "      <td>709</td>\n",
       "      <td>70</td>\n",
       "      <td>12000</td>\n",
       "      <td>10856</td>\n",
       "      <td>90</td>\n",
       "    </tr>\n",
       "    <tr>\n",
       "      <th>13</th>\n",
       "      <td>1000</td>\n",
       "      <td>716</td>\n",
       "      <td>71</td>\n",
       "      <td>13000</td>\n",
       "      <td>11740</td>\n",
       "      <td>90</td>\n",
       "    </tr>\n",
       "    <tr>\n",
       "      <th>14</th>\n",
       "      <td>1000</td>\n",
       "      <td>719</td>\n",
       "      <td>71</td>\n",
       "      <td>14000</td>\n",
       "      <td>12637</td>\n",
       "      <td>90</td>\n",
       "    </tr>\n",
       "    <tr>\n",
       "      <th>15</th>\n",
       "      <td>1000</td>\n",
       "      <td>710</td>\n",
       "      <td>71</td>\n",
       "      <td>15000</td>\n",
       "      <td>13438</td>\n",
       "      <td>89</td>\n",
       "    </tr>\n",
       "    <tr>\n",
       "      <th>16</th>\n",
       "      <td>1000</td>\n",
       "      <td>715</td>\n",
       "      <td>71</td>\n",
       "      <td>16000</td>\n",
       "      <td>14482</td>\n",
       "      <td>90</td>\n",
       "    </tr>\n",
       "    <tr>\n",
       "      <th>17</th>\n",
       "      <td>1000</td>\n",
       "      <td>706</td>\n",
       "      <td>70</td>\n",
       "      <td>17000</td>\n",
       "      <td>15305</td>\n",
       "      <td>90</td>\n",
       "    </tr>\n",
       "    <tr>\n",
       "      <th>18</th>\n",
       "      <td>1000</td>\n",
       "      <td>694</td>\n",
       "      <td>69</td>\n",
       "      <td>18000</td>\n",
       "      <td>16214</td>\n",
       "      <td>90</td>\n",
       "    </tr>\n",
       "    <tr>\n",
       "      <th>19</th>\n",
       "      <td>1000</td>\n",
       "      <td>694</td>\n",
       "      <td>69</td>\n",
       "      <td>19000</td>\n",
       "      <td>16931</td>\n",
       "      <td>89</td>\n",
       "    </tr>\n",
       "    <tr>\n",
       "      <th>20</th>\n",
       "      <td>1000</td>\n",
       "      <td>709</td>\n",
       "      <td>70</td>\n",
       "      <td>20000</td>\n",
       "      <td>17971</td>\n",
       "      <td>89</td>\n",
       "    </tr>\n",
       "    <tr>\n",
       "      <th>21</th>\n",
       "      <td>1000</td>\n",
       "      <td>697</td>\n",
       "      <td>69</td>\n",
       "      <td>21000</td>\n",
       "      <td>18864</td>\n",
       "      <td>89</td>\n",
       "    </tr>\n",
       "    <tr>\n",
       "      <th>22</th>\n",
       "      <td>1000</td>\n",
       "      <td>713</td>\n",
       "      <td>71</td>\n",
       "      <td>22000</td>\n",
       "      <td>19746</td>\n",
       "      <td>89</td>\n",
       "    </tr>\n",
       "    <tr>\n",
       "      <th>23</th>\n",
       "      <td>1000</td>\n",
       "      <td>708</td>\n",
       "      <td>70</td>\n",
       "      <td>23000</td>\n",
       "      <td>20722</td>\n",
       "      <td>90</td>\n",
       "    </tr>\n",
       "    <tr>\n",
       "      <th>24</th>\n",
       "      <td>1000</td>\n",
       "      <td>707</td>\n",
       "      <td>70</td>\n",
       "      <td>24000</td>\n",
       "      <td>21490</td>\n",
       "      <td>89</td>\n",
       "    </tr>\n",
       "  </tbody>\n",
       "</table>\n",
       "</div>"
      ],
      "text/plain": [
       "       puzzles  solved  (%)  hidden cells  guessed  in %\n",
       "level                                                   \n",
       "1         1000     899   89          1000      899    89\n",
       "2         1000     848   84          2000     1819    90\n",
       "3         1000     819   81          3000     2745    91\n",
       "4         1000     789   78          4000     3644    91\n",
       "5         1000     782   78          5000     4547    90\n",
       "6         1000     742   74          6000     5437    90\n",
       "7         1000     742   74          7000     6348    90\n",
       "8         1000     729   72          8000     7238    90\n",
       "9         1000     740   74          9000     8174    90\n",
       "10        1000     728   72         10000     9104    91\n",
       "11        1000     725   72         11000     9937    90\n",
       "12        1000     709   70         12000    10856    90\n",
       "13        1000     716   71         13000    11740    90\n",
       "14        1000     719   71         14000    12637    90\n",
       "15        1000     710   71         15000    13438    89\n",
       "16        1000     715   71         16000    14482    90\n",
       "17        1000     706   70         17000    15305    90\n",
       "18        1000     694   69         18000    16214    90\n",
       "19        1000     694   69         19000    16931    89\n",
       "20        1000     709   70         20000    17971    89\n",
       "21        1000     697   69         21000    18864    89\n",
       "22        1000     713   71         22000    19746    89\n",
       "23        1000     708   70         23000    20722    90\n",
       "24        1000     707   70         24000    21490    89"
      ]
     },
     "execution_count": 17,
     "metadata": {},
     "output_type": "execute_result"
    }
   ],
   "source": [
    "from neural_semigroups.utils import print_report\n",
    "from neural_semigroups import CayleyDatabase\n",
    "\n",
    "cardinality = 7\n",
    "cayley_db = CayleyDatabase(cardinality)\n",
    "cayley_db.load_model(f\"semigroups.{cardinality}.model\")\n",
    "print_report(cayley_db.testing_report)"
   ]
  },
  {
   "cell_type": "code",
   "execution_count": null,
   "metadata": {
    "collapsed": false
   },
   "outputs": [],
   "source": []
  }
 ],
 "metadata": {
  "kernelspec": {
   "argv": [
    "python",
    "-m",
    "ipykernel_launcher",
    "-f",
    "{connection_file}"
   ],
   "display_name": "Python 3",
   "env": null,
   "interrupt_mode": "signal",
   "language": "python",
   "metadata": null,
   "name": "python3"
  },
  "language_info": {
   "codemirror_mode": {
    "name": "ipython",
    "version": 3
   },
   "file_extension": ".py",
   "mimetype": "text/x-python",
   "name": "python",
   "nbconvert_exporter": "python",
   "pygments_lexer": "ipython3",
   "version": "3.6.9"
  },
  "name": "train_a_model.ipynb"
 },
 "nbformat": 4,
 "nbformat_minor": 4
}

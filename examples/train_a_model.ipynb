{
 "cells": [
  {
   "cell_type": "raw",
   "metadata": {
    "collapsed": false
   },
   "source": [
    "\"\"\"\n",
    "   Copyright 2019-2020 Boris Shminke\n",
    "\n",
    "   Licensed under the Apache License, Version 2.0 (the \"License\");\n",
    "   you may not use this file except in compliance with the License.\n",
    "   You may obtain a copy of the License at\n",
    "\n",
    "       http://www.apache.org/licenses/LICENSE-2.0\n",
    "\n",
    "   Unless required by applicable law or agreed to in writing, software\n",
    "   distributed under the License is distributed on an \"AS IS\" BASIS,\n",
    "   WITHOUT WARRANTIES OR CONDITIONS OF ANY KIND, either express or implied.\n",
    "   See the License for the specific language governing permissions and\n",
    "   limitations under the License.\n",
    "\"\"\""
   ]
  },
  {
   "cell_type": "markdown",
   "metadata": {
    "collapsed": false
   },
   "source": [
    "If you have a Cayley database, you can build a machine learning model for such a task:\n",
    "\n",
    "Given a partially filled Cayley table of a semigroup, restore the full one.\n",
    "\n",
    "It should be mentioned that a partially filled table sometimes can be filled in several ways to a full associative table. We will consider all such solutions as equally valid."
   ]
  },
  {
   "cell_type": "markdown",
   "metadata": {
    "collapsed": false
   },
   "source": [
    "In `neural-semigroups` package we use `torch` for building deep learning models.\n",
    "\n",
    "First of all, we need to get some training and validation data.\n",
    "In this example, we take semigroups of 7 items, and hold 100 Cayley tables (each representing a different class of equivalent semigrous) as our training data, and another 100 tables as validation.\n",
    "This is a really small fraction of all tables of 7 elements available (there are 836021 of them up to equivalence).\n",
    "\n",
    "Here we construct `DataLoaders` for `torch` which will feed a training pipeline with 48 tables at a time.\n",
    "This number (batch size) can be changed for fine-tuning the model's quality."
   ]
  },
  {
   "cell_type": "code",
   "execution_count": 1,
   "metadata": {
    "collapsed": false,
    "scrolled": true
   },
   "outputs": [
    {
     "name": "stderr",
     "output_type": "stream",
     "text": [
      "\r",
      "generating train cubes:   0%|          | 0/100 [00:00<?, ?it/s]"
     ]
    },
    {
     "name": "stderr",
     "output_type": "stream",
     "text": [
      "\r",
      "generating train cubes: 100%|██████████| 100/100 [00:00<00:00, 26108.33it/s]"
     ]
    },
    {
     "name": "stderr",
     "output_type": "stream",
     "text": [
      "\n",
      "\r",
      "generating validation cubes:   0%|          | 0/100 [00:00<?, ?it/s]"
     ]
    },
    {
     "name": "stderr",
     "output_type": "stream",
     "text": [
      "\r",
      "generating validation cubes: 100%|██████████| 100/100 [00:00<00:00, 27556.03it/s]"
     ]
    },
    {
     "name": "stderr",
     "output_type": "stream",
     "text": [
      "\n",
      "\r",
      "generating test cubes:   0%|          | 0/835821 [00:00<?, ?it/s]"
     ]
    },
    {
     "name": "stderr",
     "output_type": "stream",
     "text": [
      "\r",
      "generating test cubes:   0%|          | 2918/835821 [00:00<00:28, 29178.78it/s]"
     ]
    },
    {
     "name": "stderr",
     "output_type": "stream",
     "text": [
      "\r",
      "generating test cubes:   1%|          | 5903/835821 [00:00<00:28, 29375.45it/s]"
     ]
    },
    {
     "name": "stderr",
     "output_type": "stream",
     "text": [
      "\r",
      "generating test cubes:   1%|          | 8938/835821 [00:00<00:27, 29658.99it/s]"
     ]
    },
    {
     "name": "stderr",
     "output_type": "stream",
     "text": [
      "\r",
      "generating test cubes:   1%|▏         | 11996/835821 [00:00<00:27, 29928.54it/s]"
     ]
    },
    {
     "name": "stderr",
     "output_type": "stream",
     "text": [
      "\r",
      "generating test cubes:   2%|▏         | 15199/835821 [00:00<00:26, 30529.41it/s]"
     ]
    },
    {
     "name": "stderr",
     "output_type": "stream",
     "text": [
      "\r",
      "generating test cubes:   2%|▏         | 18452/835821 [00:00<00:26, 31101.72it/s]"
     ]
    },
    {
     "name": "stderr",
     "output_type": "stream",
     "text": [
      "\r",
      "generating test cubes:   3%|▎         | 21751/835821 [00:00<00:25, 31644.62it/s]"
     ]
    },
    {
     "name": "stderr",
     "output_type": "stream",
     "text": [
      "\r",
      "generating test cubes:   3%|▎         | 25033/835821 [00:00<00:25, 31985.52it/s]"
     ]
    },
    {
     "name": "stderr",
     "output_type": "stream",
     "text": [
      "\r",
      "generating test cubes:   3%|▎         | 28313/835821 [00:00<00:25, 32224.69it/s]"
     ]
    },
    {
     "name": "stderr",
     "output_type": "stream",
     "text": [
      "\r",
      "generating test cubes:   4%|▍         | 31591/835821 [00:01<00:24, 32387.50it/s]"
     ]
    },
    {
     "name": "stderr",
     "output_type": "stream",
     "text": [
      "\r",
      "generating test cubes:   4%|▍         | 34887/835821 [00:01<00:24, 32555.16it/s]"
     ]
    },
    {
     "name": "stderr",
     "output_type": "stream",
     "text": [
      "\r",
      "generating test cubes:   5%|▍         | 38154/835821 [00:01<00:24, 32586.67it/s]"
     ]
    },
    {
     "name": "stderr",
     "output_type": "stream",
     "text": [
      "\r",
      "generating test cubes:   5%|▍         | 41447/835821 [00:01<00:24, 32686.68it/s]"
     ]
    },
    {
     "name": "stderr",
     "output_type": "stream",
     "text": [
      "\r",
      "generating test cubes:   5%|▌         | 44712/835821 [00:01<00:24, 32674.29it/s]"
     ]
    },
    {
     "name": "stderr",
     "output_type": "stream",
     "text": [
      "\r",
      "generating test cubes:   6%|▌         | 48001/835821 [00:01<00:24, 32735.90it/s]"
     ]
    },
    {
     "name": "stderr",
     "output_type": "stream",
     "text": [
      "\r",
      "generating test cubes:   6%|▌         | 51295/835821 [00:01<00:23, 32796.43it/s]"
     ]
    },
    {
     "name": "stderr",
     "output_type": "stream",
     "text": [
      "\r",
      "generating test cubes:   7%|▋         | 54592/835821 [00:01<00:23, 32845.70it/s]"
     ]
    },
    {
     "name": "stderr",
     "output_type": "stream",
     "text": [
      "\r",
      "generating test cubes:   7%|▋         | 57881/835821 [00:01<00:23, 32856.45it/s]"
     ]
    },
    {
     "name": "stderr",
     "output_type": "stream",
     "text": [
      "\r",
      "generating test cubes:   7%|▋         | 61192/835821 [00:01<00:23, 32929.44it/s]"
     ]
    },
    {
     "name": "stderr",
     "output_type": "stream",
     "text": [
      "\r",
      "generating test cubes:   8%|▊         | 64482/835821 [00:02<00:23, 32766.70it/s]"
     ]
    },
    {
     "name": "stderr",
     "output_type": "stream",
     "text": [
      "\r",
      "generating test cubes:   8%|▊         | 67761/835821 [00:02<00:23, 32772.57it/s]"
     ]
    },
    {
     "name": "stderr",
     "output_type": "stream",
     "text": [
      "\r",
      "generating test cubes:   8%|▊         | 71039/835821 [00:02<00:23, 32772.14it/s]"
     ]
    },
    {
     "name": "stderr",
     "output_type": "stream",
     "text": [
      "\r",
      "generating test cubes:   9%|▉         | 74341/835821 [00:02<00:23, 32843.33it/s]"
     ]
    },
    {
     "name": "stderr",
     "output_type": "stream",
     "text": [
      "\r",
      "generating test cubes:   9%|▉         | 77625/835821 [00:02<00:23, 32824.08it/s]"
     ]
    },
    {
     "name": "stderr",
     "output_type": "stream",
     "text": [
      "\r",
      "generating test cubes:  10%|▉         | 80907/835821 [00:02<00:23, 32751.90it/s]"
     ]
    },
    {
     "name": "stderr",
     "output_type": "stream",
     "text": [
      "\r",
      "generating test cubes:  10%|█         | 84191/835821 [00:02<00:22, 32778.03it/s]"
     ]
    },
    {
     "name": "stderr",
     "output_type": "stream",
     "text": [
      "\r",
      "generating test cubes:  10%|█         | 87479/835821 [00:02<00:22, 32806.50it/s]"
     ]
    },
    {
     "name": "stderr",
     "output_type": "stream",
     "text": [
      "\r",
      "generating test cubes:  11%|█         | 90769/835821 [00:02<00:22, 32832.02it/s]"
     ]
    },
    {
     "name": "stderr",
     "output_type": "stream",
     "text": [
      "\r",
      "generating test cubes:  11%|█▏        | 94066/835821 [00:02<00:22, 32871.83it/s]"
     ]
    },
    {
     "name": "stderr",
     "output_type": "stream",
     "text": [
      "\r",
      "generating test cubes:  12%|█▏        | 97354/835821 [00:03<00:22, 32747.78it/s]"
     ]
    },
    {
     "name": "stderr",
     "output_type": "stream",
     "text": [
      "\r",
      "generating test cubes:  12%|█▏        | 100643/835821 [00:03<00:22, 32787.64it/s]"
     ]
    },
    {
     "name": "stderr",
     "output_type": "stream",
     "text": [
      "\r",
      "generating test cubes:  12%|█▏        | 103935/835821 [00:03<00:22, 32825.93it/s]"
     ]
    },
    {
     "name": "stderr",
     "output_type": "stream",
     "text": [
      "\r",
      "generating test cubes:  13%|█▎        | 107218/835821 [00:03<00:22, 32777.46it/s]"
     ]
    },
    {
     "name": "stderr",
     "output_type": "stream",
     "text": [
      "\r",
      "generating test cubes:  13%|█▎        | 110496/835821 [00:03<00:22, 32681.11it/s]"
     ]
    },
    {
     "name": "stderr",
     "output_type": "stream",
     "text": [
      "\r",
      "generating test cubes:  14%|█▎        | 113791/835821 [00:03<00:22, 32759.70it/s]"
     ]
    },
    {
     "name": "stderr",
     "output_type": "stream",
     "text": [
      "\r",
      "generating test cubes:  14%|█▍        | 117083/835821 [00:03<00:21, 32805.08it/s]"
     ]
    },
    {
     "name": "stderr",
     "output_type": "stream",
     "text": [
      "\r",
      "generating test cubes:  14%|█▍        | 120374/835821 [00:03<00:21, 32834.67it/s]"
     ]
    },
    {
     "name": "stderr",
     "output_type": "stream",
     "text": [
      "\r",
      "generating test cubes:  15%|█▍        | 123658/835821 [00:03<00:21, 32828.79it/s]"
     ]
    },
    {
     "name": "stderr",
     "output_type": "stream",
     "text": [
      "\r",
      "generating test cubes:  15%|█▌        | 126941/835821 [00:03<00:21, 32804.08it/s]"
     ]
    },
    {
     "name": "stderr",
     "output_type": "stream",
     "text": [
      "\r",
      "generating test cubes:  16%|█▌        | 130222/835821 [00:04<00:21, 32731.71it/s]"
     ]
    },
    {
     "name": "stderr",
     "output_type": "stream",
     "text": [
      "\r",
      "generating test cubes:  16%|█▌        | 133527/835821 [00:04<00:21, 32825.07it/s]"
     ]
    },
    {
     "name": "stderr",
     "output_type": "stream",
     "text": [
      "\r",
      "generating test cubes:  16%|█▋        | 136810/835821 [00:04<00:21, 32788.15it/s]"
     ]
    },
    {
     "name": "stderr",
     "output_type": "stream",
     "text": [
      "\r",
      "generating test cubes:  17%|█▋        | 140089/835821 [00:04<00:21, 32777.79it/s]"
     ]
    },
    {
     "name": "stderr",
     "output_type": "stream",
     "text": [
      "\r",
      "generating test cubes:  17%|█▋        | 143367/835821 [00:04<00:21, 32765.73it/s]"
     ]
    },
    {
     "name": "stderr",
     "output_type": "stream",
     "text": [
      "\r",
      "generating test cubes:  18%|█▊        | 146662/835821 [00:04<00:20, 32820.11it/s]"
     ]
    },
    {
     "name": "stderr",
     "output_type": "stream",
     "text": [
      "\r",
      "generating test cubes:  18%|█▊        | 149963/835821 [00:04<00:20, 32875.38it/s]"
     ]
    },
    {
     "name": "stderr",
     "output_type": "stream",
     "text": [
      "\r",
      "generating test cubes:  18%|█▊        | 153271/835821 [00:04<00:20, 32934.73it/s]"
     ]
    },
    {
     "name": "stderr",
     "output_type": "stream",
     "text": [
      "\r",
      "generating test cubes:  19%|█▊        | 156565/835821 [00:04<00:20, 32921.37it/s]"
     ]
    },
    {
     "name": "stderr",
     "output_type": "stream",
     "text": [
      "\r",
      "generating test cubes:  19%|█▉        | 159858/835821 [00:04<00:20, 32771.21it/s]"
     ]
    },
    {
     "name": "stderr",
     "output_type": "stream",
     "text": [
      "\r",
      "generating test cubes:  20%|█▉        | 163136/835821 [00:05<00:20, 32747.82it/s]"
     ]
    },
    {
     "name": "stderr",
     "output_type": "stream",
     "text": [
      "\r",
      "generating test cubes:  20%|█▉        | 166411/835821 [00:05<00:20, 32690.80it/s]"
     ]
    },
    {
     "name": "stderr",
     "output_type": "stream",
     "text": [
      "\r",
      "generating test cubes:  20%|██        | 169695/835821 [00:05<00:20, 32733.63it/s]"
     ]
    },
    {
     "name": "stderr",
     "output_type": "stream",
     "text": [
      "\r",
      "generating test cubes:  21%|██        | 172969/835821 [00:05<00:20, 32637.70it/s]"
     ]
    },
    {
     "name": "stderr",
     "output_type": "stream",
     "text": [
      "\r",
      "generating test cubes:  21%|██        | 176233/835821 [00:05<00:20, 32617.55it/s]"
     ]
    },
    {
     "name": "stderr",
     "output_type": "stream",
     "text": [
      "\r",
      "generating test cubes:  21%|██▏       | 179544/835821 [00:05<00:20, 32760.89it/s]"
     ]
    },
    {
     "name": "stderr",
     "output_type": "stream",
     "text": [
      "\r",
      "generating test cubes:  22%|██▏       | 182843/835821 [00:05<00:19, 32826.57it/s]"
     ]
    },
    {
     "name": "stderr",
     "output_type": "stream",
     "text": [
      "\r",
      "generating test cubes:  22%|██▏       | 186144/835821 [00:05<00:19, 32880.03it/s]"
     ]
    },
    {
     "name": "stderr",
     "output_type": "stream",
     "text": [
      "\r",
      "generating test cubes:  23%|██▎       | 189433/835821 [00:05<00:19, 32819.88it/s]"
     ]
    },
    {
     "name": "stderr",
     "output_type": "stream",
     "text": [
      "\r",
      "generating test cubes:  23%|██▎       | 192716/835821 [00:05<00:19, 32775.65it/s]"
     ]
    },
    {
     "name": "stderr",
     "output_type": "stream",
     "text": [
      "\r",
      "generating test cubes:  23%|██▎       | 195994/835821 [00:06<00:19, 32728.86it/s]"
     ]
    },
    {
     "name": "stderr",
     "output_type": "stream",
     "text": [
      "\r",
      "generating test cubes:  24%|██▍       | 199295/835821 [00:06<00:19, 32809.98it/s]"
     ]
    },
    {
     "name": "stderr",
     "output_type": "stream",
     "text": [
      "\r",
      "generating test cubes:  24%|██▍       | 202577/835821 [00:06<00:19, 32721.22it/s]"
     ]
    },
    {
     "name": "stderr",
     "output_type": "stream",
     "text": [
      "\r",
      "generating test cubes:  25%|██▍       | 205862/835821 [00:06<00:19, 32755.95it/s]"
     ]
    },
    {
     "name": "stderr",
     "output_type": "stream",
     "text": [
      "\r",
      "generating test cubes:  25%|██▌       | 209138/835821 [00:06<00:19, 32732.45it/s]"
     ]
    },
    {
     "name": "stderr",
     "output_type": "stream",
     "text": [
      "\r",
      "generating test cubes:  25%|██▌       | 212412/835821 [00:06<00:19, 32643.31it/s]"
     ]
    },
    {
     "name": "stderr",
     "output_type": "stream",
     "text": [
      "\r",
      "generating test cubes:  26%|██▌       | 215688/835821 [00:06<00:18, 32677.42it/s]"
     ]
    },
    {
     "name": "stderr",
     "output_type": "stream",
     "text": [
      "\r",
      "generating test cubes:  26%|██▌       | 218992/835821 [00:06<00:18, 32782.48it/s]"
     ]
    },
    {
     "name": "stderr",
     "output_type": "stream",
     "text": [
      "\r",
      "generating test cubes:  27%|██▋       | 222292/835821 [00:06<00:18, 32844.73it/s]"
     ]
    },
    {
     "name": "stderr",
     "output_type": "stream",
     "text": [
      "\r",
      "generating test cubes:  27%|██▋       | 225582/835821 [00:06<00:18, 32860.36it/s]"
     ]
    },
    {
     "name": "stderr",
     "output_type": "stream",
     "text": [
      "\r",
      "generating test cubes:  27%|██▋       | 228877/835821 [00:07<00:18, 32884.54it/s]"
     ]
    },
    {
     "name": "stderr",
     "output_type": "stream",
     "text": [
      "\r",
      "generating test cubes:  28%|██▊       | 232187/835821 [00:07<00:18, 32947.79it/s]"
     ]
    },
    {
     "name": "stderr",
     "output_type": "stream",
     "text": [
      "\r",
      "generating test cubes:  28%|██▊       | 235482/835821 [00:07<00:18, 32819.97it/s]"
     ]
    },
    {
     "name": "stderr",
     "output_type": "stream",
     "text": [
      "\r",
      "generating test cubes:  29%|██▊       | 238765/835821 [00:07<00:18, 32624.05it/s]"
     ]
    },
    {
     "name": "stderr",
     "output_type": "stream",
     "text": [
      "\r",
      "generating test cubes:  29%|██▉       | 242028/835821 [00:07<00:18, 32586.69it/s]"
     ]
    },
    {
     "name": "stderr",
     "output_type": "stream",
     "text": [
      "\r",
      "generating test cubes:  29%|██▉       | 245321/835821 [00:07<00:18, 32688.85it/s]"
     ]
    },
    {
     "name": "stderr",
     "output_type": "stream",
     "text": [
      "\r",
      "generating test cubes:  30%|██▉       | 248604/835821 [00:07<00:17, 32729.75it/s]"
     ]
    },
    {
     "name": "stderr",
     "output_type": "stream",
     "text": [
      "\r",
      "generating test cubes:  30%|███       | 251909/835821 [00:07<00:17, 32824.94it/s]"
     ]
    },
    {
     "name": "stderr",
     "output_type": "stream",
     "text": [
      "\r",
      "generating test cubes:  31%|███       | 255192/835821 [00:07<00:17, 32821.85it/s]"
     ]
    },
    {
     "name": "stderr",
     "output_type": "stream",
     "text": [
      "\r",
      "generating test cubes:  31%|███       | 258475/835821 [00:07<00:17, 32812.59it/s]"
     ]
    },
    {
     "name": "stderr",
     "output_type": "stream",
     "text": [
      "\r",
      "generating test cubes:  31%|███▏      | 261757/835821 [00:08<00:17, 32799.23it/s]"
     ]
    },
    {
     "name": "stderr",
     "output_type": "stream",
     "text": [
      "\r",
      "generating test cubes:  32%|███▏      | 265037/835821 [00:08<00:17, 32792.97it/s]"
     ]
    },
    {
     "name": "stderr",
     "output_type": "stream",
     "text": [
      "\r",
      "generating test cubes:  32%|███▏      | 268317/835821 [00:08<00:17, 32671.30it/s]"
     ]
    },
    {
     "name": "stderr",
     "output_type": "stream",
     "text": [
      "\r",
      "generating test cubes:  32%|███▏      | 271615/835821 [00:08<00:17, 32763.01it/s]"
     ]
    },
    {
     "name": "stderr",
     "output_type": "stream",
     "text": [
      "\r",
      "generating test cubes:  33%|███▎      | 274892/835821 [00:08<00:17, 32727.71it/s]"
     ]
    },
    {
     "name": "stderr",
     "output_type": "stream",
     "text": [
      "\r",
      "generating test cubes:  33%|███▎      | 278177/835821 [00:08<00:17, 32762.21it/s]"
     ]
    },
    {
     "name": "stderr",
     "output_type": "stream",
     "text": [
      "\r",
      "generating test cubes:  34%|███▎      | 281472/835821 [00:08<00:16, 32816.27it/s]"
     ]
    },
    {
     "name": "stderr",
     "output_type": "stream",
     "text": [
      "\r",
      "generating test cubes:  34%|███▍      | 284774/835821 [00:08<00:16, 32876.48it/s]"
     ]
    },
    {
     "name": "stderr",
     "output_type": "stream",
     "text": [
      "\r",
      "generating test cubes:  34%|███▍      | 288062/835821 [00:08<00:16, 32859.36it/s]"
     ]
    },
    {
     "name": "stderr",
     "output_type": "stream",
     "text": [
      "\r",
      "generating test cubes:  35%|███▍      | 291368/835821 [00:08<00:16, 32918.88it/s]"
     ]
    },
    {
     "name": "stderr",
     "output_type": "stream",
     "text": [
      "\r",
      "generating test cubes:  35%|███▌      | 294660/835821 [00:09<00:16, 32855.10it/s]"
     ]
    },
    {
     "name": "stderr",
     "output_type": "stream",
     "text": [
      "\r",
      "generating test cubes:  36%|███▌      | 297946/835821 [00:09<00:16, 32824.58it/s]"
     ]
    },
    {
     "name": "stderr",
     "output_type": "stream",
     "text": [
      "\r",
      "generating test cubes:  36%|███▌      | 301229/835821 [00:09<00:16, 32507.78it/s]"
     ]
    },
    {
     "name": "stderr",
     "output_type": "stream",
     "text": [
      "\r",
      "generating test cubes:  36%|███▋      | 304501/835821 [00:09<00:16, 32568.45it/s]"
     ]
    },
    {
     "name": "stderr",
     "output_type": "stream",
     "text": [
      "\r",
      "generating test cubes:  37%|███▋      | 307779/835821 [00:09<00:16, 32629.43it/s]"
     ]
    },
    {
     "name": "stderr",
     "output_type": "stream",
     "text": [
      "\r",
      "generating test cubes:  37%|███▋      | 311073/835821 [00:09<00:16, 32721.76it/s]"
     ]
    },
    {
     "name": "stderr",
     "output_type": "stream",
     "text": [
      "\r",
      "generating test cubes:  38%|███▊      | 314357/835821 [00:09<00:15, 32756.55it/s]"
     ]
    },
    {
     "name": "stderr",
     "output_type": "stream",
     "text": [
      "\r",
      "generating test cubes:  38%|███▊      | 317650/835821 [00:09<00:15, 32807.02it/s]"
     ]
    },
    {
     "name": "stderr",
     "output_type": "stream",
     "text": [
      "\r",
      "generating test cubes:  38%|███▊      | 320946/835821 [00:09<00:15, 32851.09it/s]"
     ]
    },
    {
     "name": "stderr",
     "output_type": "stream",
     "text": [
      "\r",
      "generating test cubes:  39%|███▉      | 324232/835821 [00:09<00:15, 32838.01it/s]"
     ]
    },
    {
     "name": "stderr",
     "output_type": "stream",
     "text": [
      "\r",
      "generating test cubes:  39%|███▉      | 327527/835821 [00:10<00:15, 32869.08it/s]"
     ]
    },
    {
     "name": "stderr",
     "output_type": "stream",
     "text": [
      "\r",
      "generating test cubes:  40%|███▉      | 330819/835821 [00:10<00:15, 32883.69it/s]"
     ]
    },
    {
     "name": "stderr",
     "output_type": "stream",
     "text": [
      "\r",
      "generating test cubes:  40%|███▉      | 334108/835821 [00:10<00:15, 32857.93it/s]"
     ]
    },
    {
     "name": "stderr",
     "output_type": "stream",
     "text": [
      "\r",
      "generating test cubes:  40%|████      | 337412/835821 [00:10<00:15, 32910.78it/s]"
     ]
    },
    {
     "name": "stderr",
     "output_type": "stream",
     "text": [
      "\r",
      "generating test cubes:  41%|████      | 340713/835821 [00:10<00:15, 32938.59it/s]"
     ]
    },
    {
     "name": "stderr",
     "output_type": "stream",
     "text": [
      "\r",
      "generating test cubes:  41%|████      | 344007/835821 [00:10<00:15, 32660.15it/s]"
     ]
    },
    {
     "name": "stderr",
     "output_type": "stream",
     "text": [
      "\r",
      "generating test cubes:  42%|████▏     | 347283/835821 [00:10<00:14, 32687.44it/s]"
     ]
    },
    {
     "name": "stderr",
     "output_type": "stream",
     "text": [
      "\r",
      "generating test cubes:  42%|████▏     | 350584/835821 [00:10<00:14, 32782.23it/s]"
     ]
    },
    {
     "name": "stderr",
     "output_type": "stream",
     "text": [
      "\r",
      "generating test cubes:  42%|████▏     | 353879/835821 [00:10<00:14, 32830.68it/s]"
     ]
    },
    {
     "name": "stderr",
     "output_type": "stream",
     "text": [
      "\r",
      "generating test cubes:  43%|████▎     | 357163/835821 [00:10<00:14, 32826.79it/s]"
     ]
    },
    {
     "name": "stderr",
     "output_type": "stream",
     "text": [
      "\r",
      "generating test cubes:  43%|████▎     | 360446/835821 [00:11<00:14, 32827.60it/s]"
     ]
    },
    {
     "name": "stderr",
     "output_type": "stream",
     "text": [
      "\r",
      "generating test cubes:  44%|████▎     | 363739/835821 [00:11<00:14, 32857.84it/s]"
     ]
    },
    {
     "name": "stderr",
     "output_type": "stream",
     "text": [
      "\r",
      "generating test cubes:  44%|████▍     | 367028/835821 [00:11<00:14, 32865.35it/s]"
     ]
    },
    {
     "name": "stderr",
     "output_type": "stream",
     "text": [
      "\r",
      "generating test cubes:  44%|████▍     | 370319/835821 [00:11<00:14, 32877.26it/s]"
     ]
    },
    {
     "name": "stderr",
     "output_type": "stream",
     "text": [
      "\r",
      "generating test cubes:  45%|████▍     | 373607/835821 [00:11<00:14, 32846.90it/s]"
     ]
    },
    {
     "name": "stderr",
     "output_type": "stream",
     "text": [
      "\r",
      "generating test cubes:  45%|████▌     | 376892/835821 [00:11<00:14, 32753.74it/s]"
     ]
    },
    {
     "name": "stderr",
     "output_type": "stream",
     "text": [
      "\r",
      "generating test cubes:  45%|████▌     | 380168/835821 [00:11<00:14, 32251.58it/s]"
     ]
    },
    {
     "name": "stderr",
     "output_type": "stream",
     "text": [
      "\r",
      "generating test cubes:  46%|████▌     | 383457/835821 [00:11<00:13, 32440.39it/s]"
     ]
    },
    {
     "name": "stderr",
     "output_type": "stream",
     "text": [
      "\r",
      "generating test cubes:  46%|████▋     | 386725/835821 [00:11<00:13, 32509.80it/s]"
     ]
    },
    {
     "name": "stderr",
     "output_type": "stream",
     "text": [
      "\r",
      "generating test cubes:  47%|████▋     | 389978/835821 [00:11<00:13, 32513.41it/s]"
     ]
    },
    {
     "name": "stderr",
     "output_type": "stream",
     "text": [
      "\r",
      "generating test cubes:  47%|████▋     | 393261/835821 [00:12<00:13, 32605.36it/s]"
     ]
    },
    {
     "name": "stderr",
     "output_type": "stream",
     "text": [
      "\r",
      "generating test cubes:  47%|████▋     | 396562/835821 [00:12<00:13, 32723.03it/s]"
     ]
    },
    {
     "name": "stderr",
     "output_type": "stream",
     "text": [
      "\r",
      "generating test cubes:  48%|████▊     | 399835/835821 [00:12<00:13, 32711.19it/s]"
     ]
    },
    {
     "name": "stderr",
     "output_type": "stream",
     "text": [
      "\r",
      "generating test cubes:  48%|████▊     | 403125/835821 [00:12<00:13, 32765.09it/s]"
     ]
    },
    {
     "name": "stderr",
     "output_type": "stream",
     "text": [
      "\r",
      "generating test cubes:  49%|████▊     | 406407/835821 [00:12<00:13, 32781.30it/s]"
     ]
    },
    {
     "name": "stderr",
     "output_type": "stream",
     "text": [
      "\r",
      "generating test cubes:  49%|████▉     | 409700/835821 [00:12<00:12, 32824.77it/s]"
     ]
    },
    {
     "name": "stderr",
     "output_type": "stream",
     "text": [
      "\r",
      "generating test cubes:  49%|████▉     | 412986/835821 [00:12<00:12, 32833.06it/s]"
     ]
    },
    {
     "name": "stderr",
     "output_type": "stream",
     "text": [
      "\r",
      "generating test cubes:  50%|████▉     | 416284/835821 [00:12<00:12, 32876.78it/s]"
     ]
    },
    {
     "name": "stderr",
     "output_type": "stream",
     "text": [
      "\r",
      "generating test cubes:  50%|█████     | 419581/835821 [00:12<00:12, 32902.19it/s]"
     ]
    },
    {
     "name": "stderr",
     "output_type": "stream",
     "text": [
      "\r",
      "generating test cubes:  51%|█████     | 422881/835821 [00:12<00:12, 32928.97it/s]"
     ]
    },
    {
     "name": "stderr",
     "output_type": "stream",
     "text": [
      "\r",
      "generating test cubes:  51%|█████     | 426202/835821 [00:13<00:12, 33012.67it/s]"
     ]
    },
    {
     "name": "stderr",
     "output_type": "stream",
     "text": [
      "\r",
      "generating test cubes:  51%|█████▏    | 429504/835821 [00:13<00:12, 33008.79it/s]"
     ]
    },
    {
     "name": "stderr",
     "output_type": "stream",
     "text": [
      "\r",
      "generating test cubes:  52%|█████▏    | 432805/835821 [00:13<00:12, 32963.19it/s]"
     ]
    },
    {
     "name": "stderr",
     "output_type": "stream",
     "text": [
      "\r",
      "generating test cubes:  52%|█████▏    | 436102/835821 [00:13<00:12, 32870.15it/s]"
     ]
    },
    {
     "name": "stderr",
     "output_type": "stream",
     "text": [
      "\r",
      "generating test cubes:  53%|█████▎    | 439390/835821 [00:13<00:12, 32804.29it/s]"
     ]
    },
    {
     "name": "stderr",
     "output_type": "stream",
     "text": [
      "\r",
      "generating test cubes:  53%|█████▎    | 442680/835821 [00:13<00:11, 32830.70it/s]"
     ]
    },
    {
     "name": "stderr",
     "output_type": "stream",
     "text": [
      "\r",
      "generating test cubes:  53%|█████▎    | 445967/835821 [00:13<00:11, 32841.83it/s]"
     ]
    },
    {
     "name": "stderr",
     "output_type": "stream",
     "text": [
      "\r",
      "generating test cubes:  54%|█████▍    | 449258/835821 [00:13<00:11, 32861.30it/s]"
     ]
    },
    {
     "name": "stderr",
     "output_type": "stream",
     "text": [
      "\r",
      "generating test cubes:  54%|█████▍    | 452548/835821 [00:13<00:11, 32871.95it/s]"
     ]
    },
    {
     "name": "stderr",
     "output_type": "stream",
     "text": [
      "\r",
      "generating test cubes:  55%|█████▍    | 455836/835821 [00:13<00:11, 32815.40it/s]"
     ]
    },
    {
     "name": "stderr",
     "output_type": "stream",
     "text": [
      "\r",
      "generating test cubes:  55%|█████▍    | 459127/835821 [00:14<00:11, 32842.23it/s]"
     ]
    },
    {
     "name": "stderr",
     "output_type": "stream",
     "text": [
      "\r",
      "generating test cubes:  55%|█████▌    | 462412/835821 [00:14<00:11, 32575.85it/s]"
     ]
    },
    {
     "name": "stderr",
     "output_type": "stream",
     "text": [
      "\r",
      "generating test cubes:  56%|█████▌    | 465689/835821 [00:14<00:11, 32632.10it/s]"
     ]
    },
    {
     "name": "stderr",
     "output_type": "stream",
     "text": [
      "\r",
      "generating test cubes:  56%|█████▌    | 468973/835821 [00:14<00:11, 32692.94it/s]"
     ]
    },
    {
     "name": "stderr",
     "output_type": "stream",
     "text": [
      "\r",
      "generating test cubes:  57%|█████▋    | 472243/835821 [00:14<00:11, 32671.03it/s]"
     ]
    },
    {
     "name": "stderr",
     "output_type": "stream",
     "text": [
      "\r",
      "generating test cubes:  57%|█████▋    | 475530/835821 [00:14<00:11, 32729.66it/s]"
     ]
    },
    {
     "name": "stderr",
     "output_type": "stream",
     "text": [
      "\r",
      "generating test cubes:  57%|█████▋    | 478825/835821 [00:14<00:10, 32793.64it/s]"
     ]
    },
    {
     "name": "stderr",
     "output_type": "stream",
     "text": [
      "\r",
      "generating test cubes:  58%|█████▊    | 482105/835821 [00:14<00:10, 32759.13it/s]"
     ]
    },
    {
     "name": "stderr",
     "output_type": "stream",
     "text": [
      "\r",
      "generating test cubes:  58%|█████▊    | 485385/835821 [00:14<00:10, 32771.04it/s]"
     ]
    },
    {
     "name": "stderr",
     "output_type": "stream",
     "text": [
      "\r",
      "generating test cubes:  58%|█████▊    | 488682/835821 [00:14<00:10, 32827.79it/s]"
     ]
    },
    {
     "name": "stderr",
     "output_type": "stream",
     "text": [
      "\r",
      "generating test cubes:  59%|█████▉    | 491968/835821 [00:15<00:10, 32837.39it/s]"
     ]
    },
    {
     "name": "stderr",
     "output_type": "stream",
     "text": [
      "\r",
      "generating test cubes:  59%|█████▉    | 495276/835821 [00:15<00:10, 32907.00it/s]"
     ]
    },
    {
     "name": "stderr",
     "output_type": "stream",
     "text": [
      "\r",
      "generating test cubes:  60%|█████▉    | 498567/835821 [00:15<00:10, 32826.65it/s]"
     ]
    },
    {
     "name": "stderr",
     "output_type": "stream",
     "text": [
      "\r",
      "generating test cubes:  60%|██████    | 501860/835821 [00:15<00:10, 32856.66it/s]"
     ]
    },
    {
     "name": "stderr",
     "output_type": "stream",
     "text": [
      "\r",
      "generating test cubes:  60%|██████    | 505146/835821 [00:15<00:10, 32828.56it/s]"
     ]
    },
    {
     "name": "stderr",
     "output_type": "stream",
     "text": [
      "\r",
      "generating test cubes:  61%|██████    | 508429/835821 [00:15<00:09, 32759.20it/s]"
     ]
    },
    {
     "name": "stderr",
     "output_type": "stream",
     "text": [
      "\r",
      "generating test cubes:  61%|██████    | 511705/835821 [00:15<00:09, 32757.36it/s]"
     ]
    },
    {
     "name": "stderr",
     "output_type": "stream",
     "text": [
      "\r",
      "generating test cubes:  62%|██████▏   | 515003/835821 [00:15<00:09, 32821.37it/s]"
     ]
    },
    {
     "name": "stderr",
     "output_type": "stream",
     "text": [
      "\r",
      "generating test cubes:  62%|██████▏   | 518286/835821 [00:15<00:09, 32811.46it/s]"
     ]
    },
    {
     "name": "stderr",
     "output_type": "stream",
     "text": [
      "\r",
      "generating test cubes:  62%|██████▏   | 521568/835821 [00:15<00:09, 32782.95it/s]"
     ]
    },
    {
     "name": "stderr",
     "output_type": "stream",
     "text": [
      "\r",
      "generating test cubes:  63%|██████▎   | 524854/835821 [00:16<00:09, 32805.21it/s]"
     ]
    },
    {
     "name": "stderr",
     "output_type": "stream",
     "text": [
      "\r",
      "generating test cubes:  63%|██████▎   | 528135/835821 [00:16<00:09, 32796.08it/s]"
     ]
    },
    {
     "name": "stderr",
     "output_type": "stream",
     "text": [
      "\r",
      "generating test cubes:  64%|██████▎   | 531426/835821 [00:16<00:09, 32827.56it/s]"
     ]
    },
    {
     "name": "stderr",
     "output_type": "stream",
     "text": [
      "\r",
      "generating test cubes:  64%|██████▍   | 534713/835821 [00:16<00:09, 32838.15it/s]"
     ]
    },
    {
     "name": "stderr",
     "output_type": "stream",
     "text": [
      "\r",
      "generating test cubes:  64%|██████▍   | 537997/835821 [00:16<00:09, 32482.29it/s]"
     ]
    },
    {
     "name": "stderr",
     "output_type": "stream",
     "text": [
      "\r",
      "generating test cubes:  65%|██████▍   | 541247/835821 [00:16<00:09, 32371.58it/s]"
     ]
    },
    {
     "name": "stderr",
     "output_type": "stream",
     "text": [
      "\r",
      "generating test cubes:  65%|██████▌   | 544543/835821 [00:16<00:08, 32543.65it/s]"
     ]
    },
    {
     "name": "stderr",
     "output_type": "stream",
     "text": [
      "\r",
      "generating test cubes:  66%|██████▌   | 547843/835821 [00:16<00:08, 32678.88it/s]"
     ]
    },
    {
     "name": "stderr",
     "output_type": "stream",
     "text": [
      "\r",
      "generating test cubes:  66%|██████▌   | 551148/835821 [00:16<00:08, 32787.28it/s]"
     ]
    },
    {
     "name": "stderr",
     "output_type": "stream",
     "text": [
      "\r",
      "generating test cubes:  66%|██████▋   | 554428/835821 [00:16<00:08, 32516.02it/s]"
     ]
    },
    {
     "name": "stderr",
     "output_type": "stream",
     "text": [
      "\r",
      "generating test cubes:  67%|██████▋   | 557717/835821 [00:17<00:08, 32624.87it/s]"
     ]
    },
    {
     "name": "stderr",
     "output_type": "stream",
     "text": [
      "\r",
      "generating test cubes:  67%|██████▋   | 561018/835821 [00:17<00:08, 32737.41it/s]"
     ]
    },
    {
     "name": "stderr",
     "output_type": "stream",
     "text": [
      "\r",
      "generating test cubes:  68%|██████▊   | 564302/835821 [00:17<00:08, 32768.01it/s]"
     ]
    },
    {
     "name": "stderr",
     "output_type": "stream",
     "text": [
      "\r",
      "generating test cubes:  68%|██████▊   | 567606/835821 [00:17<00:08, 32847.07it/s]"
     ]
    },
    {
     "name": "stderr",
     "output_type": "stream",
     "text": [
      "\r",
      "generating test cubes:  68%|██████▊   | 570892/835821 [00:17<00:08, 32832.06it/s]"
     ]
    },
    {
     "name": "stderr",
     "output_type": "stream",
     "text": [
      "\r",
      "generating test cubes:  69%|██████▊   | 574176/835821 [00:17<00:08, 32490.29it/s]"
     ]
    },
    {
     "name": "stderr",
     "output_type": "stream",
     "text": [
      "\r",
      "generating test cubes:  69%|██████▉   | 577447/835821 [00:17<00:07, 32552.89it/s]"
     ]
    },
    {
     "name": "stderr",
     "output_type": "stream",
     "text": [
      "\r",
      "generating test cubes:  69%|██████▉   | 580755/835821 [00:17<00:07, 32709.01it/s]"
     ]
    },
    {
     "name": "stderr",
     "output_type": "stream",
     "text": [
      "\r",
      "generating test cubes:  70%|██████▉   | 584057/835821 [00:17<00:07, 32799.76it/s]"
     ]
    },
    {
     "name": "stderr",
     "output_type": "stream",
     "text": [
      "\r",
      "generating test cubes:  70%|███████   | 587365/835821 [00:17<00:07, 32882.24it/s]"
     ]
    },
    {
     "name": "stderr",
     "output_type": "stream",
     "text": [
      "\r",
      "generating test cubes:  71%|███████   | 590661/835821 [00:18<00:07, 32903.10it/s]"
     ]
    },
    {
     "name": "stderr",
     "output_type": "stream",
     "text": [
      "\r",
      "generating test cubes:  71%|███████   | 593966/835821 [00:18<00:07, 32946.83it/s]"
     ]
    },
    {
     "name": "stderr",
     "output_type": "stream",
     "text": [
      "\r",
      "generating test cubes:  71%|███████▏  | 597264/835821 [00:18<00:07, 32954.36it/s]"
     ]
    },
    {
     "name": "stderr",
     "output_type": "stream",
     "text": [
      "\r",
      "generating test cubes:  72%|███████▏  | 600560/835821 [00:18<00:07, 32927.73it/s]"
     ]
    },
    {
     "name": "stderr",
     "output_type": "stream",
     "text": [
      "\r",
      "generating test cubes:  72%|███████▏  | 603853/835821 [00:18<00:07, 32710.96it/s]"
     ]
    },
    {
     "name": "stderr",
     "output_type": "stream",
     "text": [
      "\r",
      "generating test cubes:  73%|███████▎  | 607125/835821 [00:18<00:07, 32395.37it/s]"
     ]
    },
    {
     "name": "stderr",
     "output_type": "stream",
     "text": [
      "\r",
      "generating test cubes:  73%|███████▎  | 610366/835821 [00:18<00:07, 31987.73it/s]"
     ]
    },
    {
     "name": "stderr",
     "output_type": "stream",
     "text": [
      "\r",
      "generating test cubes:  73%|███████▎  | 613589/835821 [00:18<00:06, 32059.55it/s]"
     ]
    },
    {
     "name": "stderr",
     "output_type": "stream",
     "text": [
      "\r",
      "generating test cubes:  74%|███████▍  | 616887/835821 [00:18<00:06, 32327.24it/s]"
     ]
    },
    {
     "name": "stderr",
     "output_type": "stream",
     "text": [
      "\r",
      "generating test cubes:  74%|███████▍  | 620183/835821 [00:18<00:06, 32512.52it/s]"
     ]
    },
    {
     "name": "stderr",
     "output_type": "stream",
     "text": [
      "\r",
      "generating test cubes:  75%|███████▍  | 623464/835821 [00:19<00:06, 32598.59it/s]"
     ]
    },
    {
     "name": "stderr",
     "output_type": "stream",
     "text": [
      "\r",
      "generating test cubes:  75%|███████▍  | 626743/835821 [00:19<00:06, 32653.53it/s]"
     ]
    },
    {
     "name": "stderr",
     "output_type": "stream",
     "text": [
      "\r",
      "generating test cubes:  75%|███████▌  | 630025/835821 [00:19<00:06, 32701.83it/s]"
     ]
    },
    {
     "name": "stderr",
     "output_type": "stream",
     "text": [
      "\r",
      "generating test cubes:  76%|███████▌  | 633313/835821 [00:19<00:06, 32754.16it/s]"
     ]
    },
    {
     "name": "stderr",
     "output_type": "stream",
     "text": [
      "\r",
      "generating test cubes:  76%|███████▌  | 636607/835821 [00:19<00:06, 32807.22it/s]"
     ]
    },
    {
     "name": "stderr",
     "output_type": "stream",
     "text": [
      "\r",
      "generating test cubes:  77%|███████▋  | 639897/835821 [00:19<00:05, 32832.64it/s]"
     ]
    },
    {
     "name": "stderr",
     "output_type": "stream",
     "text": [
      "\r",
      "generating test cubes:  77%|███████▋  | 643181/835821 [00:19<00:05, 32748.00it/s]"
     ]
    },
    {
     "name": "stderr",
     "output_type": "stream",
     "text": [
      "\r",
      "generating test cubes:  77%|███████▋  | 646468/835821 [00:19<00:05, 32783.93it/s]"
     ]
    },
    {
     "name": "stderr",
     "output_type": "stream",
     "text": [
      "\r",
      "generating test cubes:  78%|███████▊  | 649764/835821 [00:19<00:05, 32834.41it/s]"
     ]
    },
    {
     "name": "stderr",
     "output_type": "stream",
     "text": [
      "\r",
      "generating test cubes:  78%|███████▊  | 653057/835821 [00:19<00:05, 32862.19it/s]"
     ]
    },
    {
     "name": "stderr",
     "output_type": "stream",
     "text": [
      "\r",
      "generating test cubes:  79%|███████▊  | 656344/835821 [00:20<00:05, 32787.05it/s]"
     ]
    },
    {
     "name": "stderr",
     "output_type": "stream",
     "text": [
      "\r",
      "generating test cubes:  79%|███████▉  | 659646/835821 [00:20<00:05, 32854.28it/s]"
     ]
    },
    {
     "name": "stderr",
     "output_type": "stream",
     "text": [
      "\r",
      "generating test cubes:  79%|███████▉  | 662944/835821 [00:20<00:05, 32890.10it/s]"
     ]
    },
    {
     "name": "stderr",
     "output_type": "stream",
     "text": [
      "\r",
      "generating test cubes:  80%|███████▉  | 666234/835821 [00:20<00:05, 32773.81it/s]"
     ]
    },
    {
     "name": "stderr",
     "output_type": "stream",
     "text": [
      "\r",
      "generating test cubes:  80%|████████  | 669519/835821 [00:20<00:05, 32795.66it/s]"
     ]
    },
    {
     "name": "stderr",
     "output_type": "stream",
     "text": [
      "\r",
      "generating test cubes:  80%|████████  | 672810/835821 [00:20<00:04, 32827.43it/s]"
     ]
    },
    {
     "name": "stderr",
     "output_type": "stream",
     "text": [
      "\r",
      "generating test cubes:  81%|████████  | 676093/835821 [00:20<00:04, 32806.67it/s]"
     ]
    },
    {
     "name": "stderr",
     "output_type": "stream",
     "text": [
      "\r",
      "generating test cubes:  81%|████████▏ | 679374/835821 [00:20<00:04, 32560.99it/s]"
     ]
    },
    {
     "name": "stderr",
     "output_type": "stream",
     "text": [
      "\r",
      "generating test cubes:  82%|████████▏ | 682631/835821 [00:20<00:04, 31911.07it/s]"
     ]
    },
    {
     "name": "stderr",
     "output_type": "stream",
     "text": [
      "\r",
      "generating test cubes:  82%|████████▏ | 685922/835821 [00:20<00:04, 32201.76it/s]"
     ]
    },
    {
     "name": "stderr",
     "output_type": "stream",
     "text": [
      "\r",
      "generating test cubes:  82%|████████▏ | 689203/835821 [00:21<00:04, 32381.20it/s]"
     ]
    },
    {
     "name": "stderr",
     "output_type": "stream",
     "text": [
      "\r",
      "generating test cubes:  83%|████████▎ | 692498/835821 [00:21<00:04, 32547.11it/s]"
     ]
    },
    {
     "name": "stderr",
     "output_type": "stream",
     "text": [
      "\r",
      "generating test cubes:  83%|████████▎ | 695787/835821 [00:21<00:04, 32646.36it/s]"
     ]
    },
    {
     "name": "stderr",
     "output_type": "stream",
     "text": [
      "\r",
      "generating test cubes:  84%|████████▎ | 699072/835821 [00:21<00:04, 32706.61it/s]"
     ]
    },
    {
     "name": "stderr",
     "output_type": "stream",
     "text": [
      "\r",
      "generating test cubes:  84%|████████▍ | 702361/835821 [00:21<00:04, 32759.48it/s]"
     ]
    },
    {
     "name": "stderr",
     "output_type": "stream",
     "text": [
      "\r",
      "generating test cubes:  84%|████████▍ | 705647/835821 [00:21<00:03, 32786.85it/s]"
     ]
    },
    {
     "name": "stderr",
     "output_type": "stream",
     "text": [
      "\r",
      "generating test cubes:  85%|████████▍ | 708927/835821 [00:21<00:03, 32664.44it/s]"
     ]
    },
    {
     "name": "stderr",
     "output_type": "stream",
     "text": [
      "\r",
      "generating test cubes:  85%|████████▌ | 712194/835821 [00:21<00:03, 32645.36it/s]"
     ]
    },
    {
     "name": "stderr",
     "output_type": "stream",
     "text": [
      "\r",
      "generating test cubes:  86%|████████▌ | 715471/835821 [00:21<00:03, 32681.94it/s]"
     ]
    },
    {
     "name": "stderr",
     "output_type": "stream",
     "text": [
      "\r",
      "generating test cubes:  86%|████████▌ | 718771/835821 [00:21<00:03, 32773.76it/s]"
     ]
    },
    {
     "name": "stderr",
     "output_type": "stream",
     "text": [
      "\r",
      "generating test cubes:  86%|████████▋ | 722062/835821 [00:22<00:03, 32811.62it/s]"
     ]
    },
    {
     "name": "stderr",
     "output_type": "stream",
     "text": [
      "\r",
      "generating test cubes:  87%|████████▋ | 725344/835821 [00:22<00:03, 32664.74it/s]"
     ]
    },
    {
     "name": "stderr",
     "output_type": "stream",
     "text": [
      "\r",
      "generating test cubes:  87%|████████▋ | 728638/835821 [00:22<00:03, 32744.91it/s]"
     ]
    },
    {
     "name": "stderr",
     "output_type": "stream",
     "text": [
      "\r",
      "generating test cubes:  88%|████████▊ | 731930/835821 [00:22<00:03, 32796.43it/s]"
     ]
    },
    {
     "name": "stderr",
     "output_type": "stream",
     "text": [
      "\r",
      "generating test cubes:  88%|████████▊ | 735218/835821 [00:22<00:03, 32820.30it/s]"
     ]
    },
    {
     "name": "stderr",
     "output_type": "stream",
     "text": [
      "\r",
      "generating test cubes:  88%|████████▊ | 738508/835821 [00:22<00:02, 32841.95it/s]"
     ]
    },
    {
     "name": "stderr",
     "output_type": "stream",
     "text": [
      "\r",
      "generating test cubes:  89%|████████▉ | 741802/835821 [00:22<00:02, 32870.49it/s]"
     ]
    },
    {
     "name": "stderr",
     "output_type": "stream",
     "text": [
      "\r",
      "generating test cubes:  89%|████████▉ | 745104/835821 [00:22<00:02, 32914.25it/s]"
     ]
    },
    {
     "name": "stderr",
     "output_type": "stream",
     "text": [
      "\r",
      "generating test cubes:  90%|████████▉ | 748406/835821 [00:22<00:02, 32944.88it/s]"
     ]
    },
    {
     "name": "stderr",
     "output_type": "stream",
     "text": [
      "\r",
      "generating test cubes:  90%|████████▉ | 751709/835821 [00:22<00:02, 32967.86it/s]"
     ]
    },
    {
     "name": "stderr",
     "output_type": "stream",
     "text": [
      "\r",
      "generating test cubes:  90%|█████████ | 755006/835821 [00:23<00:02, 32901.23it/s]"
     ]
    },
    {
     "name": "stderr",
     "output_type": "stream",
     "text": [
      "\r",
      "generating test cubes:  91%|█████████ | 758297/835821 [00:23<00:02, 32814.49it/s]"
     ]
    },
    {
     "name": "stderr",
     "output_type": "stream",
     "text": [
      "\r",
      "generating test cubes:  91%|█████████ | 761579/835821 [00:23<00:02, 32769.77it/s]"
     ]
    },
    {
     "name": "stderr",
     "output_type": "stream",
     "text": [
      "\r",
      "generating test cubes:  92%|█████████▏| 764857/835821 [00:23<00:02, 32574.78it/s]"
     ]
    },
    {
     "name": "stderr",
     "output_type": "stream",
     "text": [
      "\r",
      "generating test cubes:  92%|█████████▏| 768115/835821 [00:23<00:02, 31976.98it/s]"
     ]
    },
    {
     "name": "stderr",
     "output_type": "stream",
     "text": [
      "\r",
      "generating test cubes:  92%|█████████▏| 771316/835821 [00:23<00:02, 31985.42it/s]"
     ]
    },
    {
     "name": "stderr",
     "output_type": "stream",
     "text": [
      "\r",
      "generating test cubes:  93%|█████████▎| 774593/835821 [00:23<00:01, 32215.83it/s]"
     ]
    },
    {
     "name": "stderr",
     "output_type": "stream",
     "text": [
      "\r",
      "generating test cubes:  93%|█████████▎| 777878/835821 [00:23<00:01, 32400.97it/s]"
     ]
    },
    {
     "name": "stderr",
     "output_type": "stream",
     "text": [
      "\r",
      "generating test cubes:  93%|█████████▎| 781141/835821 [00:23<00:01, 32468.03it/s]"
     ]
    },
    {
     "name": "stderr",
     "output_type": "stream",
     "text": [
      "\r",
      "generating test cubes:  94%|█████████▍| 784426/835821 [00:23<00:01, 32579.22it/s]"
     ]
    },
    {
     "name": "stderr",
     "output_type": "stream",
     "text": [
      "\r",
      "generating test cubes:  94%|█████████▍| 787731/835821 [00:24<00:01, 32718.33it/s]"
     ]
    },
    {
     "name": "stderr",
     "output_type": "stream",
     "text": [
      "\r",
      "generating test cubes:  95%|█████████▍| 791028/835821 [00:24<00:01, 32792.55it/s]"
     ]
    },
    {
     "name": "stderr",
     "output_type": "stream",
     "text": [
      "\r",
      "generating test cubes:  95%|█████████▌| 794320/835821 [00:24<00:01, 32828.05it/s]"
     ]
    },
    {
     "name": "stderr",
     "output_type": "stream",
     "text": [
      "\r",
      "generating test cubes:  95%|█████████▌| 797615/835821 [00:24<00:01, 32864.24it/s]"
     ]
    },
    {
     "name": "stderr",
     "output_type": "stream",
     "text": [
      "\r",
      "generating test cubes:  96%|█████████▌| 800921/835821 [00:24<00:01, 32921.05it/s]"
     ]
    },
    {
     "name": "stderr",
     "output_type": "stream",
     "text": [
      "\r",
      "generating test cubes:  96%|█████████▌| 804220/835821 [00:24<00:00, 32939.24it/s]"
     ]
    },
    {
     "name": "stderr",
     "output_type": "stream",
     "text": [
      "\r",
      "generating test cubes:  97%|█████████▋| 807515/835821 [00:24<00:00, 32931.72it/s]"
     ]
    },
    {
     "name": "stderr",
     "output_type": "stream",
     "text": [
      "\r",
      "generating test cubes:  97%|█████████▋| 810809/835821 [00:24<00:00, 32932.58it/s]"
     ]
    },
    {
     "name": "stderr",
     "output_type": "stream",
     "text": [
      "\r",
      "generating test cubes:  97%|█████████▋| 814103/835821 [00:24<00:00, 32929.28it/s]"
     ]
    },
    {
     "name": "stderr",
     "output_type": "stream",
     "text": [
      "\r",
      "generating test cubes:  98%|█████████▊| 817403/835821 [00:24<00:00, 32950.34it/s]"
     ]
    },
    {
     "name": "stderr",
     "output_type": "stream",
     "text": [
      "\r",
      "generating test cubes:  98%|█████████▊| 820699/835821 [00:25<00:00, 32916.97it/s]"
     ]
    },
    {
     "name": "stderr",
     "output_type": "stream",
     "text": [
      "\r",
      "generating test cubes:  99%|█████████▊| 823996/835821 [00:25<00:00, 32930.24it/s]"
     ]
    },
    {
     "name": "stderr",
     "output_type": "stream",
     "text": [
      "\r",
      "generating test cubes:  99%|█████████▉| 827290/835821 [00:25<00:00, 32893.63it/s]"
     ]
    },
    {
     "name": "stderr",
     "output_type": "stream",
     "text": [
      "\r",
      "generating test cubes:  99%|█████████▉| 830592/835821 [00:25<00:00, 32929.67it/s]"
     ]
    },
    {
     "name": "stderr",
     "output_type": "stream",
     "text": [
      "\r",
      "generating test cubes: 100%|█████████▉| 833886/835821 [00:25<00:00, 32931.43it/s]"
     ]
    },
    {
     "name": "stderr",
     "output_type": "stream",
     "text": [
      "\r",
      "generating test cubes: 100%|██████████| 835821/835821 [00:25<00:00, 32708.54it/s]"
     ]
    },
    {
     "name": "stderr",
     "output_type": "stream",
     "text": [
      "\n"
     ]
    }
   ],
   "source": [
    "from neural_semigroups.training_helpers import get_loaders\n",
    "\n",
    "cardinality = 7\n",
    "data_loaders = get_loaders(\n",
    "    cardinality=cardinality,\n",
    "    batch_size=48,\n",
    "    train_size=100,\n",
    "    validation_size=100\n",
    ")\n"
   ]
  },
  {
   "cell_type": "markdown",
   "metadata": {
    "collapsed": false
   },
   "source": [
    "We model each input Cayley table as a three index tensor $a_{ijk}$ such that\n",
    "\n",
    "$a_{ijk}=P\\left\\{e_ie_j=e_k\\right\\}$\n",
    "\n",
    "where $e_i$ are elements of a semigroup.\n",
    "\n",
    "In our training data all $a_{ijk}$ are either zeros or ones, so probability distributions involved are degenerate.\n",
    "\n",
    "When we need to hide a cell with indices $i,j$ from an original Cayley table we set\n",
    "\n",
    "$a_{ijk}=\\dfrac1n$\n",
    "\n",
    "where $n$ is the semigroup's cardinality. Thus we set a probability distribution of the multiplication result $e_ie_j$ to discrete uniform."
   ]
  },
  {
   "cell_type": "markdown",
   "metadata": {
    "collapsed": false
   },
   "source": [
    "We choose a simple denoising autoencoder as an architecture for our neural network. It simply gets an input tensor of zeros and ones, hide 50% of input cells in a manner described earlier, and applies a linear transformation into a lower dimension ($n^2$ but these also can be tuned) with a simple `RuLU` non-linearity. Then another linear transformation with `ReLU` is applied to return back to the original $n^3$ dimension. We also apply batch norm here. See the package code for the details."
   ]
  },
  {
   "cell_type": "code",
   "execution_count": 2,
   "metadata": {
    "collapsed": false
   },
   "outputs": [],
   "source": [
    "from neural_semigroups import MagmaDAE\n",
    "\n",
    "dae = MagmaDAE(\n",
    "    cardinality=cardinality,\n",
    "    hidden_dims=[\n",
    "        cardinality ** 2\n",
    "    ],\n",
    "    corruption_rate=0.5\n",
    ")"
   ]
  },
  {
   "cell_type": "code",
   "execution_count": 3,
   "metadata": {
    "collapsed": false
   },
   "outputs": [
    {
     "data": {
      "text/plain": [
       "MagmaDAE(\n",
       "  (decoder_layers): Sequential(\n",
       "    (linear10): Linear(in_features=49, out_features=343, bias=True)\n",
       "    (relu10): ReLU()\n",
       "    (bn10): BatchNorm1d(343, eps=1e-05, momentum=0.1, affine=True, track_running_stats=True)\n",
       "  )\n",
       "  (encoder_layers): Sequential(\n",
       "    (linear00): Linear(in_features=343, out_features=49, bias=True)\n",
       "    (relu00): ReLU()\n",
       "    (bn00): BatchNorm1d(49, eps=1e-05, momentum=0.1, affine=True, track_running_stats=True)\n",
       "  )\n",
       ")"
      ]
     },
     "execution_count": 3,
     "metadata": {},
     "output_type": "execute_result"
    }
   ],
   "source": [
    "dae"
   ]
  },
  {
   "cell_type": "markdown",
   "metadata": {
    "collapsed": false
   },
   "source": [
    "During the training process we try to minimize the Kullback-Leibler distance between two probabilistic cubes (the input and output ones of the DAE)."
   ]
  },
  {
   "cell_type": "code",
   "execution_count": 4,
   "metadata": {
    "collapsed": false
   },
   "outputs": [],
   "source": [
    "import torch\n",
    "from torch import Tensor\n",
    "from torch.nn.functional import kl_div\n",
    "\n",
    "def loss(prediction: Tensor, target: Tensor) -> Tensor:\n",
    "    return kl_div(torch.log(prediction), target, reduction=\"batchmean\")\n"
   ]
  },
  {
   "cell_type": "markdown",
   "metadata": {
    "collapsed": false
   },
   "source": [
    "We use `pytorch-ignite` to write less boilerplate code for a training pipeline."
   ]
  },
  {
   "cell_type": "code",
   "execution_count": 5,
   "metadata": {
    "collapsed": false
   },
   "outputs": [],
   "source": [
    "from ignite.engine import create_supervised_evaluator\n",
    "from ignite.metrics.loss import Loss\n",
    "\n",
    "evaluator = create_supervised_evaluator(\n",
    "    dae,\n",
    "    metrics={\"loss\": Loss(loss)}\n",
    ")"
   ]
  },
  {
   "cell_type": "markdown",
   "metadata": {
    "collapsed": false
   },
   "source": [
    "Now it's time to run a pipeline! Here you can tune the learning schedule for better results.\n",
    "\n",
    "To see some pretty graphs of training and validation curves, run `tennsorboard` in an `examples` dir.\n",
    "\n",
    "You can construct your own pipeline if you don't want to import one provided by the package."
   ]
  },
  {
   "cell_type": "code",
   "execution_count": 12,
   "metadata": {
    "collapsed": false
   },
   "outputs": [
    {
     "name": "stdout",
     "output_type": "stream",
     "text": [
      "CPU times: user 41.5 s, sys: 1.51 s, total: 43 s\n",
      "Wall time: 31.4 s\n"
     ]
    }
   ],
   "source": [
    "%%time\n",
    "from neural_semigroups.training_helpers import learning_pipeline\n",
    "\n",
    "params = {\n",
    "    \"learning_rate\": 0.005,\n",
    "    \"epochs\": 1000,\n",
    "    \"cardinality\": cardinality\n",
    "}\n",
    "learning_pipeline(params, dae, evaluator, loss, data_loaders)\n",
    "\n"
   ]
  },
  {
   "cell_type": "markdown",
   "metadata": {
    "collapsed": false
   },
   "source": [
    "And here is the report of results. It seems to be quite impressive. For it we got 1000 of random Cayley tables (for different equivalent classes as always) and constructed 'puzzles' from it.\n",
    "\n",
    "Level of difficulty for a puzzle is a number of hidden cells. A puzzle is considered to be solved if the model returns a full associative table.\n",
    "\n",
    "We see that the model generalizes well (it was trained only on 100 tables)."
   ]
  },
  {
   "cell_type": "code",
   "execution_count": 2,
   "metadata": {
    "collapsed": false
   },
   "outputs": [
    {
     "name": "stderr",
     "output_type": "stream",
     "text": [
      "\r",
      "generating and solving puzzles:   0%|          | 0/1000 [00:00<?, ?it/s]"
     ]
    },
    {
     "name": "stderr",
     "output_type": "stream",
     "text": [
      "\r",
      "generating and solving puzzles:   0%|          | 3/1000 [00:00<00:40, 24.88it/s]"
     ]
    },
    {
     "name": "stderr",
     "output_type": "stream",
     "text": [
      "\r",
      "generating and solving puzzles:   1%|          | 9/1000 [00:00<00:34, 28.53it/s]"
     ]
    },
    {
     "name": "stderr",
     "output_type": "stream",
     "text": [
      "\r",
      "generating and solving puzzles:   1%|          | 12/1000 [00:00<00:38, 25.66it/s]"
     ]
    },
    {
     "name": "stderr",
     "output_type": "stream",
     "text": [
      "\r",
      "generating and solving puzzles:   2%|▏         | 15/1000 [00:00<00:41, 23.98it/s]"
     ]
    },
    {
     "name": "stderr",
     "output_type": "stream",
     "text": [
      "\r",
      "generating and solving puzzles:   2%|▏         | 18/1000 [00:00<00:43, 22.81it/s]"
     ]
    },
    {
     "name": "stderr",
     "output_type": "stream",
     "text": [
      "\r",
      "generating and solving puzzles:   2%|▏         | 22/1000 [00:00<00:39, 24.65it/s]"
     ]
    },
    {
     "name": "stderr",
     "output_type": "stream",
     "text": [
      "\r",
      "generating and solving puzzles:   3%|▎         | 27/1000 [00:00<00:33, 28.69it/s]"
     ]
    },
    {
     "name": "stderr",
     "output_type": "stream",
     "text": [
      "\r",
      "generating and solving puzzles:   3%|▎         | 31/1000 [00:01<00:37, 26.07it/s]"
     ]
    },
    {
     "name": "stderr",
     "output_type": "stream",
     "text": [
      "\r",
      "generating and solving puzzles:   3%|▎         | 34/1000 [00:01<00:37, 25.90it/s]"
     ]
    },
    {
     "name": "stderr",
     "output_type": "stream",
     "text": [
      "\r",
      "generating and solving puzzles:   4%|▍         | 38/1000 [00:01<00:35, 27.02it/s]"
     ]
    },
    {
     "name": "stderr",
     "output_type": "stream",
     "text": [
      "\r",
      "generating and solving puzzles:   4%|▍         | 41/1000 [00:01<00:38, 24.84it/s]"
     ]
    },
    {
     "name": "stderr",
     "output_type": "stream",
     "text": [
      "\r",
      "generating and solving puzzles:   4%|▍         | 44/1000 [00:01<00:40, 23.46it/s]"
     ]
    },
    {
     "name": "stderr",
     "output_type": "stream",
     "text": [
      "\r",
      "generating and solving puzzles:   5%|▍         | 47/1000 [00:01<00:40, 23.76it/s]"
     ]
    },
    {
     "name": "stderr",
     "output_type": "stream",
     "text": [
      "\r",
      "generating and solving puzzles:   5%|▌         | 50/1000 [00:01<00:41, 22.81it/s]"
     ]
    },
    {
     "name": "stderr",
     "output_type": "stream",
     "text": [
      "\r",
      "generating and solving puzzles:   5%|▌         | 53/1000 [00:02<00:41, 23.06it/s]"
     ]
    },
    {
     "name": "stderr",
     "output_type": "stream",
     "text": [
      "\r",
      "generating and solving puzzles:   6%|▌         | 56/1000 [00:02<00:39, 23.77it/s]"
     ]
    },
    {
     "name": "stderr",
     "output_type": "stream",
     "text": [
      "\r",
      "generating and solving puzzles:   6%|▌         | 59/1000 [00:02<00:39, 23.99it/s]"
     ]
    },
    {
     "name": "stderr",
     "output_type": "stream",
     "text": [
      "\r",
      "generating and solving puzzles:   6%|▌         | 62/1000 [00:02<00:40, 22.88it/s]"
     ]
    },
    {
     "name": "stderr",
     "output_type": "stream",
     "text": [
      "\r",
      "generating and solving puzzles:   6%|▋         | 65/1000 [00:02<00:38, 24.29it/s]"
     ]
    },
    {
     "name": "stderr",
     "output_type": "stream",
     "text": [
      "\r",
      "generating and solving puzzles:   7%|▋         | 68/1000 [00:02<00:36, 25.51it/s]"
     ]
    },
    {
     "name": "stderr",
     "output_type": "stream",
     "text": [
      "\r",
      "generating and solving puzzles:   7%|▋         | 71/1000 [00:02<00:38, 24.19it/s]"
     ]
    },
    {
     "name": "stderr",
     "output_type": "stream",
     "text": [
      "\r",
      "generating and solving puzzles:   7%|▋         | 74/1000 [00:02<00:40, 23.08it/s]"
     ]
    },
    {
     "name": "stderr",
     "output_type": "stream",
     "text": [
      "\r",
      "generating and solving puzzles:   8%|▊         | 77/1000 [00:03<00:41, 22.18it/s]"
     ]
    },
    {
     "name": "stderr",
     "output_type": "stream",
     "text": [
      "\r",
      "generating and solving puzzles:   8%|▊         | 80/1000 [00:03<00:42, 21.62it/s]"
     ]
    },
    {
     "name": "stderr",
     "output_type": "stream",
     "text": [
      "\r",
      "generating and solving puzzles:   8%|▊         | 83/1000 [00:03<00:40, 22.77it/s]"
     ]
    },
    {
     "name": "stderr",
     "output_type": "stream",
     "text": [
      "\r",
      "generating and solving puzzles:   9%|▊         | 87/1000 [00:03<00:35, 25.78it/s]"
     ]
    },
    {
     "name": "stderr",
     "output_type": "stream",
     "text": [
      "\r",
      "generating and solving puzzles:   9%|▉         | 90/1000 [00:03<00:38, 23.80it/s]"
     ]
    },
    {
     "name": "stderr",
     "output_type": "stream",
     "text": [
      "\r",
      "generating and solving puzzles:   9%|▉         | 93/1000 [00:03<00:39, 22.76it/s]"
     ]
    },
    {
     "name": "stderr",
     "output_type": "stream",
     "text": [
      "\r",
      "generating and solving puzzles:  10%|▉         | 96/1000 [00:03<00:37, 24.14it/s]"
     ]
    },
    {
     "name": "stderr",
     "output_type": "stream",
     "text": [
      "\r",
      "generating and solving puzzles:  10%|▉         | 99/1000 [00:03<00:37, 23.85it/s]"
     ]
    },
    {
     "name": "stderr",
     "output_type": "stream",
     "text": [
      "\r",
      "generating and solving puzzles:  10%|█         | 103/1000 [00:04<00:33, 27.12it/s]"
     ]
    },
    {
     "name": "stderr",
     "output_type": "stream",
     "text": [
      "\r",
      "generating and solving puzzles:  11%|█         | 106/1000 [00:04<00:32, 27.18it/s]"
     ]
    },
    {
     "name": "stderr",
     "output_type": "stream",
     "text": [
      "\r",
      "generating and solving puzzles:  11%|█         | 110/1000 [00:04<00:31, 28.66it/s]"
     ]
    },
    {
     "name": "stderr",
     "output_type": "stream",
     "text": [
      "\r",
      "generating and solving puzzles:  11%|█▏        | 114/1000 [00:04<00:30, 29.33it/s]"
     ]
    },
    {
     "name": "stderr",
     "output_type": "stream",
     "text": [
      "\r",
      "generating and solving puzzles:  12%|█▏        | 118/1000 [00:04<00:30, 28.55it/s]"
     ]
    },
    {
     "name": "stderr",
     "output_type": "stream",
     "text": [
      "\r",
      "generating and solving puzzles:  12%|█▏        | 121/1000 [00:04<00:32, 27.38it/s]"
     ]
    },
    {
     "name": "stderr",
     "output_type": "stream",
     "text": [
      "\r",
      "generating and solving puzzles:  12%|█▏        | 124/1000 [00:04<00:31, 28.06it/s]"
     ]
    },
    {
     "name": "stderr",
     "output_type": "stream",
     "text": [
      "\r",
      "generating and solving puzzles:  13%|█▎        | 127/1000 [00:04<00:34, 25.10it/s]"
     ]
    },
    {
     "name": "stderr",
     "output_type": "stream",
     "text": [
      "\r",
      "generating and solving puzzles:  13%|█▎        | 130/1000 [00:05<00:35, 24.63it/s]"
     ]
    },
    {
     "name": "stderr",
     "output_type": "stream",
     "text": [
      "\r",
      "generating and solving puzzles:  13%|█▎        | 133/1000 [00:05<00:35, 24.26it/s]"
     ]
    },
    {
     "name": "stderr",
     "output_type": "stream",
     "text": [
      "\r",
      "generating and solving puzzles:  14%|█▎        | 137/1000 [00:05<00:32, 26.75it/s]"
     ]
    },
    {
     "name": "stderr",
     "output_type": "stream",
     "text": [
      "\r",
      "generating and solving puzzles:  14%|█▍        | 140/1000 [00:05<00:33, 25.94it/s]"
     ]
    },
    {
     "name": "stderr",
     "output_type": "stream",
     "text": [
      "\r",
      "generating and solving puzzles:  14%|█▍        | 143/1000 [00:05<00:34, 25.16it/s]"
     ]
    },
    {
     "name": "stderr",
     "output_type": "stream",
     "text": [
      "\r",
      "generating and solving puzzles:  15%|█▍        | 146/1000 [00:05<00:36, 23.57it/s]"
     ]
    },
    {
     "name": "stderr",
     "output_type": "stream",
     "text": [
      "\r",
      "generating and solving puzzles:  15%|█▍        | 149/1000 [00:05<00:35, 23.69it/s]"
     ]
    },
    {
     "name": "stderr",
     "output_type": "stream",
     "text": [
      "\r",
      "generating and solving puzzles:  15%|█▌        | 152/1000 [00:05<00:37, 22.54it/s]"
     ]
    },
    {
     "name": "stderr",
     "output_type": "stream",
     "text": [
      "\r",
      "generating and solving puzzles:  16%|█▌        | 156/1000 [00:06<00:33, 25.09it/s]"
     ]
    },
    {
     "name": "stderr",
     "output_type": "stream",
     "text": [
      "\r",
      "generating and solving puzzles:  16%|█▌        | 159/1000 [00:06<00:34, 24.43it/s]"
     ]
    },
    {
     "name": "stderr",
     "output_type": "stream",
     "text": [
      "\r",
      "generating and solving puzzles:  16%|█▌        | 162/1000 [00:06<00:33, 25.35it/s]"
     ]
    },
    {
     "name": "stderr",
     "output_type": "stream",
     "text": [
      "\r",
      "generating and solving puzzles:  16%|█▋        | 165/1000 [00:06<00:32, 25.81it/s]"
     ]
    },
    {
     "name": "stderr",
     "output_type": "stream",
     "text": [
      "\r",
      "generating and solving puzzles:  17%|█▋        | 169/1000 [00:06<00:30, 27.63it/s]"
     ]
    },
    {
     "name": "stderr",
     "output_type": "stream",
     "text": [
      "\r",
      "generating and solving puzzles:  17%|█▋        | 173/1000 [00:06<00:27, 30.41it/s]"
     ]
    },
    {
     "name": "stderr",
     "output_type": "stream",
     "text": [
      "\r",
      "generating and solving puzzles:  18%|█▊        | 177/1000 [00:06<00:27, 29.61it/s]"
     ]
    },
    {
     "name": "stderr",
     "output_type": "stream",
     "text": [
      "\r",
      "generating and solving puzzles:  18%|█▊        | 181/1000 [00:07<00:30, 27.12it/s]"
     ]
    },
    {
     "name": "stderr",
     "output_type": "stream",
     "text": [
      "\r",
      "generating and solving puzzles:  18%|█▊        | 184/1000 [00:07<00:33, 24.50it/s]"
     ]
    },
    {
     "name": "stderr",
     "output_type": "stream",
     "text": [
      "\r",
      "generating and solving puzzles:  19%|█▉        | 188/1000 [00:07<00:31, 25.78it/s]"
     ]
    },
    {
     "name": "stderr",
     "output_type": "stream",
     "text": [
      "\r",
      "generating and solving puzzles:  19%|█▉        | 191/1000 [00:07<00:32, 25.21it/s]"
     ]
    },
    {
     "name": "stderr",
     "output_type": "stream",
     "text": [
      "\r",
      "generating and solving puzzles:  19%|█▉        | 194/1000 [00:07<00:33, 24.09it/s]"
     ]
    },
    {
     "name": "stderr",
     "output_type": "stream",
     "text": [
      "\r",
      "generating and solving puzzles:  20%|█▉        | 197/1000 [00:07<00:33, 23.80it/s]"
     ]
    },
    {
     "name": "stderr",
     "output_type": "stream",
     "text": [
      "\r",
      "generating and solving puzzles:  20%|██        | 201/1000 [00:07<00:31, 25.25it/s]"
     ]
    },
    {
     "name": "stderr",
     "output_type": "stream",
     "text": [
      "\r",
      "generating and solving puzzles:  20%|██        | 204/1000 [00:07<00:33, 24.10it/s]"
     ]
    },
    {
     "name": "stderr",
     "output_type": "stream",
     "text": [
      "\r",
      "generating and solving puzzles:  21%|██        | 209/1000 [00:08<00:28, 28.12it/s]"
     ]
    },
    {
     "name": "stderr",
     "output_type": "stream",
     "text": [
      "\r",
      "generating and solving puzzles:  21%|██▏       | 213/1000 [00:08<00:28, 27.76it/s]"
     ]
    },
    {
     "name": "stderr",
     "output_type": "stream",
     "text": [
      "\r",
      "generating and solving puzzles:  22%|██▏       | 216/1000 [00:08<00:29, 26.79it/s]"
     ]
    },
    {
     "name": "stderr",
     "output_type": "stream",
     "text": [
      "\r",
      "generating and solving puzzles:  22%|██▏       | 219/1000 [00:08<00:32, 24.23it/s]"
     ]
    },
    {
     "name": "stderr",
     "output_type": "stream",
     "text": [
      "\r",
      "generating and solving puzzles:  22%|██▏       | 222/1000 [00:08<00:30, 25.59it/s]"
     ]
    },
    {
     "name": "stderr",
     "output_type": "stream",
     "text": [
      "\r",
      "generating and solving puzzles:  22%|██▎       | 225/1000 [00:08<00:29, 26.67it/s]"
     ]
    },
    {
     "name": "stderr",
     "output_type": "stream",
     "text": [
      "\r",
      "generating and solving puzzles:  23%|██▎       | 228/1000 [00:08<00:31, 24.29it/s]"
     ]
    },
    {
     "name": "stderr",
     "output_type": "stream",
     "text": [
      "\r",
      "generating and solving puzzles:  23%|██▎       | 233/1000 [00:08<00:27, 27.65it/s]"
     ]
    },
    {
     "name": "stderr",
     "output_type": "stream",
     "text": [
      "\r",
      "generating and solving puzzles:  24%|██▎       | 237/1000 [00:09<00:30, 24.88it/s]"
     ]
    },
    {
     "name": "stderr",
     "output_type": "stream",
     "text": [
      "\r",
      "generating and solving puzzles:  24%|██▍       | 240/1000 [00:09<00:30, 24.85it/s]"
     ]
    },
    {
     "name": "stderr",
     "output_type": "stream",
     "text": [
      "\r",
      "generating and solving puzzles:  24%|██▍       | 243/1000 [00:09<00:30, 25.12it/s]"
     ]
    },
    {
     "name": "stderr",
     "output_type": "stream",
     "text": [
      "\r",
      "generating and solving puzzles:  25%|██▍       | 246/1000 [00:09<00:29, 25.88it/s]"
     ]
    },
    {
     "name": "stderr",
     "output_type": "stream",
     "text": [
      "\r",
      "generating and solving puzzles:  25%|██▍       | 249/1000 [00:09<00:29, 25.56it/s]"
     ]
    },
    {
     "name": "stderr",
     "output_type": "stream",
     "text": [
      "\r",
      "generating and solving puzzles:  25%|██▌       | 253/1000 [00:09<00:27, 26.81it/s]"
     ]
    },
    {
     "name": "stderr",
     "output_type": "stream",
     "text": [
      "\r",
      "generating and solving puzzles:  26%|██▌       | 256/1000 [00:09<00:28, 26.06it/s]"
     ]
    },
    {
     "name": "stderr",
     "output_type": "stream",
     "text": [
      "\r",
      "generating and solving puzzles:  26%|██▌       | 260/1000 [00:10<00:27, 26.92it/s]"
     ]
    },
    {
     "name": "stderr",
     "output_type": "stream",
     "text": [
      "\r",
      "generating and solving puzzles:  26%|██▋       | 264/1000 [00:10<00:26, 27.94it/s]"
     ]
    },
    {
     "name": "stderr",
     "output_type": "stream",
     "text": [
      "\r",
      "generating and solving puzzles:  27%|██▋       | 268/1000 [00:10<00:25, 28.97it/s]"
     ]
    },
    {
     "name": "stderr",
     "output_type": "stream",
     "text": [
      "\r",
      "generating and solving puzzles:  27%|██▋       | 271/1000 [00:10<00:25, 28.35it/s]"
     ]
    },
    {
     "name": "stderr",
     "output_type": "stream",
     "text": [
      "\r",
      "generating and solving puzzles:  27%|██▋       | 274/1000 [00:10<00:26, 27.62it/s]"
     ]
    },
    {
     "name": "stderr",
     "output_type": "stream",
     "text": [
      "\r",
      "generating and solving puzzles:  28%|██▊       | 277/1000 [00:10<00:26, 27.73it/s]"
     ]
    },
    {
     "name": "stderr",
     "output_type": "stream",
     "text": [
      "\r",
      "generating and solving puzzles:  28%|██▊       | 281/1000 [00:10<00:24, 29.06it/s]"
     ]
    },
    {
     "name": "stderr",
     "output_type": "stream",
     "text": [
      "\r",
      "generating and solving puzzles:  28%|██▊       | 284/1000 [00:10<00:26, 27.04it/s]"
     ]
    },
    {
     "name": "stderr",
     "output_type": "stream",
     "text": [
      "\r",
      "generating and solving puzzles:  29%|██▊       | 287/1000 [00:10<00:27, 26.04it/s]"
     ]
    },
    {
     "name": "stderr",
     "output_type": "stream",
     "text": [
      "\r",
      "generating and solving puzzles:  29%|██▉       | 291/1000 [00:11<00:24, 28.65it/s]"
     ]
    },
    {
     "name": "stderr",
     "output_type": "stream",
     "text": [
      "\r",
      "generating and solving puzzles:  29%|██▉       | 294/1000 [00:11<00:26, 26.81it/s]"
     ]
    },
    {
     "name": "stderr",
     "output_type": "stream",
     "text": [
      "\r",
      "generating and solving puzzles:  30%|██▉       | 297/1000 [00:11<00:28, 24.98it/s]"
     ]
    },
    {
     "name": "stderr",
     "output_type": "stream",
     "text": [
      "\r",
      "generating and solving puzzles:  30%|███       | 300/1000 [00:11<00:28, 24.94it/s]"
     ]
    },
    {
     "name": "stderr",
     "output_type": "stream",
     "text": [
      "\r",
      "generating and solving puzzles:  30%|███       | 303/1000 [00:11<00:29, 23.85it/s]"
     ]
    },
    {
     "name": "stderr",
     "output_type": "stream",
     "text": [
      "\r",
      "generating and solving puzzles:  31%|███       | 306/1000 [00:11<00:30, 22.65it/s]"
     ]
    },
    {
     "name": "stderr",
     "output_type": "stream",
     "text": [
      "\r",
      "generating and solving puzzles:  31%|███       | 309/1000 [00:11<00:30, 22.91it/s]"
     ]
    },
    {
     "name": "stderr",
     "output_type": "stream",
     "text": [
      "\r",
      "generating and solving puzzles:  31%|███       | 312/1000 [00:12<00:29, 23.65it/s]"
     ]
    },
    {
     "name": "stderr",
     "output_type": "stream",
     "text": [
      "\r",
      "generating and solving puzzles:  32%|███▏      | 315/1000 [00:12<00:27, 24.81it/s]"
     ]
    },
    {
     "name": "stderr",
     "output_type": "stream",
     "text": [
      "\r",
      "generating and solving puzzles:  32%|███▏      | 318/1000 [00:12<00:27, 24.41it/s]"
     ]
    },
    {
     "name": "stderr",
     "output_type": "stream",
     "text": [
      "\r",
      "generating and solving puzzles:  32%|███▏      | 321/1000 [00:12<00:26, 25.50it/s]"
     ]
    },
    {
     "name": "stderr",
     "output_type": "stream",
     "text": [
      "\r",
      "generating and solving puzzles:  32%|███▏      | 324/1000 [00:12<00:27, 24.35it/s]"
     ]
    },
    {
     "name": "stderr",
     "output_type": "stream",
     "text": [
      "\r",
      "generating and solving puzzles:  33%|███▎      | 328/1000 [00:12<00:25, 26.63it/s]"
     ]
    },
    {
     "name": "stderr",
     "output_type": "stream",
     "text": [
      "\r",
      "generating and solving puzzles:  33%|███▎      | 332/1000 [00:12<00:24, 27.80it/s]"
     ]
    },
    {
     "name": "stderr",
     "output_type": "stream",
     "text": [
      "\r",
      "generating and solving puzzles:  34%|███▎      | 335/1000 [00:12<00:25, 26.44it/s]"
     ]
    },
    {
     "name": "stderr",
     "output_type": "stream",
     "text": [
      "\r",
      "generating and solving puzzles:  34%|███▍      | 338/1000 [00:12<00:24, 26.80it/s]"
     ]
    },
    {
     "name": "stderr",
     "output_type": "stream",
     "text": [
      "\r",
      "generating and solving puzzles:  34%|███▍      | 341/1000 [00:13<00:25, 26.16it/s]"
     ]
    },
    {
     "name": "stderr",
     "output_type": "stream",
     "text": [
      "\r",
      "generating and solving puzzles:  34%|███▍      | 344/1000 [00:13<00:24, 27.03it/s]"
     ]
    },
    {
     "name": "stderr",
     "output_type": "stream",
     "text": [
      "\r",
      "generating and solving puzzles:  35%|███▍      | 347/1000 [00:13<00:26, 25.00it/s]"
     ]
    },
    {
     "name": "stderr",
     "output_type": "stream",
     "text": [
      "\r",
      "generating and solving puzzles:  35%|███▌      | 350/1000 [00:13<00:25, 25.16it/s]"
     ]
    },
    {
     "name": "stderr",
     "output_type": "stream",
     "text": [
      "\r",
      "generating and solving puzzles:  35%|███▌      | 353/1000 [00:13<00:25, 25.16it/s]"
     ]
    },
    {
     "name": "stderr",
     "output_type": "stream",
     "text": [
      "\r",
      "generating and solving puzzles:  36%|███▌      | 356/1000 [00:13<00:26, 24.20it/s]"
     ]
    },
    {
     "name": "stderr",
     "output_type": "stream",
     "text": [
      "\r",
      "generating and solving puzzles:  36%|███▌      | 359/1000 [00:13<00:25, 24.84it/s]"
     ]
    },
    {
     "name": "stderr",
     "output_type": "stream",
     "text": [
      "\r",
      "generating and solving puzzles:  36%|███▌      | 362/1000 [00:13<00:25, 24.61it/s]"
     ]
    },
    {
     "name": "stderr",
     "output_type": "stream",
     "text": [
      "\r",
      "generating and solving puzzles:  36%|███▋      | 365/1000 [00:14<00:27, 23.33it/s]"
     ]
    },
    {
     "name": "stderr",
     "output_type": "stream",
     "text": [
      "\r",
      "generating and solving puzzles:  37%|███▋      | 368/1000 [00:14<00:26, 23.76it/s]"
     ]
    },
    {
     "name": "stderr",
     "output_type": "stream",
     "text": [
      "\r",
      "generating and solving puzzles:  37%|███▋      | 371/1000 [00:14<00:27, 22.78it/s]"
     ]
    },
    {
     "name": "stderr",
     "output_type": "stream",
     "text": [
      "\r",
      "generating and solving puzzles:  37%|███▋      | 374/1000 [00:14<00:27, 22.44it/s]"
     ]
    },
    {
     "name": "stderr",
     "output_type": "stream",
     "text": [
      "\r",
      "generating and solving puzzles:  38%|███▊      | 377/1000 [00:14<00:26, 23.60it/s]"
     ]
    },
    {
     "name": "stderr",
     "output_type": "stream",
     "text": [
      "\r",
      "generating and solving puzzles:  38%|███▊      | 380/1000 [00:14<00:27, 22.65it/s]"
     ]
    },
    {
     "name": "stderr",
     "output_type": "stream",
     "text": [
      "\r",
      "generating and solving puzzles:  38%|███▊      | 383/1000 [00:14<00:26, 23.61it/s]"
     ]
    },
    {
     "name": "stderr",
     "output_type": "stream",
     "text": [
      "\r",
      "generating and solving puzzles:  39%|███▊      | 386/1000 [00:15<00:27, 22.73it/s]"
     ]
    },
    {
     "name": "stderr",
     "output_type": "stream",
     "text": [
      "\r",
      "generating and solving puzzles:  39%|███▉      | 389/1000 [00:15<00:25, 24.11it/s]"
     ]
    },
    {
     "name": "stderr",
     "output_type": "stream",
     "text": [
      "\r",
      "generating and solving puzzles:  39%|███▉      | 392/1000 [00:15<00:24, 25.30it/s]"
     ]
    },
    {
     "name": "stderr",
     "output_type": "stream",
     "text": [
      "\r",
      "generating and solving puzzles:  40%|███▉      | 395/1000 [00:15<00:25, 24.05it/s]"
     ]
    },
    {
     "name": "stderr",
     "output_type": "stream",
     "text": [
      "\r",
      "generating and solving puzzles:  40%|███▉      | 398/1000 [00:15<00:26, 23.03it/s]"
     ]
    },
    {
     "name": "stderr",
     "output_type": "stream",
     "text": [
      "\r",
      "generating and solving puzzles:  40%|████      | 401/1000 [00:15<00:24, 24.14it/s]"
     ]
    },
    {
     "name": "stderr",
     "output_type": "stream",
     "text": [
      "\r",
      "generating and solving puzzles:  40%|████      | 404/1000 [00:15<00:25, 23.00it/s]"
     ]
    },
    {
     "name": "stderr",
     "output_type": "stream",
     "text": [
      "\r",
      "generating and solving puzzles:  41%|████      | 407/1000 [00:15<00:26, 22.32it/s]"
     ]
    },
    {
     "name": "stderr",
     "output_type": "stream",
     "text": [
      "\r",
      "generating and solving puzzles:  41%|████      | 410/1000 [00:16<00:26, 22.23it/s]"
     ]
    },
    {
     "name": "stderr",
     "output_type": "stream",
     "text": [
      "\r",
      "generating and solving puzzles:  41%|████▏     | 413/1000 [00:16<00:26, 21.76it/s]"
     ]
    },
    {
     "name": "stderr",
     "output_type": "stream",
     "text": [
      "\r",
      "generating and solving puzzles:  42%|████▏     | 416/1000 [00:16<00:25, 22.78it/s]"
     ]
    },
    {
     "name": "stderr",
     "output_type": "stream",
     "text": [
      "\r",
      "generating and solving puzzles:  42%|████▏     | 419/1000 [00:16<00:24, 23.60it/s]"
     ]
    },
    {
     "name": "stderr",
     "output_type": "stream",
     "text": [
      "\r",
      "generating and solving puzzles:  42%|████▏     | 422/1000 [00:16<00:23, 25.06it/s]"
     ]
    },
    {
     "name": "stderr",
     "output_type": "stream",
     "text": [
      "\r",
      "generating and solving puzzles:  42%|████▎     | 425/1000 [00:16<00:22, 25.07it/s]"
     ]
    },
    {
     "name": "stderr",
     "output_type": "stream",
     "text": [
      "\r",
      "generating and solving puzzles:  43%|████▎     | 428/1000 [00:16<00:23, 24.01it/s]"
     ]
    },
    {
     "name": "stderr",
     "output_type": "stream",
     "text": [
      "\r",
      "generating and solving puzzles:  43%|████▎     | 432/1000 [00:16<00:20, 27.25it/s]"
     ]
    },
    {
     "name": "stderr",
     "output_type": "stream",
     "text": [
      "\r",
      "generating and solving puzzles:  44%|████▎     | 435/1000 [00:17<00:22, 25.00it/s]"
     ]
    },
    {
     "name": "stderr",
     "output_type": "stream",
     "text": [
      "\r",
      "generating and solving puzzles:  44%|████▍     | 438/1000 [00:17<00:22, 24.64it/s]"
     ]
    },
    {
     "name": "stderr",
     "output_type": "stream",
     "text": [
      "\r",
      "generating and solving puzzles:  44%|████▍     | 441/1000 [00:17<00:22, 25.40it/s]"
     ]
    },
    {
     "name": "stderr",
     "output_type": "stream",
     "text": [
      "\r",
      "generating and solving puzzles:  44%|████▍     | 444/1000 [00:17<00:23, 23.81it/s]"
     ]
    },
    {
     "name": "stderr",
     "output_type": "stream",
     "text": [
      "\r",
      "generating and solving puzzles:  45%|████▍     | 447/1000 [00:17<00:24, 22.84it/s]"
     ]
    },
    {
     "name": "stderr",
     "output_type": "stream",
     "text": [
      "\r",
      "generating and solving puzzles:  45%|████▌     | 450/1000 [00:17<00:23, 23.64it/s]"
     ]
    },
    {
     "name": "stderr",
     "output_type": "stream",
     "text": [
      "\r",
      "generating and solving puzzles:  45%|████▌     | 454/1000 [00:17<00:20, 26.51it/s]"
     ]
    },
    {
     "name": "stderr",
     "output_type": "stream",
     "text": [
      "\r",
      "generating and solving puzzles:  46%|████▌     | 457/1000 [00:17<00:20, 26.23it/s]"
     ]
    },
    {
     "name": "stderr",
     "output_type": "stream",
     "text": [
      "\r",
      "generating and solving puzzles:  46%|████▌     | 460/1000 [00:17<00:20, 26.18it/s]"
     ]
    },
    {
     "name": "stderr",
     "output_type": "stream",
     "text": [
      "\r",
      "generating and solving puzzles:  46%|████▋     | 463/1000 [00:18<00:22, 24.28it/s]"
     ]
    },
    {
     "name": "stderr",
     "output_type": "stream",
     "text": [
      "\r",
      "generating and solving puzzles:  47%|████▋     | 466/1000 [00:18<00:21, 24.55it/s]"
     ]
    },
    {
     "name": "stderr",
     "output_type": "stream",
     "text": [
      "\r",
      "generating and solving puzzles:  47%|████▋     | 469/1000 [00:18<00:22, 23.35it/s]"
     ]
    },
    {
     "name": "stderr",
     "output_type": "stream",
     "text": [
      "\r",
      "generating and solving puzzles:  47%|████▋     | 472/1000 [00:18<00:21, 24.44it/s]"
     ]
    },
    {
     "name": "stderr",
     "output_type": "stream",
     "text": [
      "\r",
      "generating and solving puzzles:  48%|████▊     | 475/1000 [00:18<00:22, 23.23it/s]"
     ]
    },
    {
     "name": "stderr",
     "output_type": "stream",
     "text": [
      "\r",
      "generating and solving puzzles:  48%|████▊     | 478/1000 [00:18<00:21, 24.56it/s]"
     ]
    },
    {
     "name": "stderr",
     "output_type": "stream",
     "text": [
      "\r",
      "generating and solving puzzles:  48%|████▊     | 481/1000 [00:18<00:22, 23.28it/s]"
     ]
    },
    {
     "name": "stderr",
     "output_type": "stream",
     "text": [
      "\r",
      "generating and solving puzzles:  48%|████▊     | 484/1000 [00:19<00:22, 22.65it/s]"
     ]
    },
    {
     "name": "stderr",
     "output_type": "stream",
     "text": [
      "\r",
      "generating and solving puzzles:  49%|████▊     | 487/1000 [00:19<00:21, 23.49it/s]"
     ]
    },
    {
     "name": "stderr",
     "output_type": "stream",
     "text": [
      "\r",
      "generating and solving puzzles:  49%|████▉     | 490/1000 [00:19<00:21, 23.37it/s]"
     ]
    },
    {
     "name": "stderr",
     "output_type": "stream",
     "text": [
      "\r",
      "generating and solving puzzles:  49%|████▉     | 493/1000 [00:19<00:21, 23.38it/s]"
     ]
    },
    {
     "name": "stderr",
     "output_type": "stream",
     "text": [
      "\r",
      "generating and solving puzzles:  50%|████▉     | 496/1000 [00:19<00:20, 24.69it/s]"
     ]
    },
    {
     "name": "stderr",
     "output_type": "stream",
     "text": [
      "\r",
      "generating and solving puzzles:  50%|████▉     | 499/1000 [00:19<00:19, 25.55it/s]"
     ]
    },
    {
     "name": "stderr",
     "output_type": "stream",
     "text": [
      "\r",
      "generating and solving puzzles:  50%|█████     | 502/1000 [00:19<00:20, 24.90it/s]"
     ]
    },
    {
     "name": "stderr",
     "output_type": "stream",
     "text": [
      "\r",
      "generating and solving puzzles:  50%|█████     | 505/1000 [00:19<00:20, 23.76it/s]"
     ]
    },
    {
     "name": "stderr",
     "output_type": "stream",
     "text": [
      "\r",
      "generating and solving puzzles:  51%|█████     | 508/1000 [00:20<00:21, 22.86it/s]"
     ]
    },
    {
     "name": "stderr",
     "output_type": "stream",
     "text": [
      "\r",
      "generating and solving puzzles:  51%|█████     | 511/1000 [00:20<00:20, 24.33it/s]"
     ]
    },
    {
     "name": "stderr",
     "output_type": "stream",
     "text": [
      "\r",
      "generating and solving puzzles:  51%|█████▏    | 514/1000 [00:20<00:19, 24.54it/s]"
     ]
    },
    {
     "name": "stderr",
     "output_type": "stream",
     "text": [
      "\r",
      "generating and solving puzzles:  52%|█████▏    | 517/1000 [00:20<00:20, 23.39it/s]"
     ]
    },
    {
     "name": "stderr",
     "output_type": "stream",
     "text": [
      "\r",
      "generating and solving puzzles:  52%|█████▏    | 520/1000 [00:20<00:20, 23.64it/s]"
     ]
    },
    {
     "name": "stderr",
     "output_type": "stream",
     "text": [
      "\r",
      "generating and solving puzzles:  52%|█████▏    | 523/1000 [00:20<00:20, 22.99it/s]"
     ]
    },
    {
     "name": "stderr",
     "output_type": "stream",
     "text": [
      "\r",
      "generating and solving puzzles:  53%|█████▎    | 526/1000 [00:20<00:21, 22.35it/s]"
     ]
    },
    {
     "name": "stderr",
     "output_type": "stream",
     "text": [
      "\r",
      "generating and solving puzzles:  53%|█████▎    | 529/1000 [00:20<00:20, 23.40it/s]"
     ]
    },
    {
     "name": "stderr",
     "output_type": "stream",
     "text": [
      "\r",
      "generating and solving puzzles:  53%|█████▎    | 532/1000 [00:21<00:20, 22.51it/s]"
     ]
    },
    {
     "name": "stderr",
     "output_type": "stream",
     "text": [
      "\r",
      "generating and solving puzzles:  54%|█████▎    | 535/1000 [00:21<00:19, 23.31it/s]"
     ]
    },
    {
     "name": "stderr",
     "output_type": "stream",
     "text": [
      "\r",
      "generating and solving puzzles:  54%|█████▍    | 538/1000 [00:21<00:19, 23.99it/s]"
     ]
    },
    {
     "name": "stderr",
     "output_type": "stream",
     "text": [
      "\r",
      "generating and solving puzzles:  54%|█████▍    | 542/1000 [00:21<00:17, 25.59it/s]"
     ]
    },
    {
     "name": "stderr",
     "output_type": "stream",
     "text": [
      "\r",
      "generating and solving puzzles:  55%|█████▍    | 547/1000 [00:21<00:15, 28.90it/s]"
     ]
    },
    {
     "name": "stderr",
     "output_type": "stream",
     "text": [
      "\r",
      "generating and solving puzzles:  55%|█████▌    | 551/1000 [00:21<00:15, 28.11it/s]"
     ]
    },
    {
     "name": "stderr",
     "output_type": "stream",
     "text": [
      "\r",
      "generating and solving puzzles:  55%|█████▌    | 554/1000 [00:21<00:17, 25.43it/s]"
     ]
    },
    {
     "name": "stderr",
     "output_type": "stream",
     "text": [
      "\r",
      "generating and solving puzzles:  56%|█████▌    | 557/1000 [00:22<00:18, 23.90it/s]"
     ]
    },
    {
     "name": "stderr",
     "output_type": "stream",
     "text": [
      "\r",
      "generating and solving puzzles:  56%|█████▌    | 560/1000 [00:22<00:19, 22.94it/s]"
     ]
    },
    {
     "name": "stderr",
     "output_type": "stream",
     "text": [
      "\r",
      "generating and solving puzzles:  56%|█████▋    | 563/1000 [00:22<00:19, 22.27it/s]"
     ]
    },
    {
     "name": "stderr",
     "output_type": "stream",
     "text": [
      "\r",
      "generating and solving puzzles:  57%|█████▋    | 566/1000 [00:22<00:19, 21.82it/s]"
     ]
    },
    {
     "name": "stderr",
     "output_type": "stream",
     "text": [
      "\r",
      "generating and solving puzzles:  57%|█████▋    | 569/1000 [00:22<00:20, 21.52it/s]"
     ]
    },
    {
     "name": "stderr",
     "output_type": "stream",
     "text": [
      "\r",
      "generating and solving puzzles:  57%|█████▋    | 572/1000 [00:22<00:20, 21.32it/s]"
     ]
    },
    {
     "name": "stderr",
     "output_type": "stream",
     "text": [
      "\r",
      "generating and solving puzzles:  57%|█████▊    | 575/1000 [00:22<00:18, 22.81it/s]"
     ]
    },
    {
     "name": "stderr",
     "output_type": "stream",
     "text": [
      "\r",
      "generating and solving puzzles:  58%|█████▊    | 578/1000 [00:22<00:18, 22.63it/s]"
     ]
    },
    {
     "name": "stderr",
     "output_type": "stream",
     "text": [
      "\r",
      "generating and solving puzzles:  58%|█████▊    | 581/1000 [00:23<00:18, 22.44it/s]"
     ]
    },
    {
     "name": "stderr",
     "output_type": "stream",
     "text": [
      "\r",
      "generating and solving puzzles:  58%|█████▊    | 584/1000 [00:23<00:17, 23.66it/s]"
     ]
    },
    {
     "name": "stderr",
     "output_type": "stream",
     "text": [
      "\r",
      "generating and solving puzzles:  59%|█████▊    | 587/1000 [00:23<00:17, 24.22it/s]"
     ]
    },
    {
     "name": "stderr",
     "output_type": "stream",
     "text": [
      "\r",
      "generating and solving puzzles:  59%|█████▉    | 591/1000 [00:23<00:15, 26.98it/s]"
     ]
    },
    {
     "name": "stderr",
     "output_type": "stream",
     "text": [
      "\r",
      "generating and solving puzzles:  60%|█████▉    | 595/1000 [00:23<00:13, 29.32it/s]"
     ]
    },
    {
     "name": "stderr",
     "output_type": "stream",
     "text": [
      "\r",
      "generating and solving puzzles:  60%|█████▉    | 599/1000 [00:23<00:14, 28.00it/s]"
     ]
    },
    {
     "name": "stderr",
     "output_type": "stream",
     "text": [
      "\r",
      "generating and solving puzzles:  60%|██████    | 602/1000 [00:23<00:15, 25.40it/s]"
     ]
    },
    {
     "name": "stderr",
     "output_type": "stream",
     "text": [
      "\r",
      "generating and solving puzzles:  60%|██████    | 605/1000 [00:23<00:15, 25.52it/s]"
     ]
    },
    {
     "name": "stderr",
     "output_type": "stream",
     "text": [
      "\r",
      "generating and solving puzzles:  61%|██████    | 608/1000 [00:24<00:15, 25.90it/s]"
     ]
    },
    {
     "name": "stderr",
     "output_type": "stream",
     "text": [
      "\r",
      "generating and solving puzzles:  61%|██████    | 611/1000 [00:24<00:16, 24.10it/s]"
     ]
    },
    {
     "name": "stderr",
     "output_type": "stream",
     "text": [
      "\r",
      "generating and solving puzzles:  61%|██████▏   | 614/1000 [00:24<00:16, 22.93it/s]"
     ]
    },
    {
     "name": "stderr",
     "output_type": "stream",
     "text": [
      "\r",
      "generating and solving puzzles:  62%|██████▏   | 617/1000 [00:24<00:16, 23.20it/s]"
     ]
    },
    {
     "name": "stderr",
     "output_type": "stream",
     "text": [
      "\r",
      "generating and solving puzzles:  62%|██████▏   | 620/1000 [00:24<00:16, 23.48it/s]"
     ]
    },
    {
     "name": "stderr",
     "output_type": "stream",
     "text": [
      "\r",
      "generating and solving puzzles:  62%|██████▏   | 623/1000 [00:24<00:16, 22.67it/s]"
     ]
    },
    {
     "name": "stderr",
     "output_type": "stream",
     "text": [
      "\r",
      "generating and solving puzzles:  63%|██████▎   | 626/1000 [00:24<00:15, 23.41it/s]"
     ]
    },
    {
     "name": "stderr",
     "output_type": "stream",
     "text": [
      "\r",
      "generating and solving puzzles:  63%|██████▎   | 629/1000 [00:24<00:15, 24.04it/s]"
     ]
    },
    {
     "name": "stderr",
     "output_type": "stream",
     "text": [
      "\r",
      "generating and solving puzzles:  63%|██████▎   | 632/1000 [00:25<00:15, 23.03it/s]"
     ]
    },
    {
     "name": "stderr",
     "output_type": "stream",
     "text": [
      "\r",
      "generating and solving puzzles:  64%|██████▎   | 635/1000 [00:25<00:16, 22.38it/s]"
     ]
    },
    {
     "name": "stderr",
     "output_type": "stream",
     "text": [
      "\r",
      "generating and solving puzzles:  64%|██████▍   | 638/1000 [00:25<00:16, 21.95it/s]"
     ]
    },
    {
     "name": "stderr",
     "output_type": "stream",
     "text": [
      "\r",
      "generating and solving puzzles:  64%|██████▍   | 641/1000 [00:25<00:15, 22.96it/s]"
     ]
    },
    {
     "name": "stderr",
     "output_type": "stream",
     "text": [
      "\r",
      "generating and solving puzzles:  64%|██████▍   | 644/1000 [00:25<00:15, 22.33it/s]"
     ]
    },
    {
     "name": "stderr",
     "output_type": "stream",
     "text": [
      "\r",
      "generating and solving puzzles:  65%|██████▍   | 647/1000 [00:25<00:16, 21.97it/s]"
     ]
    },
    {
     "name": "stderr",
     "output_type": "stream",
     "text": [
      "\r",
      "generating and solving puzzles:  65%|██████▌   | 650/1000 [00:25<00:15, 22.26it/s]"
     ]
    },
    {
     "name": "stderr",
     "output_type": "stream",
     "text": [
      "\r",
      "generating and solving puzzles:  65%|██████▌   | 653/1000 [00:26<00:15, 21.81it/s]"
     ]
    },
    {
     "name": "stderr",
     "output_type": "stream",
     "text": [
      "\r",
      "generating and solving puzzles:  66%|██████▌   | 656/1000 [00:26<00:15, 22.84it/s]"
     ]
    },
    {
     "name": "stderr",
     "output_type": "stream",
     "text": [
      "\r",
      "generating and solving puzzles:  66%|██████▌   | 660/1000 [00:26<00:13, 25.64it/s]"
     ]
    },
    {
     "name": "stderr",
     "output_type": "stream",
     "text": [
      "\r",
      "generating and solving puzzles:  66%|██████▋   | 663/1000 [00:26<00:13, 24.95it/s]"
     ]
    },
    {
     "name": "stderr",
     "output_type": "stream",
     "text": [
      "\r",
      "generating and solving puzzles:  67%|██████▋   | 667/1000 [00:26<00:12, 25.83it/s]"
     ]
    },
    {
     "name": "stderr",
     "output_type": "stream",
     "text": [
      "\r",
      "generating and solving puzzles:  67%|██████▋   | 670/1000 [00:26<00:13, 24.42it/s]"
     ]
    },
    {
     "name": "stderr",
     "output_type": "stream",
     "text": [
      "\r",
      "generating and solving puzzles:  67%|██████▋   | 674/1000 [00:26<00:12, 26.99it/s]"
     ]
    },
    {
     "name": "stderr",
     "output_type": "stream",
     "text": [
      "\r",
      "generating and solving puzzles:  68%|██████▊   | 677/1000 [00:26<00:11, 27.62it/s]"
     ]
    },
    {
     "name": "stderr",
     "output_type": "stream",
     "text": [
      "\r",
      "generating and solving puzzles:  68%|██████▊   | 680/1000 [00:27<00:12, 26.26it/s]"
     ]
    },
    {
     "name": "stderr",
     "output_type": "stream",
     "text": [
      "\r",
      "generating and solving puzzles:  68%|██████▊   | 683/1000 [00:27<00:13, 24.21it/s]"
     ]
    },
    {
     "name": "stderr",
     "output_type": "stream",
     "text": [
      "\r",
      "generating and solving puzzles:  69%|██████▊   | 686/1000 [00:27<00:12, 25.35it/s]"
     ]
    },
    {
     "name": "stderr",
     "output_type": "stream",
     "text": [
      "\r",
      "generating and solving puzzles:  69%|██████▉   | 689/1000 [00:27<00:13, 23.75it/s]"
     ]
    },
    {
     "name": "stderr",
     "output_type": "stream",
     "text": [
      "\r",
      "generating and solving puzzles:  69%|██████▉   | 692/1000 [00:27<00:13, 22.87it/s]"
     ]
    },
    {
     "name": "stderr",
     "output_type": "stream",
     "text": [
      "\r",
      "generating and solving puzzles:  70%|██████▉   | 695/1000 [00:27<00:13, 21.97it/s]"
     ]
    },
    {
     "name": "stderr",
     "output_type": "stream",
     "text": [
      "\r",
      "generating and solving puzzles:  70%|██████▉   | 698/1000 [00:27<00:13, 22.17it/s]"
     ]
    },
    {
     "name": "stderr",
     "output_type": "stream",
     "text": [
      "\r",
      "generating and solving puzzles:  70%|███████   | 701/1000 [00:28<00:13, 22.61it/s]"
     ]
    },
    {
     "name": "stderr",
     "output_type": "stream",
     "text": [
      "\r",
      "generating and solving puzzles:  70%|███████   | 704/1000 [00:28<00:13, 22.10it/s]"
     ]
    },
    {
     "name": "stderr",
     "output_type": "stream",
     "text": [
      "\r",
      "generating and solving puzzles:  71%|███████   | 707/1000 [00:28<00:13, 22.09it/s]"
     ]
    },
    {
     "name": "stderr",
     "output_type": "stream",
     "text": [
      "\r",
      "generating and solving puzzles:  71%|███████   | 710/1000 [00:28<00:13, 21.75it/s]"
     ]
    },
    {
     "name": "stderr",
     "output_type": "stream",
     "text": [
      "\r",
      "generating and solving puzzles:  71%|███████▏  | 713/1000 [00:28<00:12, 22.79it/s]"
     ]
    },
    {
     "name": "stderr",
     "output_type": "stream",
     "text": [
      "\r",
      "generating and solving puzzles:  72%|███████▏  | 716/1000 [00:28<00:11, 24.22it/s]"
     ]
    },
    {
     "name": "stderr",
     "output_type": "stream",
     "text": [
      "\r",
      "generating and solving puzzles:  72%|███████▏  | 720/1000 [00:28<00:10, 26.21it/s]"
     ]
    },
    {
     "name": "stderr",
     "output_type": "stream",
     "text": [
      "\r",
      "generating and solving puzzles:  72%|███████▏  | 724/1000 [00:28<00:10, 27.13it/s]"
     ]
    },
    {
     "name": "stderr",
     "output_type": "stream",
     "text": [
      "\r",
      "generating and solving puzzles:  73%|███████▎  | 727/1000 [00:29<00:10, 26.78it/s]"
     ]
    },
    {
     "name": "stderr",
     "output_type": "stream",
     "text": [
      "\r",
      "generating and solving puzzles:  73%|███████▎  | 730/1000 [00:29<00:09, 27.44it/s]"
     ]
    },
    {
     "name": "stderr",
     "output_type": "stream",
     "text": [
      "\r",
      "generating and solving puzzles:  73%|███████▎  | 733/1000 [00:29<00:10, 26.53it/s]"
     ]
    },
    {
     "name": "stderr",
     "output_type": "stream",
     "text": [
      "\r",
      "generating and solving puzzles:  74%|███████▎  | 736/1000 [00:29<00:09, 27.19it/s]"
     ]
    },
    {
     "name": "stderr",
     "output_type": "stream",
     "text": [
      "\r",
      "generating and solving puzzles:  74%|███████▍  | 739/1000 [00:29<00:09, 27.14it/s]"
     ]
    },
    {
     "name": "stderr",
     "output_type": "stream",
     "text": [
      "\r",
      "generating and solving puzzles:  74%|███████▍  | 742/1000 [00:29<00:10, 24.92it/s]"
     ]
    },
    {
     "name": "stderr",
     "output_type": "stream",
     "text": [
      "\r",
      "generating and solving puzzles:  74%|███████▍  | 745/1000 [00:29<00:10, 23.57it/s]"
     ]
    },
    {
     "name": "stderr",
     "output_type": "stream",
     "text": [
      "\r",
      "generating and solving puzzles:  75%|███████▍  | 748/1000 [00:29<00:10, 24.88it/s]"
     ]
    },
    {
     "name": "stderr",
     "output_type": "stream",
     "text": [
      "\r",
      "generating and solving puzzles:  75%|███████▌  | 751/1000 [00:29<00:09, 25.06it/s]"
     ]
    },
    {
     "name": "stderr",
     "output_type": "stream",
     "text": [
      "\r",
      "generating and solving puzzles:  75%|███████▌  | 754/1000 [00:30<00:09, 25.92it/s]"
     ]
    },
    {
     "name": "stderr",
     "output_type": "stream",
     "text": [
      "\r",
      "generating and solving puzzles:  76%|███████▌  | 757/1000 [00:30<00:09, 25.63it/s]"
     ]
    },
    {
     "name": "stderr",
     "output_type": "stream",
     "text": [
      "\r",
      "generating and solving puzzles:  76%|███████▌  | 760/1000 [00:30<00:09, 24.49it/s]"
     ]
    },
    {
     "name": "stderr",
     "output_type": "stream",
     "text": [
      "\r",
      "generating and solving puzzles:  76%|███████▋  | 763/1000 [00:30<00:10, 23.32it/s]"
     ]
    },
    {
     "name": "stderr",
     "output_type": "stream",
     "text": [
      "\r",
      "generating and solving puzzles:  77%|███████▋  | 766/1000 [00:30<00:10, 22.55it/s]"
     ]
    },
    {
     "name": "stderr",
     "output_type": "stream",
     "text": [
      "\r",
      "generating and solving puzzles:  77%|███████▋  | 769/1000 [00:30<00:10, 22.01it/s]"
     ]
    },
    {
     "name": "stderr",
     "output_type": "stream",
     "text": [
      "\r",
      "generating and solving puzzles:  77%|███████▋  | 772/1000 [00:30<00:10, 21.63it/s]"
     ]
    },
    {
     "name": "stderr",
     "output_type": "stream",
     "text": [
      "\r",
      "generating and solving puzzles:  78%|███████▊  | 775/1000 [00:31<00:10, 22.23it/s]"
     ]
    },
    {
     "name": "stderr",
     "output_type": "stream",
     "text": [
      "\r",
      "generating and solving puzzles:  78%|███████▊  | 778/1000 [00:31<00:10, 21.81it/s]"
     ]
    },
    {
     "name": "stderr",
     "output_type": "stream",
     "text": [
      "\r",
      "generating and solving puzzles:  78%|███████▊  | 781/1000 [00:31<00:09, 23.32it/s]"
     ]
    },
    {
     "name": "stderr",
     "output_type": "stream",
     "text": [
      "\r",
      "generating and solving puzzles:  78%|███████▊  | 785/1000 [00:31<00:08, 26.01it/s]"
     ]
    },
    {
     "name": "stderr",
     "output_type": "stream",
     "text": [
      "\r",
      "generating and solving puzzles:  79%|███████▉  | 788/1000 [00:31<00:08, 24.17it/s]"
     ]
    },
    {
     "name": "stderr",
     "output_type": "stream",
     "text": [
      "\r",
      "generating and solving puzzles:  79%|███████▉  | 791/1000 [00:31<00:08, 24.99it/s]"
     ]
    },
    {
     "name": "stderr",
     "output_type": "stream",
     "text": [
      "\r",
      "generating and solving puzzles:  80%|███████▉  | 795/1000 [00:31<00:07, 27.24it/s]"
     ]
    },
    {
     "name": "stderr",
     "output_type": "stream",
     "text": [
      "\r",
      "generating and solving puzzles:  80%|███████▉  | 798/1000 [00:31<00:08, 24.94it/s]"
     ]
    },
    {
     "name": "stderr",
     "output_type": "stream",
     "text": [
      "\r",
      "generating and solving puzzles:  80%|████████  | 801/1000 [00:32<00:08, 24.17it/s]"
     ]
    },
    {
     "name": "stderr",
     "output_type": "stream",
     "text": [
      "\r",
      "generating and solving puzzles:  80%|████████  | 804/1000 [00:32<00:07, 24.65it/s]"
     ]
    },
    {
     "name": "stderr",
     "output_type": "stream",
     "text": [
      "\r",
      "generating and solving puzzles:  81%|████████  | 807/1000 [00:32<00:08, 23.34it/s]"
     ]
    },
    {
     "name": "stderr",
     "output_type": "stream",
     "text": [
      "\r",
      "generating and solving puzzles:  81%|████████  | 812/1000 [00:32<00:07, 26.04it/s]"
     ]
    },
    {
     "name": "stderr",
     "output_type": "stream",
     "text": [
      "\r",
      "generating and solving puzzles:  82%|████████▏ | 817/1000 [00:32<00:06, 28.14it/s]"
     ]
    },
    {
     "name": "stderr",
     "output_type": "stream",
     "text": [
      "\r",
      "generating and solving puzzles:  82%|████████▏ | 820/1000 [00:32<00:06, 27.10it/s]"
     ]
    },
    {
     "name": "stderr",
     "output_type": "stream",
     "text": [
      "\r",
      "generating and solving puzzles:  82%|████████▏ | 823/1000 [00:32<00:07, 24.74it/s]"
     ]
    },
    {
     "name": "stderr",
     "output_type": "stream",
     "text": [
      "\r",
      "generating and solving puzzles:  83%|████████▎ | 826/1000 [00:33<00:07, 24.60it/s]"
     ]
    },
    {
     "name": "stderr",
     "output_type": "stream",
     "text": [
      "\r",
      "generating and solving puzzles:  83%|████████▎ | 830/1000 [00:33<00:06, 25.86it/s]"
     ]
    },
    {
     "name": "stderr",
     "output_type": "stream",
     "text": [
      "\r",
      "generating and solving puzzles:  83%|████████▎ | 833/1000 [00:33<00:06, 25.43it/s]"
     ]
    },
    {
     "name": "stderr",
     "output_type": "stream",
     "text": [
      "\r",
      "generating and solving puzzles:  84%|████████▎ | 836/1000 [00:33<00:06, 26.51it/s]"
     ]
    },
    {
     "name": "stderr",
     "output_type": "stream",
     "text": [
      "\r",
      "generating and solving puzzles:  84%|████████▍ | 839/1000 [00:33<00:06, 24.54it/s]"
     ]
    },
    {
     "name": "stderr",
     "output_type": "stream",
     "text": [
      "\r",
      "generating and solving puzzles:  84%|████████▍ | 842/1000 [00:33<00:06, 23.97it/s]"
     ]
    },
    {
     "name": "stderr",
     "output_type": "stream",
     "text": [
      "\r",
      "generating and solving puzzles:  84%|████████▍ | 845/1000 [00:33<00:06, 23.75it/s]"
     ]
    },
    {
     "name": "stderr",
     "output_type": "stream",
     "text": [
      "\r",
      "generating and solving puzzles:  85%|████████▍ | 848/1000 [00:33<00:06, 24.26it/s]"
     ]
    },
    {
     "name": "stderr",
     "output_type": "stream",
     "text": [
      "\r",
      "generating and solving puzzles:  85%|████████▌ | 851/1000 [00:34<00:06, 24.53it/s]"
     ]
    },
    {
     "name": "stderr",
     "output_type": "stream",
     "text": [
      "\r",
      "generating and solving puzzles:  85%|████████▌ | 854/1000 [00:34<00:05, 25.28it/s]"
     ]
    },
    {
     "name": "stderr",
     "output_type": "stream",
     "text": [
      "\r",
      "generating and solving puzzles:  86%|████████▌ | 857/1000 [00:34<00:05, 25.38it/s]"
     ]
    },
    {
     "name": "stderr",
     "output_type": "stream",
     "text": [
      "\r",
      "generating and solving puzzles:  86%|████████▌ | 860/1000 [00:34<00:05, 24.15it/s]"
     ]
    },
    {
     "name": "stderr",
     "output_type": "stream",
     "text": [
      "\r",
      "generating and solving puzzles:  86%|████████▋ | 863/1000 [00:34<00:05, 23.09it/s]"
     ]
    },
    {
     "name": "stderr",
     "output_type": "stream",
     "text": [
      "\r",
      "generating and solving puzzles:  87%|████████▋ | 866/1000 [00:34<00:05, 24.07it/s]"
     ]
    },
    {
     "name": "stderr",
     "output_type": "stream",
     "text": [
      "\r",
      "generating and solving puzzles:  87%|████████▋ | 869/1000 [00:34<00:05, 24.50it/s]"
     ]
    },
    {
     "name": "stderr",
     "output_type": "stream",
     "text": [
      "\r",
      "generating and solving puzzles:  87%|████████▋ | 872/1000 [00:34<00:05, 24.57it/s]"
     ]
    },
    {
     "name": "stderr",
     "output_type": "stream",
     "text": [
      "\r",
      "generating and solving puzzles:  88%|████████▊ | 875/1000 [00:35<00:05, 23.48it/s]"
     ]
    },
    {
     "name": "stderr",
     "output_type": "stream",
     "text": [
      "\r",
      "generating and solving puzzles:  88%|████████▊ | 878/1000 [00:35<00:04, 24.99it/s]"
     ]
    },
    {
     "name": "stderr",
     "output_type": "stream",
     "text": [
      "\r",
      "generating and solving puzzles:  88%|████████▊ | 881/1000 [00:35<00:04, 25.99it/s]"
     ]
    },
    {
     "name": "stderr",
     "output_type": "stream",
     "text": [
      "\r",
      "generating and solving puzzles:  88%|████████▊ | 884/1000 [00:35<00:04, 25.95it/s]"
     ]
    },
    {
     "name": "stderr",
     "output_type": "stream",
     "text": [
      "\r",
      "generating and solving puzzles:  89%|████████▊ | 887/1000 [00:35<00:04, 25.75it/s]"
     ]
    },
    {
     "name": "stderr",
     "output_type": "stream",
     "text": [
      "\r",
      "generating and solving puzzles:  89%|████████▉ | 892/1000 [00:35<00:03, 28.55it/s]"
     ]
    },
    {
     "name": "stderr",
     "output_type": "stream",
     "text": [
      "\r",
      "generating and solving puzzles:  90%|████████▉ | 895/1000 [00:35<00:04, 26.01it/s]"
     ]
    },
    {
     "name": "stderr",
     "output_type": "stream",
     "text": [
      "\r",
      "generating and solving puzzles:  90%|████████▉ | 899/1000 [00:35<00:03, 26.98it/s]"
     ]
    },
    {
     "name": "stderr",
     "output_type": "stream",
     "text": [
      "\r",
      "generating and solving puzzles:  90%|█████████ | 902/1000 [00:35<00:03, 27.63it/s]"
     ]
    },
    {
     "name": "stderr",
     "output_type": "stream",
     "text": [
      "\r",
      "generating and solving puzzles:  90%|█████████ | 905/1000 [00:36<00:03, 27.82it/s]"
     ]
    },
    {
     "name": "stderr",
     "output_type": "stream",
     "text": [
      "\r",
      "generating and solving puzzles:  91%|█████████ | 908/1000 [00:36<00:03, 25.35it/s]"
     ]
    },
    {
     "name": "stderr",
     "output_type": "stream",
     "text": [
      "\r",
      "generating and solving puzzles:  91%|█████████▏| 914/1000 [00:36<00:02, 29.78it/s]"
     ]
    },
    {
     "name": "stderr",
     "output_type": "stream",
     "text": [
      "\r",
      "generating and solving puzzles:  92%|█████████▏| 918/1000 [00:36<00:03, 26.54it/s]"
     ]
    },
    {
     "name": "stderr",
     "output_type": "stream",
     "text": [
      "\r",
      "generating and solving puzzles:  92%|█████████▏| 922/1000 [00:36<00:02, 27.43it/s]"
     ]
    },
    {
     "name": "stderr",
     "output_type": "stream",
     "text": [
      "\r",
      "generating and solving puzzles:  92%|█████████▎| 925/1000 [00:36<00:02, 25.95it/s]"
     ]
    },
    {
     "name": "stderr",
     "output_type": "stream",
     "text": [
      "\r",
      "generating and solving puzzles:  93%|█████████▎| 928/1000 [00:36<00:02, 26.14it/s]"
     ]
    },
    {
     "name": "stderr",
     "output_type": "stream",
     "text": [
      "\r",
      "generating and solving puzzles:  93%|█████████▎| 931/1000 [00:37<00:02, 24.81it/s]"
     ]
    },
    {
     "name": "stderr",
     "output_type": "stream",
     "text": [
      "\r",
      "generating and solving puzzles:  93%|█████████▎| 934/1000 [00:37<00:02, 25.53it/s]"
     ]
    },
    {
     "name": "stderr",
     "output_type": "stream",
     "text": [
      "\r",
      "generating and solving puzzles:  94%|█████████▍| 938/1000 [00:37<00:02, 27.05it/s]"
     ]
    },
    {
     "name": "stderr",
     "output_type": "stream",
     "text": [
      "\r",
      "generating and solving puzzles:  94%|█████████▍| 941/1000 [00:37<00:02, 27.50it/s]"
     ]
    },
    {
     "name": "stderr",
     "output_type": "stream",
     "text": [
      "\r",
      "generating and solving puzzles:  94%|█████████▍| 944/1000 [00:37<00:02, 25.27it/s]"
     ]
    },
    {
     "name": "stderr",
     "output_type": "stream",
     "text": [
      "\r",
      "generating and solving puzzles:  95%|█████████▍| 947/1000 [00:37<00:02, 23.74it/s]"
     ]
    },
    {
     "name": "stderr",
     "output_type": "stream",
     "text": [
      "\r",
      "generating and solving puzzles:  95%|█████████▌| 950/1000 [00:37<00:02, 24.92it/s]"
     ]
    },
    {
     "name": "stderr",
     "output_type": "stream",
     "text": [
      "\r",
      "generating and solving puzzles:  95%|█████████▌| 953/1000 [00:37<00:01, 24.90it/s]"
     ]
    },
    {
     "name": "stderr",
     "output_type": "stream",
     "text": [
      "\r",
      "generating and solving puzzles:  96%|█████████▌| 956/1000 [00:38<00:01, 23.65it/s]"
     ]
    },
    {
     "name": "stderr",
     "output_type": "stream",
     "text": [
      "\r",
      "generating and solving puzzles:  96%|█████████▌| 960/1000 [00:38<00:01, 26.55it/s]"
     ]
    },
    {
     "name": "stderr",
     "output_type": "stream",
     "text": [
      "\r",
      "generating and solving puzzles:  96%|█████████▋| 963/1000 [00:38<00:01, 24.58it/s]"
     ]
    },
    {
     "name": "stderr",
     "output_type": "stream",
     "text": [
      "\r",
      "generating and solving puzzles:  97%|█████████▋| 966/1000 [00:38<00:01, 24.75it/s]"
     ]
    },
    {
     "name": "stderr",
     "output_type": "stream",
     "text": [
      "\r",
      "generating and solving puzzles:  97%|█████████▋| 969/1000 [00:38<00:01, 23.79it/s]"
     ]
    },
    {
     "name": "stderr",
     "output_type": "stream",
     "text": [
      "\r",
      "generating and solving puzzles:  97%|█████████▋| 972/1000 [00:38<00:01, 25.11it/s]"
     ]
    },
    {
     "name": "stderr",
     "output_type": "stream",
     "text": [
      "\r",
      "generating and solving puzzles:  98%|█████████▊| 975/1000 [00:38<00:01, 23.61it/s]"
     ]
    },
    {
     "name": "stderr",
     "output_type": "stream",
     "text": [
      "\r",
      "generating and solving puzzles:  98%|█████████▊| 978/1000 [00:38<00:00, 23.43it/s]"
     ]
    },
    {
     "name": "stderr",
     "output_type": "stream",
     "text": [
      "\r",
      "generating and solving puzzles:  98%|█████████▊| 981/1000 [00:39<00:00, 22.81it/s]"
     ]
    },
    {
     "name": "stderr",
     "output_type": "stream",
     "text": [
      "\r",
      "generating and solving puzzles:  98%|█████████▊| 984/1000 [00:39<00:00, 23.97it/s]"
     ]
    },
    {
     "name": "stderr",
     "output_type": "stream",
     "text": [
      "\r",
      "generating and solving puzzles:  99%|█████████▉| 988/1000 [00:39<00:00, 26.37it/s]"
     ]
    },
    {
     "name": "stderr",
     "output_type": "stream",
     "text": [
      "\r",
      "generating and solving puzzles:  99%|█████████▉| 991/1000 [00:39<00:00, 24.53it/s]"
     ]
    },
    {
     "name": "stderr",
     "output_type": "stream",
     "text": [
      "\r",
      "generating and solving puzzles:  99%|█████████▉| 994/1000 [00:39<00:00, 24.15it/s]"
     ]
    },
    {
     "name": "stderr",
     "output_type": "stream",
     "text": [
      "\r",
      "generating and solving puzzles: 100%|█████████▉| 997/1000 [00:39<00:00, 24.35it/s]"
     ]
    },
    {
     "name": "stderr",
     "output_type": "stream",
     "text": [
      "\r",
      "generating and solving puzzles: 100%|██████████| 1000/1000 [00:39<00:00, 24.72it/s]"
     ]
    },
    {
     "name": "stderr",
     "output_type": "stream",
     "text": [
      "\r",
      "generating and solving puzzles: 100%|██████████| 1000/1000 [00:39<00:00, 25.14it/s]"
     ]
    },
    {
     "name": "stderr",
     "output_type": "stream",
     "text": [
      "\n"
     ]
    },
    {
     "data": {
      "text/html": [
       "<div>\n",
       "<style scoped>\n",
       "    .dataframe tbody tr th:only-of-type {\n",
       "        vertical-align: middle;\n",
       "    }\n",
       "\n",
       "    .dataframe tbody tr th {\n",
       "        vertical-align: top;\n",
       "    }\n",
       "\n",
       "    .dataframe thead th {\n",
       "        text-align: right;\n",
       "    }\n",
       "</style>\n",
       "<table border=\"1\" class=\"dataframe\">\n",
       "  <thead>\n",
       "    <tr style=\"text-align: right;\">\n",
       "      <th></th>\n",
       "      <th>puzzles</th>\n",
       "      <th>solved</th>\n",
       "      <th>(%)</th>\n",
       "      <th>hidden cells</th>\n",
       "      <th>guessed</th>\n",
       "      <th>in %</th>\n",
       "    </tr>\n",
       "    <tr>\n",
       "      <th>level</th>\n",
       "      <th></th>\n",
       "      <th></th>\n",
       "      <th></th>\n",
       "      <th></th>\n",
       "      <th></th>\n",
       "      <th></th>\n",
       "    </tr>\n",
       "  </thead>\n",
       "  <tbody>\n",
       "    <tr>\n",
       "      <th>1</th>\n",
       "      <td>1000</td>\n",
       "      <td>876</td>\n",
       "      <td>87</td>\n",
       "      <td>1000</td>\n",
       "      <td>876</td>\n",
       "      <td>87</td>\n",
       "    </tr>\n",
       "    <tr>\n",
       "      <th>2</th>\n",
       "      <td>1000</td>\n",
       "      <td>808</td>\n",
       "      <td>80</td>\n",
       "      <td>2000</td>\n",
       "      <td>1728</td>\n",
       "      <td>86</td>\n",
       "    </tr>\n",
       "    <tr>\n",
       "      <th>3</th>\n",
       "      <td>1000</td>\n",
       "      <td>787</td>\n",
       "      <td>78</td>\n",
       "      <td>3000</td>\n",
       "      <td>2599</td>\n",
       "      <td>86</td>\n",
       "    </tr>\n",
       "    <tr>\n",
       "      <th>4</th>\n",
       "      <td>1000</td>\n",
       "      <td>773</td>\n",
       "      <td>77</td>\n",
       "      <td>4000</td>\n",
       "      <td>3451</td>\n",
       "      <td>86</td>\n",
       "    </tr>\n",
       "    <tr>\n",
       "      <th>5</th>\n",
       "      <td>1000</td>\n",
       "      <td>763</td>\n",
       "      <td>76</td>\n",
       "      <td>5000</td>\n",
       "      <td>4305</td>\n",
       "      <td>86</td>\n",
       "    </tr>\n",
       "    <tr>\n",
       "      <th>6</th>\n",
       "      <td>1000</td>\n",
       "      <td>750</td>\n",
       "      <td>75</td>\n",
       "      <td>6000</td>\n",
       "      <td>5168</td>\n",
       "      <td>86</td>\n",
       "    </tr>\n",
       "    <tr>\n",
       "      <th>7</th>\n",
       "      <td>1000</td>\n",
       "      <td>750</td>\n",
       "      <td>75</td>\n",
       "      <td>7000</td>\n",
       "      <td>6038</td>\n",
       "      <td>86</td>\n",
       "    </tr>\n",
       "    <tr>\n",
       "      <th>8</th>\n",
       "      <td>1000</td>\n",
       "      <td>744</td>\n",
       "      <td>74</td>\n",
       "      <td>8000</td>\n",
       "      <td>6886</td>\n",
       "      <td>86</td>\n",
       "    </tr>\n",
       "    <tr>\n",
       "      <th>9</th>\n",
       "      <td>1000</td>\n",
       "      <td>732</td>\n",
       "      <td>73</td>\n",
       "      <td>9000</td>\n",
       "      <td>7734</td>\n",
       "      <td>85</td>\n",
       "    </tr>\n",
       "    <tr>\n",
       "      <th>10</th>\n",
       "      <td>1000</td>\n",
       "      <td>741</td>\n",
       "      <td>74</td>\n",
       "      <td>10000</td>\n",
       "      <td>8624</td>\n",
       "      <td>86</td>\n",
       "    </tr>\n",
       "    <tr>\n",
       "      <th>11</th>\n",
       "      <td>1000</td>\n",
       "      <td>743</td>\n",
       "      <td>74</td>\n",
       "      <td>11000</td>\n",
       "      <td>9467</td>\n",
       "      <td>86</td>\n",
       "    </tr>\n",
       "    <tr>\n",
       "      <th>12</th>\n",
       "      <td>1000</td>\n",
       "      <td>729</td>\n",
       "      <td>72</td>\n",
       "      <td>12000</td>\n",
       "      <td>10285</td>\n",
       "      <td>85</td>\n",
       "    </tr>\n",
       "    <tr>\n",
       "      <th>13</th>\n",
       "      <td>1000</td>\n",
       "      <td>733</td>\n",
       "      <td>73</td>\n",
       "      <td>13000</td>\n",
       "      <td>11177</td>\n",
       "      <td>85</td>\n",
       "    </tr>\n",
       "    <tr>\n",
       "      <th>14</th>\n",
       "      <td>1000</td>\n",
       "      <td>740</td>\n",
       "      <td>74</td>\n",
       "      <td>14000</td>\n",
       "      <td>12060</td>\n",
       "      <td>86</td>\n",
       "    </tr>\n",
       "    <tr>\n",
       "      <th>15</th>\n",
       "      <td>1000</td>\n",
       "      <td>737</td>\n",
       "      <td>73</td>\n",
       "      <td>15000</td>\n",
       "      <td>12898</td>\n",
       "      <td>85</td>\n",
       "    </tr>\n",
       "    <tr>\n",
       "      <th>16</th>\n",
       "      <td>1000</td>\n",
       "      <td>733</td>\n",
       "      <td>73</td>\n",
       "      <td>16000</td>\n",
       "      <td>13756</td>\n",
       "      <td>85</td>\n",
       "    </tr>\n",
       "    <tr>\n",
       "      <th>17</th>\n",
       "      <td>1000</td>\n",
       "      <td>734</td>\n",
       "      <td>73</td>\n",
       "      <td>17000</td>\n",
       "      <td>14625</td>\n",
       "      <td>86</td>\n",
       "    </tr>\n",
       "    <tr>\n",
       "      <th>18</th>\n",
       "      <td>1000</td>\n",
       "      <td>734</td>\n",
       "      <td>73</td>\n",
       "      <td>18000</td>\n",
       "      <td>15470</td>\n",
       "      <td>85</td>\n",
       "    </tr>\n",
       "    <tr>\n",
       "      <th>19</th>\n",
       "      <td>1000</td>\n",
       "      <td>732</td>\n",
       "      <td>73</td>\n",
       "      <td>19000</td>\n",
       "      <td>16281</td>\n",
       "      <td>85</td>\n",
       "    </tr>\n",
       "    <tr>\n",
       "      <th>20</th>\n",
       "      <td>1000</td>\n",
       "      <td>739</td>\n",
       "      <td>73</td>\n",
       "      <td>20000</td>\n",
       "      <td>17252</td>\n",
       "      <td>86</td>\n",
       "    </tr>\n",
       "    <tr>\n",
       "      <th>21</th>\n",
       "      <td>1000</td>\n",
       "      <td>736</td>\n",
       "      <td>73</td>\n",
       "      <td>21000</td>\n",
       "      <td>18082</td>\n",
       "      <td>86</td>\n",
       "    </tr>\n",
       "    <tr>\n",
       "      <th>22</th>\n",
       "      <td>1000</td>\n",
       "      <td>729</td>\n",
       "      <td>72</td>\n",
       "      <td>22000</td>\n",
       "      <td>18958</td>\n",
       "      <td>86</td>\n",
       "    </tr>\n",
       "    <tr>\n",
       "      <th>23</th>\n",
       "      <td>1000</td>\n",
       "      <td>730</td>\n",
       "      <td>73</td>\n",
       "      <td>23000</td>\n",
       "      <td>19800</td>\n",
       "      <td>86</td>\n",
       "    </tr>\n",
       "    <tr>\n",
       "      <th>24</th>\n",
       "      <td>1000</td>\n",
       "      <td>735</td>\n",
       "      <td>73</td>\n",
       "      <td>24000</td>\n",
       "      <td>20715</td>\n",
       "      <td>86</td>\n",
       "    </tr>\n",
       "  </tbody>\n",
       "</table>\n",
       "</div>"
      ],
      "text/plain": [
       "       puzzles  solved  (%)  hidden cells  guessed  in %\n",
       "level                                                   \n",
       "1         1000     876   87          1000      876    87\n",
       "2         1000     808   80          2000     1728    86\n",
       "3         1000     787   78          3000     2599    86\n",
       "4         1000     773   77          4000     3451    86\n",
       "5         1000     763   76          5000     4305    86\n",
       "6         1000     750   75          6000     5168    86\n",
       "7         1000     750   75          7000     6038    86\n",
       "8         1000     744   74          8000     6886    86\n",
       "9         1000     732   73          9000     7734    85\n",
       "10        1000     741   74         10000     8624    86\n",
       "11        1000     743   74         11000     9467    86\n",
       "12        1000     729   72         12000    10285    85\n",
       "13        1000     733   73         13000    11177    85\n",
       "14        1000     740   74         14000    12060    86\n",
       "15        1000     737   73         15000    12898    85\n",
       "16        1000     733   73         16000    13756    85\n",
       "17        1000     734   73         17000    14625    86\n",
       "18        1000     734   73         18000    15470    85\n",
       "19        1000     732   73         19000    16281    85\n",
       "20        1000     739   73         20000    17252    86\n",
       "21        1000     736   73         21000    18082    86\n",
       "22        1000     729   72         22000    18958    86\n",
       "23        1000     730   73         23000    19800    86\n",
       "24        1000     735   73         24000    20715    86"
      ]
     },
     "execution_count": 2,
     "metadata": {},
     "output_type": "execute_result"
    }
   ],
   "source": [
    "from neural_semigroups.utils import print_report\n",
    "from neural_semigroups import CayleyDatabase\n",
    "\n",
    "cardinality = 7\n",
    "cayley_db = CayleyDatabase(cardinality)\n",
    "cayley_db.load_model(f\"semigroups.{cardinality}.model\")\n",
    "print_report(cayley_db.testing_report)"
   ]
  },
  {
   "cell_type": "code",
   "execution_count": null,
   "metadata": {
    "collapsed": false
   },
   "outputs": [],
   "source": []
  }
 ],
 "metadata": {
  "kernelspec": {
   "argv": [
    "python",
    "-m",
    "ipykernel_launcher",
    "-f",
    "{connection_file}"
   ],
   "display_name": "Python 3",
   "env": null,
   "interrupt_mode": "signal",
   "language": "python",
   "metadata": null,
   "name": "python3"
  },
  "language_info": {
   "codemirror_mode": {
    "name": "ipython",
    "version": 3
   },
   "file_extension": ".py",
   "mimetype": "text/x-python",
   "name": "python",
   "nbconvert_exporter": "python",
   "pygments_lexer": "ipython3",
   "version": "3.8.2"
  },
  "name": "train_a_model.ipynb"
 },
 "nbformat": 4,
 "nbformat_minor": 4
}

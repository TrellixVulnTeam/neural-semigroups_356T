{
 "cells": [
  {
   "cell_type": "code",
   "execution_count": 0,
   "metadata": {
    "colab": {},
    "colab_type": "code",
    "id": "iW93seNsL-dr"
   },
   "outputs": [],
   "source": [
    "# use this if you've just uploaded this notebook to Google Colaboratory\n",
    "# don't forget to restart your runtime after the package installation\n",
    "# better use a GPU runtime (TPU ones are not supported by the package yet)\n",
    "!pip install neural-semigroups"
   ]
  },
  {
   "cell_type": "markdown",
   "metadata": {
    "colab_type": "text",
    "id": "8nxHeEdMMBu-"
   },
   "source": [
    "If you have a Cayley database, you can build a machine learning model for such a task:\n",
    "\n",
    "Given a partially filled Cayley table of a semigroup, restore the full one.\n",
    "\n",
    "It should be mentioned that a partially filled table sometimes can be filled in several ways to a full associative table. We will consider all such solutions as equally valid."
   ]
  },
  {
   "cell_type": "markdown",
   "metadata": {
    "colab_type": "text",
    "id": "mUT82DLtMFlW"
   },
   "source": [
    "In `neural-semigroups` package we use `torch` for building deep learning models.\n",
    "\n",
    "First of all, we need to get some training and validation data.\n",
    "In this example, we take semigroups of 5 items, and hold 100 Cayley tables (each representing a different class of equivalent semigrous) as our training data, and another 100 tables as validation.\n",
    "This is a rough 10/90 split of all tables of 5 elements available (there are 1160 of them up to equivalence).\n",
    "\n",
    "Here we construct `DataLoaders` for `torch` which will feed a training pipeline with 512 tables at a time.\n",
    "This number (batch size) can be changed for fine-tuning the model's quality."
   ]
  },
  {
   "cell_type": "code",
   "execution_count": 7,
   "metadata": {
    "colab": {
     "base_uri": "https://localhost:8080/",
     "height": 124
    },
    "colab_type": "code",
    "id": "Z9yqiVWZMDfe",
    "outputId": "051920e7-3f71-4fe2-ff1a-89c3f6441d65"
   },
   "outputs": [
    {
     "name": "stderr",
     "output_type": "stream",
     "text": [
      "Downloading /root/neural-semigroups-data/tmp/smallsemi-0.6.12.tar.bz2: 20529kB [00:03, 6100.79kB/s]                           \n",
      "augmenting by equivalent tables: 100%|██████████| 100/100 [00:56<00:00,  1.76it/s]\n",
      "generating train cubes: 100%|██████████| 15585/15585 [00:16<00:00, 944.49it/s]\n",
      "generating validation cubes: 100%|██████████| 100/100 [00:00<00:00, 1020.47it/s]\n",
      "generating test cubes: 100%|██████████| 960/960 [00:01<00:00, 947.69it/s]\n"
     ]
    }
   ],
   "source": [
    "from neural_semigroups.training_helpers import get_loaders\n",
    "\n",
    "cardinality = 5\n",
    "data_loaders = get_loaders(\n",
    "    cardinality=cardinality,\n",
    "    batch_size=512,\n",
    "    train_size=100,\n",
    "    validation_size=100\n",
    ")"
   ]
  },
  {
   "cell_type": "markdown",
   "metadata": {
    "colab_type": "text",
    "id": "AfDQZs9JMRr1"
   },
   "source": [
    "Note that for a training set we:\n",
    "* take 100 representatives of different equivalence classes\n",
    "* augment data by adding all equivalent tables\n",
    "* as a result, we will train on 16100 tables from 100 classes of equivalence\n",
    "\n",
    "For validation we simply use 100 tables from different classes."
   ]
  },
  {
   "cell_type": "markdown",
   "metadata": {
    "colab_type": "text",
    "id": "wEJQBS4vMUWM"
   },
   "source": [
    "We model each input Cayley table as a three index tensor $a_{ijk}$ such that\n",
    "\n",
    "$a_{ijk}=P\\left\\{e_ie_j=e_k\\right\\}$\n",
    "\n",
    "where $e_i$ are elements of a semigroup.\n",
    "\n",
    "In our training data all $a_{ijk}$ are either zeros or ones, so probability distributions involved are degenerate.\n",
    "\n",
    "When we need to hide a cell with indices $i,j$ from an original Cayley table we set\n",
    "\n",
    "$a_{ijk}=\\dfrac1n$\n",
    "\n",
    "where $n$ is the semigroup's cardinality. Thus we set a probability distribution of the multiplication result $e_ie_j$ to discrete uniform."
   ]
  },
  {
   "cell_type": "markdown",
   "metadata": {
    "colab_type": "text",
    "id": "_vKbrEpNMZ53"
   },
   "source": [
    "We choose a simple denoising autoencoder as an architecture for our neural network. It simply gets an input tensor of zeros and ones, hides 50% of input cells in a manner described earlier, and applies a linear transformation into a higher dimension ($n^5$ which is contrary to a common idea of autoencoders) with a simple `ReLU` non-linearity. Then another linear transformation to the same dimension with `ReLU` is applied, and then the last one to return back to the original $n^3$ dimension. We also apply batch normalization here. See the package code for the details."
   ]
  },
  {
   "cell_type": "code",
   "execution_count": 0,
   "metadata": {
    "colab": {},
    "colab_type": "code",
    "id": "23gB7zogMSF7"
   },
   "outputs": [],
   "source": [
    "from neural_semigroups import MagmaDAE\n",
    "from neural_semigroups.constants import CURRENT_DEVICE\n",
    "\n",
    "dae = MagmaDAE(\n",
    "    cardinality=cardinality,\n",
    "    hidden_dims=[\n",
    "        cardinality ** 5,\n",
    "        cardinality ** 5\n",
    "    ],\n",
    "    corruption_rate=0.5\n",
    ")"
   ]
  },
  {
   "cell_type": "markdown",
   "metadata": {
    "colab_type": "text",
    "id": "BbHrlBvTMd9r"
   },
   "source": [
    "In total, our model has ca 20 million  parameters."
   ]
  },
  {
   "cell_type": "code",
   "execution_count": 9,
   "metadata": {
    "colab": {
     "base_uri": "https://localhost:8080/",
     "height": 34
    },
    "colab_type": "code",
    "id": "qGn7hltzMbwT",
    "outputId": "251f4391-ae32-4f7f-fded-13a32a79a4c0"
   },
   "outputs": [
    {
     "data": {
      "text/plain": [
       "20341000"
      ]
     },
     "execution_count": 9,
     "metadata": {
      "tags": []
     },
     "output_type": "execute_result"
    }
   ],
   "source": [
    "sum(p.numel() for p in dae.parameters())"
   ]
  },
  {
   "cell_type": "markdown",
   "metadata": {
    "colab_type": "text",
    "id": "SGCJM5fqMhos"
   },
   "source": [
    "During the training process we try to minimize a special [associator loss](https://neural-semigroups.readthedocs.io/en/latest/package-documentation.html#associator-loss) on the output of the DAE."
   ]
  },
  {
   "cell_type": "code",
   "execution_count": 0,
   "metadata": {
    "colab": {},
    "colab_type": "code",
    "id": "-Dd6LPXTMfye"
   },
   "outputs": [],
   "source": [
    "import torch\n",
    "from torch import Tensor\n",
    "from neural_semigroups import AssociatorLoss\n",
    "\n",
    "def loss(prediction: Tensor, target: Tensor) -> Tensor:\n",
    "    return AssociatorLoss()(prediction)"
   ]
  },
  {
   "cell_type": "markdown",
   "metadata": {
    "colab_type": "text",
    "id": "cAjT3Z9BMlsd"
   },
   "source": [
    "Now it's time to run a pipeline! Here you can tune the learning schedule for better results.\n",
    "\n",
    "You can construct your own pipeline if you don't want to import one provided by the package.\n",
    "\n",
    "In the next three cells we will run `tensorboard` to show training/validation curves during training process."
   ]
  },
  {
   "cell_type": "code",
   "execution_count": 0,
   "metadata": {
    "colab": {},
    "colab_type": "code",
    "id": "PtJSXwmMMjPs"
   },
   "outputs": [],
   "source": [
    "%load_ext tensorboard"
   ]
  },
  {
   "cell_type": "code",
   "execution_count": 0,
   "metadata": {
    "colab": {},
    "colab_type": "code",
    "id": "8--X-rDvMnYJ"
   },
   "outputs": [],
   "source": [
    "%tensorboard --logdir runs --host 0.0.0.0"
   ]
  },
  {
   "cell_type": "code",
   "execution_count": 13,
   "metadata": {
    "colab": {
     "base_uri": "https://localhost:8080/",
     "height": 49,
     "referenced_widgets": [
      "025e4a6796164449ac179337c54a8834",
      "0e9e9d58f6be4ec5acf4bc34b1032123",
      "abc8f47e6a7b41c0826b828d29e3fd4e",
      "9c51fd622c1240c0a0aa3244af139bae",
      "aaaa1ac53cf442eeb798f1d6a53f211d",
      "64cdcca0cb774db3b834fabbac5d9c55",
      "14f0d3a65df2454f8629c93e5f2bc52a",
      "b6eeab6465ff46bd9b2ec28b6c5a5843"
     ]
    },
    "colab_type": "code",
    "id": "MZgj6ZYsMoWv",
    "outputId": "1b6f278c-fd72-4cac-dcef-153600c1c826"
   },
   "outputs": [
    {
     "data": {
      "application/vnd.jupyter.widget-view+json": {
       "model_id": "025e4a6796164449ac179337c54a8834",
       "version_major": 2,
       "version_minor": 0
      },
      "text/plain": [
       "HBox(children=(IntProgress(value=0, max=1000), HTML(value='')))"
      ]
     },
     "metadata": {
      "tags": []
     },
     "output_type": "display_data"
    },
    {
     "name": "stdout",
     "output_type": "stream",
     "text": [
      "\r"
     ]
    }
   ],
   "source": [
    "from neural_semigroups.training_helpers import learning_pipeline\n",
    "\n",
    "params = {\"learning_rate\": 0.001, \"epochs\": 1000}\n",
    "learning_pipeline(params, cardinality, dae, loss, data_loaders)"
   ]
  },
  {
   "cell_type": "markdown",
   "metadata": {
    "colab_type": "text",
    "id": "Ze05jptXNEJH"
   },
   "source": [
    "Now we restore the best saved model from a checkpoint."
   ]
  },
  {
   "cell_type": "code",
   "execution_count": 14,
   "metadata": {
    "colab": {
     "base_uri": "https://localhost:8080/",
     "height": 34
    },
    "colab_type": "code",
    "id": "z4Y92G08NDmB",
    "outputId": "bab14e91-a29d-482e-c960-680dce64f9b9"
   },
   "outputs": [
    {
     "data": {
      "text/plain": [
       "<All keys matched successfully>"
      ]
     },
     "execution_count": 14,
     "metadata": {
      "tags": []
     },
     "output_type": "execute_result"
    }
   ],
   "source": [
    "from neural_semigroups.utils import get_newest_file\n",
    "\n",
    "dae.load_state_dict(torch.load(get_newest_file(\"checkpoints\")))"
   ]
  },
  {
   "cell_type": "markdown",
   "metadata": {
    "colab_type": "text",
    "id": "C_Ho5xSQNHtK"
   },
   "source": [
    "And here is the report of results. It seems to be quite impressive. For it we took random 1000 Cayley tables from 5 elements (for different equivalent classes as always) and constructed 'puzzles' from it.\n",
    "\n",
    "Level of difficulty for a puzzle is a number of hidden cells. A puzzle is considered to be solved if the model returns a full associative table.\n",
    "\n",
    "We see that the model generalizes well (it was trained only on one tenth of all equivalence classes)."
   ]
  },
  {
   "cell_type": "code",
   "execution_count": 19,
   "metadata": {
    "colab": {
     "base_uri": "https://localhost:8080/",
     "height": 882
    },
    "colab_type": "code",
    "id": "5wuppwxBNGU5",
    "outputId": "80b99bf7-6365-4df1-d050-151ebae27c37"
   },
   "outputs": [
    {
     "name": "stderr",
     "output_type": "stream",
     "text": [
      "generating and solving puzzles: 100%|██████████| 1000/1000 [04:06<00:00,  4.06it/s]\n"
     ]
    },
    {
     "data": {
      "text/html": [
       "<div>\n",
       "<style scoped>\n",
       "    .dataframe tbody tr th:only-of-type {\n",
       "        vertical-align: middle;\n",
       "    }\n",
       "\n",
       "    .dataframe tbody tr th {\n",
       "        vertical-align: top;\n",
       "    }\n",
       "\n",
       "    .dataframe thead th {\n",
       "        text-align: right;\n",
       "    }\n",
       "</style>\n",
       "<table border=\"1\" class=\"dataframe\">\n",
       "  <thead>\n",
       "    <tr style=\"text-align: right;\">\n",
       "      <th></th>\n",
       "      <th>puzzles</th>\n",
       "      <th>solved</th>\n",
       "      <th>(%)</th>\n",
       "      <th>hidden cells</th>\n",
       "      <th>guessed</th>\n",
       "      <th>in %</th>\n",
       "    </tr>\n",
       "    <tr>\n",
       "      <th>level</th>\n",
       "      <th></th>\n",
       "      <th></th>\n",
       "      <th></th>\n",
       "      <th></th>\n",
       "      <th></th>\n",
       "      <th></th>\n",
       "    </tr>\n",
       "  </thead>\n",
       "  <tbody>\n",
       "    <tr>\n",
       "      <th>1</th>\n",
       "      <td>1000.0</td>\n",
       "      <td>946.0</td>\n",
       "      <td>94.0</td>\n",
       "      <td>1000.0</td>\n",
       "      <td>946.0</td>\n",
       "      <td>94.0</td>\n",
       "    </tr>\n",
       "    <tr>\n",
       "      <th>2</th>\n",
       "      <td>1000.0</td>\n",
       "      <td>916.0</td>\n",
       "      <td>91.0</td>\n",
       "      <td>2000.0</td>\n",
       "      <td>1904.0</td>\n",
       "      <td>95.0</td>\n",
       "    </tr>\n",
       "    <tr>\n",
       "      <th>3</th>\n",
       "      <td>1000.0</td>\n",
       "      <td>888.0</td>\n",
       "      <td>88.0</td>\n",
       "      <td>3000.0</td>\n",
       "      <td>2844.0</td>\n",
       "      <td>94.0</td>\n",
       "    </tr>\n",
       "    <tr>\n",
       "      <th>4</th>\n",
       "      <td>1000.0</td>\n",
       "      <td>848.0</td>\n",
       "      <td>84.0</td>\n",
       "      <td>4000.0</td>\n",
       "      <td>3785.0</td>\n",
       "      <td>94.0</td>\n",
       "    </tr>\n",
       "    <tr>\n",
       "      <th>5</th>\n",
       "      <td>1000.0</td>\n",
       "      <td>837.0</td>\n",
       "      <td>83.0</td>\n",
       "      <td>5000.0</td>\n",
       "      <td>4730.0</td>\n",
       "      <td>94.0</td>\n",
       "    </tr>\n",
       "    <tr>\n",
       "      <th>6</th>\n",
       "      <td>1000.0</td>\n",
       "      <td>802.0</td>\n",
       "      <td>80.0</td>\n",
       "      <td>6000.0</td>\n",
       "      <td>5672.0</td>\n",
       "      <td>94.0</td>\n",
       "    </tr>\n",
       "    <tr>\n",
       "      <th>7</th>\n",
       "      <td>1000.0</td>\n",
       "      <td>792.0</td>\n",
       "      <td>79.0</td>\n",
       "      <td>7000.0</td>\n",
       "      <td>6596.0</td>\n",
       "      <td>94.0</td>\n",
       "    </tr>\n",
       "    <tr>\n",
       "      <th>8</th>\n",
       "      <td>1000.0</td>\n",
       "      <td>772.0</td>\n",
       "      <td>77.0</td>\n",
       "      <td>8000.0</td>\n",
       "      <td>7533.0</td>\n",
       "      <td>94.0</td>\n",
       "    </tr>\n",
       "    <tr>\n",
       "      <th>9</th>\n",
       "      <td>1000.0</td>\n",
       "      <td>766.0</td>\n",
       "      <td>76.0</td>\n",
       "      <td>9000.0</td>\n",
       "      <td>8446.0</td>\n",
       "      <td>93.0</td>\n",
       "    </tr>\n",
       "    <tr>\n",
       "      <th>10</th>\n",
       "      <td>1000.0</td>\n",
       "      <td>743.0</td>\n",
       "      <td>74.0</td>\n",
       "      <td>10000.0</td>\n",
       "      <td>9342.0</td>\n",
       "      <td>93.0</td>\n",
       "    </tr>\n",
       "    <tr>\n",
       "      <th>11</th>\n",
       "      <td>1000.0</td>\n",
       "      <td>735.0</td>\n",
       "      <td>73.0</td>\n",
       "      <td>11000.0</td>\n",
       "      <td>10283.0</td>\n",
       "      <td>93.0</td>\n",
       "    </tr>\n",
       "    <tr>\n",
       "      <th>12</th>\n",
       "      <td>1000.0</td>\n",
       "      <td>725.0</td>\n",
       "      <td>72.0</td>\n",
       "      <td>12000.0</td>\n",
       "      <td>11180.0</td>\n",
       "      <td>93.0</td>\n",
       "    </tr>\n",
       "    <tr>\n",
       "      <th>13</th>\n",
       "      <td>1000.0</td>\n",
       "      <td>717.0</td>\n",
       "      <td>71.0</td>\n",
       "      <td>13000.0</td>\n",
       "      <td>12122.0</td>\n",
       "      <td>93.0</td>\n",
       "    </tr>\n",
       "    <tr>\n",
       "      <th>14</th>\n",
       "      <td>1000.0</td>\n",
       "      <td>703.0</td>\n",
       "      <td>70.0</td>\n",
       "      <td>14000.0</td>\n",
       "      <td>12970.0</td>\n",
       "      <td>92.0</td>\n",
       "    </tr>\n",
       "    <tr>\n",
       "      <th>15</th>\n",
       "      <td>1000.0</td>\n",
       "      <td>695.0</td>\n",
       "      <td>69.0</td>\n",
       "      <td>15000.0</td>\n",
       "      <td>13881.0</td>\n",
       "      <td>92.0</td>\n",
       "    </tr>\n",
       "    <tr>\n",
       "      <th>16</th>\n",
       "      <td>1000.0</td>\n",
       "      <td>691.0</td>\n",
       "      <td>69.0</td>\n",
       "      <td>16000.0</td>\n",
       "      <td>14774.0</td>\n",
       "      <td>92.0</td>\n",
       "    </tr>\n",
       "    <tr>\n",
       "      <th>17</th>\n",
       "      <td>1000.0</td>\n",
       "      <td>680.0</td>\n",
       "      <td>68.0</td>\n",
       "      <td>17000.0</td>\n",
       "      <td>15599.0</td>\n",
       "      <td>91.0</td>\n",
       "    </tr>\n",
       "    <tr>\n",
       "      <th>18</th>\n",
       "      <td>1000.0</td>\n",
       "      <td>690.0</td>\n",
       "      <td>69.0</td>\n",
       "      <td>18000.0</td>\n",
       "      <td>16446.0</td>\n",
       "      <td>91.0</td>\n",
       "    </tr>\n",
       "    <tr>\n",
       "      <th>19</th>\n",
       "      <td>1000.0</td>\n",
       "      <td>655.0</td>\n",
       "      <td>65.0</td>\n",
       "      <td>19000.0</td>\n",
       "      <td>17191.0</td>\n",
       "      <td>90.0</td>\n",
       "    </tr>\n",
       "    <tr>\n",
       "      <th>20</th>\n",
       "      <td>1000.0</td>\n",
       "      <td>643.0</td>\n",
       "      <td>64.0</td>\n",
       "      <td>20000.0</td>\n",
       "      <td>18015.0</td>\n",
       "      <td>90.0</td>\n",
       "    </tr>\n",
       "    <tr>\n",
       "      <th>21</th>\n",
       "      <td>1000.0</td>\n",
       "      <td>668.0</td>\n",
       "      <td>66.0</td>\n",
       "      <td>21000.0</td>\n",
       "      <td>19036.0</td>\n",
       "      <td>90.0</td>\n",
       "    </tr>\n",
       "    <tr>\n",
       "      <th>22</th>\n",
       "      <td>1000.0</td>\n",
       "      <td>655.0</td>\n",
       "      <td>65.0</td>\n",
       "      <td>22000.0</td>\n",
       "      <td>19853.0</td>\n",
       "      <td>90.0</td>\n",
       "    </tr>\n",
       "    <tr>\n",
       "      <th>23</th>\n",
       "      <td>1000.0</td>\n",
       "      <td>632.0</td>\n",
       "      <td>63.0</td>\n",
       "      <td>23000.0</td>\n",
       "      <td>20587.0</td>\n",
       "      <td>89.0</td>\n",
       "    </tr>\n",
       "    <tr>\n",
       "      <th>24</th>\n",
       "      <td>1000.0</td>\n",
       "      <td>600.0</td>\n",
       "      <td>60.0</td>\n",
       "      <td>24000.0</td>\n",
       "      <td>21138.0</td>\n",
       "      <td>88.0</td>\n",
       "    </tr>\n",
       "    <tr>\n",
       "      <th>25</th>\n",
       "      <td>1000.0</td>\n",
       "      <td>609.0</td>\n",
       "      <td>60.0</td>\n",
       "      <td>25000.0</td>\n",
       "      <td>22118.0</td>\n",
       "      <td>88.0</td>\n",
       "    </tr>\n",
       "  </tbody>\n",
       "</table>\n",
       "</div>"
      ],
      "text/plain": [
       "       puzzles  solved   (%)  hidden cells  guessed  in %\n",
       "level                                                    \n",
       "1       1000.0   946.0  94.0        1000.0    946.0  94.0\n",
       "2       1000.0   916.0  91.0        2000.0   1904.0  95.0\n",
       "3       1000.0   888.0  88.0        3000.0   2844.0  94.0\n",
       "4       1000.0   848.0  84.0        4000.0   3785.0  94.0\n",
       "5       1000.0   837.0  83.0        5000.0   4730.0  94.0\n",
       "6       1000.0   802.0  80.0        6000.0   5672.0  94.0\n",
       "7       1000.0   792.0  79.0        7000.0   6596.0  94.0\n",
       "8       1000.0   772.0  77.0        8000.0   7533.0  94.0\n",
       "9       1000.0   766.0  76.0        9000.0   8446.0  93.0\n",
       "10      1000.0   743.0  74.0       10000.0   9342.0  93.0\n",
       "11      1000.0   735.0  73.0       11000.0  10283.0  93.0\n",
       "12      1000.0   725.0  72.0       12000.0  11180.0  93.0\n",
       "13      1000.0   717.0  71.0       13000.0  12122.0  93.0\n",
       "14      1000.0   703.0  70.0       14000.0  12970.0  92.0\n",
       "15      1000.0   695.0  69.0       15000.0  13881.0  92.0\n",
       "16      1000.0   691.0  69.0       16000.0  14774.0  92.0\n",
       "17      1000.0   680.0  68.0       17000.0  15599.0  91.0\n",
       "18      1000.0   690.0  69.0       18000.0  16446.0  91.0\n",
       "19      1000.0   655.0  65.0       19000.0  17191.0  90.0\n",
       "20      1000.0   643.0  64.0       20000.0  18015.0  90.0\n",
       "21      1000.0   668.0  66.0       21000.0  19036.0  90.0\n",
       "22      1000.0   655.0  65.0       22000.0  19853.0  90.0\n",
       "23      1000.0   632.0  63.0       23000.0  20587.0  89.0\n",
       "24      1000.0   600.0  60.0       24000.0  21138.0  88.0\n",
       "25      1000.0   609.0  60.0       25000.0  22118.0  88.0"
      ]
     },
     "execution_count": 19,
     "metadata": {
      "tags": []
     },
     "output_type": "execute_result"
    }
   ],
   "source": [
    "from neural_semigroups.utils import print_report\n",
    "from neural_semigroups import CayleyDatabase\n",
    "\n",
    "cayley_db = CayleyDatabase(cardinality)\n",
    "cayley_db.model = dae\n",
    "print_report(cayley_db.testing_report())"
   ]
  },
  {
   "cell_type": "markdown",
   "metadata": {
    "colab_type": "text",
    "id": "FrjePt4ANMCC"
   },
   "source": [
    "As a sanity check we can look at the quality of a model which always fills in the same number, e.g. zero. Zero is a tangible choice since in the `smallsemi` database items are sorted in such a way that zero occurs most often. The NN model outperforms this baseline by a large margin."
   ]
  },
  {
   "cell_type": "code",
   "execution_count": 20,
   "metadata": {
    "colab": {
     "base_uri": "https://localhost:8080/",
     "height": 882
    },
    "colab_type": "code",
    "id": "rAa4SHpdNJ2x",
    "outputId": "1d12542c-eb6a-4cd6-c3e5-22c8e5e0fcfa"
   },
   "outputs": [
    {
     "name": "stderr",
     "output_type": "stream",
     "text": [
      "generating and solving puzzles: 100%|██████████| 1000/1000 [02:39<00:00,  6.28it/s]\n"
     ]
    },
    {
     "data": {
      "text/html": [
       "<div>\n",
       "<style scoped>\n",
       "    .dataframe tbody tr th:only-of-type {\n",
       "        vertical-align: middle;\n",
       "    }\n",
       "\n",
       "    .dataframe tbody tr th {\n",
       "        vertical-align: top;\n",
       "    }\n",
       "\n",
       "    .dataframe thead th {\n",
       "        text-align: right;\n",
       "    }\n",
       "</style>\n",
       "<table border=\"1\" class=\"dataframe\">\n",
       "  <thead>\n",
       "    <tr style=\"text-align: right;\">\n",
       "      <th></th>\n",
       "      <th>puzzles</th>\n",
       "      <th>solved</th>\n",
       "      <th>(%)</th>\n",
       "      <th>hidden cells</th>\n",
       "      <th>guessed</th>\n",
       "      <th>in %</th>\n",
       "    </tr>\n",
       "    <tr>\n",
       "      <th>level</th>\n",
       "      <th></th>\n",
       "      <th></th>\n",
       "      <th></th>\n",
       "      <th></th>\n",
       "      <th></th>\n",
       "      <th></th>\n",
       "    </tr>\n",
       "  </thead>\n",
       "  <tbody>\n",
       "    <tr>\n",
       "      <th>1</th>\n",
       "      <td>1000.0</td>\n",
       "      <td>590.0</td>\n",
       "      <td>59.0</td>\n",
       "      <td>1000.0</td>\n",
       "      <td>590.0</td>\n",
       "      <td>59.0</td>\n",
       "    </tr>\n",
       "    <tr>\n",
       "      <th>2</th>\n",
       "      <td>1000.0</td>\n",
       "      <td>379.0</td>\n",
       "      <td>37.0</td>\n",
       "      <td>2000.0</td>\n",
       "      <td>1105.0</td>\n",
       "      <td>55.0</td>\n",
       "    </tr>\n",
       "    <tr>\n",
       "      <th>3</th>\n",
       "      <td>1000.0</td>\n",
       "      <td>308.0</td>\n",
       "      <td>30.0</td>\n",
       "      <td>3000.0</td>\n",
       "      <td>1675.0</td>\n",
       "      <td>55.0</td>\n",
       "    </tr>\n",
       "    <tr>\n",
       "      <th>4</th>\n",
       "      <td>1000.0</td>\n",
       "      <td>255.0</td>\n",
       "      <td>25.0</td>\n",
       "      <td>4000.0</td>\n",
       "      <td>2233.0</td>\n",
       "      <td>55.0</td>\n",
       "    </tr>\n",
       "    <tr>\n",
       "      <th>5</th>\n",
       "      <td>1000.0</td>\n",
       "      <td>206.0</td>\n",
       "      <td>20.0</td>\n",
       "      <td>5000.0</td>\n",
       "      <td>2759.0</td>\n",
       "      <td>55.0</td>\n",
       "    </tr>\n",
       "    <tr>\n",
       "      <th>6</th>\n",
       "      <td>1000.0</td>\n",
       "      <td>182.0</td>\n",
       "      <td>18.0</td>\n",
       "      <td>6000.0</td>\n",
       "      <td>3297.0</td>\n",
       "      <td>54.0</td>\n",
       "    </tr>\n",
       "    <tr>\n",
       "      <th>7</th>\n",
       "      <td>1000.0</td>\n",
       "      <td>164.0</td>\n",
       "      <td>16.0</td>\n",
       "      <td>7000.0</td>\n",
       "      <td>3833.0</td>\n",
       "      <td>54.0</td>\n",
       "    </tr>\n",
       "    <tr>\n",
       "      <th>8</th>\n",
       "      <td>1000.0</td>\n",
       "      <td>157.0</td>\n",
       "      <td>15.0</td>\n",
       "      <td>8000.0</td>\n",
       "      <td>4382.0</td>\n",
       "      <td>54.0</td>\n",
       "    </tr>\n",
       "    <tr>\n",
       "      <th>9</th>\n",
       "      <td>1000.0</td>\n",
       "      <td>143.0</td>\n",
       "      <td>14.0</td>\n",
       "      <td>9000.0</td>\n",
       "      <td>4838.0</td>\n",
       "      <td>53.0</td>\n",
       "    </tr>\n",
       "    <tr>\n",
       "      <th>10</th>\n",
       "      <td>1000.0</td>\n",
       "      <td>150.0</td>\n",
       "      <td>15.0</td>\n",
       "      <td>10000.0</td>\n",
       "      <td>5433.0</td>\n",
       "      <td>54.0</td>\n",
       "    </tr>\n",
       "    <tr>\n",
       "      <th>11</th>\n",
       "      <td>1000.0</td>\n",
       "      <td>155.0</td>\n",
       "      <td>15.0</td>\n",
       "      <td>11000.0</td>\n",
       "      <td>6064.0</td>\n",
       "      <td>55.0</td>\n",
       "    </tr>\n",
       "    <tr>\n",
       "      <th>12</th>\n",
       "      <td>1000.0</td>\n",
       "      <td>145.0</td>\n",
       "      <td>14.0</td>\n",
       "      <td>12000.0</td>\n",
       "      <td>6595.0</td>\n",
       "      <td>54.0</td>\n",
       "    </tr>\n",
       "    <tr>\n",
       "      <th>13</th>\n",
       "      <td>1000.0</td>\n",
       "      <td>158.0</td>\n",
       "      <td>15.0</td>\n",
       "      <td>13000.0</td>\n",
       "      <td>7149.0</td>\n",
       "      <td>54.0</td>\n",
       "    </tr>\n",
       "    <tr>\n",
       "      <th>14</th>\n",
       "      <td>1000.0</td>\n",
       "      <td>145.0</td>\n",
       "      <td>14.0</td>\n",
       "      <td>14000.0</td>\n",
       "      <td>7755.0</td>\n",
       "      <td>55.0</td>\n",
       "    </tr>\n",
       "    <tr>\n",
       "      <th>15</th>\n",
       "      <td>1000.0</td>\n",
       "      <td>150.0</td>\n",
       "      <td>15.0</td>\n",
       "      <td>15000.0</td>\n",
       "      <td>8226.0</td>\n",
       "      <td>54.0</td>\n",
       "    </tr>\n",
       "    <tr>\n",
       "      <th>16</th>\n",
       "      <td>1000.0</td>\n",
       "      <td>141.0</td>\n",
       "      <td>14.0</td>\n",
       "      <td>16000.0</td>\n",
       "      <td>8836.0</td>\n",
       "      <td>55.0</td>\n",
       "    </tr>\n",
       "    <tr>\n",
       "      <th>17</th>\n",
       "      <td>1000.0</td>\n",
       "      <td>157.0</td>\n",
       "      <td>15.0</td>\n",
       "      <td>17000.0</td>\n",
       "      <td>9472.0</td>\n",
       "      <td>55.0</td>\n",
       "    </tr>\n",
       "    <tr>\n",
       "      <th>18</th>\n",
       "      <td>1000.0</td>\n",
       "      <td>151.0</td>\n",
       "      <td>15.0</td>\n",
       "      <td>18000.0</td>\n",
       "      <td>9930.0</td>\n",
       "      <td>55.0</td>\n",
       "    </tr>\n",
       "    <tr>\n",
       "      <th>19</th>\n",
       "      <td>1000.0</td>\n",
       "      <td>150.0</td>\n",
       "      <td>15.0</td>\n",
       "      <td>19000.0</td>\n",
       "      <td>10417.0</td>\n",
       "      <td>54.0</td>\n",
       "    </tr>\n",
       "    <tr>\n",
       "      <th>20</th>\n",
       "      <td>1000.0</td>\n",
       "      <td>165.0</td>\n",
       "      <td>16.0</td>\n",
       "      <td>20000.0</td>\n",
       "      <td>11194.0</td>\n",
       "      <td>55.0</td>\n",
       "    </tr>\n",
       "    <tr>\n",
       "      <th>21</th>\n",
       "      <td>1000.0</td>\n",
       "      <td>160.0</td>\n",
       "      <td>16.0</td>\n",
       "      <td>21000.0</td>\n",
       "      <td>11801.0</td>\n",
       "      <td>56.0</td>\n",
       "    </tr>\n",
       "    <tr>\n",
       "      <th>22</th>\n",
       "      <td>1000.0</td>\n",
       "      <td>171.0</td>\n",
       "      <td>17.0</td>\n",
       "      <td>22000.0</td>\n",
       "      <td>12340.0</td>\n",
       "      <td>56.0</td>\n",
       "    </tr>\n",
       "    <tr>\n",
       "      <th>23</th>\n",
       "      <td>1000.0</td>\n",
       "      <td>164.0</td>\n",
       "      <td>16.0</td>\n",
       "      <td>23000.0</td>\n",
       "      <td>12758.0</td>\n",
       "      <td>55.0</td>\n",
       "    </tr>\n",
       "    <tr>\n",
       "      <th>24</th>\n",
       "      <td>1000.0</td>\n",
       "      <td>162.0</td>\n",
       "      <td>16.0</td>\n",
       "      <td>24000.0</td>\n",
       "      <td>13327.0</td>\n",
       "      <td>55.0</td>\n",
       "    </tr>\n",
       "    <tr>\n",
       "      <th>25</th>\n",
       "      <td>1000.0</td>\n",
       "      <td>168.0</td>\n",
       "      <td>16.0</td>\n",
       "      <td>25000.0</td>\n",
       "      <td>14090.0</td>\n",
       "      <td>56.0</td>\n",
       "    </tr>\n",
       "  </tbody>\n",
       "</table>\n",
       "</div>"
      ],
      "text/plain": [
       "       puzzles  solved   (%)  hidden cells  guessed  in %\n",
       "level                                                    \n",
       "1       1000.0   590.0  59.0        1000.0    590.0  59.0\n",
       "2       1000.0   379.0  37.0        2000.0   1105.0  55.0\n",
       "3       1000.0   308.0  30.0        3000.0   1675.0  55.0\n",
       "4       1000.0   255.0  25.0        4000.0   2233.0  55.0\n",
       "5       1000.0   206.0  20.0        5000.0   2759.0  55.0\n",
       "6       1000.0   182.0  18.0        6000.0   3297.0  54.0\n",
       "7       1000.0   164.0  16.0        7000.0   3833.0  54.0\n",
       "8       1000.0   157.0  15.0        8000.0   4382.0  54.0\n",
       "9       1000.0   143.0  14.0        9000.0   4838.0  53.0\n",
       "10      1000.0   150.0  15.0       10000.0   5433.0  54.0\n",
       "11      1000.0   155.0  15.0       11000.0   6064.0  55.0\n",
       "12      1000.0   145.0  14.0       12000.0   6595.0  54.0\n",
       "13      1000.0   158.0  15.0       13000.0   7149.0  54.0\n",
       "14      1000.0   145.0  14.0       14000.0   7755.0  55.0\n",
       "15      1000.0   150.0  15.0       15000.0   8226.0  54.0\n",
       "16      1000.0   141.0  14.0       16000.0   8836.0  55.0\n",
       "17      1000.0   157.0  15.0       17000.0   9472.0  55.0\n",
       "18      1000.0   151.0  15.0       18000.0   9930.0  55.0\n",
       "19      1000.0   150.0  15.0       19000.0  10417.0  54.0\n",
       "20      1000.0   165.0  16.0       20000.0  11194.0  55.0\n",
       "21      1000.0   160.0  16.0       21000.0  11801.0  56.0\n",
       "22      1000.0   171.0  17.0       22000.0  12340.0  56.0\n",
       "23      1000.0   164.0  16.0       23000.0  12758.0  55.0\n",
       "24      1000.0   162.0  16.0       24000.0  13327.0  55.0\n",
       "25      1000.0   168.0  16.0       25000.0  14090.0  56.0"
      ]
     },
     "execution_count": 20,
     "metadata": {
      "tags": []
     },
     "output_type": "execute_result"
    }
   ],
   "source": [
    "from neural_semigroups.constant_baseline import ConstantBaseline\n",
    "\n",
    "constant_baseline = CayleyDatabase(cardinality)\n",
    "constant_baseline.model = ConstantBaseline(cardinality)\n",
    "print_report(constant_baseline.testing_report())"
   ]
  },
  {
   "cell_type": "markdown",
   "metadata": {
    "colab_type": "text",
    "id": "ipkE9enpNQSf"
   },
   "source": [
    "Now let's see how it works on several example puzzles. Let's take one of the real tables from the database."
   ]
  },
  {
   "cell_type": "code",
   "execution_count": 21,
   "metadata": {
    "colab": {
     "base_uri": "https://localhost:8080/",
     "height": 104
    },
    "colab_type": "code",
    "id": "OvQ91gT7NPm6",
    "outputId": "4b68dcf3-388c-44ae-f38b-5a183b910f2f"
   },
   "outputs": [
    {
     "data": {
      "text/plain": [
       "tensor([[0, 0, 0, 0, 0],\n",
       "        [0, 1, 1, 1, 1],\n",
       "        [0, 1, 2, 1, 1],\n",
       "        [0, 1, 1, 3, 1],\n",
       "        [0, 1, 1, 1, 4]], device='cuda:0')"
      ]
     },
     "execution_count": 21,
     "metadata": {
      "tags": []
     },
     "output_type": "execute_result"
    }
   ],
   "source": [
    "cayley_db.database[1100]"
   ]
  },
  {
   "cell_type": "markdown",
   "metadata": {
    "colab_type": "text",
    "id": "P9JEZQOtNTbh"
   },
   "source": [
    "Then we can fill it with `-1` in some cells, creating a puzzle and giving it to the model."
   ]
  },
  {
   "cell_type": "code",
   "execution_count": 0,
   "metadata": {
    "colab": {},
    "colab_type": "code",
    "id": "tb7E6CwvNR5B"
   },
   "outputs": [],
   "source": [
    "guess, proba = cayley_db.fill_in_with_model([\n",
    "  [-1, 0, 0, 0, -1],\n",
    "  [0, -1, 1, 1, -1],\n",
    "  [0, 1, -1, 1, -1],\n",
    "  [0, 1, 1, -1, -1],\n",
    "  [0, 1, 1, 1, -1]]\n",
    ")"
   ]
  },
  {
   "cell_type": "markdown",
   "metadata": {
    "colab_type": "text",
    "id": "1MKdOAyzNV_q"
   },
   "source": [
    "The model found not the same table as the original one."
   ]
  },
  {
   "cell_type": "code",
   "execution_count": 23,
   "metadata": {
    "colab": {
     "base_uri": "https://localhost:8080/",
     "height": 104
    },
    "colab_type": "code",
    "id": "GgGB68frNUmM",
    "outputId": "a057944f-17b1-42d3-f864-556b4879b26b"
   },
   "outputs": [
    {
     "data": {
      "text/plain": [
       "tensor([[0, 0, 0, 0, 0],\n",
       "        [0, 1, 1, 1, 1],\n",
       "        [0, 1, 2, 1, 1],\n",
       "        [0, 1, 1, 1, 1],\n",
       "        [0, 1, 1, 1, 1]], device='cuda:0')"
      ]
     },
     "execution_count": 23,
     "metadata": {
      "tags": []
     },
     "output_type": "execute_result"
    }
   ],
   "source": [
    "guess"
   ]
  },
  {
   "cell_type": "markdown",
   "metadata": {
    "colab_type": "text",
    "id": "XaK_CKF7NY9p"
   },
   "source": [
    "But it's still a possible completion since it's associative"
   ]
  },
  {
   "cell_type": "code",
   "execution_count": 24,
   "metadata": {
    "colab": {
     "base_uri": "https://localhost:8080/",
     "height": 34
    },
    "colab_type": "code",
    "id": "VwDXjQpKNXA4",
    "outputId": "f1f08fee-700b-4c73-c124-12f9da84867b"
   },
   "outputs": [
    {
     "data": {
      "text/plain": [
       "True"
      ]
     },
     "execution_count": 24,
     "metadata": {
      "tags": []
     },
     "output_type": "execute_result"
    }
   ],
   "source": [
    "from neural_semigroups import Magma\n",
    "\n",
    "Magma(guess).is_associative"
   ]
  },
  {
   "cell_type": "markdown",
   "metadata": {
    "colab_type": "text",
    "id": "WZQ7e5eiNbbN"
   },
   "source": [
    "The model returns also it's probabilities of guess. They can be examined in cases when the model err."
   ]
  },
  {
   "cell_type": "code",
   "execution_count": 25,
   "metadata": {
    "colab": {
     "base_uri": "https://localhost:8080/",
     "height": 538
    },
    "colab_type": "code",
    "id": "QUcV3kuMNaJQ",
    "outputId": "b390b3f0-aaae-440e-e125-29c7eefd04e8"
   },
   "outputs": [
    {
     "data": {
      "text/plain": [
       "tensor([[[9.5899e-01, 2.1331e-02, 4.8319e-03, 9.6992e-03, 5.1428e-03],\n",
       "         [1.0000e+00, 1.0000e-06, 1.0000e-06, 1.0000e-06, 1.0000e-06],\n",
       "         [1.0000e+00, 1.0000e-06, 1.0000e-06, 1.0000e-06, 1.0000e-06],\n",
       "         [1.0000e+00, 1.0000e-06, 1.0000e-06, 1.0000e-06, 1.0000e-06],\n",
       "         [9.9166e-01, 3.0912e-03, 1.1367e-03, 1.2539e-03, 2.8624e-03]],\n",
       "\n",
       "        [[1.0000e+00, 1.0000e-06, 1.0000e-06, 1.0000e-06, 1.0000e-06],\n",
       "         [5.0471e-04, 9.9794e-01, 5.0806e-04, 5.3939e-04, 5.1256e-04],\n",
       "         [1.0000e-06, 1.0000e+00, 1.0000e-06, 1.0000e-06, 1.0000e-06],\n",
       "         [1.0000e-06, 1.0000e+00, 1.0000e-06, 1.0000e-06, 1.0000e-06],\n",
       "         [1.6740e-03, 9.9021e-01, 1.6997e-03, 1.8921e-03, 4.5276e-03]],\n",
       "\n",
       "        [[1.0000e+00, 1.0000e-06, 1.0000e-06, 1.0000e-06, 1.0000e-06],\n",
       "         [1.0000e-06, 1.0000e+00, 1.0000e-06, 1.0000e-06, 1.0000e-06],\n",
       "         [4.9301e-03, 4.7933e-01, 5.0025e-01, 1.0046e-02, 5.4482e-03],\n",
       "         [1.0000e-06, 1.0000e+00, 1.0000e-06, 1.0000e-06, 1.0000e-06],\n",
       "         [2.1044e-03, 8.3295e-01, 1.0712e-02, 7.0621e-03, 1.4717e-01]],\n",
       "\n",
       "        [[1.0000e+00, 1.0000e-06, 1.0000e-06, 1.0000e-06, 1.0000e-06],\n",
       "         [1.0000e-06, 1.0000e+00, 1.0000e-06, 1.0000e-06, 1.0000e-06],\n",
       "         [1.0000e-06, 1.0000e+00, 1.0000e-06, 1.0000e-06, 1.0000e-06],\n",
       "         [1.6374e-03, 9.5849e-01, 2.0276e-03, 3.2793e-02, 5.0564e-03],\n",
       "         [1.6668e-03, 9.1662e-01, 3.0588e-03, 8.5193e-03, 7.0130e-02]],\n",
       "\n",
       "        [[1.0000e+00, 1.0000e-06, 1.0000e-06, 1.0000e-06, 1.0000e-06],\n",
       "         [1.0000e-06, 1.0000e+00, 1.0000e-06, 1.0000e-06, 1.0000e-06],\n",
       "         [1.0000e-06, 1.0000e+00, 1.0000e-06, 1.0000e-06, 1.0000e-06],\n",
       "         [1.0000e-06, 1.0000e+00, 1.0000e-06, 1.0000e-06, 1.0000e-06],\n",
       "         [3.7759e-03, 8.0778e-01, 4.2099e-03, 8.9976e-03, 1.7524e-01]]],\n",
       "       device='cuda:0')"
      ]
     },
     "execution_count": 25,
     "metadata": {
      "tags": []
     },
     "output_type": "execute_result"
    }
   ],
   "source": [
    "proba"
   ]
  },
  {
   "cell_type": "markdown",
   "metadata": {
    "colab_type": "text",
    "id": "C76EfKuBNepq"
   },
   "source": [
    "In contrast, the constant baseline always fills in the `-1`s with zeros:"
   ]
  },
  {
   "cell_type": "code",
   "execution_count": 26,
   "metadata": {
    "colab": {
     "base_uri": "https://localhost:8080/",
     "height": 104
    },
    "colab_type": "code",
    "id": "qE0MspuNNc9Z",
    "outputId": "e87870b7-d8b0-4d99-f245-f239d0d94e22"
   },
   "outputs": [
    {
     "data": {
      "text/plain": [
       "tensor([[0, 0, 0, 0, 0],\n",
       "        [0, 0, 1, 1, 0],\n",
       "        [0, 1, 0, 1, 0],\n",
       "        [0, 1, 1, 0, 0],\n",
       "        [0, 1, 1, 1, 0]], device='cuda:0')"
      ]
     },
     "execution_count": 26,
     "metadata": {
      "tags": []
     },
     "output_type": "execute_result"
    }
   ],
   "source": [
    "ans = constant_baseline.fill_in_with_model([\n",
    "  [-1, 0, 0, 0, -1],\n",
    "  [0, -1, 1, 1, -1],\n",
    "  [0, 1, -1, 1, -1],\n",
    "  [0, 1, 1, -1, -1],\n",
    "  [0, 1, 1, 1, -1]]\n",
    ")[0]\n",
    "ans"
   ]
  },
  {
   "cell_type": "code",
   "execution_count": 27,
   "metadata": {
    "colab": {
     "base_uri": "https://localhost:8080/",
     "height": 34
    },
    "colab_type": "code",
    "id": "Ts_jmkdTNfvU",
    "outputId": "c0dad43a-f466-4f1f-c7ed-15f8660b5c21"
   },
   "outputs": [
    {
     "data": {
      "text/plain": [
       "False"
      ]
     },
     "execution_count": 27,
     "metadata": {
      "tags": []
     },
     "output_type": "execute_result"
    }
   ],
   "source": [
    "Magma(ans).is_associative"
   ]
  },
  {
   "cell_type": "code",
   "execution_count": 0,
   "metadata": {
    "colab": {},
    "colab_type": "code",
    "id": "2qmNhDVzQGmA"
   },
   "outputs": [],
   "source": []
  }
 ],
 "metadata": {
  "accelerator": "GPU",
  "colab": {
   "collapsed_sections": [],
   "name": "train_a_model.ipynb",
   "provenance": []
  },
  "kernelspec": {
   "display_name": "Python 3",
   "language": "python",
   "name": "python3"
  },
  "language_info": {
   "codemirror_mode": {
    "name": "ipython",
    "version": 3
   },
   "file_extension": ".py",
   "mimetype": "text/x-python",
   "name": "python",
   "nbconvert_exporter": "python",
   "pygments_lexer": "ipython3",
   "version": "3.6.10"
  },
  "widgets": {
   "application/vnd.jupyter.widget-state+json": {
    "025e4a6796164449ac179337c54a8834": {
     "model_module": "@jupyter-widgets/controls",
     "model_name": "HBoxModel",
     "state": {
      "_dom_classes": [],
      "_model_module": "@jupyter-widgets/controls",
      "_model_module_version": "1.5.0",
      "_model_name": "HBoxModel",
      "_view_count": null,
      "_view_module": "@jupyter-widgets/controls",
      "_view_module_version": "1.5.0",
      "_view_name": "HBoxView",
      "box_style": "",
      "children": [
       "IPY_MODEL_abc8f47e6a7b41c0826b828d29e3fd4e",
       "IPY_MODEL_9c51fd622c1240c0a0aa3244af139bae"
      ],
      "layout": "IPY_MODEL_0e9e9d58f6be4ec5acf4bc34b1032123"
     }
    },
    "0e9e9d58f6be4ec5acf4bc34b1032123": {
     "model_module": "@jupyter-widgets/base",
     "model_name": "LayoutModel",
     "state": {
      "_model_module": "@jupyter-widgets/base",
      "_model_module_version": "1.2.0",
      "_model_name": "LayoutModel",
      "_view_count": null,
      "_view_module": "@jupyter-widgets/base",
      "_view_module_version": "1.2.0",
      "_view_name": "LayoutView",
      "align_content": null,
      "align_items": null,
      "align_self": null,
      "border": null,
      "bottom": null,
      "display": null,
      "flex": null,
      "flex_flow": null,
      "grid_area": null,
      "grid_auto_columns": null,
      "grid_auto_flow": null,
      "grid_auto_rows": null,
      "grid_column": null,
      "grid_gap": null,
      "grid_row": null,
      "grid_template_areas": null,
      "grid_template_columns": null,
      "grid_template_rows": null,
      "height": null,
      "justify_content": null,
      "justify_items": null,
      "left": null,
      "margin": null,
      "max_height": null,
      "max_width": null,
      "min_height": null,
      "min_width": null,
      "object_fit": null,
      "object_position": null,
      "order": null,
      "overflow": null,
      "overflow_x": null,
      "overflow_y": null,
      "padding": null,
      "right": null,
      "top": null,
      "visibility": null,
      "width": null
     }
    },
    "14f0d3a65df2454f8629c93e5f2bc52a": {
     "model_module": "@jupyter-widgets/controls",
     "model_name": "DescriptionStyleModel",
     "state": {
      "_model_module": "@jupyter-widgets/controls",
      "_model_module_version": "1.5.0",
      "_model_name": "DescriptionStyleModel",
      "_view_count": null,
      "_view_module": "@jupyter-widgets/base",
      "_view_module_version": "1.2.0",
      "_view_name": "StyleView",
      "description_width": ""
     }
    },
    "64cdcca0cb774db3b834fabbac5d9c55": {
     "model_module": "@jupyter-widgets/base",
     "model_name": "LayoutModel",
     "state": {
      "_model_module": "@jupyter-widgets/base",
      "_model_module_version": "1.2.0",
      "_model_name": "LayoutModel",
      "_view_count": null,
      "_view_module": "@jupyter-widgets/base",
      "_view_module_version": "1.2.0",
      "_view_name": "LayoutView",
      "align_content": null,
      "align_items": null,
      "align_self": null,
      "border": null,
      "bottom": null,
      "display": null,
      "flex": null,
      "flex_flow": null,
      "grid_area": null,
      "grid_auto_columns": null,
      "grid_auto_flow": null,
      "grid_auto_rows": null,
      "grid_column": null,
      "grid_gap": null,
      "grid_row": null,
      "grid_template_areas": null,
      "grid_template_columns": null,
      "grid_template_rows": null,
      "height": null,
      "justify_content": null,
      "justify_items": null,
      "left": null,
      "margin": null,
      "max_height": null,
      "max_width": null,
      "min_height": null,
      "min_width": null,
      "object_fit": null,
      "object_position": null,
      "order": null,
      "overflow": null,
      "overflow_x": null,
      "overflow_y": null,
      "padding": null,
      "right": null,
      "top": null,
      "visibility": null,
      "width": null
     }
    },
    "9c51fd622c1240c0a0aa3244af139bae": {
     "model_module": "@jupyter-widgets/controls",
     "model_name": "HTMLModel",
     "state": {
      "_dom_classes": [],
      "_model_module": "@jupyter-widgets/controls",
      "_model_module_version": "1.5.0",
      "_model_name": "HTMLModel",
      "_view_count": null,
      "_view_module": "@jupyter-widgets/controls",
      "_view_module_version": "1.5.0",
      "_view_name": "HTMLView",
      "description": "",
      "description_tooltip": null,
      "layout": "IPY_MODEL_b6eeab6465ff46bd9b2ec28b6c5a5843",
      "placeholder": "​",
      "style": "IPY_MODEL_14f0d3a65df2454f8629c93e5f2bc52a",
      "value": ", output=4.27 [02:10&lt;31:29]"
     }
    },
    "aaaa1ac53cf442eeb798f1d6a53f211d": {
     "model_module": "@jupyter-widgets/controls",
     "model_name": "ProgressStyleModel",
     "state": {
      "_model_module": "@jupyter-widgets/controls",
      "_model_module_version": "1.5.0",
      "_model_name": "ProgressStyleModel",
      "_view_count": null,
      "_view_module": "@jupyter-widgets/base",
      "_view_module_version": "1.2.0",
      "_view_name": "StyleView",
      "bar_color": null,
      "description_width": "initial"
     }
    },
    "abc8f47e6a7b41c0826b828d29e3fd4e": {
     "model_module": "@jupyter-widgets/controls",
     "model_name": "IntProgressModel",
     "state": {
      "_dom_classes": [],
      "_model_module": "@jupyter-widgets/controls",
      "_model_module_version": "1.5.0",
      "_model_name": "IntProgressModel",
      "_view_count": null,
      "_view_module": "@jupyter-widgets/controls",
      "_view_module_version": "1.5.0",
      "_view_name": "ProgressView",
      "bar_style": "danger",
      "description": "Epoch: [64/1000]   6%",
      "description_tooltip": null,
      "layout": "IPY_MODEL_64cdcca0cb774db3b834fabbac5d9c55",
      "max": 1000,
      "min": 0,
      "orientation": "horizontal",
      "style": "IPY_MODEL_aaaa1ac53cf442eeb798f1d6a53f211d",
      "value": 64
     }
    },
    "b6eeab6465ff46bd9b2ec28b6c5a5843": {
     "model_module": "@jupyter-widgets/base",
     "model_name": "LayoutModel",
     "state": {
      "_model_module": "@jupyter-widgets/base",
      "_model_module_version": "1.2.0",
      "_model_name": "LayoutModel",
      "_view_count": null,
      "_view_module": "@jupyter-widgets/base",
      "_view_module_version": "1.2.0",
      "_view_name": "LayoutView",
      "align_content": null,
      "align_items": null,
      "align_self": null,
      "border": null,
      "bottom": null,
      "display": null,
      "flex": null,
      "flex_flow": null,
      "grid_area": null,
      "grid_auto_columns": null,
      "grid_auto_flow": null,
      "grid_auto_rows": null,
      "grid_column": null,
      "grid_gap": null,
      "grid_row": null,
      "grid_template_areas": null,
      "grid_template_columns": null,
      "grid_template_rows": null,
      "height": null,
      "justify_content": null,
      "justify_items": null,
      "left": null,
      "margin": null,
      "max_height": null,
      "max_width": null,
      "min_height": null,
      "min_width": null,
      "object_fit": null,
      "object_position": null,
      "order": null,
      "overflow": null,
      "overflow_x": null,
      "overflow_y": null,
      "padding": null,
      "right": null,
      "top": null,
      "visibility": null,
      "width": null
     }
    }
   }
  }
 },
 "nbformat": 4,
 "nbformat_minor": 1
}

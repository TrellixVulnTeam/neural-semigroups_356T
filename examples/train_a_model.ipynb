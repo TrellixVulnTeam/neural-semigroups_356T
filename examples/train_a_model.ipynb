{
 "cells": [
  {
   "cell_type": "code",
   "execution_count": null,
   "metadata": {
    "colab": {
     "base_uri": "https://localhost:8080/",
     "height": 820
    },
    "colab_type": "code",
    "executionInfo": {
     "elapsed": 7927,
     "status": "ok",
     "timestamp": 1586193013830,
     "user": {
      "displayName": "",
      "photoUrl": "",
      "userId": ""
     },
     "user_tz": -180
    },
    "id": "ggqDc_vtiR4y",
    "outputId": "4a1ec1e9-9978-4466-e439-6eb49e9a0cdf"
   },
   "outputs": [],
   "source": [
    "# use this if you've just uploaded this notebook to Google Colaboratory\n",
    "# don't forget to restart your runtime after the package installation\n",
    "# better use a GPU runtime (TPU ones are not supported by the package yet)\n",
    "!pip install neural-semigroups"
   ]
  },
  {
   "cell_type": "markdown",
   "metadata": {
    "colab_type": "text",
    "id": "16fm12yGiO13"
   },
   "source": [
    "If you have a Cayley database, you can build a machine learning model for such a task:\n",
    "\n",
    "Given a partially filled Cayley table of a semigroup, restore the full one.\n",
    "\n",
    "It should be mentioned that a partially filled table sometimes can be filled in several ways to a full associative table. We will consider all such solutions as equally valid."
   ]
  },
  {
   "cell_type": "markdown",
   "metadata": {
    "colab_type": "text",
    "id": "u7H75-2WiO14"
   },
   "source": [
    "In `neural-semigroups` package we use `torch` for building deep learning models.\n",
    "\n",
    "First of all, we need to get some training and validation data.\n",
    "In this example, we take semigroups of 5 items, and hold 100 Cayley tables (each representing a different class of equivalent semigrous) as our training data, and another 100 tables as validation.\n",
    "This is a rough 10/90 split of all tables of 5 elements available (there are 1160 of them up to equivalence).\n",
    "\n",
    "Here we construct `DataLoaders` for `torch` which will feed a training pipeline with 512 tables at a time.\n",
    "This number (batch size) can be changed for fine-tuning the model's quality."
   ]
  },
  {
   "cell_type": "code",
   "execution_count": 1,
   "metadata": {
    "colab": {
     "base_uri": "https://localhost:8080/",
     "height": 102
    },
    "colab_type": "code",
    "executionInfo": {
     "elapsed": 17386,
     "status": "ok",
     "timestamp": 1586193043006,
     "user": {
      "displayName": "",
      "photoUrl": "",
      "userId": ""
     },
     "user_tz": -180
    },
    "id": "pcBK9-zViO15",
    "outputId": "e4ac5e11-f75b-4c4a-a6ee-192193e8fea1",
    "scrolled": true
   },
   "outputs": [
    {
     "name": "stderr",
     "output_type": "stream",
     "text": [
      "augmenting by equivalent tables: 100%|██████████| 100/100 [00:00<00:00, 221.84it/s]\n",
      "generating train cubes: 100%|██████████| 15190/15190 [00:00<00:00, 45048.70it/s]\n",
      "generating validation cubes: 100%|██████████| 100/100 [00:00<00:00, 36276.63it/s]\n",
      "generating test cubes: 100%|██████████| 960/960 [00:00<00:00, 43487.29it/s]\n"
     ]
    }
   ],
   "source": [
    "from neural_semigroups.training_helpers import get_loaders\n",
    "\n",
    "cardinality = 5\n",
    "data_loaders = get_loaders(\n",
    "    cardinality=cardinality,\n",
    "    batch_size=512,\n",
    "    train_size=100,\n",
    "    validation_size=100\n",
    ")"
   ]
  },
  {
   "cell_type": "markdown",
   "metadata": {
    "colab_type": "text",
    "id": "zw8TTr7_iO19"
   },
   "source": [
    "Note that for a training set we:\n",
    "* take 100 representatives of different equivalence classes\n",
    "* augment data by adding all equivalent tables\n",
    "* as a result, we will train on 16100 tables from 100 classes of equivalence\n",
    "\n",
    "For validation we simply use 100 tables from different classes."
   ]
  },
  {
   "cell_type": "markdown",
   "metadata": {
    "colab_type": "text",
    "id": "9Qyl3eAOiO1-"
   },
   "source": [
    "We model each input Cayley table as a three index tensor $a_{ijk}$ such that\n",
    "\n",
    "$a_{ijk}=P\\left\\{e_ie_j=e_k\\right\\}$\n",
    "\n",
    "where $e_i$ are elements of a semigroup.\n",
    "\n",
    "In our training data all $a_{ijk}$ are either zeros or ones, so probability distributions involved are degenerate.\n",
    "\n",
    "When we need to hide a cell with indices $i,j$ from an original Cayley table we set\n",
    "\n",
    "$a_{ijk}=\\dfrac1n$\n",
    "\n",
    "where $n$ is the semigroup's cardinality. Thus we set a probability distribution of the multiplication result $e_ie_j$ to discrete uniform."
   ]
  },
  {
   "cell_type": "markdown",
   "metadata": {
    "colab_type": "text",
    "id": "HJqD5qlziO1-"
   },
   "source": [
    "We choose a simple denoising autoencoder as an architecture for our neural network. It simply gets an input tensor of zeros and ones, hides 50% of input cells in a manner described earlier, and applies a linear transformation into a higher dimension ($n^5$ which is contrary to a common idea of autoencoders) with a simple `ReLU` non-linearity. Then another linear transformation to the same dimension with `ReLU` is applied, and then the last one to return back to the original $n^3$ dimension. We also apply batch normalization here. See the package code for the details."
   ]
  },
  {
   "cell_type": "code",
   "execution_count": 2,
   "metadata": {
    "colab": null,
    "colab_type": "code",
    "id": "aKqRTYjXiO1_"
   },
   "outputs": [],
   "source": [
    "from neural_semigroups import MagmaDAE\n",
    "from neural_semigroups.constants import CURRENT_DEVICE\n",
    "\n",
    "dae = MagmaDAE(\n",
    "    cardinality=cardinality,\n",
    "    hidden_dims=[\n",
    "        cardinality ** 5,\n",
    "        cardinality ** 5\n",
    "    ],\n",
    "    corruption_rate=0.5\n",
    ")"
   ]
  },
  {
   "cell_type": "markdown",
   "metadata": {
    "colab_type": "text",
    "id": "v_XyKiokHSMO"
   },
   "source": [
    "In total, our model has ca 20 million  parameters."
   ]
  },
  {
   "cell_type": "code",
   "execution_count": 3,
   "metadata": {
    "colab": {
     "base_uri": "https://localhost:8080/",
     "height": 34
    },
    "colab_type": "code",
    "executionInfo": {
     "elapsed": 1047,
     "status": "ok",
     "timestamp": 1586193342243,
     "user": {
      "displayName": "",
      "photoUrl": "",
      "userId": ""
     },
     "user_tz": -180
    },
    "id": "3vKeetXSiO2C",
    "outputId": "f8f31e12-0e85-425a-f849-d0ebe41b38e9"
   },
   "outputs": [
    {
     "data": {
      "text/plain": [
       "20341000"
      ]
     },
     "execution_count": 3,
     "metadata": {},
     "output_type": "execute_result"
    }
   ],
   "source": [
    "sum(p.numel() for p in dae.parameters())"
   ]
  },
  {
   "cell_type": "markdown",
   "metadata": {
    "colab_type": "text",
    "id": "V-wshINgiO2F"
   },
   "source": [
    "During the training process we try to minimize a special [associator loss](https://neural-semigroups.readthedocs.io/en/latest/package-documentation.html#associator-loss) on the output of the DAE."
   ]
  },
  {
   "cell_type": "code",
   "execution_count": 4,
   "metadata": {
    "colab": null,
    "colab_type": "code",
    "id": "8-Hdb9iaiO2G"
   },
   "outputs": [],
   "source": [
    "import torch\n",
    "from torch import Tensor\n",
    "from neural_semigroups import AssociatorLoss\n",
    "\n",
    "def loss(prediction: Tensor, target: Tensor) -> Tensor:\n",
    "    return AssociatorLoss()(prediction)"
   ]
  },
  {
   "cell_type": "markdown",
   "metadata": {
    "colab_type": "text",
    "id": "0OgutrW1iO2N"
   },
   "source": [
    "Now it's time to run a pipeline! Here you can tune the learning schedule for better results.\n",
    "\n",
    "You can construct your own pipeline if you don't want to import one provided by the package.\n",
    "\n",
    "In the next three cells we will run `tensorboard` to show training/validation curves during training process."
   ]
  },
  {
   "cell_type": "code",
   "execution_count": 5,
   "metadata": {},
   "outputs": [],
   "source": [
    "%load_ext tensorboard"
   ]
  },
  {
   "cell_type": "code",
   "execution_count": 6,
   "metadata": {},
   "outputs": [],
   "source": [
    "!pkill tensorboard"
   ]
  },
  {
   "cell_type": "code",
   "execution_count": 7,
   "metadata": {},
   "outputs": [],
   "source": [
    "!rm -rf ./runs/"
   ]
  },
  {
   "cell_type": "code",
   "execution_count": 8,
   "metadata": {},
   "outputs": [
    {
     "data": {
      "text/plain": [
       "Launching TensorBoard..."
      ]
     },
     "metadata": {},
     "output_type": "display_data"
    }
   ],
   "source": [
    "%tensorboard --logdir runs --host 0.0.0.0"
   ]
  },
  {
   "cell_type": "code",
   "execution_count": 9,
   "metadata": {
    "colab": {
     "base_uri": "https://localhost:8080/",
     "height": 51
    },
    "colab_type": "code",
    "executionInfo": {
     "elapsed": 189134,
     "status": "ok",
     "timestamp": 1586194222531,
     "user": {
      "displayName": "",
      "photoUrl": "",
      "userId": ""
     },
     "user_tz": -180
    },
    "id": "VfreVgnniO2W",
    "outputId": "36a8c815-81bf-49ac-d761-02649ac9779b"
   },
   "outputs": [
    {
     "data": {
      "application/vnd.jupyter.widget-view+json": {
       "model_id": "a503653764764ee38d30003d321bf740",
       "version_major": 2,
       "version_minor": 0
      },
      "text/plain": [
       "HBox(children=(FloatProgress(value=0.0, max=1000.0), HTML(value='')))"
      ]
     },
     "metadata": {},
     "output_type": "display_data"
    }
   ],
   "source": [
    "from neural_semigroups.training_helpers import learning_pipeline\n",
    "\n",
    "params = {\"learning_rate\": 0.001, \"epochs\": 1000}\n",
    "learning_pipeline(params, cardinality, dae, loss, data_loaders)"
   ]
  },
  {
   "cell_type": "markdown",
   "metadata": {},
   "source": [
    "Now we restore the best saved model from a checkpoint."
   ]
  },
  {
   "cell_type": "code",
   "execution_count": 22,
   "metadata": {},
   "outputs": [
    {
     "data": {
      "text/plain": [
       "<All keys matched successfully>"
      ]
     },
     "execution_count": 22,
     "metadata": {},
     "output_type": "execute_result"
    }
   ],
   "source": [
    "from neural_semigroups.utils import get_newest_file\n",
    "\n",
    "dae.load_state_dict(torch.load(get_newest_file(\"checkpoints\")))"
   ]
  },
  {
   "cell_type": "markdown",
   "metadata": {
    "colab_type": "text",
    "id": "K0ikjKaIiO2Y"
   },
   "source": [
    "And here is the report of results. It seems to be quite impressive. For it we took random 1000 Cayley tables from 5 elements (for different equivalent classes as always) and constructed 'puzzles' from it.\n",
    "\n",
    "Level of difficulty for a puzzle is a number of hidden cells. A puzzle is considered to be solved if the model returns a full associative table.\n",
    "\n",
    "We see that the model generalizes well (it was trained only on one tenth of all equivalence classes)."
   ]
  },
  {
   "cell_type": "code",
   "execution_count": 23,
   "metadata": {
    "colab": {
     "base_uri": "https://localhost:8080/",
     "height": 469
    },
    "colab_type": "code",
    "executionInfo": {
     "elapsed": 30223,
     "status": "ok",
     "timestamp": 1586194305892,
     "user": {
      "displayName": "",
      "photoUrl": "",
      "userId": ""
     },
     "user_tz": -180
    },
    "id": "xPGuNTipiO2Z",
    "outputId": "6bee8dfe-b81e-4c84-9984-4e35c8eba012"
   },
   "outputs": [
    {
     "name": "stderr",
     "output_type": "stream",
     "text": [
      "generating and solving puzzles: 100%|██████████| 1000/1000 [02:02<00:00,  8.16it/s]\n"
     ]
    },
    {
     "data": {
      "text/html": [
       "<div>\n",
       "<style scoped>\n",
       "    .dataframe tbody tr th:only-of-type {\n",
       "        vertical-align: middle;\n",
       "    }\n",
       "\n",
       "    .dataframe tbody tr th {\n",
       "        vertical-align: top;\n",
       "    }\n",
       "\n",
       "    .dataframe thead th {\n",
       "        text-align: right;\n",
       "    }\n",
       "</style>\n",
       "<table border=\"1\" class=\"dataframe\">\n",
       "  <thead>\n",
       "    <tr style=\"text-align: right;\">\n",
       "      <th></th>\n",
       "      <th>puzzles</th>\n",
       "      <th>solved</th>\n",
       "      <th>(%)</th>\n",
       "      <th>hidden cells</th>\n",
       "      <th>guessed</th>\n",
       "      <th>in %</th>\n",
       "    </tr>\n",
       "    <tr>\n",
       "      <th>level</th>\n",
       "      <th></th>\n",
       "      <th></th>\n",
       "      <th></th>\n",
       "      <th></th>\n",
       "      <th></th>\n",
       "      <th></th>\n",
       "    </tr>\n",
       "  </thead>\n",
       "  <tbody>\n",
       "    <tr>\n",
       "      <th>1</th>\n",
       "      <td>1000</td>\n",
       "      <td>970</td>\n",
       "      <td>97</td>\n",
       "      <td>1000</td>\n",
       "      <td>970</td>\n",
       "      <td>97</td>\n",
       "    </tr>\n",
       "    <tr>\n",
       "      <th>2</th>\n",
       "      <td>1000</td>\n",
       "      <td>935</td>\n",
       "      <td>93</td>\n",
       "      <td>2000</td>\n",
       "      <td>1929</td>\n",
       "      <td>96</td>\n",
       "    </tr>\n",
       "    <tr>\n",
       "      <th>3</th>\n",
       "      <td>1000</td>\n",
       "      <td>890</td>\n",
       "      <td>89</td>\n",
       "      <td>3000</td>\n",
       "      <td>2864</td>\n",
       "      <td>95</td>\n",
       "    </tr>\n",
       "    <tr>\n",
       "      <th>4</th>\n",
       "      <td>1000</td>\n",
       "      <td>871</td>\n",
       "      <td>87</td>\n",
       "      <td>4000</td>\n",
       "      <td>3833</td>\n",
       "      <td>95</td>\n",
       "    </tr>\n",
       "    <tr>\n",
       "      <th>5</th>\n",
       "      <td>1000</td>\n",
       "      <td>852</td>\n",
       "      <td>85</td>\n",
       "      <td>5000</td>\n",
       "      <td>4779</td>\n",
       "      <td>95</td>\n",
       "    </tr>\n",
       "    <tr>\n",
       "      <th>6</th>\n",
       "      <td>1000</td>\n",
       "      <td>863</td>\n",
       "      <td>86</td>\n",
       "      <td>6000</td>\n",
       "      <td>5762</td>\n",
       "      <td>96</td>\n",
       "    </tr>\n",
       "    <tr>\n",
       "      <th>7</th>\n",
       "      <td>1000</td>\n",
       "      <td>842</td>\n",
       "      <td>84</td>\n",
       "      <td>7000</td>\n",
       "      <td>6715</td>\n",
       "      <td>95</td>\n",
       "    </tr>\n",
       "    <tr>\n",
       "      <th>8</th>\n",
       "      <td>1000</td>\n",
       "      <td>819</td>\n",
       "      <td>81</td>\n",
       "      <td>8000</td>\n",
       "      <td>7662</td>\n",
       "      <td>95</td>\n",
       "    </tr>\n",
       "    <tr>\n",
       "      <th>9</th>\n",
       "      <td>1000</td>\n",
       "      <td>804</td>\n",
       "      <td>80</td>\n",
       "      <td>9000</td>\n",
       "      <td>8570</td>\n",
       "      <td>95</td>\n",
       "    </tr>\n",
       "    <tr>\n",
       "      <th>10</th>\n",
       "      <td>1000</td>\n",
       "      <td>815</td>\n",
       "      <td>81</td>\n",
       "      <td>10000</td>\n",
       "      <td>9544</td>\n",
       "      <td>95</td>\n",
       "    </tr>\n",
       "    <tr>\n",
       "      <th>11</th>\n",
       "      <td>1000</td>\n",
       "      <td>804</td>\n",
       "      <td>80</td>\n",
       "      <td>11000</td>\n",
       "      <td>10495</td>\n",
       "      <td>95</td>\n",
       "    </tr>\n",
       "    <tr>\n",
       "      <th>12</th>\n",
       "      <td>1000</td>\n",
       "      <td>788</td>\n",
       "      <td>78</td>\n",
       "      <td>12000</td>\n",
       "      <td>11429</td>\n",
       "      <td>95</td>\n",
       "    </tr>\n",
       "  </tbody>\n",
       "</table>\n",
       "</div>"
      ],
      "text/plain": [
       "       puzzles  solved  (%)  hidden cells  guessed  in %\n",
       "level                                                   \n",
       "1         1000     970   97          1000      970    97\n",
       "2         1000     935   93          2000     1929    96\n",
       "3         1000     890   89          3000     2864    95\n",
       "4         1000     871   87          4000     3833    95\n",
       "5         1000     852   85          5000     4779    95\n",
       "6         1000     863   86          6000     5762    96\n",
       "7         1000     842   84          7000     6715    95\n",
       "8         1000     819   81          8000     7662    95\n",
       "9         1000     804   80          9000     8570    95\n",
       "10        1000     815   81         10000     9544    95\n",
       "11        1000     804   80         11000    10495    95\n",
       "12        1000     788   78         12000    11429    95"
      ]
     },
     "execution_count": 23,
     "metadata": {},
     "output_type": "execute_result"
    }
   ],
   "source": [
    "from neural_semigroups.utils import print_report\n",
    "from neural_semigroups import CayleyDatabase\n",
    "\n",
    "cayley_db = CayleyDatabase(cardinality)\n",
    "cayley_db.model = dae\n",
    "print_report(cayley_db.testing_report)"
   ]
  },
  {
   "cell_type": "markdown",
   "metadata": {},
   "source": [
    "As a sanity check we can look at the quality of a model which always fills in the same number, e.g. zero. Zero is a tangible choice since in the `smallsemi` database items are sorted in such a way that zero occurs most often. The NN model outperforms this baseline by a large margin."
   ]
  },
  {
   "cell_type": "code",
   "execution_count": 20,
   "metadata": {},
   "outputs": [
    {
     "name": "stderr",
     "output_type": "stream",
     "text": [
      "generating and solving puzzles: 100%|██████████| 1000/1000 [00:10<00:00, 96.68it/s]\n"
     ]
    },
    {
     "data": {
      "text/html": [
       "<div>\n",
       "<style scoped>\n",
       "    .dataframe tbody tr th:only-of-type {\n",
       "        vertical-align: middle;\n",
       "    }\n",
       "\n",
       "    .dataframe tbody tr th {\n",
       "        vertical-align: top;\n",
       "    }\n",
       "\n",
       "    .dataframe thead th {\n",
       "        text-align: right;\n",
       "    }\n",
       "</style>\n",
       "<table border=\"1\" class=\"dataframe\">\n",
       "  <thead>\n",
       "    <tr style=\"text-align: right;\">\n",
       "      <th></th>\n",
       "      <th>puzzles</th>\n",
       "      <th>solved</th>\n",
       "      <th>(%)</th>\n",
       "      <th>hidden cells</th>\n",
       "      <th>guessed</th>\n",
       "      <th>in %</th>\n",
       "    </tr>\n",
       "    <tr>\n",
       "      <th>level</th>\n",
       "      <th></th>\n",
       "      <th></th>\n",
       "      <th></th>\n",
       "      <th></th>\n",
       "      <th></th>\n",
       "      <th></th>\n",
       "    </tr>\n",
       "  </thead>\n",
       "  <tbody>\n",
       "    <tr>\n",
       "      <th>1</th>\n",
       "      <td>1000</td>\n",
       "      <td>574</td>\n",
       "      <td>57</td>\n",
       "      <td>1000</td>\n",
       "      <td>574</td>\n",
       "      <td>57</td>\n",
       "    </tr>\n",
       "    <tr>\n",
       "      <th>2</th>\n",
       "      <td>1000</td>\n",
       "      <td>392</td>\n",
       "      <td>39</td>\n",
       "      <td>2000</td>\n",
       "      <td>1134</td>\n",
       "      <td>56</td>\n",
       "    </tr>\n",
       "    <tr>\n",
       "      <th>3</th>\n",
       "      <td>1000</td>\n",
       "      <td>296</td>\n",
       "      <td>29</td>\n",
       "      <td>3000</td>\n",
       "      <td>1681</td>\n",
       "      <td>56</td>\n",
       "    </tr>\n",
       "    <tr>\n",
       "      <th>4</th>\n",
       "      <td>1000</td>\n",
       "      <td>225</td>\n",
       "      <td>22</td>\n",
       "      <td>4000</td>\n",
       "      <td>2191</td>\n",
       "      <td>54</td>\n",
       "    </tr>\n",
       "    <tr>\n",
       "      <th>5</th>\n",
       "      <td>1000</td>\n",
       "      <td>209</td>\n",
       "      <td>20</td>\n",
       "      <td>5000</td>\n",
       "      <td>2774</td>\n",
       "      <td>55</td>\n",
       "    </tr>\n",
       "    <tr>\n",
       "      <th>6</th>\n",
       "      <td>1000</td>\n",
       "      <td>188</td>\n",
       "      <td>18</td>\n",
       "      <td>6000</td>\n",
       "      <td>3346</td>\n",
       "      <td>55</td>\n",
       "    </tr>\n",
       "    <tr>\n",
       "      <th>7</th>\n",
       "      <td>1000</td>\n",
       "      <td>161</td>\n",
       "      <td>16</td>\n",
       "      <td>7000</td>\n",
       "      <td>3853</td>\n",
       "      <td>55</td>\n",
       "    </tr>\n",
       "    <tr>\n",
       "      <th>8</th>\n",
       "      <td>1000</td>\n",
       "      <td>165</td>\n",
       "      <td>16</td>\n",
       "      <td>8000</td>\n",
       "      <td>4442</td>\n",
       "      <td>55</td>\n",
       "    </tr>\n",
       "    <tr>\n",
       "      <th>9</th>\n",
       "      <td>1000</td>\n",
       "      <td>163</td>\n",
       "      <td>16</td>\n",
       "      <td>9000</td>\n",
       "      <td>4991</td>\n",
       "      <td>55</td>\n",
       "    </tr>\n",
       "    <tr>\n",
       "      <th>10</th>\n",
       "      <td>1000</td>\n",
       "      <td>155</td>\n",
       "      <td>15</td>\n",
       "      <td>10000</td>\n",
       "      <td>5433</td>\n",
       "      <td>54</td>\n",
       "    </tr>\n",
       "    <tr>\n",
       "      <th>11</th>\n",
       "      <td>1000</td>\n",
       "      <td>155</td>\n",
       "      <td>15</td>\n",
       "      <td>11000</td>\n",
       "      <td>6155</td>\n",
       "      <td>55</td>\n",
       "    </tr>\n",
       "    <tr>\n",
       "      <th>12</th>\n",
       "      <td>1000</td>\n",
       "      <td>132</td>\n",
       "      <td>13</td>\n",
       "      <td>12000</td>\n",
       "      <td>6500</td>\n",
       "      <td>54</td>\n",
       "    </tr>\n",
       "  </tbody>\n",
       "</table>\n",
       "</div>"
      ],
      "text/plain": [
       "       puzzles  solved  (%)  hidden cells  guessed  in %\n",
       "level                                                   \n",
       "1         1000     574   57          1000      574    57\n",
       "2         1000     392   39          2000     1134    56\n",
       "3         1000     296   29          3000     1681    56\n",
       "4         1000     225   22          4000     2191    54\n",
       "5         1000     209   20          5000     2774    55\n",
       "6         1000     188   18          6000     3346    55\n",
       "7         1000     161   16          7000     3853    55\n",
       "8         1000     165   16          8000     4442    55\n",
       "9         1000     163   16          9000     4991    55\n",
       "10        1000     155   15         10000     5433    54\n",
       "11        1000     155   15         11000     6155    55\n",
       "12        1000     132   13         12000     6500    54"
      ]
     },
     "execution_count": 20,
     "metadata": {},
     "output_type": "execute_result"
    }
   ],
   "source": [
    "from neural_semigroups.constant_baseline import ConstantBaseline\n",
    "\n",
    "constant_baseline = CayleyDatabase(cardinality)\n",
    "constant_baseline.model = ConstantBaseline(cardinality)\n",
    "print_report(constant_baseline.testing_report)"
   ]
  },
  {
   "cell_type": "markdown",
   "metadata": {
    "colab_type": "text",
    "id": "SvQhUdn-iO2b"
   },
   "source": [
    "Now let's see how it works on several example puzzles. Let's take one of the real tables from the database."
   ]
  },
  {
   "cell_type": "code",
   "execution_count": 13,
   "metadata": {
    "colab": {
     "base_uri": "https://localhost:8080/",
     "height": 102
    },
    "colab_type": "code",
    "executionInfo": {
     "elapsed": 581,
     "status": "ok",
     "timestamp": 1586103950061,
     "user": {
      "displayName": "",
      "photoUrl": "",
      "userId": ""
     },
     "user_tz": -180
    },
    "id": "2OWsBRLziO2c",
    "outputId": "0bc958d1-df7d-44bf-e24e-985fc5df3aa5"
   },
   "outputs": [
    {
     "data": {
      "text/plain": [
       "array([[0, 0, 0, 0, 0],\n",
       "       [0, 1, 1, 1, 1],\n",
       "       [0, 1, 2, 1, 1],\n",
       "       [0, 1, 1, 3, 1],\n",
       "       [0, 1, 1, 1, 4]])"
      ]
     },
     "execution_count": 13,
     "metadata": {},
     "output_type": "execute_result"
    }
   ],
   "source": [
    "cayley_db.database[1100]"
   ]
  },
  {
   "cell_type": "markdown",
   "metadata": {
    "colab_type": "text",
    "id": "kOjWjAO-iO2e"
   },
   "source": [
    "Then we can fill it with `-1` in some cells, creating a puzzle and giving it to the model."
   ]
  },
  {
   "cell_type": "code",
   "execution_count": 14,
   "metadata": {
    "colab": null,
    "colab_type": "code",
    "id": "YCGHojbUiO2f"
   },
   "outputs": [],
   "source": [
    "guess, proba = cayley_db.fill_in_with_model([\n",
    "  [-1, 0, 0, 0, -1],\n",
    "  [0, -1, 1, 1, -1],\n",
    "  [0, 1, -1, 1, -1],\n",
    "  [0, 1, 1, -1, -1],\n",
    "  [0, 1, 1, 1, -1]]\n",
    ")"
   ]
  },
  {
   "cell_type": "markdown",
   "metadata": {
    "colab_type": "text",
    "id": "db3Ibj4MiO2h"
   },
   "source": [
    "The model found not the same table as the original one."
   ]
  },
  {
   "cell_type": "code",
   "execution_count": 15,
   "metadata": {
    "colab": {
     "base_uri": "https://localhost:8080/",
     "height": 102
    },
    "colab_type": "code",
    "executionInfo": {
     "elapsed": 603,
     "status": "ok",
     "timestamp": 1586104106228,
     "user": {
      "displayName": "",
      "photoUrl": "",
      "userId": ""
     },
     "user_tz": -180
    },
    "id": "5nFODtvhiO2h",
    "outputId": "9ab2c9d6-bb32-4de5-eb14-665bbcda5233"
   },
   "outputs": [
    {
     "data": {
      "text/plain": [
       "array([[0, 0, 0, 0, 0],\n",
       "       [0, 1, 1, 1, 1],\n",
       "       [0, 1, 1, 1, 1],\n",
       "       [0, 1, 1, 1, 1],\n",
       "       [0, 1, 1, 1, 1]])"
      ]
     },
     "execution_count": 15,
     "metadata": {},
     "output_type": "execute_result"
    }
   ],
   "source": [
    "guess"
   ]
  },
  {
   "cell_type": "markdown",
   "metadata": {
    "colab_type": "text",
    "id": "rrN_VNsRiO2k"
   },
   "source": [
    "But it's still a possible completion since it's associative"
   ]
  },
  {
   "cell_type": "code",
   "execution_count": 16,
   "metadata": {
    "colab": {
     "base_uri": "https://localhost:8080/",
     "height": 34
    },
    "colab_type": "code",
    "executionInfo": {
     "elapsed": 632,
     "status": "ok",
     "timestamp": 1586104107490,
     "user": {
      "displayName": "",
      "photoUrl": "",
      "userId": ""
     },
     "user_tz": -180
    },
    "id": "JUM5bp22iO2k",
    "outputId": "226e7af8-96f2-4db4-e296-22fdab1a831b"
   },
   "outputs": [
    {
     "data": {
      "text/plain": [
       "True"
      ]
     },
     "execution_count": 16,
     "metadata": {},
     "output_type": "execute_result"
    }
   ],
   "source": [
    "from neural_semigroups import Magma\n",
    "\n",
    "Magma(guess).is_associative"
   ]
  },
  {
   "cell_type": "markdown",
   "metadata": {
    "colab_type": "text",
    "id": "kHYgB7DziO2m"
   },
   "source": [
    "The model returns also it's probabilities of guess. They can be examined in cases when the model err."
   ]
  },
  {
   "cell_type": "code",
   "execution_count": 17,
   "metadata": {
    "colab": {
     "base_uri": "https://localhost:8080/",
     "height": 935
    },
    "colab_type": "code",
    "executionInfo": {
     "elapsed": 601,
     "status": "ok",
     "timestamp": 1586104119925,
     "user": {
      "displayName": "",
      "photoUrl": "",
      "userId": ""
     },
     "user_tz": -180
    },
    "id": "kZjuj6nCiO2n",
    "outputId": "00c94fe1-9c5d-4578-a77e-0d307c13f5c0"
   },
   "outputs": [
    {
     "data": {
      "text/plain": [
       "array([[[9.96360302e-01, 1.59832533e-03, 6.84402825e-04, 6.66551583e-04,\n",
       "         6.90414279e-04],\n",
       "        [9.99996006e-01, 9.99999997e-07, 9.99999997e-07, 9.99999997e-07,\n",
       "         9.99999997e-07],\n",
       "        [9.99996006e-01, 9.99999997e-07, 9.99999997e-07, 9.99999997e-07,\n",
       "         9.99999997e-07],\n",
       "        [9.99996006e-01, 9.99999997e-07, 9.99999997e-07, 9.99999997e-07,\n",
       "         9.99999997e-07],\n",
       "        [9.99038517e-01, 1.81942669e-04, 1.86081888e-04, 1.85037803e-04,\n",
       "         4.08407650e-04]],\n",
       "\n",
       "       [[9.99996006e-01, 9.99999997e-07, 9.99999997e-07, 9.99999997e-07,\n",
       "         9.99999997e-07],\n",
       "        [1.19513526e-04, 9.99522924e-01, 1.23277903e-04, 1.15676194e-04,\n",
       "         1.18578835e-04],\n",
       "        [9.99999997e-07, 9.99996006e-01, 9.99999997e-07, 9.99999997e-07,\n",
       "         9.99999997e-07],\n",
       "        [9.99999997e-07, 9.99996006e-01, 9.99999997e-07, 9.99999997e-07,\n",
       "         9.99999997e-07],\n",
       "        [1.58640934e-04, 9.99158084e-01, 1.66137295e-04, 1.59894160e-04,\n",
       "         3.57232086e-04]],\n",
       "\n",
       "       [[9.99996006e-01, 9.99999997e-07, 9.99999997e-07, 9.99999997e-07,\n",
       "         9.99999997e-07],\n",
       "        [9.99999997e-07, 9.99996006e-01, 9.99999997e-07, 9.99999997e-07,\n",
       "         9.99999997e-07],\n",
       "        [3.57494777e-04, 9.91127610e-01, 7.61161279e-03, 3.56903241e-04,\n",
       "         5.46364812e-04],\n",
       "        [9.99999997e-07, 9.99996006e-01, 9.99999997e-07, 9.99999997e-07,\n",
       "         9.99999997e-07],\n",
       "        [3.69455665e-04, 9.82236624e-01, 1.70213508e-03, 7.22147059e-03,\n",
       "         8.47033970e-03]],\n",
       "\n",
       "       [[9.99996006e-01, 9.99999997e-07, 9.99999997e-07, 9.99999997e-07,\n",
       "         9.99999997e-07],\n",
       "        [9.99999997e-07, 9.99996006e-01, 9.99999997e-07, 9.99999997e-07,\n",
       "         9.99999997e-07],\n",
       "        [9.99999997e-07, 9.99996006e-01, 9.99999997e-07, 9.99999997e-07,\n",
       "         9.99999997e-07],\n",
       "        [1.00502826e-03, 9.57305491e-01, 1.05191639e-03, 3.78970504e-02,\n",
       "         2.74049188e-03],\n",
       "        [5.71024793e-05, 9.99021292e-01, 6.19388302e-05, 5.68854215e-04,\n",
       "         2.90838652e-04]],\n",
       "\n",
       "       [[9.99996006e-01, 9.99999997e-07, 9.99999997e-07, 9.99999997e-07,\n",
       "         9.99999997e-07],\n",
       "        [9.99999997e-07, 9.99996006e-01, 9.99999997e-07, 9.99999997e-07,\n",
       "         9.99999997e-07],\n",
       "        [9.99999997e-07, 9.99996006e-01, 9.99999997e-07, 9.99999997e-07,\n",
       "         9.99999997e-07],\n",
       "        [9.99999997e-07, 9.99996006e-01, 9.99999997e-07, 9.99999997e-07,\n",
       "         9.99999997e-07],\n",
       "        [5.59971028e-04, 8.23006034e-01, 5.88706171e-04, 6.35728647e-04,\n",
       "         1.75209552e-01]]], dtype=float32)"
      ]
     },
     "execution_count": 17,
     "metadata": {},
     "output_type": "execute_result"
    }
   ],
   "source": [
    "proba"
   ]
  },
  {
   "cell_type": "markdown",
   "metadata": {},
   "source": [
    "In contrast, the constant baseline always fills in the `-1`s with zeros:"
   ]
  },
  {
   "cell_type": "code",
   "execution_count": 24,
   "metadata": {
    "colab": null,
    "colab_type": "code",
    "id": "d6xNjdbjiO2p"
   },
   "outputs": [
    {
     "data": {
      "text/plain": [
       "array([[0, 0, 0, 0, 0],\n",
       "       [0, 0, 1, 1, 0],\n",
       "       [0, 1, 0, 1, 0],\n",
       "       [0, 1, 1, 0, 0],\n",
       "       [0, 1, 1, 1, 0]])"
      ]
     },
     "execution_count": 24,
     "metadata": {},
     "output_type": "execute_result"
    }
   ],
   "source": [
    "ans = constant_baseline.fill_in_with_model([\n",
    "  [-1, 0, 0, 0, -1],\n",
    "  [0, -1, 1, 1, -1],\n",
    "  [0, 1, -1, 1, -1],\n",
    "  [0, 1, 1, -1, -1],\n",
    "  [0, 1, 1, 1, -1]]\n",
    ")[0]\n",
    "ans"
   ]
  },
  {
   "cell_type": "code",
   "execution_count": 25,
   "metadata": {},
   "outputs": [
    {
     "data": {
      "text/plain": [
       "False"
      ]
     },
     "execution_count": 25,
     "metadata": {},
     "output_type": "execute_result"
    }
   ],
   "source": [
    "Magma(ans).is_associative"
   ]
  },
  {
   "cell_type": "code",
   "execution_count": null,
   "metadata": {},
   "outputs": [],
   "source": []
  }
 ],
 "metadata": {
  "accelerator": "GPU",
  "colab": {
   "name": "Copy of Copy of train_a_model.ipynb",
   "provenance": {
    "file_id": [
     "https://github.com/inpefess/neural-semigroups/blob/master/examples/train_a_model.ipynb",
     "timestamp",
     1586104136544
    ]
   }
  },
  "kernelspec": {
   "display_name": "Python 3",
   "language": "python",
   "name": "python3"
  },
  "language_info": {
   "codemirror_mode": {
    "name": "ipython",
    "version": 3
   },
   "file_extension": ".py",
   "mimetype": "text/x-python",
   "name": "python",
   "nbconvert_exporter": "python",
   "pygments_lexer": "ipython3",
   "version": "3.6.9"
  },
  "name": "train_a_model.ipynb"
 },
 "nbformat": 4,
 "nbformat_minor": 1
}

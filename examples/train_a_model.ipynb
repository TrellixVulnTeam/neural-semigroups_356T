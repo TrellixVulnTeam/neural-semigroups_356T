{
 "cells": [
  {
   "cell_type": "code",
   "execution_count": null,
   "metadata": {
    "colab": {
     "base_uri": "https://localhost:8080/",
     "height": 820
    },
    "colab_type": "code",
    "collapsed": false,
    "executionInfo": {
     "elapsed": 7927,
     "status": "ok",
     "timestamp": 1586193013830,
     "user": {
      "displayName": "",
      "photoUrl": "",
      "userId": ""
     },
     "user_tz": -180
    },
    "id": "ggqDc_vtiR4y",
    "outputId": "4a1ec1e9-9978-4466-e439-6eb49e9a0cdf"
   },
   "outputs": [],
   "source": [
    "# use this if you've just uploaded this notebook to Google Colaboratory\n",
    "# don't forget to restart your runtime after the package installation\n",
    "# better use a GPU runtime (TPU ones are not supported by the package yet)\n",
    "!pip install neural-semigroups"
   ]
  },
  {
   "cell_type": "markdown",
   "metadata": {
    "colab_type": "text",
    "collapsed": false,
    "id": "16fm12yGiO13"
   },
   "source": [
    "If you have a Cayley database, you can build a machine learning model for such a task:\n",
    "\n",
    "Given a partially filled Cayley table of a semigroup, restore the full one.\n",
    "\n",
    "It should be mentioned that a partially filled table sometimes can be filled in several ways to a full associative table. We will consider all such solutions as equally valid."
   ]
  },
  {
   "cell_type": "markdown",
   "metadata": {
    "colab_type": "text",
    "collapsed": false,
    "id": "u7H75-2WiO14"
   },
   "source": [
    "In `neural-semigroups` package we use `torch` for building deep learning models.\n",
    "\n",
    "First of all, we need to get some training and validation data.\n",
    "In this example, we take semigroups of 5 items, and hold 100 Cayley tables (each representing a different class of equivalent semigrous) as our training data, and another 100 tables as validation.\n",
    "This is a rough 10/90 split of all tables of 5 elements available (there are 1160 of them up to equivalence).\n",
    "\n",
    "Here we construct `DataLoaders` for `torch` which will feed a training pipeline with 512 tables at a time.\n",
    "This number (batch size) can be changed for fine-tuning the model's quality."
   ]
  },
  {
   "cell_type": "code",
   "execution_count": 1,
   "metadata": {
    "colab": {
     "base_uri": "https://localhost:8080/",
     "height": 102
    },
    "colab_type": "code",
    "collapsed": false,
    "executionInfo": {
     "elapsed": 17386,
     "status": "ok",
     "timestamp": 1586193043006,
     "user": {
      "displayName": "",
      "photoUrl": "",
      "userId": ""
     },
     "user_tz": -180
    },
    "id": "pcBK9-zViO15",
    "outputId": "e4ac5e11-f75b-4c4a-a6ee-192193e8fea1",
    "scrolled": true
   },
   "outputs": [
    {
     "name": "stderr",
     "output_type": "stream",
     "text": [
      "\r",
      "augmenting by equivalent tables:   0%|          | 0/100 [00:00<?, ?it/s]"
     ]
    },
    {
     "name": "stderr",
     "output_type": "stream",
     "text": [
      "\r",
      "augmenting by equivalent tables:  19%|█▉        | 19/100 [00:00<00:00, 187.10it/s]"
     ]
    },
    {
     "name": "stderr",
     "output_type": "stream",
     "text": [
      "\r",
      "augmenting by equivalent tables:  43%|████▎     | 43/100 [00:00<00:00, 198.84it/s]"
     ]
    },
    {
     "name": "stderr",
     "output_type": "stream",
     "text": [
      "\r",
      "augmenting by equivalent tables:  67%|██████▋   | 67/100 [00:00<00:00, 207.61it/s]"
     ]
    },
    {
     "name": "stderr",
     "output_type": "stream",
     "text": [
      "\r",
      "augmenting by equivalent tables:  91%|█████████ | 91/100 [00:00<00:00, 214.69it/s]"
     ]
    },
    {
     "name": "stderr",
     "output_type": "stream",
     "text": [
      "\r",
      "augmenting by equivalent tables: 100%|██████████| 100/100 [00:00<00:00, 221.84it/s]"
     ]
    },
    {
     "name": "stderr",
     "output_type": "stream",
     "text": [
      "\n",
      "\r",
      "generating train cubes:   0%|          | 0/15190 [00:00<?, ?it/s]"
     ]
    },
    {
     "name": "stderr",
     "output_type": "stream",
     "text": [
      "\r",
      "generating train cubes:  30%|███       | 4594/15190 [00:00<00:00, 45932.60it/s]"
     ]
    },
    {
     "name": "stderr",
     "output_type": "stream",
     "text": [
      "\r",
      "generating train cubes:  60%|█████▉    | 9091/15190 [00:00<00:00, 45639.27it/s]"
     ]
    },
    {
     "name": "stderr",
     "output_type": "stream",
     "text": [
      "\r",
      "generating train cubes:  89%|████████▉ | 13542/15190 [00:00<00:00, 45291.76it/s]"
     ]
    },
    {
     "name": "stderr",
     "output_type": "stream",
     "text": [
      "\r",
      "generating train cubes: 100%|██████████| 15190/15190 [00:00<00:00, 45048.70it/s]"
     ]
    },
    {
     "name": "stderr",
     "output_type": "stream",
     "text": [
      "\n",
      "\r",
      "generating validation cubes:   0%|          | 0/100 [00:00<?, ?it/s]"
     ]
    },
    {
     "name": "stderr",
     "output_type": "stream",
     "text": [
      "\r",
      "generating validation cubes: 100%|██████████| 100/100 [00:00<00:00, 36276.63it/s]"
     ]
    },
    {
     "name": "stderr",
     "output_type": "stream",
     "text": [
      "\n",
      "\r",
      "generating test cubes:   0%|          | 0/960 [00:00<?, ?it/s]"
     ]
    },
    {
     "name": "stderr",
     "output_type": "stream",
     "text": [
      "\r",
      "generating test cubes: 100%|██████████| 960/960 [00:00<00:00, 43487.29it/s]"
     ]
    },
    {
     "name": "stderr",
     "output_type": "stream",
     "text": [
      "\n"
     ]
    }
   ],
   "source": [
    "from neural_semigroups.training_helpers import get_loaders\n",
    "\n",
    "cardinality = 5\n",
    "data_loaders = get_loaders(\n",
    "    cardinality=cardinality,\n",
    "    batch_size=512,\n",
    "    train_size=100,\n",
    "    validation_size=100\n",
    ")"
   ]
  },
  {
   "cell_type": "markdown",
   "metadata": {
    "colab_type": "text",
    "collapsed": false,
    "id": "zw8TTr7_iO19"
   },
   "source": [
    "Note that for a training set we:\n",
    "* take 100 representatives of different equivalence classes\n",
    "* augment data by adding all equivalent tables\n",
    "* as a result, we will train on 16100 tables from 100 classes of equivalence\n",
    "\n",
    "For validation we simply use 100 tables from different classes."
   ]
  },
  {
   "cell_type": "markdown",
   "metadata": {
    "colab_type": "text",
    "collapsed": false,
    "id": "9Qyl3eAOiO1-"
   },
   "source": [
    "We model each input Cayley table as a three index tensor $a_{ijk}$ such that\n",
    "\n",
    "$a_{ijk}=P\\left\\{e_ie_j=e_k\\right\\}$\n",
    "\n",
    "where $e_i$ are elements of a semigroup.\n",
    "\n",
    "In our training data all $a_{ijk}$ are either zeros or ones, so probability distributions involved are degenerate.\n",
    "\n",
    "When we need to hide a cell with indices $i,j$ from an original Cayley table we set\n",
    "\n",
    "$a_{ijk}=\\dfrac1n$\n",
    "\n",
    "where $n$ is the semigroup's cardinality. Thus we set a probability distribution of the multiplication result $e_ie_j$ to discrete uniform."
   ]
  },
  {
   "cell_type": "markdown",
   "metadata": {
    "colab_type": "text",
    "collapsed": false,
    "id": "HJqD5qlziO1-"
   },
   "source": [
    "We choose a simple denoising autoencoder as an architecture for our neural network. It simply gets an input tensor of zeros and ones, hides 50% of input cells in a manner described earlier, and applies a linear transformation into a higher dimension ($n^5$ which is contrary to a common idea of autoencoders) with a simple `ReLU` non-linearity. Then another linear transformation to the same dimension with `ReLU` is applied, and then the last one to return back to the original $n^3$ dimension. We also apply batch normalization here. See the package code for the details."
   ]
  },
  {
   "cell_type": "code",
   "execution_count": 2,
   "metadata": {
    "colab": null,
    "colab_type": "code",
    "collapsed": false,
    "id": "aKqRTYjXiO1_"
   },
   "outputs": [],
   "source": [
    "from neural_semigroups import MagmaDAE\n",
    "from neural_semigroups.constants import CURRENT_DEVICE\n",
    "\n",
    "dae = MagmaDAE(\n",
    "    cardinality=cardinality,\n",
    "    hidden_dims=[\n",
    "        cardinality ** 5,\n",
    "        cardinality ** 5\n",
    "    ],\n",
    "    corruption_rate=0.5\n",
    ").to(CURRENT_DEVICE)"
   ]
  },
  {
   "cell_type": "markdown",
   "metadata": {
    "colab_type": "text",
    "collapsed": false,
    "id": "v_XyKiokHSMO"
   },
   "source": [
    "In total, our model has ca 20 million  parameters."
   ]
  },
  {
   "cell_type": "code",
   "execution_count": 3,
   "metadata": {
    "colab": {
     "base_uri": "https://localhost:8080/",
     "height": 34
    },
    "colab_type": "code",
    "collapsed": false,
    "executionInfo": {
     "elapsed": 1047,
     "status": "ok",
     "timestamp": 1586193342243,
     "user": {
      "displayName": "",
      "photoUrl": "",
      "userId": ""
     },
     "user_tz": -180
    },
    "id": "3vKeetXSiO2C",
    "outputId": "f8f31e12-0e85-425a-f849-d0ebe41b38e9"
   },
   "outputs": [
    {
     "data": {
      "text/plain": [
       "20341000"
      ]
     },
     "execution_count": 3,
     "metadata": {},
     "output_type": "execute_result"
    }
   ],
   "source": [
    "sum(p.numel() for p in dae.parameters())"
   ]
  },
  {
   "cell_type": "markdown",
   "metadata": {
    "colab_type": "text",
    "collapsed": false,
    "id": "V-wshINgiO2F"
   },
   "source": [
    "During the training process we try to minimize a special [associator loss](https://neural-semigroups.readthedocs.io/en/latest/package-documentation.html#associator-loss) on the output of the DAE."
   ]
  },
  {
   "cell_type": "code",
   "execution_count": 4,
   "metadata": {
    "colab": null,
    "colab_type": "code",
    "collapsed": false,
    "id": "8-Hdb9iaiO2G"
   },
   "outputs": [],
   "source": [
    "import torch\n",
    "from torch import Tensor\n",
    "from neural_semigroups import AssociatorLoss\n",
    "\n",
    "def loss(prediction: Tensor, target: Tensor) -> Tensor:\n",
    "    return AssociatorLoss()(prediction)"
   ]
  },
  {
   "cell_type": "markdown",
   "metadata": {
    "colab_type": "text",
    "collapsed": false,
    "id": "0OgutrW1iO2N"
   },
   "source": [
    "Now it's time to run a pipeline! Here you can tune the learning schedule for better results.\n",
    "\n",
    "You can construct your own pipeline if you don't want to import one provided by the package.\n",
    "\n",
    "In the next three cells we will run `tensorboard` to show training/validation curves during training process."
   ]
  },
  {
   "cell_type": "code",
   "execution_count": 5,
   "metadata": {
    "collapsed": false
   },
   "outputs": [],
   "source": [
    "%load_ext tensorboard"
   ]
  },
  {
   "cell_type": "code",
   "execution_count": 6,
   "metadata": {
    "collapsed": false
   },
   "outputs": [],
   "source": [
    "!pkill tensorboard"
   ]
  },
  {
   "cell_type": "code",
   "execution_count": 7,
   "metadata": {
    "collapsed": false
   },
   "outputs": [],
   "source": [
    "!rm -rf ./runs/"
   ]
  },
  {
   "cell_type": "code",
   "execution_count": 8,
   "metadata": {
    "collapsed": false
   },
   "outputs": [
    {
     "data": {
      "text/plain": [
       "Launching TensorBoard..."
      ]
     },
     "metadata": {},
     "output_type": "display_data"
    }
   ],
   "source": [
    "%tensorboard --logdir runs --host 0.0.0.0"
   ]
  },
  {
   "cell_type": "code",
   "execution_count": 9,
   "metadata": {
    "colab": {
     "base_uri": "https://localhost:8080/",
     "height": 51
    },
    "colab_type": "code",
    "collapsed": false,
    "executionInfo": {
     "elapsed": 189134,
     "status": "ok",
     "timestamp": 1586194222531,
     "user": {
      "displayName": "",
      "photoUrl": "",
      "userId": ""
     },
     "user_tz": -180
    },
    "id": "VfreVgnniO2W",
    "outputId": "36a8c815-81bf-49ac-d761-02649ac9779b"
   },
   "outputs": [
    {
     "data": {
      "application/vnd.jupyter.widget-view+json": {
       "model_id": "a503653764764ee38d30003d321bf740",
       "version_major": 2,
       "version_minor": 0
      },
      "text/plain": [
       "HBox(children=(FloatProgress(value=0.0, max=1000.0), HTML(value='')))"
      ]
     },
     "metadata": {},
     "output_type": "display_data"
    }
   ],
   "source": [
    "from neural_semigroups.training_helpers import learning_pipeline\n",
    "\n",
    "params = {\"learning_rate\": 0.001, \"epochs\": 1000}\n",
    "learning_pipeline(params, cardinality, dae, loss, data_loaders)"
   ]
  },
  {
   "cell_type": "markdown",
   "metadata": {
    "collapsed": false
   },
   "source": [
    "Now we restore the best saved model from a checkpoint."
   ]
  },
  {
   "cell_type": "code",
   "execution_count": 22,
   "metadata": {
    "collapsed": false
   },
   "outputs": [
    {
     "data": {
      "text/plain": [
       "<All keys matched successfully>"
      ]
     },
     "execution_count": 22,
     "metadata": {},
     "output_type": "execute_result"
    }
   ],
   "source": [
    "from neural_semigroups.utils import get_newest_file\n",
    "\n",
    "dae.load_state_dict(torch.load(get_newest_file(\"checkpoints\")))"
   ]
  },
  {
   "cell_type": "markdown",
   "metadata": {
    "colab_type": "text",
    "collapsed": false,
    "id": "K0ikjKaIiO2Y"
   },
   "source": [
    "And here is the report of results. It seems to be quite impressive. For it we took random 1000 Cayley tables from 5 elements (for different equivalent classes as always) and constructed 'puzzles' from it.\n",
    "\n",
    "Level of difficulty for a puzzle is a number of hidden cells. A puzzle is considered to be solved if the model returns a full associative table.\n",
    "\n",
    "We see that the model generalizes well (it was trained only on one tenth of all equivalence classes)."
   ]
  },
  {
   "cell_type": "code",
   "execution_count": 23,
   "metadata": {
    "colab": {
     "base_uri": "https://localhost:8080/",
     "height": 469
    },
    "colab_type": "code",
    "collapsed": false,
    "executionInfo": {
     "elapsed": 30223,
     "status": "ok",
     "timestamp": 1586194305892,
     "user": {
      "displayName": "",
      "photoUrl": "",
      "userId": ""
     },
     "user_tz": -180
    },
    "id": "xPGuNTipiO2Z",
    "outputId": "6bee8dfe-b81e-4c84-9984-4e35c8eba012"
   },
   "outputs": [
    {
     "name": "stderr",
     "output_type": "stream",
     "text": [
      "\r",
      "generating and solving puzzles:   0%|          | 0/1000 [00:00<?, ?it/s]"
     ]
    },
    {
     "name": "stderr",
     "output_type": "stream",
     "text": [
      "\r",
      "generating and solving puzzles:   0%|          | 1/1000 [00:00<02:03,  8.12it/s]"
     ]
    },
    {
     "name": "stderr",
     "output_type": "stream",
     "text": [
      "\r",
      "generating and solving puzzles:   0%|          | 2/1000 [00:00<02:02,  8.15it/s]"
     ]
    },
    {
     "name": "stderr",
     "output_type": "stream",
     "text": [
      "\r",
      "generating and solving puzzles:   0%|          | 3/1000 [00:00<02:03,  8.06it/s]"
     ]
    },
    {
     "name": "stderr",
     "output_type": "stream",
     "text": [
      "\r",
      "generating and solving puzzles:   0%|          | 4/1000 [00:00<02:05,  7.94it/s]"
     ]
    },
    {
     "name": "stderr",
     "output_type": "stream",
     "text": [
      "\r",
      "generating and solving puzzles:   0%|          | 5/1000 [00:00<02:03,  8.04it/s]"
     ]
    },
    {
     "name": "stderr",
     "output_type": "stream",
     "text": [
      "\r",
      "generating and solving puzzles:   1%|          | 6/1000 [00:00<02:01,  8.16it/s]"
     ]
    },
    {
     "name": "stderr",
     "output_type": "stream",
     "text": [
      "\r",
      "generating and solving puzzles:   1%|          | 7/1000 [00:00<02:00,  8.26it/s]"
     ]
    },
    {
     "name": "stderr",
     "output_type": "stream",
     "text": [
      "\r",
      "generating and solving puzzles:   1%|          | 8/1000 [00:00<01:58,  8.34it/s]"
     ]
    },
    {
     "name": "stderr",
     "output_type": "stream",
     "text": [
      "\r",
      "generating and solving puzzles:   1%|          | 9/1000 [00:01<02:00,  8.26it/s]"
     ]
    },
    {
     "name": "stderr",
     "output_type": "stream",
     "text": [
      "\r",
      "generating and solving puzzles:   1%|          | 10/1000 [00:01<01:59,  8.25it/s]"
     ]
    },
    {
     "name": "stderr",
     "output_type": "stream",
     "text": [
      "\r",
      "generating and solving puzzles:   1%|          | 11/1000 [00:01<02:00,  8.22it/s]"
     ]
    },
    {
     "name": "stderr",
     "output_type": "stream",
     "text": [
      "\r",
      "generating and solving puzzles:   1%|          | 12/1000 [00:01<02:00,  8.18it/s]"
     ]
    },
    {
     "name": "stderr",
     "output_type": "stream",
     "text": [
      "\r",
      "generating and solving puzzles:   1%|▏         | 13/1000 [00:01<02:02,  8.03it/s]"
     ]
    },
    {
     "name": "stderr",
     "output_type": "stream",
     "text": [
      "\r",
      "generating and solving puzzles:   1%|▏         | 14/1000 [00:01<02:02,  8.03it/s]"
     ]
    },
    {
     "name": "stderr",
     "output_type": "stream",
     "text": [
      "\r",
      "generating and solving puzzles:   2%|▏         | 15/1000 [00:01<02:01,  8.08it/s]"
     ]
    },
    {
     "name": "stderr",
     "output_type": "stream",
     "text": [
      "\r",
      "generating and solving puzzles:   2%|▏         | 16/1000 [00:01<02:00,  8.15it/s]"
     ]
    },
    {
     "name": "stderr",
     "output_type": "stream",
     "text": [
      "\r",
      "generating and solving puzzles:   2%|▏         | 17/1000 [00:02<01:59,  8.26it/s]"
     ]
    },
    {
     "name": "stderr",
     "output_type": "stream",
     "text": [
      "\r",
      "generating and solving puzzles:   2%|▏         | 18/1000 [00:02<01:57,  8.36it/s]"
     ]
    },
    {
     "name": "stderr",
     "output_type": "stream",
     "text": [
      "\r",
      "generating and solving puzzles:   2%|▏         | 19/1000 [00:02<01:57,  8.35it/s]"
     ]
    },
    {
     "name": "stderr",
     "output_type": "stream",
     "text": [
      "\r",
      "generating and solving puzzles:   2%|▏         | 20/1000 [00:02<01:58,  8.30it/s]"
     ]
    },
    {
     "name": "stderr",
     "output_type": "stream",
     "text": [
      "\r",
      "generating and solving puzzles:   2%|▏         | 21/1000 [00:02<01:57,  8.30it/s]"
     ]
    },
    {
     "name": "stderr",
     "output_type": "stream",
     "text": [
      "\r",
      "generating and solving puzzles:   2%|▏         | 22/1000 [00:02<01:57,  8.32it/s]"
     ]
    },
    {
     "name": "stderr",
     "output_type": "stream",
     "text": [
      "\r",
      "generating and solving puzzles:   2%|▏         | 23/1000 [00:02<01:56,  8.38it/s]"
     ]
    },
    {
     "name": "stderr",
     "output_type": "stream",
     "text": [
      "\r",
      "generating and solving puzzles:   2%|▏         | 24/1000 [00:02<01:55,  8.41it/s]"
     ]
    },
    {
     "name": "stderr",
     "output_type": "stream",
     "text": [
      "\r",
      "generating and solving puzzles:   2%|▎         | 25/1000 [00:03<01:58,  8.23it/s]"
     ]
    },
    {
     "name": "stderr",
     "output_type": "stream",
     "text": [
      "\r",
      "generating and solving puzzles:   3%|▎         | 26/1000 [00:03<02:01,  8.02it/s]"
     ]
    },
    {
     "name": "stderr",
     "output_type": "stream",
     "text": [
      "\r",
      "generating and solving puzzles:   3%|▎         | 27/1000 [00:03<02:00,  8.04it/s]"
     ]
    },
    {
     "name": "stderr",
     "output_type": "stream",
     "text": [
      "\r",
      "generating and solving puzzles:   3%|▎         | 28/1000 [00:03<01:58,  8.18it/s]"
     ]
    },
    {
     "name": "stderr",
     "output_type": "stream",
     "text": [
      "\r",
      "generating and solving puzzles:   3%|▎         | 29/1000 [00:03<01:57,  8.24it/s]"
     ]
    },
    {
     "name": "stderr",
     "output_type": "stream",
     "text": [
      "\r",
      "generating and solving puzzles:   3%|▎         | 30/1000 [00:03<01:56,  8.29it/s]"
     ]
    },
    {
     "name": "stderr",
     "output_type": "stream",
     "text": [
      "\r",
      "generating and solving puzzles:   3%|▎         | 31/1000 [00:03<01:54,  8.43it/s]"
     ]
    },
    {
     "name": "stderr",
     "output_type": "stream",
     "text": [
      "\r",
      "generating and solving puzzles:   3%|▎         | 32/1000 [00:03<01:55,  8.35it/s]"
     ]
    },
    {
     "name": "stderr",
     "output_type": "stream",
     "text": [
      "\r",
      "generating and solving puzzles:   3%|▎         | 33/1000 [00:04<01:56,  8.32it/s]"
     ]
    },
    {
     "name": "stderr",
     "output_type": "stream",
     "text": [
      "\r",
      "generating and solving puzzles:   3%|▎         | 34/1000 [00:04<01:57,  8.23it/s]"
     ]
    },
    {
     "name": "stderr",
     "output_type": "stream",
     "text": [
      "\r",
      "generating and solving puzzles:   4%|▎         | 35/1000 [00:04<01:56,  8.28it/s]"
     ]
    },
    {
     "name": "stderr",
     "output_type": "stream",
     "text": [
      "\r",
      "generating and solving puzzles:   4%|▎         | 36/1000 [00:04<01:58,  8.14it/s]"
     ]
    },
    {
     "name": "stderr",
     "output_type": "stream",
     "text": [
      "\r",
      "generating and solving puzzles:   4%|▎         | 37/1000 [00:04<02:00,  8.00it/s]"
     ]
    },
    {
     "name": "stderr",
     "output_type": "stream",
     "text": [
      "\r",
      "generating and solving puzzles:   4%|▍         | 38/1000 [00:04<01:58,  8.09it/s]"
     ]
    },
    {
     "name": "stderr",
     "output_type": "stream",
     "text": [
      "\r",
      "generating and solving puzzles:   4%|▍         | 39/1000 [00:04<01:57,  8.20it/s]"
     ]
    },
    {
     "name": "stderr",
     "output_type": "stream",
     "text": [
      "\r",
      "generating and solving puzzles:   4%|▍         | 40/1000 [00:04<01:56,  8.26it/s]"
     ]
    },
    {
     "name": "stderr",
     "output_type": "stream",
     "text": [
      "\r",
      "generating and solving puzzles:   4%|▍         | 41/1000 [00:04<01:55,  8.30it/s]"
     ]
    },
    {
     "name": "stderr",
     "output_type": "stream",
     "text": [
      "\r",
      "generating and solving puzzles:   4%|▍         | 42/1000 [00:05<01:54,  8.34it/s]"
     ]
    },
    {
     "name": "stderr",
     "output_type": "stream",
     "text": [
      "\r",
      "generating and solving puzzles:   4%|▍         | 43/1000 [00:05<01:55,  8.30it/s]"
     ]
    },
    {
     "name": "stderr",
     "output_type": "stream",
     "text": [
      "\r",
      "generating and solving puzzles:   4%|▍         | 44/1000 [00:05<01:55,  8.31it/s]"
     ]
    },
    {
     "name": "stderr",
     "output_type": "stream",
     "text": [
      "\r",
      "generating and solving puzzles:   4%|▍         | 45/1000 [00:05<01:53,  8.39it/s]"
     ]
    },
    {
     "name": "stderr",
     "output_type": "stream",
     "text": [
      "\r",
      "generating and solving puzzles:   5%|▍         | 46/1000 [00:05<01:53,  8.42it/s]"
     ]
    },
    {
     "name": "stderr",
     "output_type": "stream",
     "text": [
      "\r",
      "generating and solving puzzles:   5%|▍         | 47/1000 [00:05<01:53,  8.41it/s]"
     ]
    },
    {
     "name": "stderr",
     "output_type": "stream",
     "text": [
      "\r",
      "generating and solving puzzles:   5%|▍         | 48/1000 [00:05<01:55,  8.24it/s]"
     ]
    },
    {
     "name": "stderr",
     "output_type": "stream",
     "text": [
      "\r",
      "generating and solving puzzles:   5%|▍         | 49/1000 [00:05<01:57,  8.08it/s]"
     ]
    },
    {
     "name": "stderr",
     "output_type": "stream",
     "text": [
      "\r",
      "generating and solving puzzles:   5%|▌         | 50/1000 [00:06<01:56,  8.17it/s]"
     ]
    },
    {
     "name": "stderr",
     "output_type": "stream",
     "text": [
      "\r",
      "generating and solving puzzles:   5%|▌         | 51/1000 [00:06<01:56,  8.17it/s]"
     ]
    },
    {
     "name": "stderr",
     "output_type": "stream",
     "text": [
      "\r",
      "generating and solving puzzles:   5%|▌         | 52/1000 [00:06<01:54,  8.26it/s]"
     ]
    },
    {
     "name": "stderr",
     "output_type": "stream",
     "text": [
      "\r",
      "generating and solving puzzles:   5%|▌         | 53/1000 [00:06<01:54,  8.25it/s]"
     ]
    },
    {
     "name": "stderr",
     "output_type": "stream",
     "text": [
      "\r",
      "generating and solving puzzles:   5%|▌         | 54/1000 [00:06<01:54,  8.29it/s]"
     ]
    },
    {
     "name": "stderr",
     "output_type": "stream",
     "text": [
      "\r",
      "generating and solving puzzles:   6%|▌         | 55/1000 [00:06<01:53,  8.32it/s]"
     ]
    },
    {
     "name": "stderr",
     "output_type": "stream",
     "text": [
      "\r",
      "generating and solving puzzles:   6%|▌         | 56/1000 [00:06<01:53,  8.35it/s]"
     ]
    },
    {
     "name": "stderr",
     "output_type": "stream",
     "text": [
      "\r",
      "generating and solving puzzles:   6%|▌         | 57/1000 [00:06<01:52,  8.38it/s]"
     ]
    },
    {
     "name": "stderr",
     "output_type": "stream",
     "text": [
      "\r",
      "generating and solving puzzles:   6%|▌         | 58/1000 [00:07<01:52,  8.36it/s]"
     ]
    },
    {
     "name": "stderr",
     "output_type": "stream",
     "text": [
      "\r",
      "generating and solving puzzles:   6%|▌         | 59/1000 [00:07<01:52,  8.38it/s]"
     ]
    },
    {
     "name": "stderr",
     "output_type": "stream",
     "text": [
      "\r",
      "generating and solving puzzles:   6%|▌         | 60/1000 [00:07<01:52,  8.39it/s]"
     ]
    },
    {
     "name": "stderr",
     "output_type": "stream",
     "text": [
      "\r",
      "generating and solving puzzles:   6%|▌         | 61/1000 [00:07<01:54,  8.20it/s]"
     ]
    },
    {
     "name": "stderr",
     "output_type": "stream",
     "text": [
      "\r",
      "generating and solving puzzles:   6%|▌         | 62/1000 [00:07<01:56,  8.06it/s]"
     ]
    },
    {
     "name": "stderr",
     "output_type": "stream",
     "text": [
      "\r",
      "generating and solving puzzles:   6%|▋         | 63/1000 [00:07<01:54,  8.15it/s]"
     ]
    },
    {
     "name": "stderr",
     "output_type": "stream",
     "text": [
      "\r",
      "generating and solving puzzles:   6%|▋         | 64/1000 [00:07<01:53,  8.22it/s]"
     ]
    },
    {
     "name": "stderr",
     "output_type": "stream",
     "text": [
      "\r",
      "generating and solving puzzles:   6%|▋         | 65/1000 [00:07<01:52,  8.28it/s]"
     ]
    },
    {
     "name": "stderr",
     "output_type": "stream",
     "text": [
      "\r",
      "generating and solving puzzles:   7%|▋         | 66/1000 [00:08<01:52,  8.33it/s]"
     ]
    },
    {
     "name": "stderr",
     "output_type": "stream",
     "text": [
      "\r",
      "generating and solving puzzles:   7%|▋         | 67/1000 [00:08<01:51,  8.35it/s]"
     ]
    },
    {
     "name": "stderr",
     "output_type": "stream",
     "text": [
      "\r",
      "generating and solving puzzles:   7%|▋         | 68/1000 [00:08<01:51,  8.39it/s]"
     ]
    },
    {
     "name": "stderr",
     "output_type": "stream",
     "text": [
      "\r",
      "generating and solving puzzles:   7%|▋         | 69/1000 [00:08<01:51,  8.37it/s]"
     ]
    },
    {
     "name": "stderr",
     "output_type": "stream",
     "text": [
      "\r",
      "generating and solving puzzles:   7%|▋         | 70/1000 [00:08<01:52,  8.27it/s]"
     ]
    },
    {
     "name": "stderr",
     "output_type": "stream",
     "text": [
      "\r",
      "generating and solving puzzles:   7%|▋         | 71/1000 [00:08<01:52,  8.29it/s]"
     ]
    },
    {
     "name": "stderr",
     "output_type": "stream",
     "text": [
      "\r",
      "generating and solving puzzles:   7%|▋         | 72/1000 [00:08<01:51,  8.32it/s]"
     ]
    },
    {
     "name": "stderr",
     "output_type": "stream",
     "text": [
      "\r",
      "generating and solving puzzles:   7%|▋         | 73/1000 [00:08<01:53,  8.17it/s]"
     ]
    },
    {
     "name": "stderr",
     "output_type": "stream",
     "text": [
      "\r",
      "generating and solving puzzles:   7%|▋         | 74/1000 [00:08<01:56,  7.96it/s]"
     ]
    },
    {
     "name": "stderr",
     "output_type": "stream",
     "text": [
      "\r",
      "generating and solving puzzles:   8%|▊         | 75/1000 [00:09<01:54,  8.07it/s]"
     ]
    },
    {
     "name": "stderr",
     "output_type": "stream",
     "text": [
      "\r",
      "generating and solving puzzles:   8%|▊         | 76/1000 [00:09<01:52,  8.19it/s]"
     ]
    },
    {
     "name": "stderr",
     "output_type": "stream",
     "text": [
      "\r",
      "generating and solving puzzles:   8%|▊         | 77/1000 [00:09<01:51,  8.28it/s]"
     ]
    },
    {
     "name": "stderr",
     "output_type": "stream",
     "text": [
      "\r",
      "generating and solving puzzles:   8%|▊         | 78/1000 [00:09<01:50,  8.37it/s]"
     ]
    },
    {
     "name": "stderr",
     "output_type": "stream",
     "text": [
      "\r",
      "generating and solving puzzles:   8%|▊         | 79/1000 [00:09<01:50,  8.36it/s]"
     ]
    },
    {
     "name": "stderr",
     "output_type": "stream",
     "text": [
      "\r",
      "generating and solving puzzles:   8%|▊         | 80/1000 [00:09<01:48,  8.44it/s]"
     ]
    },
    {
     "name": "stderr",
     "output_type": "stream",
     "text": [
      "\r",
      "generating and solving puzzles:   8%|▊         | 81/1000 [00:09<01:48,  8.43it/s]"
     ]
    },
    {
     "name": "stderr",
     "output_type": "stream",
     "text": [
      "\r",
      "generating and solving puzzles:   8%|▊         | 82/1000 [00:09<01:48,  8.43it/s]"
     ]
    },
    {
     "name": "stderr",
     "output_type": "stream",
     "text": [
      "\r",
      "generating and solving puzzles:   8%|▊         | 83/1000 [00:10<01:49,  8.40it/s]"
     ]
    },
    {
     "name": "stderr",
     "output_type": "stream",
     "text": [
      "\r",
      "generating and solving puzzles:   8%|▊         | 84/1000 [00:10<01:51,  8.24it/s]"
     ]
    },
    {
     "name": "stderr",
     "output_type": "stream",
     "text": [
      "\r",
      "generating and solving puzzles:   8%|▊         | 85/1000 [00:10<01:53,  8.09it/s]"
     ]
    },
    {
     "name": "stderr",
     "output_type": "stream",
     "text": [
      "\r",
      "generating and solving puzzles:   9%|▊         | 86/1000 [00:10<01:54,  8.00it/s]"
     ]
    },
    {
     "name": "stderr",
     "output_type": "stream",
     "text": [
      "\r",
      "generating and solving puzzles:   9%|▊         | 87/1000 [00:10<01:52,  8.12it/s]"
     ]
    },
    {
     "name": "stderr",
     "output_type": "stream",
     "text": [
      "\r",
      "generating and solving puzzles:   9%|▉         | 88/1000 [00:10<01:51,  8.19it/s]"
     ]
    },
    {
     "name": "stderr",
     "output_type": "stream",
     "text": [
      "\r",
      "generating and solving puzzles:   9%|▉         | 89/1000 [00:10<01:49,  8.30it/s]"
     ]
    },
    {
     "name": "stderr",
     "output_type": "stream",
     "text": [
      "\r",
      "generating and solving puzzles:   9%|▉         | 90/1000 [00:10<01:49,  8.28it/s]"
     ]
    },
    {
     "name": "stderr",
     "output_type": "stream",
     "text": [
      "\r",
      "generating and solving puzzles:   9%|▉         | 91/1000 [00:11<01:49,  8.31it/s]"
     ]
    },
    {
     "name": "stderr",
     "output_type": "stream",
     "text": [
      "\r",
      "generating and solving puzzles:   9%|▉         | 92/1000 [00:11<01:48,  8.34it/s]"
     ]
    },
    {
     "name": "stderr",
     "output_type": "stream",
     "text": [
      "\r",
      "generating and solving puzzles:   9%|▉         | 93/1000 [00:11<01:48,  8.39it/s]"
     ]
    },
    {
     "name": "stderr",
     "output_type": "stream",
     "text": [
      "\r",
      "generating and solving puzzles:   9%|▉         | 94/1000 [00:11<01:47,  8.40it/s]"
     ]
    },
    {
     "name": "stderr",
     "output_type": "stream",
     "text": [
      "\r",
      "generating and solving puzzles:  10%|▉         | 95/1000 [00:11<01:51,  8.15it/s]"
     ]
    },
    {
     "name": "stderr",
     "output_type": "stream",
     "text": [
      "\r",
      "generating and solving puzzles:  10%|▉         | 96/1000 [00:11<01:52,  8.02it/s]"
     ]
    },
    {
     "name": "stderr",
     "output_type": "stream",
     "text": [
      "\r",
      "generating and solving puzzles:  10%|▉         | 97/1000 [00:11<01:51,  8.13it/s]"
     ]
    },
    {
     "name": "stderr",
     "output_type": "stream",
     "text": [
      "\r",
      "generating and solving puzzles:  10%|▉         | 98/1000 [00:11<01:50,  8.20it/s]"
     ]
    },
    {
     "name": "stderr",
     "output_type": "stream",
     "text": [
      "\r",
      "generating and solving puzzles:  10%|▉         | 99/1000 [00:12<01:49,  8.25it/s]"
     ]
    },
    {
     "name": "stderr",
     "output_type": "stream",
     "text": [
      "\r",
      "generating and solving puzzles:  10%|█         | 100/1000 [00:12<01:48,  8.32it/s]"
     ]
    },
    {
     "name": "stderr",
     "output_type": "stream",
     "text": [
      "\r",
      "generating and solving puzzles:  10%|█         | 101/1000 [00:12<01:48,  8.29it/s]"
     ]
    },
    {
     "name": "stderr",
     "output_type": "stream",
     "text": [
      "\r",
      "generating and solving puzzles:  10%|█         | 102/1000 [00:12<01:47,  8.32it/s]"
     ]
    },
    {
     "name": "stderr",
     "output_type": "stream",
     "text": [
      "\r",
      "generating and solving puzzles:  10%|█         | 103/1000 [00:12<01:47,  8.34it/s]"
     ]
    },
    {
     "name": "stderr",
     "output_type": "stream",
     "text": [
      "\r",
      "generating and solving puzzles:  10%|█         | 104/1000 [00:12<01:52,  7.95it/s]"
     ]
    },
    {
     "name": "stderr",
     "output_type": "stream",
     "text": [
      "\r",
      "generating and solving puzzles:  10%|█         | 105/1000 [00:12<01:50,  8.09it/s]"
     ]
    },
    {
     "name": "stderr",
     "output_type": "stream",
     "text": [
      "\r",
      "generating and solving puzzles:  11%|█         | 106/1000 [00:12<01:52,  7.95it/s]"
     ]
    },
    {
     "name": "stderr",
     "output_type": "stream",
     "text": [
      "\r",
      "generating and solving puzzles:  11%|█         | 107/1000 [00:13<01:53,  7.89it/s]"
     ]
    },
    {
     "name": "stderr",
     "output_type": "stream",
     "text": [
      "\r",
      "generating and solving puzzles:  11%|█         | 108/1000 [00:13<01:51,  8.02it/s]"
     ]
    },
    {
     "name": "stderr",
     "output_type": "stream",
     "text": [
      "\r",
      "generating and solving puzzles:  11%|█         | 109/1000 [00:13<01:49,  8.11it/s]"
     ]
    },
    {
     "name": "stderr",
     "output_type": "stream",
     "text": [
      "\r",
      "generating and solving puzzles:  11%|█         | 110/1000 [00:13<01:48,  8.21it/s]"
     ]
    },
    {
     "name": "stderr",
     "output_type": "stream",
     "text": [
      "\r",
      "generating and solving puzzles:  11%|█         | 111/1000 [00:13<01:46,  8.36it/s]"
     ]
    },
    {
     "name": "stderr",
     "output_type": "stream",
     "text": [
      "\r",
      "generating and solving puzzles:  11%|█         | 112/1000 [00:13<01:45,  8.44it/s]"
     ]
    },
    {
     "name": "stderr",
     "output_type": "stream",
     "text": [
      "\r",
      "generating and solving puzzles:  11%|█▏        | 113/1000 [00:13<01:46,  8.32it/s]"
     ]
    },
    {
     "name": "stderr",
     "output_type": "stream",
     "text": [
      "\r",
      "generating and solving puzzles:  11%|█▏        | 114/1000 [00:13<01:46,  8.35it/s]"
     ]
    },
    {
     "name": "stderr",
     "output_type": "stream",
     "text": [
      "\r",
      "generating and solving puzzles:  12%|█▏        | 115/1000 [00:13<01:45,  8.36it/s]"
     ]
    },
    {
     "name": "stderr",
     "output_type": "stream",
     "text": [
      "\r",
      "generating and solving puzzles:  12%|█▏        | 116/1000 [00:14<01:46,  8.26it/s]"
     ]
    },
    {
     "name": "stderr",
     "output_type": "stream",
     "text": [
      "\r",
      "generating and solving puzzles:  12%|█▏        | 117/1000 [00:14<01:49,  8.09it/s]"
     ]
    },
    {
     "name": "stderr",
     "output_type": "stream",
     "text": [
      "\r",
      "generating and solving puzzles:  12%|█▏        | 118/1000 [00:14<01:48,  8.10it/s]"
     ]
    },
    {
     "name": "stderr",
     "output_type": "stream",
     "text": [
      "\r",
      "generating and solving puzzles:  12%|█▏        | 119/1000 [00:14<01:48,  8.12it/s]"
     ]
    },
    {
     "name": "stderr",
     "output_type": "stream",
     "text": [
      "\r",
      "generating and solving puzzles:  12%|█▏        | 120/1000 [00:14<01:47,  8.20it/s]"
     ]
    },
    {
     "name": "stderr",
     "output_type": "stream",
     "text": [
      "\r",
      "generating and solving puzzles:  12%|█▏        | 121/1000 [00:14<01:45,  8.33it/s]"
     ]
    },
    {
     "name": "stderr",
     "output_type": "stream",
     "text": [
      "\r",
      "generating and solving puzzles:  12%|█▏        | 122/1000 [00:14<01:44,  8.38it/s]"
     ]
    },
    {
     "name": "stderr",
     "output_type": "stream",
     "text": [
      "\r",
      "generating and solving puzzles:  12%|█▏        | 123/1000 [00:14<01:44,  8.39it/s]"
     ]
    },
    {
     "name": "stderr",
     "output_type": "stream",
     "text": [
      "\r",
      "generating and solving puzzles:  12%|█▏        | 124/1000 [00:15<01:44,  8.40it/s]"
     ]
    },
    {
     "name": "stderr",
     "output_type": "stream",
     "text": [
      "\r",
      "generating and solving puzzles:  12%|█▎        | 125/1000 [00:15<01:44,  8.41it/s]"
     ]
    },
    {
     "name": "stderr",
     "output_type": "stream",
     "text": [
      "\r",
      "generating and solving puzzles:  13%|█▎        | 126/1000 [00:15<01:43,  8.42it/s]"
     ]
    },
    {
     "name": "stderr",
     "output_type": "stream",
     "text": [
      "\r",
      "generating and solving puzzles:  13%|█▎        | 127/1000 [00:15<01:45,  8.25it/s]"
     ]
    },
    {
     "name": "stderr",
     "output_type": "stream",
     "text": [
      "\r",
      "generating and solving puzzles:  13%|█▎        | 128/1000 [00:15<01:48,  8.06it/s]"
     ]
    },
    {
     "name": "stderr",
     "output_type": "stream",
     "text": [
      "\r",
      "generating and solving puzzles:  13%|█▎        | 129/1000 [00:15<01:48,  8.03it/s]"
     ]
    },
    {
     "name": "stderr",
     "output_type": "stream",
     "text": [
      "\r",
      "generating and solving puzzles:  13%|█▎        | 130/1000 [00:15<01:48,  8.01it/s]"
     ]
    },
    {
     "name": "stderr",
     "output_type": "stream",
     "text": [
      "\r",
      "generating and solving puzzles:  13%|█▎        | 131/1000 [00:15<01:49,  7.93it/s]"
     ]
    },
    {
     "name": "stderr",
     "output_type": "stream",
     "text": [
      "\r",
      "generating and solving puzzles:  13%|█▎        | 132/1000 [00:16<01:50,  7.84it/s]"
     ]
    },
    {
     "name": "stderr",
     "output_type": "stream",
     "text": [
      "\r",
      "generating and solving puzzles:  13%|█▎        | 133/1000 [00:16<01:48,  7.96it/s]"
     ]
    },
    {
     "name": "stderr",
     "output_type": "stream",
     "text": [
      "\r",
      "generating and solving puzzles:  13%|█▎        | 134/1000 [00:16<01:46,  8.12it/s]"
     ]
    },
    {
     "name": "stderr",
     "output_type": "stream",
     "text": [
      "\r",
      "generating and solving puzzles:  14%|█▎        | 135/1000 [00:16<01:45,  8.17it/s]"
     ]
    },
    {
     "name": "stderr",
     "output_type": "stream",
     "text": [
      "\r",
      "generating and solving puzzles:  14%|█▎        | 136/1000 [00:16<01:44,  8.24it/s]"
     ]
    },
    {
     "name": "stderr",
     "output_type": "stream",
     "text": [
      "\r",
      "generating and solving puzzles:  14%|█▎        | 137/1000 [00:16<01:45,  8.17it/s]"
     ]
    },
    {
     "name": "stderr",
     "output_type": "stream",
     "text": [
      "\r",
      "generating and solving puzzles:  14%|█▍        | 138/1000 [00:16<01:47,  8.03it/s]"
     ]
    },
    {
     "name": "stderr",
     "output_type": "stream",
     "text": [
      "\r",
      "generating and solving puzzles:  14%|█▍        | 139/1000 [00:16<01:48,  7.92it/s]"
     ]
    },
    {
     "name": "stderr",
     "output_type": "stream",
     "text": [
      "\r",
      "generating and solving puzzles:  14%|█▍        | 140/1000 [00:17<01:47,  8.02it/s]"
     ]
    },
    {
     "name": "stderr",
     "output_type": "stream",
     "text": [
      "\r",
      "generating and solving puzzles:  14%|█▍        | 141/1000 [00:17<01:45,  8.13it/s]"
     ]
    },
    {
     "name": "stderr",
     "output_type": "stream",
     "text": [
      "\r",
      "generating and solving puzzles:  14%|█▍        | 142/1000 [00:17<01:45,  8.15it/s]"
     ]
    },
    {
     "name": "stderr",
     "output_type": "stream",
     "text": [
      "\r",
      "generating and solving puzzles:  14%|█▍        | 143/1000 [00:17<01:45,  8.11it/s]"
     ]
    },
    {
     "name": "stderr",
     "output_type": "stream",
     "text": [
      "\r",
      "generating and solving puzzles:  14%|█▍        | 144/1000 [00:17<01:46,  8.01it/s]"
     ]
    },
    {
     "name": "stderr",
     "output_type": "stream",
     "text": [
      "\r",
      "generating and solving puzzles:  14%|█▍        | 145/1000 [00:17<01:47,  7.95it/s]"
     ]
    },
    {
     "name": "stderr",
     "output_type": "stream",
     "text": [
      "\r",
      "generating and solving puzzles:  15%|█▍        | 146/1000 [00:17<01:46,  8.02it/s]"
     ]
    },
    {
     "name": "stderr",
     "output_type": "stream",
     "text": [
      "\r",
      "generating and solving puzzles:  15%|█▍        | 147/1000 [00:17<01:45,  8.05it/s]"
     ]
    },
    {
     "name": "stderr",
     "output_type": "stream",
     "text": [
      "\r",
      "generating and solving puzzles:  15%|█▍        | 148/1000 [00:18<01:46,  8.03it/s]"
     ]
    },
    {
     "name": "stderr",
     "output_type": "stream",
     "text": [
      "\r",
      "generating and solving puzzles:  15%|█▍        | 149/1000 [00:18<01:46,  7.97it/s]"
     ]
    },
    {
     "name": "stderr",
     "output_type": "stream",
     "text": [
      "\r",
      "generating and solving puzzles:  15%|█▌        | 150/1000 [00:18<01:47,  7.91it/s]"
     ]
    },
    {
     "name": "stderr",
     "output_type": "stream",
     "text": [
      "\r",
      "generating and solving puzzles:  15%|█▌        | 151/1000 [00:18<01:46,  7.96it/s]"
     ]
    },
    {
     "name": "stderr",
     "output_type": "stream",
     "text": [
      "\r",
      "generating and solving puzzles:  15%|█▌        | 152/1000 [00:18<01:44,  8.08it/s]"
     ]
    },
    {
     "name": "stderr",
     "output_type": "stream",
     "text": [
      "\r",
      "generating and solving puzzles:  15%|█▌        | 153/1000 [00:18<01:44,  8.12it/s]"
     ]
    },
    {
     "name": "stderr",
     "output_type": "stream",
     "text": [
      "\r",
      "generating and solving puzzles:  15%|█▌        | 154/1000 [00:18<01:45,  8.05it/s]"
     ]
    },
    {
     "name": "stderr",
     "output_type": "stream",
     "text": [
      "\r",
      "generating and solving puzzles:  16%|█▌        | 155/1000 [00:18<01:46,  7.91it/s]"
     ]
    },
    {
     "name": "stderr",
     "output_type": "stream",
     "text": [
      "\r",
      "generating and solving puzzles:  16%|█▌        | 156/1000 [00:19<01:45,  8.04it/s]"
     ]
    },
    {
     "name": "stderr",
     "output_type": "stream",
     "text": [
      "\r",
      "generating and solving puzzles:  16%|█▌        | 157/1000 [00:19<01:44,  8.07it/s]"
     ]
    },
    {
     "name": "stderr",
     "output_type": "stream",
     "text": [
      "\r",
      "generating and solving puzzles:  16%|█▌        | 158/1000 [00:19<01:43,  8.16it/s]"
     ]
    },
    {
     "name": "stderr",
     "output_type": "stream",
     "text": [
      "\r",
      "generating and solving puzzles:  16%|█▌        | 159/1000 [00:19<01:42,  8.23it/s]"
     ]
    },
    {
     "name": "stderr",
     "output_type": "stream",
     "text": [
      "\r",
      "generating and solving puzzles:  16%|█▌        | 160/1000 [00:19<01:40,  8.32it/s]"
     ]
    },
    {
     "name": "stderr",
     "output_type": "stream",
     "text": [
      "\r",
      "generating and solving puzzles:  16%|█▌        | 161/1000 [00:19<01:40,  8.38it/s]"
     ]
    },
    {
     "name": "stderr",
     "output_type": "stream",
     "text": [
      "\r",
      "generating and solving puzzles:  16%|█▌        | 162/1000 [00:19<01:39,  8.39it/s]"
     ]
    },
    {
     "name": "stderr",
     "output_type": "stream",
     "text": [
      "\r",
      "generating and solving puzzles:  16%|█▋        | 163/1000 [00:19<01:39,  8.39it/s]"
     ]
    },
    {
     "name": "stderr",
     "output_type": "stream",
     "text": [
      "\r",
      "generating and solving puzzles:  16%|█▋        | 164/1000 [00:19<01:39,  8.43it/s]"
     ]
    },
    {
     "name": "stderr",
     "output_type": "stream",
     "text": [
      "\r",
      "generating and solving puzzles:  16%|█▋        | 165/1000 [00:20<01:40,  8.28it/s]"
     ]
    },
    {
     "name": "stderr",
     "output_type": "stream",
     "text": [
      "\r",
      "generating and solving puzzles:  17%|█▋        | 166/1000 [00:20<01:43,  8.10it/s]"
     ]
    },
    {
     "name": "stderr",
     "output_type": "stream",
     "text": [
      "\r",
      "generating and solving puzzles:  17%|█▋        | 167/1000 [00:20<01:42,  8.10it/s]"
     ]
    },
    {
     "name": "stderr",
     "output_type": "stream",
     "text": [
      "\r",
      "generating and solving puzzles:  17%|█▋        | 168/1000 [00:20<01:43,  8.05it/s]"
     ]
    },
    {
     "name": "stderr",
     "output_type": "stream",
     "text": [
      "\r",
      "generating and solving puzzles:  17%|█▋        | 169/1000 [00:20<01:42,  8.14it/s]"
     ]
    },
    {
     "name": "stderr",
     "output_type": "stream",
     "text": [
      "\r",
      "generating and solving puzzles:  17%|█▋        | 170/1000 [00:20<01:43,  8.06it/s]"
     ]
    },
    {
     "name": "stderr",
     "output_type": "stream",
     "text": [
      "\r",
      "generating and solving puzzles:  17%|█▋        | 171/1000 [00:20<01:44,  7.94it/s]"
     ]
    },
    {
     "name": "stderr",
     "output_type": "stream",
     "text": [
      "\r",
      "generating and solving puzzles:  17%|█▋        | 172/1000 [00:20<01:43,  7.96it/s]"
     ]
    },
    {
     "name": "stderr",
     "output_type": "stream",
     "text": [
      "\r",
      "generating and solving puzzles:  17%|█▋        | 173/1000 [00:21<01:42,  8.07it/s]"
     ]
    },
    {
     "name": "stderr",
     "output_type": "stream",
     "text": [
      "\r",
      "generating and solving puzzles:  17%|█▋        | 174/1000 [00:21<01:42,  8.09it/s]"
     ]
    },
    {
     "name": "stderr",
     "output_type": "stream",
     "text": [
      "\r",
      "generating and solving puzzles:  18%|█▊        | 175/1000 [00:21<01:43,  7.98it/s]"
     ]
    },
    {
     "name": "stderr",
     "output_type": "stream",
     "text": [
      "\r",
      "generating and solving puzzles:  18%|█▊        | 176/1000 [00:21<01:44,  7.89it/s]"
     ]
    },
    {
     "name": "stderr",
     "output_type": "stream",
     "text": [
      "\r",
      "generating and solving puzzles:  18%|█▊        | 177/1000 [00:21<01:43,  7.98it/s]"
     ]
    },
    {
     "name": "stderr",
     "output_type": "stream",
     "text": [
      "\r",
      "generating and solving puzzles:  18%|█▊        | 178/1000 [00:21<01:42,  7.99it/s]"
     ]
    },
    {
     "name": "stderr",
     "output_type": "stream",
     "text": [
      "\r",
      "generating and solving puzzles:  18%|█▊        | 179/1000 [00:21<01:41,  8.06it/s]"
     ]
    },
    {
     "name": "stderr",
     "output_type": "stream",
     "text": [
      "\r",
      "generating and solving puzzles:  18%|█▊        | 180/1000 [00:21<01:42,  7.96it/s]"
     ]
    },
    {
     "name": "stderr",
     "output_type": "stream",
     "text": [
      "\r",
      "generating and solving puzzles:  18%|█▊        | 181/1000 [00:22<01:43,  7.89it/s]"
     ]
    },
    {
     "name": "stderr",
     "output_type": "stream",
     "text": [
      "\r",
      "generating and solving puzzles:  18%|█▊        | 182/1000 [00:22<01:42,  7.98it/s]"
     ]
    },
    {
     "name": "stderr",
     "output_type": "stream",
     "text": [
      "\r",
      "generating and solving puzzles:  18%|█▊        | 183/1000 [00:22<01:40,  8.09it/s]"
     ]
    },
    {
     "name": "stderr",
     "output_type": "stream",
     "text": [
      "\r",
      "generating and solving puzzles:  18%|█▊        | 184/1000 [00:22<01:39,  8.19it/s]"
     ]
    },
    {
     "name": "stderr",
     "output_type": "stream",
     "text": [
      "\r",
      "generating and solving puzzles:  18%|█▊        | 185/1000 [00:22<01:38,  8.25it/s]"
     ]
    },
    {
     "name": "stderr",
     "output_type": "stream",
     "text": [
      "\r",
      "generating and solving puzzles:  19%|█▊        | 186/1000 [00:22<01:38,  8.27it/s]"
     ]
    },
    {
     "name": "stderr",
     "output_type": "stream",
     "text": [
      "\r",
      "generating and solving puzzles:  19%|█▊        | 187/1000 [00:22<01:37,  8.32it/s]"
     ]
    },
    {
     "name": "stderr",
     "output_type": "stream",
     "text": [
      "\r",
      "generating and solving puzzles:  19%|█▉        | 188/1000 [00:22<01:37,  8.36it/s]"
     ]
    },
    {
     "name": "stderr",
     "output_type": "stream",
     "text": [
      "\r",
      "generating and solving puzzles:  19%|█▉        | 189/1000 [00:23<01:39,  8.18it/s]"
     ]
    },
    {
     "name": "stderr",
     "output_type": "stream",
     "text": [
      "\r",
      "generating and solving puzzles:  19%|█▉        | 190/1000 [00:23<01:40,  8.03it/s]"
     ]
    },
    {
     "name": "stderr",
     "output_type": "stream",
     "text": [
      "\r",
      "generating and solving puzzles:  19%|█▉        | 191/1000 [00:23<01:41,  7.99it/s]"
     ]
    },
    {
     "name": "stderr",
     "output_type": "stream",
     "text": [
      "\r",
      "generating and solving puzzles:  19%|█▉        | 192/1000 [00:23<01:41,  7.97it/s]"
     ]
    },
    {
     "name": "stderr",
     "output_type": "stream",
     "text": [
      "\r",
      "generating and solving puzzles:  19%|█▉        | 193/1000 [00:23<01:42,  7.88it/s]"
     ]
    },
    {
     "name": "stderr",
     "output_type": "stream",
     "text": [
      "\r",
      "generating and solving puzzles:  19%|█▉        | 194/1000 [00:23<01:42,  7.85it/s]"
     ]
    },
    {
     "name": "stderr",
     "output_type": "stream",
     "text": [
      "\r",
      "generating and solving puzzles:  20%|█▉        | 195/1000 [00:23<01:41,  7.95it/s]"
     ]
    },
    {
     "name": "stderr",
     "output_type": "stream",
     "text": [
      "\r",
      "generating and solving puzzles:  20%|█▉        | 196/1000 [00:23<01:39,  8.07it/s]"
     ]
    },
    {
     "name": "stderr",
     "output_type": "stream",
     "text": [
      "\r",
      "generating and solving puzzles:  20%|█▉        | 197/1000 [00:24<01:38,  8.17it/s]"
     ]
    },
    {
     "name": "stderr",
     "output_type": "stream",
     "text": [
      "\r",
      "generating and solving puzzles:  20%|█▉        | 198/1000 [00:24<01:36,  8.27it/s]"
     ]
    },
    {
     "name": "stderr",
     "output_type": "stream",
     "text": [
      "\r",
      "generating and solving puzzles:  20%|█▉        | 199/1000 [00:24<01:38,  8.17it/s]"
     ]
    },
    {
     "name": "stderr",
     "output_type": "stream",
     "text": [
      "\r",
      "generating and solving puzzles:  20%|██        | 200/1000 [00:24<01:39,  8.01it/s]"
     ]
    },
    {
     "name": "stderr",
     "output_type": "stream",
     "text": [
      "\r",
      "generating and solving puzzles:  20%|██        | 201/1000 [00:24<01:40,  7.95it/s]"
     ]
    },
    {
     "name": "stderr",
     "output_type": "stream",
     "text": [
      "\r",
      "generating and solving puzzles:  20%|██        | 202/1000 [00:24<01:39,  8.01it/s]"
     ]
    },
    {
     "name": "stderr",
     "output_type": "stream",
     "text": [
      "\r",
      "generating and solving puzzles:  20%|██        | 203/1000 [00:24<01:39,  8.01it/s]"
     ]
    },
    {
     "name": "stderr",
     "output_type": "stream",
     "text": [
      "\r",
      "generating and solving puzzles:  20%|██        | 204/1000 [00:24<01:40,  7.92it/s]"
     ]
    },
    {
     "name": "stderr",
     "output_type": "stream",
     "text": [
      "\r",
      "generating and solving puzzles:  20%|██        | 205/1000 [00:25<01:41,  7.85it/s]"
     ]
    },
    {
     "name": "stderr",
     "output_type": "stream",
     "text": [
      "\r",
      "generating and solving puzzles:  21%|██        | 206/1000 [00:25<01:40,  7.91it/s]"
     ]
    },
    {
     "name": "stderr",
     "output_type": "stream",
     "text": [
      "\r",
      "generating and solving puzzles:  21%|██        | 207/1000 [00:25<01:39,  7.97it/s]"
     ]
    },
    {
     "name": "stderr",
     "output_type": "stream",
     "text": [
      "\r",
      "generating and solving puzzles:  21%|██        | 208/1000 [00:25<01:39,  7.92it/s]"
     ]
    },
    {
     "name": "stderr",
     "output_type": "stream",
     "text": [
      "\r",
      "generating and solving puzzles:  21%|██        | 209/1000 [00:25<01:40,  7.85it/s]"
     ]
    },
    {
     "name": "stderr",
     "output_type": "stream",
     "text": [
      "\r",
      "generating and solving puzzles:  21%|██        | 210/1000 [00:25<01:39,  7.92it/s]"
     ]
    },
    {
     "name": "stderr",
     "output_type": "stream",
     "text": [
      "\r",
      "generating and solving puzzles:  21%|██        | 211/1000 [00:25<01:38,  8.00it/s]"
     ]
    },
    {
     "name": "stderr",
     "output_type": "stream",
     "text": [
      "\r",
      "generating and solving puzzles:  21%|██        | 212/1000 [00:25<01:38,  7.98it/s]"
     ]
    },
    {
     "name": "stderr",
     "output_type": "stream",
     "text": [
      "\r",
      "generating and solving puzzles:  21%|██▏       | 213/1000 [00:26<01:38,  7.96it/s]"
     ]
    },
    {
     "name": "stderr",
     "output_type": "stream",
     "text": [
      "\r",
      "generating and solving puzzles:  21%|██▏       | 214/1000 [00:26<01:40,  7.86it/s]"
     ]
    },
    {
     "name": "stderr",
     "output_type": "stream",
     "text": [
      "\r",
      "generating and solving puzzles:  22%|██▏       | 215/1000 [00:26<01:39,  7.92it/s]"
     ]
    },
    {
     "name": "stderr",
     "output_type": "stream",
     "text": [
      "\r",
      "generating and solving puzzles:  22%|██▏       | 216/1000 [00:26<01:38,  7.97it/s]"
     ]
    },
    {
     "name": "stderr",
     "output_type": "stream",
     "text": [
      "\r",
      "generating and solving puzzles:  22%|██▏       | 217/1000 [00:26<01:37,  8.03it/s]"
     ]
    },
    {
     "name": "stderr",
     "output_type": "stream",
     "text": [
      "\r",
      "generating and solving puzzles:  22%|██▏       | 218/1000 [00:26<01:38,  7.97it/s]"
     ]
    },
    {
     "name": "stderr",
     "output_type": "stream",
     "text": [
      "\r",
      "generating and solving puzzles:  22%|██▏       | 219/1000 [00:26<01:39,  7.88it/s]"
     ]
    },
    {
     "name": "stderr",
     "output_type": "stream",
     "text": [
      "\r",
      "generating and solving puzzles:  22%|██▏       | 220/1000 [00:26<01:38,  7.95it/s]"
     ]
    },
    {
     "name": "stderr",
     "output_type": "stream",
     "text": [
      "\r",
      "generating and solving puzzles:  22%|██▏       | 221/1000 [00:27<01:37,  7.95it/s]"
     ]
    },
    {
     "name": "stderr",
     "output_type": "stream",
     "text": [
      "\r",
      "generating and solving puzzles:  22%|██▏       | 222/1000 [00:27<01:38,  7.92it/s]"
     ]
    },
    {
     "name": "stderr",
     "output_type": "stream",
     "text": [
      "\r",
      "generating and solving puzzles:  22%|██▏       | 223/1000 [00:27<01:38,  7.87it/s]"
     ]
    },
    {
     "name": "stderr",
     "output_type": "stream",
     "text": [
      "\r",
      "generating and solving puzzles:  22%|██▏       | 224/1000 [00:27<01:38,  7.88it/s]"
     ]
    },
    {
     "name": "stderr",
     "output_type": "stream",
     "text": [
      "\r",
      "generating and solving puzzles:  22%|██▎       | 225/1000 [00:27<01:37,  7.98it/s]"
     ]
    },
    {
     "name": "stderr",
     "output_type": "stream",
     "text": [
      "\r",
      "generating and solving puzzles:  23%|██▎       | 226/1000 [00:27<01:36,  8.02it/s]"
     ]
    },
    {
     "name": "stderr",
     "output_type": "stream",
     "text": [
      "\r",
      "generating and solving puzzles:  23%|██▎       | 227/1000 [00:27<01:37,  7.96it/s]"
     ]
    },
    {
     "name": "stderr",
     "output_type": "stream",
     "text": [
      "\r",
      "generating and solving puzzles:  23%|██▎       | 228/1000 [00:27<01:37,  7.88it/s]"
     ]
    },
    {
     "name": "stderr",
     "output_type": "stream",
     "text": [
      "\r",
      "generating and solving puzzles:  23%|██▎       | 229/1000 [00:28<01:36,  7.96it/s]"
     ]
    },
    {
     "name": "stderr",
     "output_type": "stream",
     "text": [
      "\r",
      "generating and solving puzzles:  23%|██▎       | 230/1000 [00:28<01:36,  8.01it/s]"
     ]
    },
    {
     "name": "stderr",
     "output_type": "stream",
     "text": [
      "\r",
      "generating and solving puzzles:  23%|██▎       | 231/1000 [00:28<01:34,  8.15it/s]"
     ]
    },
    {
     "name": "stderr",
     "output_type": "stream",
     "text": [
      "\r",
      "generating and solving puzzles:  23%|██▎       | 232/1000 [00:28<01:33,  8.18it/s]"
     ]
    },
    {
     "name": "stderr",
     "output_type": "stream",
     "text": [
      "\r",
      "generating and solving puzzles:  23%|██▎       | 233/1000 [00:28<01:35,  8.07it/s]"
     ]
    },
    {
     "name": "stderr",
     "output_type": "stream",
     "text": [
      "\r",
      "generating and solving puzzles:  23%|██▎       | 234/1000 [00:28<01:35,  7.99it/s]"
     ]
    },
    {
     "name": "stderr",
     "output_type": "stream",
     "text": [
      "\r",
      "generating and solving puzzles:  24%|██▎       | 235/1000 [00:28<01:34,  8.07it/s]"
     ]
    },
    {
     "name": "stderr",
     "output_type": "stream",
     "text": [
      "\r",
      "generating and solving puzzles:  24%|██▎       | 236/1000 [00:28<01:34,  8.06it/s]"
     ]
    },
    {
     "name": "stderr",
     "output_type": "stream",
     "text": [
      "\r",
      "generating and solving puzzles:  24%|██▎       | 237/1000 [00:29<01:33,  8.15it/s]"
     ]
    },
    {
     "name": "stderr",
     "output_type": "stream",
     "text": [
      "\r",
      "generating and solving puzzles:  24%|██▍       | 238/1000 [00:29<01:34,  8.05it/s]"
     ]
    },
    {
     "name": "stderr",
     "output_type": "stream",
     "text": [
      "\r",
      "generating and solving puzzles:  24%|██▍       | 239/1000 [00:29<01:35,  7.96it/s]"
     ]
    },
    {
     "name": "stderr",
     "output_type": "stream",
     "text": [
      "\r",
      "generating and solving puzzles:  24%|██▍       | 240/1000 [00:29<01:34,  8.02it/s]"
     ]
    },
    {
     "name": "stderr",
     "output_type": "stream",
     "text": [
      "\r",
      "generating and solving puzzles:  24%|██▍       | 241/1000 [00:29<01:33,  8.11it/s]"
     ]
    },
    {
     "name": "stderr",
     "output_type": "stream",
     "text": [
      "\r",
      "generating and solving puzzles:  24%|██▍       | 242/1000 [00:29<01:32,  8.24it/s]"
     ]
    },
    {
     "name": "stderr",
     "output_type": "stream",
     "text": [
      "\r",
      "generating and solving puzzles:  24%|██▍       | 243/1000 [00:29<01:31,  8.30it/s]"
     ]
    },
    {
     "name": "stderr",
     "output_type": "stream",
     "text": [
      "\r",
      "generating and solving puzzles:  24%|██▍       | 244/1000 [00:29<01:31,  8.29it/s]"
     ]
    },
    {
     "name": "stderr",
     "output_type": "stream",
     "text": [
      "\r",
      "generating and solving puzzles:  24%|██▍       | 245/1000 [00:30<01:30,  8.32it/s]"
     ]
    },
    {
     "name": "stderr",
     "output_type": "stream",
     "text": [
      "\r",
      "generating and solving puzzles:  25%|██▍       | 246/1000 [00:30<01:32,  8.14it/s]"
     ]
    },
    {
     "name": "stderr",
     "output_type": "stream",
     "text": [
      "\r",
      "generating and solving puzzles:  25%|██▍       | 247/1000 [00:30<01:32,  8.10it/s]"
     ]
    },
    {
     "name": "stderr",
     "output_type": "stream",
     "text": [
      "\r",
      "generating and solving puzzles:  25%|██▍       | 248/1000 [00:30<01:33,  8.01it/s]"
     ]
    },
    {
     "name": "stderr",
     "output_type": "stream",
     "text": [
      "\r",
      "generating and solving puzzles:  25%|██▍       | 249/1000 [00:30<01:33,  8.00it/s]"
     ]
    },
    {
     "name": "stderr",
     "output_type": "stream",
     "text": [
      "\r",
      "generating and solving puzzles:  25%|██▌       | 250/1000 [00:30<01:32,  8.11it/s]"
     ]
    },
    {
     "name": "stderr",
     "output_type": "stream",
     "text": [
      "\r",
      "generating and solving puzzles:  25%|██▌       | 251/1000 [00:30<01:31,  8.20it/s]"
     ]
    },
    {
     "name": "stderr",
     "output_type": "stream",
     "text": [
      "\r",
      "generating and solving puzzles:  25%|██▌       | 252/1000 [00:30<01:32,  8.12it/s]"
     ]
    },
    {
     "name": "stderr",
     "output_type": "stream",
     "text": [
      "\r",
      "generating and solving puzzles:  25%|██▌       | 253/1000 [00:31<01:33,  7.97it/s]"
     ]
    },
    {
     "name": "stderr",
     "output_type": "stream",
     "text": [
      "\r",
      "generating and solving puzzles:  25%|██▌       | 254/1000 [00:31<01:32,  8.07it/s]"
     ]
    },
    {
     "name": "stderr",
     "output_type": "stream",
     "text": [
      "\r",
      "generating and solving puzzles:  26%|██▌       | 255/1000 [00:31<01:31,  8.17it/s]"
     ]
    },
    {
     "name": "stderr",
     "output_type": "stream",
     "text": [
      "\r",
      "generating and solving puzzles:  26%|██▌       | 256/1000 [00:31<01:29,  8.28it/s]"
     ]
    },
    {
     "name": "stderr",
     "output_type": "stream",
     "text": [
      "\r",
      "generating and solving puzzles:  26%|██▌       | 257/1000 [00:31<01:30,  8.24it/s]"
     ]
    },
    {
     "name": "stderr",
     "output_type": "stream",
     "text": [
      "\r",
      "generating and solving puzzles:  26%|██▌       | 258/1000 [00:31<01:30,  8.21it/s]"
     ]
    },
    {
     "name": "stderr",
     "output_type": "stream",
     "text": [
      "\r",
      "generating and solving puzzles:  26%|██▌       | 259/1000 [00:31<01:31,  8.11it/s]"
     ]
    },
    {
     "name": "stderr",
     "output_type": "stream",
     "text": [
      "\r",
      "generating and solving puzzles:  26%|██▌       | 260/1000 [00:31<01:32,  7.97it/s]"
     ]
    },
    {
     "name": "stderr",
     "output_type": "stream",
     "text": [
      "\r",
      "generating and solving puzzles:  26%|██▌       | 261/1000 [00:32<01:32,  7.96it/s]"
     ]
    },
    {
     "name": "stderr",
     "output_type": "stream",
     "text": [
      "\r",
      "generating and solving puzzles:  26%|██▌       | 262/1000 [00:32<01:31,  8.05it/s]"
     ]
    },
    {
     "name": "stderr",
     "output_type": "stream",
     "text": [
      "\r",
      "generating and solving puzzles:  26%|██▋       | 263/1000 [00:32<01:30,  8.15it/s]"
     ]
    },
    {
     "name": "stderr",
     "output_type": "stream",
     "text": [
      "\r",
      "generating and solving puzzles:  26%|██▋       | 264/1000 [00:32<01:31,  8.01it/s]"
     ]
    },
    {
     "name": "stderr",
     "output_type": "stream",
     "text": [
      "\r",
      "generating and solving puzzles:  26%|██▋       | 265/1000 [00:32<01:32,  7.94it/s]"
     ]
    },
    {
     "name": "stderr",
     "output_type": "stream",
     "text": [
      "\r",
      "generating and solving puzzles:  27%|██▋       | 266/1000 [00:32<01:32,  7.92it/s]"
     ]
    },
    {
     "name": "stderr",
     "output_type": "stream",
     "text": [
      "\r",
      "generating and solving puzzles:  27%|██▋       | 267/1000 [00:32<01:32,  7.96it/s]"
     ]
    },
    {
     "name": "stderr",
     "output_type": "stream",
     "text": [
      "\r",
      "generating and solving puzzles:  27%|██▋       | 268/1000 [00:32<01:30,  8.05it/s]"
     ]
    },
    {
     "name": "stderr",
     "output_type": "stream",
     "text": [
      "\r",
      "generating and solving puzzles:  27%|██▋       | 269/1000 [00:33<01:31,  7.98it/s]"
     ]
    },
    {
     "name": "stderr",
     "output_type": "stream",
     "text": [
      "\r",
      "generating and solving puzzles:  27%|██▋       | 270/1000 [00:33<01:33,  7.78it/s]"
     ]
    },
    {
     "name": "stderr",
     "output_type": "stream",
     "text": [
      "\r",
      "generating and solving puzzles:  27%|██▋       | 271/1000 [00:33<01:32,  7.86it/s]"
     ]
    },
    {
     "name": "stderr",
     "output_type": "stream",
     "text": [
      "\r",
      "generating and solving puzzles:  27%|██▋       | 272/1000 [00:33<01:31,  7.95it/s]"
     ]
    },
    {
     "name": "stderr",
     "output_type": "stream",
     "text": [
      "\r",
      "generating and solving puzzles:  27%|██▋       | 273/1000 [00:33<01:31,  7.93it/s]"
     ]
    },
    {
     "name": "stderr",
     "output_type": "stream",
     "text": [
      "\r",
      "generating and solving puzzles:  27%|██▋       | 274/1000 [00:33<01:32,  7.85it/s]"
     ]
    },
    {
     "name": "stderr",
     "output_type": "stream",
     "text": [
      "\r",
      "generating and solving puzzles:  28%|██▊       | 275/1000 [00:33<01:32,  7.88it/s]"
     ]
    },
    {
     "name": "stderr",
     "output_type": "stream",
     "text": [
      "\r",
      "generating and solving puzzles:  28%|██▊       | 276/1000 [00:33<01:29,  8.06it/s]"
     ]
    },
    {
     "name": "stderr",
     "output_type": "stream",
     "text": [
      "\r",
      "generating and solving puzzles:  28%|██▊       | 277/1000 [00:34<01:29,  8.07it/s]"
     ]
    },
    {
     "name": "stderr",
     "output_type": "stream",
     "text": [
      "\r",
      "generating and solving puzzles:  28%|██▊       | 278/1000 [00:34<01:31,  7.93it/s]"
     ]
    },
    {
     "name": "stderr",
     "output_type": "stream",
     "text": [
      "\r",
      "generating and solving puzzles:  28%|██▊       | 279/1000 [00:34<01:31,  7.87it/s]"
     ]
    },
    {
     "name": "stderr",
     "output_type": "stream",
     "text": [
      "\r",
      "generating and solving puzzles:  28%|██▊       | 280/1000 [00:34<01:31,  7.89it/s]"
     ]
    },
    {
     "name": "stderr",
     "output_type": "stream",
     "text": [
      "\r",
      "generating and solving puzzles:  28%|██▊       | 281/1000 [00:34<01:29,  8.06it/s]"
     ]
    },
    {
     "name": "stderr",
     "output_type": "stream",
     "text": [
      "\r",
      "generating and solving puzzles:  28%|██▊       | 282/1000 [00:34<01:28,  8.15it/s]"
     ]
    },
    {
     "name": "stderr",
     "output_type": "stream",
     "text": [
      "\r",
      "generating and solving puzzles:  28%|██▊       | 283/1000 [00:34<01:28,  8.10it/s]"
     ]
    },
    {
     "name": "stderr",
     "output_type": "stream",
     "text": [
      "\r",
      "generating and solving puzzles:  28%|██▊       | 284/1000 [00:34<01:29,  8.00it/s]"
     ]
    },
    {
     "name": "stderr",
     "output_type": "stream",
     "text": [
      "\r",
      "generating and solving puzzles:  28%|██▊       | 285/1000 [00:35<01:30,  7.88it/s]"
     ]
    },
    {
     "name": "stderr",
     "output_type": "stream",
     "text": [
      "\r",
      "generating and solving puzzles:  29%|██▊       | 286/1000 [00:35<01:29,  8.00it/s]"
     ]
    },
    {
     "name": "stderr",
     "output_type": "stream",
     "text": [
      "\r",
      "generating and solving puzzles:  29%|██▊       | 287/1000 [00:35<01:27,  8.16it/s]"
     ]
    },
    {
     "name": "stderr",
     "output_type": "stream",
     "text": [
      "\r",
      "generating and solving puzzles:  29%|██▉       | 288/1000 [00:35<01:26,  8.24it/s]"
     ]
    },
    {
     "name": "stderr",
     "output_type": "stream",
     "text": [
      "\r",
      "generating and solving puzzles:  29%|██▉       | 289/1000 [00:35<01:25,  8.31it/s]"
     ]
    },
    {
     "name": "stderr",
     "output_type": "stream",
     "text": [
      "\r",
      "generating and solving puzzles:  29%|██▉       | 290/1000 [00:35<01:26,  8.24it/s]"
     ]
    },
    {
     "name": "stderr",
     "output_type": "stream",
     "text": [
      "\r",
      "generating and solving puzzles:  29%|██▉       | 291/1000 [00:35<01:25,  8.30it/s]"
     ]
    },
    {
     "name": "stderr",
     "output_type": "stream",
     "text": [
      "\r",
      "generating and solving puzzles:  29%|██▉       | 292/1000 [00:35<01:24,  8.33it/s]"
     ]
    },
    {
     "name": "stderr",
     "output_type": "stream",
     "text": [
      "\r",
      "generating and solving puzzles:  29%|██▉       | 293/1000 [00:36<01:24,  8.36it/s]"
     ]
    },
    {
     "name": "stderr",
     "output_type": "stream",
     "text": [
      "\r",
      "generating and solving puzzles:  29%|██▉       | 294/1000 [00:36<01:25,  8.26it/s]"
     ]
    },
    {
     "name": "stderr",
     "output_type": "stream",
     "text": [
      "\r",
      "generating and solving puzzles:  30%|██▉       | 295/1000 [00:36<01:27,  8.05it/s]"
     ]
    },
    {
     "name": "stderr",
     "output_type": "stream",
     "text": [
      "\r",
      "generating and solving puzzles:  30%|██▉       | 296/1000 [00:36<01:26,  8.13it/s]"
     ]
    },
    {
     "name": "stderr",
     "output_type": "stream",
     "text": [
      "\r",
      "generating and solving puzzles:  30%|██▉       | 297/1000 [00:36<01:25,  8.22it/s]"
     ]
    },
    {
     "name": "stderr",
     "output_type": "stream",
     "text": [
      "\r",
      "generating and solving puzzles:  30%|██▉       | 298/1000 [00:36<01:24,  8.27it/s]"
     ]
    },
    {
     "name": "stderr",
     "output_type": "stream",
     "text": [
      "\r",
      "generating and solving puzzles:  30%|██▉       | 299/1000 [00:36<01:24,  8.30it/s]"
     ]
    },
    {
     "name": "stderr",
     "output_type": "stream",
     "text": [
      "\r",
      "generating and solving puzzles:  30%|███       | 300/1000 [00:36<01:24,  8.31it/s]"
     ]
    },
    {
     "name": "stderr",
     "output_type": "stream",
     "text": [
      "\r",
      "generating and solving puzzles:  30%|███       | 301/1000 [00:36<01:23,  8.38it/s]"
     ]
    },
    {
     "name": "stderr",
     "output_type": "stream",
     "text": [
      "\r",
      "generating and solving puzzles:  30%|███       | 302/1000 [00:37<01:23,  8.33it/s]"
     ]
    },
    {
     "name": "stderr",
     "output_type": "stream",
     "text": [
      "\r",
      "generating and solving puzzles:  30%|███       | 303/1000 [00:37<01:24,  8.29it/s]"
     ]
    },
    {
     "name": "stderr",
     "output_type": "stream",
     "text": [
      "\r",
      "generating and solving puzzles:  30%|███       | 304/1000 [00:37<01:25,  8.17it/s]"
     ]
    },
    {
     "name": "stderr",
     "output_type": "stream",
     "text": [
      "\r",
      "generating and solving puzzles:  30%|███       | 305/1000 [00:37<01:26,  8.01it/s]"
     ]
    },
    {
     "name": "stderr",
     "output_type": "stream",
     "text": [
      "\r",
      "generating and solving puzzles:  31%|███       | 306/1000 [00:37<01:25,  8.08it/s]"
     ]
    },
    {
     "name": "stderr",
     "output_type": "stream",
     "text": [
      "\r",
      "generating and solving puzzles:  31%|███       | 307/1000 [00:37<01:25,  8.14it/s]"
     ]
    },
    {
     "name": "stderr",
     "output_type": "stream",
     "text": [
      "\r",
      "generating and solving puzzles:  31%|███       | 308/1000 [00:37<01:24,  8.22it/s]"
     ]
    },
    {
     "name": "stderr",
     "output_type": "stream",
     "text": [
      "\r",
      "generating and solving puzzles:  31%|███       | 309/1000 [00:37<01:23,  8.26it/s]"
     ]
    },
    {
     "name": "stderr",
     "output_type": "stream",
     "text": [
      "\r",
      "generating and solving puzzles:  31%|███       | 310/1000 [00:38<01:23,  8.29it/s]"
     ]
    },
    {
     "name": "stderr",
     "output_type": "stream",
     "text": [
      "\r",
      "generating and solving puzzles:  31%|███       | 311/1000 [00:38<01:22,  8.35it/s]"
     ]
    },
    {
     "name": "stderr",
     "output_type": "stream",
     "text": [
      "\r",
      "generating and solving puzzles:  31%|███       | 312/1000 [00:38<01:22,  8.38it/s]"
     ]
    },
    {
     "name": "stderr",
     "output_type": "stream",
     "text": [
      "\r",
      "generating and solving puzzles:  31%|███▏      | 313/1000 [00:38<01:22,  8.37it/s]"
     ]
    },
    {
     "name": "stderr",
     "output_type": "stream",
     "text": [
      "\r",
      "generating and solving puzzles:  31%|███▏      | 314/1000 [00:38<01:22,  8.33it/s]"
     ]
    },
    {
     "name": "stderr",
     "output_type": "stream",
     "text": [
      "\r",
      "generating and solving puzzles:  32%|███▏      | 315/1000 [00:38<01:22,  8.35it/s]"
     ]
    },
    {
     "name": "stderr",
     "output_type": "stream",
     "text": [
      "\r",
      "generating and solving puzzles:  32%|███▏      | 316/1000 [00:38<01:23,  8.19it/s]"
     ]
    },
    {
     "name": "stderr",
     "output_type": "stream",
     "text": [
      "\r",
      "generating and solving puzzles:  32%|███▏      | 317/1000 [00:38<01:24,  8.07it/s]"
     ]
    },
    {
     "name": "stderr",
     "output_type": "stream",
     "text": [
      "\r",
      "generating and solving puzzles:  32%|███▏      | 318/1000 [00:39<01:24,  8.05it/s]"
     ]
    },
    {
     "name": "stderr",
     "output_type": "stream",
     "text": [
      "\r",
      "generating and solving puzzles:  32%|███▏      | 319/1000 [00:39<01:24,  8.10it/s]"
     ]
    },
    {
     "name": "stderr",
     "output_type": "stream",
     "text": [
      "\r",
      "generating and solving puzzles:  32%|███▏      | 320/1000 [00:39<01:22,  8.22it/s]"
     ]
    },
    {
     "name": "stderr",
     "output_type": "stream",
     "text": [
      "\r",
      "generating and solving puzzles:  32%|███▏      | 321/1000 [00:39<01:23,  8.10it/s]"
     ]
    },
    {
     "name": "stderr",
     "output_type": "stream",
     "text": [
      "\r",
      "generating and solving puzzles:  32%|███▏      | 322/1000 [00:39<01:25,  7.95it/s]"
     ]
    },
    {
     "name": "stderr",
     "output_type": "stream",
     "text": [
      "\r",
      "generating and solving puzzles:  32%|███▏      | 323/1000 [00:39<01:24,  7.99it/s]"
     ]
    },
    {
     "name": "stderr",
     "output_type": "stream",
     "text": [
      "\r",
      "generating and solving puzzles:  32%|███▏      | 324/1000 [00:39<01:23,  8.10it/s]"
     ]
    },
    {
     "name": "stderr",
     "output_type": "stream",
     "text": [
      "\r",
      "generating and solving puzzles:  32%|███▎      | 325/1000 [00:39<01:22,  8.22it/s]"
     ]
    },
    {
     "name": "stderr",
     "output_type": "stream",
     "text": [
      "\r",
      "generating and solving puzzles:  33%|███▎      | 326/1000 [00:40<01:21,  8.25it/s]"
     ]
    },
    {
     "name": "stderr",
     "output_type": "stream",
     "text": [
      "\r",
      "generating and solving puzzles:  33%|███▎      | 327/1000 [00:40<01:21,  8.22it/s]"
     ]
    },
    {
     "name": "stderr",
     "output_type": "stream",
     "text": [
      "\r",
      "generating and solving puzzles:  33%|███▎      | 328/1000 [00:40<01:23,  8.08it/s]"
     ]
    },
    {
     "name": "stderr",
     "output_type": "stream",
     "text": [
      "\r",
      "generating and solving puzzles:  33%|███▎      | 329/1000 [00:40<01:24,  7.96it/s]"
     ]
    },
    {
     "name": "stderr",
     "output_type": "stream",
     "text": [
      "\r",
      "generating and solving puzzles:  33%|███▎      | 330/1000 [00:40<01:23,  8.02it/s]"
     ]
    },
    {
     "name": "stderr",
     "output_type": "stream",
     "text": [
      "\r",
      "generating and solving puzzles:  33%|███▎      | 331/1000 [00:40<01:22,  8.10it/s]"
     ]
    },
    {
     "name": "stderr",
     "output_type": "stream",
     "text": [
      "\r",
      "generating and solving puzzles:  33%|███▎      | 332/1000 [00:40<01:21,  8.22it/s]"
     ]
    },
    {
     "name": "stderr",
     "output_type": "stream",
     "text": [
      "\r",
      "generating and solving puzzles:  33%|███▎      | 333/1000 [00:40<01:20,  8.30it/s]"
     ]
    },
    {
     "name": "stderr",
     "output_type": "stream",
     "text": [
      "\r",
      "generating and solving puzzles:  33%|███▎      | 334/1000 [00:41<01:20,  8.32it/s]"
     ]
    },
    {
     "name": "stderr",
     "output_type": "stream",
     "text": [
      "\r",
      "generating and solving puzzles:  34%|███▎      | 335/1000 [00:41<01:19,  8.35it/s]"
     ]
    },
    {
     "name": "stderr",
     "output_type": "stream",
     "text": [
      "\r",
      "generating and solving puzzles:  34%|███▎      | 336/1000 [00:41<01:19,  8.31it/s]"
     ]
    },
    {
     "name": "stderr",
     "output_type": "stream",
     "text": [
      "\r",
      "generating and solving puzzles:  34%|███▎      | 337/1000 [00:41<01:21,  8.16it/s]"
     ]
    },
    {
     "name": "stderr",
     "output_type": "stream",
     "text": [
      "\r",
      "generating and solving puzzles:  34%|███▍      | 338/1000 [00:41<01:22,  8.01it/s]"
     ]
    },
    {
     "name": "stderr",
     "output_type": "stream",
     "text": [
      "\r",
      "generating and solving puzzles:  34%|███▍      | 339/1000 [00:41<01:22,  7.99it/s]"
     ]
    },
    {
     "name": "stderr",
     "output_type": "stream",
     "text": [
      "\r",
      "generating and solving puzzles:  34%|███▍      | 340/1000 [00:41<01:22,  7.98it/s]"
     ]
    },
    {
     "name": "stderr",
     "output_type": "stream",
     "text": [
      "\r",
      "generating and solving puzzles:  34%|███▍      | 341/1000 [00:41<01:23,  7.92it/s]"
     ]
    },
    {
     "name": "stderr",
     "output_type": "stream",
     "text": [
      "\r",
      "generating and solving puzzles:  34%|███▍      | 342/1000 [00:42<01:24,  7.83it/s]"
     ]
    },
    {
     "name": "stderr",
     "output_type": "stream",
     "text": [
      "\r",
      "generating and solving puzzles:  34%|███▍      | 343/1000 [00:42<01:22,  7.93it/s]"
     ]
    },
    {
     "name": "stderr",
     "output_type": "stream",
     "text": [
      "\r",
      "generating and solving puzzles:  34%|███▍      | 344/1000 [00:42<01:21,  8.06it/s]"
     ]
    },
    {
     "name": "stderr",
     "output_type": "stream",
     "text": [
      "\r",
      "generating and solving puzzles:  34%|███▍      | 345/1000 [00:42<01:20,  8.17it/s]"
     ]
    },
    {
     "name": "stderr",
     "output_type": "stream",
     "text": [
      "\r",
      "generating and solving puzzles:  35%|███▍      | 346/1000 [00:42<01:19,  8.26it/s]"
     ]
    },
    {
     "name": "stderr",
     "output_type": "stream",
     "text": [
      "\r",
      "generating and solving puzzles:  35%|███▍      | 347/1000 [00:42<01:19,  8.25it/s]"
     ]
    },
    {
     "name": "stderr",
     "output_type": "stream",
     "text": [
      "\r",
      "generating and solving puzzles:  35%|███▍      | 348/1000 [00:42<01:18,  8.33it/s]"
     ]
    },
    {
     "name": "stderr",
     "output_type": "stream",
     "text": [
      "\r",
      "generating and solving puzzles:  35%|███▍      | 349/1000 [00:42<01:17,  8.39it/s]"
     ]
    },
    {
     "name": "stderr",
     "output_type": "stream",
     "text": [
      "\r",
      "generating and solving puzzles:  35%|███▌      | 350/1000 [00:42<01:17,  8.39it/s]"
     ]
    },
    {
     "name": "stderr",
     "output_type": "stream",
     "text": [
      "\r",
      "generating and solving puzzles:  35%|███▌      | 351/1000 [00:43<01:18,  8.22it/s]"
     ]
    },
    {
     "name": "stderr",
     "output_type": "stream",
     "text": [
      "\r",
      "generating and solving puzzles:  35%|███▌      | 352/1000 [00:43<01:20,  8.06it/s]"
     ]
    },
    {
     "name": "stderr",
     "output_type": "stream",
     "text": [
      "\r",
      "generating and solving puzzles:  35%|███▌      | 353/1000 [00:43<01:19,  8.09it/s]"
     ]
    },
    {
     "name": "stderr",
     "output_type": "stream",
     "text": [
      "\r",
      "generating and solving puzzles:  35%|███▌      | 354/1000 [00:43<01:18,  8.19it/s]"
     ]
    },
    {
     "name": "stderr",
     "output_type": "stream",
     "text": [
      "\r",
      "generating and solving puzzles:  36%|███▌      | 355/1000 [00:43<01:17,  8.32it/s]"
     ]
    },
    {
     "name": "stderr",
     "output_type": "stream",
     "text": [
      "\r",
      "generating and solving puzzles:  36%|███▌      | 356/1000 [00:43<01:16,  8.37it/s]"
     ]
    },
    {
     "name": "stderr",
     "output_type": "stream",
     "text": [
      "\r",
      "generating and solving puzzles:  36%|███▌      | 357/1000 [00:43<01:16,  8.38it/s]"
     ]
    },
    {
     "name": "stderr",
     "output_type": "stream",
     "text": [
      "\r",
      "generating and solving puzzles:  36%|███▌      | 358/1000 [00:43<01:16,  8.40it/s]"
     ]
    },
    {
     "name": "stderr",
     "output_type": "stream",
     "text": [
      "\r",
      "generating and solving puzzles:  36%|███▌      | 359/1000 [00:44<01:16,  8.36it/s]"
     ]
    },
    {
     "name": "stderr",
     "output_type": "stream",
     "text": [
      "\r",
      "generating and solving puzzles:  36%|███▌      | 360/1000 [00:44<01:17,  8.31it/s]"
     ]
    },
    {
     "name": "stderr",
     "output_type": "stream",
     "text": [
      "\r",
      "generating and solving puzzles:  36%|███▌      | 361/1000 [00:44<01:17,  8.20it/s]"
     ]
    },
    {
     "name": "stderr",
     "output_type": "stream",
     "text": [
      "\r",
      "generating and solving puzzles:  36%|███▌      | 362/1000 [00:44<01:19,  8.03it/s]"
     ]
    },
    {
     "name": "stderr",
     "output_type": "stream",
     "text": [
      "\r",
      "generating and solving puzzles:  36%|███▋      | 363/1000 [00:44<01:18,  8.12it/s]"
     ]
    },
    {
     "name": "stderr",
     "output_type": "stream",
     "text": [
      "\r",
      "generating and solving puzzles:  36%|███▋      | 364/1000 [00:44<01:17,  8.21it/s]"
     ]
    },
    {
     "name": "stderr",
     "output_type": "stream",
     "text": [
      "\r",
      "generating and solving puzzles:  36%|███▋      | 365/1000 [00:44<01:16,  8.28it/s]"
     ]
    },
    {
     "name": "stderr",
     "output_type": "stream",
     "text": [
      "\r",
      "generating and solving puzzles:  37%|███▋      | 366/1000 [00:44<01:16,  8.31it/s]"
     ]
    },
    {
     "name": "stderr",
     "output_type": "stream",
     "text": [
      "\r",
      "generating and solving puzzles:  37%|███▋      | 367/1000 [00:45<01:16,  8.31it/s]"
     ]
    },
    {
     "name": "stderr",
     "output_type": "stream",
     "text": [
      "\r",
      "generating and solving puzzles:  37%|███▋      | 368/1000 [00:45<01:15,  8.39it/s]"
     ]
    },
    {
     "name": "stderr",
     "output_type": "stream",
     "text": [
      "\r",
      "generating and solving puzzles:  37%|███▋      | 369/1000 [00:45<01:15,  8.38it/s]"
     ]
    },
    {
     "name": "stderr",
     "output_type": "stream",
     "text": [
      "\r",
      "generating and solving puzzles:  37%|███▋      | 370/1000 [00:45<01:14,  8.40it/s]"
     ]
    },
    {
     "name": "stderr",
     "output_type": "stream",
     "text": [
      "\r",
      "generating and solving puzzles:  37%|███▋      | 371/1000 [00:45<01:15,  8.38it/s]"
     ]
    },
    {
     "name": "stderr",
     "output_type": "stream",
     "text": [
      "\r",
      "generating and solving puzzles:  37%|███▋      | 372/1000 [00:45<01:16,  8.18it/s]"
     ]
    },
    {
     "name": "stderr",
     "output_type": "stream",
     "text": [
      "\r",
      "generating and solving puzzles:  37%|███▋      | 373/1000 [00:45<01:17,  8.05it/s]"
     ]
    },
    {
     "name": "stderr",
     "output_type": "stream",
     "text": [
      "\r",
      "generating and solving puzzles:  37%|███▋      | 374/1000 [00:45<01:16,  8.16it/s]"
     ]
    },
    {
     "name": "stderr",
     "output_type": "stream",
     "text": [
      "\r",
      "generating and solving puzzles:  38%|███▊      | 375/1000 [00:46<01:15,  8.24it/s]"
     ]
    },
    {
     "name": "stderr",
     "output_type": "stream",
     "text": [
      "\r",
      "generating and solving puzzles:  38%|███▊      | 376/1000 [00:46<01:15,  8.30it/s]"
     ]
    },
    {
     "name": "stderr",
     "output_type": "stream",
     "text": [
      "\r",
      "generating and solving puzzles:  38%|███▊      | 377/1000 [00:46<01:14,  8.34it/s]"
     ]
    },
    {
     "name": "stderr",
     "output_type": "stream",
     "text": [
      "\r",
      "generating and solving puzzles:  38%|███▊      | 378/1000 [00:46<01:14,  8.30it/s]"
     ]
    },
    {
     "name": "stderr",
     "output_type": "stream",
     "text": [
      "\r",
      "generating and solving puzzles:  38%|███▊      | 379/1000 [00:46<01:14,  8.34it/s]"
     ]
    },
    {
     "name": "stderr",
     "output_type": "stream",
     "text": [
      "\r",
      "generating and solving puzzles:  38%|███▊      | 380/1000 [00:46<01:14,  8.34it/s]"
     ]
    },
    {
     "name": "stderr",
     "output_type": "stream",
     "text": [
      "\r",
      "generating and solving puzzles:  38%|███▊      | 381/1000 [00:46<01:14,  8.31it/s]"
     ]
    },
    {
     "name": "stderr",
     "output_type": "stream",
     "text": [
      "\r",
      "generating and solving puzzles:  38%|███▊      | 382/1000 [00:46<01:15,  8.17it/s]"
     ]
    },
    {
     "name": "stderr",
     "output_type": "stream",
     "text": [
      "\r",
      "generating and solving puzzles:  38%|███▊      | 383/1000 [00:46<01:16,  8.03it/s]"
     ]
    },
    {
     "name": "stderr",
     "output_type": "stream",
     "text": [
      "\r",
      "generating and solving puzzles:  38%|███▊      | 384/1000 [00:47<01:15,  8.11it/s]"
     ]
    },
    {
     "name": "stderr",
     "output_type": "stream",
     "text": [
      "\r",
      "generating and solving puzzles:  38%|███▊      | 385/1000 [00:47<01:15,  8.20it/s]"
     ]
    },
    {
     "name": "stderr",
     "output_type": "stream",
     "text": [
      "\r",
      "generating and solving puzzles:  39%|███▊      | 386/1000 [00:47<01:13,  8.31it/s]"
     ]
    },
    {
     "name": "stderr",
     "output_type": "stream",
     "text": [
      "\r",
      "generating and solving puzzles:  39%|███▊      | 387/1000 [00:47<01:13,  8.33it/s]"
     ]
    },
    {
     "name": "stderr",
     "output_type": "stream",
     "text": [
      "\r",
      "generating and solving puzzles:  39%|███▉      | 388/1000 [00:47<01:12,  8.38it/s]"
     ]
    },
    {
     "name": "stderr",
     "output_type": "stream",
     "text": [
      "\r",
      "generating and solving puzzles:  39%|███▉      | 389/1000 [00:47<01:12,  8.40it/s]"
     ]
    },
    {
     "name": "stderr",
     "output_type": "stream",
     "text": [
      "\r",
      "generating and solving puzzles:  39%|███▉      | 390/1000 [00:47<01:12,  8.42it/s]"
     ]
    },
    {
     "name": "stderr",
     "output_type": "stream",
     "text": [
      "\r",
      "generating and solving puzzles:  39%|███▉      | 391/1000 [00:47<01:12,  8.38it/s]"
     ]
    },
    {
     "name": "stderr",
     "output_type": "stream",
     "text": [
      "\r",
      "generating and solving puzzles:  39%|███▉      | 392/1000 [00:48<01:12,  8.38it/s]"
     ]
    },
    {
     "name": "stderr",
     "output_type": "stream",
     "text": [
      "\r",
      "generating and solving puzzles:  39%|███▉      | 393/1000 [00:48<01:14,  8.19it/s]"
     ]
    },
    {
     "name": "stderr",
     "output_type": "stream",
     "text": [
      "\r",
      "generating and solving puzzles:  39%|███▉      | 394/1000 [00:48<01:15,  8.00it/s]"
     ]
    },
    {
     "name": "stderr",
     "output_type": "stream",
     "text": [
      "\r",
      "generating and solving puzzles:  40%|███▉      | 395/1000 [00:48<01:14,  8.12it/s]"
     ]
    },
    {
     "name": "stderr",
     "output_type": "stream",
     "text": [
      "\r",
      "generating and solving puzzles:  40%|███▉      | 396/1000 [00:48<01:13,  8.23it/s]"
     ]
    },
    {
     "name": "stderr",
     "output_type": "stream",
     "text": [
      "\r",
      "generating and solving puzzles:  40%|███▉      | 397/1000 [00:48<01:13,  8.25it/s]"
     ]
    },
    {
     "name": "stderr",
     "output_type": "stream",
     "text": [
      "\r",
      "generating and solving puzzles:  40%|███▉      | 398/1000 [00:48<01:12,  8.27it/s]"
     ]
    },
    {
     "name": "stderr",
     "output_type": "stream",
     "text": [
      "\r",
      "generating and solving puzzles:  40%|███▉      | 399/1000 [00:48<01:12,  8.27it/s]"
     ]
    },
    {
     "name": "stderr",
     "output_type": "stream",
     "text": [
      "\r",
      "generating and solving puzzles:  40%|████      | 400/1000 [00:49<01:11,  8.34it/s]"
     ]
    },
    {
     "name": "stderr",
     "output_type": "stream",
     "text": [
      "\r",
      "generating and solving puzzles:  40%|████      | 401/1000 [00:49<01:12,  8.31it/s]"
     ]
    },
    {
     "name": "stderr",
     "output_type": "stream",
     "text": [
      "\r",
      "generating and solving puzzles:  40%|████      | 402/1000 [00:49<01:11,  8.37it/s]"
     ]
    },
    {
     "name": "stderr",
     "output_type": "stream",
     "text": [
      "\r",
      "generating and solving puzzles:  40%|████      | 403/1000 [00:49<01:12,  8.21it/s]"
     ]
    },
    {
     "name": "stderr",
     "output_type": "stream",
     "text": [
      "\r",
      "generating and solving puzzles:  40%|████      | 404/1000 [00:49<01:14,  8.02it/s]"
     ]
    },
    {
     "name": "stderr",
     "output_type": "stream",
     "text": [
      "\r",
      "generating and solving puzzles:  40%|████      | 405/1000 [00:49<01:13,  8.11it/s]"
     ]
    },
    {
     "name": "stderr",
     "output_type": "stream",
     "text": [
      "\r",
      "generating and solving puzzles:  41%|████      | 406/1000 [00:49<01:12,  8.21it/s]"
     ]
    },
    {
     "name": "stderr",
     "output_type": "stream",
     "text": [
      "\r",
      "generating and solving puzzles:  41%|████      | 407/1000 [00:49<01:12,  8.24it/s]"
     ]
    },
    {
     "name": "stderr",
     "output_type": "stream",
     "text": [
      "\r",
      "generating and solving puzzles:  41%|████      | 408/1000 [00:50<01:11,  8.26it/s]"
     ]
    },
    {
     "name": "stderr",
     "output_type": "stream",
     "text": [
      "\r",
      "generating and solving puzzles:  41%|████      | 409/1000 [00:50<01:11,  8.31it/s]"
     ]
    },
    {
     "name": "stderr",
     "output_type": "stream",
     "text": [
      "\r",
      "generating and solving puzzles:  41%|████      | 410/1000 [00:50<01:10,  8.34it/s]"
     ]
    },
    {
     "name": "stderr",
     "output_type": "stream",
     "text": [
      "\r",
      "generating and solving puzzles:  41%|████      | 411/1000 [00:50<01:10,  8.39it/s]"
     ]
    },
    {
     "name": "stderr",
     "output_type": "stream",
     "text": [
      "\r",
      "generating and solving puzzles:  41%|████      | 412/1000 [00:50<01:09,  8.49it/s]"
     ]
    },
    {
     "name": "stderr",
     "output_type": "stream",
     "text": [
      "\r",
      "generating and solving puzzles:  41%|████▏     | 413/1000 [00:50<01:09,  8.48it/s]"
     ]
    },
    {
     "name": "stderr",
     "output_type": "stream",
     "text": [
      "\r",
      "generating and solving puzzles:  41%|████▏     | 414/1000 [00:50<01:10,  8.30it/s]"
     ]
    },
    {
     "name": "stderr",
     "output_type": "stream",
     "text": [
      "\r",
      "generating and solving puzzles:  42%|████▏     | 415/1000 [00:50<01:12,  8.09it/s]"
     ]
    },
    {
     "name": "stderr",
     "output_type": "stream",
     "text": [
      "\r",
      "generating and solving puzzles:  42%|████▏     | 416/1000 [00:50<01:11,  8.19it/s]"
     ]
    },
    {
     "name": "stderr",
     "output_type": "stream",
     "text": [
      "\r",
      "generating and solving puzzles:  42%|████▏     | 417/1000 [00:51<01:10,  8.25it/s]"
     ]
    },
    {
     "name": "stderr",
     "output_type": "stream",
     "text": [
      "\r",
      "generating and solving puzzles:  42%|████▏     | 418/1000 [00:51<01:10,  8.30it/s]"
     ]
    },
    {
     "name": "stderr",
     "output_type": "stream",
     "text": [
      "\r",
      "generating and solving puzzles:  42%|████▏     | 419/1000 [00:51<01:09,  8.38it/s]"
     ]
    },
    {
     "name": "stderr",
     "output_type": "stream",
     "text": [
      "\r",
      "generating and solving puzzles:  42%|████▏     | 420/1000 [00:51<01:09,  8.38it/s]"
     ]
    },
    {
     "name": "stderr",
     "output_type": "stream",
     "text": [
      "\r",
      "generating and solving puzzles:  42%|████▏     | 421/1000 [00:51<01:09,  8.36it/s]"
     ]
    },
    {
     "name": "stderr",
     "output_type": "stream",
     "text": [
      "\r",
      "generating and solving puzzles:  42%|████▏     | 422/1000 [00:51<01:08,  8.38it/s]"
     ]
    },
    {
     "name": "stderr",
     "output_type": "stream",
     "text": [
      "\r",
      "generating and solving puzzles:  42%|████▏     | 423/1000 [00:51<01:07,  8.50it/s]"
     ]
    },
    {
     "name": "stderr",
     "output_type": "stream",
     "text": [
      "\r",
      "generating and solving puzzles:  42%|████▏     | 424/1000 [00:51<01:09,  8.31it/s]"
     ]
    },
    {
     "name": "stderr",
     "output_type": "stream",
     "text": [
      "\r",
      "generating and solving puzzles:  42%|████▎     | 425/1000 [00:52<01:10,  8.12it/s]"
     ]
    },
    {
     "name": "stderr",
     "output_type": "stream",
     "text": [
      "\r",
      "generating and solving puzzles:  43%|████▎     | 426/1000 [00:52<01:10,  8.16it/s]"
     ]
    },
    {
     "name": "stderr",
     "output_type": "stream",
     "text": [
      "\r",
      "generating and solving puzzles:  43%|████▎     | 427/1000 [00:52<01:10,  8.12it/s]"
     ]
    },
    {
     "name": "stderr",
     "output_type": "stream",
     "text": [
      "\r",
      "generating and solving puzzles:  43%|████▎     | 428/1000 [00:52<01:09,  8.21it/s]"
     ]
    },
    {
     "name": "stderr",
     "output_type": "stream",
     "text": [
      "\r",
      "generating and solving puzzles:  43%|████▎     | 429/1000 [00:52<01:09,  8.20it/s]"
     ]
    },
    {
     "name": "stderr",
     "output_type": "stream",
     "text": [
      "\r",
      "generating and solving puzzles:  43%|████▎     | 430/1000 [00:52<01:10,  8.11it/s]"
     ]
    },
    {
     "name": "stderr",
     "output_type": "stream",
     "text": [
      "\r",
      "generating and solving puzzles:  43%|████▎     | 431/1000 [00:52<01:09,  8.19it/s]"
     ]
    },
    {
     "name": "stderr",
     "output_type": "stream",
     "text": [
      "\r",
      "generating and solving puzzles:  43%|████▎     | 432/1000 [00:52<01:10,  8.02it/s]"
     ]
    },
    {
     "name": "stderr",
     "output_type": "stream",
     "text": [
      "\r",
      "generating and solving puzzles:  43%|████▎     | 433/1000 [00:53<01:11,  7.93it/s]"
     ]
    },
    {
     "name": "stderr",
     "output_type": "stream",
     "text": [
      "\r",
      "generating and solving puzzles:  43%|████▎     | 434/1000 [00:53<01:11,  7.94it/s]"
     ]
    },
    {
     "name": "stderr",
     "output_type": "stream",
     "text": [
      "\r",
      "generating and solving puzzles:  44%|████▎     | 435/1000 [00:53<01:10,  8.06it/s]"
     ]
    },
    {
     "name": "stderr",
     "output_type": "stream",
     "text": [
      "\r",
      "generating and solving puzzles:  44%|████▎     | 436/1000 [00:53<01:09,  8.10it/s]"
     ]
    },
    {
     "name": "stderr",
     "output_type": "stream",
     "text": [
      "\r",
      "generating and solving puzzles:  44%|████▎     | 437/1000 [00:53<01:08,  8.19it/s]"
     ]
    },
    {
     "name": "stderr",
     "output_type": "stream",
     "text": [
      "\r",
      "generating and solving puzzles:  44%|████▍     | 438/1000 [00:53<01:14,  7.55it/s]"
     ]
    },
    {
     "name": "stderr",
     "output_type": "stream",
     "text": [
      "\r",
      "generating and solving puzzles:  44%|████▍     | 439/1000 [00:53<01:13,  7.63it/s]"
     ]
    },
    {
     "name": "stderr",
     "output_type": "stream",
     "text": [
      "\r",
      "generating and solving puzzles:  44%|████▍     | 440/1000 [00:53<01:12,  7.77it/s]"
     ]
    },
    {
     "name": "stderr",
     "output_type": "stream",
     "text": [
      "\r",
      "generating and solving puzzles:  44%|████▍     | 441/1000 [00:54<01:10,  7.96it/s]"
     ]
    },
    {
     "name": "stderr",
     "output_type": "stream",
     "text": [
      "\r",
      "generating and solving puzzles:  44%|████▍     | 442/1000 [00:54<01:09,  8.01it/s]"
     ]
    },
    {
     "name": "stderr",
     "output_type": "stream",
     "text": [
      "\r",
      "generating and solving puzzles:  44%|████▍     | 443/1000 [00:54<01:09,  8.06it/s]"
     ]
    },
    {
     "name": "stderr",
     "output_type": "stream",
     "text": [
      "\r",
      "generating and solving puzzles:  44%|████▍     | 444/1000 [00:54<01:08,  8.15it/s]"
     ]
    },
    {
     "name": "stderr",
     "output_type": "stream",
     "text": [
      "\r",
      "generating and solving puzzles:  44%|████▍     | 445/1000 [00:54<01:06,  8.28it/s]"
     ]
    },
    {
     "name": "stderr",
     "output_type": "stream",
     "text": [
      "\r",
      "generating and solving puzzles:  45%|████▍     | 446/1000 [00:54<01:07,  8.25it/s]"
     ]
    },
    {
     "name": "stderr",
     "output_type": "stream",
     "text": [
      "\r",
      "generating and solving puzzles:  45%|████▍     | 447/1000 [00:54<01:08,  8.09it/s]"
     ]
    },
    {
     "name": "stderr",
     "output_type": "stream",
     "text": [
      "\r",
      "generating and solving puzzles:  45%|████▍     | 448/1000 [00:54<01:09,  7.97it/s]"
     ]
    },
    {
     "name": "stderr",
     "output_type": "stream",
     "text": [
      "\r",
      "generating and solving puzzles:  45%|████▍     | 449/1000 [00:55<01:09,  7.96it/s]"
     ]
    },
    {
     "name": "stderr",
     "output_type": "stream",
     "text": [
      "\r",
      "generating and solving puzzles:  45%|████▌     | 450/1000 [00:55<01:08,  8.03it/s]"
     ]
    },
    {
     "name": "stderr",
     "output_type": "stream",
     "text": [
      "\r",
      "generating and solving puzzles:  45%|████▌     | 451/1000 [00:55<01:08,  8.03it/s]"
     ]
    },
    {
     "name": "stderr",
     "output_type": "stream",
     "text": [
      "\r",
      "generating and solving puzzles:  45%|████▌     | 452/1000 [00:55<01:08,  7.96it/s]"
     ]
    },
    {
     "name": "stderr",
     "output_type": "stream",
     "text": [
      "\r",
      "generating and solving puzzles:  45%|████▌     | 453/1000 [00:55<01:09,  7.88it/s]"
     ]
    },
    {
     "name": "stderr",
     "output_type": "stream",
     "text": [
      "\r",
      "generating and solving puzzles:  45%|████▌     | 454/1000 [00:55<01:08,  7.96it/s]"
     ]
    },
    {
     "name": "stderr",
     "output_type": "stream",
     "text": [
      "\r",
      "generating and solving puzzles:  46%|████▌     | 455/1000 [00:55<01:07,  8.09it/s]"
     ]
    },
    {
     "name": "stderr",
     "output_type": "stream",
     "text": [
      "\r",
      "generating and solving puzzles:  46%|████▌     | 456/1000 [00:55<01:07,  8.09it/s]"
     ]
    },
    {
     "name": "stderr",
     "output_type": "stream",
     "text": [
      "\r",
      "generating and solving puzzles:  46%|████▌     | 457/1000 [00:56<01:06,  8.18it/s]"
     ]
    },
    {
     "name": "stderr",
     "output_type": "stream",
     "text": [
      "\r",
      "generating and solving puzzles:  46%|████▌     | 458/1000 [00:56<01:05,  8.27it/s]"
     ]
    },
    {
     "name": "stderr",
     "output_type": "stream",
     "text": [
      "\r",
      "generating and solving puzzles:  46%|████▌     | 459/1000 [00:56<01:04,  8.35it/s]"
     ]
    },
    {
     "name": "stderr",
     "output_type": "stream",
     "text": [
      "\r",
      "generating and solving puzzles:  46%|████▌     | 460/1000 [00:56<01:04,  8.35it/s]"
     ]
    },
    {
     "name": "stderr",
     "output_type": "stream",
     "text": [
      "\r",
      "generating and solving puzzles:  46%|████▌     | 461/1000 [00:56<01:05,  8.22it/s]"
     ]
    },
    {
     "name": "stderr",
     "output_type": "stream",
     "text": [
      "\r",
      "generating and solving puzzles:  46%|████▌     | 462/1000 [00:56<01:06,  8.04it/s]"
     ]
    },
    {
     "name": "stderr",
     "output_type": "stream",
     "text": [
      "\r",
      "generating and solving puzzles:  46%|████▋     | 463/1000 [00:56<01:07,  8.01it/s]"
     ]
    },
    {
     "name": "stderr",
     "output_type": "stream",
     "text": [
      "\r",
      "generating and solving puzzles:  46%|████▋     | 464/1000 [00:56<01:06,  8.07it/s]"
     ]
    },
    {
     "name": "stderr",
     "output_type": "stream",
     "text": [
      "\r",
      "generating and solving puzzles:  46%|████▋     | 465/1000 [00:57<01:05,  8.13it/s]"
     ]
    },
    {
     "name": "stderr",
     "output_type": "stream",
     "text": [
      "\r",
      "generating and solving puzzles:  47%|████▋     | 466/1000 [00:57<01:05,  8.21it/s]"
     ]
    },
    {
     "name": "stderr",
     "output_type": "stream",
     "text": [
      "\r",
      "generating and solving puzzles:  47%|████▋     | 467/1000 [00:57<01:04,  8.27it/s]"
     ]
    },
    {
     "name": "stderr",
     "output_type": "stream",
     "text": [
      "\r",
      "generating and solving puzzles:  47%|████▋     | 468/1000 [00:57<01:05,  8.16it/s]"
     ]
    },
    {
     "name": "stderr",
     "output_type": "stream",
     "text": [
      "\r",
      "generating and solving puzzles:  47%|████▋     | 469/1000 [00:57<01:05,  8.15it/s]"
     ]
    },
    {
     "name": "stderr",
     "output_type": "stream",
     "text": [
      "\r",
      "generating and solving puzzles:  47%|████▋     | 470/1000 [00:57<01:05,  8.08it/s]"
     ]
    },
    {
     "name": "stderr",
     "output_type": "stream",
     "text": [
      "\r",
      "generating and solving puzzles:  47%|████▋     | 471/1000 [00:57<01:04,  8.17it/s]"
     ]
    },
    {
     "name": "stderr",
     "output_type": "stream",
     "text": [
      "\r",
      "generating and solving puzzles:  47%|████▋     | 472/1000 [00:57<01:04,  8.24it/s]"
     ]
    },
    {
     "name": "stderr",
     "output_type": "stream",
     "text": [
      "\r",
      "generating and solving puzzles:  47%|████▋     | 473/1000 [00:58<01:04,  8.22it/s]"
     ]
    },
    {
     "name": "stderr",
     "output_type": "stream",
     "text": [
      "\r",
      "generating and solving puzzles:  47%|████▋     | 474/1000 [00:58<01:04,  8.16it/s]"
     ]
    },
    {
     "name": "stderr",
     "output_type": "stream",
     "text": [
      "\r",
      "generating and solving puzzles:  48%|████▊     | 475/1000 [00:58<01:05,  8.02it/s]"
     ]
    },
    {
     "name": "stderr",
     "output_type": "stream",
     "text": [
      "\r",
      "generating and solving puzzles:  48%|████▊     | 476/1000 [00:58<01:05,  7.94it/s]"
     ]
    },
    {
     "name": "stderr",
     "output_type": "stream",
     "text": [
      "\r",
      "generating and solving puzzles:  48%|████▊     | 477/1000 [00:58<01:05,  8.05it/s]"
     ]
    },
    {
     "name": "stderr",
     "output_type": "stream",
     "text": [
      "\r",
      "generating and solving puzzles:  48%|████▊     | 478/1000 [00:58<01:03,  8.16it/s]"
     ]
    },
    {
     "name": "stderr",
     "output_type": "stream",
     "text": [
      "\r",
      "generating and solving puzzles:  48%|████▊     | 479/1000 [00:58<01:03,  8.17it/s]"
     ]
    },
    {
     "name": "stderr",
     "output_type": "stream",
     "text": [
      "\r",
      "generating and solving puzzles:  48%|████▊     | 480/1000 [00:58<01:03,  8.13it/s]"
     ]
    },
    {
     "name": "stderr",
     "output_type": "stream",
     "text": [
      "\r",
      "generating and solving puzzles:  48%|████▊     | 481/1000 [00:59<01:04,  7.99it/s]"
     ]
    },
    {
     "name": "stderr",
     "output_type": "stream",
     "text": [
      "\r",
      "generating and solving puzzles:  48%|████▊     | 482/1000 [00:59<01:05,  7.94it/s]"
     ]
    },
    {
     "name": "stderr",
     "output_type": "stream",
     "text": [
      "\r",
      "generating and solving puzzles:  48%|████▊     | 483/1000 [00:59<01:04,  8.01it/s]"
     ]
    },
    {
     "name": "stderr",
     "output_type": "stream",
     "text": [
      "\r",
      "generating and solving puzzles:  48%|████▊     | 484/1000 [00:59<01:03,  8.16it/s]"
     ]
    },
    {
     "name": "stderr",
     "output_type": "stream",
     "text": [
      "\r",
      "generating and solving puzzles:  48%|████▊     | 485/1000 [00:59<01:02,  8.24it/s]"
     ]
    },
    {
     "name": "stderr",
     "output_type": "stream",
     "text": [
      "\r",
      "generating and solving puzzles:  49%|████▊     | 486/1000 [00:59<01:02,  8.28it/s]"
     ]
    },
    {
     "name": "stderr",
     "output_type": "stream",
     "text": [
      "\r",
      "generating and solving puzzles:  49%|████▊     | 487/1000 [00:59<01:02,  8.19it/s]"
     ]
    },
    {
     "name": "stderr",
     "output_type": "stream",
     "text": [
      "\r",
      "generating and solving puzzles:  49%|████▉     | 488/1000 [00:59<01:03,  8.06it/s]"
     ]
    },
    {
     "name": "stderr",
     "output_type": "stream",
     "text": [
      "\r",
      "generating and solving puzzles:  49%|████▉     | 489/1000 [00:59<01:04,  7.98it/s]"
     ]
    },
    {
     "name": "stderr",
     "output_type": "stream",
     "text": [
      "\r",
      "generating and solving puzzles:  49%|████▉     | 490/1000 [01:00<01:03,  7.98it/s]"
     ]
    },
    {
     "name": "stderr",
     "output_type": "stream",
     "text": [
      "\r",
      "generating and solving puzzles:  49%|████▉     | 491/1000 [01:00<01:03,  8.04it/s]"
     ]
    },
    {
     "name": "stderr",
     "output_type": "stream",
     "text": [
      "\r",
      "generating and solving puzzles:  49%|████▉     | 492/1000 [01:00<01:03,  7.98it/s]"
     ]
    },
    {
     "name": "stderr",
     "output_type": "stream",
     "text": [
      "\r",
      "generating and solving puzzles:  49%|████▉     | 493/1000 [01:00<01:03,  7.93it/s]"
     ]
    },
    {
     "name": "stderr",
     "output_type": "stream",
     "text": [
      "\r",
      "generating and solving puzzles:  49%|████▉     | 494/1000 [01:00<01:04,  7.90it/s]"
     ]
    },
    {
     "name": "stderr",
     "output_type": "stream",
     "text": [
      "\r",
      "generating and solving puzzles:  50%|████▉     | 495/1000 [01:00<01:02,  8.03it/s]"
     ]
    },
    {
     "name": "stderr",
     "output_type": "stream",
     "text": [
      "\r",
      "generating and solving puzzles:  50%|████▉     | 496/1000 [01:00<01:01,  8.15it/s]"
     ]
    },
    {
     "name": "stderr",
     "output_type": "stream",
     "text": [
      "\r",
      "generating and solving puzzles:  50%|████▉     | 497/1000 [01:00<01:01,  8.15it/s]"
     ]
    },
    {
     "name": "stderr",
     "output_type": "stream",
     "text": [
      "\r",
      "generating and solving puzzles:  50%|████▉     | 498/1000 [01:01<01:01,  8.10it/s]"
     ]
    },
    {
     "name": "stderr",
     "output_type": "stream",
     "text": [
      "\r",
      "generating and solving puzzles:  50%|████▉     | 499/1000 [01:01<01:01,  8.17it/s]"
     ]
    },
    {
     "name": "stderr",
     "output_type": "stream",
     "text": [
      "\r",
      "generating and solving puzzles:  50%|█████     | 500/1000 [01:01<01:02,  8.05it/s]"
     ]
    },
    {
     "name": "stderr",
     "output_type": "stream",
     "text": [
      "\r",
      "generating and solving puzzles:  50%|█████     | 501/1000 [01:01<01:02,  7.98it/s]"
     ]
    },
    {
     "name": "stderr",
     "output_type": "stream",
     "text": [
      "\r",
      "generating and solving puzzles:  50%|█████     | 502/1000 [01:01<01:02,  7.96it/s]"
     ]
    },
    {
     "name": "stderr",
     "output_type": "stream",
     "text": [
      "\r",
      "generating and solving puzzles:  50%|█████     | 503/1000 [01:01<01:02,  8.02it/s]"
     ]
    },
    {
     "name": "stderr",
     "output_type": "stream",
     "text": [
      "\r",
      "generating and solving puzzles:  50%|█████     | 504/1000 [01:01<01:01,  8.12it/s]"
     ]
    },
    {
     "name": "stderr",
     "output_type": "stream",
     "text": [
      "\r",
      "generating and solving puzzles:  50%|█████     | 505/1000 [01:01<01:00,  8.20it/s]"
     ]
    },
    {
     "name": "stderr",
     "output_type": "stream",
     "text": [
      "\r",
      "generating and solving puzzles:  51%|█████     | 506/1000 [01:02<01:01,  8.07it/s]"
     ]
    },
    {
     "name": "stderr",
     "output_type": "stream",
     "text": [
      "\r",
      "generating and solving puzzles:  51%|█████     | 507/1000 [01:02<01:02,  7.94it/s]"
     ]
    },
    {
     "name": "stderr",
     "output_type": "stream",
     "text": [
      "\r",
      "generating and solving puzzles:  51%|█████     | 508/1000 [01:02<01:00,  8.07it/s]"
     ]
    },
    {
     "name": "stderr",
     "output_type": "stream",
     "text": [
      "\r",
      "generating and solving puzzles:  51%|█████     | 509/1000 [01:02<01:00,  8.14it/s]"
     ]
    },
    {
     "name": "stderr",
     "output_type": "stream",
     "text": [
      "\r",
      "generating and solving puzzles:  51%|█████     | 510/1000 [01:02<00:58,  8.32it/s]"
     ]
    },
    {
     "name": "stderr",
     "output_type": "stream",
     "text": [
      "\r",
      "generating and solving puzzles:  51%|█████     | 511/1000 [01:02<00:59,  8.26it/s]"
     ]
    },
    {
     "name": "stderr",
     "output_type": "stream",
     "text": [
      "\r",
      "generating and solving puzzles:  51%|█████     | 512/1000 [01:02<00:59,  8.26it/s]"
     ]
    },
    {
     "name": "stderr",
     "output_type": "stream",
     "text": [
      "\r",
      "generating and solving puzzles:  51%|█████▏    | 513/1000 [01:02<00:58,  8.31it/s]"
     ]
    },
    {
     "name": "stderr",
     "output_type": "stream",
     "text": [
      "\r",
      "generating and solving puzzles:  51%|█████▏    | 514/1000 [01:03<00:59,  8.22it/s]"
     ]
    },
    {
     "name": "stderr",
     "output_type": "stream",
     "text": [
      "\r",
      "generating and solving puzzles:  52%|█████▏    | 515/1000 [01:03<01:00,  8.07it/s]"
     ]
    },
    {
     "name": "stderr",
     "output_type": "stream",
     "text": [
      "\r",
      "generating and solving puzzles:  52%|█████▏    | 516/1000 [01:03<01:00,  8.02it/s]"
     ]
    },
    {
     "name": "stderr",
     "output_type": "stream",
     "text": [
      "\r",
      "generating and solving puzzles:  52%|█████▏    | 517/1000 [01:03<01:00,  8.05it/s]"
     ]
    },
    {
     "name": "stderr",
     "output_type": "stream",
     "text": [
      "\r",
      "generating and solving puzzles:  52%|█████▏    | 518/1000 [01:03<00:59,  8.10it/s]"
     ]
    },
    {
     "name": "stderr",
     "output_type": "stream",
     "text": [
      "\r",
      "generating and solving puzzles:  52%|█████▏    | 519/1000 [01:03<00:58,  8.19it/s]"
     ]
    },
    {
     "name": "stderr",
     "output_type": "stream",
     "text": [
      "\r",
      "generating and solving puzzles:  52%|█████▏    | 520/1000 [01:03<00:59,  8.08it/s]"
     ]
    },
    {
     "name": "stderr",
     "output_type": "stream",
     "text": [
      "\r",
      "generating and solving puzzles:  52%|█████▏    | 521/1000 [01:03<00:58,  8.15it/s]"
     ]
    },
    {
     "name": "stderr",
     "output_type": "stream",
     "text": [
      "\r",
      "generating and solving puzzles:  52%|█████▏    | 522/1000 [01:04<00:59,  8.08it/s]"
     ]
    },
    {
     "name": "stderr",
     "output_type": "stream",
     "text": [
      "\r",
      "generating and solving puzzles:  52%|█████▏    | 523/1000 [01:04<00:59,  7.96it/s]"
     ]
    },
    {
     "name": "stderr",
     "output_type": "stream",
     "text": [
      "\r",
      "generating and solving puzzles:  52%|█████▏    | 524/1000 [01:04<00:58,  8.08it/s]"
     ]
    },
    {
     "name": "stderr",
     "output_type": "stream",
     "text": [
      "\r",
      "generating and solving puzzles:  52%|█████▎    | 525/1000 [01:04<00:57,  8.21it/s]"
     ]
    },
    {
     "name": "stderr",
     "output_type": "stream",
     "text": [
      "\r",
      "generating and solving puzzles:  53%|█████▎    | 526/1000 [01:04<00:57,  8.24it/s]"
     ]
    },
    {
     "name": "stderr",
     "output_type": "stream",
     "text": [
      "\r",
      "generating and solving puzzles:  53%|█████▎    | 527/1000 [01:04<00:57,  8.29it/s]"
     ]
    },
    {
     "name": "stderr",
     "output_type": "stream",
     "text": [
      "\r",
      "generating and solving puzzles:  53%|█████▎    | 528/1000 [01:04<00:57,  8.27it/s]"
     ]
    },
    {
     "name": "stderr",
     "output_type": "stream",
     "text": [
      "\r",
      "generating and solving puzzles:  53%|█████▎    | 529/1000 [01:04<00:56,  8.31it/s]"
     ]
    },
    {
     "name": "stderr",
     "output_type": "stream",
     "text": [
      "\r",
      "generating and solving puzzles:  53%|█████▎    | 530/1000 [01:05<00:56,  8.33it/s]"
     ]
    },
    {
     "name": "stderr",
     "output_type": "stream",
     "text": [
      "\r",
      "generating and solving puzzles:  53%|█████▎    | 531/1000 [01:05<00:57,  8.18it/s]"
     ]
    },
    {
     "name": "stderr",
     "output_type": "stream",
     "text": [
      "\r",
      "generating and solving puzzles:  53%|█████▎    | 532/1000 [01:05<00:58,  8.02it/s]"
     ]
    },
    {
     "name": "stderr",
     "output_type": "stream",
     "text": [
      "\r",
      "generating and solving puzzles:  53%|█████▎    | 533/1000 [01:05<00:58,  8.03it/s]"
     ]
    },
    {
     "name": "stderr",
     "output_type": "stream",
     "text": [
      "\r",
      "generating and solving puzzles:  53%|█████▎    | 534/1000 [01:05<00:57,  8.12it/s]"
     ]
    },
    {
     "name": "stderr",
     "output_type": "stream",
     "text": [
      "\r",
      "generating and solving puzzles:  54%|█████▎    | 535/1000 [01:05<00:56,  8.25it/s]"
     ]
    },
    {
     "name": "stderr",
     "output_type": "stream",
     "text": [
      "\r",
      "generating and solving puzzles:  54%|█████▎    | 536/1000 [01:05<00:56,  8.22it/s]"
     ]
    },
    {
     "name": "stderr",
     "output_type": "stream",
     "text": [
      "\r",
      "generating and solving puzzles:  54%|█████▎    | 537/1000 [01:05<00:56,  8.24it/s]"
     ]
    },
    {
     "name": "stderr",
     "output_type": "stream",
     "text": [
      "\r",
      "generating and solving puzzles:  54%|█████▍    | 538/1000 [01:06<00:56,  8.14it/s]"
     ]
    },
    {
     "name": "stderr",
     "output_type": "stream",
     "text": [
      "\r",
      "generating and solving puzzles:  54%|█████▍    | 539/1000 [01:06<00:57,  8.02it/s]"
     ]
    },
    {
     "name": "stderr",
     "output_type": "stream",
     "text": [
      "\r",
      "generating and solving puzzles:  54%|█████▍    | 540/1000 [01:06<00:57,  7.99it/s]"
     ]
    },
    {
     "name": "stderr",
     "output_type": "stream",
     "text": [
      "\r",
      "generating and solving puzzles:  54%|█████▍    | 541/1000 [01:06<00:56,  8.07it/s]"
     ]
    },
    {
     "name": "stderr",
     "output_type": "stream",
     "text": [
      "\r",
      "generating and solving puzzles:  54%|█████▍    | 542/1000 [01:06<00:56,  8.10it/s]"
     ]
    },
    {
     "name": "stderr",
     "output_type": "stream",
     "text": [
      "\r",
      "generating and solving puzzles:  54%|█████▍    | 543/1000 [01:06<00:57,  8.00it/s]"
     ]
    },
    {
     "name": "stderr",
     "output_type": "stream",
     "text": [
      "\r",
      "generating and solving puzzles:  54%|█████▍    | 544/1000 [01:06<00:56,  8.01it/s]"
     ]
    },
    {
     "name": "stderr",
     "output_type": "stream",
     "text": [
      "\r",
      "generating and solving puzzles:  55%|█████▍    | 545/1000 [01:06<00:56,  8.05it/s]"
     ]
    },
    {
     "name": "stderr",
     "output_type": "stream",
     "text": [
      "\r",
      "generating and solving puzzles:  55%|█████▍    | 546/1000 [01:07<00:56,  8.10it/s]"
     ]
    },
    {
     "name": "stderr",
     "output_type": "stream",
     "text": [
      "\r",
      "generating and solving puzzles:  55%|█████▍    | 547/1000 [01:07<00:56,  8.02it/s]"
     ]
    },
    {
     "name": "stderr",
     "output_type": "stream",
     "text": [
      "\r",
      "generating and solving puzzles:  55%|█████▍    | 548/1000 [01:07<00:56,  7.94it/s]"
     ]
    },
    {
     "name": "stderr",
     "output_type": "stream",
     "text": [
      "\r",
      "generating and solving puzzles:  55%|█████▍    | 549/1000 [01:07<00:57,  7.83it/s]"
     ]
    },
    {
     "name": "stderr",
     "output_type": "stream",
     "text": [
      "\r",
      "generating and solving puzzles:  55%|█████▌    | 550/1000 [01:07<00:56,  8.01it/s]"
     ]
    },
    {
     "name": "stderr",
     "output_type": "stream",
     "text": [
      "\r",
      "generating and solving puzzles:  55%|█████▌    | 551/1000 [01:07<00:55,  8.07it/s]"
     ]
    },
    {
     "name": "stderr",
     "output_type": "stream",
     "text": [
      "\r",
      "generating and solving puzzles:  55%|█████▌    | 552/1000 [01:07<00:54,  8.16it/s]"
     ]
    },
    {
     "name": "stderr",
     "output_type": "stream",
     "text": [
      "\r",
      "generating and solving puzzles:  55%|█████▌    | 553/1000 [01:07<00:54,  8.23it/s]"
     ]
    },
    {
     "name": "stderr",
     "output_type": "stream",
     "text": [
      "\r",
      "generating and solving puzzles:  55%|█████▌    | 554/1000 [01:07<00:53,  8.31it/s]"
     ]
    },
    {
     "name": "stderr",
     "output_type": "stream",
     "text": [
      "\r",
      "generating and solving puzzles:  56%|█████▌    | 555/1000 [01:08<00:53,  8.28it/s]"
     ]
    },
    {
     "name": "stderr",
     "output_type": "stream",
     "text": [
      "\r",
      "generating and solving puzzles:  56%|█████▌    | 556/1000 [01:08<00:53,  8.23it/s]"
     ]
    },
    {
     "name": "stderr",
     "output_type": "stream",
     "text": [
      "\r",
      "generating and solving puzzles:  56%|█████▌    | 557/1000 [01:08<00:53,  8.23it/s]"
     ]
    },
    {
     "name": "stderr",
     "output_type": "stream",
     "text": [
      "\r",
      "generating and solving puzzles:  56%|█████▌    | 558/1000 [01:08<00:54,  8.07it/s]"
     ]
    },
    {
     "name": "stderr",
     "output_type": "stream",
     "text": [
      "\r",
      "generating and solving puzzles:  56%|█████▌    | 559/1000 [01:08<00:55,  7.95it/s]"
     ]
    },
    {
     "name": "stderr",
     "output_type": "stream",
     "text": [
      "\r",
      "generating and solving puzzles:  56%|█████▌    | 560/1000 [01:08<00:55,  7.96it/s]"
     ]
    },
    {
     "name": "stderr",
     "output_type": "stream",
     "text": [
      "\r",
      "generating and solving puzzles:  56%|█████▌    | 561/1000 [01:08<00:54,  8.11it/s]"
     ]
    },
    {
     "name": "stderr",
     "output_type": "stream",
     "text": [
      "\r",
      "generating and solving puzzles:  56%|█████▌    | 562/1000 [01:08<00:54,  8.08it/s]"
     ]
    },
    {
     "name": "stderr",
     "output_type": "stream",
     "text": [
      "\r",
      "generating and solving puzzles:  56%|█████▋    | 563/1000 [01:09<00:54,  7.97it/s]"
     ]
    },
    {
     "name": "stderr",
     "output_type": "stream",
     "text": [
      "\r",
      "generating and solving puzzles:  56%|█████▋    | 564/1000 [01:09<00:56,  7.78it/s]"
     ]
    },
    {
     "name": "stderr",
     "output_type": "stream",
     "text": [
      "\r",
      "generating and solving puzzles:  56%|█████▋    | 565/1000 [01:09<00:55,  7.88it/s]"
     ]
    },
    {
     "name": "stderr",
     "output_type": "stream",
     "text": [
      "\r",
      "generating and solving puzzles:  57%|█████▋    | 566/1000 [01:09<00:54,  7.96it/s]"
     ]
    },
    {
     "name": "stderr",
     "output_type": "stream",
     "text": [
      "\r",
      "generating and solving puzzles:  57%|█████▋    | 567/1000 [01:09<00:54,  7.99it/s]"
     ]
    },
    {
     "name": "stderr",
     "output_type": "stream",
     "text": [
      "\r",
      "generating and solving puzzles:  57%|█████▋    | 568/1000 [01:09<00:53,  8.07it/s]"
     ]
    },
    {
     "name": "stderr",
     "output_type": "stream",
     "text": [
      "\r",
      "generating and solving puzzles:  57%|█████▋    | 569/1000 [01:09<00:52,  8.14it/s]"
     ]
    },
    {
     "name": "stderr",
     "output_type": "stream",
     "text": [
      "\r",
      "generating and solving puzzles:  57%|█████▋    | 570/1000 [01:09<00:52,  8.14it/s]"
     ]
    },
    {
     "name": "stderr",
     "output_type": "stream",
     "text": [
      "\r",
      "generating and solving puzzles:  57%|█████▋    | 571/1000 [01:10<00:53,  7.95it/s]"
     ]
    },
    {
     "name": "stderr",
     "output_type": "stream",
     "text": [
      "\r",
      "generating and solving puzzles:  57%|█████▋    | 572/1000 [01:10<00:53,  8.03it/s]"
     ]
    },
    {
     "name": "stderr",
     "output_type": "stream",
     "text": [
      "\r",
      "generating and solving puzzles:  57%|█████▋    | 573/1000 [01:10<00:52,  8.12it/s]"
     ]
    },
    {
     "name": "stderr",
     "output_type": "stream",
     "text": [
      "\r",
      "generating and solving puzzles:  57%|█████▋    | 574/1000 [01:10<00:52,  8.14it/s]"
     ]
    },
    {
     "name": "stderr",
     "output_type": "stream",
     "text": [
      "\r",
      "generating and solving puzzles:  57%|█████▊    | 575/1000 [01:10<00:51,  8.18it/s]"
     ]
    },
    {
     "name": "stderr",
     "output_type": "stream",
     "text": [
      "\r",
      "generating and solving puzzles:  58%|█████▊    | 576/1000 [01:10<00:51,  8.20it/s]"
     ]
    },
    {
     "name": "stderr",
     "output_type": "stream",
     "text": [
      "\r",
      "generating and solving puzzles:  58%|█████▊    | 577/1000 [01:10<00:51,  8.21it/s]"
     ]
    },
    {
     "name": "stderr",
     "output_type": "stream",
     "text": [
      "\r",
      "generating and solving puzzles:  58%|█████▊    | 578/1000 [01:10<00:50,  8.29it/s]"
     ]
    },
    {
     "name": "stderr",
     "output_type": "stream",
     "text": [
      "\r",
      "generating and solving puzzles:  58%|█████▊    | 579/1000 [01:11<00:50,  8.33it/s]"
     ]
    },
    {
     "name": "stderr",
     "output_type": "stream",
     "text": [
      "\r",
      "generating and solving puzzles:  58%|█████▊    | 580/1000 [01:11<00:50,  8.37it/s]"
     ]
    },
    {
     "name": "stderr",
     "output_type": "stream",
     "text": [
      "\r",
      "generating and solving puzzles:  58%|█████▊    | 581/1000 [01:11<00:51,  8.10it/s]"
     ]
    },
    {
     "name": "stderr",
     "output_type": "stream",
     "text": [
      "\r",
      "generating and solving puzzles:  58%|█████▊    | 582/1000 [01:11<00:52,  8.01it/s]"
     ]
    },
    {
     "name": "stderr",
     "output_type": "stream",
     "text": [
      "\r",
      "generating and solving puzzles:  58%|█████▊    | 583/1000 [01:11<00:51,  8.10it/s]"
     ]
    },
    {
     "name": "stderr",
     "output_type": "stream",
     "text": [
      "\r",
      "generating and solving puzzles:  58%|█████▊    | 584/1000 [01:11<00:50,  8.18it/s]"
     ]
    },
    {
     "name": "stderr",
     "output_type": "stream",
     "text": [
      "\r",
      "generating and solving puzzles:  58%|█████▊    | 585/1000 [01:11<00:50,  8.23it/s]"
     ]
    },
    {
     "name": "stderr",
     "output_type": "stream",
     "text": [
      "\r",
      "generating and solving puzzles:  59%|█████▊    | 586/1000 [01:11<00:49,  8.30it/s]"
     ]
    },
    {
     "name": "stderr",
     "output_type": "stream",
     "text": [
      "\r",
      "generating and solving puzzles:  59%|█████▊    | 587/1000 [01:12<00:49,  8.32it/s]"
     ]
    },
    {
     "name": "stderr",
     "output_type": "stream",
     "text": [
      "\r",
      "generating and solving puzzles:  59%|█████▉    | 588/1000 [01:12<00:50,  8.24it/s]"
     ]
    },
    {
     "name": "stderr",
     "output_type": "stream",
     "text": [
      "\r",
      "generating and solving puzzles:  59%|█████▉    | 589/1000 [01:12<00:49,  8.30it/s]"
     ]
    },
    {
     "name": "stderr",
     "output_type": "stream",
     "text": [
      "\r",
      "generating and solving puzzles:  59%|█████▉    | 590/1000 [01:12<00:49,  8.22it/s]"
     ]
    },
    {
     "name": "stderr",
     "output_type": "stream",
     "text": [
      "\r",
      "generating and solving puzzles:  59%|█████▉    | 591/1000 [01:12<00:50,  8.10it/s]"
     ]
    },
    {
     "name": "stderr",
     "output_type": "stream",
     "text": [
      "\r",
      "generating and solving puzzles:  59%|█████▉    | 592/1000 [01:12<00:51,  7.97it/s]"
     ]
    },
    {
     "name": "stderr",
     "output_type": "stream",
     "text": [
      "\r",
      "generating and solving puzzles:  59%|█████▉    | 593/1000 [01:12<00:50,  8.01it/s]"
     ]
    },
    {
     "name": "stderr",
     "output_type": "stream",
     "text": [
      "\r",
      "generating and solving puzzles:  59%|█████▉    | 594/1000 [01:12<00:49,  8.14it/s]"
     ]
    },
    {
     "name": "stderr",
     "output_type": "stream",
     "text": [
      "\r",
      "generating and solving puzzles:  60%|█████▉    | 595/1000 [01:13<00:49,  8.23it/s]"
     ]
    },
    {
     "name": "stderr",
     "output_type": "stream",
     "text": [
      "\r",
      "generating and solving puzzles:  60%|█████▉    | 596/1000 [01:13<00:48,  8.26it/s]"
     ]
    },
    {
     "name": "stderr",
     "output_type": "stream",
     "text": [
      "\r",
      "generating and solving puzzles:  60%|█████▉    | 597/1000 [01:13<00:48,  8.31it/s]"
     ]
    },
    {
     "name": "stderr",
     "output_type": "stream",
     "text": [
      "\r",
      "generating and solving puzzles:  60%|█████▉    | 598/1000 [01:13<00:48,  8.33it/s]"
     ]
    },
    {
     "name": "stderr",
     "output_type": "stream",
     "text": [
      "\r",
      "generating and solving puzzles:  60%|█████▉    | 599/1000 [01:13<00:48,  8.33it/s]"
     ]
    },
    {
     "name": "stderr",
     "output_type": "stream",
     "text": [
      "\r",
      "generating and solving puzzles:  60%|██████    | 600/1000 [01:13<00:49,  8.14it/s]"
     ]
    },
    {
     "name": "stderr",
     "output_type": "stream",
     "text": [
      "\r",
      "generating and solving puzzles:  60%|██████    | 601/1000 [01:13<00:49,  8.00it/s]"
     ]
    },
    {
     "name": "stderr",
     "output_type": "stream",
     "text": [
      "\r",
      "generating and solving puzzles:  60%|██████    | 602/1000 [01:13<00:49,  8.07it/s]"
     ]
    },
    {
     "name": "stderr",
     "output_type": "stream",
     "text": [
      "\r",
      "generating and solving puzzles:  60%|██████    | 603/1000 [01:14<00:48,  8.14it/s]"
     ]
    },
    {
     "name": "stderr",
     "output_type": "stream",
     "text": [
      "\r",
      "generating and solving puzzles:  60%|██████    | 604/1000 [01:14<00:50,  7.87it/s]"
     ]
    },
    {
     "name": "stderr",
     "output_type": "stream",
     "text": [
      "\r",
      "generating and solving puzzles:  60%|██████    | 605/1000 [01:14<00:49,  8.00it/s]"
     ]
    },
    {
     "name": "stderr",
     "output_type": "stream",
     "text": [
      "\r",
      "generating and solving puzzles:  61%|██████    | 606/1000 [01:14<00:48,  8.10it/s]"
     ]
    },
    {
     "name": "stderr",
     "output_type": "stream",
     "text": [
      "\r",
      "generating and solving puzzles:  61%|██████    | 607/1000 [01:14<00:47,  8.20it/s]"
     ]
    },
    {
     "name": "stderr",
     "output_type": "stream",
     "text": [
      "\r",
      "generating and solving puzzles:  61%|██████    | 608/1000 [01:14<00:47,  8.27it/s]"
     ]
    },
    {
     "name": "stderr",
     "output_type": "stream",
     "text": [
      "\r",
      "generating and solving puzzles:  61%|██████    | 609/1000 [01:14<00:46,  8.37it/s]"
     ]
    },
    {
     "name": "stderr",
     "output_type": "stream",
     "text": [
      "\r",
      "generating and solving puzzles:  61%|██████    | 610/1000 [01:14<00:47,  8.22it/s]"
     ]
    },
    {
     "name": "stderr",
     "output_type": "stream",
     "text": [
      "\r",
      "generating and solving puzzles:  61%|██████    | 611/1000 [01:15<00:48,  8.05it/s]"
     ]
    },
    {
     "name": "stderr",
     "output_type": "stream",
     "text": [
      "\r",
      "generating and solving puzzles:  61%|██████    | 612/1000 [01:15<00:47,  8.12it/s]"
     ]
    },
    {
     "name": "stderr",
     "output_type": "stream",
     "text": [
      "\r",
      "generating and solving puzzles:  61%|██████▏   | 613/1000 [01:15<00:47,  8.20it/s]"
     ]
    },
    {
     "name": "stderr",
     "output_type": "stream",
     "text": [
      "\r",
      "generating and solving puzzles:  61%|██████▏   | 614/1000 [01:15<00:46,  8.27it/s]"
     ]
    },
    {
     "name": "stderr",
     "output_type": "stream",
     "text": [
      "\r",
      "generating and solving puzzles:  62%|██████▏   | 615/1000 [01:15<00:46,  8.29it/s]"
     ]
    },
    {
     "name": "stderr",
     "output_type": "stream",
     "text": [
      "\r",
      "generating and solving puzzles:  62%|██████▏   | 616/1000 [01:15<00:45,  8.36it/s]"
     ]
    },
    {
     "name": "stderr",
     "output_type": "stream",
     "text": [
      "\r",
      "generating and solving puzzles:  62%|██████▏   | 617/1000 [01:15<00:45,  8.37it/s]"
     ]
    },
    {
     "name": "stderr",
     "output_type": "stream",
     "text": [
      "\r",
      "generating and solving puzzles:  62%|██████▏   | 618/1000 [01:15<00:45,  8.34it/s]"
     ]
    },
    {
     "name": "stderr",
     "output_type": "stream",
     "text": [
      "\r",
      "generating and solving puzzles:  62%|██████▏   | 619/1000 [01:15<00:45,  8.37it/s]"
     ]
    },
    {
     "name": "stderr",
     "output_type": "stream",
     "text": [
      "\r",
      "generating and solving puzzles:  62%|██████▏   | 620/1000 [01:16<00:45,  8.35it/s]"
     ]
    },
    {
     "name": "stderr",
     "output_type": "stream",
     "text": [
      "\r",
      "generating and solving puzzles:  62%|██████▏   | 621/1000 [01:16<00:46,  8.21it/s]"
     ]
    },
    {
     "name": "stderr",
     "output_type": "stream",
     "text": [
      "\r",
      "generating and solving puzzles:  62%|██████▏   | 622/1000 [01:16<00:46,  8.05it/s]"
     ]
    },
    {
     "name": "stderr",
     "output_type": "stream",
     "text": [
      "\r",
      "generating and solving puzzles:  62%|██████▏   | 623/1000 [01:16<00:46,  8.12it/s]"
     ]
    },
    {
     "name": "stderr",
     "output_type": "stream",
     "text": [
      "\r",
      "generating and solving puzzles:  62%|██████▏   | 624/1000 [01:16<00:45,  8.20it/s]"
     ]
    },
    {
     "name": "stderr",
     "output_type": "stream",
     "text": [
      "\r",
      "generating and solving puzzles:  62%|██████▎   | 625/1000 [01:16<00:46,  8.15it/s]"
     ]
    },
    {
     "name": "stderr",
     "output_type": "stream",
     "text": [
      "\r",
      "generating and solving puzzles:  63%|██████▎   | 626/1000 [01:16<00:45,  8.15it/s]"
     ]
    },
    {
     "name": "stderr",
     "output_type": "stream",
     "text": [
      "\r",
      "generating and solving puzzles:  63%|██████▎   | 627/1000 [01:16<00:46,  8.00it/s]"
     ]
    },
    {
     "name": "stderr",
     "output_type": "stream",
     "text": [
      "\r",
      "generating and solving puzzles:  63%|██████▎   | 628/1000 [01:17<00:46,  7.98it/s]"
     ]
    },
    {
     "name": "stderr",
     "output_type": "stream",
     "text": [
      "\r",
      "generating and solving puzzles:  63%|██████▎   | 629/1000 [01:17<00:46,  8.05it/s]"
     ]
    },
    {
     "name": "stderr",
     "output_type": "stream",
     "text": [
      "\r",
      "generating and solving puzzles:  63%|██████▎   | 630/1000 [01:17<00:45,  8.12it/s]"
     ]
    },
    {
     "name": "stderr",
     "output_type": "stream",
     "text": [
      "\r",
      "generating and solving puzzles:  63%|██████▎   | 631/1000 [01:17<00:45,  8.20it/s]"
     ]
    },
    {
     "name": "stderr",
     "output_type": "stream",
     "text": [
      "\r",
      "generating and solving puzzles:  63%|██████▎   | 632/1000 [01:17<00:44,  8.25it/s]"
     ]
    },
    {
     "name": "stderr",
     "output_type": "stream",
     "text": [
      "\r",
      "generating and solving puzzles:  63%|██████▎   | 633/1000 [01:17<00:45,  8.12it/s]"
     ]
    },
    {
     "name": "stderr",
     "output_type": "stream",
     "text": [
      "\r",
      "generating and solving puzzles:  63%|██████▎   | 634/1000 [01:17<00:45,  7.96it/s]"
     ]
    },
    {
     "name": "stderr",
     "output_type": "stream",
     "text": [
      "\r",
      "generating and solving puzzles:  64%|██████▎   | 635/1000 [01:17<00:45,  7.96it/s]"
     ]
    },
    {
     "name": "stderr",
     "output_type": "stream",
     "text": [
      "\r",
      "generating and solving puzzles:  64%|██████▎   | 636/1000 [01:18<00:45,  8.03it/s]"
     ]
    },
    {
     "name": "stderr",
     "output_type": "stream",
     "text": [
      "\r",
      "generating and solving puzzles:  64%|██████▎   | 637/1000 [01:18<00:45,  8.01it/s]"
     ]
    },
    {
     "name": "stderr",
     "output_type": "stream",
     "text": [
      "\r",
      "generating and solving puzzles:  64%|██████▍   | 638/1000 [01:18<00:45,  8.03it/s]"
     ]
    },
    {
     "name": "stderr",
     "output_type": "stream",
     "text": [
      "\r",
      "generating and solving puzzles:  64%|██████▍   | 639/1000 [01:18<00:45,  7.96it/s]"
     ]
    },
    {
     "name": "stderr",
     "output_type": "stream",
     "text": [
      "\r",
      "generating and solving puzzles:  64%|██████▍   | 640/1000 [01:18<00:45,  7.95it/s]"
     ]
    },
    {
     "name": "stderr",
     "output_type": "stream",
     "text": [
      "\r",
      "generating and solving puzzles:  64%|██████▍   | 641/1000 [01:18<00:44,  8.07it/s]"
     ]
    },
    {
     "name": "stderr",
     "output_type": "stream",
     "text": [
      "\r",
      "generating and solving puzzles:  64%|██████▍   | 642/1000 [01:18<00:44,  8.13it/s]"
     ]
    },
    {
     "name": "stderr",
     "output_type": "stream",
     "text": [
      "\r",
      "generating and solving puzzles:  64%|██████▍   | 643/1000 [01:18<00:43,  8.24it/s]"
     ]
    },
    {
     "name": "stderr",
     "output_type": "stream",
     "text": [
      "\r",
      "generating and solving puzzles:  64%|██████▍   | 644/1000 [01:19<00:43,  8.25it/s]"
     ]
    },
    {
     "name": "stderr",
     "output_type": "stream",
     "text": [
      "\r",
      "generating and solving puzzles:  64%|██████▍   | 645/1000 [01:19<00:42,  8.29it/s]"
     ]
    },
    {
     "name": "stderr",
     "output_type": "stream",
     "text": [
      "\r",
      "generating and solving puzzles:  65%|██████▍   | 646/1000 [01:19<00:42,  8.34it/s]"
     ]
    },
    {
     "name": "stderr",
     "output_type": "stream",
     "text": [
      "\r",
      "generating and solving puzzles:  65%|██████▍   | 647/1000 [01:19<00:42,  8.26it/s]"
     ]
    },
    {
     "name": "stderr",
     "output_type": "stream",
     "text": [
      "\r",
      "generating and solving puzzles:  65%|██████▍   | 648/1000 [01:19<00:43,  8.06it/s]"
     ]
    },
    {
     "name": "stderr",
     "output_type": "stream",
     "text": [
      "\r",
      "generating and solving puzzles:  65%|██████▍   | 649/1000 [01:19<00:43,  8.12it/s]"
     ]
    },
    {
     "name": "stderr",
     "output_type": "stream",
     "text": [
      "\r",
      "generating and solving puzzles:  65%|██████▌   | 650/1000 [01:19<00:43,  8.08it/s]"
     ]
    },
    {
     "name": "stderr",
     "output_type": "stream",
     "text": [
      "\r",
      "generating and solving puzzles:  65%|██████▌   | 651/1000 [01:19<00:42,  8.15it/s]"
     ]
    },
    {
     "name": "stderr",
     "output_type": "stream",
     "text": [
      "\r",
      "generating and solving puzzles:  65%|██████▌   | 652/1000 [01:20<00:42,  8.23it/s]"
     ]
    },
    {
     "name": "stderr",
     "output_type": "stream",
     "text": [
      "\r",
      "generating and solving puzzles:  65%|██████▌   | 653/1000 [01:20<00:41,  8.27it/s]"
     ]
    },
    {
     "name": "stderr",
     "output_type": "stream",
     "text": [
      "\r",
      "generating and solving puzzles:  65%|██████▌   | 654/1000 [01:20<00:42,  8.15it/s]"
     ]
    },
    {
     "name": "stderr",
     "output_type": "stream",
     "text": [
      "\r",
      "generating and solving puzzles:  66%|██████▌   | 655/1000 [01:20<00:43,  8.01it/s]"
     ]
    },
    {
     "name": "stderr",
     "output_type": "stream",
     "text": [
      "\r",
      "generating and solving puzzles:  66%|██████▌   | 656/1000 [01:20<00:42,  8.08it/s]"
     ]
    },
    {
     "name": "stderr",
     "output_type": "stream",
     "text": [
      "\r",
      "generating and solving puzzles:  66%|██████▌   | 657/1000 [01:20<00:41,  8.18it/s]"
     ]
    },
    {
     "name": "stderr",
     "output_type": "stream",
     "text": [
      "\r",
      "generating and solving puzzles:  66%|██████▌   | 658/1000 [01:20<00:41,  8.25it/s]"
     ]
    },
    {
     "name": "stderr",
     "output_type": "stream",
     "text": [
      "\r",
      "generating and solving puzzles:  66%|██████▌   | 659/1000 [01:20<00:41,  8.31it/s]"
     ]
    },
    {
     "name": "stderr",
     "output_type": "stream",
     "text": [
      "\r",
      "generating and solving puzzles:  66%|██████▌   | 660/1000 [01:21<00:40,  8.34it/s]"
     ]
    },
    {
     "name": "stderr",
     "output_type": "stream",
     "text": [
      "\r",
      "generating and solving puzzles:  66%|██████▌   | 661/1000 [01:21<00:40,  8.35it/s]"
     ]
    },
    {
     "name": "stderr",
     "output_type": "stream",
     "text": [
      "\r",
      "generating and solving puzzles:  66%|██████▌   | 662/1000 [01:21<00:40,  8.37it/s]"
     ]
    },
    {
     "name": "stderr",
     "output_type": "stream",
     "text": [
      "\r",
      "generating and solving puzzles:  66%|██████▋   | 663/1000 [01:21<00:40,  8.39it/s]"
     ]
    },
    {
     "name": "stderr",
     "output_type": "stream",
     "text": [
      "\r",
      "generating and solving puzzles:  66%|██████▋   | 664/1000 [01:21<00:40,  8.22it/s]"
     ]
    },
    {
     "name": "stderr",
     "output_type": "stream",
     "text": [
      "\r",
      "generating and solving puzzles:  66%|██████▋   | 665/1000 [01:21<00:41,  8.05it/s]"
     ]
    },
    {
     "name": "stderr",
     "output_type": "stream",
     "text": [
      "\r",
      "generating and solving puzzles:  67%|██████▋   | 666/1000 [01:21<00:41,  8.09it/s]"
     ]
    },
    {
     "name": "stderr",
     "output_type": "stream",
     "text": [
      "\r",
      "generating and solving puzzles:  67%|██████▋   | 667/1000 [01:21<00:41,  8.10it/s]"
     ]
    },
    {
     "name": "stderr",
     "output_type": "stream",
     "text": [
      "\r",
      "generating and solving puzzles:  67%|██████▋   | 668/1000 [01:21<00:40,  8.18it/s]"
     ]
    },
    {
     "name": "stderr",
     "output_type": "stream",
     "text": [
      "\r",
      "generating and solving puzzles:  67%|██████▋   | 669/1000 [01:22<00:40,  8.19it/s]"
     ]
    },
    {
     "name": "stderr",
     "output_type": "stream",
     "text": [
      "\r",
      "generating and solving puzzles:  67%|██████▋   | 670/1000 [01:22<00:40,  8.07it/s]"
     ]
    },
    {
     "name": "stderr",
     "output_type": "stream",
     "text": [
      "\r",
      "generating and solving puzzles:  67%|██████▋   | 671/1000 [01:22<00:41,  7.96it/s]"
     ]
    },
    {
     "name": "stderr",
     "output_type": "stream",
     "text": [
      "\r",
      "generating and solving puzzles:  67%|██████▋   | 672/1000 [01:22<00:41,  7.97it/s]"
     ]
    },
    {
     "name": "stderr",
     "output_type": "stream",
     "text": [
      "\r",
      "generating and solving puzzles:  67%|██████▋   | 673/1000 [01:22<00:40,  8.08it/s]"
     ]
    },
    {
     "name": "stderr",
     "output_type": "stream",
     "text": [
      "\r",
      "generating and solving puzzles:  67%|██████▋   | 674/1000 [01:22<00:39,  8.15it/s]"
     ]
    },
    {
     "name": "stderr",
     "output_type": "stream",
     "text": [
      "\r",
      "generating and solving puzzles:  68%|██████▊   | 675/1000 [01:22<00:39,  8.26it/s]"
     ]
    },
    {
     "name": "stderr",
     "output_type": "stream",
     "text": [
      "\r",
      "generating and solving puzzles:  68%|██████▊   | 676/1000 [01:22<00:39,  8.18it/s]"
     ]
    },
    {
     "name": "stderr",
     "output_type": "stream",
     "text": [
      "\r",
      "generating and solving puzzles:  68%|██████▊   | 677/1000 [01:23<00:39,  8.10it/s]"
     ]
    },
    {
     "name": "stderr",
     "output_type": "stream",
     "text": [
      "\r",
      "generating and solving puzzles:  68%|██████▊   | 678/1000 [01:23<00:40,  7.98it/s]"
     ]
    },
    {
     "name": "stderr",
     "output_type": "stream",
     "text": [
      "\r",
      "generating and solving puzzles:  68%|██████▊   | 679/1000 [01:23<00:40,  7.97it/s]"
     ]
    },
    {
     "name": "stderr",
     "output_type": "stream",
     "text": [
      "\r",
      "generating and solving puzzles:  68%|██████▊   | 680/1000 [01:23<00:39,  8.02it/s]"
     ]
    },
    {
     "name": "stderr",
     "output_type": "stream",
     "text": [
      "\r",
      "generating and solving puzzles:  68%|██████▊   | 681/1000 [01:23<00:39,  8.11it/s]"
     ]
    },
    {
     "name": "stderr",
     "output_type": "stream",
     "text": [
      "\r",
      "generating and solving puzzles:  68%|██████▊   | 682/1000 [01:23<00:38,  8.18it/s]"
     ]
    },
    {
     "name": "stderr",
     "output_type": "stream",
     "text": [
      "\r",
      "generating and solving puzzles:  68%|██████▊   | 683/1000 [01:23<00:38,  8.27it/s]"
     ]
    },
    {
     "name": "stderr",
     "output_type": "stream",
     "text": [
      "\r",
      "generating and solving puzzles:  68%|██████▊   | 684/1000 [01:23<00:38,  8.10it/s]"
     ]
    },
    {
     "name": "stderr",
     "output_type": "stream",
     "text": [
      "\r",
      "generating and solving puzzles:  68%|██████▊   | 685/1000 [01:24<00:39,  7.93it/s]"
     ]
    },
    {
     "name": "stderr",
     "output_type": "stream",
     "text": [
      "\r",
      "generating and solving puzzles:  69%|██████▊   | 686/1000 [01:24<00:39,  7.94it/s]"
     ]
    },
    {
     "name": "stderr",
     "output_type": "stream",
     "text": [
      "\r",
      "generating and solving puzzles:  69%|██████▊   | 687/1000 [01:24<00:40,  7.64it/s]"
     ]
    },
    {
     "name": "stderr",
     "output_type": "stream",
     "text": [
      "\r",
      "generating and solving puzzles:  69%|██████▉   | 688/1000 [01:24<00:39,  7.80it/s]"
     ]
    },
    {
     "name": "stderr",
     "output_type": "stream",
     "text": [
      "\r",
      "generating and solving puzzles:  69%|██████▉   | 689/1000 [01:24<00:39,  7.80it/s]"
     ]
    },
    {
     "name": "stderr",
     "output_type": "stream",
     "text": [
      "\r",
      "generating and solving puzzles:  69%|██████▉   | 690/1000 [01:24<00:39,  7.77it/s]"
     ]
    },
    {
     "name": "stderr",
     "output_type": "stream",
     "text": [
      "\r",
      "generating and solving puzzles:  69%|██████▉   | 691/1000 [01:24<00:39,  7.89it/s]"
     ]
    },
    {
     "name": "stderr",
     "output_type": "stream",
     "text": [
      "\r",
      "generating and solving puzzles:  69%|██████▉   | 692/1000 [01:24<00:38,  8.04it/s]"
     ]
    },
    {
     "name": "stderr",
     "output_type": "stream",
     "text": [
      "\r",
      "generating and solving puzzles:  69%|██████▉   | 693/1000 [01:25<00:37,  8.14it/s]"
     ]
    },
    {
     "name": "stderr",
     "output_type": "stream",
     "text": [
      "\r",
      "generating and solving puzzles:  69%|██████▉   | 694/1000 [01:25<00:37,  8.09it/s]"
     ]
    },
    {
     "name": "stderr",
     "output_type": "stream",
     "text": [
      "\r",
      "generating and solving puzzles:  70%|██████▉   | 695/1000 [01:25<00:37,  8.06it/s]"
     ]
    },
    {
     "name": "stderr",
     "output_type": "stream",
     "text": [
      "\r",
      "generating and solving puzzles:  70%|██████▉   | 696/1000 [01:25<00:37,  8.01it/s]"
     ]
    },
    {
     "name": "stderr",
     "output_type": "stream",
     "text": [
      "\r",
      "generating and solving puzzles:  70%|██████▉   | 697/1000 [01:25<00:38,  7.90it/s]"
     ]
    },
    {
     "name": "stderr",
     "output_type": "stream",
     "text": [
      "\r",
      "generating and solving puzzles:  70%|██████▉   | 698/1000 [01:25<00:37,  7.99it/s]"
     ]
    },
    {
     "name": "stderr",
     "output_type": "stream",
     "text": [
      "\r",
      "generating and solving puzzles:  70%|██████▉   | 699/1000 [01:25<00:37,  8.10it/s]"
     ]
    },
    {
     "name": "stderr",
     "output_type": "stream",
     "text": [
      "\r",
      "generating and solving puzzles:  70%|███████   | 700/1000 [01:25<00:36,  8.19it/s]"
     ]
    },
    {
     "name": "stderr",
     "output_type": "stream",
     "text": [
      "\r",
      "generating and solving puzzles:  70%|███████   | 701/1000 [01:26<00:35,  8.32it/s]"
     ]
    },
    {
     "name": "stderr",
     "output_type": "stream",
     "text": [
      "\r",
      "generating and solving puzzles:  70%|███████   | 702/1000 [01:26<00:36,  8.26it/s]"
     ]
    },
    {
     "name": "stderr",
     "output_type": "stream",
     "text": [
      "\r",
      "generating and solving puzzles:  70%|███████   | 703/1000 [01:26<00:36,  8.19it/s]"
     ]
    },
    {
     "name": "stderr",
     "output_type": "stream",
     "text": [
      "\r",
      "generating and solving puzzles:  70%|███████   | 704/1000 [01:26<00:36,  8.03it/s]"
     ]
    },
    {
     "name": "stderr",
     "output_type": "stream",
     "text": [
      "\r",
      "generating and solving puzzles:  70%|███████   | 705/1000 [01:26<00:37,  7.97it/s]"
     ]
    },
    {
     "name": "stderr",
     "output_type": "stream",
     "text": [
      "\r",
      "generating and solving puzzles:  71%|███████   | 706/1000 [01:26<00:36,  8.08it/s]"
     ]
    },
    {
     "name": "stderr",
     "output_type": "stream",
     "text": [
      "\r",
      "generating and solving puzzles:  71%|███████   | 707/1000 [01:26<00:35,  8.18it/s]"
     ]
    },
    {
     "name": "stderr",
     "output_type": "stream",
     "text": [
      "\r",
      "generating and solving puzzles:  71%|███████   | 708/1000 [01:26<00:35,  8.19it/s]"
     ]
    },
    {
     "name": "stderr",
     "output_type": "stream",
     "text": [
      "\r",
      "generating and solving puzzles:  71%|███████   | 709/1000 [01:27<00:35,  8.13it/s]"
     ]
    },
    {
     "name": "stderr",
     "output_type": "stream",
     "text": [
      "\r",
      "generating and solving puzzles:  71%|███████   | 710/1000 [01:27<00:36,  8.01it/s]"
     ]
    },
    {
     "name": "stderr",
     "output_type": "stream",
     "text": [
      "\r",
      "generating and solving puzzles:  71%|███████   | 711/1000 [01:27<00:36,  7.94it/s]"
     ]
    },
    {
     "name": "stderr",
     "output_type": "stream",
     "text": [
      "\r",
      "generating and solving puzzles:  71%|███████   | 712/1000 [01:27<00:35,  8.08it/s]"
     ]
    },
    {
     "name": "stderr",
     "output_type": "stream",
     "text": [
      "\r",
      "generating and solving puzzles:  71%|███████▏  | 713/1000 [01:27<00:35,  8.17it/s]"
     ]
    },
    {
     "name": "stderr",
     "output_type": "stream",
     "text": [
      "\r",
      "generating and solving puzzles:  71%|███████▏  | 714/1000 [01:27<00:34,  8.25it/s]"
     ]
    },
    {
     "name": "stderr",
     "output_type": "stream",
     "text": [
      "\r",
      "generating and solving puzzles:  72%|███████▏  | 715/1000 [01:27<00:34,  8.30it/s]"
     ]
    },
    {
     "name": "stderr",
     "output_type": "stream",
     "text": [
      "\r",
      "generating and solving puzzles:  72%|███████▏  | 716/1000 [01:27<00:34,  8.28it/s]"
     ]
    },
    {
     "name": "stderr",
     "output_type": "stream",
     "text": [
      "\r",
      "generating and solving puzzles:  72%|███████▏  | 717/1000 [01:28<00:34,  8.17it/s]"
     ]
    },
    {
     "name": "stderr",
     "output_type": "stream",
     "text": [
      "\r",
      "generating and solving puzzles:  72%|███████▏  | 718/1000 [01:28<00:35,  8.04it/s]"
     ]
    },
    {
     "name": "stderr",
     "output_type": "stream",
     "text": [
      "\r",
      "generating and solving puzzles:  72%|███████▏  | 719/1000 [01:28<00:35,  8.01it/s]"
     ]
    },
    {
     "name": "stderr",
     "output_type": "stream",
     "text": [
      "\r",
      "generating and solving puzzles:  72%|███████▏  | 720/1000 [01:28<00:34,  8.05it/s]"
     ]
    },
    {
     "name": "stderr",
     "output_type": "stream",
     "text": [
      "\r",
      "generating and solving puzzles:  72%|███████▏  | 721/1000 [01:28<00:34,  8.11it/s]"
     ]
    },
    {
     "name": "stderr",
     "output_type": "stream",
     "text": [
      "\r",
      "generating and solving puzzles:  72%|███████▏  | 722/1000 [01:28<00:33,  8.20it/s]"
     ]
    },
    {
     "name": "stderr",
     "output_type": "stream",
     "text": [
      "\r",
      "generating and solving puzzles:  72%|███████▏  | 723/1000 [01:28<00:33,  8.28it/s]"
     ]
    },
    {
     "name": "stderr",
     "output_type": "stream",
     "text": [
      "\r",
      "generating and solving puzzles:  72%|███████▏  | 724/1000 [01:28<00:33,  8.14it/s]"
     ]
    },
    {
     "name": "stderr",
     "output_type": "stream",
     "text": [
      "\r",
      "generating and solving puzzles:  72%|███████▎  | 725/1000 [01:29<00:34,  7.97it/s]"
     ]
    },
    {
     "name": "stderr",
     "output_type": "stream",
     "text": [
      "\r",
      "generating and solving puzzles:  73%|███████▎  | 726/1000 [01:29<00:33,  8.12it/s]"
     ]
    },
    {
     "name": "stderr",
     "output_type": "stream",
     "text": [
      "\r",
      "generating and solving puzzles:  73%|███████▎  | 727/1000 [01:29<00:33,  8.21it/s]"
     ]
    },
    {
     "name": "stderr",
     "output_type": "stream",
     "text": [
      "\r",
      "generating and solving puzzles:  73%|███████▎  | 728/1000 [01:29<00:32,  8.26it/s]"
     ]
    },
    {
     "name": "stderr",
     "output_type": "stream",
     "text": [
      "\r",
      "generating and solving puzzles:  73%|███████▎  | 729/1000 [01:29<00:32,  8.30it/s]"
     ]
    },
    {
     "name": "stderr",
     "output_type": "stream",
     "text": [
      "\r",
      "generating and solving puzzles:  73%|███████▎  | 730/1000 [01:29<00:32,  8.35it/s]"
     ]
    },
    {
     "name": "stderr",
     "output_type": "stream",
     "text": [
      "\r",
      "generating and solving puzzles:  73%|███████▎  | 731/1000 [01:29<00:32,  8.38it/s]"
     ]
    },
    {
     "name": "stderr",
     "output_type": "stream",
     "text": [
      "\r",
      "generating and solving puzzles:  73%|███████▎  | 732/1000 [01:29<00:31,  8.40it/s]"
     ]
    },
    {
     "name": "stderr",
     "output_type": "stream",
     "text": [
      "\r",
      "generating and solving puzzles:  73%|███████▎  | 733/1000 [01:30<00:31,  8.41it/s]"
     ]
    },
    {
     "name": "stderr",
     "output_type": "stream",
     "text": [
      "\r",
      "generating and solving puzzles:  73%|███████▎  | 734/1000 [01:30<00:31,  8.40it/s]"
     ]
    },
    {
     "name": "stderr",
     "output_type": "stream",
     "text": [
      "\r",
      "generating and solving puzzles:  74%|███████▎  | 735/1000 [01:30<00:32,  8.22it/s]"
     ]
    },
    {
     "name": "stderr",
     "output_type": "stream",
     "text": [
      "\r",
      "generating and solving puzzles:  74%|███████▎  | 736/1000 [01:30<00:32,  8.07it/s]"
     ]
    },
    {
     "name": "stderr",
     "output_type": "stream",
     "text": [
      "\r",
      "generating and solving puzzles:  74%|███████▎  | 737/1000 [01:30<00:32,  8.14it/s]"
     ]
    },
    {
     "name": "stderr",
     "output_type": "stream",
     "text": [
      "\r",
      "generating and solving puzzles:  74%|███████▍  | 738/1000 [01:30<00:31,  8.19it/s]"
     ]
    },
    {
     "name": "stderr",
     "output_type": "stream",
     "text": [
      "\r",
      "generating and solving puzzles:  74%|███████▍  | 739/1000 [01:30<00:31,  8.23it/s]"
     ]
    },
    {
     "name": "stderr",
     "output_type": "stream",
     "text": [
      "\r",
      "generating and solving puzzles:  74%|███████▍  | 740/1000 [01:30<00:31,  8.25it/s]"
     ]
    },
    {
     "name": "stderr",
     "output_type": "stream",
     "text": [
      "\r",
      "generating and solving puzzles:  74%|███████▍  | 741/1000 [01:30<00:30,  8.38it/s]"
     ]
    },
    {
     "name": "stderr",
     "output_type": "stream",
     "text": [
      "\r",
      "generating and solving puzzles:  74%|███████▍  | 742/1000 [01:31<00:30,  8.38it/s]"
     ]
    },
    {
     "name": "stderr",
     "output_type": "stream",
     "text": [
      "\r",
      "generating and solving puzzles:  74%|███████▍  | 743/1000 [01:31<00:30,  8.39it/s]"
     ]
    },
    {
     "name": "stderr",
     "output_type": "stream",
     "text": [
      "\r",
      "generating and solving puzzles:  74%|███████▍  | 744/1000 [01:31<00:30,  8.38it/s]"
     ]
    },
    {
     "name": "stderr",
     "output_type": "stream",
     "text": [
      "\r",
      "generating and solving puzzles:  74%|███████▍  | 745/1000 [01:31<00:31,  8.20it/s]"
     ]
    },
    {
     "name": "stderr",
     "output_type": "stream",
     "text": [
      "\r",
      "generating and solving puzzles:  75%|███████▍  | 746/1000 [01:31<00:31,  8.05it/s]"
     ]
    },
    {
     "name": "stderr",
     "output_type": "stream",
     "text": [
      "\r",
      "generating and solving puzzles:  75%|███████▍  | 747/1000 [01:31<00:31,  8.15it/s]"
     ]
    },
    {
     "name": "stderr",
     "output_type": "stream",
     "text": [
      "\r",
      "generating and solving puzzles:  75%|███████▍  | 748/1000 [01:31<00:30,  8.23it/s]"
     ]
    },
    {
     "name": "stderr",
     "output_type": "stream",
     "text": [
      "\r",
      "generating and solving puzzles:  75%|███████▍  | 749/1000 [01:31<00:30,  8.28it/s]"
     ]
    },
    {
     "name": "stderr",
     "output_type": "stream",
     "text": [
      "\r",
      "generating and solving puzzles:  75%|███████▌  | 750/1000 [01:32<00:30,  8.27it/s]"
     ]
    },
    {
     "name": "stderr",
     "output_type": "stream",
     "text": [
      "\r",
      "generating and solving puzzles:  75%|███████▌  | 751/1000 [01:32<00:30,  8.28it/s]"
     ]
    },
    {
     "name": "stderr",
     "output_type": "stream",
     "text": [
      "\r",
      "generating and solving puzzles:  75%|███████▌  | 752/1000 [01:32<00:29,  8.34it/s]"
     ]
    },
    {
     "name": "stderr",
     "output_type": "stream",
     "text": [
      "\r",
      "generating and solving puzzles:  75%|███████▌  | 753/1000 [01:32<00:29,  8.34it/s]"
     ]
    },
    {
     "name": "stderr",
     "output_type": "stream",
     "text": [
      "\r",
      "generating and solving puzzles:  75%|███████▌  | 754/1000 [01:32<00:29,  8.35it/s]"
     ]
    },
    {
     "name": "stderr",
     "output_type": "stream",
     "text": [
      "\r",
      "generating and solving puzzles:  76%|███████▌  | 755/1000 [01:32<00:29,  8.22it/s]"
     ]
    },
    {
     "name": "stderr",
     "output_type": "stream",
     "text": [
      "\r",
      "generating and solving puzzles:  76%|███████▌  | 756/1000 [01:32<00:30,  8.03it/s]"
     ]
    },
    {
     "name": "stderr",
     "output_type": "stream",
     "text": [
      "\r",
      "generating and solving puzzles:  76%|███████▌  | 757/1000 [01:32<00:29,  8.15it/s]"
     ]
    },
    {
     "name": "stderr",
     "output_type": "stream",
     "text": [
      "\r",
      "generating and solving puzzles:  76%|███████▌  | 758/1000 [01:33<00:29,  8.19it/s]"
     ]
    },
    {
     "name": "stderr",
     "output_type": "stream",
     "text": [
      "\r",
      "generating and solving puzzles:  76%|███████▌  | 759/1000 [01:33<00:29,  8.25it/s]"
     ]
    },
    {
     "name": "stderr",
     "output_type": "stream",
     "text": [
      "\r",
      "generating and solving puzzles:  76%|███████▌  | 760/1000 [01:33<00:28,  8.33it/s]"
     ]
    },
    {
     "name": "stderr",
     "output_type": "stream",
     "text": [
      "\r",
      "generating and solving puzzles:  76%|███████▌  | 761/1000 [01:33<00:28,  8.34it/s]"
     ]
    },
    {
     "name": "stderr",
     "output_type": "stream",
     "text": [
      "\r",
      "generating and solving puzzles:  76%|███████▌  | 762/1000 [01:33<00:28,  8.38it/s]"
     ]
    },
    {
     "name": "stderr",
     "output_type": "stream",
     "text": [
      "\r",
      "generating and solving puzzles:  76%|███████▋  | 763/1000 [01:33<00:28,  8.38it/s]"
     ]
    },
    {
     "name": "stderr",
     "output_type": "stream",
     "text": [
      "\r",
      "generating and solving puzzles:  76%|███████▋  | 764/1000 [01:33<00:28,  8.27it/s]"
     ]
    },
    {
     "name": "stderr",
     "output_type": "stream",
     "text": [
      "\r",
      "generating and solving puzzles:  76%|███████▋  | 765/1000 [01:33<00:28,  8.10it/s]"
     ]
    },
    {
     "name": "stderr",
     "output_type": "stream",
     "text": [
      "\r",
      "generating and solving puzzles:  77%|███████▋  | 766/1000 [01:34<00:29,  8.00it/s]"
     ]
    },
    {
     "name": "stderr",
     "output_type": "stream",
     "text": [
      "\r",
      "generating and solving puzzles:  77%|███████▋  | 767/1000 [01:34<00:29,  8.00it/s]"
     ]
    },
    {
     "name": "stderr",
     "output_type": "stream",
     "text": [
      "\r",
      "generating and solving puzzles:  77%|███████▋  | 768/1000 [01:34<00:28,  8.12it/s]"
     ]
    },
    {
     "name": "stderr",
     "output_type": "stream",
     "text": [
      "\r",
      "generating and solving puzzles:  77%|███████▋  | 769/1000 [01:34<00:28,  8.21it/s]"
     ]
    },
    {
     "name": "stderr",
     "output_type": "stream",
     "text": [
      "\r",
      "generating and solving puzzles:  77%|███████▋  | 770/1000 [01:34<00:27,  8.27it/s]"
     ]
    },
    {
     "name": "stderr",
     "output_type": "stream",
     "text": [
      "\r",
      "generating and solving puzzles:  77%|███████▋  | 771/1000 [01:34<00:27,  8.24it/s]"
     ]
    },
    {
     "name": "stderr",
     "output_type": "stream",
     "text": [
      "\r",
      "generating and solving puzzles:  77%|███████▋  | 772/1000 [01:34<00:27,  8.31it/s]"
     ]
    },
    {
     "name": "stderr",
     "output_type": "stream",
     "text": [
      "\r",
      "generating and solving puzzles:  77%|███████▋  | 773/1000 [01:34<00:27,  8.14it/s]"
     ]
    },
    {
     "name": "stderr",
     "output_type": "stream",
     "text": [
      "\r",
      "generating and solving puzzles:  77%|███████▋  | 774/1000 [01:35<00:28,  8.02it/s]"
     ]
    },
    {
     "name": "stderr",
     "output_type": "stream",
     "text": [
      "\r",
      "generating and solving puzzles:  78%|███████▊  | 775/1000 [01:35<00:27,  8.11it/s]"
     ]
    },
    {
     "name": "stderr",
     "output_type": "stream",
     "text": [
      "\r",
      "generating and solving puzzles:  78%|███████▊  | 776/1000 [01:35<00:27,  8.08it/s]"
     ]
    },
    {
     "name": "stderr",
     "output_type": "stream",
     "text": [
      "\r",
      "generating and solving puzzles:  78%|███████▊  | 777/1000 [01:35<00:27,  8.09it/s]"
     ]
    },
    {
     "name": "stderr",
     "output_type": "stream",
     "text": [
      "\r",
      "generating and solving puzzles:  78%|███████▊  | 778/1000 [01:35<00:27,  8.12it/s]"
     ]
    },
    {
     "name": "stderr",
     "output_type": "stream",
     "text": [
      "\r",
      "generating and solving puzzles:  78%|███████▊  | 779/1000 [01:35<00:27,  8.03it/s]"
     ]
    },
    {
     "name": "stderr",
     "output_type": "stream",
     "text": [
      "\r",
      "generating and solving puzzles:  78%|███████▊  | 780/1000 [01:35<00:27,  7.92it/s]"
     ]
    },
    {
     "name": "stderr",
     "output_type": "stream",
     "text": [
      "\r",
      "generating and solving puzzles:  78%|███████▊  | 781/1000 [01:35<00:27,  7.99it/s]"
     ]
    },
    {
     "name": "stderr",
     "output_type": "stream",
     "text": [
      "\r",
      "generating and solving puzzles:  78%|███████▊  | 782/1000 [01:35<00:27,  7.99it/s]"
     ]
    },
    {
     "name": "stderr",
     "output_type": "stream",
     "text": [
      "\r",
      "generating and solving puzzles:  78%|███████▊  | 783/1000 [01:36<00:26,  8.11it/s]"
     ]
    },
    {
     "name": "stderr",
     "output_type": "stream",
     "text": [
      "\r",
      "generating and solving puzzles:  78%|███████▊  | 784/1000 [01:36<00:26,  8.25it/s]"
     ]
    },
    {
     "name": "stderr",
     "output_type": "stream",
     "text": [
      "\r",
      "generating and solving puzzles:  78%|███████▊  | 785/1000 [01:36<00:25,  8.28it/s]"
     ]
    },
    {
     "name": "stderr",
     "output_type": "stream",
     "text": [
      "\r",
      "generating and solving puzzles:  79%|███████▊  | 786/1000 [01:36<00:26,  8.14it/s]"
     ]
    },
    {
     "name": "stderr",
     "output_type": "stream",
     "text": [
      "\r",
      "generating and solving puzzles:  79%|███████▊  | 787/1000 [01:36<00:26,  8.01it/s]"
     ]
    },
    {
     "name": "stderr",
     "output_type": "stream",
     "text": [
      "\r",
      "generating and solving puzzles:  79%|███████▉  | 788/1000 [01:36<00:26,  8.05it/s]"
     ]
    },
    {
     "name": "stderr",
     "output_type": "stream",
     "text": [
      "\r",
      "generating and solving puzzles:  79%|███████▉  | 789/1000 [01:36<00:25,  8.17it/s]"
     ]
    },
    {
     "name": "stderr",
     "output_type": "stream",
     "text": [
      "\r",
      "generating and solving puzzles:  79%|███████▉  | 790/1000 [01:36<00:25,  8.35it/s]"
     ]
    },
    {
     "name": "stderr",
     "output_type": "stream",
     "text": [
      "\r",
      "generating and solving puzzles:  79%|███████▉  | 791/1000 [01:37<00:25,  8.33it/s]"
     ]
    },
    {
     "name": "stderr",
     "output_type": "stream",
     "text": [
      "\r",
      "generating and solving puzzles:  79%|███████▉  | 792/1000 [01:37<00:25,  8.23it/s]"
     ]
    },
    {
     "name": "stderr",
     "output_type": "stream",
     "text": [
      "\r",
      "generating and solving puzzles:  79%|███████▉  | 793/1000 [01:37<00:25,  8.13it/s]"
     ]
    },
    {
     "name": "stderr",
     "output_type": "stream",
     "text": [
      "\r",
      "generating and solving puzzles:  79%|███████▉  | 794/1000 [01:37<00:25,  7.97it/s]"
     ]
    },
    {
     "name": "stderr",
     "output_type": "stream",
     "text": [
      "\r",
      "generating and solving puzzles:  80%|███████▉  | 795/1000 [01:37<00:25,  8.00it/s]"
     ]
    },
    {
     "name": "stderr",
     "output_type": "stream",
     "text": [
      "\r",
      "generating and solving puzzles:  80%|███████▉  | 796/1000 [01:37<00:25,  8.04it/s]"
     ]
    },
    {
     "name": "stderr",
     "output_type": "stream",
     "text": [
      "\r",
      "generating and solving puzzles:  80%|███████▉  | 797/1000 [01:37<00:25,  8.11it/s]"
     ]
    },
    {
     "name": "stderr",
     "output_type": "stream",
     "text": [
      "\r",
      "generating and solving puzzles:  80%|███████▉  | 798/1000 [01:37<00:24,  8.12it/s]"
     ]
    },
    {
     "name": "stderr",
     "output_type": "stream",
     "text": [
      "\r",
      "generating and solving puzzles:  80%|███████▉  | 799/1000 [01:38<00:24,  8.08it/s]"
     ]
    },
    {
     "name": "stderr",
     "output_type": "stream",
     "text": [
      "\r",
      "generating and solving puzzles:  80%|████████  | 800/1000 [01:38<00:25,  7.98it/s]"
     ]
    },
    {
     "name": "stderr",
     "output_type": "stream",
     "text": [
      "\r",
      "generating and solving puzzles:  80%|████████  | 801/1000 [01:38<00:24,  7.97it/s]"
     ]
    },
    {
     "name": "stderr",
     "output_type": "stream",
     "text": [
      "\r",
      "generating and solving puzzles:  80%|████████  | 802/1000 [01:38<00:24,  8.01it/s]"
     ]
    },
    {
     "name": "stderr",
     "output_type": "stream",
     "text": [
      "\r",
      "generating and solving puzzles:  80%|████████  | 803/1000 [01:38<00:24,  8.00it/s]"
     ]
    },
    {
     "name": "stderr",
     "output_type": "stream",
     "text": [
      "\r",
      "generating and solving puzzles:  80%|████████  | 804/1000 [01:38<00:24,  8.10it/s]"
     ]
    },
    {
     "name": "stderr",
     "output_type": "stream",
     "text": [
      "\r",
      "generating and solving puzzles:  80%|████████  | 805/1000 [01:38<00:23,  8.16it/s]"
     ]
    },
    {
     "name": "stderr",
     "output_type": "stream",
     "text": [
      "\r",
      "generating and solving puzzles:  81%|████████  | 806/1000 [01:38<00:24,  8.04it/s]"
     ]
    },
    {
     "name": "stderr",
     "output_type": "stream",
     "text": [
      "\r",
      "generating and solving puzzles:  81%|████████  | 807/1000 [01:39<00:24,  7.97it/s]"
     ]
    },
    {
     "name": "stderr",
     "output_type": "stream",
     "text": [
      "\r",
      "generating and solving puzzles:  81%|████████  | 808/1000 [01:39<00:23,  8.09it/s]"
     ]
    },
    {
     "name": "stderr",
     "output_type": "stream",
     "text": [
      "\r",
      "generating and solving puzzles:  81%|████████  | 809/1000 [01:39<00:23,  8.18it/s]"
     ]
    },
    {
     "name": "stderr",
     "output_type": "stream",
     "text": [
      "\r",
      "generating and solving puzzles:  81%|████████  | 810/1000 [01:39<00:23,  8.22it/s]"
     ]
    },
    {
     "name": "stderr",
     "output_type": "stream",
     "text": [
      "\r",
      "generating and solving puzzles:  81%|████████  | 811/1000 [01:39<00:22,  8.24it/s]"
     ]
    },
    {
     "name": "stderr",
     "output_type": "stream",
     "text": [
      "\r",
      "generating and solving puzzles:  81%|████████  | 812/1000 [01:39<00:22,  8.28it/s]"
     ]
    },
    {
     "name": "stderr",
     "output_type": "stream",
     "text": [
      "\r",
      "generating and solving puzzles:  81%|████████▏ | 813/1000 [01:39<00:22,  8.31it/s]"
     ]
    },
    {
     "name": "stderr",
     "output_type": "stream",
     "text": [
      "\r",
      "generating and solving puzzles:  81%|████████▏ | 814/1000 [01:39<00:22,  8.36it/s]"
     ]
    },
    {
     "name": "stderr",
     "output_type": "stream",
     "text": [
      "\r",
      "generating and solving puzzles:  82%|████████▏ | 815/1000 [01:40<00:22,  8.40it/s]"
     ]
    },
    {
     "name": "stderr",
     "output_type": "stream",
     "text": [
      "\r",
      "generating and solving puzzles:  82%|████████▏ | 816/1000 [01:40<00:22,  8.24it/s]"
     ]
    },
    {
     "name": "stderr",
     "output_type": "stream",
     "text": [
      "\r",
      "generating and solving puzzles:  82%|████████▏ | 817/1000 [01:40<00:22,  8.05it/s]"
     ]
    },
    {
     "name": "stderr",
     "output_type": "stream",
     "text": [
      "\r",
      "generating and solving puzzles:  82%|████████▏ | 818/1000 [01:40<00:22,  8.15it/s]"
     ]
    },
    {
     "name": "stderr",
     "output_type": "stream",
     "text": [
      "\r",
      "generating and solving puzzles:  82%|████████▏ | 819/1000 [01:40<00:22,  8.19it/s]"
     ]
    },
    {
     "name": "stderr",
     "output_type": "stream",
     "text": [
      "\r",
      "generating and solving puzzles:  82%|████████▏ | 820/1000 [01:40<00:21,  8.27it/s]"
     ]
    },
    {
     "name": "stderr",
     "output_type": "stream",
     "text": [
      "\r",
      "generating and solving puzzles:  82%|████████▏ | 821/1000 [01:40<00:21,  8.21it/s]"
     ]
    },
    {
     "name": "stderr",
     "output_type": "stream",
     "text": [
      "\r",
      "generating and solving puzzles:  82%|████████▏ | 822/1000 [01:40<00:21,  8.26it/s]"
     ]
    },
    {
     "name": "stderr",
     "output_type": "stream",
     "text": [
      "\r",
      "generating and solving puzzles:  82%|████████▏ | 823/1000 [01:41<00:21,  8.33it/s]"
     ]
    },
    {
     "name": "stderr",
     "output_type": "stream",
     "text": [
      "\r",
      "generating and solving puzzles:  82%|████████▏ | 824/1000 [01:41<00:21,  8.35it/s]"
     ]
    },
    {
     "name": "stderr",
     "output_type": "stream",
     "text": [
      "\r",
      "generating and solving puzzles:  82%|████████▎ | 825/1000 [01:41<00:21,  8.27it/s]"
     ]
    },
    {
     "name": "stderr",
     "output_type": "stream",
     "text": [
      "\r",
      "generating and solving puzzles:  83%|████████▎ | 826/1000 [01:41<00:21,  8.12it/s]"
     ]
    },
    {
     "name": "stderr",
     "output_type": "stream",
     "text": [
      "\r",
      "generating and solving puzzles:  83%|████████▎ | 827/1000 [01:41<00:21,  8.01it/s]"
     ]
    },
    {
     "name": "stderr",
     "output_type": "stream",
     "text": [
      "\r",
      "generating and solving puzzles:  83%|████████▎ | 828/1000 [01:41<00:21,  8.12it/s]"
     ]
    },
    {
     "name": "stderr",
     "output_type": "stream",
     "text": [
      "\r",
      "generating and solving puzzles:  83%|████████▎ | 829/1000 [01:41<00:20,  8.18it/s]"
     ]
    },
    {
     "name": "stderr",
     "output_type": "stream",
     "text": [
      "\r",
      "generating and solving puzzles:  83%|████████▎ | 830/1000 [01:41<00:20,  8.26it/s]"
     ]
    },
    {
     "name": "stderr",
     "output_type": "stream",
     "text": [
      "\r",
      "generating and solving puzzles:  83%|████████▎ | 831/1000 [01:41<00:20,  8.31it/s]"
     ]
    },
    {
     "name": "stderr",
     "output_type": "stream",
     "text": [
      "\r",
      "generating and solving puzzles:  83%|████████▎ | 832/1000 [01:42<00:20,  8.32it/s]"
     ]
    },
    {
     "name": "stderr",
     "output_type": "stream",
     "text": [
      "\r",
      "generating and solving puzzles:  83%|████████▎ | 833/1000 [01:42<00:20,  8.35it/s]"
     ]
    },
    {
     "name": "stderr",
     "output_type": "stream",
     "text": [
      "\r",
      "generating and solving puzzles:  83%|████████▎ | 834/1000 [01:42<00:20,  8.21it/s]"
     ]
    },
    {
     "name": "stderr",
     "output_type": "stream",
     "text": [
      "\r",
      "generating and solving puzzles:  84%|████████▎ | 835/1000 [01:42<00:19,  8.28it/s]"
     ]
    },
    {
     "name": "stderr",
     "output_type": "stream",
     "text": [
      "\r",
      "generating and solving puzzles:  84%|████████▎ | 836/1000 [01:42<00:19,  8.31it/s]"
     ]
    },
    {
     "name": "stderr",
     "output_type": "stream",
     "text": [
      "\r",
      "generating and solving puzzles:  84%|████████▎ | 837/1000 [01:42<00:19,  8.17it/s]"
     ]
    },
    {
     "name": "stderr",
     "output_type": "stream",
     "text": [
      "\r",
      "generating and solving puzzles:  84%|████████▍ | 838/1000 [01:42<00:20,  8.02it/s]"
     ]
    },
    {
     "name": "stderr",
     "output_type": "stream",
     "text": [
      "\r",
      "generating and solving puzzles:  84%|████████▍ | 839/1000 [01:42<00:19,  8.10it/s]"
     ]
    },
    {
     "name": "stderr",
     "output_type": "stream",
     "text": [
      "\r",
      "generating and solving puzzles:  84%|████████▍ | 840/1000 [01:43<00:19,  8.18it/s]"
     ]
    },
    {
     "name": "stderr",
     "output_type": "stream",
     "text": [
      "\r",
      "generating and solving puzzles:  84%|████████▍ | 841/1000 [01:43<00:19,  8.25it/s]"
     ]
    },
    {
     "name": "stderr",
     "output_type": "stream",
     "text": [
      "\r",
      "generating and solving puzzles:  84%|████████▍ | 842/1000 [01:43<00:19,  8.25it/s]"
     ]
    },
    {
     "name": "stderr",
     "output_type": "stream",
     "text": [
      "\r",
      "generating and solving puzzles:  84%|████████▍ | 843/1000 [01:43<00:18,  8.27it/s]"
     ]
    },
    {
     "name": "stderr",
     "output_type": "stream",
     "text": [
      "\r",
      "generating and solving puzzles:  84%|████████▍ | 844/1000 [01:43<00:18,  8.31it/s]"
     ]
    },
    {
     "name": "stderr",
     "output_type": "stream",
     "text": [
      "\r",
      "generating and solving puzzles:  84%|████████▍ | 845/1000 [01:43<00:18,  8.30it/s]"
     ]
    },
    {
     "name": "stderr",
     "output_type": "stream",
     "text": [
      "\r",
      "generating and solving puzzles:  85%|████████▍ | 846/1000 [01:43<00:18,  8.16it/s]"
     ]
    },
    {
     "name": "stderr",
     "output_type": "stream",
     "text": [
      "\r",
      "generating and solving puzzles:  85%|████████▍ | 847/1000 [01:43<00:18,  8.08it/s]"
     ]
    },
    {
     "name": "stderr",
     "output_type": "stream",
     "text": [
      "\r",
      "generating and solving puzzles:  85%|████████▍ | 848/1000 [01:44<00:18,  8.13it/s]"
     ]
    },
    {
     "name": "stderr",
     "output_type": "stream",
     "text": [
      "\r",
      "generating and solving puzzles:  85%|████████▍ | 849/1000 [01:44<00:18,  8.21it/s]"
     ]
    },
    {
     "name": "stderr",
     "output_type": "stream",
     "text": [
      "\r",
      "generating and solving puzzles:  85%|████████▌ | 850/1000 [01:44<00:18,  8.27it/s]"
     ]
    },
    {
     "name": "stderr",
     "output_type": "stream",
     "text": [
      "\r",
      "generating and solving puzzles:  85%|████████▌ | 851/1000 [01:44<00:17,  8.31it/s]"
     ]
    },
    {
     "name": "stderr",
     "output_type": "stream",
     "text": [
      "\r",
      "generating and solving puzzles:  85%|████████▌ | 852/1000 [01:44<00:17,  8.34it/s]"
     ]
    },
    {
     "name": "stderr",
     "output_type": "stream",
     "text": [
      "\r",
      "generating and solving puzzles:  85%|████████▌ | 853/1000 [01:44<00:17,  8.31it/s]"
     ]
    },
    {
     "name": "stderr",
     "output_type": "stream",
     "text": [
      "\r",
      "generating and solving puzzles:  85%|████████▌ | 854/1000 [01:44<00:18,  7.73it/s]"
     ]
    },
    {
     "name": "stderr",
     "output_type": "stream",
     "text": [
      "\r",
      "generating and solving puzzles:  86%|████████▌ | 855/1000 [01:44<00:18,  7.89it/s]"
     ]
    },
    {
     "name": "stderr",
     "output_type": "stream",
     "text": [
      "\r",
      "generating and solving puzzles:  86%|████████▌ | 856/1000 [01:45<00:18,  7.89it/s]"
     ]
    },
    {
     "name": "stderr",
     "output_type": "stream",
     "text": [
      "\r",
      "generating and solving puzzles:  86%|████████▌ | 857/1000 [01:45<00:18,  7.84it/s]"
     ]
    },
    {
     "name": "stderr",
     "output_type": "stream",
     "text": [
      "\r",
      "generating and solving puzzles:  86%|████████▌ | 858/1000 [01:45<00:17,  7.93it/s]"
     ]
    },
    {
     "name": "stderr",
     "output_type": "stream",
     "text": [
      "\r",
      "generating and solving puzzles:  86%|████████▌ | 859/1000 [01:45<00:17,  8.06it/s]"
     ]
    },
    {
     "name": "stderr",
     "output_type": "stream",
     "text": [
      "\r",
      "generating and solving puzzles:  86%|████████▌ | 860/1000 [01:45<00:17,  8.18it/s]"
     ]
    },
    {
     "name": "stderr",
     "output_type": "stream",
     "text": [
      "\r",
      "generating and solving puzzles:  86%|████████▌ | 861/1000 [01:45<00:16,  8.23it/s]"
     ]
    },
    {
     "name": "stderr",
     "output_type": "stream",
     "text": [
      "\r",
      "generating and solving puzzles:  86%|████████▌ | 862/1000 [01:45<00:16,  8.27it/s]"
     ]
    },
    {
     "name": "stderr",
     "output_type": "stream",
     "text": [
      "\r",
      "generating and solving puzzles:  86%|████████▋ | 863/1000 [01:45<00:16,  8.30it/s]"
     ]
    },
    {
     "name": "stderr",
     "output_type": "stream",
     "text": [
      "\r",
      "generating and solving puzzles:  86%|████████▋ | 864/1000 [01:46<00:16,  8.35it/s]"
     ]
    },
    {
     "name": "stderr",
     "output_type": "stream",
     "text": [
      "\r",
      "generating and solving puzzles:  86%|████████▋ | 865/1000 [01:46<00:16,  8.36it/s]"
     ]
    },
    {
     "name": "stderr",
     "output_type": "stream",
     "text": [
      "\r",
      "generating and solving puzzles:  87%|████████▋ | 866/1000 [01:46<00:16,  8.34it/s]"
     ]
    },
    {
     "name": "stderr",
     "output_type": "stream",
     "text": [
      "\r",
      "generating and solving puzzles:  87%|████████▋ | 867/1000 [01:46<00:16,  8.18it/s]"
     ]
    },
    {
     "name": "stderr",
     "output_type": "stream",
     "text": [
      "\r",
      "generating and solving puzzles:  87%|████████▋ | 868/1000 [01:46<00:16,  8.03it/s]"
     ]
    },
    {
     "name": "stderr",
     "output_type": "stream",
     "text": [
      "\r",
      "generating and solving puzzles:  87%|████████▋ | 869/1000 [01:46<00:16,  8.10it/s]"
     ]
    },
    {
     "name": "stderr",
     "output_type": "stream",
     "text": [
      "\r",
      "generating and solving puzzles:  87%|████████▋ | 870/1000 [01:46<00:15,  8.19it/s]"
     ]
    },
    {
     "name": "stderr",
     "output_type": "stream",
     "text": [
      "\r",
      "generating and solving puzzles:  87%|████████▋ | 871/1000 [01:46<00:15,  8.23it/s]"
     ]
    },
    {
     "name": "stderr",
     "output_type": "stream",
     "text": [
      "\r",
      "generating and solving puzzles:  87%|████████▋ | 872/1000 [01:47<00:15,  8.28it/s]"
     ]
    },
    {
     "name": "stderr",
     "output_type": "stream",
     "text": [
      "\r",
      "generating and solving puzzles:  87%|████████▋ | 873/1000 [01:47<00:15,  8.32it/s]"
     ]
    },
    {
     "name": "stderr",
     "output_type": "stream",
     "text": [
      "\r",
      "generating and solving puzzles:  87%|████████▋ | 874/1000 [01:47<00:15,  8.34it/s]"
     ]
    },
    {
     "name": "stderr",
     "output_type": "stream",
     "text": [
      "\r",
      "generating and solving puzzles:  88%|████████▊ | 875/1000 [01:47<00:14,  8.37it/s]"
     ]
    },
    {
     "name": "stderr",
     "output_type": "stream",
     "text": [
      "\r",
      "generating and solving puzzles:  88%|████████▊ | 876/1000 [01:47<00:14,  8.38it/s]"
     ]
    },
    {
     "name": "stderr",
     "output_type": "stream",
     "text": [
      "\r",
      "generating and solving puzzles:  88%|████████▊ | 877/1000 [01:47<00:14,  8.38it/s]"
     ]
    },
    {
     "name": "stderr",
     "output_type": "stream",
     "text": [
      "\r",
      "generating and solving puzzles:  88%|████████▊ | 878/1000 [01:47<00:14,  8.22it/s]"
     ]
    },
    {
     "name": "stderr",
     "output_type": "stream",
     "text": [
      "\r",
      "generating and solving puzzles:  88%|████████▊ | 879/1000 [01:47<00:15,  8.06it/s]"
     ]
    },
    {
     "name": "stderr",
     "output_type": "stream",
     "text": [
      "\r",
      "generating and solving puzzles:  88%|████████▊ | 880/1000 [01:47<00:14,  8.14it/s]"
     ]
    },
    {
     "name": "stderr",
     "output_type": "stream",
     "text": [
      "\r",
      "generating and solving puzzles:  88%|████████▊ | 881/1000 [01:48<00:14,  8.21it/s]"
     ]
    },
    {
     "name": "stderr",
     "output_type": "stream",
     "text": [
      "\r",
      "generating and solving puzzles:  88%|████████▊ | 882/1000 [01:48<00:14,  8.24it/s]"
     ]
    },
    {
     "name": "stderr",
     "output_type": "stream",
     "text": [
      "\r",
      "generating and solving puzzles:  88%|████████▊ | 883/1000 [01:48<00:14,  8.29it/s]"
     ]
    },
    {
     "name": "stderr",
     "output_type": "stream",
     "text": [
      "\r",
      "generating and solving puzzles:  88%|████████▊ | 884/1000 [01:48<00:13,  8.29it/s]"
     ]
    },
    {
     "name": "stderr",
     "output_type": "stream",
     "text": [
      "\r",
      "generating and solving puzzles:  88%|████████▊ | 885/1000 [01:48<00:13,  8.46it/s]"
     ]
    },
    {
     "name": "stderr",
     "output_type": "stream",
     "text": [
      "\r",
      "generating and solving puzzles:  89%|████████▊ | 886/1000 [01:48<00:13,  8.43it/s]"
     ]
    },
    {
     "name": "stderr",
     "output_type": "stream",
     "text": [
      "\r",
      "generating and solving puzzles:  89%|████████▊ | 887/1000 [01:48<00:13,  8.44it/s]"
     ]
    },
    {
     "name": "stderr",
     "output_type": "stream",
     "text": [
      "\r",
      "generating and solving puzzles:  89%|████████▉ | 888/1000 [01:48<00:13,  8.42it/s]"
     ]
    },
    {
     "name": "stderr",
     "output_type": "stream",
     "text": [
      "\r",
      "generating and solving puzzles:  89%|████████▉ | 889/1000 [01:49<00:13,  8.28it/s]"
     ]
    },
    {
     "name": "stderr",
     "output_type": "stream",
     "text": [
      "\r",
      "generating and solving puzzles:  89%|████████▉ | 890/1000 [01:49<00:13,  8.07it/s]"
     ]
    },
    {
     "name": "stderr",
     "output_type": "stream",
     "text": [
      "\r",
      "generating and solving puzzles:  89%|████████▉ | 891/1000 [01:49<00:13,  8.14it/s]"
     ]
    },
    {
     "name": "stderr",
     "output_type": "stream",
     "text": [
      "\r",
      "generating and solving puzzles:  89%|████████▉ | 892/1000 [01:49<00:13,  8.18it/s]"
     ]
    },
    {
     "name": "stderr",
     "output_type": "stream",
     "text": [
      "\r",
      "generating and solving puzzles:  89%|████████▉ | 893/1000 [01:49<00:13,  8.22it/s]"
     ]
    },
    {
     "name": "stderr",
     "output_type": "stream",
     "text": [
      "\r",
      "generating and solving puzzles:  89%|████████▉ | 894/1000 [01:49<00:12,  8.28it/s]"
     ]
    },
    {
     "name": "stderr",
     "output_type": "stream",
     "text": [
      "\r",
      "generating and solving puzzles:  90%|████████▉ | 895/1000 [01:49<00:12,  8.34it/s]"
     ]
    },
    {
     "name": "stderr",
     "output_type": "stream",
     "text": [
      "\r",
      "generating and solving puzzles:  90%|████████▉ | 896/1000 [01:49<00:12,  8.39it/s]"
     ]
    },
    {
     "name": "stderr",
     "output_type": "stream",
     "text": [
      "\r",
      "generating and solving puzzles:  90%|████████▉ | 897/1000 [01:50<00:12,  8.42it/s]"
     ]
    },
    {
     "name": "stderr",
     "output_type": "stream",
     "text": [
      "\r",
      "generating and solving puzzles:  90%|████████▉ | 898/1000 [01:50<00:12,  8.42it/s]"
     ]
    },
    {
     "name": "stderr",
     "output_type": "stream",
     "text": [
      "\r",
      "generating and solving puzzles:  90%|████████▉ | 899/1000 [01:50<00:11,  8.42it/s]"
     ]
    },
    {
     "name": "stderr",
     "output_type": "stream",
     "text": [
      "\r",
      "generating and solving puzzles:  90%|█████████ | 900/1000 [01:50<00:12,  8.26it/s]"
     ]
    },
    {
     "name": "stderr",
     "output_type": "stream",
     "text": [
      "\r",
      "generating and solving puzzles:  90%|█████████ | 901/1000 [01:50<00:12,  8.06it/s]"
     ]
    },
    {
     "name": "stderr",
     "output_type": "stream",
     "text": [
      "\r",
      "generating and solving puzzles:  90%|█████████ | 902/1000 [01:50<00:12,  8.12it/s]"
     ]
    },
    {
     "name": "stderr",
     "output_type": "stream",
     "text": [
      "\r",
      "generating and solving puzzles:  90%|█████████ | 903/1000 [01:50<00:11,  8.21it/s]"
     ]
    },
    {
     "name": "stderr",
     "output_type": "stream",
     "text": [
      "\r",
      "generating and solving puzzles:  90%|█████████ | 904/1000 [01:50<00:11,  8.29it/s]"
     ]
    },
    {
     "name": "stderr",
     "output_type": "stream",
     "text": [
      "\r",
      "generating and solving puzzles:  90%|█████████ | 905/1000 [01:50<00:11,  8.34it/s]"
     ]
    },
    {
     "name": "stderr",
     "output_type": "stream",
     "text": [
      "\r",
      "generating and solving puzzles:  91%|█████████ | 906/1000 [01:51<00:11,  8.35it/s]"
     ]
    },
    {
     "name": "stderr",
     "output_type": "stream",
     "text": [
      "\r",
      "generating and solving puzzles:  91%|█████████ | 907/1000 [01:51<00:11,  8.40it/s]"
     ]
    },
    {
     "name": "stderr",
     "output_type": "stream",
     "text": [
      "\r",
      "generating and solving puzzles:  91%|█████████ | 908/1000 [01:51<00:10,  8.46it/s]"
     ]
    },
    {
     "name": "stderr",
     "output_type": "stream",
     "text": [
      "\r",
      "generating and solving puzzles:  91%|█████████ | 909/1000 [01:51<00:10,  8.45it/s]"
     ]
    },
    {
     "name": "stderr",
     "output_type": "stream",
     "text": [
      "\r",
      "generating and solving puzzles:  91%|█████████ | 910/1000 [01:51<00:10,  8.45it/s]"
     ]
    },
    {
     "name": "stderr",
     "output_type": "stream",
     "text": [
      "\r",
      "generating and solving puzzles:  91%|█████████ | 911/1000 [01:51<00:10,  8.28it/s]"
     ]
    },
    {
     "name": "stderr",
     "output_type": "stream",
     "text": [
      "\r",
      "generating and solving puzzles:  91%|█████████ | 912/1000 [01:51<00:10,  8.03it/s]"
     ]
    },
    {
     "name": "stderr",
     "output_type": "stream",
     "text": [
      "\r",
      "generating and solving puzzles:  91%|█████████▏| 913/1000 [01:51<00:10,  8.15it/s]"
     ]
    },
    {
     "name": "stderr",
     "output_type": "stream",
     "text": [
      "\r",
      "generating and solving puzzles:  91%|█████████▏| 914/1000 [01:52<00:10,  8.13it/s]"
     ]
    },
    {
     "name": "stderr",
     "output_type": "stream",
     "text": [
      "\r",
      "generating and solving puzzles:  92%|█████████▏| 915/1000 [01:52<00:10,  8.11it/s]"
     ]
    },
    {
     "name": "stderr",
     "output_type": "stream",
     "text": [
      "\r",
      "generating and solving puzzles:  92%|█████████▏| 916/1000 [01:52<00:10,  8.13it/s]"
     ]
    },
    {
     "name": "stderr",
     "output_type": "stream",
     "text": [
      "\r",
      "generating and solving puzzles:  92%|█████████▏| 917/1000 [01:52<00:10,  8.08it/s]"
     ]
    },
    {
     "name": "stderr",
     "output_type": "stream",
     "text": [
      "\r",
      "generating and solving puzzles:  92%|█████████▏| 918/1000 [01:52<00:10,  8.11it/s]"
     ]
    },
    {
     "name": "stderr",
     "output_type": "stream",
     "text": [
      "\r",
      "generating and solving puzzles:  92%|█████████▏| 919/1000 [01:52<00:10,  8.00it/s]"
     ]
    },
    {
     "name": "stderr",
     "output_type": "stream",
     "text": [
      "\r",
      "generating and solving puzzles:  92%|█████████▏| 920/1000 [01:52<00:10,  7.93it/s]"
     ]
    },
    {
     "name": "stderr",
     "output_type": "stream",
     "text": [
      "\r",
      "generating and solving puzzles:  92%|█████████▏| 921/1000 [01:52<00:09,  7.93it/s]"
     ]
    },
    {
     "name": "stderr",
     "output_type": "stream",
     "text": [
      "\r",
      "generating and solving puzzles:  92%|█████████▏| 922/1000 [01:53<00:09,  7.95it/s]"
     ]
    },
    {
     "name": "stderr",
     "output_type": "stream",
     "text": [
      "\r",
      "generating and solving puzzles:  92%|█████████▏| 923/1000 [01:53<00:09,  8.09it/s]"
     ]
    },
    {
     "name": "stderr",
     "output_type": "stream",
     "text": [
      "\r",
      "generating and solving puzzles:  92%|█████████▏| 924/1000 [01:53<00:09,  8.21it/s]"
     ]
    },
    {
     "name": "stderr",
     "output_type": "stream",
     "text": [
      "\r",
      "generating and solving puzzles:  92%|█████████▎| 925/1000 [01:53<00:09,  8.24it/s]"
     ]
    },
    {
     "name": "stderr",
     "output_type": "stream",
     "text": [
      "\r",
      "generating and solving puzzles:  93%|█████████▎| 926/1000 [01:53<00:08,  8.29it/s]"
     ]
    },
    {
     "name": "stderr",
     "output_type": "stream",
     "text": [
      "\r",
      "generating and solving puzzles:  93%|█████████▎| 927/1000 [01:53<00:08,  8.22it/s]"
     ]
    },
    {
     "name": "stderr",
     "output_type": "stream",
     "text": [
      "\r",
      "generating and solving puzzles:  93%|█████████▎| 928/1000 [01:53<00:08,  8.12it/s]"
     ]
    },
    {
     "name": "stderr",
     "output_type": "stream",
     "text": [
      "\r",
      "generating and solving puzzles:  93%|█████████▎| 929/1000 [01:53<00:08,  7.96it/s]"
     ]
    },
    {
     "name": "stderr",
     "output_type": "stream",
     "text": [
      "\r",
      "generating and solving puzzles:  93%|█████████▎| 930/1000 [01:54<00:08,  7.96it/s]"
     ]
    },
    {
     "name": "stderr",
     "output_type": "stream",
     "text": [
      "\r",
      "generating and solving puzzles:  93%|█████████▎| 931/1000 [01:54<00:08,  8.06it/s]"
     ]
    },
    {
     "name": "stderr",
     "output_type": "stream",
     "text": [
      "\r",
      "generating and solving puzzles:  93%|█████████▎| 932/1000 [01:54<00:08,  8.05it/s]"
     ]
    },
    {
     "name": "stderr",
     "output_type": "stream",
     "text": [
      "\r",
      "generating and solving puzzles:  93%|█████████▎| 933/1000 [01:54<00:08,  8.01it/s]"
     ]
    },
    {
     "name": "stderr",
     "output_type": "stream",
     "text": [
      "\r",
      "generating and solving puzzles:  93%|█████████▎| 934/1000 [01:54<00:08,  8.09it/s]"
     ]
    },
    {
     "name": "stderr",
     "output_type": "stream",
     "text": [
      "\r",
      "generating and solving puzzles:  94%|█████████▎| 935/1000 [01:54<00:07,  8.20it/s]"
     ]
    },
    {
     "name": "stderr",
     "output_type": "stream",
     "text": [
      "\r",
      "generating and solving puzzles:  94%|█████████▎| 936/1000 [01:54<00:07,  8.26it/s]"
     ]
    },
    {
     "name": "stderr",
     "output_type": "stream",
     "text": [
      "\r",
      "generating and solving puzzles:  94%|█████████▎| 937/1000 [01:54<00:07,  8.26it/s]"
     ]
    },
    {
     "name": "stderr",
     "output_type": "stream",
     "text": [
      "\r",
      "generating and solving puzzles:  94%|█████████▍| 938/1000 [01:55<00:07,  8.17it/s]"
     ]
    },
    {
     "name": "stderr",
     "output_type": "stream",
     "text": [
      "\r",
      "generating and solving puzzles:  94%|█████████▍| 939/1000 [01:55<00:07,  8.06it/s]"
     ]
    },
    {
     "name": "stderr",
     "output_type": "stream",
     "text": [
      "\r",
      "generating and solving puzzles:  94%|█████████▍| 940/1000 [01:55<00:07,  7.94it/s]"
     ]
    },
    {
     "name": "stderr",
     "output_type": "stream",
     "text": [
      "\r",
      "generating and solving puzzles:  94%|█████████▍| 941/1000 [01:55<00:07,  7.99it/s]"
     ]
    },
    {
     "name": "stderr",
     "output_type": "stream",
     "text": [
      "\r",
      "generating and solving puzzles:  94%|█████████▍| 942/1000 [01:55<00:07,  8.01it/s]"
     ]
    },
    {
     "name": "stderr",
     "output_type": "stream",
     "text": [
      "\r",
      "generating and solving puzzles:  94%|█████████▍| 943/1000 [01:55<00:06,  8.22it/s]"
     ]
    },
    {
     "name": "stderr",
     "output_type": "stream",
     "text": [
      "\r",
      "generating and solving puzzles:  94%|█████████▍| 944/1000 [01:55<00:06,  8.30it/s]"
     ]
    },
    {
     "name": "stderr",
     "output_type": "stream",
     "text": [
      "\r",
      "generating and solving puzzles:  94%|█████████▍| 945/1000 [01:55<00:06,  8.35it/s]"
     ]
    },
    {
     "name": "stderr",
     "output_type": "stream",
     "text": [
      "\r",
      "generating and solving puzzles:  95%|█████████▍| 946/1000 [01:56<00:06,  8.35it/s]"
     ]
    },
    {
     "name": "stderr",
     "output_type": "stream",
     "text": [
      "\r",
      "generating and solving puzzles:  95%|█████████▍| 947/1000 [01:56<00:06,  8.37it/s]"
     ]
    },
    {
     "name": "stderr",
     "output_type": "stream",
     "text": [
      "\r",
      "generating and solving puzzles:  95%|█████████▍| 948/1000 [01:56<00:06,  8.39it/s]"
     ]
    },
    {
     "name": "stderr",
     "output_type": "stream",
     "text": [
      "\r",
      "generating and solving puzzles:  95%|█████████▍| 949/1000 [01:56<00:06,  8.32it/s]"
     ]
    },
    {
     "name": "stderr",
     "output_type": "stream",
     "text": [
      "\r",
      "generating and solving puzzles:  95%|█████████▌| 950/1000 [01:56<00:06,  8.32it/s]"
     ]
    },
    {
     "name": "stderr",
     "output_type": "stream",
     "text": [
      "\r",
      "generating and solving puzzles:  95%|█████████▌| 951/1000 [01:56<00:05,  8.23it/s]"
     ]
    },
    {
     "name": "stderr",
     "output_type": "stream",
     "text": [
      "\r",
      "generating and solving puzzles:  95%|█████████▌| 952/1000 [01:56<00:05,  8.07it/s]"
     ]
    },
    {
     "name": "stderr",
     "output_type": "stream",
     "text": [
      "\r",
      "generating and solving puzzles:  95%|█████████▌| 953/1000 [01:56<00:05,  8.12it/s]"
     ]
    },
    {
     "name": "stderr",
     "output_type": "stream",
     "text": [
      "\r",
      "generating and solving puzzles:  95%|█████████▌| 954/1000 [01:56<00:05,  8.22it/s]"
     ]
    },
    {
     "name": "stderr",
     "output_type": "stream",
     "text": [
      "\r",
      "generating and solving puzzles:  96%|█████████▌| 955/1000 [01:57<00:05,  8.16it/s]"
     ]
    },
    {
     "name": "stderr",
     "output_type": "stream",
     "text": [
      "\r",
      "generating and solving puzzles:  96%|█████████▌| 956/1000 [01:57<00:05,  8.24it/s]"
     ]
    },
    {
     "name": "stderr",
     "output_type": "stream",
     "text": [
      "\r",
      "generating and solving puzzles:  96%|█████████▌| 957/1000 [01:57<00:05,  8.30it/s]"
     ]
    },
    {
     "name": "stderr",
     "output_type": "stream",
     "text": [
      "\r",
      "generating and solving puzzles:  96%|█████████▌| 958/1000 [01:57<00:05,  8.31it/s]"
     ]
    },
    {
     "name": "stderr",
     "output_type": "stream",
     "text": [
      "\r",
      "generating and solving puzzles:  96%|█████████▌| 959/1000 [01:57<00:04,  8.34it/s]"
     ]
    },
    {
     "name": "stderr",
     "output_type": "stream",
     "text": [
      "\r",
      "generating and solving puzzles:  96%|█████████▌| 960/1000 [01:57<00:04,  8.35it/s]"
     ]
    },
    {
     "name": "stderr",
     "output_type": "stream",
     "text": [
      "\r",
      "generating and solving puzzles:  96%|█████████▌| 961/1000 [01:57<00:04,  8.19it/s]"
     ]
    },
    {
     "name": "stderr",
     "output_type": "stream",
     "text": [
      "\r",
      "generating and solving puzzles:  96%|█████████▌| 962/1000 [01:57<00:04,  8.02it/s]"
     ]
    },
    {
     "name": "stderr",
     "output_type": "stream",
     "text": [
      "\r",
      "generating and solving puzzles:  96%|█████████▋| 963/1000 [01:58<00:04,  8.10it/s]"
     ]
    },
    {
     "name": "stderr",
     "output_type": "stream",
     "text": [
      "\r",
      "generating and solving puzzles:  96%|█████████▋| 964/1000 [01:58<00:04,  8.19it/s]"
     ]
    },
    {
     "name": "stderr",
     "output_type": "stream",
     "text": [
      "\r",
      "generating and solving puzzles:  96%|█████████▋| 965/1000 [01:58<00:04,  8.26it/s]"
     ]
    },
    {
     "name": "stderr",
     "output_type": "stream",
     "text": [
      "\r",
      "generating and solving puzzles:  97%|█████████▋| 966/1000 [01:58<00:04,  8.30it/s]"
     ]
    },
    {
     "name": "stderr",
     "output_type": "stream",
     "text": [
      "\r",
      "generating and solving puzzles:  97%|█████████▋| 967/1000 [01:58<00:03,  8.33it/s]"
     ]
    },
    {
     "name": "stderr",
     "output_type": "stream",
     "text": [
      "\r",
      "generating and solving puzzles:  97%|█████████▋| 968/1000 [01:58<00:03,  8.33it/s]"
     ]
    },
    {
     "name": "stderr",
     "output_type": "stream",
     "text": [
      "\r",
      "generating and solving puzzles:  97%|█████████▋| 969/1000 [01:58<00:03,  8.35it/s]"
     ]
    },
    {
     "name": "stderr",
     "output_type": "stream",
     "text": [
      "\r",
      "generating and solving puzzles:  97%|█████████▋| 970/1000 [01:58<00:03,  8.35it/s]"
     ]
    },
    {
     "name": "stderr",
     "output_type": "stream",
     "text": [
      "\r",
      "generating and solving puzzles:  97%|█████████▋| 971/1000 [01:59<00:03,  8.18it/s]"
     ]
    },
    {
     "name": "stderr",
     "output_type": "stream",
     "text": [
      "\r",
      "generating and solving puzzles:  97%|█████████▋| 972/1000 [01:59<00:03,  8.02it/s]"
     ]
    },
    {
     "name": "stderr",
     "output_type": "stream",
     "text": [
      "\r",
      "generating and solving puzzles:  97%|█████████▋| 973/1000 [01:59<00:03,  8.09it/s]"
     ]
    },
    {
     "name": "stderr",
     "output_type": "stream",
     "text": [
      "\r",
      "generating and solving puzzles:  97%|█████████▋| 974/1000 [01:59<00:03,  8.20it/s]"
     ]
    },
    {
     "name": "stderr",
     "output_type": "stream",
     "text": [
      "\r",
      "generating and solving puzzles:  98%|█████████▊| 975/1000 [01:59<00:03,  8.26it/s]"
     ]
    },
    {
     "name": "stderr",
     "output_type": "stream",
     "text": [
      "\r",
      "generating and solving puzzles:  98%|█████████▊| 976/1000 [01:59<00:02,  8.24it/s]"
     ]
    },
    {
     "name": "stderr",
     "output_type": "stream",
     "text": [
      "\r",
      "generating and solving puzzles:  98%|█████████▊| 977/1000 [01:59<00:02,  8.29it/s]"
     ]
    },
    {
     "name": "stderr",
     "output_type": "stream",
     "text": [
      "\r",
      "generating and solving puzzles:  98%|█████████▊| 978/1000 [01:59<00:02,  8.29it/s]"
     ]
    },
    {
     "name": "stderr",
     "output_type": "stream",
     "text": [
      "\r",
      "generating and solving puzzles:  98%|█████████▊| 979/1000 [02:00<00:02,  8.34it/s]"
     ]
    },
    {
     "name": "stderr",
     "output_type": "stream",
     "text": [
      "\r",
      "generating and solving puzzles:  98%|█████████▊| 980/1000 [02:00<00:02,  8.35it/s]"
     ]
    },
    {
     "name": "stderr",
     "output_type": "stream",
     "text": [
      "\r",
      "generating and solving puzzles:  98%|█████████▊| 981/1000 [02:00<00:02,  8.21it/s]"
     ]
    },
    {
     "name": "stderr",
     "output_type": "stream",
     "text": [
      "\r",
      "generating and solving puzzles:  98%|█████████▊| 982/1000 [02:00<00:02,  8.04it/s]"
     ]
    },
    {
     "name": "stderr",
     "output_type": "stream",
     "text": [
      "\r",
      "generating and solving puzzles:  98%|█████████▊| 983/1000 [02:00<00:02,  8.13it/s]"
     ]
    },
    {
     "name": "stderr",
     "output_type": "stream",
     "text": [
      "\r",
      "generating and solving puzzles:  98%|█████████▊| 984/1000 [02:00<00:01,  8.14it/s]"
     ]
    },
    {
     "name": "stderr",
     "output_type": "stream",
     "text": [
      "\r",
      "generating and solving puzzles:  98%|█████████▊| 985/1000 [02:00<00:01,  8.19it/s]"
     ]
    },
    {
     "name": "stderr",
     "output_type": "stream",
     "text": [
      "\r",
      "generating and solving puzzles:  99%|█████████▊| 986/1000 [02:00<00:01,  8.25it/s]"
     ]
    },
    {
     "name": "stderr",
     "output_type": "stream",
     "text": [
      "\r",
      "generating and solving puzzles:  99%|█████████▊| 987/1000 [02:00<00:01,  8.22it/s]"
     ]
    },
    {
     "name": "stderr",
     "output_type": "stream",
     "text": [
      "\r",
      "generating and solving puzzles:  99%|█████████▉| 988/1000 [02:01<00:01,  8.24it/s]"
     ]
    },
    {
     "name": "stderr",
     "output_type": "stream",
     "text": [
      "\r",
      "generating and solving puzzles:  99%|█████████▉| 989/1000 [02:01<00:01,  8.09it/s]"
     ]
    },
    {
     "name": "stderr",
     "output_type": "stream",
     "text": [
      "\r",
      "generating and solving puzzles:  99%|█████████▉| 990/1000 [02:01<00:01,  7.98it/s]"
     ]
    },
    {
     "name": "stderr",
     "output_type": "stream",
     "text": [
      "\r",
      "generating and solving puzzles:  99%|█████████▉| 991/1000 [02:01<00:01,  8.03it/s]"
     ]
    },
    {
     "name": "stderr",
     "output_type": "stream",
     "text": [
      "\r",
      "generating and solving puzzles:  99%|█████████▉| 992/1000 [02:01<00:00,  8.06it/s]"
     ]
    },
    {
     "name": "stderr",
     "output_type": "stream",
     "text": [
      "\r",
      "generating and solving puzzles:  99%|█████████▉| 993/1000 [02:01<00:00,  8.14it/s]"
     ]
    },
    {
     "name": "stderr",
     "output_type": "stream",
     "text": [
      "\r",
      "generating and solving puzzles:  99%|█████████▉| 994/1000 [02:01<00:00,  8.23it/s]"
     ]
    },
    {
     "name": "stderr",
     "output_type": "stream",
     "text": [
      "\r",
      "generating and solving puzzles: 100%|█████████▉| 995/1000 [02:01<00:00,  8.26it/s]"
     ]
    },
    {
     "name": "stderr",
     "output_type": "stream",
     "text": [
      "\r",
      "generating and solving puzzles: 100%|█████████▉| 996/1000 [02:02<00:00,  8.14it/s]"
     ]
    },
    {
     "name": "stderr",
     "output_type": "stream",
     "text": [
      "\r",
      "generating and solving puzzles: 100%|█████████▉| 997/1000 [02:02<00:00,  8.00it/s]"
     ]
    },
    {
     "name": "stderr",
     "output_type": "stream",
     "text": [
      "\r",
      "generating and solving puzzles: 100%|█████████▉| 998/1000 [02:02<00:00,  8.08it/s]"
     ]
    },
    {
     "name": "stderr",
     "output_type": "stream",
     "text": [
      "\r",
      "generating and solving puzzles: 100%|█████████▉| 999/1000 [02:02<00:00,  8.19it/s]"
     ]
    },
    {
     "name": "stderr",
     "output_type": "stream",
     "text": [
      "\r",
      "generating and solving puzzles: 100%|██████████| 1000/1000 [02:02<00:00,  8.20it/s]"
     ]
    },
    {
     "name": "stderr",
     "output_type": "stream",
     "text": [
      "\r",
      "generating and solving puzzles: 100%|██████████| 1000/1000 [02:02<00:00,  8.16it/s]"
     ]
    },
    {
     "name": "stderr",
     "output_type": "stream",
     "text": [
      "\n"
     ]
    },
    {
     "data": {
      "text/html": [
       "<div>\n",
       "<style scoped>\n",
       "    .dataframe tbody tr th:only-of-type {\n",
       "        vertical-align: middle;\n",
       "    }\n",
       "\n",
       "    .dataframe tbody tr th {\n",
       "        vertical-align: top;\n",
       "    }\n",
       "\n",
       "    .dataframe thead th {\n",
       "        text-align: right;\n",
       "    }\n",
       "</style>\n",
       "<table border=\"1\" class=\"dataframe\">\n",
       "  <thead>\n",
       "    <tr style=\"text-align: right;\">\n",
       "      <th></th>\n",
       "      <th>puzzles</th>\n",
       "      <th>solved</th>\n",
       "      <th>(%)</th>\n",
       "      <th>hidden cells</th>\n",
       "      <th>guessed</th>\n",
       "      <th>in %</th>\n",
       "    </tr>\n",
       "    <tr>\n",
       "      <th>level</th>\n",
       "      <th></th>\n",
       "      <th></th>\n",
       "      <th></th>\n",
       "      <th></th>\n",
       "      <th></th>\n",
       "      <th></th>\n",
       "    </tr>\n",
       "  </thead>\n",
       "  <tbody>\n",
       "    <tr>\n",
       "      <th>1</th>\n",
       "      <td>1000</td>\n",
       "      <td>970</td>\n",
       "      <td>97</td>\n",
       "      <td>1000</td>\n",
       "      <td>970</td>\n",
       "      <td>97</td>\n",
       "    </tr>\n",
       "    <tr>\n",
       "      <th>2</th>\n",
       "      <td>1000</td>\n",
       "      <td>935</td>\n",
       "      <td>93</td>\n",
       "      <td>2000</td>\n",
       "      <td>1929</td>\n",
       "      <td>96</td>\n",
       "    </tr>\n",
       "    <tr>\n",
       "      <th>3</th>\n",
       "      <td>1000</td>\n",
       "      <td>890</td>\n",
       "      <td>89</td>\n",
       "      <td>3000</td>\n",
       "      <td>2864</td>\n",
       "      <td>95</td>\n",
       "    </tr>\n",
       "    <tr>\n",
       "      <th>4</th>\n",
       "      <td>1000</td>\n",
       "      <td>871</td>\n",
       "      <td>87</td>\n",
       "      <td>4000</td>\n",
       "      <td>3833</td>\n",
       "      <td>95</td>\n",
       "    </tr>\n",
       "    <tr>\n",
       "      <th>5</th>\n",
       "      <td>1000</td>\n",
       "      <td>852</td>\n",
       "      <td>85</td>\n",
       "      <td>5000</td>\n",
       "      <td>4779</td>\n",
       "      <td>95</td>\n",
       "    </tr>\n",
       "    <tr>\n",
       "      <th>6</th>\n",
       "      <td>1000</td>\n",
       "      <td>863</td>\n",
       "      <td>86</td>\n",
       "      <td>6000</td>\n",
       "      <td>5762</td>\n",
       "      <td>96</td>\n",
       "    </tr>\n",
       "    <tr>\n",
       "      <th>7</th>\n",
       "      <td>1000</td>\n",
       "      <td>842</td>\n",
       "      <td>84</td>\n",
       "      <td>7000</td>\n",
       "      <td>6715</td>\n",
       "      <td>95</td>\n",
       "    </tr>\n",
       "    <tr>\n",
       "      <th>8</th>\n",
       "      <td>1000</td>\n",
       "      <td>819</td>\n",
       "      <td>81</td>\n",
       "      <td>8000</td>\n",
       "      <td>7662</td>\n",
       "      <td>95</td>\n",
       "    </tr>\n",
       "    <tr>\n",
       "      <th>9</th>\n",
       "      <td>1000</td>\n",
       "      <td>804</td>\n",
       "      <td>80</td>\n",
       "      <td>9000</td>\n",
       "      <td>8570</td>\n",
       "      <td>95</td>\n",
       "    </tr>\n",
       "    <tr>\n",
       "      <th>10</th>\n",
       "      <td>1000</td>\n",
       "      <td>815</td>\n",
       "      <td>81</td>\n",
       "      <td>10000</td>\n",
       "      <td>9544</td>\n",
       "      <td>95</td>\n",
       "    </tr>\n",
       "    <tr>\n",
       "      <th>11</th>\n",
       "      <td>1000</td>\n",
       "      <td>804</td>\n",
       "      <td>80</td>\n",
       "      <td>11000</td>\n",
       "      <td>10495</td>\n",
       "      <td>95</td>\n",
       "    </tr>\n",
       "    <tr>\n",
       "      <th>12</th>\n",
       "      <td>1000</td>\n",
       "      <td>788</td>\n",
       "      <td>78</td>\n",
       "      <td>12000</td>\n",
       "      <td>11429</td>\n",
       "      <td>95</td>\n",
       "    </tr>\n",
       "  </tbody>\n",
       "</table>\n",
       "</div>"
      ],
      "text/plain": [
       "       puzzles  solved  (%)  hidden cells  guessed  in %\n",
       "level                                                   \n",
       "1         1000     970   97          1000      970    97\n",
       "2         1000     935   93          2000     1929    96\n",
       "3         1000     890   89          3000     2864    95\n",
       "4         1000     871   87          4000     3833    95\n",
       "5         1000     852   85          5000     4779    95\n",
       "6         1000     863   86          6000     5762    96\n",
       "7         1000     842   84          7000     6715    95\n",
       "8         1000     819   81          8000     7662    95\n",
       "9         1000     804   80          9000     8570    95\n",
       "10        1000     815   81         10000     9544    95\n",
       "11        1000     804   80         11000    10495    95\n",
       "12        1000     788   78         12000    11429    95"
      ]
     },
     "execution_count": 23,
     "metadata": {},
     "output_type": "execute_result"
    }
   ],
   "source": [
    "from neural_semigroups.utils import print_report\n",
    "from neural_semigroups import CayleyDatabase\n",
    "\n",
    "cayley_db = CayleyDatabase(cardinality)\n",
    "cayley_db.model = dae\n",
    "print_report(cayley_db.testing_report)"
   ]
  },
  {
   "cell_type": "markdown",
   "metadata": {
    "collapsed": false
   },
   "source": [
    "As a sanity check we can look at the quality of a model which always fills in the same number, e.g. zero. Zero is a tangible choice since in the `smallsemi` database items are sorted in such a way that zero occurs most often. The NN model outperforms this baseline by a large margin."
   ]
  },
  {
   "cell_type": "code",
   "execution_count": 20,
   "metadata": {
    "collapsed": false
   },
   "outputs": [
    {
     "name": "stderr",
     "output_type": "stream",
     "text": [
      "\r",
      "generating and solving puzzles:   0%|          | 0/1000 [00:00<?, ?it/s]"
     ]
    },
    {
     "name": "stderr",
     "output_type": "stream",
     "text": [
      "\r",
      "generating and solving puzzles:   1%|          | 10/1000 [00:00<00:10, 97.31it/s]"
     ]
    },
    {
     "name": "stderr",
     "output_type": "stream",
     "text": [
      "\r",
      "generating and solving puzzles:   2%|▏         | 21/1000 [00:00<00:09, 99.05it/s]"
     ]
    },
    {
     "name": "stderr",
     "output_type": "stream",
     "text": [
      "\r",
      "generating and solving puzzles:   3%|▎         | 32/1000 [00:00<00:09, 98.65it/s]"
     ]
    },
    {
     "name": "stderr",
     "output_type": "stream",
     "text": [
      "\r",
      "generating and solving puzzles:   4%|▍         | 42/1000 [00:00<00:09, 96.58it/s]"
     ]
    },
    {
     "name": "stderr",
     "output_type": "stream",
     "text": [
      "\r",
      "generating and solving puzzles:   5%|▌         | 53/1000 [00:00<00:09, 98.94it/s]"
     ]
    },
    {
     "name": "stderr",
     "output_type": "stream",
     "text": [
      "\r",
      "generating and solving puzzles:   6%|▋         | 63/1000 [00:00<00:09, 98.29it/s]"
     ]
    },
    {
     "name": "stderr",
     "output_type": "stream",
     "text": [
      "\r",
      "generating and solving puzzles:   7%|▋         | 73/1000 [00:00<00:09, 97.03it/s]"
     ]
    },
    {
     "name": "stderr",
     "output_type": "stream",
     "text": [
      "\r",
      "generating and solving puzzles:   8%|▊         | 84/1000 [00:00<00:09, 98.36it/s]"
     ]
    },
    {
     "name": "stderr",
     "output_type": "stream",
     "text": [
      "\r",
      "generating and solving puzzles:  10%|▉         | 95/1000 [00:00<00:09, 98.38it/s]"
     ]
    },
    {
     "name": "stderr",
     "output_type": "stream",
     "text": [
      "\r",
      "generating and solving puzzles:  10%|█         | 105/1000 [00:01<00:09, 96.60it/s]"
     ]
    },
    {
     "name": "stderr",
     "output_type": "stream",
     "text": [
      "\r",
      "generating and solving puzzles:  12%|█▏        | 115/1000 [00:01<00:10, 87.07it/s]"
     ]
    },
    {
     "name": "stderr",
     "output_type": "stream",
     "text": [
      "\r",
      "generating and solving puzzles:  12%|█▎        | 125/1000 [00:01<00:09, 89.68it/s]"
     ]
    },
    {
     "name": "stderr",
     "output_type": "stream",
     "text": [
      "\r",
      "generating and solving puzzles:  14%|█▎        | 135/1000 [00:01<00:09, 91.46it/s]"
     ]
    },
    {
     "name": "stderr",
     "output_type": "stream",
     "text": [
      "\r",
      "generating and solving puzzles:  14%|█▍        | 145/1000 [00:01<00:09, 92.87it/s]"
     ]
    },
    {
     "name": "stderr",
     "output_type": "stream",
     "text": [
      "\r",
      "generating and solving puzzles:  16%|█▌        | 156/1000 [00:01<00:08, 95.66it/s]"
     ]
    },
    {
     "name": "stderr",
     "output_type": "stream",
     "text": [
      "\r",
      "generating and solving puzzles:  17%|█▋        | 166/1000 [00:01<00:08, 94.05it/s]"
     ]
    },
    {
     "name": "stderr",
     "output_type": "stream",
     "text": [
      "\r",
      "generating and solving puzzles:  18%|█▊        | 176/1000 [00:01<00:08, 95.55it/s]"
     ]
    },
    {
     "name": "stderr",
     "output_type": "stream",
     "text": [
      "\r",
      "generating and solving puzzles:  19%|█▊        | 187/1000 [00:01<00:08, 96.96it/s]"
     ]
    },
    {
     "name": "stderr",
     "output_type": "stream",
     "text": [
      "\r",
      "generating and solving puzzles:  20%|█▉        | 197/1000 [00:02<00:08, 97.67it/s]"
     ]
    },
    {
     "name": "stderr",
     "output_type": "stream",
     "text": [
      "\r",
      "generating and solving puzzles:  21%|██        | 207/1000 [00:02<00:08, 95.84it/s]"
     ]
    },
    {
     "name": "stderr",
     "output_type": "stream",
     "text": [
      "\r",
      "generating and solving puzzles:  22%|██▏       | 217/1000 [00:02<00:08, 95.38it/s]"
     ]
    },
    {
     "name": "stderr",
     "output_type": "stream",
     "text": [
      "\r",
      "generating and solving puzzles:  23%|██▎       | 228/1000 [00:02<00:07, 99.07it/s]"
     ]
    },
    {
     "name": "stderr",
     "output_type": "stream",
     "text": [
      "\r",
      "generating and solving puzzles:  24%|██▍       | 238/1000 [00:02<00:07, 97.51it/s]"
     ]
    },
    {
     "name": "stderr",
     "output_type": "stream",
     "text": [
      "\r",
      "generating and solving puzzles:  25%|██▍       | 248/1000 [00:02<00:07, 97.02it/s]"
     ]
    },
    {
     "name": "stderr",
     "output_type": "stream",
     "text": [
      "\r",
      "generating and solving puzzles:  26%|██▌       | 258/1000 [00:02<00:08, 89.40it/s]"
     ]
    },
    {
     "name": "stderr",
     "output_type": "stream",
     "text": [
      "\r",
      "generating and solving puzzles:  27%|██▋       | 268/1000 [00:02<00:08, 90.89it/s]"
     ]
    },
    {
     "name": "stderr",
     "output_type": "stream",
     "text": [
      "\r",
      "generating and solving puzzles:  28%|██▊       | 279/1000 [00:02<00:07, 94.58it/s]"
     ]
    },
    {
     "name": "stderr",
     "output_type": "stream",
     "text": [
      "\r",
      "generating and solving puzzles:  29%|██▉       | 289/1000 [00:03<00:07, 92.07it/s]"
     ]
    },
    {
     "name": "stderr",
     "output_type": "stream",
     "text": [
      "\r",
      "generating and solving puzzles:  30%|███       | 300/1000 [00:03<00:07, 96.53it/s]"
     ]
    },
    {
     "name": "stderr",
     "output_type": "stream",
     "text": [
      "\r",
      "generating and solving puzzles:  31%|███       | 310/1000 [00:03<00:07, 97.43it/s]"
     ]
    },
    {
     "name": "stderr",
     "output_type": "stream",
     "text": [
      "\r",
      "generating and solving puzzles:  32%|███▏      | 321/1000 [00:03<00:06, 99.71it/s]"
     ]
    },
    {
     "name": "stderr",
     "output_type": "stream",
     "text": [
      "\r",
      "generating and solving puzzles:  33%|███▎      | 333/1000 [00:03<00:06, 104.02it/s]"
     ]
    },
    {
     "name": "stderr",
     "output_type": "stream",
     "text": [
      "\r",
      "generating and solving puzzles:  34%|███▍      | 344/1000 [00:03<00:06, 97.43it/s] "
     ]
    },
    {
     "name": "stderr",
     "output_type": "stream",
     "text": [
      "\r",
      "generating and solving puzzles:  35%|███▌      | 354/1000 [00:03<00:06, 93.79it/s]"
     ]
    },
    {
     "name": "stderr",
     "output_type": "stream",
     "text": [
      "\r",
      "generating and solving puzzles:  37%|███▋      | 366/1000 [00:03<00:06, 98.93it/s]"
     ]
    },
    {
     "name": "stderr",
     "output_type": "stream",
     "text": [
      "\r",
      "generating and solving puzzles:  38%|███▊      | 377/1000 [00:03<00:06, 100.80it/s]"
     ]
    },
    {
     "name": "stderr",
     "output_type": "stream",
     "text": [
      "\r",
      "generating and solving puzzles:  39%|███▉      | 388/1000 [00:04<00:06, 100.62it/s]"
     ]
    },
    {
     "name": "stderr",
     "output_type": "stream",
     "text": [
      "\r",
      "generating and solving puzzles:  40%|███▉      | 399/1000 [00:04<00:06, 98.58it/s] "
     ]
    },
    {
     "name": "stderr",
     "output_type": "stream",
     "text": [
      "\r",
      "generating and solving puzzles:  41%|████      | 410/1000 [00:04<00:05, 99.34it/s]"
     ]
    },
    {
     "name": "stderr",
     "output_type": "stream",
     "text": [
      "\r",
      "generating and solving puzzles:  42%|████▏     | 420/1000 [00:04<00:06, 95.31it/s]"
     ]
    },
    {
     "name": "stderr",
     "output_type": "stream",
     "text": [
      "\r",
      "generating and solving puzzles:  43%|████▎     | 430/1000 [00:04<00:06, 94.48it/s]"
     ]
    },
    {
     "name": "stderr",
     "output_type": "stream",
     "text": [
      "\r",
      "generating and solving puzzles:  44%|████▍     | 441/1000 [00:04<00:05, 97.48it/s]"
     ]
    },
    {
     "name": "stderr",
     "output_type": "stream",
     "text": [
      "\r",
      "generating and solving puzzles:  45%|████▌     | 451/1000 [00:04<00:05, 95.60it/s]"
     ]
    },
    {
     "name": "stderr",
     "output_type": "stream",
     "text": [
      "\r",
      "generating and solving puzzles:  46%|████▌     | 461/1000 [00:04<00:05, 94.04it/s]"
     ]
    },
    {
     "name": "stderr",
     "output_type": "stream",
     "text": [
      "\r",
      "generating and solving puzzles:  47%|████▋     | 471/1000 [00:04<00:05, 94.25it/s]"
     ]
    },
    {
     "name": "stderr",
     "output_type": "stream",
     "text": [
      "\r",
      "generating and solving puzzles:  48%|████▊     | 482/1000 [00:04<00:05, 96.77it/s]"
     ]
    },
    {
     "name": "stderr",
     "output_type": "stream",
     "text": [
      "\r",
      "generating and solving puzzles:  49%|████▉     | 494/1000 [00:05<00:05, 100.67it/s]"
     ]
    },
    {
     "name": "stderr",
     "output_type": "stream",
     "text": [
      "\r",
      "generating and solving puzzles:  50%|█████     | 505/1000 [00:05<00:04, 101.49it/s]"
     ]
    },
    {
     "name": "stderr",
     "output_type": "stream",
     "text": [
      "\r",
      "generating and solving puzzles:  52%|█████▏    | 517/1000 [00:05<00:04, 106.01it/s]"
     ]
    },
    {
     "name": "stderr",
     "output_type": "stream",
     "text": [
      "\r",
      "generating and solving puzzles:  53%|█████▎    | 528/1000 [00:05<00:04, 101.14it/s]"
     ]
    },
    {
     "name": "stderr",
     "output_type": "stream",
     "text": [
      "\r",
      "generating and solving puzzles:  54%|█████▍    | 539/1000 [00:05<00:04, 100.26it/s]"
     ]
    },
    {
     "name": "stderr",
     "output_type": "stream",
     "text": [
      "\r",
      "generating and solving puzzles:  55%|█████▌    | 550/1000 [00:05<00:04, 102.18it/s]"
     ]
    },
    {
     "name": "stderr",
     "output_type": "stream",
     "text": [
      "\r",
      "generating and solving puzzles:  56%|█████▌    | 561/1000 [00:05<00:04, 102.11it/s]"
     ]
    },
    {
     "name": "stderr",
     "output_type": "stream",
     "text": [
      "\r",
      "generating and solving puzzles:  57%|█████▋    | 572/1000 [00:05<00:04, 100.91it/s]"
     ]
    },
    {
     "name": "stderr",
     "output_type": "stream",
     "text": [
      "\r",
      "generating and solving puzzles:  58%|█████▊    | 583/1000 [00:05<00:04, 97.60it/s] "
     ]
    },
    {
     "name": "stderr",
     "output_type": "stream",
     "text": [
      "\r",
      "generating and solving puzzles:  59%|█████▉    | 593/1000 [00:06<00:04, 94.70it/s]"
     ]
    },
    {
     "name": "stderr",
     "output_type": "stream",
     "text": [
      "\r",
      "generating and solving puzzles:  60%|██████    | 604/1000 [00:06<00:04, 96.73it/s]"
     ]
    },
    {
     "name": "stderr",
     "output_type": "stream",
     "text": [
      "\r",
      "generating and solving puzzles:  62%|██████▏   | 615/1000 [00:06<00:03, 99.14it/s]"
     ]
    },
    {
     "name": "stderr",
     "output_type": "stream",
     "text": [
      "\r",
      "generating and solving puzzles:  62%|██████▎   | 625/1000 [00:06<00:03, 94.69it/s]"
     ]
    },
    {
     "name": "stderr",
     "output_type": "stream",
     "text": [
      "\r",
      "generating and solving puzzles:  64%|██████▎   | 635/1000 [00:06<00:04, 89.10it/s]"
     ]
    },
    {
     "name": "stderr",
     "output_type": "stream",
     "text": [
      "\r",
      "generating and solving puzzles:  65%|██████▍   | 647/1000 [00:06<00:03, 93.68it/s]"
     ]
    },
    {
     "name": "stderr",
     "output_type": "stream",
     "text": [
      "\r",
      "generating and solving puzzles:  66%|██████▌   | 658/1000 [00:06<00:03, 97.63it/s]"
     ]
    },
    {
     "name": "stderr",
     "output_type": "stream",
     "text": [
      "\r",
      "generating and solving puzzles:  67%|██████▋   | 668/1000 [00:06<00:03, 97.55it/s]"
     ]
    },
    {
     "name": "stderr",
     "output_type": "stream",
     "text": [
      "\r",
      "generating and solving puzzles:  68%|██████▊   | 678/1000 [00:06<00:03, 98.03it/s]"
     ]
    },
    {
     "name": "stderr",
     "output_type": "stream",
     "text": [
      "\r",
      "generating and solving puzzles:  69%|██████▉   | 690/1000 [00:07<00:03, 102.03it/s]"
     ]
    },
    {
     "name": "stderr",
     "output_type": "stream",
     "text": [
      "\r",
      "generating and solving puzzles:  70%|███████   | 701/1000 [00:07<00:03, 96.38it/s] "
     ]
    },
    {
     "name": "stderr",
     "output_type": "stream",
     "text": [
      "\r",
      "generating and solving puzzles:  71%|███████   | 711/1000 [00:07<00:03, 95.91it/s]"
     ]
    },
    {
     "name": "stderr",
     "output_type": "stream",
     "text": [
      "\r",
      "generating and solving puzzles:  72%|███████▏  | 723/1000 [00:07<00:02, 100.15it/s]"
     ]
    },
    {
     "name": "stderr",
     "output_type": "stream",
     "text": [
      "\r",
      "generating and solving puzzles:  73%|███████▎  | 734/1000 [00:07<00:02, 97.77it/s] "
     ]
    },
    {
     "name": "stderr",
     "output_type": "stream",
     "text": [
      "\r",
      "generating and solving puzzles:  74%|███████▍  | 744/1000 [00:07<00:02, 95.94it/s]"
     ]
    },
    {
     "name": "stderr",
     "output_type": "stream",
     "text": [
      "\r",
      "generating and solving puzzles:  75%|███████▌  | 754/1000 [00:07<00:02, 94.10it/s]"
     ]
    },
    {
     "name": "stderr",
     "output_type": "stream",
     "text": [
      "\r",
      "generating and solving puzzles:  76%|███████▋  | 764/1000 [00:07<00:02, 88.53it/s]"
     ]
    },
    {
     "name": "stderr",
     "output_type": "stream",
     "text": [
      "\r",
      "generating and solving puzzles:  77%|███████▋  | 774/1000 [00:07<00:02, 91.48it/s]"
     ]
    },
    {
     "name": "stderr",
     "output_type": "stream",
     "text": [
      "\r",
      "generating and solving puzzles:  78%|███████▊  | 785/1000 [00:08<00:02, 93.16it/s]"
     ]
    },
    {
     "name": "stderr",
     "output_type": "stream",
     "text": [
      "\r",
      "generating and solving puzzles:  80%|███████▉  | 795/1000 [00:08<00:02, 91.51it/s]"
     ]
    },
    {
     "name": "stderr",
     "output_type": "stream",
     "text": [
      "\r",
      "generating and solving puzzles:  80%|████████  | 805/1000 [00:08<00:02, 93.15it/s]"
     ]
    },
    {
     "name": "stderr",
     "output_type": "stream",
     "text": [
      "\r",
      "generating and solving puzzles:  82%|████████▏ | 815/1000 [00:08<00:01, 94.37it/s]"
     ]
    },
    {
     "name": "stderr",
     "output_type": "stream",
     "text": [
      "\r",
      "generating and solving puzzles:  82%|████████▎ | 825/1000 [00:08<00:01, 91.55it/s]"
     ]
    },
    {
     "name": "stderr",
     "output_type": "stream",
     "text": [
      "\r",
      "generating and solving puzzles:  84%|████████▎ | 835/1000 [00:08<00:01, 91.68it/s]"
     ]
    },
    {
     "name": "stderr",
     "output_type": "stream",
     "text": [
      "\r",
      "generating and solving puzzles:  84%|████████▍ | 845/1000 [00:08<00:01, 89.17it/s]"
     ]
    },
    {
     "name": "stderr",
     "output_type": "stream",
     "text": [
      "\r",
      "generating and solving puzzles:  86%|████████▌ | 855/1000 [00:08<00:01, 89.77it/s]"
     ]
    },
    {
     "name": "stderr",
     "output_type": "stream",
     "text": [
      "\r",
      "generating and solving puzzles:  86%|████████▋ | 865/1000 [00:08<00:01, 90.93it/s]"
     ]
    },
    {
     "name": "stderr",
     "output_type": "stream",
     "text": [
      "\r",
      "generating and solving puzzles:  88%|████████▊ | 875/1000 [00:09<00:01, 92.95it/s]"
     ]
    },
    {
     "name": "stderr",
     "output_type": "stream",
     "text": [
      "\r",
      "generating and solving puzzles:  89%|████████▊ | 886/1000 [00:09<00:01, 96.16it/s]"
     ]
    },
    {
     "name": "stderr",
     "output_type": "stream",
     "text": [
      "\r",
      "generating and solving puzzles:  90%|████████▉ | 896/1000 [00:09<00:01, 94.54it/s]"
     ]
    },
    {
     "name": "stderr",
     "output_type": "stream",
     "text": [
      "\r",
      "generating and solving puzzles:  91%|█████████ | 906/1000 [00:09<00:01, 93.98it/s]"
     ]
    },
    {
     "name": "stderr",
     "output_type": "stream",
     "text": [
      "\r",
      "generating and solving puzzles:  92%|█████████▏| 918/1000 [00:09<00:00, 99.21it/s]"
     ]
    },
    {
     "name": "stderr",
     "output_type": "stream",
     "text": [
      "\r",
      "generating and solving puzzles:  93%|█████████▎| 929/1000 [00:09<00:00, 97.04it/s]"
     ]
    },
    {
     "name": "stderr",
     "output_type": "stream",
     "text": [
      "\r",
      "generating and solving puzzles:  94%|█████████▍| 940/1000 [00:09<00:00, 99.72it/s]"
     ]
    },
    {
     "name": "stderr",
     "output_type": "stream",
     "text": [
      "\r",
      "generating and solving puzzles:  95%|█████████▌| 951/1000 [00:09<00:00, 99.25it/s]"
     ]
    },
    {
     "name": "stderr",
     "output_type": "stream",
     "text": [
      "\r",
      "generating and solving puzzles:  96%|█████████▌| 961/1000 [00:09<00:00, 98.83it/s]"
     ]
    },
    {
     "name": "stderr",
     "output_type": "stream",
     "text": [
      "\r",
      "generating and solving puzzles:  97%|█████████▋| 973/1000 [00:10<00:00, 101.04it/s]"
     ]
    },
    {
     "name": "stderr",
     "output_type": "stream",
     "text": [
      "\r",
      "generating and solving puzzles:  98%|█████████▊| 984/1000 [00:10<00:00, 100.35it/s]"
     ]
    },
    {
     "name": "stderr",
     "output_type": "stream",
     "text": [
      "\r",
      "generating and solving puzzles: 100%|█████████▉| 995/1000 [00:10<00:00, 100.18it/s]"
     ]
    },
    {
     "name": "stderr",
     "output_type": "stream",
     "text": [
      "\r",
      "generating and solving puzzles: 100%|██████████| 1000/1000 [00:10<00:00, 96.68it/s]"
     ]
    },
    {
     "name": "stderr",
     "output_type": "stream",
     "text": [
      "\n"
     ]
    },
    {
     "data": {
      "text/html": [
       "<div>\n",
       "<style scoped>\n",
       "    .dataframe tbody tr th:only-of-type {\n",
       "        vertical-align: middle;\n",
       "    }\n",
       "\n",
       "    .dataframe tbody tr th {\n",
       "        vertical-align: top;\n",
       "    }\n",
       "\n",
       "    .dataframe thead th {\n",
       "        text-align: right;\n",
       "    }\n",
       "</style>\n",
       "<table border=\"1\" class=\"dataframe\">\n",
       "  <thead>\n",
       "    <tr style=\"text-align: right;\">\n",
       "      <th></th>\n",
       "      <th>puzzles</th>\n",
       "      <th>solved</th>\n",
       "      <th>(%)</th>\n",
       "      <th>hidden cells</th>\n",
       "      <th>guessed</th>\n",
       "      <th>in %</th>\n",
       "    </tr>\n",
       "    <tr>\n",
       "      <th>level</th>\n",
       "      <th></th>\n",
       "      <th></th>\n",
       "      <th></th>\n",
       "      <th></th>\n",
       "      <th></th>\n",
       "      <th></th>\n",
       "    </tr>\n",
       "  </thead>\n",
       "  <tbody>\n",
       "    <tr>\n",
       "      <th>1</th>\n",
       "      <td>1000</td>\n",
       "      <td>574</td>\n",
       "      <td>57</td>\n",
       "      <td>1000</td>\n",
       "      <td>574</td>\n",
       "      <td>57</td>\n",
       "    </tr>\n",
       "    <tr>\n",
       "      <th>2</th>\n",
       "      <td>1000</td>\n",
       "      <td>392</td>\n",
       "      <td>39</td>\n",
       "      <td>2000</td>\n",
       "      <td>1134</td>\n",
       "      <td>56</td>\n",
       "    </tr>\n",
       "    <tr>\n",
       "      <th>3</th>\n",
       "      <td>1000</td>\n",
       "      <td>296</td>\n",
       "      <td>29</td>\n",
       "      <td>3000</td>\n",
       "      <td>1681</td>\n",
       "      <td>56</td>\n",
       "    </tr>\n",
       "    <tr>\n",
       "      <th>4</th>\n",
       "      <td>1000</td>\n",
       "      <td>225</td>\n",
       "      <td>22</td>\n",
       "      <td>4000</td>\n",
       "      <td>2191</td>\n",
       "      <td>54</td>\n",
       "    </tr>\n",
       "    <tr>\n",
       "      <th>5</th>\n",
       "      <td>1000</td>\n",
       "      <td>209</td>\n",
       "      <td>20</td>\n",
       "      <td>5000</td>\n",
       "      <td>2774</td>\n",
       "      <td>55</td>\n",
       "    </tr>\n",
       "    <tr>\n",
       "      <th>6</th>\n",
       "      <td>1000</td>\n",
       "      <td>188</td>\n",
       "      <td>18</td>\n",
       "      <td>6000</td>\n",
       "      <td>3346</td>\n",
       "      <td>55</td>\n",
       "    </tr>\n",
       "    <tr>\n",
       "      <th>7</th>\n",
       "      <td>1000</td>\n",
       "      <td>161</td>\n",
       "      <td>16</td>\n",
       "      <td>7000</td>\n",
       "      <td>3853</td>\n",
       "      <td>55</td>\n",
       "    </tr>\n",
       "    <tr>\n",
       "      <th>8</th>\n",
       "      <td>1000</td>\n",
       "      <td>165</td>\n",
       "      <td>16</td>\n",
       "      <td>8000</td>\n",
       "      <td>4442</td>\n",
       "      <td>55</td>\n",
       "    </tr>\n",
       "    <tr>\n",
       "      <th>9</th>\n",
       "      <td>1000</td>\n",
       "      <td>163</td>\n",
       "      <td>16</td>\n",
       "      <td>9000</td>\n",
       "      <td>4991</td>\n",
       "      <td>55</td>\n",
       "    </tr>\n",
       "    <tr>\n",
       "      <th>10</th>\n",
       "      <td>1000</td>\n",
       "      <td>155</td>\n",
       "      <td>15</td>\n",
       "      <td>10000</td>\n",
       "      <td>5433</td>\n",
       "      <td>54</td>\n",
       "    </tr>\n",
       "    <tr>\n",
       "      <th>11</th>\n",
       "      <td>1000</td>\n",
       "      <td>155</td>\n",
       "      <td>15</td>\n",
       "      <td>11000</td>\n",
       "      <td>6155</td>\n",
       "      <td>55</td>\n",
       "    </tr>\n",
       "    <tr>\n",
       "      <th>12</th>\n",
       "      <td>1000</td>\n",
       "      <td>132</td>\n",
       "      <td>13</td>\n",
       "      <td>12000</td>\n",
       "      <td>6500</td>\n",
       "      <td>54</td>\n",
       "    </tr>\n",
       "  </tbody>\n",
       "</table>\n",
       "</div>"
      ],
      "text/plain": [
       "       puzzles  solved  (%)  hidden cells  guessed  in %\n",
       "level                                                   \n",
       "1         1000     574   57          1000      574    57\n",
       "2         1000     392   39          2000     1134    56\n",
       "3         1000     296   29          3000     1681    56\n",
       "4         1000     225   22          4000     2191    54\n",
       "5         1000     209   20          5000     2774    55\n",
       "6         1000     188   18          6000     3346    55\n",
       "7         1000     161   16          7000     3853    55\n",
       "8         1000     165   16          8000     4442    55\n",
       "9         1000     163   16          9000     4991    55\n",
       "10        1000     155   15         10000     5433    54\n",
       "11        1000     155   15         11000     6155    55\n",
       "12        1000     132   13         12000     6500    54"
      ]
     },
     "execution_count": 20,
     "metadata": {},
     "output_type": "execute_result"
    }
   ],
   "source": [
    "from neural_semigroups.constant_baseline import ConstantBaseline\n",
    "\n",
    "constant_baseline = CayleyDatabase(cardinality)\n",
    "constant_baseline.model = ConstantBaseline(cardinality)\n",
    "print_report(constant_baseline.testing_report)"
   ]
  },
  {
   "cell_type": "markdown",
   "metadata": {
    "colab_type": "text",
    "collapsed": false,
    "id": "SvQhUdn-iO2b"
   },
   "source": [
    "Now let's see how it works on several example puzzles. Let's take one of the real tables from the database."
   ]
  },
  {
   "cell_type": "code",
   "execution_count": 13,
   "metadata": {
    "colab": {
     "base_uri": "https://localhost:8080/",
     "height": 102
    },
    "colab_type": "code",
    "collapsed": false,
    "executionInfo": {
     "elapsed": 581,
     "status": "ok",
     "timestamp": 1586103950061,
     "user": {
      "displayName": "",
      "photoUrl": "",
      "userId": ""
     },
     "user_tz": -180
    },
    "id": "2OWsBRLziO2c",
    "outputId": "0bc958d1-df7d-44bf-e24e-985fc5df3aa5"
   },
   "outputs": [
    {
     "data": {
      "text/plain": [
       "array([[0, 0, 0, 0, 0],\n",
       "       [0, 1, 1, 1, 1],\n",
       "       [0, 1, 2, 1, 1],\n",
       "       [0, 1, 1, 3, 1],\n",
       "       [0, 1, 1, 1, 4]])"
      ]
     },
     "execution_count": 13,
     "metadata": {},
     "output_type": "execute_result"
    }
   ],
   "source": [
    "cayley_db.database[1100]"
   ]
  },
  {
   "cell_type": "markdown",
   "metadata": {
    "colab_type": "text",
    "collapsed": false,
    "id": "kOjWjAO-iO2e"
   },
   "source": [
    "Then we can fill it with `-1` in some cells, creating a puzzle and giving it to the model."
   ]
  },
  {
   "cell_type": "code",
   "execution_count": 14,
   "metadata": {
    "colab": null,
    "colab_type": "code",
    "collapsed": false,
    "id": "YCGHojbUiO2f"
   },
   "outputs": [],
   "source": [
    "guess, proba = cayley_db.fill_in_with_model([\n",
    "  [-1, 0, 0, 0, -1],\n",
    "  [0, -1, 1, 1, -1],\n",
    "  [0, 1, -1, 1, -1],\n",
    "  [0, 1, 1, -1, -1],\n",
    "  [0, 1, 1, 1, -1]]\n",
    ")"
   ]
  },
  {
   "cell_type": "markdown",
   "metadata": {
    "colab_type": "text",
    "collapsed": false,
    "id": "db3Ibj4MiO2h"
   },
   "source": [
    "The model found not the same table as the original one."
   ]
  },
  {
   "cell_type": "code",
   "execution_count": 15,
   "metadata": {
    "colab": {
     "base_uri": "https://localhost:8080/",
     "height": 102
    },
    "colab_type": "code",
    "collapsed": false,
    "executionInfo": {
     "elapsed": 603,
     "status": "ok",
     "timestamp": 1586104106228,
     "user": {
      "displayName": "",
      "photoUrl": "",
      "userId": ""
     },
     "user_tz": -180
    },
    "id": "5nFODtvhiO2h",
    "outputId": "9ab2c9d6-bb32-4de5-eb14-665bbcda5233"
   },
   "outputs": [
    {
     "data": {
      "text/plain": [
       "array([[0, 0, 0, 0, 0],\n",
       "       [0, 1, 1, 1, 1],\n",
       "       [0, 1, 1, 1, 1],\n",
       "       [0, 1, 1, 1, 1],\n",
       "       [0, 1, 1, 1, 1]])"
      ]
     },
     "execution_count": 15,
     "metadata": {},
     "output_type": "execute_result"
    }
   ],
   "source": [
    "guess"
   ]
  },
  {
   "cell_type": "markdown",
   "metadata": {
    "colab_type": "text",
    "collapsed": false,
    "id": "rrN_VNsRiO2k"
   },
   "source": [
    "But it's still a possible completion since it's associative"
   ]
  },
  {
   "cell_type": "code",
   "execution_count": 16,
   "metadata": {
    "colab": {
     "base_uri": "https://localhost:8080/",
     "height": 34
    },
    "colab_type": "code",
    "collapsed": false,
    "executionInfo": {
     "elapsed": 632,
     "status": "ok",
     "timestamp": 1586104107490,
     "user": {
      "displayName": "",
      "photoUrl": "",
      "userId": ""
     },
     "user_tz": -180
    },
    "id": "JUM5bp22iO2k",
    "outputId": "226e7af8-96f2-4db4-e296-22fdab1a831b"
   },
   "outputs": [
    {
     "data": {
      "text/plain": [
       "True"
      ]
     },
     "execution_count": 16,
     "metadata": {},
     "output_type": "execute_result"
    }
   ],
   "source": [
    "from neural_semigroups import Magma\n",
    "\n",
    "Magma(guess).is_associative"
   ]
  },
  {
   "cell_type": "markdown",
   "metadata": {
    "colab_type": "text",
    "collapsed": false,
    "id": "kHYgB7DziO2m"
   },
   "source": [
    "The model returns also it's probabilities of guess. They can be examined in cases when the model err."
   ]
  },
  {
   "cell_type": "code",
   "execution_count": 17,
   "metadata": {
    "colab": {
     "base_uri": "https://localhost:8080/",
     "height": 935
    },
    "colab_type": "code",
    "collapsed": false,
    "executionInfo": {
     "elapsed": 601,
     "status": "ok",
     "timestamp": 1586104119925,
     "user": {
      "displayName": "",
      "photoUrl": "",
      "userId": ""
     },
     "user_tz": -180
    },
    "id": "kZjuj6nCiO2n",
    "outputId": "00c94fe1-9c5d-4578-a77e-0d307c13f5c0"
   },
   "outputs": [
    {
     "data": {
      "text/plain": [
       "array([[[9.96360302e-01, 1.59832533e-03, 6.84402825e-04, 6.66551583e-04,\n",
       "         6.90414279e-04],\n",
       "        [9.99996006e-01, 9.99999997e-07, 9.99999997e-07, 9.99999997e-07,\n",
       "         9.99999997e-07],\n",
       "        [9.99996006e-01, 9.99999997e-07, 9.99999997e-07, 9.99999997e-07,\n",
       "         9.99999997e-07],\n",
       "        [9.99996006e-01, 9.99999997e-07, 9.99999997e-07, 9.99999997e-07,\n",
       "         9.99999997e-07],\n",
       "        [9.99038517e-01, 1.81942669e-04, 1.86081888e-04, 1.85037803e-04,\n",
       "         4.08407650e-04]],\n",
       "\n",
       "       [[9.99996006e-01, 9.99999997e-07, 9.99999997e-07, 9.99999997e-07,\n",
       "         9.99999997e-07],\n",
       "        [1.19513526e-04, 9.99522924e-01, 1.23277903e-04, 1.15676194e-04,\n",
       "         1.18578835e-04],\n",
       "        [9.99999997e-07, 9.99996006e-01, 9.99999997e-07, 9.99999997e-07,\n",
       "         9.99999997e-07],\n",
       "        [9.99999997e-07, 9.99996006e-01, 9.99999997e-07, 9.99999997e-07,\n",
       "         9.99999997e-07],\n",
       "        [1.58640934e-04, 9.99158084e-01, 1.66137295e-04, 1.59894160e-04,\n",
       "         3.57232086e-04]],\n",
       "\n",
       "       [[9.99996006e-01, 9.99999997e-07, 9.99999997e-07, 9.99999997e-07,\n",
       "         9.99999997e-07],\n",
       "        [9.99999997e-07, 9.99996006e-01, 9.99999997e-07, 9.99999997e-07,\n",
       "         9.99999997e-07],\n",
       "        [3.57494777e-04, 9.91127610e-01, 7.61161279e-03, 3.56903241e-04,\n",
       "         5.46364812e-04],\n",
       "        [9.99999997e-07, 9.99996006e-01, 9.99999997e-07, 9.99999997e-07,\n",
       "         9.99999997e-07],\n",
       "        [3.69455665e-04, 9.82236624e-01, 1.70213508e-03, 7.22147059e-03,\n",
       "         8.47033970e-03]],\n",
       "\n",
       "       [[9.99996006e-01, 9.99999997e-07, 9.99999997e-07, 9.99999997e-07,\n",
       "         9.99999997e-07],\n",
       "        [9.99999997e-07, 9.99996006e-01, 9.99999997e-07, 9.99999997e-07,\n",
       "         9.99999997e-07],\n",
       "        [9.99999997e-07, 9.99996006e-01, 9.99999997e-07, 9.99999997e-07,\n",
       "         9.99999997e-07],\n",
       "        [1.00502826e-03, 9.57305491e-01, 1.05191639e-03, 3.78970504e-02,\n",
       "         2.74049188e-03],\n",
       "        [5.71024793e-05, 9.99021292e-01, 6.19388302e-05, 5.68854215e-04,\n",
       "         2.90838652e-04]],\n",
       "\n",
       "       [[9.99996006e-01, 9.99999997e-07, 9.99999997e-07, 9.99999997e-07,\n",
       "         9.99999997e-07],\n",
       "        [9.99999997e-07, 9.99996006e-01, 9.99999997e-07, 9.99999997e-07,\n",
       "         9.99999997e-07],\n",
       "        [9.99999997e-07, 9.99996006e-01, 9.99999997e-07, 9.99999997e-07,\n",
       "         9.99999997e-07],\n",
       "        [9.99999997e-07, 9.99996006e-01, 9.99999997e-07, 9.99999997e-07,\n",
       "         9.99999997e-07],\n",
       "        [5.59971028e-04, 8.23006034e-01, 5.88706171e-04, 6.35728647e-04,\n",
       "         1.75209552e-01]]], dtype=float32)"
      ]
     },
     "execution_count": 17,
     "metadata": {},
     "output_type": "execute_result"
    }
   ],
   "source": [
    "proba"
   ]
  },
  {
   "cell_type": "markdown",
   "metadata": {
    "collapsed": false
   },
   "source": [
    "In contrast, the constant baseline always fills in the `-1`s with zeros:"
   ]
  },
  {
   "cell_type": "code",
   "execution_count": 24,
   "metadata": {
    "colab": null,
    "colab_type": "code",
    "collapsed": false,
    "id": "d6xNjdbjiO2p"
   },
   "outputs": [
    {
     "data": {
      "text/plain": [
       "array([[0, 0, 0, 0, 0],\n",
       "       [0, 0, 1, 1, 0],\n",
       "       [0, 1, 0, 1, 0],\n",
       "       [0, 1, 1, 0, 0],\n",
       "       [0, 1, 1, 1, 0]])"
      ]
     },
     "execution_count": 24,
     "metadata": {},
     "output_type": "execute_result"
    }
   ],
   "source": [
    "ans = constant_baseline.fill_in_with_model([\n",
    "  [-1, 0, 0, 0, -1],\n",
    "  [0, -1, 1, 1, -1],\n",
    "  [0, 1, -1, 1, -1],\n",
    "  [0, 1, 1, -1, -1],\n",
    "  [0, 1, 1, 1, -1]]\n",
    ")[0]\n",
    "ans"
   ]
  },
  {
   "cell_type": "code",
   "execution_count": 25,
   "metadata": {
    "collapsed": false
   },
   "outputs": [
    {
     "data": {
      "text/plain": [
       "False"
      ]
     },
     "execution_count": 25,
     "metadata": {},
     "output_type": "execute_result"
    }
   ],
   "source": [
    "Magma(ans).is_associative"
   ]
  },
  {
   "cell_type": "code",
   "execution_count": null,
   "metadata": {
    "collapsed": false
   },
   "outputs": [],
   "source": []
  }
 ],
 "metadata": {
  "accelerator": "GPU",
  "colab": {
   "name": "Copy of Copy of train_a_model.ipynb",
   "provenance": {
    "file_id": [
     "https://github.com/inpefess/neural-semigroups/blob/master/examples/train_a_model.ipynb",
     "timestamp",
     1586104136544
    ]
   }
  },
  "kernelspec": {
   "argv": [
    "python",
    "-m",
    "ipykernel_launcher",
    "-f",
    "{connection_file}"
   ],
   "display_name": "Python 3",
   "env": null,
   "interrupt_mode": "signal",
   "language": "python",
   "metadata": null,
   "name": "python3"
  },
  "language_info": {
   "codemirror_mode": {
    "name": "ipython",
    "version": 3
   },
   "file_extension": ".py",
   "mimetype": "text/x-python",
   "name": "python",
   "nbconvert_exporter": "python",
   "pygments_lexer": "ipython3",
   "version": "3.6.9"
  },
  "name": "train_a_model.ipynb"
 },
 "nbformat": 4,
 "nbformat_minor": 1
}

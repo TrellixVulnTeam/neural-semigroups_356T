{
 "cells": [
  {
   "cell_type": "markdown",
   "metadata": {
    "collapsed": false
   },
   "source": [
    "```sh\n",
    "../venv/bin/python gen.py  9895598,01s user 369307,19s system 8222% cpu 34:40:36,41 total\n",
    "```\n",
    "\n",
    "135 CPUs used during 35 hours (82% of them on average) for solving one million tasks of creating a semigroup from three equations."
   ]
  },
  {
   "cell_type": "code",
   "execution_count": 8,
   "metadata": {
    "collapsed": false
   },
   "outputs": [],
   "source": [
    "# The results are stored in a SQLite database\n",
    "import sqlite3\n",
    "\n",
    "connection = sqlite3.connect(\"../gen/2020.11.14.db\")\n",
    "cursor = connection.cursor()"
   ]
  },
  {
   "cell_type": "code",
   "execution_count": 11,
   "metadata": {
    "collapsed": false
   },
   "outputs": [
    {
     "data": {
      "text/plain": [
       "(118.72766945555254,)"
      ]
     },
     "execution_count": 11,
     "metadata": {},
     "output_type": "execute_result"
    }
   ],
   "source": [
    "# total processing time in days (!)\n",
    "cursor.execute(\"\"\"\n",
    "SELECT SUM(running_time) / 3600 / 24\n",
    "FROM cayley\n",
    "WHERE running_time > 0\n",
    "\"\"\")\n",
    "cursor.fetchone()"
   ]
  },
  {
   "cell_type": "code",
   "execution_count": 10,
   "metadata": {
    "collapsed": false
   },
   "outputs": [
    {
     "name": "stdout",
     "output_type": "stream",
     "text": [
      "(38.04147261069881,)\n"
     ]
    }
   ],
   "source": [
    "# total time in hours spent processing problems which took less than 10 seconds\n",
    "cursor.execute(\"\"\"\n",
    "SELECT SUM(running_time) / 60 / 60\n",
    "FROM cayley\n",
    "WHERE\n",
    "    running_time > 0\n",
    "    AND running_time < 10\n",
    "\"\"\")\n",
    "print(\"\\n\".join(map(str, cursor.fetchall())))"
   ]
  },
  {
   "cell_type": "code",
   "execution_count": 13,
   "metadata": {
    "collapsed": false
   },
   "outputs": [
    {
     "name": "stdout",
     "output_type": "stream",
     "text": [
      "(-1, 169, -1.0, -1.0, -1.0)\n",
      "(0, 983242, 10.382265581610719, 0.01446676254272461, 68209.99442744255)\n",
      "(2, 16589, 3.0014507182863626, 0.012796401977539062, 2066.0901522636414)\n"
     ]
    }
   ],
   "source": [
    "# since we generated inputs randomly, sometimes we repeated ourselves (169 from one million)\n",
    "# solutions were found in more than 98% of all cases\n",
    "# finding solution was much harder than falsifying the problem\n",
    "cursor.execute(\"\"\"\n",
    "SELECT\n",
    "    mace4_code,\n",
    "    COUNT(*),\n",
    "    AVG(running_time),\n",
    "    MIN(running_time),\n",
    "    MAX(running_time)\n",
    "FROM cayley\n",
    "GROUP BY mace4_code\n",
    "\"\"\")\n",
    "print(\"\\n\".join(map(str, cursor.fetchall())))"
   ]
  },
  {
   "cell_type": "code",
   "execution_count": 14,
   "metadata": {
    "collapsed": false
   },
   "outputs": [],
   "source": [
    "connection.close()"
   ]
  },
  {
   "cell_type": "code",
   "execution_count": null,
   "metadata": {
    "collapsed": false
   },
   "outputs": [],
   "source": []
  }
 ],
 "metadata": {
  "kernelspec": {
   "argv": [
    "python",
    "-m",
    "ipykernel_launcher",
    "-f",
    "{connection_file}"
   ],
   "display_name": "Python 3",
   "env": null,
   "interrupt_mode": "signal",
   "language": "python",
   "metadata": null,
   "name": "python3"
  },
  "name": "reading_data.ipynb"
 },
 "nbformat": 4,
 "nbformat_minor": 4
}

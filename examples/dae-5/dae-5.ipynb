{
 "cells": [
  {
   "cell_type": "code",
   "execution_count": 1,
   "metadata": {
    "collapsed": false,
    "execution": {
     "iopub.execute_input": "2021-01-21T22:00:21.276583Z",
     "iopub.status.busy": "2021-01-21T22:00:21.275753Z",
     "iopub.status.idle": "2021-01-21T22:00:31.433292Z",
     "shell.execute_reply": "2021-01-21T22:00:31.432723Z"
    },
    "papermill": {
     "duration": 10.17627,
     "end_time": "2021-01-21T22:00:31.433428",
     "exception": false,
     "start_time": "2021-01-21T22:00:21.257158",
     "status": "completed"
    },
    "tags": []
   },
   "outputs": [
    {
     "name": "stdout",
     "output_type": "stream",
     "text": [
      "Collecting neural-semigroups\r\n",
      "  Downloading neural_semigroups-0.5.4-py3-none-any.whl (25 kB)\r\n",
      "Requirement already satisfied: tensorboard in /opt/conda/lib/python3.7/site-packages (from neural-semigroups) (2.4.0)\r\n",
      "Requirement already satisfied: torch in /opt/conda/lib/python3.7/site-packages (from neural-semigroups) (1.7.0)\r\n",
      "Requirement already satisfied: pytorch-ignite in /opt/conda/lib/python3.7/site-packages (from neural-semigroups) (0.4.2)\r\n",
      "Requirement already satisfied: tqdm in /opt/conda/lib/python3.7/site-packages (from neural-semigroups) (4.45.0)\r\n",
      "Requirement already satisfied: torch in /opt/conda/lib/python3.7/site-packages (from neural-semigroups) (1.7.0)\r\n",
      "Requirement already satisfied: markdown>=2.6.8 in /opt/conda/lib/python3.7/site-packages (from tensorboard->neural-semigroups) (3.2.1)\r\n",
      "Requirement already satisfied: numpy>=1.12.0 in /opt/conda/lib/python3.7/site-packages (from tensorboard->neural-semigroups) (1.18.5)\r\n",
      "Requirement already satisfied: werkzeug>=0.11.15 in /opt/conda/lib/python3.7/site-packages (from tensorboard->neural-semigroups) (1.0.1)\r\n",
      "Requirement already satisfied: google-auth<2,>=1.6.3 in /opt/conda/lib/python3.7/site-packages (from tensorboard->neural-semigroups) (1.23.0)\r\n",
      "Requirement already satisfied: grpcio>=1.24.3 in /opt/conda/lib/python3.7/site-packages (from tensorboard->neural-semigroups) (1.34.0)\r\n",
      "Requirement already satisfied: protobuf>=3.6.0 in /opt/conda/lib/python3.7/site-packages (from tensorboard->neural-semigroups) (3.14.0)\r\n",
      "Requirement already satisfied: tensorboard-plugin-wit>=1.6.0 in /opt/conda/lib/python3.7/site-packages (from tensorboard->neural-semigroups) (1.7.0)\r\n",
      "Requirement already satisfied: absl-py>=0.4 in /opt/conda/lib/python3.7/site-packages (from tensorboard->neural-semigroups) (0.10.0)\r\n",
      "Requirement already satisfied: requests<3,>=2.21.0 in /opt/conda/lib/python3.7/site-packages (from tensorboard->neural-semigroups) (2.23.0)\r\n",
      "Requirement already satisfied: google-auth-oauthlib<0.5,>=0.4.1 in /opt/conda/lib/python3.7/site-packages (from tensorboard->neural-semigroups) (0.4.1)\r\n",
      "Requirement already satisfied: setuptools>=41.0.0 in /opt/conda/lib/python3.7/site-packages (from tensorboard->neural-semigroups) (46.1.3.post20200325)\r\n",
      "Requirement already satisfied: six>=1.10.0 in /opt/conda/lib/python3.7/site-packages (from tensorboard->neural-semigroups) (1.14.0)\r\n",
      "Requirement already satisfied: wheel>=0.26 in /opt/conda/lib/python3.7/site-packages (from tensorboard->neural-semigroups) (0.34.2)\r\n",
      "Requirement already satisfied: six>=1.10.0 in /opt/conda/lib/python3.7/site-packages (from tensorboard->neural-semigroups) (1.14.0)\r\n",
      "Requirement already satisfied: pyasn1-modules>=0.2.1 in /opt/conda/lib/python3.7/site-packages (from google-auth<2,>=1.6.3->tensorboard->neural-semigroups) (0.2.7)\r\n",
      "Requirement already satisfied: cachetools<5.0,>=2.0.0 in /opt/conda/lib/python3.7/site-packages (from google-auth<2,>=1.6.3->tensorboard->neural-semigroups) (3.1.1)\r\n",
      "Requirement already satisfied: six>=1.10.0 in /opt/conda/lib/python3.7/site-packages (from tensorboard->neural-semigroups) (1.14.0)\r\n",
      "Requirement already satisfied: setuptools>=41.0.0 in /opt/conda/lib/python3.7/site-packages (from tensorboard->neural-semigroups) (46.1.3.post20200325)\r\n",
      "Requirement already satisfied: rsa<5,>=3.1.4 in /opt/conda/lib/python3.7/site-packages (from google-auth<2,>=1.6.3->tensorboard->neural-semigroups) (4.0)\r\n",
      "Requirement already satisfied: google-auth<2,>=1.6.3 in /opt/conda/lib/python3.7/site-packages (from tensorboard->neural-semigroups) (1.23.0)\r\n",
      "Requirement already satisfied: requests-oauthlib>=0.7.0 in /opt/conda/lib/python3.7/site-packages (from google-auth-oauthlib<0.5,>=0.4.1->tensorboard->neural-semigroups) (1.2.0)\r\n",
      "Requirement already satisfied: six>=1.10.0 in /opt/conda/lib/python3.7/site-packages (from tensorboard->neural-semigroups) (1.14.0)\r\n",
      "Requirement already satisfied: setuptools>=41.0.0 in /opt/conda/lib/python3.7/site-packages (from tensorboard->neural-semigroups) (46.1.3.post20200325)\r\n",
      "Requirement already satisfied: six>=1.10.0 in /opt/conda/lib/python3.7/site-packages (from tensorboard->neural-semigroups) (1.14.0)\r\n",
      "Requirement already satisfied: pyasn1<0.5.0,>=0.4.6 in /opt/conda/lib/python3.7/site-packages (from pyasn1-modules>=0.2.1->google-auth<2,>=1.6.3->tensorboard->neural-semigroups) (0.4.8)\r\n",
      "Requirement already satisfied: certifi>=2017.4.17 in /opt/conda/lib/python3.7/site-packages (from requests<3,>=2.21.0->tensorboard->neural-semigroups) (2020.12.5)\r\n",
      "Requirement already satisfied: chardet<4,>=3.0.2 in /opt/conda/lib/python3.7/site-packages (from requests<3,>=2.21.0->tensorboard->neural-semigroups) (3.0.4)\r\n",
      "Requirement already satisfied: urllib3!=1.25.0,!=1.25.1,<1.26,>=1.21.1 in /opt/conda/lib/python3.7/site-packages (from requests<3,>=2.21.0->tensorboard->neural-semigroups) (1.25.9)\r\n",
      "Requirement already satisfied: idna<3,>=2.5 in /opt/conda/lib/python3.7/site-packages (from requests<3,>=2.21.0->tensorboard->neural-semigroups) (2.9)\r\n",
      "Requirement already satisfied: requests<3,>=2.21.0 in /opt/conda/lib/python3.7/site-packages (from tensorboard->neural-semigroups) (2.23.0)\r\n",
      "Requirement already satisfied: oauthlib>=3.0.0 in /opt/conda/lib/python3.7/site-packages (from requests-oauthlib>=0.7.0->google-auth-oauthlib<0.5,>=0.4.1->tensorboard->neural-semigroups) (3.0.1)\r\n",
      "Requirement already satisfied: pyasn1<0.5.0,>=0.4.6 in /opt/conda/lib/python3.7/site-packages (from pyasn1-modules>=0.2.1->google-auth<2,>=1.6.3->tensorboard->neural-semigroups) (0.4.8)\r\n",
      "Requirement already satisfied: future in /opt/conda/lib/python3.7/site-packages (from torch->neural-semigroups) (0.18.2)\r\n",
      "Requirement already satisfied: typing_extensions in /opt/conda/lib/python3.7/site-packages (from torch->neural-semigroups) (3.7.4.1)\r\n",
      "Requirement already satisfied: dataclasses in /opt/conda/lib/python3.7/site-packages (from torch->neural-semigroups) (0.6)\r\n",
      "Requirement already satisfied: numpy>=1.12.0 in /opt/conda/lib/python3.7/site-packages (from tensorboard->neural-semigroups) (1.18.5)\r\n",
      "Installing collected packages: neural-semigroups\r\n",
      "Successfully installed neural-semigroups-0.5.4\r\n",
      "\u001b[33mWARNING: You are using pip version 20.3.1; however, version 20.3.3 is available.\r\n",
      "You should consider upgrading via the '/opt/conda/bin/python3.7 -m pip install --upgrade pip' command.\u001b[0m\r\n"
     ]
    }
   ],
   "source": [
    "!pip install neural-semigroups"
   ]
  },
  {
   "cell_type": "code",
   "execution_count": 2,
   "metadata": {
    "collapsed": false,
    "execution": {
     "iopub.execute_input": "2021-01-21T22:00:31.470503Z",
     "iopub.status.busy": "2021-01-21T22:00:31.469566Z",
     "iopub.status.idle": "2021-01-21T22:00:33.297949Z",
     "shell.execute_reply": "2021-01-21T22:00:33.296904Z"
    },
    "papermill": {
     "duration": 1.850085,
     "end_time": "2021-01-21T22:00:33.298113",
     "exception": false,
     "start_time": "2021-01-21T22:00:31.448028",
     "status": "completed"
    },
    "tags": []
   },
   "outputs": [],
   "source": [
    "from neural_semigroups import Magma\n",
    "from neural_semigroups.utils import hide_cells, partial_table_to_cube\n",
    "import torch\n",
    "\n",
    "cardinality = 5\n",
    "\n",
    "\n",
    "def transform(x):\n",
    "    if torch.randn((1, )).cpu().item() > 0.5:\n",
    "        new_y = Magma(x[0]).random_isomorphism()\n",
    "    else:\n",
    "        new_y = Magma(x[0]).random_isomorphism().T\n",
    "    new_x = partial_table_to_cube(\n",
    "        hide_cells(\n",
    "            new_y,\n",
    "            cardinality * cardinality - cardinality\n",
    "        )\n",
    "    )\n",
    "    return new_x,  partial_table_to_cube(new_y)"
   ]
  },
  {
   "cell_type": "code",
   "execution_count": 3,
   "metadata": {
    "collapsed": false,
    "execution": {
     "iopub.execute_input": "2021-01-21T22:00:33.330931Z",
     "iopub.status.busy": "2021-01-21T22:00:33.330257Z",
     "iopub.status.idle": "2021-01-21T22:00:33.430204Z",
     "shell.execute_reply": "2021-01-21T22:00:33.429610Z"
    },
    "papermill": {
     "duration": 0.118018,
     "end_time": "2021-01-21T22:00:33.430311",
     "exception": false,
     "start_time": "2021-01-21T22:00:33.312293",
     "status": "completed"
    },
    "tags": []
   },
   "outputs": [],
   "source": [
    "from neural_semigroups.smallsemi_dataset import Smallsemi\n",
    "data = Smallsemi(\n",
    "    root=\"/kaggle/input/smallsemi\",\n",
    "    cardinality=cardinality,\n",
    "    transform=transform\n",
    ")"
   ]
  },
  {
   "cell_type": "code",
   "execution_count": 4,
   "metadata": {
    "collapsed": false,
    "execution": {
     "iopub.execute_input": "2021-01-21T22:00:33.468231Z",
     "iopub.status.busy": "2021-01-21T22:00:33.467195Z",
     "iopub.status.idle": "2021-01-21T22:00:33.472118Z",
     "shell.execute_reply": "2021-01-21T22:00:33.471578Z"
    },
    "papermill": {
     "duration": 0.02767,
     "end_time": "2021-01-21T22:00:33.472229",
     "exception": false,
     "start_time": "2021-01-21T22:00:33.444559",
     "status": "completed"
    },
    "tags": []
   },
   "outputs": [
    {
     "name": "stdout",
     "output_type": "stream",
     "text": [
      "1160\n"
     ]
    }
   ],
   "source": [
    "from torch.utils.data.dataset import random_split\n",
    "from torch.utils.data import DataLoader\n",
    "\n",
    "data_size = len(data)\n",
    "print(data_size)\n",
    "test_size = len(data) // 3\n",
    "data_loaders = tuple(\n",
    "    DataLoader(data_split, batch_size=32)\n",
    "    for data_split\n",
    "    in random_split(data, [data_size - 2 * test_size, test_size, test_size])\n",
    ")"
   ]
  },
  {
   "cell_type": "code",
   "execution_count": 5,
   "metadata": {
    "collapsed": false,
    "execution": {
     "iopub.execute_input": "2021-01-21T22:00:33.507647Z",
     "iopub.status.busy": "2021-01-21T22:00:33.506827Z",
     "iopub.status.idle": "2021-01-21T22:00:33.509306Z",
     "shell.execute_reply": "2021-01-21T22:00:33.509909Z"
    },
    "papermill": {
     "duration": 0.02266,
     "end_time": "2021-01-21T22:00:33.510024",
     "exception": false,
     "start_time": "2021-01-21T22:00:33.487364",
     "status": "completed"
    },
    "tags": []
   },
   "outputs": [],
   "source": [
    "from neural_semigroups.associator_loss import AssociatorLoss\n",
    "from torch import Tensor\n",
    "\n",
    "def loss(prediction: Tensor, target: Tensor) -> Tensor:\n",
    "    return AssociatorLoss()(prediction)"
   ]
  },
  {
   "cell_type": "code",
   "execution_count": 6,
   "metadata": {
    "collapsed": false,
    "execution": {
     "iopub.execute_input": "2021-01-21T22:00:33.622409Z",
     "iopub.status.busy": "2021-01-21T22:00:33.621324Z",
     "iopub.status.idle": "2021-01-21T22:00:38.550435Z",
     "shell.execute_reply": "2021-01-21T22:00:38.549596Z"
    },
    "papermill": {
     "duration": 5.026158,
     "end_time": "2021-01-21T22:00:38.550557",
     "exception": false,
     "start_time": "2021-01-21T22:00:33.524399",
     "status": "completed"
    },
    "tags": []
   },
   "outputs": [],
   "source": [
    "from neural_semigroups import MagmaDAE\n",
    "\n",
    "dae = MagmaDAE(\n",
    "    cardinality=cardinality,\n",
    "    hidden_dims=2 * [cardinality ** 3]\n",
    ")"
   ]
  },
  {
   "cell_type": "code",
   "execution_count": 7,
   "metadata": {
    "collapsed": false,
    "execution": {
     "iopub.execute_input": "2021-01-21T22:00:38.584290Z",
     "iopub.status.busy": "2021-01-21T22:00:38.583535Z",
     "iopub.status.idle": "2021-01-21T22:00:38.614396Z",
     "shell.execute_reply": "2021-01-21T22:00:38.615105Z"
    },
    "papermill": {
     "duration": 0.050208,
     "end_time": "2021-01-21T22:00:38.615293",
     "exception": false,
     "start_time": "2021-01-21T22:00:38.565085",
     "status": "completed"
    },
    "tags": []
   },
   "outputs": [],
   "source": [
    "%load_ext tensorboard"
   ]
  },
  {
   "cell_type": "code",
   "execution_count": 8,
   "metadata": {
    "collapsed": false,
    "execution": {
     "iopub.execute_input": "2021-01-21T22:00:38.671631Z",
     "iopub.status.busy": "2021-01-21T22:00:38.670654Z",
     "iopub.status.idle": "2021-01-21T22:00:45.733452Z",
     "shell.execute_reply": "2021-01-21T22:00:45.732860Z"
    },
    "papermill": {
     "duration": 7.096871,
     "end_time": "2021-01-21T22:00:45.733588",
     "exception": false,
     "start_time": "2021-01-21T22:00:38.636717",
     "status": "completed"
    },
    "tags": []
   },
   "outputs": [
    {
     "data": {
      "text/html": [
       "\n",
       "      <iframe id=\"tensorboard-frame-3012ef884d4ae256\" width=\"100%\" height=\"800\" frameborder=\"0\">\n",
       "      </iframe>\n",
       "      <script>\n",
       "        (function() {\n",
       "          const frame = document.getElementById(\"tensorboard-frame-3012ef884d4ae256\");\n",
       "          const url = new URL(\"/\", window.location);\n",
       "          const port = 6006;\n",
       "          if (port) {\n",
       "            url.port = port;\n",
       "          }\n",
       "          frame.src = url;\n",
       "        })();\n",
       "      </script>\n",
       "    "
      ],
      "text/plain": [
       "<IPython.core.display.HTML object>"
      ]
     },
     "metadata": {},
     "output_type": "display_data"
    }
   ],
   "source": [
    "%tensorboard --logdir runs"
   ]
  },
  {
   "cell_type": "code",
   "execution_count": 9,
   "metadata": {
    "collapsed": false,
    "execution": {
     "iopub.execute_input": "2021-01-21T22:00:45.780819Z",
     "iopub.status.busy": "2021-01-21T22:00:45.769011Z",
     "iopub.status.idle": "2021-01-21T22:00:46.440826Z",
     "shell.execute_reply": "2021-01-21T22:00:46.439419Z"
    },
    "papermill": {
     "duration": 0.691937,
     "end_time": "2021-01-21T22:00:46.440950",
     "exception": false,
     "start_time": "2021-01-21T22:00:45.749013",
     "status": "completed"
    },
    "tags": []
   },
   "outputs": [],
   "source": [
    "!rm -rf runs"
   ]
  },
  {
   "cell_type": "code",
   "execution_count": 10,
   "metadata": {
    "collapsed": false,
    "execution": {
     "iopub.execute_input": "2021-01-21T22:00:46.479658Z",
     "iopub.status.busy": "2021-01-21T22:00:46.478911Z",
     "iopub.status.idle": "2021-01-21T22:17:36.732705Z",
     "shell.execute_reply": "2021-01-21T22:17:36.732051Z"
    },
    "papermill": {
     "duration": 1010.275724,
     "end_time": "2021-01-21T22:17:36.732847",
     "exception": false,
     "start_time": "2021-01-21T22:00:46.457123",
     "status": "completed"
    },
    "tags": []
   },
   "outputs": [
    {
     "data": {
      "application/vnd.jupyter.widget-view+json": {
       "model_id": "4fd1cd0ccadd4c8983c26774b14451d0",
       "version_major": 2,
       "version_minor": 0
      },
      "text/plain": [
       "HBox(children=(FloatProgress(value=0.0, max=1000.0), HTML(value='')))"
      ]
     },
     "metadata": {},
     "output_type": "display_data"
    }
   ],
   "source": [
    "from neural_semigroups.training_helpers import learning_pipeline\n",
    "from ignite.metrics.loss import Loss\n",
    "from neural_semigroups.training_helpers import associative_ratio, guessed_ratio\n",
    "\n",
    "params = {\"learning_rate\": 0.001, \"epochs\": 1000}\n",
    "metrics = {\n",
    "    \"loss\": Loss(loss),\n",
    "    \"associative_ratio\": Loss(associative_ratio),\n",
    "    \"guessed_ratio\": Loss(guessed_ratio)\n",
    "}\n",
    "learning_pipeline(params, dae, loss, metrics, data_loaders)"
   ]
  }
 ],
 "metadata": {
  "kernelspec": {
   "argv": [
    "python",
    "-m",
    "ipykernel_launcher",
    "-f",
    "{connection_file}"
   ],
   "display_name": "Python 3",
   "env": null,
   "interrupt_mode": "signal",
   "language": "python",
   "metadata": null,
   "name": "python3"
  },
  "language_info": {
   "codemirror_mode": {
    "name": "ipython",
    "version": 3
   },
   "file_extension": ".py",
   "mimetype": "text/x-python",
   "name": "python",
   "nbconvert_exporter": "python",
   "pygments_lexer": "ipython3",
   "version": "3.7.6"
  },
  "name": "dae-5.ipynb",
  "papermill": {
   "duration": 1041.038868,
   "end_time": "2021-01-21T22:17:38.082779",
   "environment_variables": null,
   "exception": null,
   "input_path": "__notebook__.ipynb",
   "output_path": "__notebook__.ipynb",
   "parameters": null,
   "start_time": "2021-01-21T22:00:17.043911",
   "version": "2.1.0"
  },
  "widgets": {
   "application/vnd.jupyter.widget-state+json": {
    "state": {
     "07f7e7e3e7384270a7b3a26457905415": {
      "model_module": "@jupyter-widgets/controls",
      "model_module_version": "1.5.0",
      "model_name": "DescriptionStyleModel",
      "state": {
       "_model_module": "@jupyter-widgets/controls",
       "_model_module_version": "1.5.0",
       "_model_name": "DescriptionStyleModel",
       "_view_count": null,
       "_view_module": "@jupyter-widgets/base",
       "_view_module_version": "1.2.0",
       "_view_name": "StyleView",
       "description_width": ""
      }
     },
     "083cf873d5894f8388bde89edbcf25c8": {
      "model_module": "@jupyter-widgets/base",
      "model_module_version": "1.2.0",
      "model_name": "LayoutModel",
      "state": {
       "_model_module": "@jupyter-widgets/base",
       "_model_module_version": "1.2.0",
       "_model_name": "LayoutModel",
       "_view_count": null,
       "_view_module": "@jupyter-widgets/base",
       "_view_module_version": "1.2.0",
       "_view_name": "LayoutView",
       "align_content": null,
       "align_items": null,
       "align_self": null,
       "border": null,
       "bottom": null,
       "display": null,
       "flex": null,
       "flex_flow": null,
       "grid_area": null,
       "grid_auto_columns": null,
       "grid_auto_flow": null,
       "grid_auto_rows": null,
       "grid_column": null,
       "grid_gap": null,
       "grid_row": null,
       "grid_template_areas": null,
       "grid_template_columns": null,
       "grid_template_rows": null,
       "height": null,
       "justify_content": null,
       "justify_items": null,
       "left": null,
       "margin": null,
       "max_height": null,
       "max_width": null,
       "min_height": null,
       "min_width": null,
       "object_fit": null,
       "object_position": null,
       "order": null,
       "overflow": null,
       "overflow_x": null,
       "overflow_y": null,
       "padding": null,
       "right": null,
       "top": null,
       "visibility": null,
       "width": null
      }
     },
     "3730621df9ef4097a537cfe000c10d8d": {
      "model_module": "@jupyter-widgets/controls",
      "model_module_version": "1.5.0",
      "model_name": "FloatProgressModel",
      "state": {
       "_dom_classes": [],
       "_model_module": "@jupyter-widgets/controls",
       "_model_module_version": "1.5.0",
       "_model_name": "FloatProgressModel",
       "_view_count": null,
       "_view_module": "@jupyter-widgets/controls",
       "_view_module_version": "1.5.0",
       "_view_name": "ProgressView",
       "bar_style": "",
       "description": "Epoch: [1000/1000] 100%",
       "description_tooltip": null,
       "layout": "IPY_MODEL_94ead329092b4280a418fb7cf523a839",
       "max": 1000.0,
       "min": 0.0,
       "orientation": "horizontal",
       "style": "IPY_MODEL_5cde9b912d794d2aac70fdec2fb8292c",
       "value": 1000.0
      }
     },
     "3aa0285899234f0d89dbd262d8dba920": {
      "model_module": "@jupyter-widgets/controls",
      "model_module_version": "1.5.0",
      "model_name": "HTMLModel",
      "state": {
       "_dom_classes": [],
       "_model_module": "@jupyter-widgets/controls",
       "_model_module_version": "1.5.0",
       "_model_name": "HTMLModel",
       "_view_count": null,
       "_view_module": "@jupyter-widgets/controls",
       "_view_module_version": "1.5.0",
       "_view_name": "HTMLView",
       "description": "",
       "description_tooltip": null,
       "layout": "IPY_MODEL_083cf873d5894f8388bde89edbcf25c8",
       "placeholder": "​",
       "style": "IPY_MODEL_07f7e7e3e7384270a7b3a26457905415",
       "value": ", output=5.87 [16:48&lt;00:00]"
      }
     },
     "4fd1cd0ccadd4c8983c26774b14451d0": {
      "model_module": "@jupyter-widgets/controls",
      "model_module_version": "1.5.0",
      "model_name": "HBoxModel",
      "state": {
       "_dom_classes": [],
       "_model_module": "@jupyter-widgets/controls",
       "_model_module_version": "1.5.0",
       "_model_name": "HBoxModel",
       "_view_count": null,
       "_view_module": "@jupyter-widgets/controls",
       "_view_module_version": "1.5.0",
       "_view_name": "HBoxView",
       "box_style": "",
       "children": [
        "IPY_MODEL_3730621df9ef4097a537cfe000c10d8d",
        "IPY_MODEL_3aa0285899234f0d89dbd262d8dba920"
       ],
       "layout": "IPY_MODEL_9594bff3b09445339b4df26110f92810"
      }
     },
     "5cde9b912d794d2aac70fdec2fb8292c": {
      "model_module": "@jupyter-widgets/controls",
      "model_module_version": "1.5.0",
      "model_name": "ProgressStyleModel",
      "state": {
       "_model_module": "@jupyter-widgets/controls",
       "_model_module_version": "1.5.0",
       "_model_name": "ProgressStyleModel",
       "_view_count": null,
       "_view_module": "@jupyter-widgets/base",
       "_view_module_version": "1.2.0",
       "_view_name": "StyleView",
       "bar_color": null,
       "description_width": "initial"
      }
     },
     "94ead329092b4280a418fb7cf523a839": {
      "model_module": "@jupyter-widgets/base",
      "model_module_version": "1.2.0",
      "model_name": "LayoutModel",
      "state": {
       "_model_module": "@jupyter-widgets/base",
       "_model_module_version": "1.2.0",
       "_model_name": "LayoutModel",
       "_view_count": null,
       "_view_module": "@jupyter-widgets/base",
       "_view_module_version": "1.2.0",
       "_view_name": "LayoutView",
       "align_content": null,
       "align_items": null,
       "align_self": null,
       "border": null,
       "bottom": null,
       "display": null,
       "flex": null,
       "flex_flow": null,
       "grid_area": null,
       "grid_auto_columns": null,
       "grid_auto_flow": null,
       "grid_auto_rows": null,
       "grid_column": null,
       "grid_gap": null,
       "grid_row": null,
       "grid_template_areas": null,
       "grid_template_columns": null,
       "grid_template_rows": null,
       "height": null,
       "justify_content": null,
       "justify_items": null,
       "left": null,
       "margin": null,
       "max_height": null,
       "max_width": null,
       "min_height": null,
       "min_width": null,
       "object_fit": null,
       "object_position": null,
       "order": null,
       "overflow": null,
       "overflow_x": null,
       "overflow_y": null,
       "padding": null,
       "right": null,
       "top": null,
       "visibility": null,
       "width": null
      }
     },
     "9594bff3b09445339b4df26110f92810": {
      "model_module": "@jupyter-widgets/base",
      "model_module_version": "1.2.0",
      "model_name": "LayoutModel",
      "state": {
       "_model_module": "@jupyter-widgets/base",
       "_model_module_version": "1.2.0",
       "_model_name": "LayoutModel",
       "_view_count": null,
       "_view_module": "@jupyter-widgets/base",
       "_view_module_version": "1.2.0",
       "_view_name": "LayoutView",
       "align_content": null,
       "align_items": null,
       "align_self": null,
       "border": null,
       "bottom": null,
       "display": null,
       "flex": null,
       "flex_flow": null,
       "grid_area": null,
       "grid_auto_columns": null,
       "grid_auto_flow": null,
       "grid_auto_rows": null,
       "grid_column": null,
       "grid_gap": null,
       "grid_row": null,
       "grid_template_areas": null,
       "grid_template_columns": null,
       "grid_template_rows": null,
       "height": null,
       "justify_content": null,
       "justify_items": null,
       "left": null,
       "margin": null,
       "max_height": null,
       "max_width": null,
       "min_height": null,
       "min_width": null,
       "object_fit": null,
       "object_position": null,
       "order": null,
       "overflow": null,
       "overflow_x": null,
       "overflow_y": null,
       "padding": null,
       "right": null,
       "top": null,
       "visibility": null,
       "width": null
      }
     }
    },
    "version_major": 2,
    "version_minor": 0
   }
  }
 },
 "nbformat": 4,
 "nbformat_minor": 4
}
